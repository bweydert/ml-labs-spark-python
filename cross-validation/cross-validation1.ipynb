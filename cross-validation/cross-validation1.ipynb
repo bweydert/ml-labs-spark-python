{
 "cells": [
  {
   "cell_type": "markdown",
   "metadata": {},
   "source": [
    "# Cross Validation & Hyper Parameter Tuning\n",
    "\n",
    "### Overview\n",
    "Choose the best model by tuning parameters\n",
    " \n",
    "### Builds on\n",
    "None\n",
    "\n",
    "### Run time\n",
    "approx. 10-20 minutes\n",
    "\n",
    "### Notes\n",
    "\n"
   ]
  },
  {
   "cell_type": "code",
   "execution_count": null,
   "metadata": {},
   "outputs": [],
   "source": [
    "# initialize Spark Session\n",
    "import os\n",
    "import sys\n",
    "top_dir = os.path.abspath(os.path.join(os.getcwd(), \"../\"))\n",
    "if top_dir not in sys.path:\n",
    "    sys.path.append(top_dir)\n",
    "\n",
    "from init_spark import init_spark\n",
    "spark = init_spark()\n",
    "spark"
   ]
  },
  {
   "cell_type": "markdown",
   "metadata": {},
   "source": [
    "\n",
    "## Step 1: Perform Logistic Regression"
   ]
  },
  {
   "cell_type": "code",
   "execution_count": null,
   "metadata": {},
   "outputs": [],
   "source": [
    "admissions = spark.read.csv(\"/data/college-admissions/admission-data.csv\",\\\n",
    "                            header=True, inferSchema=True)\n",
    "\n",
    "from pyspark.ml.feature import VectorAssembler\n",
    "\n",
    "assembler = VectorAssembler(inputCols=[\"gpa\", \"gre\",\"rank\"], outputCol=\"features\")\n",
    "featureVector = assembler.transform(admissions)\n",
    "featureVector = featureVector.withColumn(\"label\",featureVector[\"admit\"])\n",
    "\n",
    "(train, test) = featureVector.randomSplit([0.7,  0.3])\n",
    "\n",
    "\n",
    "from pyspark.ml.classification import LogisticRegression\n",
    "\n",
    "lr = LogisticRegression(maxIter=100, regParam=0.3, elasticNetParam=0.8)\n",
    "\n",
    "lrModel = lr.fit(train)\n",
    "\n",
    "# Print the coefficients and intercept for logistic regression\n",
    "print(\"Coefficients: \" + str(lrModel.coefficients))\n",
    "print(\"Intercept: \" + str(lrModel.intercept))"
   ]
  },
  {
   "cell_type": "markdown",
   "metadata": {},
   "source": [
    "### Evaluate"
   ]
  },
  {
   "cell_type": "code",
   "execution_count": null,
   "metadata": {},
   "outputs": [],
   "source": [
    "trainingSummary = lrModel.summary\n",
    "\n",
    "predictions_test = lrModel.transform(test)\n",
    "predictions_train = lrModel.transform(train)\n",
    "\n",
    "# we can also get this from trainingSummary\n",
    "# predictions_train = lrModel.summary.predictions"
   ]
  },
  {
   "cell_type": "code",
   "execution_count": null,
   "metadata": {},
   "outputs": [],
   "source": [
    "from pyspark.ml.evaluation import MulticlassClassificationEvaluator\n",
    "\n",
    "evaluator = MulticlassClassificationEvaluator(labelCol=\"label\", predictionCol=\"prediction\",\n",
    "                                              metricName=\"accuracy\")\n",
    "\n",
    "print(\"Training set accuracy = \" , evaluator.evaluate(predictions_train))\n",
    "print(\"Test set accuracy = \" , evaluator.evaluate(predictions_test))"
   ]
  },
  {
   "cell_type": "code",
   "execution_count": null,
   "metadata": {},
   "outputs": [],
   "source": [
    "## Confusion Matrix\n",
    "cm = predictions_test.groupBy('admit').pivot('prediction').count().na.fill(0).orderBy('admit')\n",
    "cm.show()"
   ]
  },
  {
   "cell_type": "markdown",
   "metadata": {},
   "source": [
    "## 2 - Hyper Tuning"
   ]
  },
  {
   "cell_type": "markdown",
   "metadata": {},
   "source": [
    "### 2.1 - Explain Parameters to the model"
   ]
  },
  {
   "cell_type": "code",
   "execution_count": null,
   "metadata": {},
   "outputs": [],
   "source": [
    "print(lr.explainParams())"
   ]
  },
  {
   "cell_type": "markdown",
   "metadata": {},
   "source": [
    "### 2.2 - Create grid search & Cross validator"
   ]
  },
  {
   "cell_type": "code",
   "execution_count": null,
   "metadata": {},
   "outputs": [],
   "source": [
    "from pyspark.ml.tuning import ParamGridBuilder, CrossValidator\n",
    "from pyspark.ml.evaluation import MulticlassClassificationEvaluator, BinaryClassificationEvaluator\n",
    "\n",
    "evaluator = MulticlassClassificationEvaluator(labelCol=\"label\", predictionCol=\"prediction\",\n",
    "                                              metricName=\"accuracy\")\n",
    "\n",
    "## TODO : Experiment with one of the following evaluators\n",
    "\n",
    "## MulticlassClassificationEvaluator is a good all purpose evaluator\n",
    "# evaluator = MulticlassClassificationEvaluator(labelCol=\"label\", predictionCol=\"prediction\",\n",
    "#                                               metricName=\"accuracy\")\n",
    "\n",
    "## AUC\n",
    "evaluator = BinaryClassificationEvaluator (metricName='areaUnderROC')\n",
    "\n",
    "## AreaUnderPR - useful for skewed datasets\n",
    "# evaluator = BinaryClassificationEvaluator(metricName='areaUnderPR')\n",
    "\n",
    "# Create ParamGrid for Cross Validation\n",
    "## TODO 1 - fill in 'regParam' values we want to test  (min 0.0)\n",
    "## TODO 2 - fill in 'elasticNetParam' we want to test (values  between 0.0 to 1.0)\n",
    "## TODO 3 - fill in 'maxIter' values we want to test (10, 50, 100)\n",
    "paramGrid = (ParamGridBuilder()\n",
    "             .addGrid(lrModel.regParam, [0.0, 0.01, 0.1, ???, ???, 2.0])\n",
    "             .addGrid(lrModel.elasticNetParam, [0.0, ???, 1.0])\n",
    "             .addGrid(lrModel.maxIter, [10, ???, 100])\n",
    "             .build())\n",
    "\n",
    "# TODO : Create 5-fold CrossValidator\n",
    "## Hint : numFolds=5\n",
    "cv = CrossValidator(estimator=lr, estimatorParamMaps=paramGrid, evaluator=evaluator, numFolds=???)"
   ]
  },
  {
   "cell_type": "code",
   "execution_count": null,
   "metadata": {},
   "outputs": [],
   "source": [
    "%%time\n",
    "\n",
    "## TODO : Run cross validation on training data\n",
    "## Hint : 'train'\n",
    "print(\"cross validation starting ...\")\n",
    "cvModel = cv.fit(???)\n",
    "print(\"cross validation done.\")"
   ]
  },
  {
   "cell_type": "code",
   "execution_count": null,
   "metadata": {},
   "outputs": [],
   "source": [
    "## TODO : Identify the values for the following hyper parameters that cross validation figured out\n",
    "##     - regParam\n",
    "##     - elasticNetParam\n",
    "##     - maxIter\n",
    "## Hint : look at the output of 'explainParams'\n",
    "\n",
    "bestModel = cvModel.bestModel\n",
    "print(\"Best model : \", bestModel)\n",
    "print(\"Coefficients: \" + str(bestModel.coefficients))\n",
    "print(\"Intercept: \" + str(bestModel.intercept))\n",
    "print ()\n",
    "print(\"Best model params : \\n\", bestModel.explainParams())"
   ]
  },
  {
   "cell_type": "markdown",
   "metadata": {},
   "source": [
    "### 2.3 - Evaluate"
   ]
  },
  {
   "cell_type": "code",
   "execution_count": null,
   "metadata": {},
   "outputs": [],
   "source": [
    "predictions_cv_test = cvModel.transform(test)\n",
    "predictions_cv_train = cvModel.transform(train)"
   ]
  },
  {
   "cell_type": "code",
   "execution_count": null,
   "metadata": {},
   "outputs": [],
   "source": [
    "## TODO : calculate training & testing accuracy\n",
    "\n",
    "print (\"Training accuracy for cross validated model : \", evaluator.evaluate(predictions_cv_???)) # Hint : train\n",
    "\n",
    "print (\"Test accuracy for cross validated model : \", evaluator.evaluate(predictions_cv_???))  # Hint : test"
   ]
  },
  {
   "cell_type": "code",
   "execution_count": null,
   "metadata": {},
   "outputs": [],
   "source": [
    "## TODO : Inspect the confusion matrix output\n",
    "## does this CM look better than previous CM?\n",
    "\n",
    "cm = predictions_cv_test.groupBy('admit').pivot('prediction').count().na.fill(0).orderBy('admit')\n",
    "cm.show()"
   ]
  },
  {
   "cell_type": "code",
   "execution_count": null,
   "metadata": {},
   "outputs": [],
   "source": []
  }
 ],
 "metadata": {
  "kernelspec": {
   "display_name": "Python 3",
   "language": "python",
   "name": "python3"
  },
  "language_info": {
   "codemirror_mode": {
    "name": "ipython",
    "version": 3
   },
   "file_extension": ".py",
   "mimetype": "text/x-python",
   "name": "python",
   "nbconvert_exporter": "python",
   "pygments_lexer": "ipython3",
   "version": "3.6.6"
  }
 },
 "nbformat": 4,
 "nbformat_minor": 2
}
