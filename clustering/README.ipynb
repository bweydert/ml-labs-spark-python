{
 "cells": [
  {
   "cell_type": "markdown",
   "metadata": {},
   "source": [
    "<link rel='stylesheet' href='assets/css/main.css'/>\n",
    "\n",
    "[<< back to main index](../README.md)\n",
    "\n",
    "# Machine Learning With Spark: Clusterings\n",
    "\n",
    "## Intro\n",
    "\n",
    "These labs explore clustering\n",
    "\n",
    "## Labs\n",
    " * 1. Kmeans: MTCars - [Jupyter Notebook](1-kmeans-college.ipynb)\n",
    " * 2. Kmeans: Walmart - [Jupyter Notebook](1-kmeans-walmart.ipynb)\n",
    "\n",
    "\n",
    "[<< back to main index](../README.md)"
   ]
  }
 ],
 "metadata": {},
 "nbformat": 4,
 "nbformat_minor": 0
}
