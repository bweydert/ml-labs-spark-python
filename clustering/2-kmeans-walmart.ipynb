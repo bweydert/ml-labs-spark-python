{
 "cells": [
  {
   "cell_type": "markdown",
   "metadata": {},
   "source": [
    "# Spark MLLilb Example: Clustering\n",
    "\n",
    "Let's look at a clustering example in Spark MLLib.\n",
    "\n",
    "Here, we are going to load the mtcars dataset. This has some stats on different models of cars.  Here, we will load the CSV file as a spark dataframe, and view it."
   ]
  },
  {
   "cell_type": "code",
   "execution_count": 46,
   "metadata": {
    "collapsed": true
   },
   "outputs": [],
   "source": [
    "%matplotlib inline\n",
    "from pyspark.ml.feature import VectorAssembler\n",
    "from pyspark.ml.clustering import KMeans\n",
    "\n"
   ]
  },
  {
   "cell_type": "code",
   "execution_count": 1,
   "metadata": {
    "collapsed": true
   },
   "outputs": [],
   "source": [
    "dataset = spark.read.csv(\"../../datasets/walmart-triptype/train-transformed.csv.gz\", header=True, inferSchema=True)\n"
   ]
  },
  {
   "cell_type": "code",
   "execution_count": 2,
   "metadata": {
    "scrolled": true
   },
   "outputs": [
    {
     "name": "stdout",
     "output_type": "stream",
     "text": [
      "+-----------+--------+-------+--------+------+----------+-----------+----------+------+---------------+------+-------+-------------------+---------+----------------+--------------------+-----------------------+-----------+----------+--------------+-------------+-----+-----------+-----------+------------------+------------------+------------+---------+--------------------------+-----------------+--------+----------------------+----------+---------------+-----------------------+------------------------+---------------------+-------------------+--------------+---------------------------+----------------------+------------+----------+---------------------+---------------+----------------+---------------------+----------------+--------+---------------+----------------+----------------+-----------------+---------------------+-------------+-----------------+------------+-----------+-----------------------+------------------+---------------+-------+-------+--------+------------+-------------+-----+---------------------+--------------+------------------+----+--------+\n",
      "|VisitNumber|TripType|Weekday|NumItems|Return|1-HR PHOTO|ACCESSORIES|AUTOMOTIVE|BAKERY|BATH AND SHOWER|BEAUTY|BEDDING|BOOKS AND MAGAZINES|BOYS WEAR|BRAS & SHAPEWEAR|CAMERAS AND SUPPLIES|CANDY, TOBACCO, COOKIES|CELEBRATION|COMM BREAD|CONCEPT STORES|COOK AND DINE|DAIRY|DSD GROCERY|ELECTRONICS|FABRICS AND CRAFTS|FINANCIAL SERVICES|FROZEN FOODS|FURNITURE|GIRLS WEAR, 4-6X  AND 7-14|GROCERY DRY GOODS|HARDWARE|HEALTH AND BEAUTY AIDS|HOME DECOR|HOME MANAGEMENT|HORTICULTURE AND ACCESS|HOUSEHOLD CHEMICALS/SUPP|HOUSEHOLD PAPER GOODS|IMPULSE MERCHANDISE|INFANT APPAREL|INFANT CONSUMABLE HARDLINES|JEWELRY AND SUNGLASSES|LADIES SOCKS|LADIESWEAR|LARGE HOUSEHOLD GOODS|LAWN AND GARDEN|LIQUOR,WINE,BEER|MEAT - FRESH & FROZEN|MEDIA AND GAMING|MENSWEAR|OFFICE SUPPLIES|OPTICAL - FRAMES|OPTICAL - LENSES|OTHER DEPARTMENTS|PAINT AND ACCESSORIES|PERSONAL CARE|PETS AND SUPPLIES|PHARMACY OTC|PHARMACY RX|PLAYERS AND ELECTRONICS|PLUS AND MATERNITY|PRE PACKED DELI|PRODUCE|SEAFOOD|SEASONAL|SERVICE DELI|SHEER HOSIERY|SHOES|SLEEPWEAR/FOUNDATIONS|SPORTING GOODS|SWIMWEAR/OUTERWEAR|TOYS|WIRELESS|\n",
      "+-----------+--------+-------+--------+------+----------+-----------+----------+------+---------------+------+-------+-------------------+---------+----------------+--------------------+-----------------------+-----------+----------+--------------+-------------+-----+-----------+-----------+------------------+------------------+------------+---------+--------------------------+-----------------+--------+----------------------+----------+---------------+-----------------------+------------------------+---------------------+-------------------+--------------+---------------------------+----------------------+------------+----------+---------------------+---------------+----------------+---------------------+----------------+--------+---------------+----------------+----------------+-----------------+---------------------+-------------+-----------------+------------+-----------+-----------------------+------------------+---------------+-------+-------+--------+------------+-------------+-----+---------------------+--------------+------------------+----+--------+\n",
      "|          5|     999|      5|      -1|   1.0|       0.0|        0.0|       0.0|   0.0|            0.0|   0.0|    0.0|                0.0|      0.0|             0.0|                 0.0|                    0.0|        0.0|       0.0|           0.0|          0.0|  0.0|        0.0|        0.0|               0.0|              -1.0|         0.0|      0.0|                       0.0|              0.0|     0.0|                   0.0|       0.0|            0.0|                    0.0|                     0.0|                  0.0|                0.0|           0.0|                        0.0|                   0.0|         0.0|       0.0|                  0.0|            0.0|             0.0|                  0.0|             0.0|     0.0|            0.0|             0.0|             0.0|              0.0|                  0.0|          0.0|              0.0|         0.0|        0.0|                    0.0|               0.0|            0.0|    0.0|    0.0|     0.0|         0.0|          0.0|  0.0|                  0.0|           0.0|               0.0| 0.0|     0.0|\n",
      "|          7|      30|      5|       2|   0.0|       0.0|        0.0|       0.0|   0.0|            0.0|   0.0|    0.0|                0.0|      0.0|             0.0|                 0.0|                    0.0|        0.0|       0.0|           0.0|          0.0|  0.0|        0.0|        0.0|               0.0|               0.0|         0.0|      0.0|                       0.0|              0.0|     0.0|                   0.0|       0.0|            0.0|                    0.0|                     0.0|                  0.0|                0.0|           0.0|                        0.0|                   0.0|         0.0|       0.0|                  0.0|            0.0|             0.0|                  0.0|             0.0|     0.0|            0.0|             0.0|             0.0|              0.0|                  0.0|          1.0|              0.0|         0.0|        0.0|                    0.0|               0.0|            0.0|    0.0|    0.0|     0.0|         0.0|          0.0|  1.0|                  0.0|           0.0|               0.0| 0.0|     0.0|\n",
      "|          8|      26|      5|      28|   1.0|       0.0|        0.0|       0.0|   0.0|            0.0|   0.0|    0.0|                0.0|      0.0|             0.0|                 0.0|                    0.0|        0.0|       0.0|           0.0|          0.0|  2.0|        1.0|        0.0|               0.0|               0.0|         0.0|      0.0|                       0.0|              0.0|     0.0|                   0.0|       0.0|            0.0|                    0.0|                     1.0|                  0.0|                0.0|           0.0|                        0.0|                   0.0|         0.0|       0.0|                  0.0|            0.0|             0.0|                  1.0|             0.0|     0.0|            0.0|             0.0|             0.0|              0.0|                 18.0|          0.0|              4.0|         0.0|        0.0|                    0.0|               0.0|            0.0|    0.0|    0.0|     0.0|         0.0|          0.0|  0.0|                  0.0|           0.0|               0.0| 0.0|     0.0|\n",
      "|          9|       8|      5|       3|   0.0|       0.0|        0.0|       0.0|   0.0|            0.0|   0.0|    0.0|                0.0|      0.0|             0.0|                 0.0|                    0.0|        0.0|       0.0|           0.0|          0.0|  0.0|        0.0|        0.0|               0.0|               0.0|         0.0|      0.0|                       0.0|              0.0|     0.0|                   0.0|       0.0|            0.0|                    0.0|                     0.0|                  0.0|                1.0|           0.0|                        0.0|                   0.0|         0.0|       0.0|                  0.0|            0.0|             0.0|                  0.0|             0.0|     0.0|            0.0|             0.0|             0.0|              0.0|                  0.0|          0.0|              0.0|         0.0|        0.0|                    0.0|               0.0|            0.0|    2.0|    0.0|     0.0|         0.0|          0.0|  0.0|                  0.0|           0.0|               0.0| 0.0|     0.0|\n",
      "|         10|       8|      5|       3|   0.0|       0.0|        0.0|       0.0|   0.0|            0.0|   0.0|    0.0|                0.0|      0.0|             0.0|                 0.0|                    1.0|        0.0|       0.0|           0.0|          0.0|  0.0|        2.0|        0.0|               0.0|               0.0|         0.0|      0.0|                       0.0|              0.0|     0.0|                   0.0|       0.0|            0.0|                    0.0|                     0.0|                  0.0|                0.0|           0.0|                        0.0|                   0.0|         0.0|       0.0|                  0.0|            0.0|             0.0|                  0.0|             0.0|     0.0|            0.0|             0.0|             0.0|              0.0|                  0.0|          0.0|              0.0|         0.0|        0.0|                    0.0|               0.0|            0.0|    0.0|    0.0|     0.0|         0.0|          0.0|  0.0|                  0.0|           0.0|               0.0| 0.0|     0.0|\n",
      "|         11|      35|      5|       4|   0.0|       0.0|        0.0|       0.0|   0.0|            0.0|   0.0|    0.0|                0.0|      0.0|             0.0|                 0.0|                    0.0|        0.0|       0.0|           0.0|          0.0|  0.0|        1.0|        0.0|               0.0|               0.0|         0.0|      0.0|                       0.0|              1.0|     0.0|                   0.0|       0.0|            0.0|                    0.0|                     0.0|                  0.0|                2.0|           0.0|                        0.0|                   0.0|         0.0|       0.0|                  0.0|            0.0|             0.0|                  0.0|             0.0|     0.0|            0.0|             0.0|             0.0|              0.0|                  0.0|          0.0|              0.0|         0.0|        0.0|                    0.0|               0.0|            0.0|    0.0|    0.0|     0.0|         0.0|          0.0|  0.0|                  0.0|           0.0|               0.0| 0.0|     0.0|\n",
      "|         12|      41|      5|       7|   0.0|       0.0|        0.0|       0.0|   0.0|            0.0|   0.0|    0.0|                0.0|      2.0|             0.0|                 0.0|                    0.0|        0.0|       0.0|           0.0|          0.0|  0.0|        0.0|        0.0|               0.0|               0.0|         0.0|      0.0|                       0.0|              0.0|     0.0|                   0.0|       0.0|            0.0|                    0.0|                     2.0|                  0.0|                0.0|           0.0|                        0.0|                   0.0|         0.0|       0.0|                  0.0|            0.0|             0.0|                  0.0|             0.0|     0.0|            0.0|             0.0|             0.0|              0.0|                  0.0|          2.0|              0.0|         0.0|        0.0|                    0.0|               0.0|            0.0|    0.0|    0.0|     0.0|         0.0|          0.0|  1.0|                  0.0|           0.0|               0.0| 0.0|     0.0|\n",
      "|         15|      21|      5|       9|   0.0|       0.0|        0.0|       0.0|   0.0|            0.0|   0.0|    0.0|                0.0|      0.0|             0.0|                 0.0|                    0.0|        0.0|       0.0|           0.0|          0.0|  0.0|        0.0|        0.0|               9.0|               0.0|         0.0|      0.0|                       0.0|              0.0|     0.0|                   0.0|       0.0|            0.0|                    0.0|                     0.0|                  0.0|                0.0|           0.0|                        0.0|                   0.0|         0.0|       0.0|                  0.0|            0.0|             0.0|                  0.0|             0.0|     0.0|            0.0|             0.0|             0.0|              0.0|                  0.0|          0.0|              0.0|         0.0|        0.0|                    0.0|               0.0|            0.0|    0.0|    0.0|     0.0|         0.0|          0.0|  0.0|                  0.0|           0.0|               0.0| 0.0|     0.0|\n",
      "|         17|       6|      5|       4|   0.0|       0.0|        0.0|       0.0|   0.0|            0.0|   0.0|    0.0|                0.0|      0.0|             0.0|                 0.0|                    2.0|        0.0|       0.0|           0.0|          0.0|  0.0|        2.0|        0.0|               0.0|               0.0|         0.0|      0.0|                       0.0|              0.0|     0.0|                   0.0|       0.0|            0.0|                    0.0|                     0.0|                  0.0|                0.0|           0.0|                        0.0|                   0.0|         0.0|       0.0|                  0.0|            0.0|             0.0|                  0.0|             0.0|     0.0|            0.0|             0.0|             0.0|              0.0|                  0.0|          0.0|              0.0|         0.0|        0.0|                    0.0|               0.0|            0.0|    0.0|    0.0|     0.0|         0.0|          0.0|  0.0|                  0.0|           0.0|               0.0| 0.0|     0.0|\n",
      "|         19|      42|      5|       9|   0.0|       0.0|        1.0|       0.0|   0.0|            0.0|   0.0|    0.0|                0.0|      0.0|             0.0|                 0.0|                    0.0|        0.0|       0.0|           0.0|          0.0|  0.0|        0.0|        0.0|               1.0|               0.0|         0.0|      0.0|                       0.0|              0.0|     0.0|                   0.0|       0.0|            1.0|                    0.0|                     0.0|                  0.0|                2.0|           0.0|                        0.0|                   1.0|         0.0|       0.0|                  0.0|            0.0|             0.0|                  0.0|             0.0|     3.0|            0.0|             0.0|             0.0|              0.0|                  0.0|          0.0|              0.0|         0.0|        0.0|                    0.0|               0.0|            0.0|    0.0|    0.0|     0.0|         0.0|          0.0|  0.0|                  0.0|           0.0|               0.0| 0.0|     0.0|\n",
      "|         20|       7|      5|       3|   0.0|       0.0|        0.0|       0.0|   0.0|            0.0|   0.0|    0.0|                0.0|      0.0|             0.0|                 0.0|                    0.0|        0.0|       0.0|           0.0|          0.0|  0.0|        0.0|        0.0|               0.0|               0.0|         1.0|      0.0|                       0.0|              0.0|     0.0|                   0.0|       0.0|            0.0|                    0.0|                     0.0|                  0.0|                0.0|           0.0|                        0.0|                   0.0|         0.0|       0.0|                  0.0|            0.0|             0.0|                  0.0|             0.0|     0.0|            0.0|             0.0|             0.0|              0.0|                  0.0|          0.0|              0.0|         0.0|        0.0|                    0.0|               0.0|            0.0|    0.0|    0.0|     0.0|         2.0|          0.0|  0.0|                  0.0|           0.0|               0.0| 0.0|     0.0|\n",
      "|         23|       9|      5|       2|   0.0|       0.0|        0.0|       0.0|   0.0|            0.0|   0.0|    0.0|                0.0|      0.0|             0.0|                 0.0|                    0.0|        0.0|       0.0|           0.0|          0.0|  0.0|        0.0|        0.0|               0.0|               0.0|         0.0|      0.0|                       0.0|              0.0|     0.0|                   0.0|       0.0|            1.0|                    0.0|                     0.0|                  0.0|                0.0|           0.0|                        0.0|                   0.0|         0.0|       0.0|                  0.0|            0.0|             0.0|                  0.0|             0.0|     0.0|            0.0|             0.0|             0.0|              0.0|                  0.0|          0.0|              0.0|         0.0|        0.0|                    0.0|               0.0|            0.0|    1.0|    0.0|     0.0|         0.0|          0.0|  0.0|                  0.0|           0.0|               0.0| 0.0|     0.0|\n",
      "|         25|       8|      5|       3|   0.0|       0.0|        0.0|       0.0|   0.0|            0.0|   0.0|    0.0|                0.0|      0.0|             0.0|                 0.0|                    0.0|        0.0|       0.0|           0.0|          0.0|  0.0|        0.0|        0.0|               0.0|               0.0|         0.0|      0.0|                       0.0|              0.0|     0.0|                   0.0|       0.0|            0.0|                    0.0|                     0.0|                  0.0|                0.0|           0.0|                        2.0|                   0.0|         0.0|       0.0|                  0.0|            0.0|             0.0|                  0.0|             0.0|     0.0|            0.0|             0.0|             0.0|              0.0|                  0.0|          0.0|              0.0|         0.0|        0.0|                    0.0|               0.0|            1.0|    0.0|    0.0|     0.0|         0.0|          0.0|  0.0|                  0.0|           0.0|               0.0| 0.0|     0.0|\n",
      "|         26|      39|      5|      12|   0.0|       0.0|        0.0|       0.0|   0.0|            0.0|   0.0|    0.0|                0.0|      0.0|             0.0|                 0.0|                    0.0|        0.0|       0.0|           0.0|          2.0|  6.0|        0.0|        0.0|               0.0|               0.0|         2.0|      0.0|                       0.0|              0.0|     0.0|                   0.0|       0.0|            0.0|                    0.0|                     0.0|                  0.0|                0.0|           0.0|                        0.0|                   0.0|         0.0|       0.0|                  0.0|            0.0|             0.0|                  0.0|             0.0|     0.0|            0.0|             0.0|             0.0|              0.0|                  0.0|          0.0|              0.0|         1.0|        0.0|                    0.0|               0.0|            0.0|    1.0|    0.0|     0.0|         0.0|          0.0|  0.0|                  0.0|           0.0|               0.0| 0.0|     0.0|\n",
      "|         28|      25|      5|       8|   0.0|       0.0|        0.0|       0.0|   2.0|            0.0|   0.0|    0.0|                0.0|      0.0|             0.0|                 0.0|                    0.0|        0.0|       1.0|           0.0|          0.0|  0.0|        2.0|        0.0|               0.0|               0.0|         0.0|      0.0|                       0.0|              0.0|     0.0|                   0.0|       0.0|            0.0|                    0.0|                     0.0|                  0.0|                0.0|           0.0|                        0.0|                   0.0|         0.0|       3.0|                  0.0|            0.0|             0.0|                  0.0|             0.0|     0.0|            0.0|             0.0|             0.0|              0.0|                  0.0|          0.0|              0.0|         0.0|        0.0|                    0.0|               0.0|            0.0|    0.0|    0.0|     0.0|         0.0|          0.0|  0.0|                  0.0|           0.0|               0.0| 0.0|     0.0|\n",
      "|         29|       8|      5|       1|   0.0|       0.0|        0.0|       0.0|   0.0|            0.0|   0.0|    0.0|                0.0|      0.0|             0.0|                 0.0|                    0.0|        0.0|       0.0|           0.0|          0.0|  0.0|        1.0|        0.0|               0.0|               0.0|         0.0|      0.0|                       0.0|              0.0|     0.0|                   0.0|       0.0|            0.0|                    0.0|                     0.0|                  0.0|                0.0|           0.0|                        0.0|                   0.0|         0.0|       0.0|                  0.0|            0.0|             0.0|                  0.0|             0.0|     0.0|            0.0|             0.0|             0.0|              0.0|                  0.0|          0.0|              0.0|         0.0|        0.0|                    0.0|               0.0|            0.0|    0.0|    0.0|     0.0|         0.0|          0.0|  0.0|                  0.0|           0.0|               0.0| 0.0|     0.0|\n",
      "|         30|       9|      5|       1|   0.0|       0.0|        0.0|       0.0|   0.0|            0.0|   0.0|    0.0|                0.0|      0.0|             0.0|                 0.0|                    0.0|        0.0|       0.0|           0.0|          0.0|  0.0|        0.0|        0.0|               0.0|               0.0|         0.0|      0.0|                       0.0|              0.0|     0.0|                   0.0|       0.0|            0.0|                    0.0|                     0.0|                  0.0|                0.0|           0.0|                        0.0|                   0.0|         0.0|       1.0|                  0.0|            0.0|             0.0|                  0.0|             0.0|     0.0|            0.0|             0.0|             0.0|              0.0|                  0.0|          0.0|              0.0|         0.0|        0.0|                    0.0|               0.0|            0.0|    0.0|    0.0|     0.0|         0.0|          0.0|  0.0|                  0.0|           0.0|               0.0| 0.0|     0.0|\n",
      "|         31|       8|      5|       2|   0.0|       0.0|        0.0|       0.0|   1.0|            0.0|   0.0|    0.0|                0.0|      0.0|             0.0|                 0.0|                    0.0|        0.0|       0.0|           0.0|          0.0|  1.0|        0.0|        0.0|               0.0|               0.0|         0.0|      0.0|                       0.0|              0.0|     0.0|                   0.0|       0.0|            0.0|                    0.0|                     0.0|                  0.0|                0.0|           0.0|                        0.0|                   0.0|         0.0|       0.0|                  0.0|            0.0|             0.0|                  0.0|             0.0|     0.0|            0.0|             0.0|             0.0|              0.0|                  0.0|          0.0|              0.0|         0.0|        0.0|                    0.0|               0.0|            0.0|    0.0|    0.0|     0.0|         0.0|          0.0|  0.0|                  0.0|           0.0|               0.0| 0.0|     0.0|\n",
      "|         32|       8|      5|       1|   0.0|       0.0|        0.0|       0.0|   0.0|            0.0|   0.0|    0.0|                0.0|      0.0|             0.0|                 0.0|                    0.0|        0.0|       0.0|           0.0|          0.0|  0.0|        0.0|        0.0|               0.0|               0.0|         0.0|      0.0|                       0.0|              0.0|     0.0|                   0.0|       0.0|            0.0|                    0.0|                     0.0|                  0.0|                1.0|           0.0|                        0.0|                   0.0|         0.0|       0.0|                  0.0|            0.0|             0.0|                  0.0|             0.0|     0.0|            0.0|             0.0|             0.0|              0.0|                  0.0|          0.0|              0.0|         0.0|        0.0|                    0.0|               0.0|            0.0|    0.0|    0.0|     0.0|         0.0|          0.0|  0.0|                  0.0|           0.0|               0.0| 0.0|     0.0|\n",
      "|         33|       8|      5|       3|   0.0|       0.0|        0.0|       0.0|   0.0|            0.0|   0.0|    0.0|                0.0|      0.0|             0.0|                 0.0|                    0.0|        0.0|       0.0|           0.0|          0.0|  0.0|        1.0|        0.0|               0.0|               0.0|         0.0|      0.0|                       0.0|              2.0|     0.0|                   0.0|       0.0|            0.0|                    0.0|                     0.0|                  0.0|                0.0|           0.0|                        0.0|                   0.0|         0.0|       0.0|                  0.0|            0.0|             0.0|                  0.0|             0.0|     0.0|            0.0|             0.0|             0.0|              0.0|                  0.0|          0.0|              0.0|         0.0|        0.0|                    0.0|               0.0|            0.0|    0.0|    0.0|     0.0|         0.0|          0.0|  0.0|                  0.0|           0.0|               0.0| 0.0|     0.0|\n",
      "+-----------+--------+-------+--------+------+----------+-----------+----------+------+---------------+------+-------+-------------------+---------+----------------+--------------------+-----------------------+-----------+----------+--------------+-------------+-----+-----------+-----------+------------------+------------------+------------+---------+--------------------------+-----------------+--------+----------------------+----------+---------------+-----------------------+------------------------+---------------------+-------------------+--------------+---------------------------+----------------------+------------+----------+---------------------+---------------+----------------+---------------------+----------------+--------+---------------+----------------+----------------+-----------------+---------------------+-------------+-----------------+------------+-----------+-----------------------+------------------+---------------+-------+-------+--------+------------+-------------+-----+---------------------+--------------+------------------+----+--------+\n",
      "only showing top 20 rows\n",
      "\n"
     ]
    }
   ],
   "source": [
    "dataset.show()"
   ]
  },
  {
   "cell_type": "markdown",
   "metadata": {},
   "source": [
    "## Creating Vectors\n",
    "\n",
    "Now that we have ourselves a dataframe, let's work on turning it into vectors.  We're going to vectorize 2 columns:\n",
    "\n",
    "1. MPG\n",
    "2. Number of cylineders.\n",
    "\n",
    "What we'll do, is we'll use the VectorAssembler class to create a new column by the name of features. This will be a Vector."
   ]
  },
  {
   "cell_type": "code",
   "execution_count": 5,
   "metadata": {},
   "outputs": [],
   "source": []
  },
  {
   "cell_type": "code",
   "execution_count": 43,
   "metadata": {},
   "outputs": [
    {
     "name": "stdout",
     "output_type": "stream",
     "text": [
      "70\n",
      "['Weekday', 'NumItems', 'Return', '1-HR PHOTO', 'ACCESSORIES', 'AUTOMOTIVE', 'BAKERY', 'BATH AND SHOWER', 'BEAUTY', 'BEDDING', 'BOOKS AND MAGAZINES', 'BOYS WEAR', 'BRAS & SHAPEWEAR', 'CAMERAS AND SUPPLIES', 'CANDY, TOBACCO, COOKIES', 'CELEBRATION', 'COMM BREAD', 'CONCEPT STORES', 'COOK AND DINE', 'DAIRY', 'DSD GROCERY', 'ELECTRONICS', 'FABRICS AND CRAFTS', 'FINANCIAL SERVICES', 'FROZEN FOODS', 'FURNITURE', 'GIRLS WEAR, 4-6X  AND 7-14', 'GROCERY DRY GOODS', 'HARDWARE', 'HEALTH AND BEAUTY AIDS', 'HOME DECOR', 'HOME MANAGEMENT', 'HORTICULTURE AND ACCESS', 'HOUSEHOLD CHEMICALS/SUPP', 'HOUSEHOLD PAPER GOODS', 'IMPULSE MERCHANDISE', 'INFANT APPAREL', 'INFANT CONSUMABLE HARDLINES', 'JEWELRY AND SUNGLASSES', 'LADIES SOCKS', 'LADIESWEAR', 'LARGE HOUSEHOLD GOODS', 'LAWN AND GARDEN', 'LIQUOR,WINE,BEER', 'MEAT - FRESH & FROZEN', 'MEDIA AND GAMING', 'MENSWEAR', 'OFFICE SUPPLIES', 'OPTICAL - FRAMES', 'OPTICAL - LENSES', 'OTHER DEPARTMENTS', 'PAINT AND ACCESSORIES', 'PERSONAL CARE', 'PETS AND SUPPLIES', 'PHARMACY OTC', 'PHARMACY RX', 'PLAYERS AND ELECTRONICS', 'PLUS AND MATERNITY', 'PRE PACKED DELI', 'PRODUCE', 'SEAFOOD', 'SEASONAL', 'SERVICE DELI', 'SHEER HOSIERY', 'SHOES', 'SLEEPWEAR/FOUNDATIONS', 'SPORTING GOODS', 'SWIMWEAR/OUTERWEAR', 'TOYS', 'WIRELESS']\n"
     ]
    }
   ],
   "source": [
    "columns = dataset.columns\n",
    "columns.remove('VisitNumber')\n",
    "columns.remove('TripType')\n",
    "\n",
    "print(columns)"
   ]
  },
  {
   "cell_type": "code",
   "execution_count": 34,
   "metadata": {
    "collapsed": true
   },
   "outputs": [],
   "source": [
    "\n",
    "assembler = VectorAssembler(inputCols=columns, outputCol=\"features\")\n",
    "featureVector = assembler.transform(dataset)\n"
   ]
  },
  {
   "cell_type": "code",
   "execution_count": 35,
   "metadata": {},
   "outputs": [
    {
     "name": "stdout",
     "output_type": "stream",
     "text": [
      "Vector: Row(features=SparseVector(70, {0: 5.0, 1: -1.0, 2: 1.0, 23: -1.0}))\n",
      "\n",
      "Vector: Row(features=SparseVector(70, {0: 5.0, 1: 2.0, 52: 1.0, 64: 1.0}))\n",
      "\n",
      "Vector: Row(features=SparseVector(70, {0: 5.0, 1: 28.0, 2: 1.0, 19: 2.0, 20: 1.0, 33: 1.0, 44: 1.0, 51: 18.0, 53: 4.0}))\n",
      "\n",
      "Vector: Row(features=SparseVector(70, {0: 5.0, 1: 3.0, 35: 1.0, 59: 2.0}))\n",
      "\n",
      "Vector: Row(features=SparseVector(70, {0: 5.0, 1: 3.0, 14: 1.0, 20: 2.0}))\n",
      "\n",
      "Vector: Row(features=SparseVector(70, {0: 5.0, 1: 4.0, 20: 1.0, 27: 1.0, 35: 2.0}))\n",
      "\n",
      "Vector: Row(features=SparseVector(70, {0: 5.0, 1: 7.0, 11: 2.0, 33: 2.0, 52: 2.0, 64: 1.0}))\n",
      "\n",
      "Vector: Row(features=SparseVector(70, {0: 5.0, 1: 9.0, 22: 9.0}))\n",
      "\n",
      "Vector: Row(features=SparseVector(70, {0: 5.0, 1: 4.0, 14: 2.0, 20: 2.0}))\n",
      "\n",
      "Vector: Row(features=SparseVector(70, {0: 5.0, 1: 9.0, 4: 1.0, 22: 1.0, 31: 1.0, 35: 2.0, 38: 1.0, 46: 3.0}))\n",
      "\n"
     ]
    }
   ],
   "source": [
    "for row in featureVector.select('features').take(10):\n",
    "    print(\"Vector: %s\\n\" % (str(row)))"
   ]
  },
  {
   "cell_type": "markdown",
   "metadata": {},
   "source": [
    "Note the output. These are Sparse (not dense) Vectors.  That's because we our data IS sparse, we have relatively few of the variables at any given time."
   ]
  },
  {
   "cell_type": "markdown",
   "metadata": {},
   "source": [
    "## Running Kmeans\n",
    "\n",
    "Now it's time to run kmeans on the resultant dataframe.  We don't know what value of k to use, so let's just start with k=2.  This means we will cluster into two groups.\n",
    "\n",
    "We will fit a model to the data, and then train it."
   ]
  },
  {
   "cell_type": "code",
   "execution_count": 36,
   "metadata": {},
   "outputs": [
    {
     "name": "stdout",
     "output_type": "stream",
     "text": [
      "2370357.9494931693\n"
     ]
    }
   ],
   "source": [
    "k = 39\n",
    "kmeans = KMeans().setK(k).setSeed(1)\n",
    "model = kmeans.fit(featureVector)\n",
    "wssse = model.computeCost(featureVector)\n",
    "\n",
    "print(wssse)"
   ]
  },
  {
   "cell_type": "markdown",
   "metadata": {},
   "source": [
    "Let's take a look at the transformed dataset.  let's look at a distribution of our transformed dataset"
   ]
  },
  {
   "cell_type": "code",
   "execution_count": 44,
   "metadata": {
    "scrolled": true
   },
   "outputs": [
    {
     "name": "stdout",
     "output_type": "stream",
     "text": [
      "+----------+-----+\n",
      "|prediction|count|\n",
      "+----------+-----+\n",
      "|         0|  458|\n",
      "|         1| 8872|\n",
      "|         2|  127|\n",
      "|         3| 9746|\n",
      "|         4| 3120|\n",
      "|         5|  845|\n",
      "|         6| 7489|\n",
      "|         7|  508|\n",
      "|         8|  118|\n",
      "|         9|  188|\n",
      "|        10| 2590|\n",
      "|        11|    2|\n",
      "|        12|   61|\n",
      "|        13|  855|\n",
      "|        14| 6053|\n",
      "|        15|   55|\n",
      "|        16| 1209|\n",
      "|        17|  223|\n",
      "|        18|  540|\n",
      "|        19| 1027|\n",
      "|        20|  481|\n",
      "|        21| 1478|\n",
      "|        22| 1408|\n",
      "|        23|  197|\n",
      "|        24| 3779|\n",
      "|        25| 5467|\n",
      "|        26| 9590|\n",
      "|        27| 1539|\n",
      "|        28|  462|\n",
      "|        29|11122|\n",
      "|        30| 7628|\n",
      "|        31| 1504|\n",
      "|        32| 1335|\n",
      "|        33|  508|\n",
      "|        34|  410|\n",
      "|        35| 3687|\n",
      "|        36|  716|\n",
      "|        37|  166|\n",
      "|        38|  111|\n",
      "+----------+-----+\n",
      "\n"
     ]
    }
   ],
   "source": [
    "histogram = model.transform(featureVector).groupBy('prediction').count().orderBy('prediction')\n",
    "histogram.show(40)"
   ]
  },
  {
   "cell_type": "code",
   "execution_count": 47,
   "metadata": {},
   "outputs": [
    {
     "data": {
      "text/plain": [
       "<matplotlib.axes._subplots.AxesSubplot at 0x7f0edd1a2b38>"
      ]
     },
     "execution_count": 47,
     "metadata": {},
     "output_type": "execute_result"
    },
    {
     "data": {
      "image/png": "[encoded data removed]",
      "text/plain": [
       "<matplotlib.figure.Figure at 0x7f0eddbad0b8>"
      ]
     },
     "metadata": {},
     "output_type": "display_data"
    }
   ],
   "source": [
    "histogram.toPandas().plot.bar(colormap='Greens')"
   ]
  },
  {
   "cell_type": "code",
   "execution_count": null,
   "metadata": {
    "collapsed": true
   },
   "outputs": [],
   "source": []
  }
 ],
 "metadata": {
  "anaconda-cloud": {},
  "kernelspec": {
   "display_name": "Python 3",
   "language": "python",
   "name": "python3"
  },
  "language_info": {
   "codemirror_mode": {
    "name": "ipython",
    "version": 3
   },
   "file_extension": ".py",
   "mimetype": "text/x-python",
   "name": "python",
   "nbconvert_exporter": "python",
   "pygments_lexer": "ipython3",
   "version": "3.4.3"
  }
 },
 "nbformat": 4,
 "nbformat_minor": 1
}
