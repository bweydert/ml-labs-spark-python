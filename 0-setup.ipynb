{
 "cells": [
  {
   "cell_type": "markdown",
   "metadata": {},
   "source": [
    "# Setting up Spark environment\n",
    "\n",
    "## Step 1 : Login to the VM\n",
    "Instructor will provide details\n",
    "\n",
    "## Install Spark\n",
    "\n",
    "```bash\n",
    "    $   cd\n",
    "    $   rm -rf  spark   # cleanup existing spark installation (if any)\n",
    "    $   tar xvf   files/spark-2.3.0-bin-hadoop2.7.tgz\n",
    "    $   mv  spark-2.3.0-bin-hadoop2.7    spark\n",
    "```\n",
    "\n",
    "## Get the labs\n",
    "\n",
    "```bash\n",
    "    $ git clone --depth 1  git@github.com:elephantscale/ml-labs-spark-python.git\n",
    "```\n",
    "\n",
    "## Get the data\n",
    "\n",
    "```bash\n",
    "    $  cd data;  git pull;   cd\n",
    "```\n",
    "\n",
    "Also you can download it from [here](https://s3.amazonaws.com/elephantscale-public/data/datasets.zip) for your laptop.\n",
    "\n",
    "\n",
    "## Start Jupyter\n",
    "\n",
    "```bash\n",
    "    $   cd ml-labs-spark-python\n",
    "    $   nohup ./run-jupyter.sh &\n",
    "```\n",
    "\n",
    "Access Jupyter notebook link from the browser."
   ]
  },
  {
   "cell_type": "code",
   "execution_count": null,
   "metadata": {
    "collapsed": true
   },
   "outputs": [],
   "source": [
    " "
   ]
  }
 ],
 "metadata": {
  "kernelspec": {
   "display_name": "Python 3",
   "language": "python",
   "name": "python3"
  },
  "language_info": {
   "codemirror_mode": {
    "name": "ipython",
    "version": 3
   },
   "file_extension": ".py",
   "mimetype": "text/x-python",
   "name": "python",
   "nbconvert_exporter": "python",
   "pygments_lexer": "ipython3",
   "version": "3.6.3"
  }
 },
 "nbformat": 4,
 "nbformat_minor": 2
}
