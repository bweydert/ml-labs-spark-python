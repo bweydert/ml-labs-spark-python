{
 "cells": [
  {
   "cell_type": "markdown",
   "metadata": {},
   "source": [
    "# Support Vector Machines: College Admission\n",
    "\n",
    "Let's look at a classification example in Spark MLLib.  We looked at the college admission before. We can look again at this dataset.  \n"
   ]
  },
  {
   "cell_type": "code",
   "execution_count": 20,
   "metadata": {
    "collapsed": true
   },
   "outputs": [],
   "source": [
    "%matplotlib inline\n",
    "from pyspark.ml.feature import VectorAssembler\n",
    "from pyspark.ml.feature import StandardScaler\n",
    "from pyspark.ml import Pipeline\n",
    "from pyspark.ml.classification import LinearSVC\n",
    "from pyspark.ml.feature import StringIndexer, VectorIndexer\n",
    "from pyspark.ml.evaluation import BinaryClassificationEvaluator, MulticlassClassificationEvaluator\n",
    "\n",
    "from sklearn.decomposition import PCA\n",
    "import matplotlib.pyplot as plt\n",
    "\n",
    "import pandas as pd\n",
    "\n"
   ]
  },
  {
   "cell_type": "markdown",
   "metadata": {},
   "source": [
    "## Step 1: Load the data"
   ]
  },
  {
   "cell_type": "code",
   "execution_count": 7,
   "metadata": {
    "collapsed": true
   },
   "outputs": [],
   "source": [
    "dataset = spark.read.csv(\"/data/college-admissions/admission-data.csv\", header=True, inferSchema=True)\n"
   ]
  },
  {
   "cell_type": "code",
   "execution_count": 3,
   "metadata": {
    "collapsed": false
   },
   "outputs": [
    {
     "name": "stdout",
     "output_type": "stream",
     "text": [
      "+-----+---+----+----+\n",
      "|admit|gre| gpa|rank|\n",
      "+-----+---+----+----+\n",
      "|    0|380|3.61|   3|\n",
      "|    1|660|3.67|   3|\n",
      "|    1|800| 4.0|   1|\n",
      "|    1|640|3.19|   4|\n",
      "|    0|520|2.93|   4|\n",
      "|    1|760| 3.0|   2|\n",
      "|    1|560|2.98|   1|\n",
      "|    0|400|3.08|   2|\n",
      "|    1|540|3.39|   3|\n",
      "|    0|700|3.92|   2|\n",
      "|    0|800| 4.0|   4|\n",
      "|    0|440|3.22|   1|\n",
      "|    1|760| 4.0|   1|\n",
      "|    0|700|3.08|   2|\n",
      "|    1|700| 4.0|   1|\n",
      "|    0|480|3.44|   3|\n",
      "|    0|780|3.87|   4|\n",
      "|    0|360|2.56|   3|\n",
      "|    0|800|3.75|   2|\n",
      "|    1|540|3.81|   1|\n",
      "+-----+---+----+----+\n",
      "only showing top 20 rows\n",
      "\n"
     ]
    }
   ],
   "source": [
    "dataset.show(20)"
   ]
  },
  {
   "cell_type": "markdown",
   "metadata": {},
   "source": [
    "## Step 2: Visualize the data\n",
    "\n",
    "We cannot visualize the data because there is too many components. However, we can use PCA as\n",
    "a dimensionality reduction technique to visualize it."
   ]
  },
  {
   "cell_type": "code",
   "execution_count": 4,
   "metadata": {
    "collapsed": false,
    "scrolled": false
   },
   "outputs": [
    {
     "data": {
      "text/plain": [
       "<matplotlib.legend.Legend at 0x114ee9ef0>"
      ]
     },
     "execution_count": 4,
     "metadata": {},
     "output_type": "execute_result"
    },
    {
     "data": {
      "image/png": "[encoded data removed]",
      "text/plain": [
       "<matplotlib.figure.Figure at 0x114ee9f98>"
      ]
     },
     "metadata": {},
     "output_type": "display_data"
    }
   ],
   "source": [
    "pca = PCA(n_components=2)\n",
    "\n",
    "data = dataset.toPandas()\n",
    "\n",
    "y = data['admit']          # Split off classifications\n",
    "X = data.ix[:, 'gre':] # Split off features\n",
    "#X_norm = (X - X.min())/(X.max() - X.min())\n",
    "#transformed = pd.DataFrame(pca.fit_transform(X_norm))\n",
    "transformed = pd.DataFrame(pca.fit_transform(X))\n",
    "\n",
    "transformed\n",
    "\n",
    "plt.scatter(transformed[y==0][0], transformed[y==0][1], label='Rejected', c='red')\n",
    "plt.scatter(transformed[y==1][0], transformed[y==1][1], label='Admitted', c='blue')\n",
    "\n",
    "plt.legend()\n",
    "\n",
    "\n"
   ]
  },
  {
   "cell_type": "markdown",
   "metadata": {},
   "source": [
    "How separable does this data appear to be?  Do you notice any trends in the red and blue dots?"
   ]
  },
  {
   "cell_type": "markdown",
   "metadata": {},
   "source": [
    "## Step 3: Build the Vector\n",
    "\n",
    "**=> Build the vector with these three columns: admit, gre, gpa ** "
   ]
  },
  {
   "cell_type": "code",
   "execution_count": 9,
   "metadata": {
    "collapsed": true
   },
   "outputs": [],
   "source": [
    "assembler = VectorAssembler(inputCols=['???', '???', '????'], outputCol=\"features\")\n",
    "featureVector = assembler.transform(training)\n",
    "featureVector = featureVector.withColumnRenamed(\"admit\", \"label\")"
   ]
  },
  {
   "cell_type": "markdown",
   "metadata": {},
   "source": [
    "## Step 4: Split into training and test.\n",
    "\n",
    "**=> Split into training/test with an 80/20 split ** "
   ]
  },
  {
   "cell_type": "code",
   "execution_count": 10,
   "metadata": {
    "collapsed": true
   },
   "outputs": [],
   "source": [
    "## Split into training and test\n",
    "## TODO: create training and test with an 80/20 split\n",
    "(training, test) = dataset.randomSplit([???, ???])"
   ]
  },
  {
   "cell_type": "markdown",
   "metadata": {},
   "source": [
    "## Step 5: Build the Linear SVM model"
   ]
  },
  {
   "cell_type": "code",
   "execution_count": 11,
   "metadata": {
    "collapsed": false
   },
   "outputs": [
    {
     "name": "stdout",
     "output_type": "stream",
     "text": [
      "Coefficients: [2.42455427163,-0.000132348504168,-0.288668099055]\n",
      "Intercept: -0.20541972695085747\n"
     ]
    }
   ],
   "source": [
    "lsvc = LinearSVC(maxIter=10, regParam=0.1)\n",
    "\n",
    "# Fit the model\n",
    "lsvcModel = lsvc.fit(featureVector)\n",
    "\n",
    "# Print the coefficients and intercept for linearsSVC\n",
    "print(\"Coefficients: \" + str(lsvcModel.coefficients))\n",
    "print(\"Intercept: \" + str(lsvcModel.intercept))\n"
   ]
  },
  {
   "cell_type": "markdown",
   "metadata": {},
   "source": [
    "**=> TODO: take the coefficients and interrcept and do your own prediction **\n",
    "\n",
    "sample_gre = 700\n",
    "sample_gpa = 3.5\n",
    "sample_rank = 3\n",
    "\n",
    "predicted_admit = (??? * ???) + (??? * ???) + (??? * ???) + ???\n"
   ]
  },
  {
   "cell_type": "code",
   "execution_count": null,
   "metadata": {
    "collapsed": true
   },
   "outputs": [],
   "source": [
    "# TODO: do your prediction\n"
   ]
  },
  {
   "cell_type": "markdown",
   "metadata": {},
   "source": [
    "## Step 6: Run the test set and get the predictions\n",
    "\n",
    "**=> TODO: Rename the label from \"admit\" to \"label\" **\n",
    "\n",
    "**=> TODO: Transform the test dataset to get predictions **\n",
    "\n"
   ]
  },
  {
   "cell_type": "code",
   "execution_count": 12,
   "metadata": {
    "collapsed": false,
    "scrolled": true
   },
   "outputs": [
    {
     "name": "stdout",
     "output_type": "stream",
     "text": [
      "+-----+---+----+----+----------------+--------------------+----------+\n",
      "|label|gre| gpa|rank|        features|       rawPrediction|prediction|\n",
      "+-----+---+----+----+----------------+--------------------+----------+\n",
      "|    0|300|3.01|   3|[0.0,300.0,3.01]|[1.11401525635545...|       0.0|\n",
      "|    0|340| 2.9|   1| [0.0,340.0,2.9]|[1.08755570562615...|       0.0|\n",
      "|    0|340|2.92|   3|[0.0,340.0,2.92]|[1.09332906760724...|       0.0|\n",
      "|    0|340|3.15|   3|[0.0,340.0,3.15]|[1.15972273038980...|       0.0|\n",
      "|    0|360|2.56|   3|[0.0,360.0,2.56]|[0.99205552203094...|       0.0|\n",
      "|    0|360|3.14|   1|[0.0,360.0,3.14]|[1.15948301948260...|       0.0|\n",
      "|    0|380|2.91|   4|[0.0,380.0,2.91]|[1.09573632678340...|       0.0|\n",
      "|    0|380|2.94|   3|[0.0,380.0,2.94]|[1.10439636975504...|       0.0|\n",
      "|    0|380|3.33|   4|[0.0,380.0,3.33]|[1.21697692838633...|       0.0|\n",
      "|    0|380|3.34|   3|[0.0,380.0,3.34]|[1.21986360937687...|       0.0|\n",
      "|    0|380|3.38|   2|[0.0,380.0,3.38]|[1.23141033333906...|       0.0|\n",
      "|    0|380|3.43|   3|[0.0,380.0,3.43]|[1.24584373829179...|       0.0|\n",
      "|    0|380|3.59|   4|[0.0,380.0,3.59]|[1.29203063414052...|       0.0|\n",
      "|    0|380|3.61|   3|[0.0,380.0,3.61]|[1.29780399612162...|       0.0|\n",
      "|    0|400|2.93|   3|[0.0,400.0,2.93]|[1.10415665884784...|       0.0|\n",
      "|    0|400|3.08|   2|[0.0,400.0,3.08]|[1.14745687370603...|       0.0|\n",
      "|    0|400|3.31|   3|[0.0,400.0,3.31]|[1.21385053648859...|       0.0|\n",
      "|    0|400|3.35|   3|[0.0,400.0,3.35]|[1.22539726045077...|       0.0|\n",
      "|    0|400|3.38|   2|[0.0,400.0,3.38]|[1.23405730342241...|       0.0|\n",
      "|    0|400|3.51|   3|[0.0,400.0,3.51]|[1.27158415629951...|       0.0|\n",
      "+-----+---+----+----+----------------+--------------------+----------+\n",
      "only showing top 20 rows\n",
      "\n"
     ]
    }
   ],
   "source": [
    "featureVector_test = assembler.transform(training)\n",
    "featureVector_test = featureVector_test.withColumnRenamed(\"???\", \"???\")\n",
    "\n",
    "predictions = lsvcModel.transform(???)\n",
    "\n",
    "predictions.show()"
   ]
  },
  {
   "cell_type": "markdown",
   "metadata": {},
   "source": [
    "## Step 7: See the evaluation metrics"
   ]
  },
  {
   "cell_type": "code",
   "execution_count": 17,
   "metadata": {
    "collapsed": false
   },
   "outputs": [
    {
     "data": {
      "text/plain": [
       "1.0"
      ]
     },
     "execution_count": 17,
     "metadata": {},
     "output_type": "execute_result"
    }
   ],
   "source": [
    "evaluator = BinaryClassificationEvaluator(rawPredictionCol=\"rawPrediction\")\n",
    "evaluator.evaluate(predictions)  #AUC\n"
   ]
  },
  {
   "cell_type": "markdown",
   "metadata": {},
   "source": [
    "**=> What does AUC = 1 mean?** "
   ]
  },
  {
   "cell_type": "code",
   "execution_count": 21,
   "metadata": {
    "collapsed": false
   },
   "outputs": [
    {
     "name": "stdout",
     "output_type": "stream",
     "text": [
      "Test Error = 0\n"
     ]
    }
   ],
   "source": [
    "\n",
    "# Select (prediction, true label) and compute test error\n",
    "evaluator = MulticlassClassificationEvaluator(\n",
    "    labelCol=\"label\", predictionCol=\"prediction\", metricName=\"accuracy\")\n",
    "accuracy = evaluator.evaluate(predictions)\n",
    "print(\"Test Error = %g\" % (1.0 - accuracy))\n"
   ]
  },
  {
   "cell_type": "markdown",
   "metadata": {},
   "source": [
    "## Step 8: Show the confusion matrix"
   ]
  },
  {
   "cell_type": "code",
   "execution_count": 22,
   "metadata": {
    "collapsed": false,
    "scrolled": true
   },
   "outputs": [
    {
     "name": "stdout",
     "output_type": "stream",
     "text": [
      "+-----+---+---+\n",
      "|label|  0|  1|\n",
      "+-----+---+---+\n",
      "|    0|220|  0|\n",
      "|    1|  0| 97|\n",
      "+-----+---+---+\n",
      "\n"
     ]
    }
   ],
   "source": [
    "# Confusion matrix\n",
    "predictions.groupBy('label').pivot('prediction', [0,1]).count().na.fill(0).orderBy('label').show()"
   ]
  },
  {
   "cell_type": "markdown",
   "metadata": {},
   "source": [
    "**=> TODO: What is the meaning of the confusion matrix? **\n",
    "\n"
   ]
  },
  {
   "cell_type": "markdown",
   "metadata": {
    "collapsed": true
   },
   "source": [
    "## Step 9: Try running a prediction on your own data\n",
    "\n",
    "**=> Create a few rows in your own dataframe (start with pandas dataframe) ** \n",
    "**=> Run .transform from your model to see the results."
   ]
  }
 ],
 "metadata": {
  "anaconda-cloud": {},
  "kernelspec": {
   "display_name": "Python 3",
   "language": "python",
   "name": "python3"
  },
  "language_info": {
   "codemirror_mode": {
    "name": "ipython",
    "version": 3
   },
   "file_extension": ".py",
   "mimetype": "text/x-python",
   "name": "python",
   "nbconvert_exporter": "python",
   "pygments_lexer": "ipython3",
   "version": "3.5.2"
  }
 },
 "nbformat": 4,
 "nbformat_minor": 1
}
