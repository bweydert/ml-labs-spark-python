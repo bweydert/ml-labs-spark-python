{
 "cells": [
  {
   "cell_type": "markdown",
   "metadata": {},
   "source": [
    "# Support Vector Machines: College Admission\n",
    "\n",
    "Let's look at a classification example in Spark MLLib.  We looked at the college admission before. We can look again at this dataset.  \n"
   ]
  },
  {
   "cell_type": "code",
   "execution_count": 42,
   "metadata": {
    "collapsed": true
   },
   "outputs": [],
   "source": [
    "%matplotlib inline\n",
    "from pyspark.ml.feature import VectorAssembler\n",
    "from pyspark.ml.feature import StandardScaler\n",
    "from pyspark.ml import Pipeline\n",
    "from pyspark.ml.classification import LinearSVC\n",
    "from pyspark.ml.feature import StringIndexer, VectorIndexer\n",
    "from pyspark.ml.evaluation import BinaryClassificationEvaluator\n",
    "\n",
    "from sklearn.decomposition import PCA\n",
    "import matplotlib.pyplot as plt\n",
    "\n",
    "import pandas as pd\n",
    "\n"
   ]
  },
  {
   "cell_type": "markdown",
   "metadata": {},
   "source": [
    "## Step 1: Load the data"
   ]
  },
  {
   "cell_type": "code",
   "execution_count": 29,
   "metadata": {
    "collapsed": true
   },
   "outputs": [],
   "source": [
    "dataset = spark.read.csv(\"/data/college-admissions/admission-data.csv\", header=True, inferSchema=True)\n"
   ]
  },
  {
   "cell_type": "code",
   "execution_count": 2,
   "metadata": {
    "collapsed": false
   },
   "outputs": [
    {
     "name": "stdout",
     "output_type": "stream",
     "text": [
      "+-----+---+----+----+\n",
      "|admit|gre| gpa|rank|\n",
      "+-----+---+----+----+\n",
      "|    0|380|3.61|   3|\n",
      "|    1|660|3.67|   3|\n",
      "|    1|800| 4.0|   1|\n",
      "|    1|640|3.19|   4|\n",
      "|    0|520|2.93|   4|\n",
      "|    1|760| 3.0|   2|\n",
      "|    1|560|2.98|   1|\n",
      "|    0|400|3.08|   2|\n",
      "|    1|540|3.39|   3|\n",
      "|    0|700|3.92|   2|\n",
      "|    0|800| 4.0|   4|\n",
      "|    0|440|3.22|   1|\n",
      "|    1|760| 4.0|   1|\n",
      "|    0|700|3.08|   2|\n",
      "|    1|700| 4.0|   1|\n",
      "|    0|480|3.44|   3|\n",
      "|    0|780|3.87|   4|\n",
      "|    0|360|2.56|   3|\n",
      "|    0|800|3.75|   2|\n",
      "|    1|540|3.81|   1|\n",
      "+-----+---+----+----+\n",
      "only showing top 20 rows\n",
      "\n"
     ]
    }
   ],
   "source": [
    "dataset.show(20)"
   ]
  },
  {
   "cell_type": "markdown",
   "metadata": {},
   "source": [
    "## Step 2: Visualize the data\n",
    "\n",
    "We cannot visualize the data because there is too many components. However, we can use PCA as\n",
    "a dimensionality reduction technique to visualize it."
   ]
  },
  {
   "cell_type": "code",
   "execution_count": 30,
   "metadata": {
    "collapsed": false,
    "scrolled": false
   },
   "outputs": [
    {
     "name": "stderr",
     "output_type": "stream",
     "text": [
      "/usr/local/lib/python3.4/dist-packages/ipykernel_launcher.py:6: DeprecationWarning: \n",
      ".ix is deprecated. Please use\n",
      ".loc for label based indexing or\n",
      ".iloc for positional indexing\n",
      "\n",
      "See the documentation here:\n",
      "http://pandas.pydata.org/pandas-docs/stable/indexing.html#ix-indexer-is-deprecated\n",
      "  \n"
     ]
    },
    {
     "data": {
      "text/plain": [
       "<matplotlib.legend.Legend at 0x7f6a216fac88>"
      ]
     },
     "execution_count": 30,
     "metadata": {},
     "output_type": "execute_result"
    },
    {
     "data": {
      "image/png": "[encoded data removed]",
      "text/plain": [
       "<matplotlib.figure.Figure at 0x7f6a215ff1d0>"
      ]
     },
     "metadata": {},
     "output_type": "display_data"
    }
   ],
   "source": [
    "pca = PCA(n_components=2)\n",
    "\n",
    "data = dataset.toPandas()\n",
    "\n",
    "y = data['admit']          # Split off classifications\n",
    "X = data.ix[:, 'gre':] # Split off features\n",
    "#X_norm = (X - X.min())/(X.max() - X.min())\n",
    "#transformed = pd.DataFrame(pca.fit_transform(X_norm))\n",
    "transformed = pd.DataFrame(pca.fit_transform(X))\n",
    "\n",
    "transformed\n",
    "\n",
    "plt.scatter(transformed[y==0][0], transformed[y==0][1], label='Rejected', c='red')\n",
    "plt.scatter(transformed[y==1][0], transformed[y==1][1], label='Admitted', c='blue')\n",
    "\n",
    "plt.legend()\n",
    "\n",
    "\n"
   ]
  },
  {
   "cell_type": "markdown",
   "metadata": {},
   "source": [
    "How separable does this data appear to be?  Do you notice any trends in the red and blue dots?"
   ]
  },
  {
   "cell_type": "markdown",
   "metadata": {},
   "source": [
    "## Step 3: Build the Vector"
   ]
  },
  {
   "cell_type": "code",
   "execution_count": 43,
   "metadata": {
    "collapsed": true
   },
   "outputs": [],
   "source": [
    "assembler = VectorAssembler(inputCols=['admit', 'gre', 'gpa'], outputCol=\"features\")\n",
    "featureVector = assembler.transform(training)\n",
    "featureVector = featureVector.withColumnRenamed(\"admit\", \"label\")"
   ]
  },
  {
   "cell_type": "markdown",
   "metadata": {},
   "source": [
    "## Step 4: Split into training and test."
   ]
  },
  {
   "cell_type": "code",
   "execution_count": null,
   "metadata": {
    "collapsed": true
   },
   "outputs": [],
   "source": [
    "## Split into training and test\n",
    "(training, test) = dataset.randomSplit([0.8, 0.2])"
   ]
  },
  {
   "cell_type": "markdown",
   "metadata": {},
   "source": [
    "## Step 5: Build the Linear SVM model"
   ]
  },
  {
   "cell_type": "code",
   "execution_count": 35,
   "metadata": {
    "collapsed": false
   },
   "outputs": [
    {
     "name": "stdout",
     "output_type": "stream",
     "text": [
      "Coefficients: [2.77818816767,-0.000269945422381,-0.370929441584]\n",
      "Intercept: -0.07992357661221175\n"
     ]
    }
   ],
   "source": [
    "lsvc = LinearSVC(maxIter=10, regParam=0.1)\n",
    "\n",
    "# Fit the model\n",
    "lsvcModel = lsvc.fit(featureVector)\n",
    "\n",
    "# Print the coefficients and intercept for linearsSVC\n",
    "print(\"Coefficients: \" + str(lsvcModel.coefficients))\n",
    "print(\"Intercept: \" + str(lsvcModel.intercept))\n"
   ]
  },
  {
   "cell_type": "markdown",
   "metadata": {},
   "source": [
    "## Step 6: Run the test set and get the predictions"
   ]
  },
  {
   "cell_type": "code",
   "execution_count": 38,
   "metadata": {
    "collapsed": false
   },
   "outputs": [
    {
     "name": "stdout",
     "output_type": "stream",
     "text": [
      "+-----+---+----+----+----------------+--------------------+----------+\n",
      "|label|gre| gpa|rank|        features|       rawPrediction|prediction|\n",
      "+-----+---+----+----+----------------+--------------------+----------+\n",
      "|    0|220|2.83|   3|[0.0,220.0,2.83]|[1.18904188921871...|       0.0|\n",
      "|    0|300|2.92|   4|[0.0,300.0,2.92]|[1.24402117275177...|       0.0|\n",
      "|    0|300|3.01|   3|[0.0,300.0,3.01]|[1.27740482249432...|       0.0|\n",
      "|    0|340| 2.9|   1| [0.0,340.0,2.9]|[1.24740040081534...|       0.0|\n",
      "|    0|340|3.15|   3|[0.0,340.0,3.15]|[1.34013276121133...|       0.0|\n",
      "|    0|360|2.56|   3|[0.0,360.0,2.56]|[1.12668329912442...|       0.0|\n",
      "|    0|360| 3.0|   3| [0.0,360.0,3.0]|[1.28989225342136...|       0.0|\n",
      "|    0|360|3.14|   1|[0.0,360.0,3.14]|[1.34182237524312...|       0.0|\n",
      "|    0|380|2.91|   4|[0.0,380.0,2.91]|[1.26190751212643...|       0.0|\n",
      "|    0|380|2.94|   3|[0.0,380.0,2.94]|[1.27303539537395...|       0.0|\n",
      "|    0|380|3.33|   4|[0.0,380.0,3.33]|[1.41769787759170...|       0.0|\n",
      "|    0|380|3.34|   3|[0.0,380.0,3.34]|[1.42140717200754...|       0.0|\n",
      "|    0|380|3.38|   2|[0.0,380.0,3.38]|[1.43624434967089...|       0.0|\n",
      "|    0|380|3.43|   3|[0.0,380.0,3.43]|[1.45479082175009...|       0.0|\n",
      "|    0|380|3.61|   3|[0.0,380.0,3.61]|[1.52155812123521...|       0.0|\n",
      "|    0|400|2.93|   3|[0.0,400.0,2.93]|[1.27472500940574...|       0.0|\n",
      "|    0|400|3.08|   2|[0.0,400.0,3.08]|[1.33036442564333...|       0.0|\n",
      "|    0|400|3.31|   3|[0.0,400.0,3.31]|[1.41567819720764...|       0.0|\n",
      "|    0|400|3.35|   3|[0.0,400.0,3.35]|[1.43051537487100...|       0.0|\n",
      "|    0|400|3.36|   2|[0.0,400.0,3.36]|[1.43422466928684...|       0.0|\n",
      "+-----+---+----+----+----------------+--------------------+----------+\n",
      "only showing top 20 rows\n",
      "\n"
     ]
    }
   ],
   "source": [
    "featureVector_test = assembler.transform(training)\n",
    "featureVector_test = featureVector_test.withColumnRenamed(\"admit\", \"label\")\n",
    "\n",
    "predictions = lsvcModel.transform(featureVector_test)\n",
    "\n",
    "predictions.show()"
   ]
  },
  {
   "cell_type": "markdown",
   "metadata": {},
   "source": [
    "## Step 7: See the evaluation metrics"
   ]
  },
  {
   "cell_type": "code",
   "execution_count": null,
   "metadata": {
    "collapsed": false
   },
   "outputs": [],
   "source": [
    "evaluator = BinaryClassificationEvaluator(rawPredictionCol=\"rawPrediction\")\n",
    "evaluator.evaluate(predictions)  #AUC\n"
   ]
  },
  {
   "cell_type": "markdown",
   "metadata": {},
   "source": [
    "What does AUC = 1 mean?"
   ]
  },
  {
   "cell_type": "code",
   "execution_count": 47,
   "metadata": {
    "collapsed": false
   },
   "outputs": [
    {
     "name": "stdout",
     "output_type": "stream",
     "text": [
      "Test Error = 0\n"
     ]
    }
   ],
   "source": [
    "\n",
    "# Select (prediction, true label) and compute test error\n",
    "evaluator = MulticlassClassificationEvaluator(\n",
    "    labelCol=\"label\", predictionCol=\"prediction\", metricName=\"accuracy\")\n",
    "accuracy = evaluator.evaluate(predictions)\n",
    "print(\"Test Error = %g\" % (1.0 - accuracy))\n"
   ]
  },
  {
   "cell_type": "markdown",
   "metadata": {},
   "source": [
    "## Step 8: Show the confusion matrix"
   ]
  },
  {
   "cell_type": "code",
   "execution_count": 54,
   "metadata": {
    "collapsed": false,
    "scrolled": true
   },
   "outputs": [
    {
     "name": "stdout",
     "output_type": "stream",
     "text": [
      "+-----+---+---+\n",
      "|label|  0|  1|\n",
      "+-----+---+---+\n",
      "|    0|226|  0|\n",
      "|    1|  0|103|\n",
      "+-----+---+---+\n",
      "\n"
     ]
    }
   ],
   "source": [
    "# Confusion matrix\n",
    "predictions.groupBy('label').pivot('prediction', [0,1]).count().na.fill(0).orderBy('label').show()"
   ]
  },
  {
   "cell_type": "code",
   "execution_count": null,
   "metadata": {
    "collapsed": true
   },
   "outputs": [],
   "source": []
  }
 ],
 "metadata": {
  "anaconda-cloud": {},
  "kernelspec": {
   "display_name": "Python 3",
   "language": "python",
   "name": "python3"
  },
  "language_info": {
   "codemirror_mode": {
    "name": "ipython",
    "version": 3
   },
   "file_extension": ".py",
   "mimetype": "text/x-python",
   "name": "python",
   "nbconvert_exporter": "python",
   "pygments_lexer": "ipython3",
   "version": "3.5.2"
  }
 },
 "nbformat": 4,
 "nbformat_minor": 1
}
