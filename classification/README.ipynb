{
 "cells": [
  {
   "cell_type": "markdown",
   "metadata": {},
   "source": [
    "<link rel='stylesheet' href='assets/css/main.css'/>\n",
    "\n",
    "[<< back to main index](../README.md)\n",
    "\n",
    "# Machine Learning With Spark: Classification \n",
    "\n",
    "## Intro\n",
    "\n",
    "These labs explore classificationl\n",
    "\n",
    "\n",
    "## Labs\n",
    " * 1. SVM: College Dataset - [Jupyter Notebook](1-svm-college.ipynb)\n",
    "\n",
    "\n",
    "[<< back to main index](../README.md)"
   ]
  }
 ],
 "metadata": {},
 "nbformat": 4,
 "nbformat_minor": 0
}
