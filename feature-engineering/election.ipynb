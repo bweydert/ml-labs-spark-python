{
 "cells": [
  {
   "cell_type": "markdown",
   "metadata": {},
   "source": [
    "# Feature Engineering: Presidential Contributions\n",
    "\n",
    "Let's clean up the presidential contributions dataset by feature engineering."
   ]
  },
  {
   "cell_type": "code",
   "execution_count": null,
   "metadata": {
    "collapsed": true
   },
   "outputs": [],
   "source": [
    "%matplotlib inline\n",
    "\n",
    "\n",
    "print('Spark UI running on http://YOURIPADDRESS:' + sc.uiWebUrl.split(':')[2])"
   ]
  },
  {
   "cell_type": "markdown",
   "metadata": {
    "collapsed": true
   },
   "source": [
    "## Step 1: Load the data"
   ]
  },
  {
   "cell_type": "code",
   "execution_count": null,
   "metadata": {
    "collapsed": true
   },
   "outputs": [],
   "source": [
    "#Load presidential contrib data\n",
    "contribs = spark.read.csv(\"/data/presidential_election_contribs/2016/2016-medium-10k.csv\", header=True, inferSchema=True)\n",
    "\n",
    "## TODO: display all columns\n",
    "print (contribs.columns)\n",
    "\n",
    "## TODO : how many records do we have?\n",
    "## Hint : count\n",
    "print (contribs.???())\n",
    "\n",
    "## TODO : see some sample data\n",
    "## HInt : show()\n",
    "contribs.???()\n"
   ]
  },
  {
   "cell_type": "markdown",
   "metadata": {},
   "source": [
    "## Select fields to analyze\n"
   ]
  },
  {
   "cell_type": "code",
   "execution_count": null,
   "metadata": {
    "collapsed": true
   },
   "outputs": [],
   "source": [
    "## TODO : extract the following fields\n",
    "##    - Candidate Name : 'CAND_NM\n",
    "##    - Contributor Name : 'CONTBR_NM'\n",
    "##    - Contributor Occupation : ????\n",
    "##    - COntribution Amount : ????\n",
    "\n",
    "contribs2 = contribs.select([ 'CAND_NM', 'CONTBR_NM', '???', '???'])\n",
    "print(contribs2.count())\n",
    "contribs2.show(20, False)"
   ]
  },
  {
   "cell_type": "markdown",
   "metadata": {},
   "source": [
    "## Step 2: Negative Contributions ??!??\n",
    "\n",
    "As a cleanup, let us check for contribution amounts less than zero, and fix if necessary."
   ]
  },
  {
   "cell_type": "code",
   "execution_count": null,
   "metadata": {
    "collapsed": true
   },
   "outputs": [],
   "source": [
    "# Contribution receipt less than zero?\n",
    "## TODO : filter\n",
    "## HINT : filter ('column name for amount' < 0)\n",
    "#negative_contrib = contrib2.???(' condition ')\n",
    "negative_contrib = contribs2.filter('???')\n",
    "\n",
    "## TODO : how many negative contributions do we have?\n",
    "## Hint : count\n",
    "print(negative_contrib.count())\n",
    "\n",
    "## TODO : print some sample data\n",
    "## Hint : show()\n",
    "negative_contrib.show(10, False)"
   ]
  },
  {
   "cell_type": "markdown",
   "metadata": {},
   "source": [
    "## Step 3 : Extra data that only has positive contribution amount"
   ]
  },
  {
   "cell_type": "code",
   "execution_count": null,
   "metadata": {
    "collapsed": true
   },
   "outputs": [],
   "source": [
    "## TODO: \n",
    "##     extract only positive  contribs\n",
    "pos_contribs = contribs2.filter('???')\n",
    "\n",
    "print(pos_contribs.count())"
   ]
  },
  {
   "cell_type": "markdown",
   "metadata": {},
   "source": [
    "## Step 4: Split up name into first name and last name\n",
    "This is an example on how to create new columns"
   ]
  },
  {
   "cell_type": "code",
   "execution_count": null,
   "metadata": {
    "collapsed": true
   },
   "outputs": [],
   "source": [
    "split_col = split(contribs2['CONTBR_NM'], ',')\n",
    "first_last_name = contribs2.withColumn('LASTNAME', trim(split_col.getItem(0)))\n",
    "first_last_name = first_last_name.withColumn('FIRSTNAME', trim(split_col.getItem(1)))\n",
    "\n",
    "first_last_name.show()"
   ]
  },
  {
   "cell_type": "markdown",
   "metadata": {},
   "source": [
    "## Step 5: Analyze data\n",
    "Let's do some analyze"
   ]
  },
  {
   "cell_type": "markdown",
   "metadata": {},
   "source": [
    "### Count contributions per candidate"
   ]
  },
  {
   "cell_type": "code",
   "execution_count": null,
   "metadata": {
    "collapsed": true
   },
   "outputs": [],
   "source": [
    "## TODO : What is the breakdown by candidate name?\n",
    "## Hint : groupBy(\"name\").count()\n",
    "\n",
    "pos_contribs.groupBy(\"CAND_NM\").count().show()\n",
    "\n",
    "## TODO : sort by contrib total"
   ]
  },
  {
   "cell_type": "markdown",
   "metadata": {},
   "source": [
    "### Calculate AVG, MIN, MAX contributions per candidate\n",
    "For this we can easily use SQL"
   ]
  },
  {
   "cell_type": "code",
   "execution_count": null,
   "metadata": {
    "collapsed": true
   },
   "outputs": [],
   "source": [
    "## TODO \n",
    "\n",
    "pos_contribs.createOrReplaceTempView(\"contribs\")\n",
    "\n",
    "avg_per_candidate = spark.sql(\"select CAND_NM, AVG(CONTB_RECEIPT_AMT) as avg_contrib from contribs group by CAND_NM order by avg_contrib  DESC\")\n",
    "avg_per_candidate.show(20, False)"
   ]
  },
  {
   "cell_type": "markdown",
   "metadata": {},
   "source": [
    "### Calculate AVG contribution by Occupation\n",
    "If you are political consultants, which people you might try to solicit money?"
   ]
  },
  {
   "cell_type": "code",
   "execution_count": null,
   "metadata": {
    "collapsed": true
   },
   "outputs": [],
   "source": [
    "## TODO \n",
    "#avg_per_occupation = spark.sql(\"\")"
   ]
  },
  {
   "cell_type": "markdown",
   "metadata": {},
   "source": [
    "## Class Discussion\n",
    "Now that we have done some feature engineering, waht other attributes we can extract and analyze?"
   ]
  }
 ],
 "metadata": {
  "anaconda-cloud": {},
  "kernelspec": {
   "display_name": "Python 3",
   "language": "python",
   "name": "python3"
  },
  "language_info": {
   "codemirror_mode": {
    "name": "ipython",
    "version": 3
   },
   "file_extension": ".py",
   "mimetype": "text/x-python",
   "name": "python",
   "nbconvert_exporter": "python",
   "pygments_lexer": "ipython3",
   "version": "3.6.1"
  }
 },
 "nbformat": 4,
 "nbformat_minor": 1
}
