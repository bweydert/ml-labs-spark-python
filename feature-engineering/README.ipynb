{
 "cells": [
  {
   "cell_type": "markdown",
   "metadata": {},
   "source": [
    "[<< back to main index](../README.md)\n",
    "\n",
    "# Feature Engineering Labs\n",
    "\n",
    "## Intro\n",
    "\n",
    "These labs explore transforming data to add new features as well as cleansing the data\n",
    "to get better results\n",
    "\n",
    "\n",
    "## Labs\n",
    "\n",
    " * 1. Feature Engineeirng - [Jupyter Notebook](1-election.ipynb)\n",
    "\n",
    "[<< back to main index](../README.md)"
   ]
  }
 ],
 "metadata": {},
 "nbformat": 4,
 "nbformat_minor": 0
}
