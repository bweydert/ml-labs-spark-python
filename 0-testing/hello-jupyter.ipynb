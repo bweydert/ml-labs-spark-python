{
 "cells": [
  {
   "cell_type": "markdown",
   "metadata": {},
   "source": [
    "# Hello Jupyter\n",
    "\n",
    "### Goal\n",
    "Get familiar with Jupyter Notebook"
   ]
  },
  {
   "cell_type": "markdown",
   "metadata": {},
   "source": [
    "## Create a code cell\n",
    "Click on the '+' button on the tool bar above.  \n",
    "It will create a new cell below here.  \n",
    "Type the following code into the cell. \n",
    "\n",
    "```python\n",
    "    println(\"Hello world\")\n",
    "```\n",
    "\n",
    "And click on 'Run' button to execute.  "
   ]
  },
  {
   "cell_type": "markdown",
   "metadata": {},
   "source": [
    "## Multiple Code Cells\n",
    "Go ahead and create mutiple code cells below.  \n",
    "And add the code below in each cell.\n",
    "\n",
    "```python\n",
    "    print(1)\n",
    "```\n",
    "\n",
    "```python\n",
    "    print(2)\n",
    "```\n",
    "\n",
    "```python\n",
    "    print(3)\n",
    "```\n",
    "\n",
    "**Re-order** code cells, so it prints   \n",
    "2  \n",
    "3  \n",
    "1  \n",
    "Hint : Use 'up' / 'down' buttons in toolbar"
   ]
  },
  {
   "cell_type": "markdown",
   "metadata": {},
   "source": [
    "## Code Completion Using TAB key\n",
    "Jupyter does code completion using TAB key.  Try this"
   ]
  },
  {
   "cell_type": "code",
   "execution_count": null,
   "metadata": {
    "collapsed": true
   },
   "outputs": [],
   "source": [
    "a = \"Hello World\"\n"
   ]
  },
  {
   "cell_type": "code",
   "execution_count": null,
   "metadata": {},
   "outputs": [],
   "source": [
    "## after executing the code blog\n",
    "## type a. and hit the TAB key\n",
    "#a.TAB KEY\n",
    "\n",
    "## Find the method for lowercase in tab completion\n",
    "a.lower()"
   ]
  },
  {
   "cell_type": "markdown",
   "metadata": {},
   "source": [
    "## Execute All Cells\n",
    "Click on 'Cell --> Execute All'  to run all code cells"
   ]
  },
  {
   "cell_type": "markdown",
   "metadata": {},
   "source": [
    "## Clean Halt the Notebook\n",
    "Go to 'File' menu and choose 'Close and Halt'"
   ]
  }
 ],
 "metadata": {
  "kernelspec": {
   "display_name": "Python 3",
   "language": "python",
   "name": "python3"
  },
  "language_info": {
   "codemirror_mode": {
    "name": "ipython",
    "version": 3
   },
   "file_extension": ".py",
   "mimetype": "text/x-python",
   "name": "python",
   "nbconvert_exporter": "python",
   "pygments_lexer": "ipython3",
   "version": "3.6.1"
  }
 },
 "nbformat": 4,
 "nbformat_minor": 2
}
