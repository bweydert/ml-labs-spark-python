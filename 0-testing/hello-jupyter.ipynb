{
 "cells": [
  {
   "cell_type": "markdown",
   "metadata": {},
   "source": [
    "# Hello Jupyter\n",
    "\n",
    "### Goal\n",
    "Get familiar with Jupyter Notebook\n",
    "\n",
    "<img src=\"../assets/images/jupyter.png\"/>"
   ]
  },
  {
   "cell_type": "markdown",
   "metadata": {},
   "source": [
    "## 1: Create a code cell\n",
    "Click on the '+' button on the tool bar above.  \n",
    "It will create a new cell below here.  \n",
    "Type the following code into the cell. \n",
    "\n",
    "```python\n",
    "    print(\"Hello world\")\n",
    "```\n",
    "\n",
    "And click on 'Run' button to execute.  "
   ]
  },
  {
   "cell_type": "markdown",
   "metadata": {},
   "source": [
    "## 2: Multiple Code Cells\n",
    "Go ahead and create mutiple code cells below.  \n",
    "And add the code below in each cell.\n",
    "\n",
    "cell 1\n",
    "```python\n",
    "    print(1)\n",
    "```\n",
    "\n",
    "cell 2\n",
    "```python\n",
    "    print(2)\n",
    "```\n",
    "\n",
    "cell 3\n",
    "```python\n",
    "    print(3)\n",
    "```\n",
    "\n"
   ]
  },
  {
   "cell_type": "code",
   "execution_count": null,
   "metadata": {},
   "outputs": [],
   "source": [
    "# code cell"
   ]
  },
  {
   "cell_type": "markdown",
   "metadata": {},
   "source": [
    "**Re-order** code cells, so it prints   \n",
    "2  \n",
    "3  \n",
    "1  \n",
    "Hint : Use 'up' / 'down' buttons in toolbar"
   ]
  },
  {
   "cell_type": "markdown",
   "metadata": {},
   "source": [
    "## 3: Tab Completion\n",
    "Tab completion is a wonderful feature"
   ]
  },
  {
   "cell_type": "code",
   "execution_count": null,
   "metadata": {},
   "outputs": [],
   "source": [
    "a = \"Hello World\""
   ]
  },
  {
   "cell_type": "code",
   "execution_count": null,
   "metadata": {},
   "outputs": [],
   "source": [
    "# Execute the above cell \n",
    "# now let's find all the methods in A\n",
    "a.[TAB]\n",
    "\n",
    "## find the  method to lowercase the string and print it"
   ]
  },
  {
   "cell_type": "markdown",
   "metadata": {},
   "source": [
    "**Use Shift Tab to find the variable type**"
   ]
  },
  {
   "cell_type": "code",
   "execution_count": null,
   "metadata": {},
   "outputs": [],
   "source": [
    "# a[SHIFT][TAB]"
   ]
  },
  {
   "cell_type": "markdown",
   "metadata": {},
   "source": [
    "## 4 - Getting Help\n",
    "Use '?' to get help"
   ]
  },
  {
   "cell_type": "code",
   "execution_count": null,
   "metadata": {},
   "outputs": [],
   "source": [
    "a = \"Hello world\"\n",
    "a?"
   ]
  },
  {
   "cell_type": "code",
   "execution_count": null,
   "metadata": {},
   "outputs": [],
   "source": [
    "# To find all functions\n",
    "a.*?"
   ]
  },
  {
   "cell_type": "code",
   "execution_count": null,
   "metadata": {},
   "outputs": [],
   "source": [
    "# to find functions starting with 'l'\n",
    "a.l*?"
   ]
  },
  {
   "cell_type": "code",
   "execution_count": null,
   "metadata": {},
   "outputs": [],
   "source": [
    "# To get more info on a function\n",
    "a.lstrip?"
   ]
  },
  {
   "cell_type": "markdown",
   "metadata": {},
   "source": [
    "## 5 - Profile: Measure time taken\n",
    "Use **%%time** construct"
   ]
  },
  {
   "cell_type": "code",
   "execution_count": null,
   "metadata": {},
   "outputs": [],
   "source": [
    "%%time\n",
    "\n",
    "for i in range(1,10000000):\n",
    "    pass\n"
   ]
  },
  {
   "cell_type": "markdown",
   "metadata": {},
   "source": [
    "## 6 - Execute All Cells\n",
    "Click on **'Cell --> Execute All'**  to run all code cells"
   ]
  },
  {
   "cell_type": "markdown",
   "metadata": {},
   "source": [
    "## 7 - Restart the Kernel\n",
    "If your kernel is not initialized properly, or you want a clean run of your notebook   \n",
    "Go to **'Kernel --> Restart'**"
   ]
  },
  {
   "cell_type": "markdown",
   "metadata": {},
   "source": [
    "## 8 - Download Jupyter Notebook\n",
    "Go to 'File --> Download As'  and try to download the notebook in the following formats\n",
    "- Jupyter Notebook\n",
    "- Python\n",
    "- HTML\n",
    "- Markdown\n",
    "- PDF"
   ]
  },
  {
   "cell_type": "markdown",
   "metadata": {},
   "source": [
    "## 9 - Clean Halt the Notebook\n",
    "Go to **'File --> Close and Halt'**"
   ]
  },
  {
   "cell_type": "code",
   "execution_count": null,
   "metadata": {},
   "outputs": [],
   "source": []
  }
 ],
 "metadata": {
  "kernelspec": {
   "display_name": "Python 3",
   "language": "python",
   "name": "python3"
  },
  "language_info": {
   "codemirror_mode": {
    "name": "ipython",
    "version": 3
   },
   "file_extension": ".py",
   "mimetype": "text/x-python",
   "name": "python",
   "nbconvert_exporter": "python",
   "pygments_lexer": "ipython3",
   "version": "3.6.6"
  }
 },
 "nbformat": 4,
 "nbformat_minor": 2
}
