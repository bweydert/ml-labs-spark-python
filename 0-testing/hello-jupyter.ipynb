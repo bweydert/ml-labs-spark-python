{
 "cells": [
  {
   "cell_type": "markdown",
   "metadata": {},
   "source": [
    "# Hello Jupyter\n",
    "\n",
    "### Goal\n",
    "Get familiar with Jupyter Notebook"
   ]
  },
  {
   "cell_type": "markdown",
   "metadata": {},
   "source": [
    "## Create a code cell\n",
    "Click on the '+' button on the tool bar above.  \n",
    "It will create a new cell below here.  \n",
    "Type the following code into the cell. \n",
    "\n",
    "```python\n",
    "    print(\"Hello world\")\n",
    "```\n",
    "\n",
    "And click on 'Run' button to execute.  "
   ]
  },
  {
   "cell_type": "markdown",
   "metadata": {},
   "source": [
    "## Multiple Code Cells\n",
    "Go ahead and create mutiple code cells below.  \n",
    "And add the code below in each cell.\n",
    "\n",
    "cell 1\n",
    "```python\n",
    "    print(1)\n",
    "```\n",
    "\n",
    "cell 2\n",
    "```python\n",
    "    print(2)\n",
    "```\n",
    "\n",
    "cell 3\n",
    "```python\n",
    "    print(3)\n",
    "```\n",
    "\n"
   ]
  },
  {
   "cell_type": "code",
   "execution_count": null,
   "metadata": {
    "collapsed": true
   },
   "outputs": [],
   "source": [
    "# code cell"
   ]
  },
  {
   "cell_type": "markdown",
   "metadata": {},
   "source": [
    "**Re-order** code cells, so it prints   \n",
    "2  \n",
    "3  \n",
    "1  \n",
    "Hint : Use 'up' / 'down' buttons in toolbar"
   ]
  },
  {
   "cell_type": "markdown",
   "metadata": {},
   "source": [
    "## Tab Completion\n",
    "Tab completion is a wonderful feature"
   ]
  },
  {
   "cell_type": "code",
   "execution_count": null,
   "metadata": {
    "collapsed": true
   },
   "outputs": [],
   "source": [
    "a = \"Hello World\""
   ]
  },
  {
   "cell_type": "code",
   "execution_count": null,
   "metadata": {
    "collapsed": true
   },
   "outputs": [],
   "source": [
    "# Execute the above cell \n",
    "# now let's find all the methods in A\n",
    "a.[TAB]\n",
    "\n",
    "## find the  method to lowercase the string and print it"
   ]
  },
  {
   "cell_type": "markdown",
   "metadata": {},
   "source": [
    "**Use Shift Tab to find the variable type**"
   ]
  },
  {
   "cell_type": "code",
   "execution_count": null,
   "metadata": {
    "collapsed": true
   },
   "outputs": [],
   "source": [
    "# a[SHIFT][TAB]"
   ]
  },
  {
   "cell_type": "markdown",
   "metadata": {},
   "source": [
    "## Getting Help\n",
    "Use '?' to get help"
   ]
  },
  {
   "cell_type": "code",
   "execution_count": 1,
   "metadata": {
    "collapsed": true
   },
   "outputs": [],
   "source": [
    "a = \"Hello world\"\n",
    "a?"
   ]
  },
  {
   "cell_type": "code",
   "execution_count": null,
   "metadata": {
    "collapsed": true
   },
   "outputs": [],
   "source": [
    "# To find all functions\n",
    "a.*?"
   ]
  },
  {
   "cell_type": "code",
   "execution_count": null,
   "metadata": {
    "collapsed": true
   },
   "outputs": [],
   "source": [
    "# to find functions starting with 'l'\n",
    "a.l*?"
   ]
  },
  {
   "cell_type": "code",
   "execution_count": null,
   "metadata": {
    "collapsed": true
   },
   "outputs": [],
   "source": [
    "# To get more info on a function\n",
    "a.lstrip?"
   ]
  },
  {
   "cell_type": "markdown",
   "metadata": {},
   "source": [
    "## Execute All Cells\n",
    "Click on 'Cell --> Execute All'  to run all code cells"
   ]
  },
  {
   "cell_type": "markdown",
   "metadata": {},
   "source": [
    "## Clean Halt the Notebook\n",
    "Go to 'File' menu and choose 'Close and Halt'"
   ]
  }
 ],
 "metadata": {
  "kernelspec": {
   "display_name": "Python 3",
   "language": "python",
   "name": "python3"
  },
  "language_info": {
   "codemirror_mode": {
    "name": "ipython",
    "version": 3
   },
   "file_extension": ".py",
   "mimetype": "text/x-python",
   "name": "python",
   "nbconvert_exporter": "python",
   "pygments_lexer": "ipython3",
   "version": "3.6.3"
  }
 },
 "nbformat": 4,
 "nbformat_minor": 2
}
