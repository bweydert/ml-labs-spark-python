{
 "cells": [
  {
   "cell_type": "markdown",
   "metadata": {},
   "source": [
    "# Exploring Pandas with NYC Flights Dataset\n",
    "\n",
    "R users will recognize this famous dataset as a favorite of Hadley Wickham, author of dplyr.  No matter, we can use it with pandas as\n",
    "well.\n",
    "\n",
    "This dataset will give us flight delay data from all flights departing from the three NYC airports (JFK, LGA, EWR) in the year 2013.\n",
    "\n"
   ]
  },
  {
   "cell_type": "code",
   "execution_count": null,
   "metadata": {
    "collapsed": true
   },
   "outputs": [],
   "source": [
    "%matplotlib inline\n",
    "\n",
    "import pandas as pd\n",
    "import matplotlib.pyplot as plt\n",
    "import numpy as np"
   ]
  },
  {
   "cell_type": "code",
   "execution_count": null,
   "metadata": {
    "collapsed": false
   },
   "outputs": [],
   "source": [
    "df = pd.read_csv('/data/nycflights13/flights.csv.gz')"
   ]
  },
  {
   "cell_type": "code",
   "execution_count": null,
   "metadata": {
    "collapsed": false,
    "scrolled": true
   },
   "outputs": [],
   "source": [
    "df"
   ]
  },
  {
   "cell_type": "markdown",
   "metadata": {},
   "source": [
    "Let us focus on some summary and visualizations that we can do here. Let's start out by finding the average delay by month.  We'll also do a matlibplot on it."
   ]
  },
  {
   "cell_type": "code",
   "execution_count": null,
   "metadata": {
    "collapsed": false
   },
   "outputs": [],
   "source": [
    "mean_delay_by_month = df.groupby(['month'])['arr_delay'].mean()\n",
    "mean_delay_by_month"
   ]
  },
  {
   "cell_type": "code",
   "execution_count": null,
   "metadata": {
    "collapsed": false
   },
   "outputs": [],
   "source": [
    "mean_month_plt = mean_delay_by_month.plot(kind='bar', title=\"Mean Delay By Month\")\n",
    "mean_month_plt"
   ]
  },
  {
   "cell_type": "markdown",
   "metadata": {
    "collapsed": true
   },
   "source": [
    "Notice that flights in two months actually have negative delay.  No doubt airlines \"pad\" flight times to achieve better results.\n",
    "\n",
    "One would guess that flights to certain airports may have different results. For example, flights to Chicago (ORD) would no doubt be affected by winter weather. Let's take a look at that."
   ]
  },
  {
   "cell_type": "code",
   "execution_count": null,
   "metadata": {
    "collapsed": false
   },
   "outputs": [],
   "source": [
    "mean_delay_by_month_ord = df[(df.dest == 'ORD')].groupby(['month'])['arr_delay'].mean()\n",
    "print(\"Flights to Chicago (ORD)\")\n",
    "print(mean_delay_by_month_ord)\n",
    "\n",
    "mean_month_plt_ord = mean_delay_by_month_ord.plot(kind='bar', title=\"Mean Delay By Month (Chicago)\")\n",
    "mean_month_plt_ord\n"
   ]
  },
  {
   "cell_type": "code",
   "execution_count": null,
   "metadata": {
    "collapsed": false,
    "scrolled": true
   },
   "outputs": [],
   "source": [
    "# Let's try Los Angeles and compare that\n",
    "\n",
    "mean_delay_by_month_lax = df[(df.dest == 'LAX')].groupby(['month'])['arr_delay'].mean()\n",
    "print(\"Flights to Los Angeles (LAX)\")\n",
    "print(mean_delay_by_month_lax)\n",
    "\n",
    "mean_month_plt_lax = mean_delay_by_month_lax.plot(kind='bar', title=\"Mean Delay By Month (Los Angeles)\")\n",
    "mean_month_plt_lax"
   ]
  },
  {
   "cell_type": "markdown",
   "metadata": {},
   "source": [
    "Perhaps we would like to see which Airline carrier is the best for delays.  Here we have some plots to do that.\n"
   ]
  },
  {
   "cell_type": "code",
   "execution_count": null,
   "metadata": {
    "collapsed": false,
    "scrolled": false
   },
   "outputs": [],
   "source": [
    "# Examine if specific carrier will create different delay impact\n",
    "df[['carrier','arr_delay']].groupby('carrier').mean().plot(kind='bar', figsize =(12,8))\n",
    "plt.xticks(rotation=0)\n",
    "plt.xlabel('Carrier')\n",
    "plt.ylabel('Average Delay in Min')\n",
    "plt.title('Average Arrival Delay by Carrier in 2008, All  airports')\n",
    "\n",
    "\n",
    "df[['carrier','dep_delay']].groupby('carrier').mean().plot(kind='bar', figsize =(12,8))\n",
    "plt.xticks(rotation=0)\n",
    "plt.xlabel('Carrier')\n",
    "plt.ylabel('Average Delay in Min')\n",
    "plt.title('Average Departure Delay by Carrier in 2008, All  airports')\n"
   ]
  },
  {
   "cell_type": "markdown",
   "metadata": {},
   "source": [
    "We see that F9 (Frontier Airlines) is among the worst in terms of delays, while Hawaiian (HA) is among the best."
   ]
  },
  {
   "cell_type": "markdown",
   "metadata": {},
   "source": [
    "### Joins\n",
    "\n",
    "We have a couple of other tables in our dataset: Weather, and airports. Let's look at these two tables and see if we can perform joins."
   ]
  },
  {
   "cell_type": "code",
   "execution_count": null,
   "metadata": {
    "collapsed": false
   },
   "outputs": [],
   "source": [
    "weather = pd.read_csv('/data/nycflights13/weather.csv.gz')\n",
    "weather"
   ]
  },
  {
   "cell_type": "code",
   "execution_count": null,
   "metadata": {
    "collapsed": false
   },
   "outputs": [],
   "source": [
    "df_withweather = pd.merge(df, weather, how='left', on=['year','month', 'day', 'hour'])\n",
    "df_withweather"
   ]
  },
  {
   "cell_type": "code",
   "execution_count": null,
   "metadata": {
    "collapsed": false
   },
   "outputs": [],
   "source": [
    "airports = pd.read_csv('/data/nycflights13/airports.csv.gz')\n",
    "airports"
   ]
  },
  {
   "cell_type": "code",
   "execution_count": null,
   "metadata": {
    "collapsed": false
   },
   "outputs": [],
   "source": [
    "df_withairport = pd.merge(df_withweather, airports, how='left', left_on='dest', right_on='faa')\n",
    "df_withairport"
   ]
  }
 ],
 "metadata": {
  "kernelspec": {
   "display_name": "Python 3",
   "language": "python",
   "name": "python3"
  },
  "language_info": {
   "codemirror_mode": {
    "name": "ipython",
    "version": 3
   },
   "file_extension": ".py",
   "mimetype": "text/x-python",
   "name": "python",
   "nbconvert_exporter": "python",
   "pygments_lexer": "ipython3",
   "version": "3.6.0"
  }
 },
 "nbformat": 4,
 "nbformat_minor": 0
}
