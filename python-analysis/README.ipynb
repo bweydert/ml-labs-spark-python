{
 "cells": [
  {
   "cell_type": "markdown",
   "metadata": {},
   "source": [
    "[<< back to main index](../README.md)\n",
    "\n",
    "# Python Analysis Labs\n",
    "\n",
    "## Intro\n",
    "\n",
    "These labs are for exploring some of our datasets with visualizations, etc.\n",
    "\n",
    "\n",
    "## Labs\n",
    "\n",
    "1. Numpy - [Jupyter Notebook](numpy.ipynb)\n",
    "2. Pandas - [Jupyter Notebook](pandas.ipynb)\n",
    "3. Exploring Pandas - [Jupyter Notebook](exploring-pandas.ipynb)\n",
    "\n",
    "[<< back to main index](../README.md)"
   ]
  }
 ],
 "metadata": {},
 "nbformat": 4,
 "nbformat_minor": 0
}
