{
 "cells": [
  {
   "cell_type": "markdown",
   "metadata": {},
   "source": [
    "# Build Spark Pipelines\n",
    "Let's build a simple Spark ML pipeline\n"
   ]
  },
  {
   "cell_type": "code",
   "execution_count": 1,
   "metadata": {},
   "outputs": [
    {
     "name": "stdout",
     "output_type": "stream",
     "text": [
      "Initializing Spark...\n",
      "Spark found in :  /Users/sujee/spark\n",
      "Spark config:\n",
      "\t spark.app.name=TestApp\n",
      "\tspark.master=local[*]\n",
      "\texecutor.memory=2g\n",
      "\tspark.sql.warehouse.dir=/var/folders/lp/qm_skljd2hl4xtps5vw0tdgm0000gn/T/tmp16jzebqk\n",
      "\tsome_property=some_value\n",
      "Spark UI running on port 4040\n"
     ]
    },
    {
     "data": {
      "text/html": [
       "\n",
       "            <div>\n",
       "                <p><b>SparkSession - in-memory</b></p>\n",
       "                \n",
       "        <div>\n",
       "            <p><b>SparkContext</b></p>\n",
       "\n",
       "            <p><a href=\"http://localhost:4040\">Spark UI</a></p>\n",
       "\n",
       "            <dl>\n",
       "              <dt>Version</dt>\n",
       "                <dd><code>v2.3.0</code></dd>\n",
       "              <dt>Master</dt>\n",
       "                <dd><code>local[*]</code></dd>\n",
       "              <dt>AppName</dt>\n",
       "                <dd><code>TestApp</code></dd>\n",
       "            </dl>\n",
       "        </div>\n",
       "        \n",
       "            </div>\n",
       "        "
      ],
      "text/plain": [
       "<pyspark.sql.session.SparkSession at 0x1112deef0>"
      ]
     },
     "execution_count": 1,
     "metadata": {},
     "output_type": "execute_result"
    }
   ],
   "source": [
    "# initialize Spark Session\n",
    "import os\n",
    "import sys\n",
    "top_dir = os.path.abspath(os.path.join(os.getcwd(), \"../\"))\n",
    "if top_dir not in sys.path:\n",
    "    sys.path.append(top_dir)\n",
    "\n",
    "from init_spark import init_spark\n",
    "spark = init_spark()\n",
    "spark"
   ]
  },
  {
   "cell_type": "code",
   "execution_count": 2,
   "metadata": {},
   "outputs": [],
   "source": [
    "import time\n",
    "from pyspark.ml import Pipeline\n",
    "from pyspark.ml.feature import VectorAssembler\n",
    "from pyspark.ml.feature import StandardScaler\n",
    "from pyspark.ml.feature import StringIndexer\n",
    "from pyspark.ml.feature import OneHotEncoder"
   ]
  },
  {
   "cell_type": "markdown",
   "metadata": {},
   "source": [
    "## Step 1 : Load 'simplified' Propsper data\n",
    "And inspect"
   ]
  },
  {
   "cell_type": "code",
   "execution_count": 3,
   "metadata": {},
   "outputs": [
    {
     "name": "stdout",
     "output_type": "stream",
     "text": [
      "read 200 records\n",
      "CPU times: user 2.65 ms, sys: 1.48 ms, total: 4.13 ms\n",
      "Wall time: 3.39 s\n"
     ]
    }
   ],
   "source": [
    "%%time\n",
    "\n",
    "prosper = spark.read. \\\n",
    "          option(\"header\", \"true\"). \\\n",
    "          option(\"inferSchema\", \"true\").  \\\n",
    "          csv(\"/data/prosper-loan/prosper-loan-data-simplified.csv\")\n",
    "\n",
    "print(\"read {:,} records\".format(prosper.count()))\n"
   ]
  },
  {
   "cell_type": "code",
   "execution_count": 4,
   "metadata": {},
   "outputs": [
    {
     "name": "stdout",
     "output_type": "stream",
     "text": [
      "root\n",
      " |-- LoanStatus: integer (nullable = true)\n",
      " |-- ListingCategory: string (nullable = true)\n",
      " |-- EmploymentStatus: string (nullable = true)\n",
      " |-- CreditScore: integer (nullable = true)\n",
      " |-- StatedMonthlyIncome: double (nullable = true)\n",
      " |-- IncomeVerifiable: boolean (nullable = true)\n",
      "\n",
      "+----------+---------------+----------------+-----------+-------------------+----------------+\n",
      "|LoanStatus|ListingCategory|EmploymentStatus|CreditScore|StatedMonthlyIncome|IncomeVerifiable|\n",
      "+----------+---------------+----------------+-----------+-------------------+----------------+\n",
      "|         1|           Debt|        Employed|        740|        10416.66667|            true|\n",
      "|         0|        Unknown|       Part-time|        760|                0.0|           false|\n",
      "|         1|           Debt|       Full-time|        680|             5000.0|            true|\n",
      "|         1|          Other|       Full-time|        800|             5000.0|            true|\n",
      "|         1|           Debt|       Full-time|        600|             2625.0|            true|\n",
      "|         1|          Other|        Employed|        760|        4992.666667|            true|\n",
      "|         1|           Auto|       Full-time|        820|        4583.333333|            true|\n",
      "|         1|       Business|       Full-time|        780|        2216.666667|            true|\n",
      "|         1|        Unknown|   Self-employed|        680|        8433.333333|            true|\n",
      "|         1|       Personal|       Full-time|        820|        16666.66667|            true|\n",
      "|         1|          Other|       Full-time|        700|            18750.0|            true|\n",
      "|         1|           Debt|       Full-time|        600|             4250.0|            true|\n",
      "|         1|           Debt|            null|        700|        2666.666667|            true|\n",
      "|         1|          Taxes|           Other|        800|        5916.666667|            true|\n",
      "|         0|        Unknown|       Full-time|       null|        5171.166667|            true|\n",
      "|         1|        Unknown|       Full-time|        640|        2666.666667|            true|\n",
      "|         1|           Debt|        Employed|        660|        6666.666667|            true|\n",
      "|         1|        Unknown|       Full-time|        740|             7500.0|            true|\n",
      "|         1|       Personal|       Full-time|        680|        2333.333333|            true|\n",
      "|         1|           Auto|       Full-time|        680|             2750.0|            true|\n",
      "+----------+---------------+----------------+-----------+-------------------+----------------+\n",
      "only showing top 20 rows\n",
      "\n"
     ]
    }
   ],
   "source": [
    "prosper.printSchema()\n",
    "prosper.show()"
   ]
  },
  {
   "cell_type": "markdown",
   "metadata": {},
   "source": [
    "## Step 2: Extract a few columns\n",
    "Extract \n",
    "- LoanStatus\n",
    "- EmploymentStatus\n",
    "- CreditScore"
   ]
  },
  {
   "cell_type": "code",
   "execution_count": 5,
   "metadata": {},
   "outputs": [
    {
     "name": "stdout",
     "output_type": "stream",
     "text": [
      "+----------+----------------+-----------+\n",
      "|LoanStatus|EmploymentStatus|CreditScore|\n",
      "+----------+----------------+-----------+\n",
      "|         1|        Employed|        740|\n",
      "|         0|       Part-time|        760|\n",
      "|         1|       Full-time|        680|\n",
      "|         1|       Full-time|        800|\n",
      "|         1|       Full-time|        600|\n",
      "|         1|        Employed|        760|\n",
      "|         1|       Full-time|        820|\n",
      "|         1|       Full-time|        780|\n",
      "|         1|   Self-employed|        680|\n",
      "|         1|       Full-time|        820|\n",
      "|         1|       Full-time|        700|\n",
      "|         1|       Full-time|        600|\n",
      "|         1|            null|        700|\n",
      "|         1|           Other|        800|\n",
      "|         0|       Full-time|       null|\n",
      "|         1|       Full-time|        640|\n",
      "|         1|        Employed|        660|\n",
      "|         1|       Full-time|        740|\n",
      "|         1|       Full-time|        680|\n",
      "|         1|       Full-time|        680|\n",
      "+----------+----------------+-----------+\n",
      "only showing top 20 rows\n",
      "\n"
     ]
    }
   ],
   "source": [
    "prosper2 = prosper.select(\"LoanStatus\", \"EmploymentStatus\", \"CreditScore\")\n",
    "prosper2.show()"
   ]
  },
  {
   "cell_type": "markdown",
   "metadata": {},
   "source": [
    "## Step 3: Sanity check data and clean it\n",
    "use `describe`"
   ]
  },
  {
   "cell_type": "code",
   "execution_count": 6,
   "metadata": {},
   "outputs": [
    {
     "name": "stdout",
     "output_type": "stream",
     "text": [
      "+-------+-------------------+----------------+-----------------+\n",
      "|summary|         LoanStatus|EmploymentStatus|      CreditScore|\n",
      "+-------+-------------------+----------------+-----------------+\n",
      "|  count|                200|             199|              199|\n",
      "|   mean|               0.68|            null|679.7989949748744|\n",
      "| stddev|0.46764673348231944|            null|65.93507519066739|\n",
      "|    min|                  0|        Employed|              520|\n",
      "|    max|                  1|   Self-employed|              840|\n",
      "+-------+-------------------+----------------+-----------------+\n",
      "\n"
     ]
    }
   ],
   "source": [
    "prosper2.describe().show()"
   ]
  },
  {
   "cell_type": "code",
   "execution_count": 7,
   "metadata": {},
   "outputs": [
    {
     "name": "stdout",
     "output_type": "stream",
     "text": [
      "+----------+----------------+-----------+\n",
      "|LoanStatus|EmploymentStatus|CreditScore|\n",
      "+----------+----------------+-----------+\n",
      "|         1|        Employed|        740|\n",
      "|         0|       Part-time|        760|\n",
      "|         1|       Full-time|        680|\n",
      "|         1|       Full-time|        800|\n",
      "|         1|       Full-time|        600|\n",
      "|         1|        Employed|        760|\n",
      "|         1|       Full-time|        820|\n",
      "|         1|       Full-time|        780|\n",
      "|         1|   Self-employed|        680|\n",
      "|         1|       Full-time|        820|\n",
      "|         1|       Full-time|        700|\n",
      "|         1|       Full-time|        600|\n",
      "|         1|           Other|        800|\n",
      "|         1|       Full-time|        640|\n",
      "|         1|        Employed|        660|\n",
      "|         1|       Full-time|        740|\n",
      "|         1|       Full-time|        680|\n",
      "|         1|       Full-time|        680|\n",
      "|         0|       Full-time|        580|\n",
      "|         1|       Full-time|        540|\n",
      "+----------+----------------+-----------+\n",
      "only showing top 20 rows\n",
      "\n",
      "198\n"
     ]
    }
   ],
   "source": [
    "# Drop any NA values.  Using `dataframe.na.drop()`\n",
    "prosper_clean = prosper2.na.drop()\n",
    "prosper_clean.show()\n",
    "print(prosper_clean.count())"
   ]
  },
  {
   "cell_type": "markdown",
   "metadata": {},
   "source": [
    "## Step 4: StringIndexer for 'EmploymentStatus'"
   ]
  },
  {
   "cell_type": "code",
   "execution_count": 8,
   "metadata": {},
   "outputs": [
    {
     "name": "stdout",
     "output_type": "stream",
     "text": [
      "+----------+----------------+-----------+---------------------+\n",
      "|LoanStatus|EmploymentStatus|CreditScore|EmploymentStatusIndex|\n",
      "+----------+----------------+-----------+---------------------+\n",
      "|         1|        Employed|        740|                  1.0|\n",
      "|         0|       Part-time|        760|                  3.0|\n",
      "|         1|       Full-time|        680|                  0.0|\n",
      "|         1|       Full-time|        800|                  0.0|\n",
      "|         1|       Full-time|        600|                  0.0|\n",
      "|         1|        Employed|        760|                  1.0|\n",
      "|         1|       Full-time|        820|                  0.0|\n",
      "|         1|       Full-time|        780|                  0.0|\n",
      "|         1|   Self-employed|        680|                  2.0|\n",
      "|         1|       Full-time|        820|                  0.0|\n",
      "|         1|       Full-time|        700|                  0.0|\n",
      "|         1|       Full-time|        600|                  0.0|\n",
      "|         1|           Other|        800|                  5.0|\n",
      "|         1|       Full-time|        640|                  0.0|\n",
      "|         1|        Employed|        660|                  1.0|\n",
      "|         1|       Full-time|        740|                  0.0|\n",
      "|         1|       Full-time|        680|                  0.0|\n",
      "|         1|       Full-time|        680|                  0.0|\n",
      "|         0|       Full-time|        580|                  0.0|\n",
      "|         1|       Full-time|        540|                  0.0|\n",
      "+----------+----------------+-----------+---------------------+\n",
      "only showing top 20 rows\n",
      "\n"
     ]
    }
   ],
   "source": [
    "strIndexer_employment = StringIndexer(inputCol=\"EmploymentStatus\", outputCol=\"EmploymentStatusIndex\")\n",
    "indexed1 = strIndexer_employment.fit(prosper_clean).transform(prosper_clean)\n",
    "indexed1.show()"
   ]
  },
  {
   "cell_type": "markdown",
   "metadata": {},
   "source": [
    "## Step 5: One Hot Encoding for 'EmploymentStatus'\n",
    "Now that we have turned `EmploymentStatus` into a number, let's turn it into a vector"
   ]
  },
  {
   "cell_type": "code",
   "execution_count": 9,
   "metadata": {},
   "outputs": [
    {
     "name": "stdout",
     "output_type": "stream",
     "text": [
      "+----------+----------------+-----------+---------------------+----------------------+\n",
      "|LoanStatus|EmploymentStatus|CreditScore|EmploymentStatusIndex|EmploymentStatusVector|\n",
      "+----------+----------------+-----------+---------------------+----------------------+\n",
      "|         1|        Employed|        740|                  1.0|         (6,[1],[1.0])|\n",
      "|         0|       Part-time|        760|                  3.0|         (6,[3],[1.0])|\n",
      "|         1|       Full-time|        680|                  0.0|         (6,[0],[1.0])|\n",
      "|         1|       Full-time|        800|                  0.0|         (6,[0],[1.0])|\n",
      "|         1|       Full-time|        600|                  0.0|         (6,[0],[1.0])|\n",
      "|         1|        Employed|        760|                  1.0|         (6,[1],[1.0])|\n",
      "|         1|       Full-time|        820|                  0.0|         (6,[0],[1.0])|\n",
      "|         1|       Full-time|        780|                  0.0|         (6,[0],[1.0])|\n",
      "|         1|   Self-employed|        680|                  2.0|         (6,[2],[1.0])|\n",
      "|         1|       Full-time|        820|                  0.0|         (6,[0],[1.0])|\n",
      "|         1|       Full-time|        700|                  0.0|         (6,[0],[1.0])|\n",
      "|         1|       Full-time|        600|                  0.0|         (6,[0],[1.0])|\n",
      "|         1|           Other|        800|                  5.0|         (6,[5],[1.0])|\n",
      "|         1|       Full-time|        640|                  0.0|         (6,[0],[1.0])|\n",
      "|         1|        Employed|        660|                  1.0|         (6,[1],[1.0])|\n",
      "|         1|       Full-time|        740|                  0.0|         (6,[0],[1.0])|\n",
      "|         1|       Full-time|        680|                  0.0|         (6,[0],[1.0])|\n",
      "|         1|       Full-time|        680|                  0.0|         (6,[0],[1.0])|\n",
      "|         0|       Full-time|        580|                  0.0|         (6,[0],[1.0])|\n",
      "|         1|       Full-time|        540|                  0.0|         (6,[0],[1.0])|\n",
      "+----------+----------------+-----------+---------------------+----------------------+\n",
      "only showing top 20 rows\n",
      "\n"
     ]
    }
   ],
   "source": [
    "encoder_employment = OneHotEncoder(inputCol=\"EmploymentStatusIndex\", outputCol=\"EmploymentStatusVector\")\n",
    "encoded1 = encoder_employment.transform(indexed1)\n",
    "encoded1.show()"
   ]
  },
  {
   "cell_type": "markdown",
   "metadata": {},
   "source": [
    "## Step 6: Create a pipeline\n",
    "Now we will do pipeline to do indexing and encoding "
   ]
  },
  {
   "cell_type": "code",
   "execution_count": 10,
   "metadata": {
    "collapsed": true
   },
   "outputs": [],
   "source": [
    "strIndexer_employment = StringIndexer(inputCol=\"EmploymentStatus\", outputCol=\"EmploymentStatusIndex\")\n",
    "encoder_employment = OneHotEncoder(inputCol=strIndexer_employment.getOutputCol(), outputCol=\"EmploymentStatusVector\")\n",
    "pipeline = Pipeline(stages=(strIndexer_employment, encoder_employment))\n"
   ]
  },
  {
   "cell_type": "code",
   "execution_count": 11,
   "metadata": {},
   "outputs": [
    {
     "data": {
      "text/plain": [
       "PipelineModel_43978345a07904c300e7"
      ]
     },
     "execution_count": 11,
     "metadata": {},
     "output_type": "execute_result"
    }
   ],
   "source": [
    "model1 = pipeline.fit(prosper_clean)\n",
    "model1"
   ]
  },
  {
   "cell_type": "code",
   "execution_count": 12,
   "metadata": {},
   "outputs": [
    {
     "name": "stdout",
     "output_type": "stream",
     "text": [
      "+----------+----------------+-----------+---------------------+----------------------+\n",
      "|LoanStatus|EmploymentStatus|CreditScore|EmploymentStatusIndex|EmploymentStatusVector|\n",
      "+----------+----------------+-----------+---------------------+----------------------+\n",
      "|         1|        Employed|        740|                  1.0|         (6,[1],[1.0])|\n",
      "|         0|       Part-time|        760|                  3.0|         (6,[3],[1.0])|\n",
      "|         1|       Full-time|        680|                  0.0|         (6,[0],[1.0])|\n",
      "|         1|       Full-time|        800|                  0.0|         (6,[0],[1.0])|\n",
      "|         1|       Full-time|        600|                  0.0|         (6,[0],[1.0])|\n",
      "|         1|        Employed|        760|                  1.0|         (6,[1],[1.0])|\n",
      "|         1|       Full-time|        820|                  0.0|         (6,[0],[1.0])|\n",
      "|         1|       Full-time|        780|                  0.0|         (6,[0],[1.0])|\n",
      "|         1|   Self-employed|        680|                  2.0|         (6,[2],[1.0])|\n",
      "|         1|       Full-time|        820|                  0.0|         (6,[0],[1.0])|\n",
      "|         1|       Full-time|        700|                  0.0|         (6,[0],[1.0])|\n",
      "|         1|       Full-time|        600|                  0.0|         (6,[0],[1.0])|\n",
      "|         1|           Other|        800|                  5.0|         (6,[5],[1.0])|\n",
      "|         1|       Full-time|        640|                  0.0|         (6,[0],[1.0])|\n",
      "|         1|        Employed|        660|                  1.0|         (6,[1],[1.0])|\n",
      "|         1|       Full-time|        740|                  0.0|         (6,[0],[1.0])|\n",
      "|         1|       Full-time|        680|                  0.0|         (6,[0],[1.0])|\n",
      "|         1|       Full-time|        680|                  0.0|         (6,[0],[1.0])|\n",
      "|         0|       Full-time|        580|                  0.0|         (6,[0],[1.0])|\n",
      "|         1|       Full-time|        540|                  0.0|         (6,[0],[1.0])|\n",
      "+----------+----------------+-----------+---------------------+----------------------+\n",
      "only showing top 20 rows\n",
      "\n"
     ]
    }
   ],
   "source": [
    "prosper4 = model1.transform(prosper_clean)\n",
    "prosper4.show()"
   ]
  },
  {
   "cell_type": "markdown",
   "metadata": {},
   "source": [
    "## Step 7: Add Normalizer to CreditScore\n",
    "The FICO credit score ranges between 350 and 850.  Let's normalize this to the range of 0 to 100."
   ]
  },
  {
   "cell_type": "code",
   "execution_count": 13,
   "metadata": {},
   "outputs": [
    {
     "name": "stdout",
     "output_type": "stream",
     "text": [
      "+----------+----------------+-----------+--------------+\n",
      "|LoanStatus|EmploymentStatus|CreditScore|CreditScoreVec|\n",
      "+----------+----------------+-----------+--------------+\n",
      "|         1|        Employed|        740|       [740.0]|\n",
      "|         0|       Part-time|        760|       [760.0]|\n",
      "|         1|       Full-time|        680|       [680.0]|\n",
      "|         1|       Full-time|        800|       [800.0]|\n",
      "|         1|       Full-time|        600|       [600.0]|\n",
      "|         1|        Employed|        760|       [760.0]|\n",
      "|         1|       Full-time|        820|       [820.0]|\n",
      "|         1|       Full-time|        780|       [780.0]|\n",
      "|         1|   Self-employed|        680|       [680.0]|\n",
      "|         1|       Full-time|        820|       [820.0]|\n",
      "|         1|       Full-time|        700|       [700.0]|\n",
      "|         1|       Full-time|        600|       [600.0]|\n",
      "|         1|           Other|        800|       [800.0]|\n",
      "|         1|       Full-time|        640|       [640.0]|\n",
      "|         1|        Employed|        660|       [660.0]|\n",
      "|         1|       Full-time|        740|       [740.0]|\n",
      "|         1|       Full-time|        680|       [680.0]|\n",
      "|         1|       Full-time|        680|       [680.0]|\n",
      "|         0|       Full-time|        580|       [580.0]|\n",
      "|         1|       Full-time|        540|       [540.0]|\n",
      "+----------+----------------+-----------+--------------+\n",
      "only showing top 20 rows\n",
      "\n"
     ]
    }
   ],
   "source": [
    "from pyspark.ml.feature import VectorAssembler\n",
    "\n",
    "vector_assembler= VectorAssembler(inputCols=[\"CreditScore\"], outputCol=\"CreditScoreVec\")\n",
    "prosper_credit_score_vectorized = vector_assembler.transform(prosper_clean)\n",
    "prosper_credit_score_vectorized.show()"
   ]
  },
  {
   "cell_type": "code",
   "execution_count": 14,
   "metadata": {},
   "outputs": [
    {
     "name": "stdout",
     "output_type": "stream",
     "text": [
      "+----------+----------------+-----------+--------------+------------------------+\n",
      "|LoanStatus|EmploymentStatus|CreditScore|CreditScoreVec|CreditScoreVecNormalized|\n",
      "+----------+----------------+-----------+--------------+------------------------+\n",
      "|         1|        Employed|        740|       [740.0]|                 [68.75]|\n",
      "|         0|       Part-time|        760|       [760.0]|                  [75.0]|\n",
      "|         1|       Full-time|        680|       [680.0]|                  [50.0]|\n",
      "|         1|       Full-time|        800|       [800.0]|                  [87.5]|\n",
      "|         1|       Full-time|        600|       [600.0]|                  [25.0]|\n",
      "|         1|        Employed|        760|       [760.0]|                  [75.0]|\n",
      "|         1|       Full-time|        820|       [820.0]|                 [93.75]|\n",
      "|         1|       Full-time|        780|       [780.0]|                 [81.25]|\n",
      "|         1|   Self-employed|        680|       [680.0]|                  [50.0]|\n",
      "|         1|       Full-time|        820|       [820.0]|                 [93.75]|\n",
      "|         1|       Full-time|        700|       [700.0]|                 [56.25]|\n",
      "|         1|       Full-time|        600|       [600.0]|                  [25.0]|\n",
      "|         1|           Other|        800|       [800.0]|                  [87.5]|\n",
      "|         1|       Full-time|        640|       [640.0]|                  [37.5]|\n",
      "|         1|        Employed|        660|       [660.0]|                 [43.75]|\n",
      "|         1|       Full-time|        740|       [740.0]|                 [68.75]|\n",
      "|         1|       Full-time|        680|       [680.0]|                  [50.0]|\n",
      "|         1|       Full-time|        680|       [680.0]|                  [50.0]|\n",
      "|         0|       Full-time|        580|       [580.0]|                 [18.75]|\n",
      "|         1|       Full-time|        540|       [540.0]|                  [6.25]|\n",
      "+----------+----------------+-----------+--------------+------------------------+\n",
      "only showing top 20 rows\n",
      "\n"
     ]
    }
   ],
   "source": [
    "from pyspark.ml.feature import MinMaxScaler\n",
    "\n",
    "\n",
    "scaler_credit_score = MinMaxScaler(min=0, max=100, inputCol=\"CreditScoreVec\", outputCol=\"CreditScoreVecNormalized\")\n",
    "\n",
    "scaler_credit_score_model = scaler_credit_score.fit(prosper_credit_score_vectorized)\n",
    "propser5_scaled = scaler_credit_score_model.transform(prosper_credit_score_vectorized)\n",
    "propser5_scaled.show()"
   ]
  },
  {
   "cell_type": "code",
   "execution_count": 15,
   "metadata": {},
   "outputs": [
    {
     "name": "stdout",
     "output_type": "stream",
     "text": [
      "+----------+----------------+-----------+--------------+------------------------+\n",
      "|LoanStatus|EmploymentStatus|CreditScore|CreditScoreVec|CreditScoreVecNormalized|\n",
      "+----------+----------------+-----------+--------------+------------------------+\n",
      "|         0|       Full-time|        520|       [520.0]|                   [0.0]|\n",
      "|         0|       Full-time|        520|       [520.0]|                   [0.0]|\n",
      "|         1|       Full-time|        520|       [520.0]|                   [0.0]|\n",
      "|         1|       Full-time|        540|       [540.0]|                  [6.25]|\n",
      "|         1|       Full-time|        540|       [540.0]|                  [6.25]|\n",
      "|         0|       Full-time|        540|       [540.0]|                  [6.25]|\n",
      "|         0|       Full-time|        540|       [540.0]|                  [6.25]|\n",
      "|         0|       Full-time|        540|       [540.0]|                  [6.25]|\n",
      "|         1|       Full-time|        540|       [540.0]|                  [6.25]|\n",
      "|         1|       Full-time|        560|       [560.0]|                  [12.5]|\n",
      "|         0|   Self-employed|        560|       [560.0]|                  [12.5]|\n",
      "|         0|       Full-time|        580|       [580.0]|                 [18.75]|\n",
      "|         0|       Full-time|        580|       [580.0]|                 [18.75]|\n",
      "|         0|       Full-time|        580|       [580.0]|                 [18.75]|\n",
      "|         1|       Full-time|        600|       [600.0]|                  [25.0]|\n",
      "|         1|       Full-time|        600|       [600.0]|                  [25.0]|\n",
      "|         1|       Full-time|        600|       [600.0]|                  [25.0]|\n",
      "|         0|       Full-time|        600|       [600.0]|                  [25.0]|\n",
      "|         0|       Full-time|        600|       [600.0]|                  [25.0]|\n",
      "|         0|       Full-time|        600|       [600.0]|                  [25.0]|\n",
      "+----------+----------------+-----------+--------------+------------------------+\n",
      "only showing top 20 rows\n",
      "\n"
     ]
    }
   ],
   "source": [
    "propser5_scaled.sort(\"CreditScore\", ascending=True).show()"
   ]
  },
  {
   "cell_type": "code",
   "execution_count": 16,
   "metadata": {},
   "outputs": [
    {
     "name": "stdout",
     "output_type": "stream",
     "text": [
      "+----------+----------------+-----------+--------------+------------------------+\n",
      "|LoanStatus|EmploymentStatus|CreditScore|CreditScoreVec|CreditScoreVecNormalized|\n",
      "+----------+----------------+-----------+--------------+------------------------+\n",
      "|         1|       Full-time|        840|       [840.0]|                 [100.0]|\n",
      "|         1|       Full-time|        820|       [820.0]|                 [93.75]|\n",
      "|         1|       Full-time|        820|       [820.0]|                 [93.75]|\n",
      "|         1|       Full-time|        820|       [820.0]|                 [93.75]|\n",
      "|         1|           Other|        800|       [800.0]|                  [87.5]|\n",
      "|         1|       Full-time|        800|       [800.0]|                  [87.5]|\n",
      "|         1|        Employed|        800|       [800.0]|                  [87.5]|\n",
      "|         1|       Full-time|        800|       [800.0]|                  [87.5]|\n",
      "|         1|       Full-time|        800|       [800.0]|                  [87.5]|\n",
      "|         1|       Full-time|        800|       [800.0]|                  [87.5]|\n",
      "|         1|       Full-time|        800|       [800.0]|                  [87.5]|\n",
      "|         1|       Full-time|        800|       [800.0]|                  [87.5]|\n",
      "|         1|       Full-time|        780|       [780.0]|                 [81.25]|\n",
      "|         1|       Full-time|        780|       [780.0]|                 [81.25]|\n",
      "|         1|       Full-time|        780|       [780.0]|                 [81.25]|\n",
      "|         1|       Full-time|        780|       [780.0]|                 [81.25]|\n",
      "|         0|        Employed|        780|       [780.0]|                 [81.25]|\n",
      "|         1|        Employed|        780|       [780.0]|                 [81.25]|\n",
      "|         1|        Employed|        780|       [780.0]|                 [81.25]|\n",
      "|         1|       Full-time|        780|       [780.0]|                 [81.25]|\n",
      "+----------+----------------+-----------+--------------+------------------------+\n",
      "only showing top 20 rows\n",
      "\n"
     ]
    }
   ],
   "source": [
    "propser5_scaled.sort(\"CreditScore\", ascending=False).show()"
   ]
  },
  {
   "cell_type": "markdown",
   "metadata": {},
   "source": [
    "## Step: Final Pipeline Code\n",
    "Let's do a pipeline from scratch\n"
   ]
  },
  {
   "cell_type": "code",
   "execution_count": 17,
   "metadata": {},
   "outputs": [
    {
     "name": "stdout",
     "output_type": "stream",
     "text": [
      "+----------+----------------+-----------+--------+-------------+--------------+---------------------+\n",
      "|LoanStatus|EmploymentStatus|CreditScore|EmpIndex|    EmpVector|CreditScoreVec|CreditScoreNormalized|\n",
      "+----------+----------------+-----------+--------+-------------+--------------+---------------------+\n",
      "|         1|        Employed|        740|     1.0|(6,[1],[1.0])|       [740.0]|              [68.75]|\n",
      "|         0|       Part-time|        760|     3.0|(6,[3],[1.0])|       [760.0]|               [75.0]|\n",
      "|         1|       Full-time|        680|     0.0|(6,[0],[1.0])|       [680.0]|               [50.0]|\n",
      "|         1|       Full-time|        800|     0.0|(6,[0],[1.0])|       [800.0]|               [87.5]|\n",
      "|         1|       Full-time|        600|     0.0|(6,[0],[1.0])|       [600.0]|               [25.0]|\n",
      "|         1|        Employed|        760|     1.0|(6,[1],[1.0])|       [760.0]|               [75.0]|\n",
      "|         1|       Full-time|        820|     0.0|(6,[0],[1.0])|       [820.0]|              [93.75]|\n",
      "|         1|       Full-time|        780|     0.0|(6,[0],[1.0])|       [780.0]|              [81.25]|\n",
      "|         1|   Self-employed|        680|     2.0|(6,[2],[1.0])|       [680.0]|               [50.0]|\n",
      "|         1|       Full-time|        820|     0.0|(6,[0],[1.0])|       [820.0]|              [93.75]|\n",
      "|         1|       Full-time|        700|     0.0|(6,[0],[1.0])|       [700.0]|              [56.25]|\n",
      "|         1|       Full-time|        600|     0.0|(6,[0],[1.0])|       [600.0]|               [25.0]|\n",
      "|         1|           Other|        800|     5.0|(6,[5],[1.0])|       [800.0]|               [87.5]|\n",
      "|         1|       Full-time|        640|     0.0|(6,[0],[1.0])|       [640.0]|               [37.5]|\n",
      "|         1|        Employed|        660|     1.0|(6,[1],[1.0])|       [660.0]|              [43.75]|\n",
      "|         1|       Full-time|        740|     0.0|(6,[0],[1.0])|       [740.0]|              [68.75]|\n",
      "|         1|       Full-time|        680|     0.0|(6,[0],[1.0])|       [680.0]|               [50.0]|\n",
      "|         1|       Full-time|        680|     0.0|(6,[0],[1.0])|       [680.0]|               [50.0]|\n",
      "|         0|       Full-time|        580|     0.0|(6,[0],[1.0])|       [580.0]|              [18.75]|\n",
      "|         1|       Full-time|        540|     0.0|(6,[0],[1.0])|       [540.0]|               [6.25]|\n",
      "+----------+----------------+-----------+--------+-------------+--------------+---------------------+\n",
      "only showing top 20 rows\n",
      "\n",
      "CPU times: user 30.9 ms, sys: 6.86 ms, total: 37.7 ms\n",
      "Wall time: 638 ms\n"
     ]
    }
   ],
   "source": [
    "%%time\n",
    "\n",
    "from pyspark.ml import Pipeline\n",
    "from pyspark.ml.feature import VectorAssembler\n",
    "from pyspark.ml.feature import StandardScaler\n",
    "from pyspark.ml.feature import StringIndexer\n",
    "from pyspark.ml.feature import OneHotEncoder\n",
    "from pyspark.ml.feature import MinMaxScaler\n",
    "\n",
    "prosper = spark.read. \\\n",
    "          option(\"header\", \"true\"). \\\n",
    "          option(\"inferSchema\", \"true\").  \\\n",
    "          csv(\"/data/prosper-loan/prosper-loan-data-simplified.csv\")\n",
    "\n",
    "prosper2 = prosper.select(\"LoanStatus\", \"EmploymentStatus\", \"CreditScore\")\n",
    "prosper_clean = prosper2.na.drop()\n",
    "\n",
    "\n",
    "# transformers\n",
    "strIndexer_employment = StringIndexer(inputCol=\"EmploymentStatus\", outputCol=\"EmpIndex\")\n",
    "encoder_employment = OneHotEncoder(inputCol=\"EmpIndex\", outputCol=\"EmpVector\")\n",
    "vector_assembler= VectorAssembler(inputCols=[\"CreditScore\"], outputCol=\"CreditScoreVec\")\n",
    "scaler_credit_score = MinMaxScaler(min=0, max=100, inputCol=\"CreditScoreVec\", outputCol=\"CreditScoreNormalized\")\n",
    "\n",
    "pipeline2 = Pipeline(stages=[strIndexer_employment, encoder_employment, vector_assembler, scaler_credit_score])\n",
    "model2 = pipeline2.fit(prosper_clean)\n",
    "prosper_final = model2.transform(prosper_clean)\n",
    "prosper_final.show()"
   ]
  },
  {
   "cell_type": "code",
   "execution_count": null,
   "metadata": {
    "collapsed": true
   },
   "outputs": [],
   "source": []
  }
 ],
 "metadata": {
  "kernelspec": {
   "display_name": "Python 3",
   "language": "python",
   "name": "python3"
  },
  "language_info": {
   "codemirror_mode": {
    "name": "ipython",
    "version": 3
   },
   "file_extension": ".py",
   "mimetype": "text/x-python",
   "name": "python",
   "nbconvert_exporter": "python",
   "pygments_lexer": "ipython3",
   "version": "3.6.6"
  }
 },
 "nbformat": 4,
 "nbformat_minor": 2
}
