{
 "cells": [
  {
   "cell_type": "markdown",
   "metadata": {},
   "source": [
    "# Pipeline: Prosper Loan Dataset\n",
    "\n",
    "Pipelines are very useful for combining many steps together.\n",
    "\n",
    "We are going to look at the prosper loan dataset.  This dataset shows a history of loans made by Prosper."
   ]
  },
  {
   "cell_type": "code",
   "execution_count": 1,
   "metadata": {},
   "outputs": [
    {
     "name": "stdout",
     "output_type": "stream",
     "text": [
      "Initializing Spark...\n",
      "Spark found in :  /Users/sujee/spark\n",
      "Spark config:\n",
      "\t spark.app.name=TestApp\n",
      "\tspark.master=local[*]\n",
      "\texecutor.memory=2g\n",
      "\tspark.sql.warehouse.dir=/var/folders/lp/qm_skljd2hl4xtps5vw0tdgm0000gn/T/tmp2vwjn9y8\n",
      "\tsome_property=some_value\n",
      "Spark UI running on port 4040\n"
     ]
    },
    {
     "data": {
      "text/html": [
       "\n",
       "            <div>\n",
       "                <p><b>SparkSession - in-memory</b></p>\n",
       "                \n",
       "        <div>\n",
       "            <p><b>SparkContext</b></p>\n",
       "\n",
       "            <p><a href=\"http://localhost:4040\">Spark UI</a></p>\n",
       "\n",
       "            <dl>\n",
       "              <dt>Version</dt>\n",
       "                <dd><code>v2.3.0</code></dd>\n",
       "              <dt>Master</dt>\n",
       "                <dd><code>local[*]</code></dd>\n",
       "              <dt>AppName</dt>\n",
       "                <dd><code>TestApp</code></dd>\n",
       "            </dl>\n",
       "        </div>\n",
       "        \n",
       "            </div>\n",
       "        "
      ],
      "text/plain": [
       "<pyspark.sql.session.SparkSession at 0x11099bef0>"
      ]
     },
     "execution_count": 1,
     "metadata": {},
     "output_type": "execute_result"
    }
   ],
   "source": [
    "# initialize Spark Session\n",
    "import os\n",
    "import sys\n",
    "top_dir = os.path.abspath(os.path.join(os.getcwd(), \"../\"))\n",
    "if top_dir not in sys.path:\n",
    "    sys.path.append(top_dir)\n",
    "\n",
    "from init_spark import init_spark\n",
    "spark = init_spark()\n",
    "spark"
   ]
  },
  {
   "cell_type": "markdown",
   "metadata": {},
   "source": [
    "## Step 1: Load the Data"
   ]
  },
  {
   "cell_type": "code",
   "execution_count": 2,
   "metadata": {},
   "outputs": [],
   "source": [
    "dataset = spark.read.csv(\"/data/prosper-loan/prosper-loan-data.csv.gz\", \n",
    "                         header=True, inferSchema=True)\n"
   ]
  },
  {
   "cell_type": "code",
   "execution_count": 3,
   "metadata": {},
   "outputs": [
    {
     "data": {
      "text/html": [
       "<div>\n",
       "<style scoped>\n",
       "    .dataframe tbody tr th:only-of-type {\n",
       "        vertical-align: middle;\n",
       "    }\n",
       "\n",
       "    .dataframe tbody tr th {\n",
       "        vertical-align: top;\n",
       "    }\n",
       "\n",
       "    .dataframe thead th {\n",
       "        text-align: right;\n",
       "    }\n",
       "</style>\n",
       "<table border=\"1\" class=\"dataframe\">\n",
       "  <thead>\n",
       "    <tr style=\"text-align: right;\">\n",
       "      <th></th>\n",
       "      <th>Term</th>\n",
       "      <th>LoanStatus</th>\n",
       "      <th>BorrowerRate</th>\n",
       "      <th>ProsperRating (numeric)</th>\n",
       "      <th>ProsperScore</th>\n",
       "      <th>ListingCategory</th>\n",
       "      <th>BorrowerState</th>\n",
       "      <th>EmploymentStatus</th>\n",
       "      <th>EmploymentStatusDuration</th>\n",
       "      <th>IsBorrowerHomeowner</th>\n",
       "      <th>...</th>\n",
       "      <th>ProsperPaymentsOneMonthPlusLate</th>\n",
       "      <th>ProsperPrincipalBorrowed</th>\n",
       "      <th>ProsperPrincipalOutstanding</th>\n",
       "      <th>LoanOriginalAmount</th>\n",
       "      <th>MonthlyLoanPayment</th>\n",
       "      <th>Recommendations</th>\n",
       "      <th>InvestmentFromFriendsCount</th>\n",
       "      <th>InvestmentFromFriendsAmount</th>\n",
       "      <th>Investors</th>\n",
       "      <th>YearsWithCredit</th>\n",
       "    </tr>\n",
       "  </thead>\n",
       "  <tbody>\n",
       "    <tr>\n",
       "      <th>0</th>\n",
       "      <td>36</td>\n",
       "      <td>1</td>\n",
       "      <td>0.1580</td>\n",
       "      <td>4.0</td>\n",
       "      <td>6.0</td>\n",
       "      <td>Unknown</td>\n",
       "      <td>CO</td>\n",
       "      <td>Self-employed</td>\n",
       "      <td>2.0</td>\n",
       "      <td>True</td>\n",
       "      <td>...</td>\n",
       "      <td>0.0</td>\n",
       "      <td>0.0</td>\n",
       "      <td>0.0</td>\n",
       "      <td>9425</td>\n",
       "      <td>330.43</td>\n",
       "      <td>0</td>\n",
       "      <td>0</td>\n",
       "      <td>0.0</td>\n",
       "      <td>258</td>\n",
       "      <td>13</td>\n",
       "    </tr>\n",
       "    <tr>\n",
       "      <th>1</th>\n",
       "      <td>36</td>\n",
       "      <td>1</td>\n",
       "      <td>0.1325</td>\n",
       "      <td>4.0</td>\n",
       "      <td>6.0</td>\n",
       "      <td>Unknown</td>\n",
       "      <td>Unknown</td>\n",
       "      <td>Full-time</td>\n",
       "      <td>19.0</td>\n",
       "      <td>False</td>\n",
       "      <td>...</td>\n",
       "      <td>0.0</td>\n",
       "      <td>0.0</td>\n",
       "      <td>0.0</td>\n",
       "      <td>1000</td>\n",
       "      <td>33.81</td>\n",
       "      <td>0</td>\n",
       "      <td>0</td>\n",
       "      <td>0.0</td>\n",
       "      <td>53</td>\n",
       "      <td>14</td>\n",
       "    </tr>\n",
       "    <tr>\n",
       "      <th>2</th>\n",
       "      <td>36</td>\n",
       "      <td>0</td>\n",
       "      <td>0.1435</td>\n",
       "      <td>5.0</td>\n",
       "      <td>4.0</td>\n",
       "      <td>Debt</td>\n",
       "      <td>AL</td>\n",
       "      <td>Employed</td>\n",
       "      <td>1.0</td>\n",
       "      <td>False</td>\n",
       "      <td>...</td>\n",
       "      <td>0.0</td>\n",
       "      <td>0.0</td>\n",
       "      <td>0.0</td>\n",
       "      <td>4000</td>\n",
       "      <td>137.39</td>\n",
       "      <td>0</td>\n",
       "      <td>0</td>\n",
       "      <td>0.0</td>\n",
       "      <td>1</td>\n",
       "      <td>18</td>\n",
       "    </tr>\n",
       "    <tr>\n",
       "      <th>3</th>\n",
       "      <td>36</td>\n",
       "      <td>0</td>\n",
       "      <td>0.3177</td>\n",
       "      <td>1.0</td>\n",
       "      <td>5.0</td>\n",
       "      <td>Household</td>\n",
       "      <td>FL</td>\n",
       "      <td>Other</td>\n",
       "      <td>121.0</td>\n",
       "      <td>True</td>\n",
       "      <td>...</td>\n",
       "      <td>0.0</td>\n",
       "      <td>0.0</td>\n",
       "      <td>0.0</td>\n",
       "      <td>4000</td>\n",
       "      <td>173.71</td>\n",
       "      <td>0</td>\n",
       "      <td>0</td>\n",
       "      <td>0.0</td>\n",
       "      <td>10</td>\n",
       "      <td>15</td>\n",
       "    </tr>\n",
       "    <tr>\n",
       "      <th>4</th>\n",
       "      <td>36</td>\n",
       "      <td>1</td>\n",
       "      <td>0.2075</td>\n",
       "      <td>4.0</td>\n",
       "      <td>6.0</td>\n",
       "      <td>Unknown</td>\n",
       "      <td>MI</td>\n",
       "      <td>Full-time</td>\n",
       "      <td>36.0</td>\n",
       "      <td>False</td>\n",
       "      <td>...</td>\n",
       "      <td>0.0</td>\n",
       "      <td>0.0</td>\n",
       "      <td>0.0</td>\n",
       "      <td>3000</td>\n",
       "      <td>112.64</td>\n",
       "      <td>0</td>\n",
       "      <td>0</td>\n",
       "      <td>0.0</td>\n",
       "      <td>53</td>\n",
       "      <td>11</td>\n",
       "    </tr>\n",
       "  </tbody>\n",
       "</table>\n",
       "<p>5 rows × 46 columns</p>\n",
       "</div>"
      ],
      "text/plain": [
       "   Term  LoanStatus  BorrowerRate  ProsperRating (numeric)  ProsperScore  \\\n",
       "0    36           1        0.1580                      4.0           6.0   \n",
       "1    36           1        0.1325                      4.0           6.0   \n",
       "2    36           0        0.1435                      5.0           4.0   \n",
       "3    36           0        0.3177                      1.0           5.0   \n",
       "4    36           1        0.2075                      4.0           6.0   \n",
       "\n",
       "  ListingCategory BorrowerState EmploymentStatus  EmploymentStatusDuration  \\\n",
       "0         Unknown            CO    Self-employed                       2.0   \n",
       "1         Unknown       Unknown        Full-time                      19.0   \n",
       "2            Debt            AL         Employed                       1.0   \n",
       "3       Household            FL            Other                     121.0   \n",
       "4         Unknown            MI        Full-time                      36.0   \n",
       "\n",
       "   IsBorrowerHomeowner       ...         ProsperPaymentsOneMonthPlusLate  \\\n",
       "0                 True       ...                                     0.0   \n",
       "1                False       ...                                     0.0   \n",
       "2                False       ...                                     0.0   \n",
       "3                 True       ...                                     0.0   \n",
       "4                False       ...                                     0.0   \n",
       "\n",
       "   ProsperPrincipalBorrowed  ProsperPrincipalOutstanding  LoanOriginalAmount  \\\n",
       "0                       0.0                          0.0                9425   \n",
       "1                       0.0                          0.0                1000   \n",
       "2                       0.0                          0.0                4000   \n",
       "3                       0.0                          0.0                4000   \n",
       "4                       0.0                          0.0                3000   \n",
       "\n",
       "   MonthlyLoanPayment  Recommendations  InvestmentFromFriendsCount  \\\n",
       "0              330.43                0                           0   \n",
       "1               33.81                0                           0   \n",
       "2              137.39                0                           0   \n",
       "3              173.71                0                           0   \n",
       "4              112.64                0                           0   \n",
       "\n",
       "   InvestmentFromFriendsAmount  Investors  YearsWithCredit  \n",
       "0                          0.0        258               13  \n",
       "1                          0.0         53               14  \n",
       "2                          0.0          1               18  \n",
       "3                          0.0         10               15  \n",
       "4                          0.0         53               11  \n",
       "\n",
       "[5 rows x 46 columns]"
      ]
     },
     "execution_count": 3,
     "metadata": {},
     "output_type": "execute_result"
    }
   ],
   "source": [
    "import pandas as pd \n",
    "\n",
    "dataset.limit(5).toPandas()"
   ]
  },
  {
   "cell_type": "code",
   "execution_count": 4,
   "metadata": {
    "collapsed": true
   },
   "outputs": [],
   "source": [
    "# Define our columns for convenience.\n",
    "\n",
    "columns = ['Term', 'BorrowerRate', 'ProsperRating (numeric)', 'ProsperScore', 'EmploymentStatusDuration', 'IsBorrowerHomeowner',\n",
    "           'CreditScore', 'CurrentCreditLines', 'OpenCreditLines',\n",
    "           'TotalCreditLinespast7years', 'OpenRevolvingAccounts', 'OpenRevolvingMonthlyPayment',\n",
    "           'InquiriesLast6Months', 'TotalInquiries', 'CurrentDelinquencies', 'AmountDelinquent',\n",
    "           'DelinquenciesLast7Years', 'PublicRecordsLast10Years', 'PublicRecordsLast12Months',\n",
    "           'RevolvingCreditBalance', 'BankcardUtilization', 'AvailableBankcardCredit', 'TotalTrades',\n",
    "           'TradesNeverDelinquent (percentage)', 'TradesOpenedLast6Months', 'DebtToIncomeRatio',\n",
    "           'IncomeVerifiable', 'StatedMonthlyIncome', 'TotalProsperLoans', 'TotalProsperPaymentsBilled',\n",
    "           'OnTimeProsperPayments', 'ProsperPaymentsLessThanOneMonthLate', 'ProsperPaymentsOneMonthPlusLate',\n",
    "           'ProsperPrincipalBorrowed', 'ProsperPrincipalOutstanding', 'LoanOriginalAmount',\n",
    "           'MonthlyLoanPayment', 'Recommendations', 'InvestmentFromFriendsCount', 'InvestmentFromFriendsAmount',\n",
    "           'Investors', 'YearsWithCredit']\n",
    "\n",
    "categorical_columns = [\"BorrowerState\", \"EmploymentStatus\", \"ListingCategory\"]\n",
    "categorical_indexers = [\"BorrowerState_index\", \"EmploymentStatus_index\", \"ListingCategory_index\"]\n",
    "\n",
    "\n"
   ]
  },
  {
   "cell_type": "code",
   "execution_count": 5,
   "metadata": {
    "scrolled": false
   },
   "outputs": [
    {
     "data": {
      "text/html": [
       "<div>\n",
       "<style scoped>\n",
       "    .dataframe tbody tr th:only-of-type {\n",
       "        vertical-align: middle;\n",
       "    }\n",
       "\n",
       "    .dataframe tbody tr th {\n",
       "        vertical-align: top;\n",
       "    }\n",
       "\n",
       "    .dataframe thead th {\n",
       "        text-align: right;\n",
       "    }\n",
       "</style>\n",
       "<table border=\"1\" class=\"dataframe\">\n",
       "  <thead>\n",
       "    <tr style=\"text-align: right;\">\n",
       "      <th></th>\n",
       "      <th>Term</th>\n",
       "      <th>BorrowerRate</th>\n",
       "      <th>ProsperRating (numeric)</th>\n",
       "      <th>ProsperScore</th>\n",
       "      <th>EmploymentStatusDuration</th>\n",
       "      <th>IsBorrowerHomeowner</th>\n",
       "      <th>CreditScore</th>\n",
       "      <th>CurrentCreditLines</th>\n",
       "      <th>OpenCreditLines</th>\n",
       "      <th>TotalCreditLinespast7years</th>\n",
       "      <th>...</th>\n",
       "      <th>ProsperPaymentsOneMonthPlusLate</th>\n",
       "      <th>ProsperPrincipalBorrowed</th>\n",
       "      <th>ProsperPrincipalOutstanding</th>\n",
       "      <th>LoanOriginalAmount</th>\n",
       "      <th>MonthlyLoanPayment</th>\n",
       "      <th>Recommendations</th>\n",
       "      <th>InvestmentFromFriendsCount</th>\n",
       "      <th>InvestmentFromFriendsAmount</th>\n",
       "      <th>Investors</th>\n",
       "      <th>YearsWithCredit</th>\n",
       "    </tr>\n",
       "  </thead>\n",
       "  <tbody>\n",
       "    <tr>\n",
       "      <th>0</th>\n",
       "      <td>36</td>\n",
       "      <td>0.1580</td>\n",
       "      <td>4.0</td>\n",
       "      <td>6.0</td>\n",
       "      <td>2.0</td>\n",
       "      <td>True</td>\n",
       "      <td>640.0</td>\n",
       "      <td>5.0</td>\n",
       "      <td>4.0</td>\n",
       "      <td>12.0</td>\n",
       "      <td>...</td>\n",
       "      <td>0.0</td>\n",
       "      <td>0.0</td>\n",
       "      <td>0.0</td>\n",
       "      <td>9425</td>\n",
       "      <td>330.43</td>\n",
       "      <td>0</td>\n",
       "      <td>0</td>\n",
       "      <td>0.0</td>\n",
       "      <td>258</td>\n",
       "      <td>13</td>\n",
       "    </tr>\n",
       "    <tr>\n",
       "      <th>1</th>\n",
       "      <td>36</td>\n",
       "      <td>0.1325</td>\n",
       "      <td>4.0</td>\n",
       "      <td>6.0</td>\n",
       "      <td>19.0</td>\n",
       "      <td>False</td>\n",
       "      <td>640.0</td>\n",
       "      <td>2.0</td>\n",
       "      <td>2.0</td>\n",
       "      <td>10.0</td>\n",
       "      <td>...</td>\n",
       "      <td>0.0</td>\n",
       "      <td>0.0</td>\n",
       "      <td>0.0</td>\n",
       "      <td>1000</td>\n",
       "      <td>33.81</td>\n",
       "      <td>0</td>\n",
       "      <td>0</td>\n",
       "      <td>0.0</td>\n",
       "      <td>53</td>\n",
       "      <td>14</td>\n",
       "    </tr>\n",
       "    <tr>\n",
       "      <th>2</th>\n",
       "      <td>36</td>\n",
       "      <td>0.1435</td>\n",
       "      <td>5.0</td>\n",
       "      <td>4.0</td>\n",
       "      <td>1.0</td>\n",
       "      <td>False</td>\n",
       "      <td>680.0</td>\n",
       "      <td>9.0</td>\n",
       "      <td>7.0</td>\n",
       "      <td>29.0</td>\n",
       "      <td>...</td>\n",
       "      <td>0.0</td>\n",
       "      <td>0.0</td>\n",
       "      <td>0.0</td>\n",
       "      <td>4000</td>\n",
       "      <td>137.39</td>\n",
       "      <td>0</td>\n",
       "      <td>0</td>\n",
       "      <td>0.0</td>\n",
       "      <td>1</td>\n",
       "      <td>18</td>\n",
       "    </tr>\n",
       "    <tr>\n",
       "      <th>3</th>\n",
       "      <td>36</td>\n",
       "      <td>0.3177</td>\n",
       "      <td>1.0</td>\n",
       "      <td>5.0</td>\n",
       "      <td>121.0</td>\n",
       "      <td>True</td>\n",
       "      <td>700.0</td>\n",
       "      <td>10.0</td>\n",
       "      <td>9.0</td>\n",
       "      <td>18.0</td>\n",
       "      <td>...</td>\n",
       "      <td>0.0</td>\n",
       "      <td>0.0</td>\n",
       "      <td>0.0</td>\n",
       "      <td>4000</td>\n",
       "      <td>173.71</td>\n",
       "      <td>0</td>\n",
       "      <td>0</td>\n",
       "      <td>0.0</td>\n",
       "      <td>10</td>\n",
       "      <td>15</td>\n",
       "    </tr>\n",
       "    <tr>\n",
       "      <th>4</th>\n",
       "      <td>36</td>\n",
       "      <td>0.2075</td>\n",
       "      <td>4.0</td>\n",
       "      <td>6.0</td>\n",
       "      <td>36.0</td>\n",
       "      <td>False</td>\n",
       "      <td>620.0</td>\n",
       "      <td>4.0</td>\n",
       "      <td>4.0</td>\n",
       "      <td>13.0</td>\n",
       "      <td>...</td>\n",
       "      <td>0.0</td>\n",
       "      <td>0.0</td>\n",
       "      <td>0.0</td>\n",
       "      <td>3000</td>\n",
       "      <td>112.64</td>\n",
       "      <td>0</td>\n",
       "      <td>0</td>\n",
       "      <td>0.0</td>\n",
       "      <td>53</td>\n",
       "      <td>11</td>\n",
       "    </tr>\n",
       "  </tbody>\n",
       "</table>\n",
       "<p>5 rows × 42 columns</p>\n",
       "</div>"
      ],
      "text/plain": [
       "   Term  BorrowerRate  ProsperRating (numeric)  ProsperScore  \\\n",
       "0    36        0.1580                      4.0           6.0   \n",
       "1    36        0.1325                      4.0           6.0   \n",
       "2    36        0.1435                      5.0           4.0   \n",
       "3    36        0.3177                      1.0           5.0   \n",
       "4    36        0.2075                      4.0           6.0   \n",
       "\n",
       "   EmploymentStatusDuration  IsBorrowerHomeowner  CreditScore  \\\n",
       "0                       2.0                 True        640.0   \n",
       "1                      19.0                False        640.0   \n",
       "2                       1.0                False        680.0   \n",
       "3                     121.0                 True        700.0   \n",
       "4                      36.0                False        620.0   \n",
       "\n",
       "   CurrentCreditLines  OpenCreditLines  TotalCreditLinespast7years  \\\n",
       "0                 5.0              4.0                        12.0   \n",
       "1                 2.0              2.0                        10.0   \n",
       "2                 9.0              7.0                        29.0   \n",
       "3                10.0              9.0                        18.0   \n",
       "4                 4.0              4.0                        13.0   \n",
       "\n",
       "        ...         ProsperPaymentsOneMonthPlusLate  ProsperPrincipalBorrowed  \\\n",
       "0       ...                                     0.0                       0.0   \n",
       "1       ...                                     0.0                       0.0   \n",
       "2       ...                                     0.0                       0.0   \n",
       "3       ...                                     0.0                       0.0   \n",
       "4       ...                                     0.0                       0.0   \n",
       "\n",
       "   ProsperPrincipalOutstanding  LoanOriginalAmount  MonthlyLoanPayment  \\\n",
       "0                          0.0                9425              330.43   \n",
       "1                          0.0                1000               33.81   \n",
       "2                          0.0                4000              137.39   \n",
       "3                          0.0                4000              173.71   \n",
       "4                          0.0                3000              112.64   \n",
       "\n",
       "   Recommendations  InvestmentFromFriendsCount  InvestmentFromFriendsAmount  \\\n",
       "0                0                           0                          0.0   \n",
       "1                0                           0                          0.0   \n",
       "2                0                           0                          0.0   \n",
       "3                0                           0                          0.0   \n",
       "4                0                           0                          0.0   \n",
       "\n",
       "   Investors  YearsWithCredit  \n",
       "0        258               13  \n",
       "1         53               14  \n",
       "2          1               18  \n",
       "3         10               15  \n",
       "4         53               11  \n",
       "\n",
       "[5 rows x 42 columns]"
      ]
     },
     "execution_count": 5,
     "metadata": {},
     "output_type": "execute_result"
    }
   ],
   "source": [
    "dataset.select(columns).limit(5).toPandas()"
   ]
  },
  {
   "cell_type": "markdown",
   "metadata": {},
   "source": [
    "## Step 2: drop all NAs\n",
    "\n",
    "Go ahead and drop all NAs.\n",
    "\n",
    "**=> TODO: Drop all NAs"
   ]
  },
  {
   "cell_type": "code",
   "execution_count": 6,
   "metadata": {},
   "outputs": [],
   "source": [
    "dataset = dataset.na.drop()"
   ]
  },
  {
   "cell_type": "markdown",
   "metadata": {},
   "source": [
    "## Step 2: Examine the contents of the categorical columns.\n",
    "\n",
    "Let's look at the contents of our categorical columns.\n",
    "\n",
    "**=> TODO: Group by categorical columns LoanStatus BorrowerState, EmploymentStatus, ListingCategory\n",
    "**and see the breakdowns by count** "
   ]
  },
  {
   "cell_type": "code",
   "execution_count": 7,
   "metadata": {},
   "outputs": [
    {
     "name": "stdout",
     "output_type": "stream",
     "text": [
      "+----------+-----+\n",
      "|LoanStatus|count|\n",
      "+----------+-----+\n",
      "|         1|33530|\n",
      "|         0|16194|\n",
      "+----------+-----+\n",
      "\n",
      "+-------------+-----+\n",
      "|BorrowerState|count|\n",
      "+-------------+-----+\n",
      "|           SC|  424|\n",
      "|           AZ|  882|\n",
      "|           LA|  346|\n",
      "|           MN| 1186|\n",
      "|           NJ| 1128|\n",
      "|           DC|  186|\n",
      "|           OR|  938|\n",
      "|           VA| 1434|\n",
      "|           RI|  161|\n",
      "|           KY|  395|\n",
      "|           WY|   62|\n",
      "|           NH|  221|\n",
      "|           MI| 1665|\n",
      "|           NV|  371|\n",
      "|           WI|  785|\n",
      "|           ID|  314|\n",
      "|           CA| 6800|\n",
      "|           NE|  257|\n",
      "|           CT|  597|\n",
      "|           MT|  165|\n",
      "+-------------+-----+\n",
      "only showing top 20 rows\n",
      "\n",
      "+----------------+-----+\n",
      "|EmploymentStatus|count|\n",
      "+----------------+-----+\n",
      "|        Employed|18393|\n",
      "|       Part-time| 1060|\n",
      "|   Self-employed| 3045|\n",
      "|    Not employed|  583|\n",
      "|           Other|  924|\n",
      "|       Full-time|25016|\n",
      "|         Retired|  703|\n",
      "+----------------+-----+\n",
      "\n",
      "+---------------+-----+\n",
      "|ListingCategory|count|\n",
      "+---------------+-----+\n",
      "|        Student|  756|\n",
      "|       Personal| 2392|\n",
      "|     Motorcycle|  103|\n",
      "|  LargePurchase|  224|\n",
      "|           Baby|   46|\n",
      "|      Household|  675|\n",
      "|        Unknown| 9335|\n",
      "|          Other| 6272|\n",
      "|           Auto| 1596|\n",
      "|          Green|   23|\n",
      "|           Debt|19107|\n",
      "|           Reno| 3468|\n",
      "|       Cosmetic|   47|\n",
      "|       Business| 4449|\n",
      "|     Engagement|   72|\n",
      "|       Vacation|  225|\n",
      "|          Taxes|  246|\n",
      "|           Boat|   30|\n",
      "|             RV|   18|\n",
      "|        Medical|  444|\n",
      "|        Wedding|  196|\n",
      "+---------------+-----+\n",
      "\n"
     ]
    }
   ],
   "source": [
    "dataset.groupBy('LoanStatus').count().show()\n",
    "dataset.groupBy('BorrowerState').count().show()\n",
    "dataset.groupBy('EmploymentStatus').count().show()\n",
    "dataset.groupBy('ListingCategory').count().show(60)"
   ]
  },
  {
   "cell_type": "markdown",
   "metadata": {},
   "source": [
    "**=> What does that say about the cardinality of these categorical columns? ***\n",
    "\n"
   ]
  },
  {
   "cell_type": "markdown",
   "metadata": {},
   "source": [
    "## Step 3: Converting Categorical columns \n",
    "\n",
    "We need to convert categorical columns to numerics.  Remember, remember, Spark ML can *only* handle numeric columns.  There's a tool called StringIndexer that will help us here.\n",
    "\n",
    "Because there are a lot of indexers, we build a pipeline to help us out here. \n",
    "\n",
    "**=> TODO: enter in the list with all of our indexers into the pipeline**"
   ]
  },
  {
   "cell_type": "code",
   "execution_count": 8,
   "metadata": {},
   "outputs": [],
   "source": [
    "from pyspark.ml.feature import StringIndexer\n",
    "\n",
    "indexers = [StringIndexer(inputCol=column, outputCol=column+\"_index\", handleInvalid=\"keep\").fit(dataset) for column in categorical_columns ]\n"
   ]
  },
  {
   "cell_type": "markdown",
   "metadata": {},
   "source": [
    "## Step 5: Build feature vectors using VectorAssembler."
   ]
  },
  {
   "cell_type": "code",
   "execution_count": 9,
   "metadata": {
    "collapsed": true
   },
   "outputs": [],
   "source": [
    "from pyspark.ml.feature import VectorAssembler\n",
    "\n",
    "assembler = VectorAssembler(inputCols=columns + categorical_indexers, outputCol=\"features\")"
   ]
  },
  {
   "cell_type": "markdown",
   "metadata": {},
   "source": [
    "## Step 6: Build Indexers\n",
    "\n",
    "We are going to load the label indexer, which will make us a label column for loan status.\n",
    "We will also add feature indexer which will identify which features are categorical. (we should have 3.)"
   ]
  },
  {
   "cell_type": "code",
   "execution_count": 10,
   "metadata": {},
   "outputs": [],
   "source": [
    "# Index labels, adding metadata to the label column.\n",
    "# Fit on whole dataset to include all labels in index.\n",
    "labelIndexer = StringIndexer(inputCol=\"LoanStatus\", outputCol=\"indexedLabel\")\n"
   ]
  },
  {
   "cell_type": "code",
   "execution_count": 11,
   "metadata": {},
   "outputs": [],
   "source": [
    "from pyspark.ml.feature import VectorIndexer\n",
    "\n",
    "# Automatically identify categorical features, and index them.\n",
    "# We specify maxCategories so features with > 4 distinct values are treated as continuous.\n",
    "featureIndexer =\\\n",
    "    VectorIndexer(inputCol=\"features\", outputCol=\"indexedFeatures\", maxCategories=4)\n"
   ]
  },
  {
   "cell_type": "code",
   "execution_count": 12,
   "metadata": {
    "collapsed": true
   },
   "outputs": [],
   "source": [
    "# Scaler\n",
    "from pyspark.ml.feature import StandardScaler\n",
    "\n",
    "scaler = StandardScaler(inputCol=\"indexedFeatures\", outputCol=\"scaledFeatures\")"
   ]
  },
  {
   "cell_type": "markdown",
   "metadata": {},
   "source": [
    "## Step 7: Split Data into training and test.\n",
    "\n",
    "We will split our the data up into training and test.  (You know the drill by now).\n",
    "\n",
    "**=> TODO: Split dataset into 70% training, 30% validation\n"
   ]
  },
  {
   "cell_type": "code",
   "execution_count": 13,
   "metadata": {
    "collapsed": true
   },
   "outputs": [],
   "source": [
    "\n",
    "# Split the data into training and test sets (30% held out for testing)\n",
    "(trainingData, testData) =  dataset.randomSplit([.70, .30])\n"
   ]
  },
  {
   "cell_type": "markdown",
   "metadata": {},
   "source": [
    "## Step 8: Run the pipeline that will fit our decision tree\n",
    "\n",
    "We have a 8 stage pipeline here: \n",
    "\n",
    " 1. CategoryIndexers (3 total)\n",
    " 4. VectorAssembler \n",
    " 5. LabelIndexer\n",
    " 6. FeatureIndexer\n",
    " 7. Scaler\n",
    " 8 RandomForestClassifier\n",
    " \n",
    "Running the pipeline will do all three.  Note that our other indexer pipeline already ran above.\n",
    "\n",
    "**=> TODO: Add indexers list plus labelIndexer, featureIndexer, and rf to our pipeline\n",
    " HINT: You should have 8 seperate items\n"
   ]
  },
  {
   "cell_type": "code",
   "execution_count": 14,
   "metadata": {},
   "outputs": [],
   "source": [
    "from pyspark.ml import Pipeline\n",
    "from pyspark.ml.classification import RandomForestClassifier\n",
    "\n",
    "# Train a DecisionTree model.\n",
    "rf = RandomForestClassifier(labelCol=\"indexedLabel\", featuresCol=\"scaledFeatures\", maxBins=10000, numTrees=20)\n",
    "\n",
    "stages = indexers + [assembler, labelIndexer, featureIndexer, scaler, rf] # TODO enter the six stages to the pipeline\n",
    "\n",
    "# Chain indexers and tree in a Pipeline\n",
    "pipeline = Pipeline(stages=stages)\n",
    "\n"
   ]
  },
  {
   "cell_type": "code",
   "execution_count": 15,
   "metadata": {
    "collapsed": true
   },
   "outputs": [],
   "source": [
    "# Train model.  This also runs the indexers.\n",
    "\n",
    "model = pipeline.fit(trainingData)\n",
    "\n"
   ]
  },
  {
   "cell_type": "markdown",
   "metadata": {},
   "source": [
    "For Test, we don't want to re-run the training of the random forest, but we do want to run the rest of the pipeline.\n"
   ]
  },
  {
   "cell_type": "code",
   "execution_count": 16,
   "metadata": {},
   "outputs": [
    {
     "name": "stdout",
     "output_type": "stream",
     "text": [
      "+----------+------------+--------------------+\n",
      "|prediction|indexedLabel|      scaledFeatures|\n",
      "+----------+------------+--------------------+\n",
      "|       0.0|         1.0|(45,[0,1,2,3,4,6,...|\n",
      "|       0.0|         1.0|(45,[0,1,2,3,4,6,...|\n",
      "|       0.0|         1.0|[0.0,1.2533138996...|\n",
      "|       0.0|         1.0|[0.0,1.3455228602...|\n",
      "|       0.0|         1.0|[0.0,1.3455228602...|\n",
      "+----------+------------+--------------------+\n",
      "only showing top 5 rows\n",
      "\n"
     ]
    }
   ],
   "source": [
    "\n",
    "# Make predictions.\n",
    "predictions = model.transform(testData)\n",
    "\n",
    "# Select example rows to display.\n",
    "predictions.select(\"prediction\", \"indexedLabel\", \"scaledFeatures\").show(5)\n",
    "\n",
    "\n"
   ]
  },
  {
   "cell_type": "markdown",
   "metadata": {},
   "source": [
    "## Step 9: Evaluate the model.\n",
    "\n",
    "Let us check to see how the model did, using accuracy as a measure."
   ]
  },
  {
   "cell_type": "code",
   "execution_count": 17,
   "metadata": {},
   "outputs": [
    {
     "name": "stdout",
     "output_type": "stream",
     "text": [
      "Test Error = 0.311943 \n"
     ]
    }
   ],
   "source": [
    "from pyspark.ml.evaluation import MulticlassClassificationEvaluator\n",
    "\n",
    "# Select (prediction, true label) and compute test error\n",
    "evaluator = MulticlassClassificationEvaluator(\n",
    "    labelCol=\"indexedLabel\", predictionCol=\"prediction\", metricName=\"accuracy\")\n",
    "accuracy = evaluator.evaluate(predictions)\n",
    "print(\"Test Error = %g \" % (1.0 - accuracy))\n"
   ]
  },
  {
   "cell_type": "code",
   "execution_count": 18,
   "metadata": {},
   "outputs": [
    {
     "name": "stdout",
     "output_type": "stream",
     "text": [
      "StringIndexer_4673adf6b3c794d4ade8\n"
     ]
    }
   ],
   "source": [
    "\n",
    "treeModel = model.stages[2]\n",
    "# summary only\n",
    "print(treeModel)"
   ]
  },
  {
   "cell_type": "code",
   "execution_count": null,
   "metadata": {
    "collapsed": true
   },
   "outputs": [],
   "source": []
  }
 ],
 "metadata": {
  "anaconda-cloud": {},
  "kernelspec": {
   "display_name": "Python 3",
   "language": "python",
   "name": "python3"
  },
  "language_info": {
   "codemirror_mode": {
    "name": "ipython",
    "version": 3
   },
   "file_extension": ".py",
   "mimetype": "text/x-python",
   "name": "python",
   "nbconvert_exporter": "python",
   "pygments_lexer": "ipython3",
   "version": "3.6.6"
  }
 },
 "nbformat": 4,
 "nbformat_minor": 2
}
