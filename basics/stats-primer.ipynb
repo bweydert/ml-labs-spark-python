{
 "cells": [
  {
   "cell_type": "markdown",
   "metadata": {},
   "source": [
    "# Stats Primer"
   ]
  },
  {
   "cell_type": "code",
   "execution_count": 17,
   "metadata": {
    "collapsed": true
   },
   "outputs": [],
   "source": [
    "%matplotlib inline\n",
    "\n",
    "import numpy as np\n",
    "import pandas as pd\n",
    "import matplotlib.pyplot as plt\n",
    "from scipy import stats"
   ]
  },
  {
   "cell_type": "markdown",
   "metadata": {},
   "source": [
    "## Mean / Trimmed Mean"
   ]
  },
  {
   "cell_type": "code",
   "execution_count": 18,
   "metadata": {
    "collapsed": false
   },
   "outputs": [
    {
     "name": "stdout",
     "output_type": "stream",
     "text": [
      "[  5  40  42  45  50  55  60  65  70 400]\n",
      "mean :  83.2\n",
      "median :  52.5\n",
      "trimmed mean 10% :  53.375\n"
     ]
    }
   ],
   "source": [
    "a = np.array([5,40,42,45,50,55,60,65,70,400])\n",
    "print(a)\n",
    "print (\"mean : \", np.mean(a))\n",
    "\n",
    "print (\"median : \", np.median(a))\n",
    "\n",
    "print (\"trimmed mean 10% : \", stats.trim_mean(a,0.1)) # 10%\n"
   ]
  },
  {
   "cell_type": "markdown",
   "metadata": {},
   "source": [
    "## Variance / Standard Deviation"
   ]
  },
  {
   "cell_type": "code",
   "execution_count": 16,
   "metadata": {
    "collapsed": false
   },
   "outputs": [
    {
     "name": "stdout",
     "output_type": "stream",
     "text": [
      "city1 mean :  40.0\n",
      "city2 mean :  40.0\n",
      "city1 variance :  54.0\n",
      "city2 variance :  550.0\n",
      "city1 std deviation :  7.34846922835\n",
      "city2 std deviation :  23.4520787991\n"
     ]
    }
   ],
   "source": [
    "city1 = np.array([30,32,35,40,45,48,50])\n",
    "city2 = np.array([10,15,20,40,60,65,70])\n",
    "\n",
    "print (\"city1 mean : \", np.mean(city1))\n",
    "print (\"city2 mean : \", np.mean(city2))\n",
    "\n",
    "print (\"city1 variance : \", np.var(city1))\n",
    "print (\"city2 variance : \", np.var(city2))\n",
    "\n",
    "print (\"city1 std deviation : \", np.std(city1))\n",
    "print (\"city2 std deviation : \", np.std(city2))"
   ]
  },
  {
   "cell_type": "markdown",
   "metadata": {},
   "source": [
    "## Quartiles"
   ]
  },
  {
   "cell_type": "code",
   "execution_count": 26,
   "metadata": {
    "collapsed": false
   },
   "outputs": [
    {
     "name": "stdout",
     "output_type": "stream",
     "text": [
      "41.6\n",
      "[ 42.75  52.5   63.75]\n"
     ]
    }
   ],
   "source": [
    "a = np.array([5,40,42,45,50,55,60,65,70,400])\n",
    "\n",
    "# 20 pc\n",
    "print (np.percentile(a, 20))\n",
    "\n",
    "# q1, q2, q3\n",
    "print (np.percentile(a, [25, 50, 75]))\n",
    "\n",
    "# TODO : what is IQR ?\n",
    "\n",
    "# TODO : What is the 99 percentile value?"
   ]
  },
  {
   "cell_type": "code",
   "execution_count": null,
   "metadata": {
    "collapsed": true
   },
   "outputs": [],
   "source": []
  }
 ],
 "metadata": {
  "kernelspec": {
   "display_name": "Python 3",
   "language": "python",
   "name": "python3"
  },
  "language_info": {
   "codemirror_mode": {
    "name": "ipython",
    "version": 3
   },
   "file_extension": ".py",
   "mimetype": "text/x-python",
   "name": "python",
   "nbconvert_exporter": "python",
   "pygments_lexer": "ipython3",
   "version": "3.6.0"
  }
 },
 "nbformat": 4,
 "nbformat_minor": 2
}
