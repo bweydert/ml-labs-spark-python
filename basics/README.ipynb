{
 "cells": [
  {
   "cell_type": "markdown",
   "metadata": {},
   "source": [
    "[<< back to main index](../README.md)\n",
    "\n",
    "# Machine Learning Basics Labs\n",
    "\n",
    "## Intro\n",
    "\n",
    "These labs explore the basics of Machine Learning\n",
    "\n",
    "\n",
    "## Labs\n",
    "\n",
    " * 3.1. Feature Engineeirng - [Jupyter Notebook](ml-basics.ipynb)\n",
    "\n",
    "[<< back to main index](../README.md)"
   ]
  }
 ],
 "metadata": {},
 "nbformat": 4,
 "nbformat_minor": 0
}
