{
 "cells": [
  {
   "cell_type": "markdown",
   "metadata": {},
   "source": [
    "<link rel='stylesheet' href='../assets/css/main.css'/>\n",
    "\n",
    "[<< back to main index](../README.md)\n",
    "\n",
    "# Multiple Linear Regression Lab 5 : House Prices\n",
    "\n",
    "### Overview\n",
    "Estimate house prices using MLR\n",
    "\n",
    "### Builds on\n",
    "None\n",
    "\n",
    "### Run time\n",
    "approx. 20 minutes\n",
    "\n",
    "### Notes\n",
    "\n"
   ]
  },
  {
   "cell_type": "code",
   "execution_count": null,
   "metadata": {
    "collapsed": true
   },
   "outputs": [],
   "source": [
    "%matplotlib inline\n",
    "\n",
    "import numpy as np\n",
    "import pandas as pd\n",
    "import matplotlib.pyplot as plt\n",
    "from pyspark.ml.regression import LinearRegression\n",
    "from pyspark.ml.feature import VectorAssembler\n"
   ]
  },
  {
   "cell_type": "markdown",
   "metadata": {},
   "source": [
    "\n",
    "## Step 1 : House data"
   ]
  },
  {
   "cell_type": "code",
   "execution_count": null,
   "metadata": {
    "attributes": {
     "classes": [
      "R"
     ],
     "id": ""
    },
    "collapsed": true
   },
   "outputs": [],
   "source": [
    "housePrices = spark.read.csv(\"/data/house-prices/house-sales-full.csv\", header=True, inferSchema=True)\n",
    "housePrices.show()"
   ]
  },
  {
   "cell_type": "markdown",
   "metadata": {},
   "source": [
    "Wow! That's a lot of columns.  Maybe we should foucs on just a few of them.\n"
   ]
  },
  {
   "cell_type": "code",
   "execution_count": null,
   "metadata": {
    "collapsed": true
   },
   "outputs": [],
   "source": [
    "\n",
    "housePrices_small = housePrices.select(\"SalePrice\", \"Bedrooms\", \"Bathrooms\", \"SqFtTotLiving\", \"SqFtLot\")\n",
    "housePrices_small.show()"
   ]
  },
  {
   "cell_type": "markdown",
   "metadata": {},
   "source": [
    "## Step 2: Create Features and Label Column in Dataframe\n",
    "\n",
    "We will create our \"features\" column, which is of type vector, and our label column, for which we can just reuse the SquareFootage column."
   ]
  },
  {
   "cell_type": "code",
   "execution_count": null,
   "metadata": {
    "attributes": {
     "classes": [
      "R"
     ],
     "id": ""
    },
    "collapsed": true
   },
   "outputs": [],
   "source": [
    "assembler = VectorAssembler(inputCols=[\"Bedrooms\", \"Bathrooms\", \"SqFtTotLiving\", \"SqFtLot\"], outputCol=\"features\")\n",
    "featureVector = assembler.transform(housePrices_small)\n",
    "\n",
    "featureVector = featureVector.withColumnRenamed(\"SalePrice\", \"label\")\n",
    "featureVector.show()"
   ]
  },
  {
   "cell_type": "code",
   "execution_count": null,
   "metadata": {
    "collapsed": true
   },
   "outputs": [],
   "source": [
    "## Step 3: Run the Linear Regression Model\n",
    "lr = LinearRegression(maxIter=10, regParam=0.3, elasticNetParam=0.8)\n",
    "lrModel = lr.fit(featureVector)\n",
    "\n",
    "print(\"Coefficents:\" + str(lrModel.coefficients))\n",
    "print(\"Intercept: \" + str(lrModel.intercept))\n",
    "\n"
   ]
  },
  {
   "cell_type": "code",
   "execution_count": null,
   "metadata": {
    "collapsed": true
   },
   "outputs": [],
   "source": [
    "print(\"numIterations: %d\" % lrModel.summary.totalIterations)\n",
    "print(\"objectiveHistory: %s\" % str(lrModel.summary.objectiveHistory))\n",
    "lrModel.summary.residuals.show()\n",
    "print(\"RMSE: %f\" % lrModel.summary.rootMeanSquaredError)\n",
    "print(\"r2: %f\" % lrModel.summary.r2)\n"
   ]
  },
  {
   "cell_type": "markdown",
   "metadata": {},
   "source": [
    "**Observe the summary output**\n",
    "\n",
    "## Step 3:  Predict some home prices\n",
    "Create a new data frame with the following data"
   ]
  },
  {
   "cell_type": "code",
   "execution_count": null,
   "metadata": {
    "attributes": {
     "classes": [
      "R"
     ],
     "id": ""
    },
    "collapsed": true
   },
   "outputs": [],
   "source": [
    "\n",
    "# Make a Pandas dataframe\n",
    "new_data = pd.DataFrame({'Bedrooms' : [5,3,2],\n",
    "                         'Bathrooms' : [3,2,1.5],\n",
    "                         'SqFtTotLiving' : [4400, 1800, 1550],\n",
    "                         'SqFtLot' : [10000, 5000, 4000]\n",
    "             })\n",
    "\n",
    "new_data_spark = spark.createDataFrame(new_data)\n",
    "new_featureVector = assembler.transform(new_data_spark)  #run VectorAssembler again to create features.\n",
    "new_featureVector.show()\n",
    "\n",
    "\n"
   ]
  },
  {
   "cell_type": "markdown",
   "metadata": {},
   "source": [
    "## Step 4: Run on some prediction data\n",
    "\n",
    "Lets see the predicted output."
   ]
  },
  {
   "cell_type": "code",
   "execution_count": null,
   "metadata": {
    "attributes": {
     "classes": [
      "R"
     ],
     "id": ""
    },
    "collapsed": true
   },
   "outputs": [],
   "source": [
    "predicted_prices = lrModel.transform(new_featureVector)\n",
    "predicted_prices.show()"
   ]
  }
 ],
 "metadata": {
  "kernelspec": {
   "display_name": "Python 3",
   "language": "python",
   "name": "python3"
  },
  "language_info": {
   "codemirror_mode": {
    "name": "ipython",
    "version": 3
   },
   "file_extension": ".py",
   "mimetype": "text/x-python",
   "name": "python",
   "nbconvert_exporter": "python",
   "pygments_lexer": "ipython3",
   "version": "3.5.2"
  }
 },
 "nbformat": 4,
 "nbformat_minor": 2
}
