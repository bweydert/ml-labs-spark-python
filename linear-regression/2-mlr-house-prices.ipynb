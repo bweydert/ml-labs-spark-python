{
 "cells": [
  {
   "cell_type": "markdown",
   "metadata": {},
   "source": [
    "[<< back to main index](../README.md)\n",
    "\n",
    "# Multiple Linear Regression Lab : House Prices\n",
    "\n",
    "### Overview\n",
    "Estimate house prices using MLR\n",
    "\n",
    "### Builds on\n",
    "None\n",
    "\n",
    "### Run time\n",
    "approx. 20 minutes\n",
    "\n",
    "### Notes\n",
    "\n"
   ]
  },
  {
   "cell_type": "code",
   "execution_count": 20,
   "metadata": {},
   "outputs": [
    {
     "name": "stdout",
     "output_type": "stream",
     "text": [
      "Initializing Spark...\n",
      "Spark found in :  /Users/sujee/spark\n",
      "Spark config:\n",
      "\t executor.memory=2g\n",
      "\tsome_property=some_value\n",
      "\tspark.app.name=TestApp\n",
      "\tspark.master=local[*]\n",
      "\tspark.sql.warehouse.dir=/var/folders/lp/qm_skljd2hl4xtps5vw0tdgm0000gn/T/tmpt8x1x358\n",
      "\tspark.submit.deployMode=client\n",
      "\tspark.ui.showConsoleProgress=true\n",
      "Spark UI running on port 4040\n"
     ]
    },
    {
     "data": {
      "text/html": [
       "\n",
       "            <div>\n",
       "                <p><b>SparkSession - in-memory</b></p>\n",
       "                \n",
       "        <div>\n",
       "            <p><b>SparkContext</b></p>\n",
       "\n",
       "            <p><a href=\"http://10.5.53.106:4040\">Spark UI</a></p>\n",
       "\n",
       "            <dl>\n",
       "              <dt>Version</dt>\n",
       "                <dd><code>v2.3.0</code></dd>\n",
       "              <dt>Master</dt>\n",
       "                <dd><code>local[*]</code></dd>\n",
       "              <dt>AppName</dt>\n",
       "                <dd><code>TestApp</code></dd>\n",
       "            </dl>\n",
       "        </div>\n",
       "        \n",
       "            </div>\n",
       "        "
      ],
      "text/plain": [
       "<pyspark.sql.session.SparkSession at 0x110c41c50>"
      ]
     },
     "execution_count": 20,
     "metadata": {},
     "output_type": "execute_result"
    }
   ],
   "source": [
    "# initialize Spark Session\n",
    "import os\n",
    "import sys\n",
    "top_dir = os.path.abspath(os.path.join(os.getcwd(), \"../\"))\n",
    "if top_dir not in sys.path:\n",
    "    sys.path.append(top_dir)\n",
    "\n",
    "from init_spark import init_spark\n",
    "spark = init_spark()\n",
    "spark"
   ]
  },
  {
   "cell_type": "markdown",
   "metadata": {},
   "source": [
    "\n",
    "## Step 1 : House data"
   ]
  },
  {
   "cell_type": "code",
   "execution_count": 21,
   "metadata": {
    "attributes": {
     "classes": [
      "R"
     ],
     "id": ""
    },
    "collapsed": true
   },
   "outputs": [
    {
     "name": "stdout",
     "output_type": "stream",
     "text": [
      "read 27,063 records\n",
      "CPU times: user 2.21 ms, sys: 1.71 ms, total: 3.92 ms\n",
      "Wall time: 370 ms\n"
     ]
    }
   ],
   "source": [
    "%%time\n",
    "\n",
    "house_prices = spark.read.csv(\"/data/house-prices/house-sales-full.csv\", \\\n",
    "                             header=True, inferSchema=True)\n",
    "print(\"read {:,} records\".format(house_prices.count()))\n"
   ]
  },
  {
   "cell_type": "code",
   "execution_count": 22,
   "metadata": {
    "collapsed": true
   },
   "outputs": [
    {
     "name": "stdout",
     "output_type": "stream",
     "text": [
      "root\n",
      " |-- DocumentID: integer (nullable = true)\n",
      " |-- Date: string (nullable = true)\n",
      " |-- SalePrice: integer (nullable = true)\n",
      " |-- PropertyID: long (nullable = true)\n",
      " |-- PropertyType: string (nullable = true)\n",
      " |-- ym: string (nullable = true)\n",
      " |-- zhvi_px: integer (nullable = true)\n",
      " |-- zhvi_idx: double (nullable = true)\n",
      " |-- AdjSalePrice: decimal(8,0) (nullable = true)\n",
      " |-- NbrLivingUnits: integer (nullable = true)\n",
      " |-- SqFtLot: integer (nullable = true)\n",
      " |-- SqFtTotLiving: integer (nullable = true)\n",
      " |-- SqFtFinBasement: integer (nullable = true)\n",
      " |-- Bathrooms: double (nullable = true)\n",
      " |-- Bedrooms: integer (nullable = true)\n",
      " |-- BldgGrade: integer (nullable = true)\n",
      " |-- YrBuilt: integer (nullable = true)\n",
      " |-- YrRenovated: integer (nullable = true)\n",
      " |-- TrafficNoise: integer (nullable = true)\n",
      " |-- LandVal: integer (nullable = true)\n",
      " |-- ImpsVal: integer (nullable = true)\n",
      " |-- ZipCode: integer (nullable = true)\n",
      " |-- NewConstruction: boolean (nullable = true)\n",
      "\n"
     ]
    },
    {
     "data": {
      "text/html": [
       "<div>\n",
       "<style scoped>\n",
       "    .dataframe tbody tr th:only-of-type {\n",
       "        vertical-align: middle;\n",
       "    }\n",
       "\n",
       "    .dataframe tbody tr th {\n",
       "        vertical-align: top;\n",
       "    }\n",
       "\n",
       "    .dataframe thead th {\n",
       "        text-align: right;\n",
       "    }\n",
       "</style>\n",
       "<table border=\"1\" class=\"dataframe\">\n",
       "  <thead>\n",
       "    <tr style=\"text-align: right;\">\n",
       "      <th></th>\n",
       "      <th>0</th>\n",
       "      <th>1</th>\n",
       "      <th>2</th>\n",
       "      <th>3</th>\n",
       "      <th>4</th>\n",
       "    </tr>\n",
       "  </thead>\n",
       "  <tbody>\n",
       "    <tr>\n",
       "      <th>DocumentID</th>\n",
       "      <td>1</td>\n",
       "      <td>2</td>\n",
       "      <td>3</td>\n",
       "      <td>4</td>\n",
       "      <td>5</td>\n",
       "    </tr>\n",
       "    <tr>\n",
       "      <th>Date</th>\n",
       "      <td>9/16/14</td>\n",
       "      <td>6/16/06</td>\n",
       "      <td>1/29/07</td>\n",
       "      <td>2/25/08</td>\n",
       "      <td>3/29/13</td>\n",
       "    </tr>\n",
       "    <tr>\n",
       "      <th>SalePrice</th>\n",
       "      <td>280000</td>\n",
       "      <td>1000000</td>\n",
       "      <td>745000</td>\n",
       "      <td>425000</td>\n",
       "      <td>240000</td>\n",
       "    </tr>\n",
       "    <tr>\n",
       "      <th>PropertyID</th>\n",
       "      <td>1000102</td>\n",
       "      <td>1200013</td>\n",
       "      <td>1200019</td>\n",
       "      <td>2800016</td>\n",
       "      <td>2800024</td>\n",
       "    </tr>\n",
       "    <tr>\n",
       "      <th>PropertyType</th>\n",
       "      <td>Multiplex</td>\n",
       "      <td>Single Family</td>\n",
       "      <td>Single Family</td>\n",
       "      <td>Single Family</td>\n",
       "      <td>Single Family</td>\n",
       "    </tr>\n",
       "    <tr>\n",
       "      <th>ym</th>\n",
       "      <td>9/1/14</td>\n",
       "      <td>6/1/06</td>\n",
       "      <td>1/1/07</td>\n",
       "      <td>2/1/08</td>\n",
       "      <td>3/1/13</td>\n",
       "    </tr>\n",
       "    <tr>\n",
       "      <th>zhvi_px</th>\n",
       "      <td>405100</td>\n",
       "      <td>404400</td>\n",
       "      <td>425600</td>\n",
       "      <td>418400</td>\n",
       "      <td>351600</td>\n",
       "    </tr>\n",
       "    <tr>\n",
       "      <th>zhvi_idx</th>\n",
       "      <td>0.930836</td>\n",
       "      <td>0.929228</td>\n",
       "      <td>0.977941</td>\n",
       "      <td>0.961397</td>\n",
       "      <td>0.807904</td>\n",
       "    </tr>\n",
       "    <tr>\n",
       "      <th>AdjSalePrice</th>\n",
       "      <td>300805</td>\n",
       "      <td>1076162</td>\n",
       "      <td>761805</td>\n",
       "      <td>442065</td>\n",
       "      <td>297065</td>\n",
       "    </tr>\n",
       "    <tr>\n",
       "      <th>NbrLivingUnits</th>\n",
       "      <td>2</td>\n",
       "      <td>1</td>\n",
       "      <td>1</td>\n",
       "      <td>1</td>\n",
       "      <td>1</td>\n",
       "    </tr>\n",
       "    <tr>\n",
       "      <th>SqFtLot</th>\n",
       "      <td>9373</td>\n",
       "      <td>20156</td>\n",
       "      <td>26036</td>\n",
       "      <td>8618</td>\n",
       "      <td>8620</td>\n",
       "    </tr>\n",
       "    <tr>\n",
       "      <th>SqFtTotLiving</th>\n",
       "      <td>2400</td>\n",
       "      <td>3764</td>\n",
       "      <td>2060</td>\n",
       "      <td>3200</td>\n",
       "      <td>1720</td>\n",
       "    </tr>\n",
       "    <tr>\n",
       "      <th>SqFtFinBasement</th>\n",
       "      <td>0</td>\n",
       "      <td>1452</td>\n",
       "      <td>900</td>\n",
       "      <td>1640</td>\n",
       "      <td>0</td>\n",
       "    </tr>\n",
       "    <tr>\n",
       "      <th>Bathrooms</th>\n",
       "      <td>3</td>\n",
       "      <td>3.75</td>\n",
       "      <td>1.75</td>\n",
       "      <td>3.75</td>\n",
       "      <td>1.75</td>\n",
       "    </tr>\n",
       "    <tr>\n",
       "      <th>Bedrooms</th>\n",
       "      <td>6</td>\n",
       "      <td>4</td>\n",
       "      <td>4</td>\n",
       "      <td>5</td>\n",
       "      <td>4</td>\n",
       "    </tr>\n",
       "    <tr>\n",
       "      <th>BldgGrade</th>\n",
       "      <td>7</td>\n",
       "      <td>10</td>\n",
       "      <td>8</td>\n",
       "      <td>7</td>\n",
       "      <td>7</td>\n",
       "    </tr>\n",
       "    <tr>\n",
       "      <th>YrBuilt</th>\n",
       "      <td>1991</td>\n",
       "      <td>2005</td>\n",
       "      <td>1947</td>\n",
       "      <td>1966</td>\n",
       "      <td>1948</td>\n",
       "    </tr>\n",
       "    <tr>\n",
       "      <th>YrRenovated</th>\n",
       "      <td>0</td>\n",
       "      <td>0</td>\n",
       "      <td>0</td>\n",
       "      <td>0</td>\n",
       "      <td>0</td>\n",
       "    </tr>\n",
       "    <tr>\n",
       "      <th>TrafficNoise</th>\n",
       "      <td>0</td>\n",
       "      <td>0</td>\n",
       "      <td>0</td>\n",
       "      <td>0</td>\n",
       "      <td>0</td>\n",
       "    </tr>\n",
       "    <tr>\n",
       "      <th>LandVal</th>\n",
       "      <td>70000</td>\n",
       "      <td>203000</td>\n",
       "      <td>183000</td>\n",
       "      <td>104000</td>\n",
       "      <td>104000</td>\n",
       "    </tr>\n",
       "    <tr>\n",
       "      <th>ImpsVal</th>\n",
       "      <td>229000</td>\n",
       "      <td>590000</td>\n",
       "      <td>275000</td>\n",
       "      <td>229000</td>\n",
       "      <td>205000</td>\n",
       "    </tr>\n",
       "    <tr>\n",
       "      <th>ZipCode</th>\n",
       "      <td>98002</td>\n",
       "      <td>98166</td>\n",
       "      <td>98166</td>\n",
       "      <td>98168</td>\n",
       "      <td>98168</td>\n",
       "    </tr>\n",
       "    <tr>\n",
       "      <th>NewConstruction</th>\n",
       "      <td>False</td>\n",
       "      <td>True</td>\n",
       "      <td>False</td>\n",
       "      <td>False</td>\n",
       "      <td>False</td>\n",
       "    </tr>\n",
       "  </tbody>\n",
       "</table>\n",
       "</div>"
      ],
      "text/plain": [
       "                         0              1              2              3  \\\n",
       "DocumentID               1              2              3              4   \n",
       "Date               9/16/14        6/16/06        1/29/07        2/25/08   \n",
       "SalePrice           280000        1000000         745000         425000   \n",
       "PropertyID         1000102        1200013        1200019        2800016   \n",
       "PropertyType     Multiplex  Single Family  Single Family  Single Family   \n",
       "ym                  9/1/14         6/1/06         1/1/07         2/1/08   \n",
       "zhvi_px             405100         404400         425600         418400   \n",
       "zhvi_idx          0.930836       0.929228       0.977941       0.961397   \n",
       "AdjSalePrice        300805        1076162         761805         442065   \n",
       "NbrLivingUnits           2              1              1              1   \n",
       "SqFtLot               9373          20156          26036           8618   \n",
       "SqFtTotLiving         2400           3764           2060           3200   \n",
       "SqFtFinBasement          0           1452            900           1640   \n",
       "Bathrooms                3           3.75           1.75           3.75   \n",
       "Bedrooms                 6              4              4              5   \n",
       "BldgGrade                7             10              8              7   \n",
       "YrBuilt               1991           2005           1947           1966   \n",
       "YrRenovated              0              0              0              0   \n",
       "TrafficNoise             0              0              0              0   \n",
       "LandVal              70000         203000         183000         104000   \n",
       "ImpsVal             229000         590000         275000         229000   \n",
       "ZipCode              98002          98166          98166          98168   \n",
       "NewConstruction      False           True          False          False   \n",
       "\n",
       "                             4  \n",
       "DocumentID                   5  \n",
       "Date                   3/29/13  \n",
       "SalePrice               240000  \n",
       "PropertyID             2800024  \n",
       "PropertyType     Single Family  \n",
       "ym                      3/1/13  \n",
       "zhvi_px                 351600  \n",
       "zhvi_idx              0.807904  \n",
       "AdjSalePrice            297065  \n",
       "NbrLivingUnits               1  \n",
       "SqFtLot                   8620  \n",
       "SqFtTotLiving             1720  \n",
       "SqFtFinBasement              0  \n",
       "Bathrooms                 1.75  \n",
       "Bedrooms                     4  \n",
       "BldgGrade                    7  \n",
       "YrBuilt                   1948  \n",
       "YrRenovated                  0  \n",
       "TrafficNoise                 0  \n",
       "LandVal                 104000  \n",
       "ImpsVal                 205000  \n",
       "ZipCode                  98168  \n",
       "NewConstruction          False  "
      ]
     },
     "execution_count": 22,
     "metadata": {},
     "output_type": "execute_result"
    }
   ],
   "source": [
    "house_prices.printSchema()\n",
    "house_prices.limit(5).toPandas().T"
   ]
  },
  {
   "cell_type": "markdown",
   "metadata": {},
   "source": [
    "Wow! That's a lot of columns.  Maybe we should foucs on just a few of them.\n",
    "\n",
    "**=> Select only \"SalePrice\", \"Bedrooms\", \"Bathrooms\", \"SqFtTotLiving\", \"SqFtLot\" **"
   ]
  },
  {
   "cell_type": "code",
   "execution_count": 23,
   "metadata": {},
   "outputs": [],
   "source": [
    "label_column = 'SalePrice'\n",
    "\n",
    "## TODO : experiment by adding more features here\n",
    "## Hint :  'LandVal'\n",
    "feature_columns = [\"Bedrooms\", \"Bathrooms\", \"SqFtTotLiving\", \"SqFtLot\"]\n",
    "\n",
    "select_columns = feature_columns + [label_column]"
   ]
  },
  {
   "cell_type": "code",
   "execution_count": 24,
   "metadata": {
    "collapsed": true
   },
   "outputs": [
    {
     "name": "stdout",
     "output_type": "stream",
     "text": [
      "+--------+---------+-------------+-------+---------+\n",
      "|Bedrooms|Bathrooms|SqFtTotLiving|SqFtLot|SalePrice|\n",
      "+--------+---------+-------------+-------+---------+\n",
      "|       6|      3.0|         2400|   9373|   280000|\n",
      "|       4|     3.75|         3764|  20156|  1000000|\n",
      "|       4|     1.75|         2060|  26036|   745000|\n",
      "|       5|     3.75|         3200|   8618|   425000|\n",
      "|       4|     1.75|         1720|   8620|   240000|\n",
      "|       2|      1.5|          930|   1012|   349900|\n",
      "|       3|      1.5|         1750|  34465|   327500|\n",
      "|       4|     1.75|         1860|  14659|   347000|\n",
      "|       2|      1.0|          990|   5324|   220400|\n",
      "|       4|      2.0|         1980|  10585|   437500|\n",
      "|       2|      1.0|          840|  12750|   150000|\n",
      "|       3|      1.0|         1750|   5200|   300000|\n",
      "|       2|      1.0|          790|   5240|   292000|\n",
      "|       2|      1.0|          790|   5240|   299800|\n",
      "|       3|     2.25|         1530|   1245|   370000|\n",
      "|       3|     2.75|         2120|   7320|   605000|\n",
      "|       2|      2.0|         1130|   1148|   475000|\n",
      "|       4|      1.5|         2620|   3485|   425000|\n",
      "|       2|      1.5|         1250|    924|   357500|\n",
      "|       3|     1.75|         1500|   5253|   455000|\n",
      "+--------+---------+-------------+-------+---------+\n",
      "only showing top 20 rows\n",
      "\n"
     ]
    }
   ],
   "source": [
    "house_prices2 = house_prices.select (select_columns)\n",
    "house_prices2.show()"
   ]
  },
  {
   "cell_type": "markdown",
   "metadata": {},
   "source": [
    "## Step 2: Create Features and Label Column in Dataframe\n",
    "\n",
    "We will create our \"features\" column, which is of type vector, and our label column, for which we can just reuse the SquareFootage column.\n",
    "\n",
    "\n",
    "\n"
   ]
  },
  {
   "cell_type": "code",
   "execution_count": 25,
   "metadata": {
    "attributes": {
     "classes": [
      "R"
     ],
     "id": ""
    },
    "collapsed": true
   },
   "outputs": [
    {
     "name": "stdout",
     "output_type": "stream",
     "text": [
      "+--------+---------+-------------+-------+---------+--------------------+-------+\n",
      "|Bedrooms|Bathrooms|SqFtTotLiving|SqFtLot|SalePrice|            features|  label|\n",
      "+--------+---------+-------------+-------+---------+--------------------+-------+\n",
      "|       6|      3.0|         2400|   9373|   280000|[6.0,3.0,2400.0,9...| 280000|\n",
      "|       4|     3.75|         3764|  20156|  1000000|[4.0,3.75,3764.0,...|1000000|\n",
      "|       4|     1.75|         2060|  26036|   745000|[4.0,1.75,2060.0,...| 745000|\n",
      "|       5|     3.75|         3200|   8618|   425000|[5.0,3.75,3200.0,...| 425000|\n",
      "|       4|     1.75|         1720|   8620|   240000|[4.0,1.75,1720.0,...| 240000|\n",
      "|       2|      1.5|          930|   1012|   349900|[2.0,1.5,930.0,10...| 349900|\n",
      "|       3|      1.5|         1750|  34465|   327500|[3.0,1.5,1750.0,3...| 327500|\n",
      "|       4|     1.75|         1860|  14659|   347000|[4.0,1.75,1860.0,...| 347000|\n",
      "|       2|      1.0|          990|   5324|   220400|[2.0,1.0,990.0,53...| 220400|\n",
      "|       4|      2.0|         1980|  10585|   437500|[4.0,2.0,1980.0,1...| 437500|\n",
      "|       2|      1.0|          840|  12750|   150000|[2.0,1.0,840.0,12...| 150000|\n",
      "|       3|      1.0|         1750|   5200|   300000|[3.0,1.0,1750.0,5...| 300000|\n",
      "|       2|      1.0|          790|   5240|   292000|[2.0,1.0,790.0,52...| 292000|\n",
      "|       2|      1.0|          790|   5240|   299800|[2.0,1.0,790.0,52...| 299800|\n",
      "|       3|     2.25|         1530|   1245|   370000|[3.0,2.25,1530.0,...| 370000|\n",
      "|       3|     2.75|         2120|   7320|   605000|[3.0,2.75,2120.0,...| 605000|\n",
      "|       2|      2.0|         1130|   1148|   475000|[2.0,2.0,1130.0,1...| 475000|\n",
      "|       4|      1.5|         2620|   3485|   425000|[4.0,1.5,2620.0,3...| 425000|\n",
      "|       2|      1.5|         1250|    924|   357500|[2.0,1.5,1250.0,9...| 357500|\n",
      "|       3|     1.75|         1500|   5253|   455000|[3.0,1.75,1500.0,...| 455000|\n",
      "+--------+---------+-------------+-------+---------+--------------------+-------+\n",
      "only showing top 20 rows\n",
      "\n"
     ]
    }
   ],
   "source": [
    "from pyspark.ml.feature import VectorAssembler\n",
    "\n",
    "## TODO : Build features with  \"Bedrooms\", \"Bathrooms\", \"SqFtTotLiving\", \"SqFtLot\"\n",
    "## Hint : inputCols = ['Bedrooms', 'Bathrooms', ??? , ??? ]\n",
    "\n",
    "assembler = VectorAssembler(inputCols=feature_columns, outputCol=\"features\")\n",
    "featureVector = assembler.transform(house_prices2)\n",
    "\n",
    "## TODO : create a label column to mirror 'SalePrice'\n",
    "featureVector = featureVector.withColumn(\"label\", featureVector[label_column])\n",
    "featureVector.show()"
   ]
  },
  {
   "cell_type": "markdown",
   "metadata": {},
   "source": [
    "##  Step 3: Run the Linear Regression Model\n"
   ]
  },
  {
   "cell_type": "code",
   "execution_count": 26,
   "metadata": {
    "collapsed": true
   },
   "outputs": [
    {
     "name": "stdout",
     "output_type": "stream",
     "text": [
      "Coefficents:[-69405.45781195552,25714.1481078027,274.45831276947166,-0.0]\n",
      "Intercept: 105562.58117252712\n"
     ]
    }
   ],
   "source": [
    "from pyspark.ml.regression import LinearRegression\n",
    "\n",
    "## Hint : Run model with max iterations as 10\n",
    "#lr = LinearRegression(maxIter=???)\n",
    "lr = LinearRegression(maxIter=10, regParam=0.3, elasticNetParam=0.8)\n",
    "lrModel = lr.fit(featureVector)\n",
    "\n",
    "print(\"Coefficents:\" + str(lrModel.coefficients))\n",
    "print(\"Intercept: \" + str(lrModel.intercept))\n",
    "\n"
   ]
  },
  {
   "cell_type": "markdown",
   "metadata": {},
   "source": [
    "**Insepct the coeffiients.  Are you seeing any ZERO (0) values?  What is the meaning of this?**"
   ]
  },
  {
   "cell_type": "code",
   "execution_count": 27,
   "metadata": {
    "collapsed": true
   },
   "outputs": [
    {
     "name": "stdout",
     "output_type": "stream",
     "text": [
      "numIterations: 11\n",
      "objectiveHistory: [0.5000000000000002, 0.4565457266170319, 0.3376986997173243, 0.30010335871879656, 0.2852977093323423, 0.27654782886180707, 0.2701349132960898, 0.26332624819112604, 0.26138384191458414, 0.25967594157902535, 0.25839392000729794]\n",
      "RMSE: 246442.225880\n",
      "r2: 0.483214\n"
     ]
    }
   ],
   "source": [
    "print(\"numIterations: %d\" % lrModel.summary.totalIterations)\n",
    "print(\"objectiveHistory: %s\" % str(lrModel.summary.objectiveHistory))\n",
    "# lrModel.summary.residuals.show()\n",
    "print(\"RMSE: %f\" % lrModel.summary.rootMeanSquaredError)\n",
    "\n",
    "## TODO : print 'r2' from training summary\n",
    "## Hint : Use TAB completion\n",
    "print(\"r2: %f\" % lrModel.summary.r2)\n"
   ]
  },
  {
   "cell_type": "markdown",
   "metadata": {},
   "source": [
    "#### Observe the summary output\n",
    "- How many iterations did it do?\n",
    "- Is it more than our 'max' iterations?\n",
    "- If so, increase the 'maxIter' to 50 and run it again\n",
    "- How many iterations is done now?  \n",
    "- Can you explain the behavior?\n",
    "- Also did the coefficients change from  maxIter=10  to maxIter=50 ?\n",
    "- Did r2 change?  Why / Why-not?"
   ]
  },
  {
   "cell_type": "markdown",
   "metadata": {},
   "source": [
    "## Step 4:  Predict some home prices\n",
    "Create a new data frame with the following data"
   ]
  },
  {
   "cell_type": "code",
   "execution_count": 28,
   "metadata": {
    "attributes": {
     "classes": [
      "R"
     ],
     "id": ""
    },
    "collapsed": true
   },
   "outputs": [
    {
     "name": "stdout",
     "output_type": "stream",
     "text": [
      "+--------+---------+-------------+-------+--------------------+\n",
      "|Bedrooms|Bathrooms|SqFtTotLiving|SqFtLot|            features|\n",
      "+--------+---------+-------------+-------+--------------------+\n",
      "|       5|      3.0|         4400|  10000|[5.0,3.0,4400.0,1...|\n",
      "|       3|      2.0|         1800|   5000|[3.0,2.0,1800.0,5...|\n",
      "|       2|      1.5|         1550|   4000|[2.0,1.5,1550.0,4...|\n",
      "+--------+---------+-------------+-------+--------------------+\n",
      "\n"
     ]
    }
   ],
   "source": [
    "import pandas as pd\n",
    "\n",
    "# Make a Pandas dataframe\n",
    "new_data = pd.DataFrame({'Bedrooms' : [5,3,2],\n",
    "                         'Bathrooms' : [3,2,1.5],\n",
    "                         'SqFtTotLiving' : [4400, 1800, 1550],\n",
    "                         'SqFtLot' : [10000, 5000, 4000]\n",
    "             })\n",
    "\n",
    "new_data_spark = spark.createDataFrame(new_data)\n",
    "new_featureVector = assembler.transform(new_data_spark)  #run VectorAssembler again to create features.\n",
    "new_featureVector.show()\n",
    "\n",
    "\n"
   ]
  },
  {
   "cell_type": "markdown",
   "metadata": {},
   "source": [
    "## Step 5: Run on some prediction data\n",
    "\n",
    "Lets see the predicted output."
   ]
  },
  {
   "cell_type": "code",
   "execution_count": 29,
   "metadata": {
    "attributes": {
     "classes": [
      "R"
     ],
     "id": ""
    },
    "collapsed": true
   },
   "outputs": [
    {
     "name": "stdout",
     "output_type": "stream",
     "text": [
      "+--------+---------+-------------+-------+--------------------+------------------+\n",
      "|Bedrooms|Bathrooms|SqFtTotLiving|SqFtLot|            features|        prediction|\n",
      "+--------+---------+-------------+-------+--------------------+------------------+\n",
      "|       5|      3.0|         4400|  10000|[5.0,3.0,4400.0,1...|1043294.3126218329|\n",
      "|       3|      2.0|         1800|   5000|[3.0,2.0,1800.0,5...|442799.46693731495|\n",
      "|       2|      1.5|         1550|   4000|[2.0,1.5,1550.0,4...| 430733.2725030012|\n",
      "+--------+---------+-------------+-------+--------------------+------------------+\n",
      "\n"
     ]
    }
   ],
   "source": [
    "## TODO: transform dataframe with new feature vector to get predictions\n",
    "## Hint : new_featureVector\n",
    "\n",
    "predicted_prices = lrModel.transform(new_featureVector)\n",
    "predicted_prices.show()"
   ]
  },
  {
   "cell_type": "markdown",
   "metadata": {},
   "source": [
    "## Step 6 : Some more FUN\n",
    "Now let's feed 'SalePrice' as an input to our VectorAssembler.  \n",
    "In Step-2, try this\n",
    "\n",
    "```python\n",
    "feature_columns = [\"SalePrice\", \"Bedrooms\", \"Bathrooms\", \"SqFtTotLiving\", \"SqFtLot\"]\n",
    "```\n",
    "\n",
    "Run again, and observe the following:\n",
    "- look at the coefficients  (why are most of them zero?)\n",
    "- look at r2\n",
    "\n",
    "Can you explain what is going on :-) "
   ]
  },
  {
   "cell_type": "code",
   "execution_count": null,
   "metadata": {},
   "outputs": [],
   "source": []
  }
 ],
 "metadata": {
  "kernelspec": {
   "display_name": "Python 3",
   "language": "python",
   "name": "python3"
  },
  "language_info": {
   "codemirror_mode": {
    "name": "ipython",
    "version": 3
   },
   "file_extension": ".py",
   "mimetype": "text/x-python",
   "name": "python",
   "nbconvert_exporter": "python",
   "pygments_lexer": "ipython3",
   "version": "3.7.2"
  }
 },
 "nbformat": 4,
 "nbformat_minor": 2
}
