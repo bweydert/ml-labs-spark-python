{
 "cells": [
  {
   "cell_type": "markdown",
   "metadata": {},
   "source": [
    "<link rel='stylesheet' href='assets/css/main.css'/>\n",
    "\n",
    "[<< back to main index](../README.md)\n",
    "\n",
    "# Machine Learning With Spark: Linear Regression\n",
    "\n",
    "## Intro\n",
    "\n",
    "These labs explore linear regression models.\n",
    "\n",
    "\n",
    "## Labs\n",
    " * 1. Linear Regression Intro - [Jupyter Notebook](1-lr.ipynb)\n",
    " * 2. Multiple Linear Regresssion: House Prices - [Jupyter Notebook](2-mlr-house-prices.ipynb)\n",
    " * 3. Multiple Linear Regresssion: AIC House Prices - [Jupyter Notebook](3-mlr-AIC-house-prices.ipynb)\n",
    "\n",
    "\n",
    "[<< back to main index](../README.md)"
   ]
  }
 ],
 "metadata": {},
 "nbformat": 4,
 "nbformat_minor": 0
}
