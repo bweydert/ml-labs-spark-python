{
 "cells": [
  {
   "cell_type": "markdown",
   "metadata": {},
   "source": [
    "<link rel='stylesheet' href='../assets/css/main.css'/>\n",
    "\n",
    "[<< back to main index](../README.md)\n",
    "\n",
    "# Multiple Linear Regression Lab 6 : Akaike’s Information Criteria (AIC)\n",
    "\n",
    "### Overview\n",
    "Figure out which attributes to include using AIC\n",
    "\n",
    "### Builds on\n",
    "None\n",
    "\n",
    "### Run time\n",
    "approx. 20 minutes\n",
    "\n",
    "### Notes\n",
    "\n",
    "\n",
    "## Step 1 : House data"
   ]
  },
  {
   "cell_type": "code",
   "execution_count": null,
   "metadata": {
    "attributes": {
     "classes": [
      "R"
     ],
     "id": ""
    }
   },
   "outputs": [],
   "source": [
    "house.prices = read.csv(\"data/house-prices/house-sales-full.csv\")\n",
    "View(house.prices)"
   ]
  },
  {
   "cell_type": "markdown",
   "metadata": {},
   "source": [
    "## Step 2: Run MLR With All Attributes"
   ]
  },
  {
   "cell_type": "code",
   "execution_count": null,
   "metadata": {
    "attributes": {
     "classes": [
      "R"
     ],
     "id": ""
    }
   },
   "outputs": [],
   "source": [
    "house.lm.full = lm(SalePrice ~ SqFtTotLiving + SqFtLot + Bathrooms + Bedrooms + BldgGrade + PropertyType + NbrLivingUnits + SqFtFinBasement + YrBuilt + YrRenovated + NewConstruction,\n",
    "              data = house.prices, na.action = na.omit)\n",
    "\n",
    "summary(house.lm.full)"
   ]
  },
  {
   "cell_type": "markdown",
   "metadata": {},
   "source": [
    "**Inspect the summary output**\n",
    "\n",
    "## Step 3:  Run AIC calculation"
   ]
  },
  {
   "cell_type": "code",
   "execution_count": null,
   "metadata": {
    "attributes": {
     "classes": [
      "R"
     ],
     "id": ""
    }
   },
   "outputs": [],
   "source": [
    "library(MASS)\n",
    "step = stepAIC(house.lm.full, direction=\"both\")\n",
    "step\n"
   ]
  },
  {
   "cell_type": "code",
   "execution_count": null,
   "metadata": {
    "attributes": {
     "classes": [
      "console"
     ],
     "id": ""
    }
   },
   "outputs": [],
   "source": [
    "# output\n",
    "\n",
    "Call:\n",
    "lm(formula = SalePrice ~ SqFtTotLiving + Bathrooms + Bedrooms +     BldgGrade + PropertyType + SqFtFinBasement + YrBuilt + NewConstruction,\n",
    "     data = house.prices, na.action = na.omit)\n",
    "\n",
    "Coefficients:\n",
    "              (Intercept)              SqFtTotLiving                  Bathrooms\n",
    "                5730856.779                    170.255                  37950.708\n",
    "                   Bedrooms                  BldgGrade  PropertyTypeSingle Family\n",
    "                 -44124.897                 122498.089                  14862.934\n",
    "      PropertyTypeTownhouse            SqFtFinBasement                    YrBuilt\n",
    "                  77562.844                      8.153                  -3286.098\n",
    "        NewConstructionTRUE                   7886.546  \n"
   ]
  },
  {
   "cell_type": "markdown",
   "metadata": {},
   "source": [
    "**Observe the formula, which attributes are included / dropped**"
   ]
  }
 ],
 "metadata": {},
 "nbformat": 4,
 "nbformat_minor": 2
}
