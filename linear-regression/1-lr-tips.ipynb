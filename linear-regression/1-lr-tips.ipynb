{
 "cells": [
  {
   "cell_type": "markdown",
   "metadata": {},
   "source": [
    "[<< back to main index](../README.md)\n",
    "\n",
    "# Linear Regression in PySpark\n",
    "\n",
    "### Overview\n",
    "Instructor to demo this on screen.\n",
    " \n",
    "### Builds on\n",
    "None\n",
    "\n",
    "### Run time\n",
    "approx. 20-30 minutes\n",
    "\n",
    "### Notes\n",
    "\n",
    "PySpark has a class called Linear Regression that can be used to do simple linear regression models."
   ]
  },
  {
   "cell_type": "code",
   "execution_count": 1,
   "metadata": {},
   "outputs": [
    {
     "name": "stdout",
     "output_type": "stream",
     "text": [
      "Initializing Spark...\n",
      "Spark found in :  /Users/sujee/spark\n",
      "Spark config:\n",
      "\t spark.app.name=TestApp\n",
      "\tspark.master=local[*]\n",
      "\texecutor.memory=2g\n",
      "\tspark.sql.warehouse.dir=/var/folders/lp/qm_skljd2hl4xtps5vw0tdgm0000gn/T/tmp_ci4wlj5\n",
      "\tsome_property=some_value\n",
      "Spark UI running on port 4040\n"
     ]
    },
    {
     "data": {
      "text/html": [
       "\n",
       "            <div>\n",
       "                <p><b>SparkSession - in-memory</b></p>\n",
       "                \n",
       "        <div>\n",
       "            <p><b>SparkContext</b></p>\n",
       "\n",
       "            <p><a href=\"http://10.4.183.167:4040\">Spark UI</a></p>\n",
       "\n",
       "            <dl>\n",
       "              <dt>Version</dt>\n",
       "                <dd><code>v2.3.0</code></dd>\n",
       "              <dt>Master</dt>\n",
       "                <dd><code>local[*]</code></dd>\n",
       "              <dt>AppName</dt>\n",
       "                <dd><code>TestApp</code></dd>\n",
       "            </dl>\n",
       "        </div>\n",
       "        \n",
       "            </div>\n",
       "        "
      ],
      "text/plain": [
       "<pyspark.sql.session.SparkSession at 0x11966b128>"
      ]
     },
     "execution_count": 1,
     "metadata": {},
     "output_type": "execute_result"
    }
   ],
   "source": [
    "# initialize Spark Session\n",
    "import os\n",
    "import sys\n",
    "top_dir = os.path.abspath(os.path.join(os.getcwd(), \"../\"))\n",
    "if top_dir not in sys.path:\n",
    "    sys.path.append(top_dir)\n",
    "\n",
    "from init_spark import init_spark\n",
    "spark = init_spark()\n",
    "spark"
   ]
  },
  {
   "cell_type": "markdown",
   "metadata": {},
   "source": [
    "## Example : Tips\n",
    "Here is our tip data.  This shows 10 observations of bill with tip amounts."
   ]
  },
  {
   "cell_type": "markdown",
   "metadata": {},
   "source": [
    "| bill | tip | \n",
    "|------|-----| \n",
    "| 50   | 12  | \n",
    "| 30   | 7   | \n",
    "| 60   | 13  | \n",
    "| 40   | 8   | \n",
    "| 65   | 15  | \n",
    "| 20   | 5   | \n",
    "| 10   | 2   | \n",
    "| 15   | 2   | \n",
    "| 25   | 3   | \n",
    "| 35   | 4   | "
   ]
  },
  {
   "cell_type": "markdown",
   "metadata": {},
   "source": [
    "## Step 1: Let's create a Pandas dataframe with the data\n",
    "\n",
    "Note that pandas dataframes are not the same as spark dataframes.  However, Pandas dataframes are ubiquitous in python (for small datasets) and are a nifty way to ensure that we have our data's schema match perfectly."
   ]
  },
  {
   "cell_type": "code",
   "execution_count": 2,
   "metadata": {
    "attributes": {
     "classes": [
      "R"
     ],
     "id": ""
    }
   },
   "outputs": [
    {
     "data": {
      "text/html": [
       "<div>\n",
       "<style scoped>\n",
       "    .dataframe tbody tr th:only-of-type {\n",
       "        vertical-align: middle;\n",
       "    }\n",
       "\n",
       "    .dataframe tbody tr th {\n",
       "        vertical-align: top;\n",
       "    }\n",
       "\n",
       "    .dataframe thead th {\n",
       "        text-align: right;\n",
       "    }\n",
       "</style>\n",
       "<table border=\"1\" class=\"dataframe\">\n",
       "  <thead>\n",
       "    <tr style=\"text-align: right;\">\n",
       "      <th></th>\n",
       "      <th>bill</th>\n",
       "      <th>tip</th>\n",
       "    </tr>\n",
       "  </thead>\n",
       "  <tbody>\n",
       "    <tr>\n",
       "      <th>0</th>\n",
       "      <td>50.0</td>\n",
       "      <td>12.0</td>\n",
       "    </tr>\n",
       "    <tr>\n",
       "      <th>1</th>\n",
       "      <td>30.0</td>\n",
       "      <td>7.0</td>\n",
       "    </tr>\n",
       "    <tr>\n",
       "      <th>2</th>\n",
       "      <td>60.0</td>\n",
       "      <td>13.0</td>\n",
       "    </tr>\n",
       "    <tr>\n",
       "      <th>3</th>\n",
       "      <td>40.0</td>\n",
       "      <td>8.0</td>\n",
       "    </tr>\n",
       "    <tr>\n",
       "      <th>4</th>\n",
       "      <td>65.0</td>\n",
       "      <td>15.0</td>\n",
       "    </tr>\n",
       "    <tr>\n",
       "      <th>5</th>\n",
       "      <td>20.0</td>\n",
       "      <td>5.0</td>\n",
       "    </tr>\n",
       "    <tr>\n",
       "      <th>6</th>\n",
       "      <td>10.0</td>\n",
       "      <td>2.0</td>\n",
       "    </tr>\n",
       "    <tr>\n",
       "      <th>7</th>\n",
       "      <td>15.0</td>\n",
       "      <td>2.0</td>\n",
       "    </tr>\n",
       "    <tr>\n",
       "      <th>8</th>\n",
       "      <td>25.0</td>\n",
       "      <td>3.0</td>\n",
       "    </tr>\n",
       "    <tr>\n",
       "      <th>9</th>\n",
       "      <td>35.0</td>\n",
       "      <td>4.0</td>\n",
       "    </tr>\n",
       "  </tbody>\n",
       "</table>\n",
       "</div>"
      ],
      "text/plain": [
       "   bill   tip\n",
       "0  50.0  12.0\n",
       "1  30.0   7.0\n",
       "2  60.0  13.0\n",
       "3  40.0   8.0\n",
       "4  65.0  15.0\n",
       "5  20.0   5.0\n",
       "6  10.0   2.0\n",
       "7  15.0   2.0\n",
       "8  25.0   3.0\n",
       "9  35.0   4.0"
      ]
     },
     "execution_count": 2,
     "metadata": {},
     "output_type": "execute_result"
    }
   ],
   "source": [
    "import pandas as pd\n",
    "\n",
    "tip_data = pd.DataFrame({'bill' : [50.00, 30.00, 60.00, 40.00, 65.00, 20.00, 10.00, 15.00, 25.00, 35.00],\n",
    "              'tip' : [12.00, 7.00, 13.00, 8.00, 15.00, 5.00, 2.00, 2.00, 3.00, 4.00]\n",
    "             })\n",
    "tip_data\n"
   ]
  },
  {
   "cell_type": "markdown",
   "metadata": {},
   "source": [
    "## Step 2: Let's do a quick plot of the data\n",
    "Let us use matplotlib to do a quick scatter plot of the data. Note that this is not a Spark dataframe, this is using the pandas dataframe."
   ]
  },
  {
   "cell_type": "code",
   "execution_count": 3,
   "metadata": {},
   "outputs": [
    {
     "data": {
      "image/png": "[encoded data removed]",
      "text/plain": [
       "<Figure size 432x288 with 1 Axes>"
      ]
     },
     "metadata": {},
     "output_type": "display_data"
    }
   ],
   "source": [
    "%matplotlib inline\n",
    "import matplotlib.pyplot as plt\n",
    "\n",
    "plt.scatter(tip_data.bill, tip_data.tip)\n",
    "plt.ylabel('tip')\n",
    "plt.xlabel('bill')\n",
    "plt.show()"
   ]
  },
  {
   "cell_type": "markdown",
   "metadata": {},
   "source": [
    "## Step 3: Create a Spark Dataframe\n",
    "Let's now take our pandas dataframe and make a spark dataframe out of it."
   ]
  },
  {
   "cell_type": "code",
   "execution_count": 4,
   "metadata": {
    "scrolled": true
   },
   "outputs": [
    {
     "name": "stdout",
     "output_type": "stream",
     "text": [
      "+----+----+\n",
      "|bill| tip|\n",
      "+----+----+\n",
      "|50.0|12.0|\n",
      "|30.0| 7.0|\n",
      "|60.0|13.0|\n",
      "|40.0| 8.0|\n",
      "|65.0|15.0|\n",
      "|20.0| 5.0|\n",
      "|10.0| 2.0|\n",
      "|15.0| 2.0|\n",
      "|25.0| 3.0|\n",
      "|35.0| 4.0|\n",
      "+----+----+\n",
      "\n"
     ]
    }
   ],
   "source": [
    "spark_tips = spark.createDataFrame(tip_data)\n",
    "spark_tips.show(100)"
   ]
  },
  {
   "cell_type": "markdown",
   "metadata": {},
   "source": [
    "## Step 4: Create a Features column with the Vector\n",
    "\n",
    "We need to create a feature vector here.  You might wonder why we need a \"vector\" after all there's only one variable: \"bill.\"  Nonetheless, we still need the dataframe to have a column called \"features\" of type Vector Double).\n",
    "\n",
    "Luckily, there's a handy class called VectorAssembler that does this for us."
   ]
  },
  {
   "cell_type": "code",
   "execution_count": 5,
   "metadata": {},
   "outputs": [
    {
     "name": "stdout",
     "output_type": "stream",
     "text": [
      "+----+----+--------+\n",
      "|bill| tip|features|\n",
      "+----+----+--------+\n",
      "|50.0|12.0|  [50.0]|\n",
      "|30.0| 7.0|  [30.0]|\n",
      "|60.0|13.0|  [60.0]|\n",
      "|40.0| 8.0|  [40.0]|\n",
      "|65.0|15.0|  [65.0]|\n",
      "|20.0| 5.0|  [20.0]|\n",
      "|10.0| 2.0|  [10.0]|\n",
      "|15.0| 2.0|  [15.0]|\n",
      "|25.0| 3.0|  [25.0]|\n",
      "|35.0| 4.0|  [35.0]|\n",
      "+----+----+--------+\n",
      "\n"
     ]
    }
   ],
   "source": [
    "from pyspark.ml.feature import VectorAssembler\n",
    "\n",
    "## TODO: build a vector from the input column \"bill\"\n",
    "assembler = VectorAssembler(inputCols=[\"bill\"], outputCol=\"features\")\n",
    "featureVector = assembler.transform(spark_tips)\n",
    "\n",
    "featureVector.show()\n"
   ]
  },
  {
   "cell_type": "markdown",
   "metadata": {},
   "source": [
    "## Step 5: Create a Label column with the Vector\n",
    "\n",
    "We need a way to have the outcome variable.  In this case, we are trying to predict the tip from the bill.  So, we need to signal to Spark MLlib which one is the outcome variable.  In this case, we'll create a new variable called label."
   ]
  },
  {
   "cell_type": "code",
   "execution_count": 6,
   "metadata": {},
   "outputs": [
    {
     "name": "stdout",
     "output_type": "stream",
     "text": [
      "+----+----+--------+-----+\n",
      "|bill| tip|features|label|\n",
      "+----+----+--------+-----+\n",
      "|50.0|12.0|  [50.0]| 12.0|\n",
      "|30.0| 7.0|  [30.0]|  7.0|\n",
      "|60.0|13.0|  [60.0]| 13.0|\n",
      "|40.0| 8.0|  [40.0]|  8.0|\n",
      "|65.0|15.0|  [65.0]| 15.0|\n",
      "|20.0| 5.0|  [20.0]|  5.0|\n",
      "|10.0| 2.0|  [10.0]|  2.0|\n",
      "|15.0| 2.0|  [15.0]|  2.0|\n",
      "|25.0| 3.0|  [25.0]|  3.0|\n",
      "|35.0| 4.0|  [35.0]|  4.0|\n",
      "+----+----+--------+-----+\n",
      "\n"
     ]
    }
   ],
   "source": [
    "## TODO : create a new column to mirror 'tip'\n",
    "featureVector = featureVector.withColumn(\"label\", featureVector[\"tip\"])\n",
    "\n",
    "#featureVector = featureVector.withColumnRenamed(\"tip\", \"label\")  # this will rename existing tip column\n",
    "\n",
    "featureVector.show()"
   ]
  },
  {
   "cell_type": "markdown",
   "metadata": {},
   "source": [
    "\n",
    "## Step 6: Run Linear Regression in Spark\n",
    "\n",
    "Let's run our linear regression.  To do this we need to run call the LinearRegression Classs"
   ]
  },
  {
   "cell_type": "code",
   "execution_count": 7,
   "metadata": {
    "attributes": {
     "classes": [
      "R"
     ],
     "id": ""
    }
   },
   "outputs": [
    {
     "name": "stdout",
     "output_type": "stream",
     "text": [
      "linear model :  LinearRegression_43ca87f74d751da5ce29\n",
      "intercept :  -0.8217112049846651\n",
      "slope :  0.2263346058567047\n"
     ]
    }
   ],
   "source": [
    "from pyspark.ml.regression import LinearRegression\n",
    "\n",
    "## TODO: set number of iterations to 10\n",
    "lr = LinearRegression(maxIter=10, regParam=0.3, elasticNetParam=0.8)\n",
    "\n",
    "## TODO : Try with default params too\n",
    "# lr = LinearRegression(maxIter=???)  # default params -- zero\n",
    "\n",
    "lrModel = lr.fit(featureVector)\n",
    "\n",
    "intercept = lrModel.intercept  # This is the intercept\n",
    "slope = lrModel.coefficients[0] #This is the slope\n",
    "\n",
    "print(\"linear model : \", lrModel)\n",
    "print(\"intercept : \", intercept)\n",
    "print(\"slope : \", slope)"
   ]
  },
  {
   "cell_type": "markdown",
   "metadata": {},
   "source": [
    "## Step 7: Plot the fit line (abline)"
   ]
  },
  {
   "cell_type": "code",
   "execution_count": 8,
   "metadata": {},
   "outputs": [
    {
     "data": {
      "image/png": "[encoded data removed]",
      "text/plain": [
       "<Figure size 432x288 with 1 Axes>"
      ]
     },
     "metadata": {},
     "output_type": "display_data"
    }
   ],
   "source": [
    "# Create a list of values in the best fit line\n",
    "abline_values = [slope * i + intercept for i in tip_data.bill]\n",
    "\n",
    "# Plot the best fit line over the actual values\n",
    "plt.scatter(tip_data.bill, tip_data.tip)\n",
    "plt.plot(tip_data.bill, abline_values, 'b')\n",
    "plt.ylabel('tip')\n",
    "plt.xlabel('bill')\n",
    "plt.title(\"Fit Line\")\n",
    "plt.show()"
   ]
  },
  {
   "cell_type": "markdown",
   "metadata": {},
   "source": [
    "## Step 8: Print out model metrics\n",
    "\n",
    "### 8.1 - Coefficients"
   ]
  },
  {
   "cell_type": "code",
   "execution_count": 9,
   "metadata": {
    "attributes": {
     "classes": [
      "console"
     ],
     "id": ""
    }
   },
   "outputs": [
    {
     "name": "stdout",
     "output_type": "stream",
     "text": [
      "Coefficients: 0.2263346058567047\n",
      "Intercept: -0.8217112049846651\n",
      "numIterations: 3\n",
      "objectiveHistory: [0.5000000000000002, 0.4158224893708402, 0.10101250448579287]\n"
     ]
    }
   ],
   "source": [
    "# Print the coefficients and intercept for linear regression\n",
    "print(\"Coefficients: %s\" % str(lrModel.coefficients[0]))\n",
    "print(\"Intercept: %s\" % str(lrModel.intercept))\n",
    "\n",
    "\n",
    "# Summarize the model over the training set and print out some metrics\n",
    "trainingSummary = lrModel.summary\n",
    "print(\"numIterations: %d\" % trainingSummary.totalIterations)\n",
    "print(\"objectiveHistory: %s\" % str(trainingSummary.objectiveHistory))\n",
    "\n",
    "# print(\"RMSE: %f\" % trainingSummary.rootMeanSquaredError)"
   ]
  },
  {
   "cell_type": "markdown",
   "metadata": {},
   "source": [
    "### 8.2 - Correlation Coefficient (r)\n",
    "Correlation Coefficient (r) denotes how strongly X & Y are inter-related.  \n",
    "\n",
    "Spark ML can create a correlation Matrix which shows how all the variables in the dataset are correlated, if at all.  Naturally, every variable will have a correlation of 1 when compared to itself.\n"
   ]
  },
  {
   "cell_type": "code",
   "execution_count": 10,
   "metadata": {
    "attributes": {
     "classes": [
      "R"
     ],
     "id": ""
    }
   },
   "outputs": [
    {
     "name": "stdout",
     "output_type": "stream",
     "text": [
      "Pearson correlation matrix:\n",
      "DenseMatrix([[1.        , 0.95221535],\n",
      "             [0.95221535, 1.        ]])\n"
     ]
    }
   ],
   "source": [
    "from pyspark.ml.stat import Correlation\n",
    "\n",
    "assembler = VectorAssembler(inputCols=[\"bill\", \"tip\"], outputCol=\"features\")\n",
    "correlationVector = assembler.transform(spark_tips)\n",
    "\n",
    "r1 = Correlation.corr(correlationVector, \"features\").head()\n",
    "print(\"Pearson correlation matrix:\\n\" + str(r1[0]))\n"
   ]
  },
  {
   "cell_type": "markdown",
   "metadata": {},
   "source": [
    "**==>  Question : Does bill amount influence tip amount? (are they strongly linked?)**\n",
    "\n",
    "\n",
    "### 8.3 - Coefficient of Determination (r&sup2;)"
   ]
  },
  {
   "cell_type": "code",
   "execution_count": 11,
   "metadata": {},
   "outputs": [
    {
     "name": "stdout",
     "output_type": "stream",
     "text": [
      "r2: 0.902517\n"
     ]
    }
   ],
   "source": [
    "## TODO : print 'r2' from training summary\n",
    "## Hint : Use TAB completion\n",
    "print(\"r2: %f\" % trainingSummary.r2)"
   ]
  },
  {
   "cell_type": "markdown",
   "metadata": {},
   "source": [
    "### 8.4 - RMSE"
   ]
  },
  {
   "cell_type": "code",
   "execution_count": 19,
   "metadata": {},
   "outputs": [
    {
     "data": {
      "text/plain": [
       "1.4133017206321472"
      ]
     },
     "execution_count": 19,
     "metadata": {},
     "output_type": "execute_result"
    }
   ],
   "source": [
    "trainingSummary.rootMeanSquaredError"
   ]
  },
  {
   "cell_type": "markdown",
   "metadata": {},
   "source": [
    "## Step 9: Calculate tip for $100 bill"
   ]
  },
  {
   "cell_type": "code",
   "execution_count": 13,
   "metadata": {
    "attributes": {
     "classes": [
      "R"
     ],
     "id": ""
    }
   },
   "outputs": [
    {
     "name": "stdout",
     "output_type": "stream",
     "text": [
      "Slope: 0.2263346058567047\n",
      "Intercept: -0.8217112049846651\n"
     ]
    }
   ],
   "source": [
    "# Print the coefficients and intercept for linear regression\n",
    "print(\"Slope: %s\" % str(lrModel.coefficients[0]))\n",
    "print(\"Intercept: %s\" % str(lrModel.intercept))\n",
    "\n",
    "a = lrModel.coefficients[0]\n",
    "b = lrModel.intercept"
   ]
  },
  {
   "cell_type": "code",
   "execution_count": 14,
   "metadata": {
    "attributes": {
     "classes": [
      "R"
     ],
     "id": ""
    }
   },
   "outputs": [
    {
     "name": "stdout",
     "output_type": "stream",
     "text": [
      "tip for $100 bill =  21.811749380685804\n"
     ]
    }
   ],
   "source": [
    "\n",
    "bill = 100\n",
    "## we have already calculated a & b above\n",
    "tip_for_100 = a * bill + b\n",
    "print(\"tip for $100 bill = \", tip_for_100)\n"
   ]
  },
  {
   "cell_type": "markdown",
   "metadata": {},
   "source": [
    "## Step 10: Add a estimated_tip column to pandas and spark dataframe\n"
   ]
  },
  {
   "cell_type": "code",
   "execution_count": 15,
   "metadata": {
    "attributes": {
     "classes": [
      "R"
     ],
     "id": ""
    }
   },
   "outputs": [
    {
     "data": {
      "text/html": [
       "<div>\n",
       "<style scoped>\n",
       "    .dataframe tbody tr th:only-of-type {\n",
       "        vertical-align: middle;\n",
       "    }\n",
       "\n",
       "    .dataframe tbody tr th {\n",
       "        vertical-align: top;\n",
       "    }\n",
       "\n",
       "    .dataframe thead th {\n",
       "        text-align: right;\n",
       "    }\n",
       "</style>\n",
       "<table border=\"1\" class=\"dataframe\">\n",
       "  <thead>\n",
       "    <tr style=\"text-align: right;\">\n",
       "      <th></th>\n",
       "      <th>bill</th>\n",
       "      <th>tip</th>\n",
       "      <th>est_tip</th>\n",
       "    </tr>\n",
       "  </thead>\n",
       "  <tbody>\n",
       "    <tr>\n",
       "      <th>0</th>\n",
       "      <td>50.0</td>\n",
       "      <td>12.0</td>\n",
       "      <td>10.495019</td>\n",
       "    </tr>\n",
       "    <tr>\n",
       "      <th>1</th>\n",
       "      <td>30.0</td>\n",
       "      <td>7.0</td>\n",
       "      <td>5.968327</td>\n",
       "    </tr>\n",
       "    <tr>\n",
       "      <th>2</th>\n",
       "      <td>60.0</td>\n",
       "      <td>13.0</td>\n",
       "      <td>12.758365</td>\n",
       "    </tr>\n",
       "    <tr>\n",
       "      <th>3</th>\n",
       "      <td>40.0</td>\n",
       "      <td>8.0</td>\n",
       "      <td>8.231673</td>\n",
       "    </tr>\n",
       "    <tr>\n",
       "      <th>4</th>\n",
       "      <td>65.0</td>\n",
       "      <td>15.0</td>\n",
       "      <td>13.890038</td>\n",
       "    </tr>\n",
       "    <tr>\n",
       "      <th>5</th>\n",
       "      <td>20.0</td>\n",
       "      <td>5.0</td>\n",
       "      <td>3.704981</td>\n",
       "    </tr>\n",
       "    <tr>\n",
       "      <th>6</th>\n",
       "      <td>10.0</td>\n",
       "      <td>2.0</td>\n",
       "      <td>1.441635</td>\n",
       "    </tr>\n",
       "    <tr>\n",
       "      <th>7</th>\n",
       "      <td>15.0</td>\n",
       "      <td>2.0</td>\n",
       "      <td>2.573308</td>\n",
       "    </tr>\n",
       "    <tr>\n",
       "      <th>8</th>\n",
       "      <td>25.0</td>\n",
       "      <td>3.0</td>\n",
       "      <td>4.836654</td>\n",
       "    </tr>\n",
       "    <tr>\n",
       "      <th>9</th>\n",
       "      <td>35.0</td>\n",
       "      <td>4.0</td>\n",
       "      <td>7.100000</td>\n",
       "    </tr>\n",
       "  </tbody>\n",
       "</table>\n",
       "</div>"
      ],
      "text/plain": [
       "   bill   tip    est_tip\n",
       "0  50.0  12.0  10.495019\n",
       "1  30.0   7.0   5.968327\n",
       "2  60.0  13.0  12.758365\n",
       "3  40.0   8.0   8.231673\n",
       "4  65.0  15.0  13.890038\n",
       "5  20.0   5.0   3.704981\n",
       "6  10.0   2.0   1.441635\n",
       "7  15.0   2.0   2.573308\n",
       "8  25.0   3.0   4.836654\n",
       "9  35.0   4.0   7.100000"
      ]
     },
     "execution_count": 15,
     "metadata": {},
     "output_type": "execute_result"
    }
   ],
   "source": [
    "tip_data['est_tip'] =  tip_data.bill * a + b\n",
    "\n",
    "tip_data"
   ]
  },
  {
   "cell_type": "markdown",
   "metadata": {},
   "source": [
    "### Add estimated tip column to pyspark dataframe\n",
    "\n",
    "This is a bit tricky. We need to use the sql expr function to make this work.\n",
    "\n",
    "The formula: (bill * a) + b"
   ]
  },
  {
   "cell_type": "code",
   "execution_count": 16,
   "metadata": {},
   "outputs": [
    {
     "name": "stdout",
     "output_type": "stream",
     "text": [
      "(bill * 0.2263346058567047) + -0.8217112049846651\n",
      "+----+----+------------------+\n",
      "|bill| tip|           est_tip|\n",
      "+----+----+------------------+\n",
      "|50.0|12.0| 10.49501908785057|\n",
      "|30.0| 7.0| 5.968326970716475|\n",
      "|60.0|13.0|12.758365146417617|\n",
      "|40.0| 8.0| 8.231673029283524|\n",
      "|65.0|15.0|13.890038175701141|\n",
      "|20.0| 5.0| 3.704980912149429|\n",
      "|10.0| 2.0| 1.441634853582382|\n",
      "|15.0| 2.0|2.5733078828659055|\n",
      "|25.0| 3.0| 4.836653941432952|\n",
      "|35.0| 4.0|               7.1|\n",
      "+----+----+------------------+\n",
      "\n"
     ]
    }
   ],
   "source": [
    "from pyspark.sql.functions import expr\n",
    "\n",
    "formula = \"(bill * \" + str(a) + \") + \" + str(b)\n",
    "\n",
    "print(formula)\n",
    "## Step 6: Add estimated tip column to spark dataframe\n",
    "spark_tips_with_est = spark_tips.withColumn(\"est_tip\", expr(formula))\n",
    "spark_tips_with_est.show()"
   ]
  },
  {
   "cell_type": "markdown",
   "metadata": {},
   "source": [
    "## Step 11: Perform a prediction\n",
    "Let's try to run a prediction on some data: $45.00, $55.00, and $65.00 \n"
   ]
  },
  {
   "cell_type": "code",
   "execution_count": 17,
   "metadata": {},
   "outputs": [
    {
     "name": "stdout",
     "output_type": "stream",
     "text": [
      "+----+--------+------------------+\n",
      "|bill|features|        prediction|\n",
      "+----+--------+------------------+\n",
      "|45.0|  [45.0]| 9.363346058567046|\n",
      "|55.0|  [55.0]|11.626692117134095|\n",
      "|65.0|  [65.0]|13.890038175701141|\n",
      "+----+--------+------------------+\n",
      "\n"
     ]
    }
   ],
   "source": [
    "test_data_pd = pd.DataFrame({'bill' : [45., 55., 65.],\n",
    "             })\n",
    "test_data_spark =  spark.createDataFrame(test_data_pd)\n",
    "test_assembler = VectorAssembler(inputCols=[\"bill\"], outputCol=\"features\")\n",
    "test_features = test_assembler.transform(test_data_spark)\n",
    "\n",
    "## Hint : Transform 'test_features'\n",
    "test_predictions = lrModel.transform(test_features)\n",
    "\n",
    "test_predictions.show()"
   ]
  },
  {
   "cell_type": "markdown",
   "metadata": {},
   "source": [
    "## Step 12: Complete Code"
   ]
  },
  {
   "cell_type": "code",
   "execution_count": 18,
   "metadata": {},
   "outputs": [
    {
     "name": "stdout",
     "output_type": "stream",
     "text": [
      "   bill   tip\n",
      "0  50.0  12.0\n",
      "1  30.0   7.0\n",
      "2  60.0  13.0\n",
      "3  40.0   8.0\n",
      "4  65.0  15.0\n",
      "5  20.0   5.0\n",
      "6  10.0   2.0\n",
      "7  15.0   2.0\n",
      "8  25.0   3.0\n",
      "9  35.0   4.0\n"
     ]
    },
    {
     "data": {
      "image/png": "[encoded data removed]",
      "text/plain": [
       "<Figure size 432x288 with 1 Axes>"
      ]
     },
     "metadata": {},
     "output_type": "display_data"
    },
    {
     "name": "stdout",
     "output_type": "stream",
     "text": [
      "+----+----+\n",
      "|bill| tip|\n",
      "+----+----+\n",
      "|50.0|12.0|\n",
      "|30.0| 7.0|\n",
      "|60.0|13.0|\n",
      "|40.0| 8.0|\n",
      "|65.0|15.0|\n",
      "|20.0| 5.0|\n",
      "|10.0| 2.0|\n",
      "|15.0| 2.0|\n",
      "|25.0| 3.0|\n",
      "|35.0| 4.0|\n",
      "+----+----+\n",
      "\n",
      "+----+----+--------+\n",
      "|bill| tip|features|\n",
      "+----+----+--------+\n",
      "|50.0|12.0|  [50.0]|\n",
      "|30.0| 7.0|  [30.0]|\n",
      "|60.0|13.0|  [60.0]|\n",
      "|40.0| 8.0|  [40.0]|\n",
      "|65.0|15.0|  [65.0]|\n",
      "|20.0| 5.0|  [20.0]|\n",
      "|10.0| 2.0|  [10.0]|\n",
      "|15.0| 2.0|  [15.0]|\n",
      "|25.0| 3.0|  [25.0]|\n",
      "|35.0| 4.0|  [35.0]|\n",
      "+----+----+--------+\n",
      "\n",
      "+----+----+--------+-----+\n",
      "|bill| tip|features|label|\n",
      "+----+----+--------+-----+\n",
      "|50.0|12.0|  [50.0]| 12.0|\n",
      "|30.0| 7.0|  [30.0]|  7.0|\n",
      "|60.0|13.0|  [60.0]| 13.0|\n",
      "|40.0| 8.0|  [40.0]|  8.0|\n",
      "|65.0|15.0|  [65.0]| 15.0|\n",
      "|20.0| 5.0|  [20.0]|  5.0|\n",
      "|10.0| 2.0|  [10.0]|  2.0|\n",
      "|15.0| 2.0|  [15.0]|  2.0|\n",
      "|25.0| 3.0|  [25.0]|  3.0|\n",
      "|35.0| 4.0|  [35.0]|  4.0|\n",
      "+----+----+--------+-----+\n",
      "\n"
     ]
    },
    {
     "data": {
      "image/png": "[encoded data removed]",
      "text/plain": [
       "<Figure size 432x288 with 1 Axes>"
      ]
     },
     "metadata": {},
     "output_type": "display_data"
    },
    {
     "name": "stdout",
     "output_type": "stream",
     "text": [
      "Coefficients: 0.2263346058567047\n",
      "Intercept: -0.8217112049846651\n",
      "numIterations: 3\n",
      "objectiveHistory: [0.5000000000000002, 0.4158224893708402, 0.10101250448579287]\n",
      "+--------------------+\n",
      "|           residuals|\n",
      "+--------------------+\n",
      "|  1.5049809121494295|\n",
      "|  1.0316730292835246|\n",
      "|  0.2416348535823829|\n",
      "|-0.23167302928352385|\n",
      "|  1.1099618242988587|\n",
      "|  1.2950190878505712|\n",
      "|   0.558365146417618|\n",
      "| -0.5733078828659055|\n",
      "| -1.8366539414329521|\n",
      "| -3.0999999999999996|\n",
      "+--------------------+\n",
      "\n",
      "RMSE: 1.413302\n",
      "r2: 0.902517\n",
      "21.811749380685804\n",
      "+----+----+------------------+\n",
      "|bill| tip|           est_tip|\n",
      "+----+----+------------------+\n",
      "|50.0|12.0| 10.49501908785057|\n",
      "|30.0| 7.0| 5.968326970716475|\n",
      "|60.0|13.0|12.758365146417617|\n",
      "|40.0| 8.0| 8.231673029283524|\n",
      "|65.0|15.0|13.890038175701141|\n",
      "|20.0| 5.0| 3.704980912149429|\n",
      "|10.0| 2.0| 1.441634853582382|\n",
      "|15.0| 2.0|2.5733078828659055|\n",
      "|25.0| 3.0| 4.836653941432952|\n",
      "|35.0| 4.0|               7.1|\n",
      "+----+----+------------------+\n",
      "\n"
     ]
    }
   ],
   "source": [
    "import pandas as pd\n",
    "import matplotlib.pyplot as plt\n",
    "from pyspark.ml.regression import LinearRegression\n",
    "from pyspark.ml.feature import VectorAssembler\n",
    "from pyspark.sql.functions import expr\n",
    "%matplotlib inline\n",
    "import matplotlib.pyplot as plt\n",
    "\n",
    "\n",
    "# tip = a * amount + b\n",
    "\n",
    "# Make a Pandas dataframe\n",
    "tip_data = pd.DataFrame({'bill' : [50.00, 30.00, 60.00, 40.00, 65.00, 20.00, 10.00, 15.00, 25.00, 35.00],\n",
    "              'tip' : [12.00, 7.00, 13.00, 8.00, 15.00, 5.00, 2.00, 2.00, 3.00, 4.00]\n",
    "             })\n",
    "                       \n",
    "print(tip_data)\n",
    "\n",
    "#Plot the Tip Data\n",
    "plt.scatter(tip_data.bill, tip_data.tip)\n",
    "plt.ylabel('tip')\n",
    "plt.xlabel('bill')\n",
    "plt.show()\n",
    "\n",
    "\n",
    "# Create a Spark Dataframe\n",
    "spark_tips = spark.createDataFrame(tip_data)\n",
    "spark_tips.show()\n",
    "\n",
    "# Create a Features Columns\n",
    "assembler = VectorAssembler(inputCols=[\"bill\"], outputCol=\"features\")\n",
    "featureVector = assembler.transform(spark_tips)\n",
    "\n",
    "featureVector.show()\n",
    "\n",
    "# Create the label column\n",
    "featureVector = featureVector.withColumn(\"label\", featureVector[\"tip\"])\n",
    "featureVector.show()\n",
    "\n",
    "# Run Linear Regression\n",
    "lr = LinearRegression(maxIter=10, regParam=0.3, elasticNetParam=0.8)\n",
    "lrModel = lr.fit(featureVector)\n",
    "\n",
    "\n",
    "intercept = lrModel.intercept  # This is the intercept\n",
    "slope = lrModel.coefficients[0] #This is the slope\n",
    "\n",
    "# Plot the best fit line over the actual values\n",
    "abline_values = [slope * i + intercept for i in tip_data.bill]\n",
    "plt.scatter(tip_data.bill, tip_data.tip)\n",
    "plt.plot(tip_data.bill, abline_values, 'b')\n",
    "plt.ylabel('tip')\n",
    "plt.xlabel('bill')\n",
    "plt.title(\"Fit Line\")\n",
    "plt.show()\n",
    "\n",
    "# Summarize the model over the training set and print out some metrics\n",
    "print(\"Coefficients: %s\" % str(lrModel.coefficients[0]))\n",
    "print(\"Intercept: %s\" % str(lrModel.intercept))\n",
    "trainingSummary = lrModel.summary\n",
    "print(\"numIterations: %d\" % trainingSummary.totalIterations)\n",
    "print(\"objectiveHistory: %s\" % str(trainingSummary.objectiveHistory))\n",
    "trainingSummary.residuals.show()\n",
    "print(\"RMSE: %f\" % trainingSummary.rootMeanSquaredError)\n",
    "print(\"r2: %f\" % trainingSummary.r2)\n",
    "\n",
    "# Calculate Tip for $100 bill\n",
    "a = lrModel.coefficients[0]\n",
    "b = lrModel.intercept\n",
    "tip_for_100 = a * 100 + b   \n",
    "print(tip_for_100)\n",
    "\n",
    "\n",
    "# Add est_tip to dataframes\n",
    "tip_data['est_tip'] = tip_data.bill * a + b  #Pandas\n",
    "tip_data\n",
    "\n",
    "formula = \"(bill * \" + str(a) + \") + \" + str(b)  #Spark\n",
    "spark_tips_with_est = spark_tips.withColumn(\"est_tip\", expr(formula))\n",
    "spark_tips_with_est.show()"
   ]
  },
  {
   "cell_type": "code",
   "execution_count": null,
   "metadata": {},
   "outputs": [],
   "source": []
  }
 ],
 "metadata": {
  "kernelspec": {
   "display_name": "Python 3",
   "language": "python",
   "name": "python3"
  },
  "language_info": {
   "codemirror_mode": {
    "name": "ipython",
    "version": 3
   },
   "file_extension": ".py",
   "mimetype": "text/x-python",
   "name": "python",
   "nbconvert_exporter": "python",
   "pygments_lexer": "ipython3",
   "version": "3.6.6"
  }
 },
 "nbformat": 4,
 "nbformat_minor": 2
}
