{
 "cells": [
  {
   "cell_type": "markdown",
   "metadata": {},
   "source": [
    "[<< back to main index](../README.md)\n",
    "\n",
    "# Multiple Linear Regression Lab 6 : Akaike’s Information Criteria (AIC)\n",
    "\n",
    "### Overview\n",
    "Figure out which attributes to include using AIC\n",
    "\n",
    "### Builds on\n",
    "None\n",
    "\n",
    "### Run time\n",
    "approx. 20 minutes\n",
    "\n",
    "### Notes\n",
    "\n"
   ]
  },
  {
   "cell_type": "code",
   "execution_count": 1,
   "metadata": {},
   "outputs": [
    {
     "name": "stdout",
     "output_type": "stream",
     "text": [
      "Initializing Spark...\n",
      "Spark found in :  /home/ubuntu/spark\n",
      "Spark config:\n",
      "\t spark.app.name=TestApp\n",
      "\tspark.master=local[*]\n",
      "\texecutor.memory=2g\n",
      "\tspark.sql.warehouse.dir=/tmp/tmpvzvtrlhs\n",
      "\tsome_property=some_value\n",
      "Spark UI running on port 4040\n"
     ]
    },
    {
     "data": {
      "text/html": [
       "\n",
       "            <div>\n",
       "                <p><b>SparkSession - in-memory</b></p>\n",
       "                \n",
       "        <div>\n",
       "            <p><b>SparkContext</b></p>\n",
       "\n",
       "            <p><a href=\"http://ip-172-16-0-85.ec2.internal:4040\">Spark UI</a></p>\n",
       "\n",
       "            <dl>\n",
       "              <dt>Version</dt>\n",
       "                <dd><code>v2.4.0</code></dd>\n",
       "              <dt>Master</dt>\n",
       "                <dd><code>local[*]</code></dd>\n",
       "              <dt>AppName</dt>\n",
       "                <dd><code>TestApp</code></dd>\n",
       "            </dl>\n",
       "        </div>\n",
       "        \n",
       "            </div>\n",
       "        "
      ],
      "text/plain": [
       "<pyspark.sql.session.SparkSession at 0x7f44a064e2b0>"
      ]
     },
     "execution_count": 1,
     "metadata": {},
     "output_type": "execute_result"
    }
   ],
   "source": [
    "# initialize Spark Session\n",
    "import os\n",
    "import sys\n",
    "top_dir = os.path.abspath(os.path.join(os.getcwd(), \"../\"))\n",
    "if top_dir not in sys.path:\n",
    "    sys.path.append(top_dir)\n",
    "\n",
    "from init_spark import init_spark\n",
    "spark = init_spark()\n",
    "spark"
   ]
  },
  {
   "cell_type": "markdown",
   "metadata": {},
   "source": [
    "\n",
    "## Step 1 : House data"
   ]
  },
  {
   "cell_type": "code",
   "execution_count": 2,
   "metadata": {
    "attributes": {
     "classes": [
      "R"
     ],
     "id": ""
    },
    "collapsed": true
   },
   "outputs": [
    {
     "name": "stdout",
     "output_type": "stream",
     "text": [
      "+----------+--------+---------+----------+-------------+-------+-------+-----------+------------+--------------+-------+-------------+---------------+---------+--------+---------+-------+-----------+------------+-------+-------+-------+---------------+\n",
      "|DocumentID|    Date|SalePrice|PropertyID| PropertyType|     ym|zhvi_px|   zhvi_idx|AdjSalePrice|NbrLivingUnits|SqFtLot|SqFtTotLiving|SqFtFinBasement|Bathrooms|Bedrooms|BldgGrade|YrBuilt|YrRenovated|TrafficNoise|LandVal|ImpsVal|ZipCode|NewConstruction|\n",
      "+----------+--------+---------+----------+-------------+-------+-------+-----------+------------+--------------+-------+-------------+---------------+---------+--------+---------+-------+-----------+------------+-------+-------+-------+---------------+\n",
      "|         1| 9/16/14|   280000|   1000102|    Multiplex| 9/1/14| 405100|0.930836397|      300805|             2|   9373|         2400|              0|      3.0|       6|        7|   1991|          0|           0|  70000| 229000|  98002|          false|\n",
      "|         2| 6/16/06|  1000000|   1200013|Single Family| 6/1/06| 404400|0.929227941|     1076162|             1|  20156|         3764|           1452|     3.75|       4|       10|   2005|          0|           0| 203000| 590000|  98166|           true|\n",
      "|         3| 1/29/07|   745000|   1200019|Single Family| 1/1/07| 425600|0.977941176|      761805|             1|  26036|         2060|            900|     1.75|       4|        8|   1947|          0|           0| 183000| 275000|  98166|          false|\n",
      "|         4| 2/25/08|   425000|   2800016|Single Family| 2/1/08| 418400|0.961397059|      442065|             1|   8618|         3200|           1640|     3.75|       5|        7|   1966|          0|           0| 104000| 229000|  98168|          false|\n",
      "|         5| 3/29/13|   240000|   2800024|Single Family| 3/1/13| 351600|0.807904412|      297065|             1|   8620|         1720|              0|     1.75|       4|        7|   1948|          0|           0| 104000| 205000|  98168|          false|\n",
      "|         6| 3/30/09|   349900|   3600090|    Townhouse| 3/1/09| 369800|0.849724265|      411781|             1|   1012|          930|              0|      1.5|       2|        8|   2008|          0|           0| 170000| 207000|  98144|           true|\n",
      "|         7| 8/28/13|   327500|   3800004|Single Family| 8/1/13| 374300|0.860064338|      380785|             1|  34465|         1750|              0|      1.5|       3|        8|   1961|          0|           0| 165000| 227000|  98178|          false|\n",
      "|         8| 5/24/07|   347000|   3800009|Single Family| 5/1/07| 432100|0.992876838|      349489|             1|  14659|         1860|            620|     1.75|       4|        7|   1963|          0|           0| 115000| 154000|  98178|          false|\n",
      "|         9| 9/22/06|   220400|   6600055|Single Family| 9/1/06| 414800|   0.953125|      231239|             1|   5324|          990|              0|      1.0|       2|        6|   1930|          0|           3|  90000|  75000|  98032|          false|\n",
      "|        10| 8/22/06|   437500|   7200080|    Multiplex| 8/1/06| 411100|0.944623162|      463148|             2|  10585|         1980|              0|      2.0|       4|        6|   1924|          0|           0| 124000| 116000|  98055|          false|\n",
      "|        11|10/16/14|   150000|   7200179|Single Family|10/1/14| 407400|0.936121324|      160236|             1|  12750|          840|              0|      1.0|       2|        6|   1925|          0|           0| 133000|  73000|  98055|          false|\n",
      "|        12| 1/14/10|   300000|   7400054|Single Family| 1/1/10| 350800|0.806066176|      372178|             1|   5200|         1750|            600|      1.0|       3|        7|   1958|          0|           1| 100000| 172000|  98118|          false|\n",
      "|        13| 6/26/08|   292000|   7400062|Single Family| 6/1/08| 403200|0.926470588|      315175|             1|   5240|          790|              0|      1.0|       2|        6|   1925|          0|           1| 100000| 152000|  98118|          false|\n",
      "|        14| 5/21/14|   299800|   7400062|Single Family| 5/1/14| 398100|0.914751838|      327739|             1|   5240|          790|              0|      1.0|       2|        6|   1925|          0|           1| 100000| 152000|  98118|          false|\n",
      "|        15| 6/13/13|   370000|   7600065|    Townhouse| 6/1/13| 366100|0.841222426|      439836|             1|   1245|         1530|            480|     2.25|       3|        9|   2014|          0|           2|  91000| 439000|     -1|          false|\n",
      "|        16| 9/25/06|   605000|   7600093|Single Family| 9/1/06| 414800|   0.953125|      634754|             1|   7320|         2120|              0|     2.75|       3|        8|   1901|          0|           0| 261000| 422000|  98122|          false|\n",
      "|        17|  5/4/07|   475000|   7600136|    Townhouse| 5/1/07| 432100|0.992876838|      478408|             1|   1148|         1130|            330|      2.0|       2|        9|   2007|          0|           0|  91000| 383000|     -1|           true|\n",
      "|        18| 2/24/07|   425000|   7600203|Single Family| 2/1/07| 427800|0.982996324|      432352|             1|   3485|         2620|           1060|      1.5|       4|        7|   1920|          0|           0| 235000| 373000|  98122|          false|\n",
      "|        19| 3/26/08|   357500|   7600218|    Townhouse| 3/1/08| 415100|0.953814338|      374811|             1|    924|         1250|            210|      1.5|       2|        8|   2007|          0|           0|  91000| 352000|     -1|           true|\n",
      "|        20| 3/14/06|   455000|   9000210|Single Family| 3/1/06| 392100|0.900965074|      505014|             1|   5253|         1500|            750|     1.75|       3|        6|   1919|          0|           0| 333000| 117000|  98115|          false|\n",
      "+----------+--------+---------+----------+-------------+-------+-------+-----------+------------+--------------+-------+-------------+---------------+---------+--------+---------+-------+-----------+------------+-------+-------+-------+---------------+\n",
      "only showing top 20 rows\n",
      "\n"
     ]
    }
   ],
   "source": [
    "housePrices = spark.read.csv(\"/data/house-prices/house-sales-full.csv\", header=True, inferSchema=True)\n",
    "housePrices.show()"
   ]
  },
  {
   "cell_type": "markdown",
   "metadata": {},
   "source": [
    "## Step 2: Apply an R formula for Feature Extraction\n",
    "\n",
    "R users will be familiar with the concept of the **formula**.  The formula has a lot of features, but in its most basic form what it consists of is the following:\n",
    "\n",
    "```\n",
    " y-variable ~ x-variable1 + xvariable2 + ....\n",
    "```\n",
    "\n",
    "basically, the y variable is the variable we are trying to predict, while the x variable(s) are the variables \n",
    "that we are using to make the prediction.  There are some complexities but that's the gist of it.\n",
    "\n",
    "In the process, R will convert all categorical variables using one-hot encoding, and index strings.  Remember, features in spark are only allowed to be numeric (doubles).  NAs are also forbidden, so those are converted as well.\n",
    "\n",
    "**=>TODO: instantiate R formula with formula tex tand features column = \"features\"**"
   ]
  },
  {
   "cell_type": "code",
   "execution_count": 12,
   "metadata": {
    "collapsed": true
   },
   "outputs": [
    {
     "name": "stdout",
     "output_type": "stream",
     "text": [
      "+--------------------+---------+\n",
      "|            features|    label|\n",
      "+--------------------+---------+\n",
      "|[2400.0,9373.0,3....| 280000.0|\n",
      "|[3764.0,20156.0,3...|1000000.0|\n",
      "|[2060.0,26036.0,1...| 745000.0|\n",
      "|[3200.0,8618.0,3....| 425000.0|\n",
      "|[1720.0,8620.0,1....| 240000.0|\n",
      "|[930.0,1012.0,1.5...| 349900.0|\n",
      "|[1750.0,34465.0,1...| 327500.0|\n",
      "|[1860.0,14659.0,1...| 347000.0|\n",
      "|[990.0,5324.0,1.0...| 220400.0|\n",
      "|[1980.0,10585.0,2...| 437500.0|\n",
      "|[840.0,12750.0,1....| 150000.0|\n",
      "|[1750.0,5200.0,1....| 300000.0|\n",
      "|[790.0,5240.0,1.0...| 292000.0|\n",
      "|[790.0,5240.0,1.0...| 299800.0|\n",
      "|[1530.0,1245.0,2....| 370000.0|\n",
      "|[2120.0,7320.0,2....| 605000.0|\n",
      "|[1130.0,1148.0,2....| 475000.0|\n",
      "|[2620.0,3485.0,1....| 425000.0|\n",
      "|[1250.0,924.0,1.5...| 357500.0|\n",
      "|[1500.0,5253.0,1....| 455000.0|\n",
      "+--------------------+---------+\n",
      "only showing top 20 rows\n",
      "\n"
     ]
    }
   ],
   "source": [
    "from pyspark.ml.feature import RFormula\n",
    "\n",
    "#lm(SalePrice ~ SqFtTotLiving + SqFtLot + Bathrooms + Bedrooms + BldgGrade + PropertyType + NbrLivingUnits + SqFtFinBasement + YrBuilt + YrRenovated + NewConstruction,\n",
    "#              data = house.prices, na.action = na.omit)\n",
    "    \n",
    "\n",
    "variables = ['SqFtTotLiving', 'SqFtLot', 'Bathrooms', 'Bedrooms', 'BldgGrade', 'PropertyType',\n",
    "               'NbrLivingUnits', 'SqFtFinBasement', 'YrBuilt', 'YrRenovated', 'NewConstruction']\n",
    "\n",
    "textFormula = \"SalePrice ~ SqFtTotLiving + SqFtLot + Bathrooms + Bedrooms + BldgGrade + PropertyType + \\\n",
    "               NbrLivingUnits + SqFtFinBasement + YrBuilt + YrRenovated + NewConstruction\"\n",
    "\n",
    "formula = RFormula(\n",
    "    formula=textFormula,\n",
    "    featuresCol=\"features\",\n",
    "    labelCol=\"label\")    \n",
    "\n",
    "\n",
    "featureVector = formula.fit(housePrices).transform(housePrices)\n",
    "featureVector.select(\"features\", \"label\").show()\n"
   ]
  },
  {
   "cell_type": "markdown",
   "metadata": {},
   "source": [
    "## Step 2: Run MLR With All Attributes"
   ]
  },
  {
   "cell_type": "code",
   "execution_count": 13,
   "metadata": {
    "attributes": {
     "classes": [
      "R"
     ],
     "id": ""
    },
    "collapsed": true
   },
   "outputs": [
    {
     "name": "stdout",
     "output_type": "stream",
     "text": [
      "Coefficents:[170.10128030001252,0.023094538267461523,38476.26910404401,-44012.70252812829,122464.16106499206,6842.187674556212,69960.71090538551,-7206.406158130918,8.050569522709333,-3305.2407873452394,-2.7775981042860964,8089.690269342209]\n",
      "Intercept: 5782921.487380644\n"
     ]
    }
   ],
   "source": [
    "from pyspark.ml.regression import GeneralizedLinearRegression\n",
    "\n",
    "glr = GeneralizedLinearRegression(family=\"gaussian\", link=\"identity\", maxIter=10, regParam=0.3)\n",
    "lrModel = glr.fit(featureVector)\n",
    "\n",
    "print(\"Coefficents:\" + str(lrModel.coefficients))\n",
    "print(\"Intercept: \" + str(lrModel.intercept))"
   ]
  },
  {
   "cell_type": "code",
   "execution_count": 14,
   "metadata": {
    "collapsed": true
   },
   "outputs": [
    {
     "name": "stdout",
     "output_type": "stream",
     "text": [
      "Coefficient Standard Errors: [3.4654895528979646, 0.049748171659333956, 3151.1676574754106, 2047.9480513940998, 2026.1745197289538, 22643.14524271793, 23151.463884004923, 14940.292281757702, 3.9001660830952614, 66.44082047311522, 3.5197439166376037, 3993.413082376014, 133305.6697168418]\n",
      "T Values: [49.08434369907935, 0.46422888514594146, 12.210162481443357, -21.491122540030993, 60.44107251006907, 0.3021747907021296, 3.0218698591116113, -0.4823470667257318, 2.064160692439081, -49.74713984278205, -0.7891477817907628, 2.0257584433336357, 43.38091170213769]\n",
      "P Values: [0.0, 0.6424875043233946, 0.0, 0.0, 0.0, 0.7625211438318191, 0.002514534146429881, 0.6295633201097957, 0.03901199571881464, 0.0, 0.43003255429668874, 0.04279934126831897, 0.0]\n",
      "Dispersion: 49376624674.11661\n",
      "Null Deviance: 3180498185220857.5\n",
      "Residual Degree Of Freedom Null: 27062\n",
      "Deviance: 1335637697434854.2\n",
      "Residual Degree Of Freedom: 27050\n",
      "AIC: 743181.7567709518\n",
      "Deviance Residuals: \n",
      "+-------------------+\n",
      "|  devianceResiduals|\n",
      "+-------------------+\n",
      "| -24835.52488552872|\n",
      "| -8932.129726319574|\n",
      "| 168495.15533781517|\n",
      "| -198651.5646388689|\n",
      "|-145253.28045893833|\n",
      "| 25438.169120514765|\n",
      "| -177342.8632910829|\n",
      "|-17619.668911438435|\n",
      "|-36801.602577245794|\n",
      "| 55542.914620744996|\n",
      "|  -98384.1145101441|\n",
      "|  -77210.7700873334|\n",
      "|  52294.38948724512|\n",
      "|  60094.38948724512|\n",
      "|-139779.77882929146|\n",
      "|-208563.21938158665|\n",
      "|-31149.452143545263|\n",
      "|-204687.12073867396|\n",
      "|  -26388.0686432356|\n",
      "|  83808.30907923076|\n",
      "+-------------------+\n",
      "only showing top 20 rows\n",
      "\n"
     ]
    }
   ],
   "source": [
    "\n",
    "# Summarize the model over the training set and print out some metrics\n",
    "summary = lrModel.summary\n",
    "print(\"Coefficient Standard Errors: \" + str(summary.coefficientStandardErrors))\n",
    "print(\"T Values: \" + str(summary.tValues))\n",
    "print(\"P Values: \" + str(summary.pValues))\n",
    "print(\"Dispersion: \" + str(summary.dispersion))\n",
    "print(\"Null Deviance: \" + str(summary.nullDeviance))\n",
    "print(\"Residual Degree Of Freedom Null: \" + str(summary.residualDegreeOfFreedomNull))\n",
    "print(\"Deviance: \" + str(summary.deviance))\n",
    "print(\"Residual Degree Of Freedom: \" + str(summary.residualDegreeOfFreedom))\n",
    "print(\"AIC: \" + str(summary.aic))\n",
    "print(\"Deviance Residuals: \")\n",
    "summary.residuals().show()"
   ]
  },
  {
   "cell_type": "markdown",
   "metadata": {},
   "source": [
    "**Inspect the summary output**\n",
    "\n",
    "**=>TODO: What can we say about our model in terms of evaluation?**"
   ]
  },
  {
   "cell_type": "markdown",
   "metadata": {},
   "source": [
    "## Step 3:  Run AIC calculation\n",
    "\n",
    "We can do some parameter tuning here. In general, lower AIC is better.  By removing certain variables from the mix, we can get lower AICs and therefore a better model.\n",
    "\n",
    "But how can we do this?  Let's programatically generate model combinations, and then run them. We're looking at all combinations of 8 variables out of 11, so that's 165 combinations.\n",
    "\n",
    "**=>TODO: Run a loop of all combinations of 8 variables or more. Watch the output. Which is optimal?**"
   ]
  },
  {
   "cell_type": "code",
   "execution_count": 15,
   "metadata": {
    "attributes": {
     "classes": [
      "R"
     ],
     "id": ""
    },
    "collapsed": true
   },
   "outputs": [
    {
     "name": "stdout",
     "output_type": "stream",
     "text": [
      "New Lowest AIC found:743180.6894134994\n",
      "New Lowest AIC found:743180.503456819\n",
      "New Lowest AIC found:743180.1903651026\n",
      "New Lowest AIC found:743176.804789053\n",
      "SalePrice ~ SqFtTotLiving + Bathrooms + Bedrooms + BldgGrade + PropertyType + SqFtFinBasement + YrBuilt + NewConstruction\n",
      "AIC:743176.804789053\n",
      "Coefficient Standard Errors: [3.42505499271686, 3106.335075132287, 2038.34190128827, 2017.083183406555, 14211.684541990984, 15384.45211021169, 3.890836310903944, 63.08573788740569, 3970.883219719514, 120092.40841867602]\n",
      "T Values: [49.70854160110419, 12.21723882022894, -21.64737311523691, 60.73030732086496, 1.045756917823303, 5.041539479194005, 2.0954733267532113, -52.08925190412133, 1.9860780052279212, 47.720250187686325]\n",
      "P Values: [0.0, 0.0, 0.0, 0.0, 0.2956826202097562, 4.6477997117655434e-07, 0.03613820828187153, 0.0, 0.047034738264652765, 0.0]\n",
      "Dispersion: 49373061071.79532\n",
      "Null Deviance: 3180498185220857.5\n",
      "Residual Degree Of Freedom Null: 27062\n",
      "Deviance: 1335689421175278.8\n",
      "Residual Degree Of Freedom: 27053\n",
      "AIC: 743176.804789053\n",
      "Deviance Residuals: \n",
      "+-------------------+\n",
      "|  devianceResiduals|\n",
      "+-------------------+\n",
      "| -23438.16098737344|\n",
      "| -8453.723153817467|\n",
      "| 169351.62697656266|\n",
      "|-197614.97305024043|\n",
      "|-144639.84705247637|\n",
      "|  25080.82579748798|\n",
      "|-176663.44603585545|\n",
      "|-17239.091168797575|\n",
      "|-36391.956069175154|\n",
      "|  57600.19217334036|\n",
      "| -97684.22724231705|\n",
      "| -77440.09858363494|\n",
      "|  52828.49718726054|\n",
      "|  60628.49718726054|\n",
      "|-140118.82120696735|\n",
      "|-206761.48719287198|\n",
      "|-31320.198591220193|\n",
      "|  -204033.998734965|\n",
      "| -26798.85962291248|\n",
      "|  84778.03872402571|\n",
      "+-------------------+\n",
      "only showing top 20 rows\n",
      "\n"
     ]
    }
   ],
   "source": [
    "import itertools\n",
    "\n",
    "def formulaGen(xvars, yvar):\n",
    "    returnformula = yvar + \" ~ \"\n",
    "    length = len(xvars)\n",
    "    for xvar in xvars:\n",
    "        returnformula = returnformula + xvar;\n",
    "        length -= 1\n",
    "        if (length != 0):\n",
    "            returnformula = returnformula + \" + \"\n",
    "        \n",
    "    return returnformula\n",
    "\n",
    "min_aic = summary.aic\n",
    "min_model = lrModel\n",
    "min_formula = textFormula\n",
    "\n",
    "for L in range(8, len(variables)): #Find all combinations of minimum 8 variables\n",
    "  for subset in itertools.combinations(variables, L):\n",
    "    this_formula = formulaGen(subset, 'SalePrice')\n",
    "    formula = RFormula(\n",
    "        formula=this_formula,\n",
    "        featuresCol=\"features\",\n",
    "        labelCol=\"label\")\n",
    "    featureVector_iter = formula.fit(housePrices).transform(housePrices)\n",
    "    lr_iter = glr.fit(featureVector_iter)\n",
    "    if (lr_iter.summary.aic < min_aic):\n",
    "        min_aic = lr_iter.summary.aic\n",
    "        min_model = lr_iter\n",
    "        min_formula = this_formula\n",
    "        print(\"New Lowest AIC found:\" + str(min_aic))\n",
    "\n",
    "print(min_formula)\n",
    "print(\"AIC:\" + str(min_aic))\n",
    "# Summarize the model over the training set and print out some metrics\n",
    "summary = min_model.summary\n",
    "print(\"Coefficient Standard Errors: \" + str(summary.coefficientStandardErrors))\n",
    "print(\"T Values: \" + str(summary.tValues))\n",
    "print(\"P Values: \" + str(summary.pValues))\n",
    "print(\"Dispersion: \" + str(summary.dispersion))\n",
    "print(\"Null Deviance: \" + str(summary.nullDeviance))\n",
    "print(\"Residual Degree Of Freedom Null: \" + str(summary.residualDegreeOfFreedomNull))\n",
    "print(\"Deviance: \" + str(summary.deviance))\n",
    "print(\"Residual Degree Of Freedom: \" + str(summary.residualDegreeOfFreedom))\n",
    "print(\"AIC: \" + str(summary.aic))\n",
    "print(\"Deviance Residuals: \")\n",
    "summary.residuals().show()\n",
    "\n"
   ]
  },
  {
   "cell_type": "markdown",
   "metadata": {},
   "source": [
    "**Observe the formula, which attributes are included / dropped**"
   ]
  }
 ],
 "metadata": {
  "kernelspec": {
   "display_name": "Python 3",
   "language": "python",
   "name": "python3"
  },
  "language_info": {
   "codemirror_mode": {
    "name": "ipython",
    "version": 3
   },
   "file_extension": ".py",
   "mimetype": "text/x-python",
   "name": "python",
   "nbconvert_exporter": "python",
   "pygments_lexer": "ipython3",
   "version": "3.6.8"
  }
 },
 "nbformat": 4,
 "nbformat_minor": 2
}
