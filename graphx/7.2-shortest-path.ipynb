{
 "cells": [
  {
   "cell_type": "markdown",
   "metadata": {},
   "source": [
    "<link rel='stylesheet' href='../assets/css/main.css'/>\n",
    "\n",
    "[<< back to main index](../../README.md) \n",
    "\n",
    "7.2 : Graphx Shortest Path\n",
    "============================\n",
    "\n",
    "### Overview\n",
    "We will find the shortest path on the graph from one point to another. The lab is done by executing each step\n",
    "in the Spark shell. This allows the student to examine and understand each step, and to modify parameters as we go.\n",
    "After you have executed the code in each step individually, you will collect this code in script, \n",
    "\n",
    "For our data, we will use LinkedIn. Therefore, the shortest path will tell us how to connect to the target person\n",
    "we want to connect with.\n",
    "\n",
    "<img src=\"../assets/images/7.2-connections.png\" style=\"border: 5px solid grey; max-width:100%;\" />\n",
    "\n",
    "### Depends On \n",
    "None\n",
    "\n",
    "### Run time\n",
    "30 mins\n",
    "\n",
    "\n",
    "## STEP 1: Start Pyspark with GraphFrames library loaded\n",
    "\n",
    "**option 1 : Jupyter**\n",
    "```bash\n",
    "$  PYSPARK_PYTHON=python3 PYSPARK_DRIVER_PYTHON=jupyter PYSPARK_DRIVER_PYTHON_OPTS=notebook ~/spark/bin/pyspark --packages graphframes:graphframes:0.3.0-spark2.0-s_2.11\n",
    "```\n",
    "\n",
    "**option 2 : PySpark (command line)**\n",
    "```bash\n",
    "$  PYSPARK_PYTHON=python3  ~/spark/bin/pyspark --packages   graphframes:graphframes:0.5.0-spark2.1-s_2.11\n",
    "```\n",
    "\n",
    "Replace the version on graphframes with your latest."
   ]
  },
  {
   "cell_type": "markdown",
   "metadata": {},
   "source": [
    "## Step 2: Import the GraphFrame libraries"
   ]
  },
  {
   "cell_type": "code",
   "execution_count": null,
   "metadata": {
    "attributes": {
     "classes": [
      "scala"
     ],
     "id": ""
    },
    "collapsed": true
   },
   "outputs": [],
   "source": [
    "from graphframes import *"
   ]
  },
  {
   "cell_type": "markdown",
   "metadata": {},
   "source": [
    "## Step 3: Construct the nodes / vertices\n",
    "\n",
    "This is the graph we are modeling this.  In this graph, we have the user name and the number of connections. The number of connections is a natural things to have;  we will store it, but not use it at this time.\n",
    "\n",
    "<img src=\"../assets/images/7.2-network.png\" style=\"border: 5px solid grey; max-width:100%;\" />"
   ]
  },
  {
   "cell_type": "code",
   "execution_count": null,
   "metadata": {
    "attributes": {
     "classes": [
      "scala"
     ],
     "id": ""
    },
    "collapsed": true
   },
   "outputs": [],
   "source": [
    "vertices = spark.createDataFrame([\n",
    "#direct connections\n",
    "        (1, \"Mark Kerzner\", 2757), # (Name, # of connections)\n",
    "        (2, \"Sujee Maniyam\", 891),\n",
    "        (3, \"Yaakov Weintraub\", 105),\n",
    "        (4, \"Packt Publishing\", 2984),\n",
    "        (5, \"Barry Kaufman\", 500),\n",
    "        # indirect connections\n",
    "        (6, \"Tony Piazza\", 500),\n",
    "        (7, \"Tim Fox\", 500),\n",
    "        (8, \"Vamsi Sistla\", 1000)\n",
    "], [\"id\", \"name\", \"numconnections\"])\n",
    "\n",
    "vertices.show()"
   ]
  },
  {
   "cell_type": "markdown",
   "metadata": {},
   "source": [
    "## Step 4: Initialize connections on the graph\n",
    "Connections are represented as edges.  Go ahead a create an `edgeArray` to represent the graph data in picture.  \n",
    "For example, a connection from \n",
    "- **Mark Kerzner (1)** \n",
    "- to **Sujee Maniyam (2)** \n",
    "- is represented as  **(1, 2, 1)**\n",
    "\n",
    "All connections have a weight of `1`.  Complete the following"
   ]
  },
  {
   "cell_type": "code",
   "execution_count": null,
   "metadata": {
    "attributes": {
     "classes": [
      "scala"
     ],
     "id": ""
    },
    "collapsed": true
   },
   "outputs": [],
   "source": [
    "edges = spark.createDataFrame([\n",
    "        (1, 2, 1),\n",
    "        (1, 3, 1),\n",
    "        # TODO : add in other edges\n",
    "], [\"src\", \"dst\", \"weight\"])\n",
    "\n",
    "edgdes.show()"
   ]
  },
  {
   "cell_type": "markdown",
   "metadata": {},
   "source": [
    "## Step 5: Create the graph"
   ]
  },
  {
   "cell_type": "code",
   "execution_count": null,
   "metadata": {
    "attributes": {
     "classes": [
      "scala"
     ],
     "id": ""
    },
    "collapsed": true
   },
   "outputs": [],
   "source": [
    "graph = GraphFrame(vertices, edges)"
   ]
  },
  {
   "cell_type": "markdown",
   "metadata": {},
   "source": [
    "## Step 6 : Print the graph"
   ]
  },
  {
   "cell_type": "code",
   "execution_count": null,
   "metadata": {
    "attributes": {
     "classes": [
      "scala"
     ],
     "id": ""
    },
    "collapsed": true
   },
   "outputs": [],
   "source": [
    "graph.vertices.show()"
   ]
  },
  {
   "cell_type": "code",
   "execution_count": null,
   "metadata": {
    "collapsed": true
   },
   "outputs": [],
   "source": [
    "graph.edges.show()"
   ]
  },
  {
   "cell_type": "markdown",
   "metadata": {},
   "source": [
    "## Step 9: Compute shortest distances\n",
    "\n",
    "<img src=\"../assets/images/7.2c.png\" style=\"border: 5px solid grey; max-width:100%;\" />\n",
    "\n",
    "Use Pregel to compute shortest distances between the root and every other vertix on the graph. \n",
    "Please note that since computing the shortest distance between two vertices anyway involves computing many intermediate short distances,\n",
    "Pregel takes a generic approach of computing all shortest distances"
   ]
  },
  {
   "cell_type": "code",
   "execution_count": null,
   "metadata": {
    "attributes": {
     "classes": [
      "scala"
     ],
     "id": ""
    },
    "collapsed": true
   },
   "outputs": [],
   "source": [
    "# hint : landmarks : src, destinations\n",
    "\n",
    "# from Mark(1) to Sujee(2)\n",
    "graph.shortestPaths(landmarks=[1,2]).show()\n",
    "\n",
    "# also you can store the results\n",
    "# results = graph.shortestPaths(landmarks=[1,2])\n",
    "# results.show()"
   ]
  },
  {
   "cell_type": "code",
   "execution_count": null,
   "metadata": {
    "collapsed": true
   },
   "outputs": [],
   "source": [
    "# from Mark(1) to Vamsi(8)\n",
    "graph.shortestPaths(landmarks=[1,8]).show()"
   ]
  },
  {
   "cell_type": "code",
   "execution_count": null,
   "metadata": {
    "collapsed": true
   },
   "outputs": [],
   "source": [
    "# from Mark(1) to Everyone\n",
    "graph.shortestPaths(landmarks=range(1,9)).show(truncate=False)"
   ]
  },
  {
   "cell_type": "markdown",
   "metadata": {},
   "source": [
    "Explain the results\n",
    "    \n",
    "## Bonus Lab 1\n",
    "Construct a small graph of air flights between cities. Use 4-6 cities. Put the prices of flying between two cities into the edges above, replacing the number \"1\" with the actual price.\n",
    "\n",
    "Calculate the cheapest flights between cities."
   ]
  }
 ],
 "metadata": {
  "kernelspec": {
   "display_name": "Python 3",
   "language": "python",
   "name": "python3"
  },
  "language_info": {
   "codemirror_mode": {
    "name": "ipython",
    "version": 3
   },
   "file_extension": ".py",
   "mimetype": "text/x-python",
   "name": "python",
   "nbconvert_exporter": "python",
   "pygments_lexer": "ipython3",
   "version": "3.6.3"
  }
 },
 "nbformat": 4,
 "nbformat_minor": 1
}
