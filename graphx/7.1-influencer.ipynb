{
 "cells": [
  {
   "cell_type": "markdown",
   "metadata": {},
   "source": [
    "<link rel='stylesheet' href='../assets/css/main.css'/>\n",
    "\n",
    "[<< back to main index](../../README.md)\n",
    "\n",
    "7.1 : Find Influencers on Twitter\n",
    "================================\n",
    "\n",
    "### Overview\n",
    "Find 'influencers' on Twitter graph\n",
    "\n",
    "### Depends On\n",
    "None\n",
    "\n",
    "### Run time\n",
    "20 mins\n",
    "\n",
    "### Lab Setup\n",
    "\n",
    "This lab uses the GraphFrames spark package.  It is currently NOT part of the default spark framework.\n",
    "\n",
    "We use this for two reasons:\n",
    "\n",
    "1. GraphFrames likely will be the basis of future graph processing in spark.\n",
    "\n",
    "2. RDD-based graphx has no python API, whereas GraphFrames does have a python API. As this jupyter notebook is python that makes it required.\n",
    "\n",
    "So, to run this we have two choices\n",
    "\n",
    "** option 1 : Jupyter**\n",
    "```bash\n",
    "$  PYSPARK_PYTHON=python3 PYSPARK_DRIVER_PYTHON=jupyter PYSPARK_DRIVER_PYTHON_OPTS=notebook ~/spark/bin/pyspark --packages graphframes:graphframes:0.3.0-spark2.0-s_2.11\n",
    "```\n",
    "\n",
    "** option 2 : PySpark (command line)**\n",
    "```bash\n",
    "$  PYSPARK_PYTHON=python3  ~/spark/bin/pyspark --packages   graphframes:graphframes:0.5.0-spark2.1-s_2.11\n",
    "```\n",
    "\n",
    "Replace the version on graphframes with your latest.\n",
    "\n",
    "With that said, let's start:"
   ]
  },
  {
   "cell_type": "markdown",
   "metadata": {},
   "source": [
    "## Step 1: Build the following twitter graph\n",
    "Here some real world data:\n",
    "<img src=\"../assets/images/7.1a.png\" style=\"border: 5px solid grey; max-width:100%;\"/>\n",
    "\n",
    "We are using data from a real Twitter account, if you want, you can use yours\n",
    "\n",
    "#### Import the necessary libraries"
   ]
  },
  {
   "cell_type": "code",
   "execution_count": null,
   "metadata": {
    "attributes": {
     "classes": [
      "scala"
     ],
     "id": ""
    },
    "collapsed": true
   },
   "outputs": [],
   "source": [
    "# %AddDeps graphframes graphframes 0.3.0-spark2.0-s_2.11 \n",
    "#%lsmagic"
   ]
  },
  {
   "cell_type": "code",
   "execution_count": null,
   "metadata": {
    "collapsed": true
   },
   "outputs": [],
   "source": [
    "from graphframes import *"
   ]
  },
  {
   "cell_type": "markdown",
   "metadata": {},
   "source": [
    "#### Construct the array of vertices\n",
    "\n",
    " Data structure: twitter handle, number of followers, gender of the tweeter"
   ]
  },
  {
   "cell_type": "code",
   "execution_count": null,
   "metadata": {
    "attributes": {
     "classes": [
      "scala"
     ],
     "id": ""
    },
    "collapsed": true
   },
   "outputs": [],
   "source": [
    "vertices = spark.createDataFrame([\n",
    "        (1, \"@markkerzner\", 309, \"M\"),  # (Name, # followers, gender)\n",
    "        (2, \"@mjbrender\", 3101, \"M\"),\n",
    "        (3, \"@dridisahar1\", 27, \"F\"),\n",
    "        (4, \"@dez_blanchfield \", 38600, \"M\"),\n",
    "        (5, \"@ch_doig \", 519, \"F\"),\n",
    "        (6, \"@Sunitha_Packt \", 332, \"F\"),\n",
    "        (7, \"@WibiData \", 2477, \"N\")  # company, so gender neutral\n",
    "], [\"id\", \"Name\", \"followers\", \"gender\"]) \n",
    "\n",
    "vertices.show()"
   ]
  },
  {
   "cell_type": "markdown",
   "metadata": {},
   "source": [
    "####  Construct the array of edges\n",
    "\n",
    "On this step, these are all my followers, so they connect to me"
   ]
  },
  {
   "cell_type": "code",
   "execution_count": null,
   "metadata": {
    "attributes": {
     "classes": [
      "scala"
     ],
     "id": ""
    },
    "collapsed": true,
    "scrolled": false
   },
   "outputs": [],
   "source": [
    "edges = spark.createDataFrame([\n",
    "        (1, 2, 7), # src,  dest,   # retweets\n",
    "        (1, 3, 2),\n",
    "        (1, 4, 4),\n",
    "        (1, 5, 3),\n",
    "        (1, 6, 1),\n",
    "        (1, 7, 2)\n",
    "], [\"src\", \"dst\", \"retweets\"])\n",
    "\n",
    "edges.show()"
   ]
  },
  {
   "cell_type": "markdown",
   "metadata": {},
   "source": [
    "#### Construct the graph from the vertices and edges"
   ]
  },
  {
   "cell_type": "code",
   "execution_count": null,
   "metadata": {
    "attributes": {
     "classes": [
      "scala"
     ],
     "id": ""
    },
    "collapsed": true
   },
   "outputs": [],
   "source": [
    "graph = GraphFrame(vertices, edges)"
   ]
  },
  {
   "cell_type": "markdown",
   "metadata": {},
   "source": [
    "## Step 2 : Analyzing Graph\n",
    "#### Print graph"
   ]
  },
  {
   "cell_type": "code",
   "execution_count": null,
   "metadata": {
    "collapsed": true
   },
   "outputs": [],
   "source": [
    "# Vertices\n",
    "graph.vertices.show()"
   ]
  },
  {
   "cell_type": "code",
   "execution_count": null,
   "metadata": {
    "collapsed": true
   },
   "outputs": [],
   "source": [
    "# Edges\n",
    "graph.edges.show()"
   ]
  },
  {
   "cell_type": "code",
   "execution_count": null,
   "metadata": {
    "attributes": {
     "classes": [
      "scala"
     ],
     "id": ""
    },
    "collapsed": true
   },
   "outputs": [],
   "source": [
    "# triplets\n",
    "graph.triplets.show(truncate=False)"
   ]
  },
  {
   "cell_type": "markdown",
   "metadata": {},
   "source": [
    "## Step 3 : Query the graph"
   ]
  },
  {
   "cell_type": "markdown",
   "metadata": {},
   "source": [
    "#### Filter out male followers"
   ]
  },
  {
   "cell_type": "code",
   "execution_count": null,
   "metadata": {
    "attributes": {
     "classes": [
      "scala"
     ],
     "id": ""
    },
    "collapsed": true
   },
   "outputs": [],
   "source": [
    "graph.vertices.filter(\"gender != 'M'\").show()"
   ]
  },
  {
   "cell_type": "markdown",
   "metadata": {},
   "source": [
    "#### Find my significant followers"
   ]
  },
  {
   "cell_type": "code",
   "execution_count": null,
   "metadata": {
    "attributes": {
     "classes": [
      "scala"
     ],
     "id": ""
    },
    "collapsed": true
   },
   "outputs": [],
   "source": [
    "graph.vertices.filter(\"followers > 1000\").show() "
   ]
  },
  {
   "cell_type": "markdown",
   "metadata": {},
   "source": [
    "#### Find those followers who do enough re-tweeets for me"
   ]
  },
  {
   "cell_type": "code",
   "execution_count": null,
   "metadata": {
    "attributes": {
     "classes": [
      "scala"
     ],
     "id": ""
    },
    "collapsed": true
   },
   "outputs": [],
   "source": [
    "graph.edges.filter(\"retweets > 5\").show()\n",
    "\n",
    "graph.edges.filter(\"retweets > 5\").count()"
   ]
  },
  {
   "cell_type": "markdown",
   "metadata": {},
   "source": [
    "#### Count my male and female followers"
   ]
  },
  {
   "cell_type": "code",
   "execution_count": null,
   "metadata": {
    "attributes": {
     "classes": [
      "scala"
     ],
     "id": ""
    },
    "collapsed": true
   },
   "outputs": [],
   "source": [
    "num_male = graph.vertices.filter(\"gender == 'M'\").count()\n",
    "num_female = graph.vertices.filter(\"gender == 'F'\").count()\n",
    "print ('Males %d, Females %d' % (num_male, num_female))"
   ]
  }
 ],
 "metadata": {
  "kernelspec": {
   "display_name": "Python 3",
   "language": "python",
   "name": "python3"
  },
  "language_info": {
   "codemirror_mode": {
    "name": "ipython",
    "version": 3
   },
   "file_extension": ".py",
   "mimetype": "text/x-python",
   "name": "python",
   "nbconvert_exporter": "python",
   "pygments_lexer": "ipython3",
   "version": "3.6.3"
  }
 },
 "nbformat": 4,
 "nbformat_minor": 1
}
