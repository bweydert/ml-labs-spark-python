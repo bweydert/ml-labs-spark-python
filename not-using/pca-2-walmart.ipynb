{
 "cells": [
  {
   "cell_type": "markdown",
   "metadata": {},
   "source": [
    "# PCA in Spark ML\n",
    "\n",
    "Let's try our hands at dimensionality reduction in Spark MLLib.  We are going to look at the Walmart Dataset. Remember how many dimensions we had in that one? (70, to be exact). Perhaps we can get a lower-dimensional representation of that.\n"
   ]
  },
  {
   "cell_type": "code",
   "execution_count": 10,
   "metadata": {
    "collapsed": true
   },
   "outputs": [],
   "source": [
    "%matplotlib inline\n",
    "from pyspark.ml.feature import VectorAssembler\n",
    "from pyspark.ml.feature import StandardScaler\n",
    "from pyspark.ml.stat import Correlation\n",
    "from pyspark.ml.feature import PCA\n",
    "\n",
    "import numpy as np\n",
    "import matplotlib\n",
    "import matplotlib.pyplot as plt\n",
    "\n"
   ]
  },
  {
   "cell_type": "code",
   "execution_count": 11,
   "metadata": {
    "collapsed": true
   },
   "outputs": [],
   "source": [
    "dataset = spark.read.csv(\"/data/walmart-triptype/train-transformed.csv.gz\", header=True, inferSchema=True)\n"
   ]
  },
  {
   "cell_type": "code",
   "execution_count": 12,
   "metadata": {
    "scrolled": true
   },
   "outputs": [
    {
     "name": "stdout",
     "output_type": "stream",
     "text": [
      "+-----------+--------+-------+--------+------+----------+-----------+----------+------+---------------+------+-------+-------------------+---------+----------------+--------------------+-----------------------+-----------+----------+--------------+-------------+-----+-----------+-----------+------------------+------------------+------------+---------+--------------------------+-----------------+--------+----------------------+----------+---------------+-----------------------+------------------------+---------------------+-------------------+--------------+---------------------------+----------------------+------------+----------+---------------------+---------------+----------------+---------------------+----------------+--------+---------------+----------------+----------------+-----------------+---------------------+-------------+-----------------+------------+-----------+-----------------------+------------------+---------------+-------+-------+--------+------------+-------------+-----+---------------------+--------------+------------------+----+--------+\n",
      "|VisitNumber|TripType|Weekday|NumItems|Return|1-HR PHOTO|ACCESSORIES|AUTOMOTIVE|BAKERY|BATH AND SHOWER|BEAUTY|BEDDING|BOOKS AND MAGAZINES|BOYS WEAR|BRAS & SHAPEWEAR|CAMERAS AND SUPPLIES|CANDY, TOBACCO, COOKIES|CELEBRATION|COMM BREAD|CONCEPT STORES|COOK AND DINE|DAIRY|DSD GROCERY|ELECTRONICS|FABRICS AND CRAFTS|FINANCIAL SERVICES|FROZEN FOODS|FURNITURE|GIRLS WEAR, 4-6X  AND 7-14|GROCERY DRY GOODS|HARDWARE|HEALTH AND BEAUTY AIDS|HOME DECOR|HOME MANAGEMENT|HORTICULTURE AND ACCESS|HOUSEHOLD CHEMICALS/SUPP|HOUSEHOLD PAPER GOODS|IMPULSE MERCHANDISE|INFANT APPAREL|INFANT CONSUMABLE HARDLINES|JEWELRY AND SUNGLASSES|LADIES SOCKS|LADIESWEAR|LARGE HOUSEHOLD GOODS|LAWN AND GARDEN|LIQUOR,WINE,BEER|MEAT - FRESH & FROZEN|MEDIA AND GAMING|MENSWEAR|OFFICE SUPPLIES|OPTICAL - FRAMES|OPTICAL - LENSES|OTHER DEPARTMENTS|PAINT AND ACCESSORIES|PERSONAL CARE|PETS AND SUPPLIES|PHARMACY OTC|PHARMACY RX|PLAYERS AND ELECTRONICS|PLUS AND MATERNITY|PRE PACKED DELI|PRODUCE|SEAFOOD|SEASONAL|SERVICE DELI|SHEER HOSIERY|SHOES|SLEEPWEAR/FOUNDATIONS|SPORTING GOODS|SWIMWEAR/OUTERWEAR|TOYS|WIRELESS|\n",
      "+-----------+--------+-------+--------+------+----------+-----------+----------+------+---------------+------+-------+-------------------+---------+----------------+--------------------+-----------------------+-----------+----------+--------------+-------------+-----+-----------+-----------+------------------+------------------+------------+---------+--------------------------+-----------------+--------+----------------------+----------+---------------+-----------------------+------------------------+---------------------+-------------------+--------------+---------------------------+----------------------+------------+----------+---------------------+---------------+----------------+---------------------+----------------+--------+---------------+----------------+----------------+-----------------+---------------------+-------------+-----------------+------------+-----------+-----------------------+------------------+---------------+-------+-------+--------+------------+-------------+-----+---------------------+--------------+------------------+----+--------+\n",
      "|          5|     999|      5|      -1|   1.0|       0.0|        0.0|       0.0|   0.0|            0.0|   0.0|    0.0|                0.0|      0.0|             0.0|                 0.0|                    0.0|        0.0|       0.0|           0.0|          0.0|  0.0|        0.0|        0.0|               0.0|              -1.0|         0.0|      0.0|                       0.0|              0.0|     0.0|                   0.0|       0.0|            0.0|                    0.0|                     0.0|                  0.0|                0.0|           0.0|                        0.0|                   0.0|         0.0|       0.0|                  0.0|            0.0|             0.0|                  0.0|             0.0|     0.0|            0.0|             0.0|             0.0|              0.0|                  0.0|          0.0|              0.0|         0.0|        0.0|                    0.0|               0.0|            0.0|    0.0|    0.0|     0.0|         0.0|          0.0|  0.0|                  0.0|           0.0|               0.0| 0.0|     0.0|\n",
      "|          7|      30|      5|       2|   0.0|       0.0|        0.0|       0.0|   0.0|            0.0|   0.0|    0.0|                0.0|      0.0|             0.0|                 0.0|                    0.0|        0.0|       0.0|           0.0|          0.0|  0.0|        0.0|        0.0|               0.0|               0.0|         0.0|      0.0|                       0.0|              0.0|     0.0|                   0.0|       0.0|            0.0|                    0.0|                     0.0|                  0.0|                0.0|           0.0|                        0.0|                   0.0|         0.0|       0.0|                  0.0|            0.0|             0.0|                  0.0|             0.0|     0.0|            0.0|             0.0|             0.0|              0.0|                  0.0|          1.0|              0.0|         0.0|        0.0|                    0.0|               0.0|            0.0|    0.0|    0.0|     0.0|         0.0|          0.0|  1.0|                  0.0|           0.0|               0.0| 0.0|     0.0|\n",
      "|          8|      26|      5|      28|   1.0|       0.0|        0.0|       0.0|   0.0|            0.0|   0.0|    0.0|                0.0|      0.0|             0.0|                 0.0|                    0.0|        0.0|       0.0|           0.0|          0.0|  2.0|        1.0|        0.0|               0.0|               0.0|         0.0|      0.0|                       0.0|              0.0|     0.0|                   0.0|       0.0|            0.0|                    0.0|                     1.0|                  0.0|                0.0|           0.0|                        0.0|                   0.0|         0.0|       0.0|                  0.0|            0.0|             0.0|                  1.0|             0.0|     0.0|            0.0|             0.0|             0.0|              0.0|                 18.0|          0.0|              4.0|         0.0|        0.0|                    0.0|               0.0|            0.0|    0.0|    0.0|     0.0|         0.0|          0.0|  0.0|                  0.0|           0.0|               0.0| 0.0|     0.0|\n",
      "|          9|       8|      5|       3|   0.0|       0.0|        0.0|       0.0|   0.0|            0.0|   0.0|    0.0|                0.0|      0.0|             0.0|                 0.0|                    0.0|        0.0|       0.0|           0.0|          0.0|  0.0|        0.0|        0.0|               0.0|               0.0|         0.0|      0.0|                       0.0|              0.0|     0.0|                   0.0|       0.0|            0.0|                    0.0|                     0.0|                  0.0|                1.0|           0.0|                        0.0|                   0.0|         0.0|       0.0|                  0.0|            0.0|             0.0|                  0.0|             0.0|     0.0|            0.0|             0.0|             0.0|              0.0|                  0.0|          0.0|              0.0|         0.0|        0.0|                    0.0|               0.0|            0.0|    2.0|    0.0|     0.0|         0.0|          0.0|  0.0|                  0.0|           0.0|               0.0| 0.0|     0.0|\n",
      "|         10|       8|      5|       3|   0.0|       0.0|        0.0|       0.0|   0.0|            0.0|   0.0|    0.0|                0.0|      0.0|             0.0|                 0.0|                    1.0|        0.0|       0.0|           0.0|          0.0|  0.0|        2.0|        0.0|               0.0|               0.0|         0.0|      0.0|                       0.0|              0.0|     0.0|                   0.0|       0.0|            0.0|                    0.0|                     0.0|                  0.0|                0.0|           0.0|                        0.0|                   0.0|         0.0|       0.0|                  0.0|            0.0|             0.0|                  0.0|             0.0|     0.0|            0.0|             0.0|             0.0|              0.0|                  0.0|          0.0|              0.0|         0.0|        0.0|                    0.0|               0.0|            0.0|    0.0|    0.0|     0.0|         0.0|          0.0|  0.0|                  0.0|           0.0|               0.0| 0.0|     0.0|\n",
      "|         11|      35|      5|       4|   0.0|       0.0|        0.0|       0.0|   0.0|            0.0|   0.0|    0.0|                0.0|      0.0|             0.0|                 0.0|                    0.0|        0.0|       0.0|           0.0|          0.0|  0.0|        1.0|        0.0|               0.0|               0.0|         0.0|      0.0|                       0.0|              1.0|     0.0|                   0.0|       0.0|            0.0|                    0.0|                     0.0|                  0.0|                2.0|           0.0|                        0.0|                   0.0|         0.0|       0.0|                  0.0|            0.0|             0.0|                  0.0|             0.0|     0.0|            0.0|             0.0|             0.0|              0.0|                  0.0|          0.0|              0.0|         0.0|        0.0|                    0.0|               0.0|            0.0|    0.0|    0.0|     0.0|         0.0|          0.0|  0.0|                  0.0|           0.0|               0.0| 0.0|     0.0|\n",
      "|         12|      41|      5|       7|   0.0|       0.0|        0.0|       0.0|   0.0|            0.0|   0.0|    0.0|                0.0|      2.0|             0.0|                 0.0|                    0.0|        0.0|       0.0|           0.0|          0.0|  0.0|        0.0|        0.0|               0.0|               0.0|         0.0|      0.0|                       0.0|              0.0|     0.0|                   0.0|       0.0|            0.0|                    0.0|                     2.0|                  0.0|                0.0|           0.0|                        0.0|                   0.0|         0.0|       0.0|                  0.0|            0.0|             0.0|                  0.0|             0.0|     0.0|            0.0|             0.0|             0.0|              0.0|                  0.0|          2.0|              0.0|         0.0|        0.0|                    0.0|               0.0|            0.0|    0.0|    0.0|     0.0|         0.0|          0.0|  1.0|                  0.0|           0.0|               0.0| 0.0|     0.0|\n",
      "|         15|      21|      5|       9|   0.0|       0.0|        0.0|       0.0|   0.0|            0.0|   0.0|    0.0|                0.0|      0.0|             0.0|                 0.0|                    0.0|        0.0|       0.0|           0.0|          0.0|  0.0|        0.0|        0.0|               9.0|               0.0|         0.0|      0.0|                       0.0|              0.0|     0.0|                   0.0|       0.0|            0.0|                    0.0|                     0.0|                  0.0|                0.0|           0.0|                        0.0|                   0.0|         0.0|       0.0|                  0.0|            0.0|             0.0|                  0.0|             0.0|     0.0|            0.0|             0.0|             0.0|              0.0|                  0.0|          0.0|              0.0|         0.0|        0.0|                    0.0|               0.0|            0.0|    0.0|    0.0|     0.0|         0.0|          0.0|  0.0|                  0.0|           0.0|               0.0| 0.0|     0.0|\n",
      "|         17|       6|      5|       4|   0.0|       0.0|        0.0|       0.0|   0.0|            0.0|   0.0|    0.0|                0.0|      0.0|             0.0|                 0.0|                    2.0|        0.0|       0.0|           0.0|          0.0|  0.0|        2.0|        0.0|               0.0|               0.0|         0.0|      0.0|                       0.0|              0.0|     0.0|                   0.0|       0.0|            0.0|                    0.0|                     0.0|                  0.0|                0.0|           0.0|                        0.0|                   0.0|         0.0|       0.0|                  0.0|            0.0|             0.0|                  0.0|             0.0|     0.0|            0.0|             0.0|             0.0|              0.0|                  0.0|          0.0|              0.0|         0.0|        0.0|                    0.0|               0.0|            0.0|    0.0|    0.0|     0.0|         0.0|          0.0|  0.0|                  0.0|           0.0|               0.0| 0.0|     0.0|\n",
      "|         19|      42|      5|       9|   0.0|       0.0|        1.0|       0.0|   0.0|            0.0|   0.0|    0.0|                0.0|      0.0|             0.0|                 0.0|                    0.0|        0.0|       0.0|           0.0|          0.0|  0.0|        0.0|        0.0|               1.0|               0.0|         0.0|      0.0|                       0.0|              0.0|     0.0|                   0.0|       0.0|            1.0|                    0.0|                     0.0|                  0.0|                2.0|           0.0|                        0.0|                   1.0|         0.0|       0.0|                  0.0|            0.0|             0.0|                  0.0|             0.0|     3.0|            0.0|             0.0|             0.0|              0.0|                  0.0|          0.0|              0.0|         0.0|        0.0|                    0.0|               0.0|            0.0|    0.0|    0.0|     0.0|         0.0|          0.0|  0.0|                  0.0|           0.0|               0.0| 0.0|     0.0|\n",
      "|         20|       7|      5|       3|   0.0|       0.0|        0.0|       0.0|   0.0|            0.0|   0.0|    0.0|                0.0|      0.0|             0.0|                 0.0|                    0.0|        0.0|       0.0|           0.0|          0.0|  0.0|        0.0|        0.0|               0.0|               0.0|         1.0|      0.0|                       0.0|              0.0|     0.0|                   0.0|       0.0|            0.0|                    0.0|                     0.0|                  0.0|                0.0|           0.0|                        0.0|                   0.0|         0.0|       0.0|                  0.0|            0.0|             0.0|                  0.0|             0.0|     0.0|            0.0|             0.0|             0.0|              0.0|                  0.0|          0.0|              0.0|         0.0|        0.0|                    0.0|               0.0|            0.0|    0.0|    0.0|     0.0|         2.0|          0.0|  0.0|                  0.0|           0.0|               0.0| 0.0|     0.0|\n",
      "|         23|       9|      5|       2|   0.0|       0.0|        0.0|       0.0|   0.0|            0.0|   0.0|    0.0|                0.0|      0.0|             0.0|                 0.0|                    0.0|        0.0|       0.0|           0.0|          0.0|  0.0|        0.0|        0.0|               0.0|               0.0|         0.0|      0.0|                       0.0|              0.0|     0.0|                   0.0|       0.0|            1.0|                    0.0|                     0.0|                  0.0|                0.0|           0.0|                        0.0|                   0.0|         0.0|       0.0|                  0.0|            0.0|             0.0|                  0.0|             0.0|     0.0|            0.0|             0.0|             0.0|              0.0|                  0.0|          0.0|              0.0|         0.0|        0.0|                    0.0|               0.0|            0.0|    1.0|    0.0|     0.0|         0.0|          0.0|  0.0|                  0.0|           0.0|               0.0| 0.0|     0.0|\n",
      "|         25|       8|      5|       3|   0.0|       0.0|        0.0|       0.0|   0.0|            0.0|   0.0|    0.0|                0.0|      0.0|             0.0|                 0.0|                    0.0|        0.0|       0.0|           0.0|          0.0|  0.0|        0.0|        0.0|               0.0|               0.0|         0.0|      0.0|                       0.0|              0.0|     0.0|                   0.0|       0.0|            0.0|                    0.0|                     0.0|                  0.0|                0.0|           0.0|                        2.0|                   0.0|         0.0|       0.0|                  0.0|            0.0|             0.0|                  0.0|             0.0|     0.0|            0.0|             0.0|             0.0|              0.0|                  0.0|          0.0|              0.0|         0.0|        0.0|                    0.0|               0.0|            1.0|    0.0|    0.0|     0.0|         0.0|          0.0|  0.0|                  0.0|           0.0|               0.0| 0.0|     0.0|\n",
      "|         26|      39|      5|      12|   0.0|       0.0|        0.0|       0.0|   0.0|            0.0|   0.0|    0.0|                0.0|      0.0|             0.0|                 0.0|                    0.0|        0.0|       0.0|           0.0|          2.0|  6.0|        0.0|        0.0|               0.0|               0.0|         2.0|      0.0|                       0.0|              0.0|     0.0|                   0.0|       0.0|            0.0|                    0.0|                     0.0|                  0.0|                0.0|           0.0|                        0.0|                   0.0|         0.0|       0.0|                  0.0|            0.0|             0.0|                  0.0|             0.0|     0.0|            0.0|             0.0|             0.0|              0.0|                  0.0|          0.0|              0.0|         1.0|        0.0|                    0.0|               0.0|            0.0|    1.0|    0.0|     0.0|         0.0|          0.0|  0.0|                  0.0|           0.0|               0.0| 0.0|     0.0|\n",
      "|         28|      25|      5|       8|   0.0|       0.0|        0.0|       0.0|   2.0|            0.0|   0.0|    0.0|                0.0|      0.0|             0.0|                 0.0|                    0.0|        0.0|       1.0|           0.0|          0.0|  0.0|        2.0|        0.0|               0.0|               0.0|         0.0|      0.0|                       0.0|              0.0|     0.0|                   0.0|       0.0|            0.0|                    0.0|                     0.0|                  0.0|                0.0|           0.0|                        0.0|                   0.0|         0.0|       3.0|                  0.0|            0.0|             0.0|                  0.0|             0.0|     0.0|            0.0|             0.0|             0.0|              0.0|                  0.0|          0.0|              0.0|         0.0|        0.0|                    0.0|               0.0|            0.0|    0.0|    0.0|     0.0|         0.0|          0.0|  0.0|                  0.0|           0.0|               0.0| 0.0|     0.0|\n",
      "|         29|       8|      5|       1|   0.0|       0.0|        0.0|       0.0|   0.0|            0.0|   0.0|    0.0|                0.0|      0.0|             0.0|                 0.0|                    0.0|        0.0|       0.0|           0.0|          0.0|  0.0|        1.0|        0.0|               0.0|               0.0|         0.0|      0.0|                       0.0|              0.0|     0.0|                   0.0|       0.0|            0.0|                    0.0|                     0.0|                  0.0|                0.0|           0.0|                        0.0|                   0.0|         0.0|       0.0|                  0.0|            0.0|             0.0|                  0.0|             0.0|     0.0|            0.0|             0.0|             0.0|              0.0|                  0.0|          0.0|              0.0|         0.0|        0.0|                    0.0|               0.0|            0.0|    0.0|    0.0|     0.0|         0.0|          0.0|  0.0|                  0.0|           0.0|               0.0| 0.0|     0.0|\n",
      "|         30|       9|      5|       1|   0.0|       0.0|        0.0|       0.0|   0.0|            0.0|   0.0|    0.0|                0.0|      0.0|             0.0|                 0.0|                    0.0|        0.0|       0.0|           0.0|          0.0|  0.0|        0.0|        0.0|               0.0|               0.0|         0.0|      0.0|                       0.0|              0.0|     0.0|                   0.0|       0.0|            0.0|                    0.0|                     0.0|                  0.0|                0.0|           0.0|                        0.0|                   0.0|         0.0|       1.0|                  0.0|            0.0|             0.0|                  0.0|             0.0|     0.0|            0.0|             0.0|             0.0|              0.0|                  0.0|          0.0|              0.0|         0.0|        0.0|                    0.0|               0.0|            0.0|    0.0|    0.0|     0.0|         0.0|          0.0|  0.0|                  0.0|           0.0|               0.0| 0.0|     0.0|\n",
      "|         31|       8|      5|       2|   0.0|       0.0|        0.0|       0.0|   1.0|            0.0|   0.0|    0.0|                0.0|      0.0|             0.0|                 0.0|                    0.0|        0.0|       0.0|           0.0|          0.0|  1.0|        0.0|        0.0|               0.0|               0.0|         0.0|      0.0|                       0.0|              0.0|     0.0|                   0.0|       0.0|            0.0|                    0.0|                     0.0|                  0.0|                0.0|           0.0|                        0.0|                   0.0|         0.0|       0.0|                  0.0|            0.0|             0.0|                  0.0|             0.0|     0.0|            0.0|             0.0|             0.0|              0.0|                  0.0|          0.0|              0.0|         0.0|        0.0|                    0.0|               0.0|            0.0|    0.0|    0.0|     0.0|         0.0|          0.0|  0.0|                  0.0|           0.0|               0.0| 0.0|     0.0|\n",
      "|         32|       8|      5|       1|   0.0|       0.0|        0.0|       0.0|   0.0|            0.0|   0.0|    0.0|                0.0|      0.0|             0.0|                 0.0|                    0.0|        0.0|       0.0|           0.0|          0.0|  0.0|        0.0|        0.0|               0.0|               0.0|         0.0|      0.0|                       0.0|              0.0|     0.0|                   0.0|       0.0|            0.0|                    0.0|                     0.0|                  0.0|                1.0|           0.0|                        0.0|                   0.0|         0.0|       0.0|                  0.0|            0.0|             0.0|                  0.0|             0.0|     0.0|            0.0|             0.0|             0.0|              0.0|                  0.0|          0.0|              0.0|         0.0|        0.0|                    0.0|               0.0|            0.0|    0.0|    0.0|     0.0|         0.0|          0.0|  0.0|                  0.0|           0.0|               0.0| 0.0|     0.0|\n",
      "|         33|       8|      5|       3|   0.0|       0.0|        0.0|       0.0|   0.0|            0.0|   0.0|    0.0|                0.0|      0.0|             0.0|                 0.0|                    0.0|        0.0|       0.0|           0.0|          0.0|  0.0|        1.0|        0.0|               0.0|               0.0|         0.0|      0.0|                       0.0|              2.0|     0.0|                   0.0|       0.0|            0.0|                    0.0|                     0.0|                  0.0|                0.0|           0.0|                        0.0|                   0.0|         0.0|       0.0|                  0.0|            0.0|             0.0|                  0.0|             0.0|     0.0|            0.0|             0.0|             0.0|              0.0|                  0.0|          0.0|              0.0|         0.0|        0.0|                    0.0|               0.0|            0.0|    0.0|    0.0|     0.0|         0.0|          0.0|  0.0|                  0.0|           0.0|               0.0| 0.0|     0.0|\n",
      "+-----------+--------+-------+--------+------+----------+-----------+----------+------+---------------+------+-------+-------------------+---------+----------------+--------------------+-----------------------+-----------+----------+--------------+-------------+-----+-----------+-----------+------------------+------------------+------------+---------+--------------------------+-----------------+--------+----------------------+----------+---------------+-----------------------+------------------------+---------------------+-------------------+--------------+---------------------------+----------------------+------------+----------+---------------------+---------------+----------------+---------------------+----------------+--------+---------------+----------------+----------------+-----------------+---------------------+-------------+-----------------+------------+-----------+-----------------------+------------------+---------------+-------+-------+--------+------------+-------------+-----+---------------------+--------------+------------------+----+--------+\n",
      "only showing top 20 rows\n",
      "\n"
     ]
    }
   ],
   "source": [
    "dataset.show()"
   ]
  },
  {
   "cell_type": "markdown",
   "metadata": {},
   "source": [
    "## Step 1: Creating Vectors\n",
    "\n",
    "Let's load the data and create vectors out of it."
   ]
  },
  {
   "cell_type": "code",
   "execution_count": 13,
   "metadata": {},
   "outputs": [
    {
     "name": "stdout",
     "output_type": "stream",
     "text": [
      "['Weekday', 'NumItems', 'Return', '1-HR PHOTO', 'ACCESSORIES', 'AUTOMOTIVE', 'BAKERY', 'BATH AND SHOWER', 'BEAUTY', 'BEDDING', 'BOOKS AND MAGAZINES', 'BOYS WEAR', 'BRAS & SHAPEWEAR', 'CAMERAS AND SUPPLIES', 'CANDY, TOBACCO, COOKIES', 'CELEBRATION', 'COMM BREAD', 'CONCEPT STORES', 'COOK AND DINE', 'DAIRY', 'DSD GROCERY', 'ELECTRONICS', 'FABRICS AND CRAFTS', 'FINANCIAL SERVICES', 'FROZEN FOODS', 'FURNITURE', 'GIRLS WEAR, 4-6X  AND 7-14', 'GROCERY DRY GOODS', 'HARDWARE', 'HEALTH AND BEAUTY AIDS', 'HOME DECOR', 'HOME MANAGEMENT', 'HORTICULTURE AND ACCESS', 'HOUSEHOLD CHEMICALS/SUPP', 'HOUSEHOLD PAPER GOODS', 'IMPULSE MERCHANDISE', 'INFANT APPAREL', 'INFANT CONSUMABLE HARDLINES', 'JEWELRY AND SUNGLASSES', 'LADIES SOCKS', 'LADIESWEAR', 'LARGE HOUSEHOLD GOODS', 'LAWN AND GARDEN', 'LIQUOR,WINE,BEER', 'MEAT - FRESH & FROZEN', 'MEDIA AND GAMING', 'MENSWEAR', 'OFFICE SUPPLIES', 'OPTICAL - FRAMES', 'OPTICAL - LENSES', 'OTHER DEPARTMENTS', 'PAINT AND ACCESSORIES', 'PERSONAL CARE', 'PETS AND SUPPLIES', 'PHARMACY OTC', 'PHARMACY RX', 'PLAYERS AND ELECTRONICS', 'PLUS AND MATERNITY', 'PRE PACKED DELI', 'PRODUCE', 'SEAFOOD', 'SEASONAL', 'SERVICE DELI', 'SHEER HOSIERY', 'SHOES', 'SLEEPWEAR/FOUNDATIONS', 'SPORTING GOODS', 'SWIMWEAR/OUTERWEAR', 'TOYS', 'WIRELESS']\n"
     ]
    }
   ],
   "source": [
    "columns = dataset.columns\n",
    "columns.remove('VisitNumber') #We don't care about visit number as a feature.\n",
    "columns.remove('TripType') #Triptype is what we're predicting!\n",
    "\n",
    "print(columns)"
   ]
  },
  {
   "cell_type": "code",
   "execution_count": 14,
   "metadata": {
    "collapsed": true
   },
   "outputs": [],
   "source": [
    "# Build the vector.\n",
    "assembler = VectorAssembler(inputCols=columns, outputCol=\"features\")\n",
    "featureVector = assembler.transform(dataset)\n"
   ]
  },
  {
   "cell_type": "code",
   "execution_count": 15,
   "metadata": {},
   "outputs": [
    {
     "name": "stdout",
     "output_type": "stream",
     "text": [
      "Vector: Row(features=SparseVector(70, {0: 5.0, 1: -1.0, 2: 1.0, 23: -1.0}))\n",
      "\n",
      "Vector: Row(features=SparseVector(70, {0: 5.0, 1: 2.0, 52: 1.0, 64: 1.0}))\n",
      "\n",
      "Vector: Row(features=SparseVector(70, {0: 5.0, 1: 28.0, 2: 1.0, 19: 2.0, 20: 1.0, 33: 1.0, 44: 1.0, 51: 18.0, 53: 4.0}))\n",
      "\n",
      "Vector: Row(features=SparseVector(70, {0: 5.0, 1: 3.0, 35: 1.0, 59: 2.0}))\n",
      "\n",
      "Vector: Row(features=SparseVector(70, {0: 5.0, 1: 3.0, 14: 1.0, 20: 2.0}))\n",
      "\n",
      "Vector: Row(features=SparseVector(70, {0: 5.0, 1: 4.0, 20: 1.0, 27: 1.0, 35: 2.0}))\n",
      "\n",
      "Vector: Row(features=SparseVector(70, {0: 5.0, 1: 7.0, 11: 2.0, 33: 2.0, 52: 2.0, 64: 1.0}))\n",
      "\n",
      "Vector: Row(features=SparseVector(70, {0: 5.0, 1: 9.0, 22: 9.0}))\n",
      "\n",
      "Vector: Row(features=SparseVector(70, {0: 5.0, 1: 4.0, 14: 2.0, 20: 2.0}))\n",
      "\n",
      "Vector: Row(features=SparseVector(70, {0: 5.0, 1: 9.0, 4: 1.0, 22: 1.0, 31: 1.0, 35: 2.0, 38: 1.0, 46: 3.0}))\n",
      "\n"
     ]
    }
   ],
   "source": [
    "# Print some sample rows.\n",
    "for row in featureVector.select('features').take(10):\n",
    "    print(\"Vector: %s\\n\" % (str(row)))"
   ]
  },
  {
   "cell_type": "markdown",
   "metadata": {},
   "source": [
    "Note the output. These are Sparse (not dense) Vectors.  That's because we our data IS sparse, we have relatively few of the variables at any given time."
   ]
  },
  {
   "cell_type": "markdown",
   "metadata": {},
   "source": [
    "## Step 2: Build a Correlation Matrix\n",
    "\n",
    "We're going to build a correlation matrix.  This will have all features as rows and columns, showing what is the correlation between variables.  Naturally, every feature will be perfectly correlated to itself, so we expect to see a diagonal of 1's.  Correlations in the upper right and lower left should also be mirror images of each other.\n",
    "\n",
    "Perfectly uncorrelated features (orthogonal) would have the identity matrix as its correlation matrix.  Part of our goal in PCA is to create orthogonal features."
   ]
  },
  {
   "cell_type": "code",
   "execution_count": 16,
   "metadata": {},
   "outputs": [
    {
     "name": "stdout",
     "output_type": "stream",
     "text": [
      "Pearson correlation matrix:\n",
      "DenseMatrix([[ 1.        ,  0.04112535,  0.00239757, ...,  0.00603346,\n",
      "               0.02650173,  0.00378734],\n",
      "             [ 0.04112535,  1.        , -0.04703964, ...,  0.03728566,\n",
      "               0.10396361, -0.0131882 ],\n",
      "             [ 0.00239757, -0.04703964,  1.        , ..., -0.02663534,\n",
      "              -0.02400574, -0.03420455],\n",
      "             ..., \n",
      "             [ 0.00603346,  0.03728566, -0.02663534, ...,  1.        ,\n",
      "               0.01531549, -0.00357236],\n",
      "             [ 0.02650173,  0.10396361, -0.02400574, ...,  0.01531549,\n",
      "               1.        ,  0.00143963],\n",
      "             [ 0.00378734, -0.0131882 , -0.03420455, ..., -0.00357236,\n",
      "               0.00143963,  1.        ]])\n"
     ]
    }
   ],
   "source": [
    "## Checking the correlation matrix of the data.\n",
    "\n",
    "r1 = Correlation.corr(featureVector, \"features\").head()\n",
    "print(\"Pearson correlation matrix:\\n\" + str(r1[0]))\n"
   ]
  },
  {
   "cell_type": "markdown",
   "metadata": {},
   "source": [
    "Note that there are some correlated dimensions in the original dataset.  We can identify this by the nonzero values in the correlation matrix.  Naturally, dimensions are always related to themselves with a 1."
   ]
  },
  {
   "cell_type": "markdown",
   "metadata": {},
   "source": [
    "## Step 3: Scale (Normalize) the data \n",
    "\n",
    "We need to scale our features so we do not have one dimension dominate. Why does this matter? Since some dimensions are scaled differently than others, those dimensions will be unfairly weighted in our analysis. We want to avoid this.\n",
    "\n"
   ]
  },
  {
   "cell_type": "code",
   "execution_count": 17,
   "metadata": {},
   "outputs": [
    {
     "name": "stdout",
     "output_type": "stream",
     "text": [
      "+--------------------+--------------------+\n",
      "|            features|      scaledFeatures|\n",
      "+--------------------+--------------------+\n",
      "|(70,[0,1,2,23],[5...|(70,[0,1,2,23],[2...|\n",
      "|(70,[0,1,52,64],[...|(70,[0,1,52,64],[...|\n",
      "|(70,[0,1,2,19,20,...|(70,[0,1,2,19,20,...|\n",
      "|(70,[0,1,35,59],[...|(70,[0,1,35,59],[...|\n",
      "|(70,[0,1,14,20],[...|(70,[0,1,14,20],[...|\n",
      "|(70,[0,1,20,27,35...|(70,[0,1,20,27,35...|\n",
      "|(70,[0,1,11,33,52...|(70,[0,1,11,33,52...|\n",
      "|(70,[0,1,22],[5.0...|(70,[0,1,22],[2.4...|\n",
      "|(70,[0,1,14,20],[...|(70,[0,1,14,20],[...|\n",
      "|(70,[0,1,4,22,31,...|(70,[0,1,4,22,31,...|\n",
      "|(70,[0,1,24,62],[...|(70,[0,1,24,62],[...|\n",
      "|(70,[0,1,31,59],[...|(70,[0,1,31,59],[...|\n",
      "|(70,[0,1,37,58],[...|(70,[0,1,37,58],[...|\n",
      "|(70,[0,1,18,19,24...|(70,[0,1,18,19,24...|\n",
      "|(70,[0,1,6,16,20,...|(70,[0,1,6,16,20,...|\n",
      "|(70,[0,1,20],[5.0...|(70,[0,1,20],[2.4...|\n",
      "|(70,[0,1,40],[5.0...|(70,[0,1,40],[2.4...|\n",
      "|(70,[0,1,6,19],[5...|(70,[0,1,6,19],[2...|\n",
      "|(70,[0,1,35],[5.0...|(70,[0,1,35],[2.4...|\n",
      "|(70,[0,1,20,27],[...|(70,[0,1,20,27],[...|\n",
      "+--------------------+--------------------+\n",
      "only showing top 20 rows\n",
      "\n"
     ]
    }
   ],
   "source": [
    "scaler = StandardScaler(inputCol=\"features\", outputCol=\"scaledFeatures\",\n",
    "                        withStd=True, withMean=False)\n",
    "\n",
    "# Compute summary statistics by fitting the StandardScaler\n",
    "scalerModel = scaler.fit(featureVector)\n",
    "\n",
    "# Normalize each feature to have unit standard deviation.\n",
    "ScaledFeatures = scalerModel.transform(featureVector)\n",
    "ScaledFeatures.select('features', 'scaledFeatures').show()"
   ]
  },
  {
   "cell_type": "markdown",
   "metadata": {},
   "source": [
    "## Step 4: Running PCA\n",
    "\n",
    "Now we will run PCA to reduce and uncorrelate dimensions.  \n",
    "\n",
    "**Try with five dimensions to start with.**"
   ]
  },
  {
   "cell_type": "code",
   "execution_count": 23,
   "metadata": {},
   "outputs": [
    {
     "name": "stdout",
     "output_type": "stream",
     "text": [
      "+-----------------------------------------------------------------------------------------------------+\n",
      "|pcaFeatures                                                                                          |\n",
      "+-----------------------------------------------------------------------------------------------------+\n",
      "|[0.0224927457216494,0.19047758530202769,0.10080682558085853,-0.3844102354345771,-0.07584203476334027]|\n",
      "|[0.31961132684778226,-0.793906534143988,0.41199228881423733,-0.09546813683556238,-0.1788785015066372]|\n",
      "|[3.3779105208611355,-3.2909959914429727,-7.810815415329013,7.374934806341607,-1.4839182706645548]    |\n",
      "|[0.6330438546473658,-0.1013880233073094,0.12558189752161186,0.1796509253838094,-0.19459446240664205] |\n",
      "|[0.5974298773042468,-0.12075065680150594,0.07230111611354847,0.4466648241882664,-0.19495645964685476]|\n",
      "|[0.7088084946303015,-0.3735892627135937,0.13221449501235488,0.40571306412783437,-0.32200464577622584]|\n",
      "|[1.0656556641653563,-2.0854420728465977,0.8172564157855233,-0.3900917978570966,-0.2439308602858499]  |\n",
      "|[0.7708741764178819,-1.4221603955345725,-0.657485907625001,2.2178073297218135,-2.131145066031336]    |\n",
      "|[0.7604458901019746,-0.20588796069643378,0.09086037899594428,0.7096060188202293,-0.26145652490946336]|\n",
      "|[0.9425160299876386,-2.7581196590912285,1.421245993830353,-0.27245201010761744,-0.44078076692033075] |\n",
      "+-----------------------------------------------------------------------------------------------------+\n",
      "only showing top 10 rows\n",
      "\n"
     ]
    }
   ],
   "source": [
    "num_vars = 5\n",
    "\n",
    "pca = PCA(k=5, inputCol=\"scaledFeatures\", outputCol=\"pcaFeatures\")\n",
    "model = pca.fit(ScaledFeatures)\n",
    "pcaFeatures = model.transform(ScaledFeatures).select(\"pcaFeatures\")\n",
    "pcaFeatures.show(10, False)"
   ]
  },
  {
   "cell_type": "markdown",
   "metadata": {},
   "source": [
    "Let's take a look at the transformed dataset.  let's look at a distribution of our transformed dataset"
   ]
  },
  {
   "cell_type": "code",
   "execution_count": 19,
   "metadata": {
    "scrolled": true
   },
   "outputs": [
    {
     "name": "stdout",
     "output_type": "stream",
     "text": [
      "[ 0.0660406   0.02950386  0.02141316  0.01866788  0.01840385]\n",
      "Cumulative Explained Variance: 0.154029355726\n"
     ]
    }
   ],
   "source": [
    "S = model.explainedVariance.toArray()\n",
    "print(S)\n",
    "print(\"Cumulative Explained Variance: \" + str(np.cumsum(S)[-1]))"
   ]
  },
  {
   "cell_type": "markdown",
   "metadata": {},
   "source": [
    "### Do a Scree plot\n",
    "\n",
    "This will show us the cumulative explained variance.\n"
   ]
  },
  {
   "cell_type": "code",
   "execution_count": 20,
   "metadata": {
    "scrolled": true
   },
   "outputs": [
    {
     "data": {
      "image/png": "[encoded data removed]",
      "text/plain": [
       "<matplotlib.figure.Figure at 0x10cab2a58>"
      ]
     },
     "metadata": {},
     "output_type": "display_data"
    }
   ],
   "source": [
    "\n",
    "S = model.explainedVariance.toArray()\n",
    "fig = plt.figure(figsize=(8,5))\n",
    "sing_vals = np.arange(num_vars) + 1\n",
    "plt.plot(np.arange(num_vars) + 1, np.cumsum(S), 'ro-', linewidth=2)\n",
    "plt.title('Scree Plot')\n",
    "plt.xlabel('Principal Component')\n",
    "plt.ylabel('Explained Variance')\n",
    "\n",
    "\n",
    "leg = plt.legend(['Explained Variance'], loc='best', borderpad=0.3, \n",
    "                 shadow=False, prop=matplotlib.font_manager.FontProperties(size='small'),\n",
    "                 markerscale=0.4)"
   ]
  },
  {
   "cell_type": "markdown",
   "metadata": {},
   "source": [
    "What do you think?  Is the cumulative explained variance enough to represent our data in fewer dimensions?\n"
   ]
  },
  {
   "cell_type": "markdown",
   "metadata": {},
   "source": [
    "## Step 5: Re-Running the Correlation Matrix"
   ]
  },
  {
   "cell_type": "code",
   "execution_count": 21,
   "metadata": {},
   "outputs": [
    {
     "name": "stdout",
     "output_type": "stream",
     "text": [
      "Pearson correlation matrix:\n",
      "DenseMatrix([[  1.00000000e+00,   2.19178051e-15,  -1.96118809e-15,\n",
      "                1.19928863e-14,  -7.16527547e-16],\n",
      "             [  2.19178051e-15,   1.00000000e+00,   4.94598957e-15,\n",
      "               -1.55774434e-14,  -6.85746261e-15],\n",
      "             [ -1.96118809e-15,   4.94598957e-15,   1.00000000e+00,\n",
      "               -8.64329987e-15,  -2.69051328e-15],\n",
      "             [  1.19928863e-14,  -1.55774434e-14,  -8.64329987e-15,\n",
      "                1.00000000e+00,   7.28128485e-15],\n",
      "             [ -7.16527547e-16,  -6.85746261e-15,  -2.69051328e-15,\n",
      "                7.28128485e-15,   1.00000000e+00]])\n"
     ]
    }
   ],
   "source": [
    "## Checking the correlation matrix of the data.\n",
    "\n",
    "r1 = Correlation.corr(pcaFeatures, \"pcaFeatures\").head()\n",
    "print(\"Pearson correlation matrix:\\n\" + str(r1[0]))\n"
   ]
  },
  {
   "cell_type": "markdown",
   "metadata": {},
   "source": [
    "Note the very small, close to zero correlations in the matrix.  The 5 dimensions are for all practical purposes independent and orthogonal."
   ]
  },
  {
   "cell_type": "markdown",
   "metadata": {},
   "source": [
    "### Step 6: Running PCA with more dimensions to get Explained Variance higher\n",
    "\n",
    "Try to find at least 80% of explained variance.\n",
    "\n",
    "Can we use the elbow method here?  Why (or why not)?\n",
    "\n",
    "What does this say about the relative correlation of the dimensions?"
   ]
  },
  {
   "cell_type": "code",
   "execution_count": 26,
   "metadata": {
    "scrolled": true
   },
   "outputs": [
    {
     "name": "stdout",
     "output_type": "stream",
     "text": [
      "Cumulative Explained Variance = 0.798923771179\n"
     ]
    },
    {
     "data": {
      "image/png": "[encoded data removed]",
      "text/plain": [
       "<matplotlib.figure.Figure at 0x10dec57f0>"
      ]
     },
     "metadata": {},
     "output_type": "display_data"
    }
   ],
   "source": [
    "num_vars = 50 # Enter number of dimensions for explained Variance her.\n",
    "pca = PCA(k=num_vars, inputCol=\"scaledFeatures\", outputCol=\"pcaFeatures\")\n",
    "model = pca.fit(ScaledFeatures)\n",
    "pcaFeatures = model.transform(ScaledFeatures).select(\"pcaFeatures\")\n",
    "\n",
    "\n",
    "S = model.explainedVariance.toArray()\n",
    "fig = plt.figure(figsize=(8,5))\n",
    "sing_vals = np.arange(num_vars) + 1\n",
    "plt.plot(np.arange(num_vars) + 1, np.cumsum(S), 'ro-', linewidth=2)\n",
    "plt.title('Scree Plot')\n",
    "plt.xlabel('Principal Component')\n",
    "plt.ylabel('Explained Variance')\n",
    "\n",
    "\n",
    "leg = plt.legend(['Explained Variance'], loc='best', borderpad=0.3, \n",
    "                 shadow=False, prop=matplotlib.font_manager.FontProperties(size='small'),\n",
    "                 markerscale=0.4)\n",
    "\n",
    "print(\"Cumulative Explained Variance = \" + str(np.cumsum(S)[-1]))"
   ]
  },
  {
   "cell_type": "code",
   "execution_count": null,
   "metadata": {
    "collapsed": true
   },
   "outputs": [],
   "source": []
  },
  {
   "cell_type": "markdown",
   "metadata": {
    "collapsed": true
   },
   "source": [
    "### Conclusions\n",
    "\n",
    "What are your conclusions?  Were we able to reduce dimensions in this dataset without losing much of the \"signal\" of the data?\n",
    "\n",
    "Why or why not?"
   ]
  },
  {
   "cell_type": "code",
   "execution_count": null,
   "metadata": {
    "collapsed": true
   },
   "outputs": [],
   "source": []
  }
 ],
 "metadata": {
  "anaconda-cloud": {},
  "kernelspec": {
   "display_name": "Python 3",
   "language": "python",
   "name": "python3"
  },
  "language_info": {
   "codemirror_mode": {
    "name": "ipython",
    "version": 3
   },
   "file_extension": ".py",
   "mimetype": "text/x-python",
   "name": "python",
   "nbconvert_exporter": "python",
   "pygments_lexer": "ipython3",
   "version": "3.6.3"
  }
 },
 "nbformat": 4,
 "nbformat_minor": 1
}
