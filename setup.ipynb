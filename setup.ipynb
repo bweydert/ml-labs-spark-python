{
 "cells": [
  {
   "cell_type": "markdown",
   "metadata": {},
   "source": [
    "# Setting up Spark-ML environment\n",
    "\n",
    "## Step 1 : Login to the VM\n",
    "Instructor will provide details\n",
    "\n",
    "## Step 2 : Install Spark\n",
    "\n",
    "```bash\n",
    "$   cd\n",
    "$   rm -rf  spark   # cleanup existing spark installation (if any)\n",
    "$   tar xvf   files/spark-2.3.0-bin-hadoop2.7.tgz\n",
    "$   mv  spark-2.3.0-bin-hadoop2.7    spark\n",
    "```\n",
    "\n",
    "\n",
    "## Step 3 - Configure Spark - Hive Metastore to a database\n",
    "This is an optional but recommended step.  \n",
    "This allows us to run multiple Spark notebooks simultaneously.\n",
    "\n",
    "### 3.1 - Create the database\n",
    "This is already done in new VMs (later than v37).  Provided for reference.\n",
    "```bash\n",
    "#$    sudo -u postgres psql -c \"create user spark with password 'bingobob123' ;\"\n",
    "#$    sudo -u postgres psql -c \"drop database spark_warehouse;\"\n",
    "#$    sudo -u postgres psql -c \"create database spark_warehouse with owner spark;\"\n",
    "```\n",
    "\n",
    "### 3.2 - Copy `hive-site.xml` into Spark conf\n",
    "\n",
    "```bash\n",
    "$    cp  ~/config/spark/hive-site.xml    ~/spark/conf/\n",
    "```\n",
    "\n",
    "### 3.3 - Copy postgress jdbc lib  info Spark lib\n",
    "```bash\n",
    "$    cp  ~/lib/spark/postgresql-42.2.5.jar  ~/spark/jars/\n",
    "```\n",
    "\n",
    "\n",
    "## Step 4 : Get the labs\n",
    "\n",
    "```bash\n",
    "$ git clone --depth 1  git@github.com:elephantscale/ml-labs-spark-python.git\n",
    "```\n",
    "\n",
    "\n",
    "## Step 5 : Get the data\n",
    "\n",
    "\n",
    "```bash\n",
    "$  cd data;  git pull;   cd\n",
    "```\n",
    "\n",
    "Also you can download it from [here](https://s3.amazonaws.com/elephantscale-public/data/datasets.zip) for your laptop.\n",
    "\n",
    "\n",
    "## Step 6 : Start Jupyter\n",
    "\n",
    "```bash\n",
    "$   cd ml-labs-spark-python\n",
    "$   nohup ./run-jupyter.sh &\n",
    "```\n",
    "\n",
    "Access Jupyter notebook link from the browser."
   ]
  },
  {
   "cell_type": "code",
   "execution_count": null,
   "metadata": {
    "collapsed": true
   },
   "outputs": [],
   "source": [
    " "
   ]
  }
 ],
 "metadata": {
  "kernelspec": {
   "display_name": "Python 3",
   "language": "python",
   "name": "python3"
  },
  "language_info": {
   "codemirror_mode": {
    "name": "ipython",
    "version": 3
   },
   "file_extension": ".py",
   "mimetype": "text/x-python",
   "name": "python",
   "nbconvert_exporter": "python",
   "pygments_lexer": "ipython3",
   "version": "3.6.6"
  }
 },
 "nbformat": 4,
 "nbformat_minor": 2
}
