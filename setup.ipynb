{
 "cells": [
  {
   "cell_type": "markdown",
   "metadata": {},
   "source": [
    "# Setting up Spark-ML environment\n",
    "\n",
    "## Tips\n",
    "Copy-Paste Shortcuts on Jupyter terminal\n",
    "- On Windows try : `Shift + Insert`\n",
    "- On Windows try : `Shift + Right Click`\n",
    "\n",
    "## Step 1: Access your VM\n",
    "Instructor will provide details.  \n",
    "You can access the VM by IP address using a browser.\n",
    "\n",
    "## Step 2: Access Jupyter Labs page\n",
    "Click on Jupyter 'Access'.  \n",
    "You should see a running instance of Jupyter Lab\n",
    "\n",
    "## Step 3: Open `Terminal` in Jupyter Lab\n",
    "This would give you access to shell access to the VM\n",
    "\n",
    "## Step 4: Install Spark\n",
    "```bash\n",
    "$   cd\n",
    "$   rm -rf  spark   # cleanup existing spark installation (if any)\n",
    "$   tar xvf   files/spark-2.3.0-bin-hadoop2.7.tgz\n",
    "$   mv  spark-2.3.0-bin-hadoop2.7    spark\n",
    "```\n",
    "\n",
    "## Step 5: Get the labs\n",
    "\n",
    "```bash\n",
    "$   git clone  git@github.com:elephantscale/ml-labs-spark-python.git\n",
    "\n",
    "```\n",
    "\n",
    "## Step 6: Get the data\n",
    "\n",
    "```bash\n",
    "$  cd ~/data;  git pull;   cd\n",
    "```\n",
    "\n",
    "## Step 7: Open `Readme*ipynb` file\n",
    "- In Jupyter Labs, navigate to `ml-labs-spark-python`  directory\n",
    "- and open `README*ipynb`\n",
    "\n"
   ]
  },
  {
   "cell_type": "code",
   "execution_count": null,
   "metadata": {
    "collapsed": true
   },
   "outputs": [],
   "source": [
    " "
   ]
  }
 ],
 "metadata": {
  "kernelspec": {
   "display_name": "Python 3",
   "language": "python",
   "name": "python3"
  },
  "language_info": {
   "codemirror_mode": {
    "name": "ipython",
    "version": 3
   },
   "file_extension": ".py",
   "mimetype": "text/x-python",
   "name": "python",
   "nbconvert_exporter": "python",
   "pygments_lexer": "ipython3",
   "version": "3.6.8"
  }
 },
 "nbformat": 4,
 "nbformat_minor": 2
}
