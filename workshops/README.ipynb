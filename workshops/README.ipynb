{
 "cells": [
  {
   "cell_type": "markdown",
   "metadata": {},
   "source": [
    "# Final Project\n",
    "\n",
    "It's time to put into practice what we've learned.\n",
    "\n",
    "\n",
    "## Datasets\n",
    "\n",
    "### San Francisco Crime Dataset\n",
    "\n",
    "This allows\n",
    "\n",
    "You may want to consider predicting the crime type based on the geolocation variables and time variables.\n",
    "However, if you have another sort of prediction that you want to do that is fine as well.\n",
    "\n",
    "Do some analytics on the data?  Are the trends as far as what types of crimes are reported in some areas\n",
    "versus others?  What are breakdowns for crime?\n",
    "\n",
    "Is there any census data that you can try to collect that might be used to enrich this data.\n",
    "\n",
    "\n",
    "### Netflix Dataset\n",
    "\n",
    "[Netflix Dataset\n",
    "\n",
    "This will allow you to do recommendations on the Netflix prize dataset.  This is a large dataset focusing on\n",
    "recommendations.\n",
    "\n",
    "Before you work on recommendations, you may want to do some analytics.  What are the most popular movies?\n",
    "Do the most popular movies also have the highest ratings?   What movies tend to be the most associated\n",
    "with one another (the same person rated each movie).\n",
    "\n",
    "Do people tend to give more 5 star ratings or 1 star ratings?\n",
    "\n",
    "\n",
    "\n",
    "\n",
    "## Deliverable\n",
    "\n",
    "You will deliver a 10 minute (or so) presentation showing your findings. Be sure to show:\n",
    "\n",
    "1. Description of the data\n",
    "2. Visualization to understand the shape of the data\n",
    "3. Any Cleanup or Transformation you needed to do\n",
    "4. Feature Engineering\n",
    "5. Data Indexing/Scaling/Transformation\n",
    "6. Model Training\n",
    "7. Model Evaluation\n",
    "8. Conclusion"
   ]
  }
 ],
 "metadata": {
  "kernelspec": {
   "display_name": "Python 3",
   "language": "python",
   "name": "python3"
  },
  "language_info": {
   "codemirror_mode": {
    "name": "ipython",
    "version": 3
   },
   "file_extension": ".py",
   "mimetype": "text/x-python",
   "name": "python",
   "nbconvert_exporter": "python",
   "pygments_lexer": "ipython3",
   "version": "3.6.1"
  }
 },
 "nbformat": 4,
 "nbformat_minor": 2
}
