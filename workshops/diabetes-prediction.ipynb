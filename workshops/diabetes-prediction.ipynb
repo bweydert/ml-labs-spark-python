{
 "cells": [
  {
   "cell_type": "markdown",
   "metadata": {},
   "source": [
    "## Predict Diabetes \n",
    "[data is here](/data/diabetes/).  (From UCI repository)\n",
    "\n",
    "Sample Data:\n",
    "```\n",
    "+---+---+---+---+---+----+-----+---+-------+\n",
    "|  a|  b|  c|  d|  e|   f|    g|  h|outcome|\n",
    "+---+---+---+---+---+----+-----+---+-------+\n",
    "|  6|148| 72| 35|  0|33.6|0.627| 50|      1|\n",
    "|  1| 85| 66| 29|  0|26.6|0.351| 31|      0|\n",
    "|  8|183| 64|  0|  0|23.3|0.672| 32|      1|\n",
    "|  1| 89| 66| 23| 94|28.1|0.167| 21|      0|\n",
    "|  0|137| 40| 35|168|43.1|2.288| 33|      1|\n",
    "|  5|116| 74|  0|  0|25.6|0.201| 30|      0|\n",
    "```\n",
    "\n",
    "- attributes : 8\n",
    "- target variable : 1\n",
    "- number of observations : 768\n",
    "\n",
    "Inputs:\n",
    "- a :  Number of times pregnant\n",
    "- b :  Plasma glucose concentration a 2 hours in an oral glucose tolerance test\n",
    "- c :  Diastolic blood pressure (mm Hg)\n",
    "- d :  Triceps skin fold thickness (mm)\n",
    "- e :  2-Hour serum insulin (mu U/ml)\n",
    "- f :  Body mass index (weight in kg/(height in m)^2)\n",
    "- g :  Diabetes pedigree function\n",
    "- h :  Age (years)\n",
    "\n",
    "Output:\n",
    "- outcome : 0 or 1\n",
    "\n"
   ]
  },
  {
   "cell_type": "markdown",
   "metadata": {},
   "source": [
    "## Read Data"
   ]
  },
  {
   "cell_type": "code",
   "execution_count": null,
   "metadata": {},
   "outputs": [],
   "source": [
    "## Reading data\n",
    "data = spark.read.csv(\"/data/diabetes/pima-indians-diabetes-data.csv\", header=True, inferSchema=True)\n",
    "print(\"record count \", data.count())\n",
    "data.printSchema()\n",
    "data.show()"
   ]
  },
  {
   "cell_type": "markdown",
   "metadata": {},
   "source": [
    "## Perform some data exploration\n",
    "slice and dice data and see how the data is formed.   \n",
    "For example, try to print the distribution of 'outcome'"
   ]
  },
  {
   "cell_type": "code",
   "execution_count": null,
   "metadata": {},
   "outputs": [],
   "source": [
    "data.describe().toPandas()"
   ]
  }
 ],
 "metadata": {
  "kernelspec": {
   "display_name": "Python 3",
   "language": "python",
   "name": "python3"
  },
  "language_info": {
   "codemirror_mode": {
    "name": "ipython",
    "version": 3
   },
   "file_extension": ".py",
   "mimetype": "text/x-python",
   "name": "python",
   "nbconvert_exporter": "python",
   "pygments_lexer": "ipython3",
   "version": "3.6.6"
  }
 },
 "nbformat": 4,
 "nbformat_minor": 2
}
