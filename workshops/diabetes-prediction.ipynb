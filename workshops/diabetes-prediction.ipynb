{
 "cells": [
  {
   "cell_type": "markdown",
   "metadata": {},
   "source": [
    "# Predict Diabetes \n",
    "\n",
    "## Overview\n",
    "\n",
    "### This is a group exercise!  \n",
    "Work in groups, it makes it more fun.  \n",
    "Also let's see who can get the best accuracy :-) \n",
    "\n",
    "\n",
    "## Data\n",
    "- Local data is under '/data/diabetes'\n",
    "- [UCI repository link](https://archive.ics.uci.edu/ml/datasets/diabetes)\n",
    "\n",
    "Sample Data:\n",
    "```\n",
    "+---+---+---+---+---+----+-----+---+-------+\n",
    "|  a|  b|  c|  d|  e|   f|    g|  h|outcome|\n",
    "+---+---+---+---+---+----+-----+---+-------+\n",
    "|  6|148| 72| 35|  0|33.6|0.627| 50|      1|\n",
    "|  1| 85| 66| 29|  0|26.6|0.351| 31|      0|\n",
    "|  8|183| 64|  0|  0|23.3|0.672| 32|      1|\n",
    "|  1| 89| 66| 23| 94|28.1|0.167| 21|      0|\n",
    "|  0|137| 40| 35|168|43.1|2.288| 33|      1|\n",
    "|  5|116| 74|  0|  0|25.6|0.201| 30|      0|\n",
    "```\n",
    "\n",
    "- attributes : 8\n",
    "- target variable : 1\n",
    "- number of observations : 768\n",
    "\n",
    "Inputs:\n",
    "- a :  Number of times pregnant\n",
    "- b :  Plasma glucose concentration a 2 hours in an oral glucose tolerance test\n",
    "- c :  Diastolic blood pressure (mm Hg)\n",
    "- d :  Triceps skin fold thickness (mm)\n",
    "- e :  2-Hour serum insulin (mu U/ml)\n",
    "- f :  Body mass index (weight in kg/(height in m)^2)\n",
    "- g :  Diabetes pedigree function\n",
    "- h :  Age (years)\n",
    "\n",
    "Output:\n",
    "- outcome : 0 or 1\n",
    "\n"
   ]
  },
  {
   "cell_type": "markdown",
   "metadata": {},
   "source": [
    "## Read Data"
   ]
  },
  {
   "cell_type": "code",
   "execution_count": null,
   "metadata": {},
   "outputs": [],
   "source": [
    "# initialize Spark Session\n",
    "import os\n",
    "import sys\n",
    "top_dir = os.path.abspath(os.path.join(os.getcwd(), \"../\"))\n",
    "if top_dir not in sys.path:\n",
    "    sys.path.append(top_dir)\n",
    "\n",
    "from init_spark import init_spark\n",
    "spark = init_spark()\n",
    "spark"
   ]
  },
  {
   "cell_type": "code",
   "execution_count": null,
   "metadata": {},
   "outputs": [],
   "source": [
    "## Reading data\n",
    "data = spark.read.csv(\"/data/diabetes/pima-indians-diabetes-data.csv\", header=True, inferSchema=True)\n",
    "print(\"record count \", data.count())\n",
    "data.printSchema()\n",
    "data.show()"
   ]
  },
  {
   "cell_type": "markdown",
   "metadata": {},
   "source": [
    "## Perform some data exploration\n",
    "slice and dice data and see how the data is formed.   \n",
    "For example, try to print the distribution of 'outcome'"
   ]
  },
  {
   "cell_type": "code",
   "execution_count": null,
   "metadata": {},
   "outputs": [],
   "source": [
    "data.describe().toPandas()"
   ]
  },
  {
   "cell_type": "markdown",
   "metadata": {},
   "source": [
    "## Compare Results\n",
    "Just to make this exercise fun, we will compare results and learn from it.\n",
    "\n",
    "Set `seed=100` when doing randomSplit of data, so we can compare the results.\n",
    "\n",
    "```python\n",
    "(train, test) = featureVector.randomSplit([0.8, 0.2], seed=100)\n",
    "```\n",
    "\n",
    "```\n",
    "|        | Algorithm 1 | Algorithm 2 | Algorithm 3 |\n",
    "|--------|-------------|-------------|-------------|\n",
    "| Team A | x1          | x2          | x3          |\n",
    "| Team B | y1          | y2          | y3          |\n",
    "| Team C | z1          | z2          | z3          |\n",
    "\n",
    "```"
   ]
  },
  {
   "cell_type": "markdown",
   "metadata": {},
   "source": [
    "## Hints\n",
    "\n",
    "### Iterate, Iterate, Iterate\n",
    "Don't get stuck in ONE step... keep going all the way, then iterate.  \n",
    "This is much more productive than trying to get every step perfect before the next.\n",
    "\n",
    "### Data Prep\n",
    "- **Data Cleanup**  \n",
    "Examine if columns have reasonable values.  Otherwise clean them up (for example column 'c' is blood pressure, so 0 is probably not a valid value :-) )\n",
    "- **Scaling**  \n",
    "Do we need to scale data?  Which algorithm would benefit most from scaling?\n",
    "\n",
    "\n",
    "### Algorithm Choice\n",
    "- **Classification**  \n",
    "This is a classification problem.  So try the classification algorithms you have learned so far.\n",
    "- **getting zero coefficients?**  \n",
    "Your lambda (`regparam`) may be too high.  Turn it off (set it to zero) and see what happens\n",
    "- **Algorithm Choice**  \n",
    "Try all algorithms and see which one performs better"
   ]
  },
  {
   "cell_type": "code",
   "execution_count": null,
   "metadata": {},
   "outputs": [],
   "source": []
  }
 ],
 "metadata": {
  "kernelspec": {
   "display_name": "Python 3",
   "language": "python",
   "name": "python3"
  },
  "language_info": {
   "codemirror_mode": {
    "name": "ipython",
    "version": 3
   },
   "file_extension": ".py",
   "mimetype": "text/x-python",
   "name": "python",
   "nbconvert_exporter": "python",
   "pygments_lexer": "ipython3",
   "version": "3.6.8"
  }
 },
 "nbformat": 4,
 "nbformat_minor": 2
}
