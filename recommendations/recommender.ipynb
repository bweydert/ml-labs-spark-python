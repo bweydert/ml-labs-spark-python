{
 "cells": [
  {
   "cell_type": "markdown",
   "metadata": {},
   "source": [
    "# Music Recommender System using Apache Spark and Python\n",
    "**Estimated time: 8hrs**\n",
    "\n",
    "## Description\n",
    "\n",
    "For this project, you are to create a recommender system that will recommend new musical artists to a user based on their listening history. Suggesting different songs or musical artists to a user is important to many music streaming services, such as Pandora and Spotify. In addition, this type of recommender system could also be used as a means of suggesting TV shows or movies to a user (e.g., Netflix). \n",
    "\n",
    "To create this system you will be using Spark and the collaborative filtering technique. The instructions for completing this project will be laid out entirely in this file. You will have to implement any missing code as well as answer any questions.\n",
    "\n",
    "## Datasets\n",
    "\n",
    "You will be using some publicly available song data from audioscrobbler, which can be found [here](http://www-etud.iro.umontreal.ca/~bergstrj/audioscrobbler_data.html). However, we modified the original data files so that the code will run in a reasonable time on a single machine. The reduced data files have been suffixed with `_small.txt` and contains only the information relevant to the top 50 most prolific users (highest artist play counts).\n",
    "\n",
    "The original data file `user_artist_data.txt` contained about 141,000 unique users, and 1.6 million unique artists. About 24.2 million users’ plays of artists are recorded, along with their count.\n",
    "\n",
    "Note that when plays are scribbled, the client application submits the name of the artist being played. This name could be misspelled or nonstandard, and this may only be detected later. For example, \"The Smiths\", \"Smiths, The\", and \"the smiths\" may appear as distinct artist IDs in the data set, even though they clearly refer to the same artist. So, the data set includes `artist_alias.txt`, which maps artist IDs that are known misspellings or variants to the canonical ID of that artist.\n",
    "\n",
    "The `artist_data.txt` file then provides a map from the canonical artist ID to the name of the artist."
   ]
  },
  {
   "cell_type": "markdown",
   "metadata": {},
   "source": [
    "## The Recommender Model\n",
    "\n",
    "For this project, we will train the model with implicit feedback. You can read more information about this from the collaborative filtering page: [http://spark.apache.org/docs/latest/mllib-collaborative-filtering.html](http://spark.apache.org/docs/latest/mllib-collaborative-filtering.html). The [function you will be using](http://spark.apache.org/docs/latest/api/python/pyspark.mllib.html#pyspark.mllib.recommendation.ALS.trainImplicit) has a few tunable parameters that will affect how the model is built. Therefore, to get the best model, we will do a small parameter sweep and choose the model that performs the best on the validation set\n",
    "\n",
    "Therefore, we must first devise a way to evaluate models. Once we have a method for evaluation, we can run a parameter sweep, evaluate each combination of parameters on the validation data, and choose the optimal set of parameters. The parameters then can be used to make predictions on the test data.\n",
    "\n",
    "### Model Evaluation\n",
    "\n",
    "Although there may be several ways to evaluate a model, we will use a simple method here. Suppose we have a model and some dataset of *true* artist plays for a set of users. This model can be used to predict the top X artist recommendations for a user and these recommendations can be compared the artists that the user actually listened to (here, X will be the number of artists in the dataset of *true* artist plays). Then, the fraction of overlap between the top X predictions of the model and the X artists that the user actually listened to can be calculated. This process can be repeated for all users and an average value returned.\n",
    "\n",
    "For example, suppose a model predicted [1,2,4,8] as the top X=4 artists for a user. Suppose, that user actually listened to the artists [1,3,7,8]. Then, for this user, the model would have a score of 2/4=0.5. To get the overall score, this would be performed for all users, with the average returned.\n",
    "\n",
    "**NOTE: when using the model to predict the top-X artists for a user, do not include the artists listed with that user in the training data.**\n",
    "\n",
    "Name your function `modelEval` and have it take a model (the output of ALS.trainImplicit) and a dataset as input. For parameter tuning, the dataset parameter should be set to the validation data (`validationData`). After parameter tuning, the model can be evaluated on the test data (`testData`)."
   ]
  },
  {
   "cell_type": "markdown",
   "metadata": {},
   "source": [
    "## Necessary Package Imports"
   ]
  },
  {
   "cell_type": "code",
   "execution_count": 27,
   "metadata": {
    "collapsed": true
   },
   "outputs": [],
   "source": [
    "# Import libraries\n",
    "\n",
    "from pyspark.ml.evaluation import RegressionEvaluator\n",
    "from pyspark.ml.evaluation import BinaryClassificationEvaluator\n",
    "\n",
    "from pyspark.ml.recommendation import ALS\n",
    "from pyspark.sql import Row\n",
    "from pyspark.sql.functions import *\n",
    "\n",
    "import pandas as pd\n"
   ]
  },
  {
   "cell_type": "markdown",
   "metadata": {},
   "source": [
    "## Loading data\n",
    "\n",
    "Load the three datasets into RDDs and name them `artistData`, `artistAlias`, and `userArtistData`. View the README, or the files themselves, to see how this data is formated. Some of the files have tab delimeters while some have space delimiters. Make sure that your `userArtistData` RDD contains only the canonical artist IDs."
   ]
  },
  {
   "cell_type": "code",
   "execution_count": 8,
   "metadata": {
    "collapsed": true
   },
   "outputs": [],
   "source": [
    "artists = spark.read.format(\"csv\").option('header','true').option('delimiter', '\\t').\\\n",
    "  option('inferSchema', 'true').load(\"/data/audioscrobble/artist_data.txt.gz\")\n",
    "\n",
    "dataset = spark.read.csv(\"/data/audioscrobble/user_artist_data.csv.gz\", header=True, inferSchema=True)\n",
    "\n",
    "(training, test) = dataset.randomSplit([0.8, 0.2])\n"
   ]
  },
  {
   "cell_type": "code",
   "execution_count": 9,
   "metadata": {
    "collapsed": true
   },
   "outputs": [],
   "source": [
    "# Classic Rock Fan Data\n",
    "\n",
    "pd_df = pd.DataFrame({'User' : [99999, 99999, 99999, 99999, 99999, 99999, 99999],\n",
    "                      'Artist' : [10215385, 9915421, 3292, 5687, 1014221, 1000055,  1004241],\n",
    "                      'Count' : [12, 7, 13, 8, 15, 5, 2]\n",
    "             })\n",
    "\n",
    "my_playlist = spark.createDataFrame(pd_df)\n",
    "\n",
    "training = training.unionAll(my_playlist)\n"
   ]
  },
  {
   "cell_type": "code",
   "execution_count": 43,
   "metadata": {
    "collapsed": true
   },
   "outputs": [],
   "source": [
    "# TODO: Your data\n",
    "\n",
    "# Use User #99998\n",
    "\n",
    "# Create a pandas dataframe with your data.  Look up your data from the artists dataframe\n",
    "\n",
    "\n",
    "# add it to training."
   ]
  },
  {
   "cell_type": "code",
   "execution_count": 10,
   "metadata": {
    "scrolled": true
   },
   "outputs": [
    {
     "name": "stdout",
     "output_type": "stream",
     "text": [
      "+-------+-------+---------+\n",
      "|   User| Artist|PlayCount|\n",
      "+-------+-------+---------+\n",
      "|2398725|    598|        1|\n",
      "|2430132|1001582|        1|\n",
      "|2063323|1342138|        1|\n",
      "|2429835|1055519|        7|\n",
      "|2073565|1030685|        1|\n",
      "|2165208|6865656|        1|\n",
      "|2125388|1007006|        2|\n",
      "|2178179|1015794|        4|\n",
      "|2337258|1002328|        1|\n",
      "|2355419|1003741|        1|\n",
      "|1005051|   2249|        1|\n",
      "|2156825|2152544|        4|\n",
      "|2050231|6755017|        3|\n",
      "|1047853|    121|       22|\n",
      "|2178597|   1390|       85|\n",
      "|2004429|1100522|        1|\n",
      "|2174785|1233793|       12|\n",
      "|2075647|1001412|        4|\n",
      "|2159048|1103014|       21|\n",
      "|2271867|1006102|        2|\n",
      "+-------+-------+---------+\n",
      "only showing top 20 rows\n",
      "\n"
     ]
    }
   ],
   "source": [
    "dataset.show()"
   ]
  },
  {
   "cell_type": "code",
   "execution_count": 7,
   "metadata": {},
   "outputs": [
    {
     "name": "stdout",
     "output_type": "stream",
     "text": [
      "+--------+--------------------+\n",
      "|ArtistID|          ArtistName|\n",
      "+--------+--------------------+\n",
      "| 1134999|        06Crazy Life|\n",
      "| 6821360|        Pang Nakarin|\n",
      "|10113088|Terfel, Bartoli- ...|\n",
      "|10151459| The Flaming Sidebur|\n",
      "| 6826647|   Bodenstandig 3000|\n",
      "|10186265|Jota Quest e Ivet...|\n",
      "| 6828986|       Toto_XX (1977|\n",
      "|10236364|         U.S Bombs -|\n",
      "| 1135000|artist formaly kn...|\n",
      "|10299728|Kassierer - Musik...|\n",
      "|10299744|         Rahzel, RZA|\n",
      "| 6864258|      Jon Richardson|\n",
      "| 6878791|Young Fresh Fello...|\n",
      "|10299751|          Ki-ya-Kiss|\n",
      "| 6909716|Underminded - The...|\n",
      "|10435121|             Kox-Box|\n",
      "| 6918061|  alexisonfire [wo!]|\n",
      "| 1135001|         dj salinger|\n",
      "| 6940391|The B52's - Chann...|\n",
      "|10475396|             44 Hoes|\n",
      "+--------+--------------------+\n",
      "only showing top 20 rows\n",
      "\n"
     ]
    }
   ],
   "source": [
    "artists.show()"
   ]
  },
  {
   "cell_type": "code",
   "execution_count": 11,
   "metadata": {},
   "outputs": [],
   "source": [
    "\n",
    "# Build the recommendation model using ALS on the training data\n",
    "# Note we set cold start strategy to 'drop' to ensure we don't get NaN evaluation metrics\n",
    "als = ALS(maxIter=5, regParam=0.01, userCol=\"User\", itemCol=\"Artist\", ratingCol=\"PlayCount\",\n",
    "          coldStartStrategy=\"drop\", implicitPrefs=True)\n",
    "model = als.fit(training)"
   ]
  },
  {
   "cell_type": "code",
   "execution_count": 30,
   "metadata": {},
   "outputs": [
    {
     "name": "stdout",
     "output_type": "stream",
     "text": [
      "+-------+------+---------+------------+-----+---------------+--------------------+\n",
      "|   User|Artist|PlayCount|  prediction|liked|predicted_liked|      raw_prediction|\n",
      "+-------+------+---------+------------+-----+---------------+--------------------+\n",
      "|1055046|   463|        4|   0.3475361|    1|              1|  0.3475360870361328|\n",
      "|2073908|   463|       11| -0.03272286|    1|              0|-0.03272286057472229|\n",
      "|2019909|   463|      104|   0.8063177|    1|              1|  0.8063176870346069|\n",
      "|1046731|   463|        1|2.1941715E-4|    0|              0|2.194171538576483...|\n",
      "|2023514|   463|        7| -0.21073908|    1|              0|-0.21073907613754272|\n",
      "|2289818|   463|        2|-0.058894232|    0|              0|-0.05889423191547394|\n",
      "|1071763|   463|        7| 0.035160925|    1|              1| 0.03516092523932457|\n",
      "|2282933|   463|        3|  0.14566791|    1|              1|  0.1456679105758667|\n",
      "|2271462|   463|       45|  0.20566681|    1|              1| 0.20566681027412415|\n",
      "|2005287|   463|       13|   0.4567256|    1|              1|  0.4567255973815918|\n",
      "|1059019|   463|      103|  -0.2577465|    1|              0|-0.25774648785591125|\n",
      "|2290769|   463|       40| 0.014819628|    1|              1| 0.01481962762773037|\n",
      "|2007399|   463|        2|  0.01614243|    0|              1|0.016142429783940315|\n",
      "|2205912|   463|       47| 0.122954525|    1|              1| 0.12295452505350113|\n",
      "|2087989|   463|        4|  0.04693577|    1|              1| 0.04693577066063881|\n",
      "|2137031|   463|        2|-0.025037006|    0|              0| -0.0250370055437088|\n",
      "|2003729|   463|      220|  0.15567008|    1|              1| 0.15567007660865784|\n",
      "|2350665|   463|       21|  0.06905073|    1|              1| 0.06905072927474976|\n",
      "|2028692|   463|       10|   0.4001479|    1|              1|  0.4001479148864746|\n",
      "|2284288|   463|       24|   0.8204407|    1|              1|  0.8204407095909119|\n",
      "+-------+------+---------+------------+-----+---------------+--------------------+\n",
      "only showing top 20 rows\n",
      "\n"
     ]
    }
   ],
   "source": [
    "# Evaluate the model by computing the RMSE on the test data\n",
    "predictions = model.transform(test)\n",
    "predictions_with_liked = predictions.withColumn('liked', (predictions.PlayCount > lit(2)).cast('integer'))\n",
    "predictions_with_predicted_like = predictions_with_liked.withColumn('predicted_liked', (predictions.prediction > lit(.01)).cast('integer'))\n",
    "predictions_with_predicted_like = predictions_with_predicted_like.withColumn('raw_prediction', predictions.prediction.cast('double'))\n",
    "predictions_with_predicted_like.show()"
   ]
  },
  {
   "cell_type": "code",
   "execution_count": 32,
   "metadata": {},
   "outputs": [
    {
     "name": "stdout",
     "output_type": "stream",
     "text": [
      "+-------+--------------------+\n",
      "|   User|     recommendations|\n",
      "+-------+--------------------+\n",
      "|   7340|[[1233196,0.03311...|\n",
      "|   8389|[[5,1.9840317E-4]...|\n",
      "|1000190|[[1000130,1.76781...|\n",
      "|1001043|[[1006016,0.06945...|\n",
      "|1001129|[[1275996,0.06328...|\n",
      "|1001139|[[930,0.51843673]...|\n",
      "|1002431|[[979,0.5386638],...|\n",
      "|1002605|[[979,0.02897332]...|\n",
      "|1004666|[[13,0.82681453],...|\n",
      "|1005158|[[1000113,0.06653...|\n",
      "|1005439|[[13,0.8639908], ...|\n",
      "|1005853|[[1838,0.12224305...|\n",
      "|1007007|[[4468,0.00248035...|\n",
      "|1008081|[[4061,0.08051114...|\n",
      "|1008804|[[1270639,0.23872...|\n",
      "|1012261|[[15,0.16461673],...|\n",
      "|1016416|[[1193,0.09318961...|\n",
      "|1017914|[[1270639,0.84431...|\n",
      "|1024037|[[15,0.29532593],...|\n",
      "|1024947|[[12,1.2198695], ...|\n",
      "+-------+--------------------+\n",
      "only showing top 20 rows\n",
      "\n"
     ]
    }
   ],
   "source": [
    "# See the recomendations for the Classic Rock Fan, User 99999\n",
    "\n",
    "# Generate top 10 movie recommendations for each user\n",
    "userRecs = model.recommendForAllUsers(10)\n",
    "userRecs.show()"
   ]
  },
  {
   "cell_type": "code",
   "execution_count": 34,
   "metadata": {},
   "outputs": [
    {
     "name": "stdout",
     "output_type": "stream",
     "text": [
      "+----+---------------+\n",
      "|User|recommendations|\n",
      "+----+---------------+\n",
      "+----+---------------+\n",
      "\n"
     ]
    }
   ],
   "source": [
    "userRecs.filter(userRecs.User == 99999).show()"
   ]
  },
  {
   "cell_type": "code",
   "execution_count": null,
   "metadata": {},
   "outputs": [],
   "source": [
    "evaluator = RegressionEvaluator(metricName=\"rmse\", labelCol=\"PlayCount\",\n",
    "                                predictionCol=\"prediction\")\n",
    "rmse = evaluator.evaluate(predictions)\n",
    "print(\"Root-mean-square error = \" + str(rmse))\n"
   ]
  },
  {
   "cell_type": "code",
   "execution_count": 31,
   "metadata": {},
   "outputs": [
    {
     "data": {
      "text/plain": [
       "0.5793276036849171"
      ]
     },
     "execution_count": 31,
     "metadata": {},
     "output_type": "execute_result"
    }
   ],
   "source": [
    "evaluator = BinaryClassificationEvaluator(rawPredictionCol=\"raw_prediction\", labelCol=\"liked\")\n",
    "evaluator.evaluate(predictions_with_predicted_like)  #AUC"
   ]
  },
  {
   "cell_type": "code",
   "execution_count": 5,
   "metadata": {
    "collapsed": true
   },
   "outputs": [],
   "source": [
    "def modelEval(model, dataset):\n",
    "    \n",
    "    # All artists in the 'userArtistData' dataset\n",
    "    allArtists = userArtistData.map(lambda x: x[1]).collect()\n",
    "    \n",
    "    # Set of all users in the current (Validation/Testing) dataset\n",
    "    userArtists = set(dataset.map(lambda x: x[0]).collect())\n",
    "    \n",
    "    # Create a dictionary of (key, values) for current (Validation/Testing) dataset\n",
    "    userArtistsDict = dict(dataset.map(lambda x: (x[0], x[1])).groupByKey().mapValues(set).collect())\n",
    "    \n",
    "    # Create a dictionary of (key, values) for training dataset\n",
    "    userArtistTrain = dict(trainData.map(lambda x: (x[0],x[1])).groupByKey().mapValues(set).collect())\n",
    "    \n",
    "    # For each user, calculate the prediction score i.e. similarity between predicted and actual artists\n",
    "    total = 0\n",
    "    for key in userArtists:\n",
    "        # Find the set of artists who are not in the training dataset\n",
    "        nonTrainArtists = set(allArtists) - userArtistTrain[key]\n",
    "        # Obtain artists actually listened to by the user\n",
    "        origArtists = userArtistsDict[key]\n",
    "        # Count of artists\n",
    "        origArtistsCnt = len(origArtists)\n",
    "        # Map user to each artists and create RDD\n",
    "        userArtistTest = sc.parallelize(map(lambda x: (key, x),nonTrainArtists))\n",
    "        # Predict top artists listen to by the user\n",
    "        predArtists = model.predictAll(userArtistTest).sortBy(ascending=False, keyfunc = lambda x: x[2]).map(lambda x:x[1]).take(origArtistsCnt)\n",
    "        # Add the score of the model\n",
    "        total += (float(len(set(predArtists).intersection(origArtists))) / origArtistsCnt)\n",
    "        \n",
    "    # Print average score of the model for all users for the specified rank\n",
    "    print \"The model score for rank %d is %f\"%(rank,float(total)/len(userArtists))"
   ]
  },
  {
   "cell_type": "markdown",
   "metadata": {},
   "source": [
    "### Model Construction\n",
    "\n",
    "Now we can build the best model possibly using the validation set of data and the `modelEval` function. Although, there are a few parameters we could optimize, for the sake of time, we will just try a few different values for the [rank parameter](http://spark.apache.org/docs/latest/mllib-collaborative-filtering.html#collaborative-filtering) (leave everything else at its default value, **except make `seed`=345**). Loop through the values [2, 10, 20] and figure out which one produces the highest scored based on your model evaluation function.\n",
    "\n",
    "Note: this procedure may take several minutes to run.\n",
    "\n",
    "For each rank value, print out the output of the `modelEval` function for that model. Your output should look as follows:\n",
    "```\n",
    "The model score for rank 2 is 0.090431\n",
    "The model score for rank 10 is 0.095294\n",
    "The model score for rank 20 is 0.090248\n",
    "```"
   ]
  },
  {
   "cell_type": "code",
   "execution_count": 6,
   "metadata": {},
   "outputs": [
    {
     "name": "stdout",
     "output_type": "stream",
     "text": [
      "The model score for rank 2 is 0.093462\n",
      "The model score for rank 10 is 0.097899\n",
      "The model score for rank 20 is 0.084259\n"
     ]
    }
   ],
   "source": [
    "rankList = [2,10,20]\n",
    "for rank in rankList:\n",
    "    model = ALS.trainImplicit(trainData, rank , seed=345)\n",
    "    modelEval(model,validationData)"
   ]
  },
  {
   "cell_type": "markdown",
   "metadata": {},
   "source": [
    "Now, using the bestModel, we will check the results over the test data. Your result should be ~`0.0507`."
   ]
  },
  {
   "cell_type": "code",
   "execution_count": 7,
   "metadata": {},
   "outputs": [
    {
     "name": "stdout",
     "output_type": "stream",
     "text": [
      "The model score for rank 20 is 0.061246\n"
     ]
    }
   ],
   "source": [
    "bestModel = ALS.trainImplicit(trainData, rank=10, seed=345)\n",
    "modelEval(bestModel, testData)"
   ]
  },
  {
   "cell_type": "markdown",
   "metadata": {},
   "source": [
    "## Trying Some Artist Recommendations\n",
    "Using the best model above, predict the top 5 artists for user `1059637` using the [recommendProducts](http://spark.apache.org/docs/1.5.2/api/python/pyspark.mllib.html#pyspark.mllib.recommendation.MatrixFactorizationModel.recommendProducts) function. Map the results (integer IDs) into the real artist name using `artistAlias`. Print the results. The output should look as follows:\n",
    "```\n",
    "Artist 0: Brand New\n",
    "Artist 1: Taking Back Sunday\n",
    "Artist 2: Evanescence\n",
    "Artist 3: Elliott Smith\n",
    "Artist 4: blink-182\n",
    "```"
   ]
  },
  {
   "cell_type": "code",
   "execution_count": 8,
   "metadata": {},
   "outputs": [
    {
     "name": "stdout",
     "output_type": "stream",
     "text": [
      "Artist 0: blink-182\n",
      "Artist 1: Elliott Smith\n",
      "Artist 2: Taking Back Sunday\n",
      "Artist 3: Incubus\n",
      "Artist 4: Death Cab for Cutie\n"
     ]
    }
   ],
   "source": [
    "# Find the top 5 artists for a particular user and list their names\n",
    "topRating = bestModel.recommendProducts(1059637, 5)\n",
    "artistRating = map(lambda x: x.product, topRating)\n",
    "artistDataDict = dict(artistData.collect())\n",
    "count = 0\n",
    "for key in artistRating:\n",
    "    print \"Artist \" + str(count) + \":\", artistDataDict[key]\n",
    "    count += 1"
   ]
  }
 ],
 "metadata": {
  "kernelspec": {
   "display_name": "Python 3",
   "language": "python",
   "name": "python3"
  },
  "language_info": {
   "codemirror_mode": {
    "name": "ipython",
    "version": 3
   },
   "file_extension": ".py",
   "mimetype": "text/x-python",
   "name": "python",
   "nbconvert_exporter": "python",
   "pygments_lexer": "ipython3",
   "version": "3.4.3"
  }
 },
 "nbformat": 4,
 "nbformat_minor": 1
}
