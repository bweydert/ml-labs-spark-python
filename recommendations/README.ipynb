{
 "cells": [
  {
   "cell_type": "markdown",
   "metadata": {},
   "source": [
    "[<< back to main index](../README.ipynb)\n",
    "\n",
    "# Recommendations Labs\n",
    "\n",
    "## Intro\n",
    "\n",
    "These labs are for recomendations.\n",
    "\n",
    "\n",
    "## Labs\n",
    "\n",
    " * 1. Recommendations: Movielens - [Jupyter Notebook](movielens.ipynb)\n",
    " * 1. Recommendations: Audioscrobbler - [Jupyter Notebook](recommender.ipynb)\n",
    "\n",
    "[<< back to main index](../README.ipynb)"
   ]
  }
 ],
 "metadata": {},
 "nbformat": 4,
 "nbformat_minor": 0
}
