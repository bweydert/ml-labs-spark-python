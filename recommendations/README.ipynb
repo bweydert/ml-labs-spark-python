{
 "cells": [
  {
   "cell_type": "markdown",
   "metadata": {},
   "source": [
    "[<< back to main index](../README.md)\n",
    "\n",
    "# Recommendations Labs\n",
    "\n",
    "## Intro\n",
    "\n",
    "These labs are for recomendations.\n",
    "\n",
    "\n",
    "## Labs\n",
    "\n",
    " * 1. Recommendations - [Jupyter Notebook](1-recommender.ipynb)\n",
    "\n",
    "[<< back to main index](../README.md)"
   ]
  }
 ],
 "metadata": {},
 "nbformat": 4,
 "nbformat_minor": 0
}
