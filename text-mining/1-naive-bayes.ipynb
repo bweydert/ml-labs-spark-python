{
 "cells": [
  {
   "cell_type": "markdown",
   "metadata": {},
   "source": [
    "<link rel='stylesheet' href='../assets/css/main.css'/>\n",
    "\n",
    "[<< back to main index](../README.md)\n",
    "\n",
    "# Naive Bayes Spam Filtering\n",
    "\n",
    "### Overview\n",
    "Instructor to demo this on screen.\n",
    " \n",
    "### Builds on\n",
    "None\n",
    "\n",
    "### Run time\n",
    "approx. 20-30 minutes\n",
    "\n",
    "### Notes\n",
    "\n",
    "PySpark has a class called Linear Regression that can be used to do simple linear regression models."
   ]
  },
  {
   "cell_type": "code",
   "execution_count": 21,
   "metadata": {
    "collapsed": true
   },
   "outputs": [],
   "source": [
    "%matplotlib inline\n",
    "\n",
    "import numpy as np\n",
    "import pandas as pd\n",
    "import matplotlib.pyplot as plt\n",
    "from pyspark.ml.regression import LinearRegression\n",
    "from pyspark.ml.feature import VectorAssembler\n",
    "from pyspark.ml.feature import HashingTF, IDF, Tokenizer, VectorAssembler\n",
    "from pyspark.ml.classification import NaiveBayes\n",
    "from pyspark.ml.evaluation import MulticlassClassificationEvaluator\n",
    "from pyspark.ml.feature import StringIndexer\n"
   ]
  },
  {
   "cell_type": "markdown",
   "metadata": {},
   "source": [
    "## Example : Tips\n",
    "Here is our tip data.  This shows 10 observations of bill with tip amounts."
   ]
  },
  {
   "cell_type": "markdown",
   "metadata": {},
   "source": [
    "## Step 1: Let's load the dataframe\n",
    "\n",
    "We will load the dataframe into spark.  Since the outcome label is \"ham\" or \"spam\", we'll just call it label."
   ]
  },
  {
   "cell_type": "code",
   "execution_count": 19,
   "metadata": {
    "attributes": {
     "classes": [
      "R"
     ],
     "id": ""
    },
    "scrolled": true
   },
   "outputs": [
    {
     "name": "stdout",
     "output_type": "stream",
     "text": [
      "+------+--------------------+\n",
      "|isspam|                text|\n",
      "+------+--------------------+\n",
      "|   ham|Go until jurong p...|\n",
      "|   ham|Ok lar... Joking ...|\n",
      "|  spam|Free entry in 2 a...|\n",
      "|   ham|U dun say so earl...|\n",
      "|   ham|Nah I don't think...|\n",
      "|  spam|FreeMsg Hey there...|\n",
      "|   ham|Even my brother i...|\n",
      "|   ham|As per your reque...|\n",
      "|  spam|WINNER!! As a val...|\n",
      "|  spam|Had your mobile 1...|\n",
      "|   ham|I'm gonna be home...|\n",
      "|  spam|SIX chances to wi...|\n",
      "|  spam|URGENT! You have ...|\n",
      "|   ham|I've been searchi...|\n",
      "|   ham|I HAVE A DATE ON ...|\n",
      "|  spam|XXXMobileMovieClu...|\n",
      "|   ham|Oh k...i'm watchi...|\n",
      "|   ham|Eh u remember how...|\n",
      "|   ham|Fine if thats th...|\n",
      "|  spam|England v Macedon...|\n",
      "+------+--------------------+\n",
      "only showing top 20 rows\n",
      "\n"
     ]
    }
   ],
   "source": [
    "dataset = spark.read.format(\"csv\").option('header','true').option('delimiter', '\\t').\\\n",
    "  option('inferSchema', 'true').load(\"../../datasets/spam/SMSSpamCollection.txt\")\n",
    "dataset.show()"
   ]
  },
  {
   "cell_type": "markdown",
   "metadata": {},
   "source": [
    "## Step 2: Vectorize using tf/idf\n",
    "\n",
    "Let's use tf/idf for vecorization at first."
   ]
  },
  {
   "cell_type": "code",
   "execution_count": 24,
   "metadata": {},
   "outputs": [
    {
     "name": "stdout",
     "output_type": "stream",
     "text": [
      "+------+--------------------+\n",
      "|isspam|            features|\n",
      "+------+--------------------+\n",
      "|   ham|(20,[0,2,5,6,7,10...|\n",
      "|   ham|(20,[0,4,6,16,19]...|\n",
      "|  spam|(20,[0,4,5,6,7,8,...|\n",
      "|   ham|(20,[1,2,3,6,8,12...|\n",
      "|   ham|(20,[0,3,4,6,8,9,...|\n",
      "|  spam|(20,[0,2,5,6,7,8,...|\n",
      "|   ham|(20,[1,3,6,7,8,10...|\n",
      "|   ham|(20,[0,2,3,5,6,8,...|\n",
      "|  spam|(20,[0,1,3,4,5,6,...|\n",
      "|  spam|(20,[0,2,3,4,6,7,...|\n",
      "|   ham|(20,[0,1,3,5,6,8,...|\n",
      "|  spam|(20,[0,1,2,3,6,8,...|\n",
      "|  spam|(20,[0,2,4,5,6,7,...|\n",
      "|   ham|(20,[0,1,2,3,5,7,...|\n",
      "|   ham|(20,[1,2,4,9,10,1...|\n",
      "|  spam|(20,[1,3,5,6,7,8,...|\n",
      "|   ham|(20,[2,6,9,15],[0...|\n",
      "|   ham|(20,[0,5,6,7,8,9,...|\n",
      "|   ham|(20,[0,1,6,9,10,1...|\n",
      "|  spam|(20,[0,1,4,5,6,8,...|\n",
      "+------+--------------------+\n",
      "only showing top 20 rows\n",
      "\n"
     ]
    }
   ],
   "source": [
    "tokenizer = Tokenizer(inputCol=\"text\", outputCol=\"words\")\n",
    "wordsData = tokenizer.transform(dataset)\n",
    "\n",
    "hashingTF = HashingTF(inputCol=\"words\", outputCol=\"rawFeatures\", numFeatures=20)\n",
    "featurizedData = hashingTF.transform(wordsData)\n",
    "\n",
    "idf = IDF(inputCol=\"rawFeatures\", outputCol=\"features\")\n",
    "idfModel = idf.fit(featurizedData)\n",
    "rescaledData = idfModel.transform(featurizedData)\n",
    "\n",
    "rescaledData.select(\"isspam\", \"features\").show()"
   ]
  },
  {
   "cell_type": "code",
   "execution_count": 25,
   "metadata": {},
   "outputs": [
    {
     "name": "stdout",
     "output_type": "stream",
     "text": [
      "+------+--------------------+--------------------+--------------------+--------------------+-----+\n",
      "|isspam|                text|               words|         rawFeatures|            features|label|\n",
      "+------+--------------------+--------------------+--------------------+--------------------+-----+\n",
      "|   ham|Go until jurong p...|[go, until, juron...|(20,[0,2,5,6,7,10...|(20,[0,2,5,6,7,10...|  0.0|\n",
      "|   ham|Ok lar... Joking ...|[ok, lar..., joki...|(20,[0,4,6,16,19]...|(20,[0,4,6,16,19]...|  0.0|\n",
      "|  spam|Free entry in 2 a...|[free, entry, in,...|(20,[0,4,5,6,7,8,...|(20,[0,4,5,6,7,8,...|  1.0|\n",
      "|   ham|U dun say so earl...|[u, dun, say, so,...|(20,[1,2,3,6,8,12...|(20,[1,2,3,6,8,12...|  0.0|\n",
      "|   ham|Nah I don't think...|[nah, i, don't, t...|(20,[0,3,4,6,8,9,...|(20,[0,3,4,6,8,9,...|  0.0|\n",
      "|  spam|FreeMsg Hey there...|[freemsg, hey, th...|(20,[0,2,5,6,7,8,...|(20,[0,2,5,6,7,8,...|  1.0|\n",
      "|   ham|Even my brother i...|[even, my, brothe...|(20,[1,3,6,7,8,10...|(20,[1,3,6,7,8,10...|  0.0|\n",
      "|   ham|As per your reque...|[as, per, your, r...|(20,[0,2,3,5,6,8,...|(20,[0,2,3,5,6,8,...|  0.0|\n",
      "|  spam|WINNER!! As a val...|[winner!!, as, a,...|(20,[0,1,3,4,5,6,...|(20,[0,1,3,4,5,6,...|  1.0|\n",
      "|  spam|Had your mobile 1...|[had, your, mobil...|(20,[0,2,3,4,6,7,...|(20,[0,2,3,4,6,7,...|  1.0|\n",
      "|   ham|I'm gonna be home...|[i'm, gonna, be, ...|(20,[0,1,3,5,6,8,...|(20,[0,1,3,5,6,8,...|  0.0|\n",
      "|  spam|SIX chances to wi...|[six, chances, to...|(20,[0,1,2,3,6,8,...|(20,[0,1,2,3,6,8,...|  1.0|\n",
      "|  spam|URGENT! You have ...|[urgent!, you, ha...|(20,[0,2,4,5,6,7,...|(20,[0,2,4,5,6,7,...|  1.0|\n",
      "|   ham|I've been searchi...|[i've, been, sear...|(20,[0,1,2,3,5,7,...|(20,[0,1,2,3,5,7,...|  0.0|\n",
      "|   ham|I HAVE A DATE ON ...|[i, have, a, date...|(20,[1,2,4,9,10,1...|(20,[1,2,4,9,10,1...|  0.0|\n",
      "|  spam|XXXMobileMovieClu...|[xxxmobilemoviecl...|(20,[1,3,5,6,7,8,...|(20,[1,3,5,6,7,8,...|  1.0|\n",
      "|   ham|Oh k...i'm watchi...|[oh, k...i'm, wat...|(20,[2,6,9,15],[1...|(20,[2,6,9,15],[0...|  0.0|\n",
      "|   ham|Eh u remember how...|[eh, u, remember,...|(20,[0,5,6,7,8,9,...|(20,[0,5,6,7,8,9,...|  0.0|\n",
      "|   ham|Fine if thats th...|[fine, if, thats...|(20,[0,1,6,9,10,1...|(20,[0,1,6,9,10,1...|  0.0|\n",
      "|  spam|England v Macedon...|[england, v, mace...|(20,[0,1,4,5,6,8,...|(20,[0,1,4,5,6,8,...|  1.0|\n",
      "+------+--------------------+--------------------+--------------------+--------------------+-----+\n",
      "only showing top 20 rows\n",
      "\n"
     ]
    }
   ],
   "source": [
    "## Step 3: \n",
    "\n",
    "\n",
    "indexer = StringIndexer(inputCol=\"isspam\", outputCol=\"label\")\n",
    "indexed = indexer.fit(rescaledData).transform(rescaledData)\n",
    "indexed.show()\n"
   ]
  },
  {
   "cell_type": "markdown",
   "metadata": {},
   "source": [
    "## Step 4: Run Naive Bayes\n",
    "\n",
    "Let's run Naive Bayes"
   ]
  },
  {
   "cell_type": "code",
   "execution_count": 29,
   "metadata": {
    "scrolled": true
   },
   "outputs": [],
   "source": [
    "\n",
    "# Split the data into train and test\n",
    "splits = indexed.randomSplit([0.6, 0.4], 1234)\n",
    "train = splits[0]\n",
    "test = splits[1]\n",
    "\n",
    "# create the trainer and set its parameters\n",
    "nb = NaiveBayes(smoothing=1.0, modelType=\"multinomial\")\n",
    "\n",
    "# train the model\n",
    "model = nb.fit(train)\n"
   ]
  },
  {
   "cell_type": "markdown",
   "metadata": {},
   "source": [
    "## Step 5: Run Test Data\n"
   ]
  },
  {
   "cell_type": "code",
   "execution_count": 30,
   "metadata": {},
   "outputs": [
    {
     "name": "stdout",
     "output_type": "stream",
     "text": [
      "+------+--------------------+--------------------+--------------------+--------------------+-----+--------------------+--------------------+----------+\n",
      "|isspam|                text|               words|         rawFeatures|            features|label|       rawPrediction|         probability|prediction|\n",
      "+------+--------------------+--------------------+--------------------+--------------------+-----+--------------------+--------------------+----------+\n",
      "|   ham| &lt;#&gt;  in mc...|[, &lt;#&gt;, , i...|(20,[3,5,6,7,12,1...|(20,[3,5,6,7,12,1...|  0.0|[-18.221704364333...|[0.88107418613854...|       0.0|\n",
      "|   ham| &lt;#&gt;  mins ...|[, &lt;#&gt;, , m...|(20,[3,7,8,9,10,1...|(20,[3,7,8,9,10,1...|  0.0|[-23.095541279732...|[0.89433849088310...|       0.0|\n",
      "|   ham| &lt;DECIMAL&gt; ...|[, &lt;decimal&gt...|(20,[1,3,4,7,8,9,...|(20,[1,3,4,7,8,9,...|  0.0|[-61.220479232963...|[0.94184803832905...|       0.0|\n",
      "|   ham| says that he's q...|[, says, that, he...|(20,[0,2,3,4,5,6,...|(20,[0,2,3,4,5,6,...|  0.0|[-90.599851369461...|[0.95152751720763...|       0.0|\n",
      "|   ham| what number do u...|[, what, number, ...|(20,[1,3,5,6,8,12...|(20,[1,3,5,6,8,12...|  0.0|[-21.699663849717...|[0.86677069800814...|       0.0|\n",
      "|   ham|\"Happy valentines...|[\"happy, valentin...|(20,[1,2,3,4,5,7,...|(20,[1,2,3,4,5,7,...|  0.0|[-58.385156845410...|[0.76168916247024...|       0.0|\n",
      "|   ham|\"Response\" is one...|[\"response\", is, ...|(20,[0,1,3,4,5,6,...|(20,[0,1,3,4,5,6,...|  0.0|[-57.749754603267...|[0.85368197367108...|       0.0|\n",
      "|   ham|'An Amazing Quote...|['an, amazing, qu...|(20,[0,3,5,7,8,10...|(20,[0,3,5,7,8,10...|  0.0|[-51.814484390324...|[0.93714087329583...|       0.0|\n",
      "|   ham|'Wnevr i wana fal...|['wnevr, i, wana,...|(20,[0,2,3,4,5,6,...|(20,[0,2,3,4,5,6,...|  0.0|[-61.681846828901...|[0.94128769288291...|       0.0|\n",
      "|   ham|(And my man carlo...|[(and, my, man, c...|(20,[1,3,6,10,13,...|(20,[1,3,6,10,13,...|  0.0|[-25.402271199048...|[0.75900469939961...|       0.0|\n",
      "|   ham|(You didn't hear ...|[(you, didn't, he...|(20,[1,2,8,10,11,...|(20,[1,2,8,10,11,...|  0.0|[-14.141644214132...|[0.84681311728013...|       0.0|\n",
      "|   ham|* Am on a train b...|[*, am, on, a, tr...|(20,[1,2,7,8,10,1...|(20,[1,2,7,8,10,1...|  0.0|[-24.113329316897...|[0.75646524459352...|       0.0|\n",
      "|   ham|* Thought I didn'...|[*, thought, i, d...|(20,[4,5,8,9,14,1...|(20,[4,5,8,9,14,1...|  0.0|[-13.245171584639...|[0.91917319319483...|       0.0|\n",
      "|   ham|* Will be septemb...|[*, will, be, sep...|(20,[0,3,14,16,19...|(20,[0,3,14,16,19...|  0.0|[-13.900231349600...|[0.86894593567170...|       0.0|\n",
      "|   ham|*deep sigh* ... I...|[*deep, sigh*, .....|(20,[0,2,3,5,6,8,...|(20,[0,2,3,5,6,8,...|  0.0|[-60.050357238258...|[0.95564820624121...|       0.0|\n",
      "|   ham|, im .. On the sn...|[,, im, .., on, t...|(20,[0,1,2,3,4,7,...|(20,[0,1,2,3,4,7,...|  0.0|[-59.661848543149...|[0.79533347094567...|       0.0|\n",
      "|   ham|, ow u dey.i paid...|[,, ow, u, dey.i,...|(20,[1,3,6,9,10,1...|(20,[1,3,6,9,10,1...|  0.0|[-25.855735520849...|[0.84064892638877...|       0.0|\n",
      "|   ham|....photoshop mak...|[....photoshop, m...|(20,[2,3,11,16],[...|(20,[2,3,11,16],[...|  0.0|[-14.736621678244...|[0.85593811811601...|       0.0|\n",
      "|   ham|1's reach home ca...|[1's, reach, home...|(20,[5,6,11],[2.0...|(20,[5,6,11],[1.1...|  0.0|[-10.420352149026...|[0.88270022417041...|       0.0|\n",
      "|   ham|   10 min later k...|[10, min, later, ...|(20,[2,5,6,15],[1...|(20,[2,5,6,15],[0...|  0.0|[-9.5312522490682...|[0.86669079429399...|       0.0|\n",
      "+------+--------------------+--------------------+--------------------+--------------------+-----+--------------------+--------------------+----------+\n",
      "only showing top 20 rows\n",
      "\n"
     ]
    }
   ],
   "source": [
    "\n",
    "# select example rows to display.\n",
    "predictions = model.transform(test)\n",
    "predictions.show()\n"
   ]
  },
  {
   "cell_type": "markdown",
   "metadata": {},
   "source": [
    "## Step 6: Evaluate Model"
   ]
  },
  {
   "cell_type": "code",
   "execution_count": 31,
   "metadata": {},
   "outputs": [
    {
     "name": "stdout",
     "output_type": "stream",
     "text": [
      "Test set accuracy = 0.860548807917229\n"
     ]
    }
   ],
   "source": [
    "evaluator = MulticlassClassificationEvaluator(labelCol=\"label\", predictionCol=\"prediction\",\n",
    "                                              metricName=\"accuracy\")\n",
    "accuracy = evaluator.evaluate(predictions)\n",
    "print(\"Test set accuracy = \" + str(accuracy))"
   ]
  },
  {
   "cell_type": "code",
   "execution_count": null,
   "metadata": {
    "collapsed": true
   },
   "outputs": [],
   "source": []
  }
 ],
 "metadata": {
  "kernelspec": {
   "display_name": "Python 3",
   "language": "python",
   "name": "python3"
  },
  "language_info": {
   "codemirror_mode": {
    "name": "ipython",
    "version": 3
   },
   "file_extension": ".py",
   "mimetype": "text/x-python",
   "name": "python",
   "nbconvert_exporter": "python",
   "pygments_lexer": "ipython3",
   "version": "3.4.3"
  }
 },
 "nbformat": 4,
 "nbformat_minor": 2
}
