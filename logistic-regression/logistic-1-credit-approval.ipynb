{
 "cells": [
  {
   "cell_type": "markdown",
   "metadata": {},
   "source": [
    "<link rel='stylesheet' href='../assets/css/main.css'/>\n",
    "\n",
    "[<< back to main index](../README.md)\n",
    "\n",
    "# Logistic Regression in Spark  - Credit Card Approval (Demo)\n",
    "\n",
    "### Overview\n",
    "Instructor to demo this on screen.\n",
    " \n",
    "### Builds on\n",
    "None\n",
    "\n",
    "### Run time\n",
    "approx. 20-30 minutes\n",
    "\n",
    "### Notes\n",
    "\n",
    "Spark has a logistic regression function called Logistic Regression."
   ]
  },
  {
   "cell_type": "markdown",
   "metadata": {},
   "source": [
    "## Step 1 : Load imports"
   ]
  },
  {
   "cell_type": "code",
   "execution_count": null,
   "metadata": {
    "attributes": {
     "classes": [
      "R"
     ],
     "id": ""
    },
    "collapsed": true
   },
   "outputs": [],
   "source": [
    "%matplotlib inline\n",
    "\n",
    "import time\n",
    "import numpy as np\n",
    "import matplotlib.pyplot as plt\n",
    "import pandas as pd\n",
    "\n",
    "\n",
    "print('Spark UI running on http://YOURIPADDRESS:' + sc.uiWebUrl.split(':')[2])"
   ]
  },
  {
   "cell_type": "markdown",
   "metadata": {},
   "source": [
    "## Step 2 : Sigmoid Curve\n",
    "\n",
    "In logistic regression, we often use a sigmoid activation function.  Let's generate a sigmoid curve in python!  (no spark required!)"
   ]
  },
  {
   "cell_type": "code",
   "execution_count": null,
   "metadata": {
    "attributes": {
     "classes": [
      "R"
     ],
     "id": ""
    },
    "collapsed": true,
    "scrolled": true
   },
   "outputs": [],
   "source": [
    "import numpy as np\n",
    "# plot sigmoid curve\n",
    "x = np.arange(-10.,10.,1.)\n",
    "b = 0 # intercept\n",
    "m = 1 # slope\n",
    "sigmoid = lambda x,b,m: np.exp((b + m*x)) / (1 + np.exp((b + m*x)))\n",
    "y = sigmoid(x,b,m)\n",
    "\n",
    "## hint : scatter (x,y)\n",
    "plt.scatter(x,y) \n",
    "plt.title(\"Sigmoid (Logistic) Function\")\n",
    "plt.show()"
   ]
  },
  {
   "cell_type": "markdown",
   "metadata": {},
   "source": [
    "\n",
    "## Step 3: Credit Approval Data"
   ]
  },
  {
   "cell_type": "markdown",
   "metadata": {},
   "source": [
    "Here is the sample data we are looking at:\n",
    "\n",
    "| score | approved | \n",
    "|-------|----------| \n",
    "| 550   | 0        | \n",
    "| 750   | 1        | \n",
    "| 680   | 1        | \n",
    "| 650   | 0        | \n",
    "| 450   | 0        | \n",
    "| 800   | 1        | \n",
    "| 775   | 1        | \n",
    "| 525   | 0        | \n",
    "| 620   | 0        | \n",
    "| 705   | 0        | \n",
    "| 830   | 1        | \n",
    "| 610   | 1        | \n",
    "| 690   | 0        | \n"
   ]
  },
  {
   "cell_type": "markdown",
   "metadata": {},
   "source": [
    "## Step 4: Let's visualize the data"
   ]
  },
  {
   "cell_type": "code",
   "execution_count": null,
   "metadata": {
    "attributes": {
     "classes": [
      "R"
     ],
     "id": ""
    },
    "collapsed": true
   },
   "outputs": [],
   "source": [
    "credit_approval = pd.DataFrame({'score' : [550., 750., 680., 650., 450., 800., 775., 525., 620., 705., 830., 610., 690.],\n",
    "              'approved' : [0,1,1,0,0,1,1,0,0,0,1,1,0]\n",
    "             })\n",
    "\n",
    "credit_approval"
   ]
  },
  {
   "cell_type": "markdown",
   "metadata": {},
   "source": [
    "## Step 5: Let us plot and visualize the sample data.\n",
    "\n",
    "**=> Run a scatterplot with score on the X axis and approved on the y axis**"
   ]
  },
  {
   "cell_type": "code",
   "execution_count": null,
   "metadata": {
    "collapsed": true
   },
   "outputs": [],
   "source": [
    "## Hint x = credit_approval.score,   y = credit_approval.approved\n",
    "plt.scatter(credit_approval.???,credit_approval.???)\n",
    "plt.xlabel('score')\n",
    "plt.ylabel('approved')"
   ]
  },
  {
   "cell_type": "markdown",
   "metadata": {},
   "source": [
    "## Step 6: Convert dataframe to Spark and Prepare feature vector\n",
    "\n",
    "We need to first convert the pandas dataframe to a spark dataframe, and then prepare the feature vector. To create the feature vector, we use the VectorAssembler.\n",
    "\n",
    "**=> Run VectorAssembler by using input column as \"score\"**\n",
    "\n",
    "We will need a numeric column called \"label\" in our dataset because our model by default will look for a column by that name.  So, we'll just add it.\n",
    "\n",
    "**=> Create columnn 'label' as \"approved\"**\n",
    "\n",
    "\n"
   ]
  },
  {
   "cell_type": "code",
   "execution_count": null,
   "metadata": {
    "collapsed": true
   },
   "outputs": [],
   "source": [
    "from pyspark.ml.feature import VectorAssembler\n",
    "\n",
    "df = spark.createDataFrame(credit_approval)\n",
    "## Hint : inputCols = [\"score\"]\n",
    "assembler = VectorAssembler(inputCols=[\"???\"], outputCol=\"features\")\n",
    "featureVector = assembler.transform(df)\n",
    "\n",
    "## Hint : featureVector[\"approved\"]\n",
    "featureVector = featureVector.withColumn(\"label\",featureVector[\"???\"])\n",
    "featureVector.show()\n"
   ]
  },
  {
   "cell_type": "markdown",
   "metadata": {},
   "source": [
    "\n",
    "## Step 7: Fit logistic regression\n",
    "\n",
    "Now it's time to fit our logistic regression model.  This is a linear model, so we will be getting the coefficients and intercept.\n"
   ]
  },
  {
   "cell_type": "code",
   "execution_count": null,
   "metadata": {
    "collapsed": true
   },
   "outputs": [],
   "source": [
    "from pyspark.ml.classification import LogisticRegression\n",
    "\n",
    "## TODO : set max Iter to 10\n",
    "\n",
    "#lr = LogisticRegression(maxIter=???)\n",
    "## TODO : you can try this with regularization parameters\n",
    "lr = LogisticRegression(maxIter=???, regParam=0.3, elasticNetParam=0.8)\n",
    "\n",
    "# Fit the model\n",
    "lrModel = lr.fit(featureVector)\n",
    "\n",
    "# Print the coefficients and intercept for logistic regression\n",
    "print(\"Coefficients: \" + str(lrModel.coefficients))\n",
    "print(\"Intercept: \" + str(lrModel.intercept))"
   ]
  },
  {
   "cell_type": "code",
   "execution_count": null,
   "metadata": {
    "collapsed": true
   },
   "outputs": [],
   "source": [
    "lrModel.summary.predictions.show()"
   ]
  },
  {
   "cell_type": "markdown",
   "metadata": {},
   "source": [
    "The output lists approval & estimated probabilities"
   ]
  },
  {
   "cell_type": "markdown",
   "metadata": {},
   "source": [
    "## Step 8 : Evaluate The Model\n"
   ]
  },
  {
   "cell_type": "markdown",
   "metadata": {},
   "source": [
    "### 8.1 Confusion Matrix\n",
    "**=> TODO : Can you interpret the confusion matrix?**"
   ]
  },
  {
   "cell_type": "code",
   "execution_count": null,
   "metadata": {
    "collapsed": true
   },
   "outputs": [],
   "source": [
    "lrModel.summary.predictions.groupBy('approved').pivot('prediction').count().na.fill(0).orderBy('approved').show()"
   ]
  },
  {
   "cell_type": "markdown",
   "metadata": {},
   "source": [
    "### 8.2 : ROC curve and AUC (Area Under Curve)\n",
    "\n",
    "**=> TODO: What is the meaning of the ROC curve?  How is the AUC calculated?**"
   ]
  },
  {
   "cell_type": "code",
   "execution_count": null,
   "metadata": {
    "collapsed": true
   },
   "outputs": [],
   "source": [
    "\n",
    "# Extract the summary from the returned LogisticRegressionModel instance trained\n",
    "# in the earlier example\n",
    "trainingSummary = lrModel.summary\n",
    "\n",
    "# Obtain the receiver-operating characteristic as a dataframe and areaUnderROC.\n",
    "print(\"areaUnderROC: \" ,  trainingSummary.areaUnderROC)\n",
    "\n"
   ]
  },
  {
   "cell_type": "code",
   "execution_count": null,
   "metadata": {
    "collapsed": true
   },
   "outputs": [],
   "source": [
    "# ROC\n",
    "\n",
    "roc_df = trainingSummary.roc.toPandas()\n",
    "print(roc_df)\n",
    "\n",
    "plt.plot(roc_df['FPR'], roc_df['TPR'])\n",
    "plt.xlabel(\"FPR\")\n",
    "plt.ylabel(\"TPR\")\n",
    "plt.title(\"ROC Curve\")\n",
    "plt.plot([0.0, 1.0], [0.0, 1.0], 'r')"
   ]
  },
  {
   "cell_type": "markdown",
   "metadata": {},
   "source": [
    "**How many iterations did it take?\n",
    "Did the model converge before our specified MAX itertions?\n",
    "What can we learn from this?\n",
    "**"
   ]
  },
  {
   "cell_type": "code",
   "execution_count": null,
   "metadata": {
    "collapsed": true
   },
   "outputs": [],
   "source": [
    "trainingSummary.totalIterations"
   ]
  },
  {
   "cell_type": "code",
   "execution_count": null,
   "metadata": {
    "collapsed": true
   },
   "outputs": [],
   "source": [
    "## Some experimentations\n",
    "\n",
    "print (\"total iterations \", trainingSummary.totalIterations)\n",
    "\n",
    "## Obtain the objective per iteration\n",
    "objectiveHistory = trainingSummary.objectiveHistory\n",
    "print(\"objectiveHistory:\")\n",
    "i = 0\n",
    "for objective in trainingSummary.objectiveHistory:\n",
    "    i = i+1\n",
    "    print(i, \" : \",  objective)\n"
   ]
  },
  {
   "cell_type": "markdown",
   "metadata": {},
   "source": [
    "** Q : increase the maxIterations to 100 (in step 3) and re-run again**  \n",
    "Does the accuracy improve?"
   ]
  },
  {
   "cell_type": "markdown",
   "metadata": {},
   "source": [
    "## Step 9: Visualize data and logit model\n",
    "\n",
    "Let's visualize the data and our model."
   ]
  },
  {
   "cell_type": "code",
   "execution_count": null,
   "metadata": {
    "collapsed": true
   },
   "outputs": [],
   "source": [
    "plt.scatter(credit_approval.score, credit_approval.approved)\n",
    "plt.xlabel('score')\n",
    "plt.ylabel('approved')\n"
   ]
  },
  {
   "cell_type": "markdown",
   "metadata": {
    "collapsed": true
   },
   "source": [
    "## Step 10: Let's create some new test data and make predictions"
   ]
  },
  {
   "cell_type": "code",
   "execution_count": null,
   "metadata": {
    "collapsed": true
   },
   "outputs": [],
   "source": [
    "newdata = pd.DataFrame({'score' : [600., 700., 750, 800.]\n",
    "             })\n",
    "print(newdata)\n",
    "\n",
    "spark_newdata = spark.createDataFrame(newdata)\n",
    "newfeatures = assembler.transform(spark_newdata)\n",
    "lrModel.transform(newfeatures).show()"
   ]
  }
 ],
 "metadata": {
  "kernelspec": {
   "display_name": "Python 3",
   "language": "python",
   "name": "python3"
  },
  "language_info": {
   "codemirror_mode": {
    "name": "ipython",
    "version": 3
   },
   "file_extension": ".py",
   "mimetype": "text/x-python",
   "name": "python",
   "nbconvert_exporter": "python",
   "pygments_lexer": "ipython3",
   "version": "3.6.6"
  }
 },
 "nbformat": 4,
 "nbformat_minor": 2
}
