{
 "cells": [
  {
   "cell_type": "markdown",
   "metadata": {},
   "source": [
    "[<< back to main index](../README.md)\n",
    "\n",
    "# Logistic Regression in Spark  - Credit Card Approval (Demo)\n",
    "\n",
    "### Overview\n",
    "Instructor to demo this on screen.\n",
    " \n",
    "### Builds on\n",
    "None\n",
    "\n",
    "### Run time\n",
    "approx. 20-30 minutes\n",
    "\n",
    "### Notes\n",
    "\n",
    "Spark has a logistic regression function called Logistic Regression."
   ]
  },
  {
   "cell_type": "markdown",
   "metadata": {},
   "source": [
    "## Step 1 : Load imports"
   ]
  },
  {
   "cell_type": "code",
   "execution_count": 1,
   "metadata": {},
   "outputs": [
    {
     "name": "stdout",
     "output_type": "stream",
     "text": [
      "Initializing Spark...\n",
      "Spark found in :  /home/ubuntu/spark\n",
      "Spark config:\n",
      "\t spark.app.name=TestApp\n",
      "\tspark.master=local[*]\n",
      "\texecutor.memory=2g\n",
      "\tspark.sql.warehouse.dir=/tmp/tmpyyqk524j\n",
      "\tsome_property=some_value\n",
      "Spark UI running on port 4041\n"
     ]
    },
    {
     "data": {
      "text/html": [
       "\n",
       "            <div>\n",
       "                <p><b>SparkSession - in-memory</b></p>\n",
       "                \n",
       "        <div>\n",
       "            <p><b>SparkContext</b></p>\n",
       "\n",
       "            <p><a href=\"http://ip-172-16-0-85.ec2.internal:4041\">Spark UI</a></p>\n",
       "\n",
       "            <dl>\n",
       "              <dt>Version</dt>\n",
       "                <dd><code>v2.4.0</code></dd>\n",
       "              <dt>Master</dt>\n",
       "                <dd><code>local[*]</code></dd>\n",
       "              <dt>AppName</dt>\n",
       "                <dd><code>TestApp</code></dd>\n",
       "            </dl>\n",
       "        </div>\n",
       "        \n",
       "            </div>\n",
       "        "
      ],
      "text/plain": [
       "<pyspark.sql.session.SparkSession at 0x7fe24c0c9278>"
      ]
     },
     "execution_count": 1,
     "metadata": {},
     "output_type": "execute_result"
    }
   ],
   "source": [
    "# initialize Spark Session\n",
    "import os\n",
    "import sys\n",
    "top_dir = os.path.abspath(os.path.join(os.getcwd(), \"../\"))\n",
    "if top_dir not in sys.path:\n",
    "    sys.path.append(top_dir)\n",
    "\n",
    "from init_spark import init_spark\n",
    "spark = init_spark()\n",
    "spark"
   ]
  },
  {
   "cell_type": "markdown",
   "metadata": {},
   "source": [
    "## Step 2 : Sigmoid Curve\n",
    "\n",
    "In logistic regression, we often use a sigmoid activation function.  Let's generate a sigmoid curve in python!  (no spark required!)"
   ]
  },
  {
   "cell_type": "code",
   "execution_count": 2,
   "metadata": {
    "attributes": {
     "classes": [
      "R"
     ],
     "id": ""
    },
    "collapsed": true,
    "scrolled": true
   },
   "outputs": [
    {
     "data": {
      "image/png": "[encoded data removed]",
      "text/plain": [
       "<Figure size 432x288 with 1 Axes>"
      ]
     },
     "metadata": {
      "needs_background": "light"
     },
     "output_type": "display_data"
    }
   ],
   "source": [
    "%matplotlib inline\n",
    "import matplotlib.pyplot as plt\n",
    "\n",
    "import numpy as np\n",
    "\n",
    "# plot sigmoid curve\n",
    "x = np.arange(-10.,10.,1.)\n",
    "b = 0 # intercept\n",
    "m = 1 # slope\n",
    "sigmoid = lambda x,b,m: np.exp((b + m*x)) / (1 + np.exp((b + m*x)))\n",
    "y = sigmoid(x,b,m)\n",
    "\n",
    "## hint : scatter (x,y)\n",
    "plt.scatter(x,y) \n",
    "plt.title(\"Sigmoid (Logistic) Function\")\n",
    "plt.show()"
   ]
  },
  {
   "cell_type": "markdown",
   "metadata": {},
   "source": [
    "\n",
    "## Step 3: Credit Approval Data"
   ]
  },
  {
   "cell_type": "markdown",
   "metadata": {},
   "source": [
    "Here is the sample data we are looking at:\n",
    "\n",
    "| score | approved | \n",
    "|-------|----------| \n",
    "| 550   | 0        | \n",
    "| 750   | 1        | \n",
    "| 680   | 1        | \n",
    "| 650   | 0        | \n",
    "| 450   | 0        | \n",
    "| 800   | 1        | \n",
    "| 775   | 1        | \n",
    "| 525   | 0        | \n",
    "| 620   | 0        | \n",
    "| 705   | 0        | \n",
    "| 830   | 1        | \n",
    "| 610   | 1        | \n",
    "| 690   | 0        | \n"
   ]
  },
  {
   "cell_type": "markdown",
   "metadata": {},
   "source": [
    "## Step 4: Let's visualize the data"
   ]
  },
  {
   "cell_type": "code",
   "execution_count": 3,
   "metadata": {
    "attributes": {
     "classes": [
      "R"
     ],
     "id": ""
    },
    "collapsed": true
   },
   "outputs": [
    {
     "data": {
      "text/html": [
       "<div>\n",
       "<style scoped>\n",
       "    .dataframe tbody tr th:only-of-type {\n",
       "        vertical-align: middle;\n",
       "    }\n",
       "\n",
       "    .dataframe tbody tr th {\n",
       "        vertical-align: top;\n",
       "    }\n",
       "\n",
       "    .dataframe thead th {\n",
       "        text-align: right;\n",
       "    }\n",
       "</style>\n",
       "<table border=\"1\" class=\"dataframe\">\n",
       "  <thead>\n",
       "    <tr style=\"text-align: right;\">\n",
       "      <th></th>\n",
       "      <th>score</th>\n",
       "      <th>approved</th>\n",
       "    </tr>\n",
       "  </thead>\n",
       "  <tbody>\n",
       "    <tr>\n",
       "      <th>0</th>\n",
       "      <td>550.0</td>\n",
       "      <td>0</td>\n",
       "    </tr>\n",
       "    <tr>\n",
       "      <th>1</th>\n",
       "      <td>750.0</td>\n",
       "      <td>1</td>\n",
       "    </tr>\n",
       "    <tr>\n",
       "      <th>2</th>\n",
       "      <td>680.0</td>\n",
       "      <td>1</td>\n",
       "    </tr>\n",
       "    <tr>\n",
       "      <th>3</th>\n",
       "      <td>650.0</td>\n",
       "      <td>0</td>\n",
       "    </tr>\n",
       "    <tr>\n",
       "      <th>4</th>\n",
       "      <td>450.0</td>\n",
       "      <td>0</td>\n",
       "    </tr>\n",
       "    <tr>\n",
       "      <th>5</th>\n",
       "      <td>800.0</td>\n",
       "      <td>1</td>\n",
       "    </tr>\n",
       "    <tr>\n",
       "      <th>6</th>\n",
       "      <td>775.0</td>\n",
       "      <td>1</td>\n",
       "    </tr>\n",
       "    <tr>\n",
       "      <th>7</th>\n",
       "      <td>525.0</td>\n",
       "      <td>0</td>\n",
       "    </tr>\n",
       "    <tr>\n",
       "      <th>8</th>\n",
       "      <td>620.0</td>\n",
       "      <td>0</td>\n",
       "    </tr>\n",
       "    <tr>\n",
       "      <th>9</th>\n",
       "      <td>705.0</td>\n",
       "      <td>0</td>\n",
       "    </tr>\n",
       "    <tr>\n",
       "      <th>10</th>\n",
       "      <td>830.0</td>\n",
       "      <td>1</td>\n",
       "    </tr>\n",
       "    <tr>\n",
       "      <th>11</th>\n",
       "      <td>610.0</td>\n",
       "      <td>1</td>\n",
       "    </tr>\n",
       "    <tr>\n",
       "      <th>12</th>\n",
       "      <td>690.0</td>\n",
       "      <td>0</td>\n",
       "    </tr>\n",
       "  </tbody>\n",
       "</table>\n",
       "</div>"
      ],
      "text/plain": [
       "    score  approved\n",
       "0   550.0         0\n",
       "1   750.0         1\n",
       "2   680.0         1\n",
       "3   650.0         0\n",
       "4   450.0         0\n",
       "5   800.0         1\n",
       "6   775.0         1\n",
       "7   525.0         0\n",
       "8   620.0         0\n",
       "9   705.0         0\n",
       "10  830.0         1\n",
       "11  610.0         1\n",
       "12  690.0         0"
      ]
     },
     "execution_count": 3,
     "metadata": {},
     "output_type": "execute_result"
    }
   ],
   "source": [
    "import pandas as pd\n",
    "\n",
    "credit_approval = pd.DataFrame({'score' : [550., 750., 680., 650., 450., 800., 775., 525., 620., 705., 830., 610., 690.],\n",
    "              'approved' : [0,1,1,0,0,1,1,0,0,0,1,1,0]\n",
    "             })\n",
    "\n",
    "credit_approval"
   ]
  },
  {
   "cell_type": "markdown",
   "metadata": {},
   "source": [
    "## Step 5: Let us plot and visualize the sample data.\n",
    "\n",
    "**=> Run a scatterplot with score on the X axis and approved on the y axis**"
   ]
  },
  {
   "cell_type": "code",
   "execution_count": 4,
   "metadata": {
    "collapsed": true
   },
   "outputs": [
    {
     "data": {
      "text/plain": [
       "Text(0, 0.5, 'approved')"
      ]
     },
     "execution_count": 4,
     "metadata": {},
     "output_type": "execute_result"
    },
    {
     "data": {
      "image/png": "[encoded data removed]",
      "text/plain": [
       "<Figure size 432x288 with 1 Axes>"
      ]
     },
     "metadata": {
      "needs_background": "light"
     },
     "output_type": "display_data"
    }
   ],
   "source": [
    "## Hint x = credit_approval.score,   y = credit_approval.approved\n",
    "plt.scatter(credit_approval.score,credit_approval.approved)\n",
    "plt.xlabel('score')\n",
    "plt.ylabel('approved')"
   ]
  },
  {
   "cell_type": "markdown",
   "metadata": {},
   "source": [
    "## Step 6: Convert dataframe to Spark and Prepare feature vector\n",
    "\n",
    "We need to first convert the pandas dataframe to a spark dataframe, and then prepare the feature vector. To create the feature vector, we use the VectorAssembler.\n",
    "\n",
    "**=> Run VectorAssembler by using input column as \"score\"**\n",
    "\n",
    "We will need a numeric column called \"label\" in our dataset because our model by default will look for a column by that name.  So, we'll just add it.\n",
    "\n",
    "**=> Create columnn 'label' as \"approved\"**\n",
    "\n",
    "\n"
   ]
  },
  {
   "cell_type": "code",
   "execution_count": 5,
   "metadata": {
    "collapsed": true
   },
   "outputs": [
    {
     "name": "stdout",
     "output_type": "stream",
     "text": [
      "+-----+--------+--------+\n",
      "|score|approved|features|\n",
      "+-----+--------+--------+\n",
      "|550.0|       0| [550.0]|\n",
      "|750.0|       1| [750.0]|\n",
      "|680.0|       1| [680.0]|\n",
      "|650.0|       0| [650.0]|\n",
      "|450.0|       0| [450.0]|\n",
      "|800.0|       1| [800.0]|\n",
      "|775.0|       1| [775.0]|\n",
      "|525.0|       0| [525.0]|\n",
      "|620.0|       0| [620.0]|\n",
      "|705.0|       0| [705.0]|\n",
      "|830.0|       1| [830.0]|\n",
      "|610.0|       1| [610.0]|\n",
      "|690.0|       0| [690.0]|\n",
      "+-----+--------+--------+\n",
      "\n",
      "+-----+--------+--------+-----+\n",
      "|score|approved|features|label|\n",
      "+-----+--------+--------+-----+\n",
      "|550.0|       0| [550.0]|    0|\n",
      "|750.0|       1| [750.0]|    1|\n",
      "|680.0|       1| [680.0]|    1|\n",
      "|650.0|       0| [650.0]|    0|\n",
      "|450.0|       0| [450.0]|    0|\n",
      "|800.0|       1| [800.0]|    1|\n",
      "|775.0|       1| [775.0]|    1|\n",
      "|525.0|       0| [525.0]|    0|\n",
      "|620.0|       0| [620.0]|    0|\n",
      "|705.0|       0| [705.0]|    0|\n",
      "|830.0|       1| [830.0]|    1|\n",
      "|610.0|       1| [610.0]|    1|\n",
      "|690.0|       0| [690.0]|    0|\n",
      "+-----+--------+--------+-----+\n",
      "\n"
     ]
    }
   ],
   "source": [
    "from pyspark.ml.feature import VectorAssembler\n",
    "\n",
    "df = spark.createDataFrame(credit_approval)\n",
    "## Hint : inputCols = [\"score\"]\n",
    "assembler = VectorAssembler(inputCols=[\"score\"], outputCol=\"features\")\n",
    "featureVector = assembler.transform(df)\n",
    "featureVector.show()\n",
    "## Hint : featureVector[\"approved\"]\n",
    "featureVector = featureVector.withColumn(\"label\",featureVector[\"approved\"])\n",
    "featureVector.show()\n"
   ]
  },
  {
   "cell_type": "markdown",
   "metadata": {},
   "source": [
    "\n",
    "## Step 7: Fit logistic regression\n",
    "\n",
    "Now it's time to fit our logistic regression model.  This is a linear model, so we will be getting the coefficients and intercept.\n"
   ]
  },
  {
   "cell_type": "code",
   "execution_count": 13,
   "metadata": {
    "collapsed": true
   },
   "outputs": [
    {
     "name": "stdout",
     "output_type": "stream",
     "text": [
      "Coefficients: [0.002320489931703392]\n",
      "Intercept: -1.6982871525249927\n"
     ]
    }
   ],
   "source": [
    "from pyspark.ml.classification import LogisticRegression\n",
    "\n",
    "## TODO : set max Iter to 10\n",
    "\n",
    "#lr = LogisticRegression(maxIter=???)\n",
    "## TODO : you can try this with regularization parameters\n",
    "lr = LogisticRegression(maxIter=100, regParam=0.3, elasticNetParam=0.8)\n",
    "\n",
    "# Fit the model\n",
    "lrModel = lr.fit(featureVector)\n",
    "\n",
    "# Print the coefficients and intercept for logistic regression\n",
    "print(\"Coefficients: \" + str(lrModel.coefficients))\n",
    "print(\"Intercept: \" + str(lrModel.intercept))"
   ]
  },
  {
   "cell_type": "code",
   "execution_count": 15,
   "metadata": {
    "collapsed": true
   },
   "outputs": [
    {
     "name": "stdout",
     "output_type": "stream",
     "text": [
      "+-----+--------+--------+-----+--------------------+--------------------+----------+\n",
      "|score|approved|features|label|       rawPrediction|         probability|prediction|\n",
      "+-----+--------+--------+-----+--------------------+--------------------+----------+\n",
      "|550.0|       0| [550.0]|  0.0|[0.42201769008812...|[0.60396596442825...|       0.0|\n",
      "|750.0|       1| [750.0]|  1.0|[-0.0420802962525...|[0.48948147803162...|       1.0|\n",
      "|680.0|       1| [680.0]|  1.0|[0.12035399896668...|[0.53005223273397...|       0.0|\n",
      "|650.0|       0| [650.0]|  0.0|[0.18996869691778...|[0.54734986256583...|       0.0|\n",
      "|450.0|       0| [450.0]|  0.0|[0.65406668325846...|[0.65792629442028...|       0.0|\n",
      "|800.0|       1| [800.0]|  1.0|[-0.1581047928377...|[0.46055593326974...|       1.0|\n",
      "|775.0|       1| [775.0]|  1.0|[-0.1000925445451...|[0.47499773418221...|       1.0|\n",
      "|525.0|       0| [525.0]|  0.0|[0.48002993838071...|[0.61775494425696...|       0.0|\n",
      "|620.0|       0| [620.0]|  0.0|[0.25958339486888...|[0.56453387827779...|       0.0|\n",
      "|705.0|       0| [705.0]|  0.0|[0.06234175067410...|[0.51558039190387...|       0.0|\n",
      "|830.0|       1| [830.0]|  1.0|[-0.2277194907888...|[0.44331487197542...|       1.0|\n",
      "|610.0|       1| [610.0]|  1.0|[0.28278829418592...|[0.57022967843151...|       0.0|\n",
      "|690.0|       0| [690.0]|  0.0|[0.09714909964965...|[0.52426819108783...|       0.0|\n",
      "+-----+--------+--------+-----+--------------------+--------------------+----------+\n",
      "\n"
     ]
    }
   ],
   "source": [
    "lrModel.summary.predictions.show()"
   ]
  },
  {
   "cell_type": "markdown",
   "metadata": {},
   "source": [
    "The output lists approval & estimated probabilities"
   ]
  },
  {
   "cell_type": "markdown",
   "metadata": {},
   "source": [
    "## Step 8 : Evaluate The Model\n"
   ]
  },
  {
   "cell_type": "markdown",
   "metadata": {},
   "source": [
    "### 8.1 Confusion Matrix\n",
    "**=> TODO : Can you interpret the confusion matrix?**"
   ]
  },
  {
   "cell_type": "code",
   "execution_count": 16,
   "metadata": {
    "collapsed": true
   },
   "outputs": [
    {
     "name": "stdout",
     "output_type": "stream",
     "text": [
      "+--------+---+---+\n",
      "|approved|0.0|1.0|\n",
      "+--------+---+---+\n",
      "|       0|  7|  0|\n",
      "|       1|  2|  4|\n",
      "+--------+---+---+\n",
      "\n"
     ]
    }
   ],
   "source": [
    "lrModel.summary.predictions.groupBy('approved').pivot('prediction').count().na.fill(0).orderBy('approved').show()"
   ]
  },
  {
   "cell_type": "markdown",
   "metadata": {},
   "source": [
    "### 8.2 : ROC curve and AUC (Area Under Curve)\n",
    "\n",
    "**=> TODO: What is the meaning of the ROC curve?  How is the AUC calculated?**"
   ]
  },
  {
   "cell_type": "code",
   "execution_count": 17,
   "metadata": {
    "collapsed": true
   },
   "outputs": [
    {
     "name": "stdout",
     "output_type": "stream",
     "text": [
      "areaUnderROC:  0.8571428571428571\n"
     ]
    }
   ],
   "source": [
    "\n",
    "# Extract the summary from the returned LogisticRegressionModel instance trained\n",
    "# in the earlier example\n",
    "trainingSummary = lrModel.summary\n",
    "\n",
    "# Obtain the receiver-operating characteristic as a dataframe and areaUnderROC.\n",
    "print(\"areaUnderROC: \" ,  trainingSummary.areaUnderROC)\n",
    "\n"
   ]
  },
  {
   "cell_type": "code",
   "execution_count": 18,
   "metadata": {
    "collapsed": true
   },
   "outputs": [
    {
     "name": "stdout",
     "output_type": "stream",
     "text": [
      "         FPR       TPR\n",
      "0   0.000000  0.000000\n",
      "1   0.000000  0.166667\n",
      "2   0.000000  0.333333\n",
      "3   0.000000  0.500000\n",
      "4   0.000000  0.666667\n",
      "5   0.142857  0.666667\n",
      "6   0.285714  0.666667\n",
      "7   0.285714  0.833333\n",
      "8   0.428571  0.833333\n",
      "9   0.571429  0.833333\n",
      "10  0.571429  1.000000\n",
      "11  0.714286  1.000000\n",
      "12  0.857143  1.000000\n",
      "13  1.000000  1.000000\n",
      "14  1.000000  1.000000\n"
     ]
    },
    {
     "data": {
      "text/plain": [
       "[<matplotlib.lines.Line2D at 0x7fe22c879278>]"
      ]
     },
     "execution_count": 18,
     "metadata": {},
     "output_type": "execute_result"
    },
    {
     "data": {
      "image/png": "[encoded data removed]",
      "text/plain": [
       "<Figure size 432x288 with 1 Axes>"
      ]
     },
     "metadata": {
      "needs_background": "light"
     },
     "output_type": "display_data"
    }
   ],
   "source": [
    "# ROC\n",
    "\n",
    "roc_df = trainingSummary.roc.toPandas()\n",
    "print(roc_df)\n",
    "\n",
    "plt.plot(roc_df['FPR'], roc_df['TPR'])\n",
    "plt.xlabel(\"FPR\")\n",
    "plt.ylabel(\"TPR\")\n",
    "plt.title(\"ROC Curve\")\n",
    "plt.plot([0.0, 1.0], [0.0, 1.0], 'r')"
   ]
  },
  {
   "cell_type": "markdown",
   "metadata": {},
   "source": [
    "**How many iterations did it take?\n",
    "Did the model converge before our specified MAX itertions?\n",
    "What can we learn from this?\n",
    "**"
   ]
  },
  {
   "cell_type": "code",
   "execution_count": 19,
   "metadata": {
    "collapsed": true
   },
   "outputs": [
    {
     "data": {
      "text/plain": [
       "101"
      ]
     },
     "execution_count": 19,
     "metadata": {},
     "output_type": "execute_result"
    }
   ],
   "source": [
    "trainingSummary.totalIterations"
   ]
  },
  {
   "cell_type": "code",
   "execution_count": 20,
   "metadata": {
    "collapsed": true
   },
   "outputs": [
    {
     "name": "stdout",
     "output_type": "stream",
     "text": [
      "total iterations  101\n",
      "objectiveHistory:\n",
      "1  :  0.6901856760188043\n",
      "2  :  0.6899327462112604\n",
      "3  :  0.6898596572878024\n",
      "4  :  0.6897755898678963\n",
      "5  :  0.6890411819005514\n",
      "6  :  0.6877422034867856\n",
      "7  :  0.6868231380259231\n",
      "8  :  0.6866303048864236\n",
      "9  :  0.6860730569628928\n",
      "10  :  0.6858904394799108\n",
      "11  :  0.6853725490572904\n",
      "12  :  0.685202300841395\n",
      "13  :  0.6847279476152178\n",
      "14  :  0.6845723649621482\n",
      "15  :  0.684155360503761\n",
      "16  :  0.6840549499644968\n",
      "17  :  0.6838079689009933\n",
      "18  :  0.6833076139949844\n",
      "19  :  0.6828771886534204\n",
      "20  :  0.6827319195897444\n",
      "21  :  0.6822223137622867\n",
      "22  :  0.6820084453276453\n",
      "23  :  0.6819798414717818\n",
      "24  :  0.6818293410775397\n",
      "25  :  0.6817742619549414\n",
      "26  :  0.6816740732601034\n",
      "27  :  0.6815995372752527\n",
      "28  :  0.6815391542558873\n",
      "29  :  0.6814508416788901\n",
      "30  :  0.6814216175324126\n",
      "31  :  0.6813241122773623\n",
      "32  :  0.6812913832645463\n",
      "33  :  0.6809472189020087\n",
      "34  :  0.6805084514178277\n",
      "35  :  0.6805084482544512\n",
      "36  :  0.6805084451142253\n",
      "37  :  0.6805084426651972\n",
      "38  :  0.6805084402559167\n",
      "39  :  0.6805084383770006\n",
      "40  :  0.6805084365287555\n",
      "41  :  0.6805084350874138\n",
      "42  :  0.6805084336697257\n",
      "43  :  0.6805084325641825\n",
      "44  :  0.6805084314768725\n",
      "45  :  0.680508430901732\n",
      "46  :  0.6805084294823791\n",
      "47  :  0.6805084287846087\n",
      "48  :  0.6805084287435085\n",
      "49  :  0.6805084282435433\n",
      "50  :  0.680508428116458\n",
      "51  :  0.6805084277747894\n",
      "52  :  0.6805084275837026\n",
      "53  :  0.6805084273677372\n",
      "54  :  0.6805084271304983\n",
      "55  :  0.6805084270134277\n",
      "56  :  0.6805084267444407\n",
      "57  :  0.6805084267042893\n",
      "58  :  0.6805084264150923\n",
      "59  :  0.6805084263450588\n",
      "60  :  0.6805084263272301\n",
      "61  :  0.6805084260963175\n",
      "62  :  0.6805084260388374\n",
      "63  :  0.6805084258808309\n",
      "64  :  0.6805084257938205\n",
      "65  :  0.680508425693719\n",
      "66  :  0.6805084255853958\n",
      "67  :  0.68050842553086\n",
      "68  :  0.680508425407857\n",
      "69  :  0.6805084253887719\n",
      "70  :  0.6805084252564029\n",
      "71  :  0.680508425223935\n",
      "72  :  0.6805084252162277\n",
      "73  :  0.6805084251095828\n",
      "74  :  0.6805084250835913\n",
      "75  :  0.6805084250105237\n",
      "76  :  0.6805084249709071\n",
      "77  :  0.6805084249245127\n",
      "78  :  0.6805084248750544\n",
      "79  :  0.6805084248496542\n",
      "80  :  0.6805084247934087\n",
      "81  :  0.6805084247843468\n",
      "82  :  0.6805084247237607\n",
      "83  :  0.6805084247087095\n",
      "84  :  0.6805084247053909\n",
      "85  :  0.680508424656139\n",
      "86  :  0.6805084246443893\n",
      "87  :  0.6805084246106015\n",
      "88  :  0.6805084245925653\n",
      "89  :  0.6805084245710643\n",
      "90  :  0.6805084245484835\n",
      "91  :  0.6805084245366553\n",
      "92  :  0.6805084245109365\n",
      "93  :  0.6805084245066383\n",
      "94  :  0.6805084244789082\n",
      "95  :  0.6805084244719313\n",
      "96  :  0.6805084244705091\n",
      "97  :  0.6805084244477635\n",
      "98  :  0.6805084244424533\n",
      "99  :  0.6805084244268298\n",
      "100  :  0.680508424418619\n",
      "101  :  0.6805084244086553\n"
     ]
    }
   ],
   "source": [
    "## Some experimentations\n",
    "\n",
    "print (\"total iterations \", trainingSummary.totalIterations)\n",
    "\n",
    "## Obtain the objective per iteration\n",
    "objectiveHistory = trainingSummary.objectiveHistory\n",
    "print(\"objectiveHistory:\")\n",
    "i = 0\n",
    "for objective in trainingSummary.objectiveHistory:\n",
    "    i = i+1\n",
    "    print(i, \" : \",  objective)\n"
   ]
  },
  {
   "cell_type": "markdown",
   "metadata": {},
   "source": [
    "** Q : increase the maxIterations to 100 (in step 3) and re-run again**  \n",
    "Does the accuracy improve?"
   ]
  },
  {
   "cell_type": "markdown",
   "metadata": {},
   "source": [
    "## Step 9: Visualize data and logit model\n",
    "\n",
    "Let's visualize the data and our model."
   ]
  },
  {
   "cell_type": "code",
   "execution_count": 21,
   "metadata": {
    "collapsed": true
   },
   "outputs": [
    {
     "data": {
      "text/plain": [
       "Text(0, 0.5, 'approved')"
      ]
     },
     "execution_count": 21,
     "metadata": {},
     "output_type": "execute_result"
    },
    {
     "data": {
      "image/png": "[encoded data removed]",
      "text/plain": [
       "<Figure size 432x288 with 1 Axes>"
      ]
     },
     "metadata": {
      "needs_background": "light"
     },
     "output_type": "display_data"
    }
   ],
   "source": [
    "plt.scatter(credit_approval.score, credit_approval.approved)\n",
    "plt.xlabel('score')\n",
    "plt.ylabel('approved')\n"
   ]
  },
  {
   "cell_type": "markdown",
   "metadata": {},
   "source": [
    "## Step 10: Let's create some new test data and make predictions"
   ]
  },
  {
   "cell_type": "code",
   "execution_count": 22,
   "metadata": {
    "collapsed": true
   },
   "outputs": [
    {
     "name": "stdout",
     "output_type": "stream",
     "text": [
      "   score\n",
      "0  600.0\n",
      "1  700.0\n",
      "2  750.0\n",
      "3  800.0\n",
      "+-----+--------+--------------------+--------------------+----------+\n",
      "|score|features|       rawPrediction|         probability|prediction|\n",
      "+-----+--------+--------------------+--------------------+----------+\n",
      "|600.0| [600.0]|[0.30599319350295...|[0.57590694504138...|       0.0|\n",
      "|700.0| [700.0]|[0.07394420033261...|[0.51847763160250...|       0.0|\n",
      "|750.0| [750.0]|[-0.0420802962525...|[0.48948147803162...|       1.0|\n",
      "|800.0| [800.0]|[-0.1581047928377...|[0.46055593326974...|       1.0|\n",
      "+-----+--------+--------------------+--------------------+----------+\n",
      "\n"
     ]
    }
   ],
   "source": [
    "newdata = pd.DataFrame({'score' : [600., 700., 750, 800.]\n",
    "             })\n",
    "print(newdata)\n",
    "\n",
    "spark_newdata = spark.createDataFrame(newdata)\n",
    "newfeatures = assembler.transform(spark_newdata)\n",
    "lrModel.transform(newfeatures).show()"
   ]
  },
  {
   "cell_type": "code",
   "execution_count": null,
   "metadata": {},
   "outputs": [],
   "source": []
  }
 ],
 "metadata": {
  "kernelspec": {
   "display_name": "Python 3",
   "language": "python",
   "name": "python3"
  },
  "language_info": {
   "codemirror_mode": {
    "name": "ipython",
    "version": 3
   },
   "file_extension": ".py",
   "mimetype": "text/x-python",
   "name": "python",
   "nbconvert_exporter": "python",
   "pygments_lexer": "ipython3",
   "version": "3.6.8"
  }
 },
 "nbformat": 4,
 "nbformat_minor": 2
}
