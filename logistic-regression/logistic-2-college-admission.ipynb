{
 "cells": [
  {
   "cell_type": "markdown",
   "metadata": {},
   "source": [
    "# Multiple Logistic Regression in Spark  - College Admission\n",
    "\n",
    "### Overview\n",
    "Predict college admission using Multiple Logistic Regression\n",
    " \n",
    "### Builds on\n",
    "None\n",
    "\n",
    "### Run time\n",
    "approx. 10-20 minutes\n",
    "\n",
    "### Notes\n",
    "\n"
   ]
  },
  {
   "cell_type": "code",
   "execution_count": 1,
   "metadata": {},
   "outputs": [
    {
     "name": "stdout",
     "output_type": "stream",
     "text": [
      "Initializing Spark...\n",
      "Spark found in :  /home/ubuntu/spark\n",
      "Spark config:\n",
      "\t spark.app.name=TestApp\n",
      "\tspark.master=local[*]\n",
      "\texecutor.memory=2g\n",
      "\tspark.sql.warehouse.dir=/tmp/tmpcqkt7r92\n",
      "\tsome_property=some_value\n",
      "Spark UI running on port 4040\n"
     ]
    },
    {
     "data": {
      "text/html": [
       "\n",
       "            <div>\n",
       "                <p><b>SparkSession - in-memory</b></p>\n",
       "                \n",
       "        <div>\n",
       "            <p><b>SparkContext</b></p>\n",
       "\n",
       "            <p><a href=\"http://ip-172-16-0-85.ec2.internal:4040\">Spark UI</a></p>\n",
       "\n",
       "            <dl>\n",
       "              <dt>Version</dt>\n",
       "                <dd><code>v2.4.0</code></dd>\n",
       "              <dt>Master</dt>\n",
       "                <dd><code>local[*]</code></dd>\n",
       "              <dt>AppName</dt>\n",
       "                <dd><code>TestApp</code></dd>\n",
       "            </dl>\n",
       "        </div>\n",
       "        \n",
       "            </div>\n",
       "        "
      ],
      "text/plain": [
       "<pyspark.sql.session.SparkSession at 0x7f95cdf6c2e8>"
      ]
     },
     "execution_count": 1,
     "metadata": {},
     "output_type": "execute_result"
    }
   ],
   "source": [
    "# initialize Spark Session\n",
    "import os\n",
    "import sys\n",
    "top_dir = os.path.abspath(os.path.join(os.getcwd(), \"../\"))\n",
    "if top_dir not in sys.path:\n",
    "    sys.path.append(top_dir)\n",
    "\n",
    "from init_spark import init_spark\n",
    "spark = init_spark()\n",
    "spark"
   ]
  },
  {
   "cell_type": "markdown",
   "metadata": {},
   "source": [
    "\n",
    "## Step 1: College Admission Data"
   ]
  },
  {
   "cell_type": "markdown",
   "metadata": {},
   "source": [
    "Let's look at the college admission data.  Here, we have some student test scores, GPA, and Rank, followed by whether the student was admitted or not.\n",
    "\n",
    "```\n",
    "|gre  |gpa  |rank |  admitted |\n",
    "|-----------------------------|\n",
    "|380  |3.61 | 3   |    no     |\n",
    "|660  |3.67 | 1   |    yes    |\n",
    "|800  |4.0  | 1   |    yes    |\n",
    "|640  |3.19 | 4   |    yes    |\n",
    "|520  |2.93 | 4   |    no     |\n",
    "|760  |3.0  | 2   |    yes    |\n",
    "```"
   ]
  },
  {
   "cell_type": "code",
   "execution_count": 2,
   "metadata": {
    "attributes": {
     "classes": [
      "R"
     ],
     "id": ""
    }
   },
   "outputs": [
    {
     "name": "stdout",
     "output_type": "stream",
     "text": [
      "root\n",
      " |-- admit: integer (nullable = true)\n",
      " |-- gre: integer (nullable = true)\n",
      " |-- gpa: double (nullable = true)\n",
      " |-- rank: integer (nullable = true)\n",
      "\n",
      "+-----+---+----+----+\n",
      "|admit|gre| gpa|rank|\n",
      "+-----+---+----+----+\n",
      "|    0|380|3.61|   3|\n",
      "|    1|660|3.67|   3|\n",
      "|    1|800| 4.0|   1|\n",
      "|    0|640|3.19|   4|\n",
      "|    0|520|2.93|   4|\n",
      "|    1|760| 3.0|   2|\n",
      "|    0|560|2.98|   1|\n",
      "|    0|400|3.08|   2|\n",
      "|    0|540|3.39|   3|\n",
      "|    1|700|3.92|   2|\n",
      "|    1|800| 4.0|   4|\n",
      "|    0|440|3.22|   1|\n",
      "|    1|760| 4.0|   1|\n",
      "|    1|700|3.08|   2|\n",
      "|    1|700| 4.0|   1|\n",
      "|    0|480|3.44|   3|\n",
      "|    1|780|3.87|   4|\n",
      "|    0|360|2.56|   3|\n",
      "|    1|800|3.75|   2|\n",
      "|    0|540|3.81|   1|\n",
      "+-----+---+----+----+\n",
      "only showing top 20 rows\n",
      "\n"
     ]
    }
   ],
   "source": [
    "admissions = spark.read.csv(\"/data/college-admissions/admission-data.csv\",\\\n",
    "                            header=True, inferSchema=True)\n",
    "admissions.printSchema()\n",
    "admissions.show()"
   ]
  },
  {
   "cell_type": "markdown",
   "metadata": {},
   "source": [
    "## Basic Exploration"
   ]
  },
  {
   "cell_type": "code",
   "execution_count": 3,
   "metadata": {},
   "outputs": [
    {
     "name": "stdout",
     "output_type": "stream",
     "text": [
      "+-----+-----+\n",
      "|admit|count|\n",
      "+-----+-----+\n",
      "|    1|   43|\n",
      "|    0|   57|\n",
      "+-----+-----+\n",
      "\n"
     ]
    }
   ],
   "source": [
    "# see the data spread\n",
    "admissions.groupBy(\"admit\").count().show()"
   ]
  },
  {
   "cell_type": "code",
   "execution_count": 4,
   "metadata": {},
   "outputs": [
    {
     "data": {
      "text/html": [
       "<div>\n",
       "<style scoped>\n",
       "    .dataframe tbody tr th:only-of-type {\n",
       "        vertical-align: middle;\n",
       "    }\n",
       "\n",
       "    .dataframe tbody tr th {\n",
       "        vertical-align: top;\n",
       "    }\n",
       "\n",
       "    .dataframe thead th {\n",
       "        text-align: right;\n",
       "    }\n",
       "</style>\n",
       "<table border=\"1\" class=\"dataframe\">\n",
       "  <thead>\n",
       "    <tr style=\"text-align: right;\">\n",
       "      <th></th>\n",
       "      <th>summary</th>\n",
       "      <th>admit</th>\n",
       "      <th>gre</th>\n",
       "      <th>gpa</th>\n",
       "      <th>rank</th>\n",
       "    </tr>\n",
       "  </thead>\n",
       "  <tbody>\n",
       "    <tr>\n",
       "      <th>0</th>\n",
       "      <td>count</td>\n",
       "      <td>100</td>\n",
       "      <td>100</td>\n",
       "      <td>100</td>\n",
       "      <td>100</td>\n",
       "    </tr>\n",
       "    <tr>\n",
       "      <th>1</th>\n",
       "      <td>mean</td>\n",
       "      <td>0.43</td>\n",
       "      <td>600.0</td>\n",
       "      <td>3.390699999999998</td>\n",
       "      <td>2.52</td>\n",
       "    </tr>\n",
       "    <tr>\n",
       "      <th>2</th>\n",
       "      <td>stddev</td>\n",
       "      <td>0.49756985195624304</td>\n",
       "      <td>124.46248065545332</td>\n",
       "      <td>0.3971877275408833</td>\n",
       "      <td>1.019803902718557</td>\n",
       "    </tr>\n",
       "    <tr>\n",
       "      <th>3</th>\n",
       "      <td>min</td>\n",
       "      <td>0</td>\n",
       "      <td>300</td>\n",
       "      <td>2.42</td>\n",
       "      <td>1</td>\n",
       "    </tr>\n",
       "    <tr>\n",
       "      <th>4</th>\n",
       "      <td>max</td>\n",
       "      <td>1</td>\n",
       "      <td>800</td>\n",
       "      <td>4.0</td>\n",
       "      <td>4</td>\n",
       "    </tr>\n",
       "  </tbody>\n",
       "</table>\n",
       "</div>"
      ],
      "text/plain": [
       "  summary                admit                 gre                 gpa  \\\n",
       "0   count                  100                 100                 100   \n",
       "1    mean                 0.43               600.0   3.390699999999998   \n",
       "2  stddev  0.49756985195624304  124.46248065545332  0.3971877275408833   \n",
       "3     min                    0                 300                2.42   \n",
       "4     max                    1                 800                 4.0   \n",
       "\n",
       "                rank  \n",
       "0                100  \n",
       "1               2.52  \n",
       "2  1.019803902718557  \n",
       "3                  1  \n",
       "4                  4  "
      ]
     },
     "execution_count": 4,
     "metadata": {},
     "output_type": "execute_result"
    }
   ],
   "source": [
    "## see each column \n",
    "admissions.describe().toPandas()"
   ]
  },
  {
   "cell_type": "markdown",
   "metadata": {},
   "source": [
    "## Step 2: Prepare feature vector\n",
    "\n",
    "We need to firstconvert the dataframe to spark, and then prepare the feature vector.\n"
   ]
  },
  {
   "cell_type": "code",
   "execution_count": 5,
   "metadata": {},
   "outputs": [],
   "source": [
    "from pyspark.ml.feature import VectorAssembler\n",
    "\n",
    "## TODO: Select all columns except for \"admit\" to be in features **\n",
    "## Hint : select columns 'gpa', 'gre', 'rank'\n",
    "assembler = VectorAssembler(inputCols=[\"gpa\", \"gre\",\"rank\"], outputCol=\"features\")\n",
    "featureVector = assembler.transform(admissions)"
   ]
  },
  {
   "cell_type": "code",
   "execution_count": 6,
   "metadata": {},
   "outputs": [
    {
     "name": "stdout",
     "output_type": "stream",
     "text": [
      "+-----+---+----+----+----------------+-----+\n",
      "|admit|gre| gpa|rank|        features|label|\n",
      "+-----+---+----+----+----------------+-----+\n",
      "|    0|380|3.61|   3|[3.61,380.0,3.0]|    0|\n",
      "|    1|660|3.67|   3|[3.67,660.0,3.0]|    1|\n",
      "|    1|800| 4.0|   1| [4.0,800.0,1.0]|    1|\n",
      "|    0|640|3.19|   4|[3.19,640.0,4.0]|    0|\n",
      "|    0|520|2.93|   4|[2.93,520.0,4.0]|    0|\n",
      "|    1|760| 3.0|   2| [3.0,760.0,2.0]|    1|\n",
      "|    0|560|2.98|   1|[2.98,560.0,1.0]|    0|\n",
      "|    0|400|3.08|   2|[3.08,400.0,2.0]|    0|\n",
      "|    0|540|3.39|   3|[3.39,540.0,3.0]|    0|\n",
      "|    1|700|3.92|   2|[3.92,700.0,2.0]|    1|\n",
      "|    1|800| 4.0|   4| [4.0,800.0,4.0]|    1|\n",
      "|    0|440|3.22|   1|[3.22,440.0,1.0]|    0|\n",
      "|    1|760| 4.0|   1| [4.0,760.0,1.0]|    1|\n",
      "|    1|700|3.08|   2|[3.08,700.0,2.0]|    1|\n",
      "|    1|700| 4.0|   1| [4.0,700.0,1.0]|    1|\n",
      "|    0|480|3.44|   3|[3.44,480.0,3.0]|    0|\n",
      "|    1|780|3.87|   4|[3.87,780.0,4.0]|    1|\n",
      "|    0|360|2.56|   3|[2.56,360.0,3.0]|    0|\n",
      "|    1|800|3.75|   2|[3.75,800.0,2.0]|    1|\n",
      "|    0|540|3.81|   1|[3.81,540.0,1.0]|    0|\n",
      "+-----+---+----+----+----------------+-----+\n",
      "only showing top 20 rows\n",
      "\n"
     ]
    }
   ],
   "source": [
    "## TODO: Make a new column called \"label\" with same value as \"admit\"\n",
    "## Hint : featureVector is 'admit'\n",
    "featureVector = featureVector.withColumn(\"label\",featureVector[\"admit\"])\n",
    "featureVector.show()"
   ]
  },
  {
   "cell_type": "markdown",
   "metadata": {},
   "source": [
    "## Step 3: Split Data into training and Test\n",
    "\n",
    "We will split our data into training and test so we can see how it performs."
   ]
  },
  {
   "cell_type": "code",
   "execution_count": 7,
   "metadata": {},
   "outputs": [
    {
     "name": "stdout",
     "output_type": "stream",
     "text": [
      "train dataset count :  61\n",
      "test dataset count :  39\n",
      "training data set\n",
      "+-----+---+----+----+----------------+-----+\n",
      "|admit|gre| gpa|rank|        features|label|\n",
      "+-----+---+----+----+----------------+-----+\n",
      "|    0|360|3.14|   1|[3.14,360.0,1.0]|    0|\n",
      "|    0|380|2.94|   3|[2.94,380.0,3.0]|    0|\n",
      "|    0|380|3.61|   3|[3.61,380.0,3.0]|    0|\n",
      "|    0|400|3.08|   2|[3.08,400.0,2.0]|    0|\n",
      "|    0|400|3.31|   3|[3.31,400.0,3.0]|    0|\n",
      "|    0|400|3.35|   3|[3.35,400.0,3.0]|    0|\n",
      "|    0|440|2.48|   4|[2.48,440.0,4.0]|    0|\n",
      "|    0|440|3.13|   4|[3.13,440.0,4.0]|    0|\n",
      "|    0|440|3.22|   1|[3.22,440.0,1.0]|    0|\n",
      "|    0|480|3.44|   3|[3.44,480.0,3.0]|    0|\n",
      "+-----+---+----+----+----------------+-----+\n",
      "only showing top 10 rows\n",
      "\n",
      "test data set\n",
      "+-----+---+----+----+----------------+-----+\n",
      "|admit|gre| gpa|rank|        features|label|\n",
      "+-----+---+----+----+----------------+-----+\n",
      "|    0|300|2.92|   4|[2.92,300.0,4.0]|    0|\n",
      "|    0|360|2.56|   3|[2.56,360.0,3.0]|    0|\n",
      "|    0|380|2.91|   4|[2.91,380.0,4.0]|    0|\n",
      "|    0|400|3.05|   2|[3.05,400.0,2.0]|    0|\n",
      "|    0|400|3.65|   2|[3.65,400.0,2.0]|    0|\n",
      "|    0|480|3.39|   4|[3.39,480.0,4.0]|    0|\n",
      "|    0|500|2.71|   2|[2.71,500.0,2.0]|    0|\n",
      "|    0|500|3.31|   3|[3.31,500.0,3.0]|    0|\n",
      "|    0|520| 2.9|   3| [2.9,520.0,3.0]|    0|\n",
      "|    0|520|2.93|   4|[2.93,520.0,4.0]|    0|\n",
      "+-----+---+----+----+----------------+-----+\n",
      "only showing top 10 rows\n",
      "\n"
     ]
    }
   ],
   "source": [
    "## TODO : Split the data into train and test 70%  and 30%\n",
    "## Hint : \n",
    "##     - training split is 70%  --> 0.7\n",
    "##     - testing split  is 30%  --> 0.3\n",
    "(train, test) = featureVector.randomSplit([0.7,  0.3])\n",
    "#(train, test) = featureVector.randomSplit([???,  ???], seed=1)\n",
    "\n",
    "## print out record count\n",
    "print (\"train dataset count : \" , train.count())\n",
    "print (\"test dataset count : \" , test.count())\n",
    "\n",
    "print(\"training data set\")\n",
    "train.show(10)\n",
    "\n",
    "print(\"test data set\")\n",
    "test.show(10)"
   ]
  },
  {
   "cell_type": "markdown",
   "metadata": {},
   "source": [
    "\n",
    "## Step 4: Run logistic regression"
   ]
  },
  {
   "cell_type": "code",
   "execution_count": 12,
   "metadata": {},
   "outputs": [
    {
     "name": "stdout",
     "output_type": "stream",
     "text": [
      "Coefficients: [1.5750874941007926,0.0097960932331206,-0.06400457973787427]\n",
      "Intercept: -11.370944970705775\n"
     ]
    }
   ],
   "source": [
    "from pyspark.ml.classification import LogisticRegression\n",
    "\n",
    "## TODO : set maxIter to 10\n",
    "#lr = LogisticRegression(maxIter=???)\n",
    "lr = LogisticRegression(maxIter=100, regParam=0, elasticNetParam=0.8)\n",
    "\n",
    "## TODO : Fit the model on 'training' set\n",
    "lrModel = lr.fit(train)\n",
    "\n",
    "# Print the coefficients and intercept for logistic regression\n",
    "print(\"Coefficients: \" + str(lrModel.coefficients))\n",
    "print(\"Intercept: \" + str(lrModel.intercept))"
   ]
  },
  {
   "cell_type": "markdown",
   "metadata": {},
   "source": [
    "**==> Q : Do any of your coefficients zero?  What is the implication?**  \n",
    "If you see ZERO coefficients, try the following:\n",
    "- increase the number of iterations and run again\n",
    "- turn off regularization by setting `regparam=0`"
   ]
  },
  {
   "cell_type": "markdown",
   "metadata": {},
   "source": [
    "## Step 5: Predict on Test data"
   ]
  },
  {
   "cell_type": "code",
   "execution_count": 13,
   "metadata": {},
   "outputs": [
    {
     "name": "stdout",
     "output_type": "stream",
     "text": [
      "+-----+---+----+----+----------------+-----+--------------------+--------------------+----------+\n",
      "|admit|gre| gpa|rank|        features|label|       rawPrediction|         probability|prediction|\n",
      "+-----+---+----+----+----------------+-----+--------------------+--------------------+----------+\n",
      "|    0|300|2.92|   4|[2.92,300.0,4.0]|    0|[4.08887983694677...|[0.98351820706387...|       0.0|\n",
      "|    0|360|2.56|   3|[2.56,360.0,3.0]|    0|[4.00414116109795...|[0.98208678833377...|       0.0|\n",
      "|    0|380|2.91|   4|[2.91,380.0,4.0]|    0|[3.32094325323813...|[0.96514034064485...|       0.0|\n",
      "|    0|400|3.05|   2|[3.05,400.0,2.0]|    0|[2.77649997992586...|[0.94139263752266...|       0.0|\n",
      "|    0|400|3.65|   2|[3.65,400.0,2.0]|    0|[1.83144748346539...|[0.86193407301532...|       0.0|\n",
      "|    0|480|3.39|   4|[3.39,480.0,4.0]|    0|[1.58529193275769...|[0.82995267956234...|       0.0|\n",
      "|    0|500|2.71|   2|[2.71,500.0,2.0]|    0|[2.33242040460807...|[0.91152672662299...|       0.0|\n",
      "|    0|500|3.31|   3|[3.31,500.0,3.0]|    0|[1.45137248788547...|[0.81020957133728...|       0.0|\n",
      "|    0|520| 2.9|   3| [2.9,520.0,3.0]|    0|[1.90123649580438...|[0.87003140855674...|       0.0|\n",
      "|    0|520|2.93|   4|[2.93,520.0,4.0]|    0|[1.91798845071923...|[0.87191395184802...|       0.0|\n",
      "|    0|520|2.98|   2|[2.98,520.0,2.0]|    0|[1.71122491653845...|[0.84699509404520...|       0.0|\n",
      "|    0|540|3.12|   1|[3.12,540.0,1.0]|    0|[1.23078622296405...|[0.77395615205147...|       0.0|\n",
      "|    0|540|3.39|   3|[3.39,540.0,3.0]|    0|[0.93352175903258...|[0.71778922751326...|       0.0|\n",
      "|    0|540|3.78|   4|[3.78,540.0,4.0]|    0|[0.38324221607115...|[0.59465484741280...|       0.0|\n",
      "|    0|560|2.98|   1|[2.98,560.0,1.0]|    0|[1.25537660747575...|[0.77822918986143...|       0.0|\n",
      "|    0|560|3.19|   3|[3.19,560.0,3.0]|    0|[1.05261739319033...|[0.74127719368265...|       0.0|\n",
      "|    0|560|3.36|   3|[3.36,560.0,3.0]|    0|[0.78485251919319...|[0.68672499941502...|       0.0|\n",
      "|    0|600|3.59|   2|[3.59,600.0,2.0]|    0|[-0.0332659135126...|[0.49168428846943...|       1.0|\n",
      "|    0|620|3.07|   2|[3.07,620.0,2.0]|    0|[0.58985771875731...|[0.64333249910462...|       0.0|\n",
      "|    0|620| 3.3|   1| [3.3,620.0,1.0]|    0|[0.16358301537626...|[0.54080480172252...|       0.0|\n",
      "+-----+---+----+----+----------------+-----+--------------------+--------------------+----------+\n",
      "only showing top 20 rows\n",
      "\n",
      "+-----+---+----+----+----------------+-----+--------------------+--------------------+----------+\n",
      "|admit|gre| gpa|rank|        features|label|       rawPrediction|         probability|prediction|\n",
      "+-----+---+----+----+----------------+-----+--------------------+--------------------+----------+\n",
      "|    0|360|2.56|   3|[2.56,360.0,3.0]|    0|[4.00414116109795...|[0.98208678833377...|       0.0|\n",
      "|    0|520| 2.9|   3| [2.9,520.0,3.0]|    0|[1.90123649580438...|[0.87003140855674...|       0.0|\n",
      "|    0|520|2.93|   4|[2.93,520.0,4.0]|    0|[1.91798845071923...|[0.87191395184802...|       0.0|\n",
      "|    0|520|2.98|   2|[2.98,520.0,2.0]|    0|[1.71122491653845...|[0.84699509404520...|       0.0|\n",
      "|    0|540|3.78|   4|[3.78,540.0,4.0]|    0|[0.38324221607115...|[0.59465484741280...|       0.0|\n",
      "|    0|560|3.19|   3|[3.19,560.0,3.0]|    0|[1.05261739319033...|[0.74127719368265...|       0.0|\n",
      "|    0|560|3.36|   3|[3.36,560.0,3.0]|    0|[0.78485251919319...|[0.68672499941502...|       0.0|\n",
      "|    0|600|3.59|   2|[3.59,600.0,2.0]|    0|[-0.0332659135126...|[0.49168428846943...|       1.0|\n",
      "|    0|620| 3.3|   1| [3.3,620.0,1.0]|    0|[0.16358301537626...|[0.54080480172252...|       0.0|\n",
      "|    0|640|3.52|   4|[3.52,640.0,4.0]|    0|[-0.1868443587747...|[0.45342433107627...|       1.0|\n",
      "|    0|660|3.33|   2|[3.33,660.0,2.0]|    0|[-0.2115087590337...|[0.44731905831956...|       1.0|\n",
      "|    1|700|3.28|   1|[3.28,700.0,1.0]|    1|[-0.5886026933913...|[0.35695552551185...|       1.0|\n",
      "|    1|700|3.83|   2|[3.83,700.0,2.0]|    1|[-1.3908962354089...|[0.19926471651600...|       1.0|\n",
      "|    1|700| 4.0|   1| [4.0,700.0,1.0]|    1|[-1.7226656891439...|[0.15152812461009...|       1.0|\n",
      "|    1|760| 3.0|   2| [3.0,760.0,2.0]|    1|[-0.6713392092925...|[0.33819703432097...|       1.0|\n",
      "|    1|800|3.66|   1|[3.66,800.0,1.0]|    1|[-2.1667452644617...|[0.10277677689660...|       1.0|\n",
      "|    1|800|3.73|   1|[3.73,800.0,1.0]|    1|[-2.2770013890487...|[0.09304569186523...|       1.0|\n",
      "|    1|800|3.75|   2|[3.75,800.0,2.0]|    1|[-2.2444985591929...|[0.09582506543841...|       1.0|\n",
      "|    1|800| 4.0|   1| [4.0,800.0,1.0]|    1|[-2.7022750124560...|[0.06283924617149...|       1.0|\n",
      "+-----+---+----+----+----------------+-----+--------------------+--------------------+----------+\n",
      "\n"
     ]
    }
   ],
   "source": [
    "## TODO : predict on 'test' data\n",
    "predictions_test = lrModel.transform(test)\n",
    "predictions_test.show()\n",
    "# sample a few 0 and 1\n",
    "predictions_test.sampleBy(\"prediction\", fractions={0: 0.5, 1: 0.5}, seed=0).show()"
   ]
  },
  {
   "cell_type": "markdown",
   "metadata": {},
   "source": [
    "## Step 6: Evaluate Model"
   ]
  },
  {
   "cell_type": "code",
   "execution_count": 22,
   "metadata": {},
   "outputs": [
    {
     "name": "stdout",
     "output_type": "stream",
     "text": [
      "24\n"
     ]
    }
   ],
   "source": [
    "trainingSummary = lrModel.summary\n",
    "\n",
    "\n",
    "predictions_test = lrModel.transform(test)  # Hint : 'test'\n",
    "predictions_train = lrModel.transform(train) #  Hint : 'train'\n",
    "# predictions_test.show()\n",
    "# predictions_train.show()\n",
    "# # we can also get this from trainingSummary\n",
    "print(trainingSummary.totalIterations)\n",
    "predictions_train = lrModel.summary.predictions"
   ]
  },
  {
   "cell_type": "markdown",
   "metadata": {},
   "source": [
    "### 6.1 - Iterations and Objective History\n",
    "**==> Q : how many iterations did we do?**  \n",
    "- What does that tell you?\n",
    "- Increase the total number of iterations from 50 to 100, Does it change the results?"
   ]
  },
  {
   "cell_type": "code",
   "execution_count": 23,
   "metadata": {},
   "outputs": [
    {
     "name": "stdout",
     "output_type": "stream",
     "text": [
      "total iterations  24\n",
      "objectiveHistory: [0.686548401565666, 0.6840215003588693, 0.6723974989517935, 0.6214545358265681, 0.6144566689129577, 0.6128114988351265, 0.6103541812453439, 0.6067058364793884, 0.5968340263357459, 0.5780628380542397, 0.5495703280304511, 0.5232841411945495, 0.5151892853861905, 0.5095752591633107, 0.5087476512164204, 0.5085530351752808, 0.5085503235755747, 0.5085503203509044, 0.508550319853883, 0.5085503155578535, 0.5085503140001166, 0.5085503136340636, 0.5085503136288624, 0.5085503136287922]\n"
     ]
    }
   ],
   "source": [
    "## trainingSummary has an attribute called 'totalIterations'  \n",
    "## Hint : use the TAB completion\n",
    "print (\"total iterations \", trainingSummary.totalIterations)\n",
    "\n",
    "## you can uncomment this and see how the error is diminishing in each iteration\n",
    "print(\"objectiveHistory:\" , trainingSummary.objectiveHistory)\n",
    "# for objective in trainingSummary.objectiveHistory:\n",
    "#     print(objective)"
   ]
  },
  {
   "cell_type": "markdown",
   "metadata": {},
   "source": [
    "### 6.2 - accuracy"
   ]
  },
  {
   "cell_type": "code",
   "execution_count": 24,
   "metadata": {},
   "outputs": [
    {
     "name": "stdout",
     "output_type": "stream",
     "text": [
      "Training set accuracy =  0.7377049180327869\n",
      "Test set accuracy =  0.8717948717948718\n"
     ]
    }
   ],
   "source": [
    "from pyspark.ml.evaluation import MulticlassClassificationEvaluator\n",
    "\n",
    "evaluator = MulticlassClassificationEvaluator(labelCol=\"label\", predictionCol=\"prediction\",\n",
    "                                              metricName=\"accuracy\")\n",
    "\n",
    "print(\"Training set accuracy = \" , evaluator.evaluate(predictions_train))\n",
    "print(\"Test set accuracy = \" , evaluator.evaluate(predictions_test))"
   ]
  },
  {
   "cell_type": "markdown",
   "metadata": {},
   "source": [
    "### 6.3 Confusion Matrix"
   ]
  },
  {
   "cell_type": "code",
   "execution_count": 25,
   "metadata": {},
   "outputs": [
    {
     "name": "stdout",
     "output_type": "stream",
     "text": [
      "+-----+---+---+\n",
      "|admit|0.0|1.0|\n",
      "+-----+---+---+\n",
      "|    0| 19|  4|\n",
      "|    1|  1| 15|\n",
      "+-----+---+---+\n",
      "\n"
     ]
    }
   ],
   "source": [
    "cm = predictions_test.groupBy('admit').pivot('prediction').count().na.fill(0).orderBy('admit')\n",
    "cm.show()"
   ]
  },
  {
   "cell_type": "code",
   "execution_count": 26,
   "metadata": {},
   "outputs": [
    {
     "data": {
      "text/plain": [
       "[]"
      ]
     },
     "execution_count": 26,
     "metadata": {},
     "output_type": "execute_result"
    }
   ],
   "source": [
    "import seaborn as sns\n",
    "\n",
    "cm_pd = cm.toPandas()\n",
    "cm_pd.set_index(\"admit\", inplace=True)\n",
    "# print(cm_pd)\n",
    "\n",
    "# colormaps : cmap=\"YlGnBu\" , cmap=\"Greens\", cmap=\"Blues\",  cmap=\"Reds\"\n",
    "sns.heatmap(cm_pd, annot=True, cmap=\"Blues\").plot()"
   ]
  },
  {
   "cell_type": "markdown",
   "metadata": {},
   "source": [
    "### 6.4 :  ROC Curve & AUC"
   ]
  },
  {
   "cell_type": "code",
   "execution_count": 27,
   "metadata": {},
   "outputs": [
    {
     "name": "stdout",
     "output_type": "stream",
     "text": [
      "AUC for training:  0.814814814814815\n",
      "AUC for training:  0.814814814814815\n",
      "AUC for test :  0.967391304347826\n"
     ]
    }
   ],
   "source": [
    "from pyspark.ml.evaluation import BinaryClassificationEvaluator\n",
    "\n",
    "# default metrics for BinaryClassificationEvaluator is 'areaUnderCurve'\n",
    "evaluator = BinaryClassificationEvaluator(rawPredictionCol=\"rawPrediction\")\n",
    "# print (\"default metrics : \" ,evaluator.getMetricName())\n",
    "\n",
    "# Area Under Curve is part of training summary\n",
    "# use TAB completion :  trainingSummary.TAB\n",
    "# we can get this from trainingSummary\n",
    "print(\"AUC for training: \" , trainingSummary.areaUnderROC)\n",
    "# or\n",
    "print(\"AUC for training: \" , evaluator.evaluate(predictions_train))\n",
    "print (\"AUC for test : \" , evaluator.evaluate(predictions_test))\n"
   ]
  },
  {
   "cell_type": "code",
   "execution_count": 28,
   "metadata": {},
   "outputs": [
    {
     "data": {
      "text/plain": [
       "[<matplotlib.lines.Line2D at 0x7f95c2292ba8>]"
      ]
     },
     "execution_count": 28,
     "metadata": {},
     "output_type": "execute_result"
    },
    {
     "data": {
      "image/png": "[encoded data removed]",
      "text/plain": [
       "<Figure size 432x288 with 1 Axes>"
      ]
     },
     "metadata": {
      "needs_background": "light"
     },
     "output_type": "display_data"
    }
   ],
   "source": [
    "# ROC\n",
    "\n",
    "%matplotlib inline\n",
    "import matplotlib.pyplot as plt\n",
    "\n",
    "roc_df = trainingSummary.roc.toPandas()\n",
    "\n",
    "plt.plot(roc_df['FPR'], roc_df['TPR'])\n",
    "plt.xlabel(\"FPR\")\n",
    "plt.ylabel(\"TPR\")\n",
    "plt.title(\"ROC Curve\")\n",
    "plt.plot([0.0, 1.0], [0.0, 1.0], 'r')"
   ]
  },
  {
   "cell_type": "markdown",
   "metadata": {},
   "source": [
    "## Step 7: Run some predictions on new data\n",
    "\n",
    "Let's take some new data, and run predictions on that.\n"
   ]
  },
  {
   "cell_type": "code",
   "execution_count": 29,
   "metadata": {},
   "outputs": [
    {
     "name": "stdout",
     "output_type": "stream",
     "text": [
      "   gre  gpa  rank\n",
      "0  600  4.0     1\n",
      "1  700  3.5     2\n",
      "2  800  3.2     3\n",
      "+---+---+----+---------------+--------------------+--------------------+----------+\n",
      "|gre|gpa|rank|       features|       rawPrediction|         probability|prediction|\n",
      "+---+---+----+---------------+--------------------+--------------------+----------+\n",
      "|600|4.0|   1|[4.0,600.0,1.0]|[-0.7430563658318...|[0.32233616257916...|       1.0|\n",
      "|700|3.5|   2|[3.5,700.0,2.0]|[-0.8711173623556...|[0.29502185533997...|       1.0|\n",
      "|800|3.2|   3|[3.2,800.0,3.0]|[-1.3141958576996...|[0.21178557231955...|       1.0|\n",
      "+---+---+----+---------------+--------------------+--------------------+----------+\n",
      "\n"
     ]
    }
   ],
   "source": [
    "import pandas as pd\n",
    "\n",
    "newdata = pd.DataFrame({'gre' : [600, 700, 800], \n",
    "                        'gpa' : [4.0, 3.5, 3.2],\n",
    "                        'rank': [1,   2,   3]}\n",
    "             )\n",
    "print(newdata)\n",
    "\n",
    "\n",
    "## TODO: create spark dataframe from pandas dataframe\n",
    "## Hint : input is 'newdata'\n",
    "spark_newdata = spark.createDataFrame(newdata)\n",
    "\n",
    "## TODO: transform the new data in order to get feature vectors\n",
    "## Hint : spark_newdata\n",
    "newfeatures = assembler.transform(spark_newdata)\n",
    "\n",
    "lrModel.transform(newfeatures).show()"
   ]
  },
  {
   "cell_type": "markdown",
   "metadata": {},
   "source": [
    "## Step 8: Experiment\n",
    "Click on 'Cell --> RunAll' and watch the accuracy number below.  \n",
    "See how it changes?  \n",
    "Can you explain why?"
   ]
  },
  {
   "cell_type": "code",
   "execution_count": 30,
   "metadata": {},
   "outputs": [
    {
     "name": "stdout",
     "output_type": "stream",
     "text": [
      "Training set accuracy =  0.7377049180327869\n",
      "Test set accuracy =  0.8717948717948718\n"
     ]
    }
   ],
   "source": [
    "from pyspark.ml.evaluation import MulticlassClassificationEvaluator\n",
    "\n",
    "evaluator = MulticlassClassificationEvaluator(labelCol=\"label\", predictionCol=\"prediction\",\n",
    "                                              metricName=\"accuracy\")\n",
    "\n",
    "print(\"Training set accuracy = \" , evaluator.evaluate(predictions_train))\n",
    "print(\"Test set accuracy = \" , evaluator.evaluate(predictions_test))"
   ]
  },
  {
   "cell_type": "markdown",
   "metadata": {},
   "source": [
    "### 8.1 - Why do you think the accuracy varies for each run?  \n",
    "\n",
    "Try this, at Step-3, supply a seed parameter (can be any number) and do the run again.  \n",
    "Do you see the accuracy varying now?  \n",
    "Can you explain the behavior?"
   ]
  },
  {
   "cell_type": "markdown",
   "metadata": {},
   "source": [
    "### 8.2 - Adjust regularization (lambda) parameter\n",
    "Vary 'regparam' in **step 4** from 0.1 to 0.9.  \n",
    "Do you see accuracy changing?"
   ]
  },
  {
   "cell_type": "markdown",
   "metadata": {},
   "source": [
    "### 8.3 - Set threshold\n",
    "We can setup 'threshold' in Step-4, as follows\n",
    "\n",
    "```python\n",
    "lr = LogisticRegression(maxIter=???, regParam=0.3, elasticNetParam=0.8)\n",
    "lr.threshold = 0.7  # values between 0 and 1.0\n",
    "```\n",
    "\n",
    "Change the threshold and try a few runs.  See how the accuracy changes."
   ]
  },
  {
   "cell_type": "markdown",
   "metadata": {},
   "source": [
    "### 8.4 - Class discussion\n",
    "How do you find the right 'lambda' ..etc values?  \n",
    "Hint : lots of experimental runs :-) "
   ]
  },
  {
   "cell_type": "markdown",
   "metadata": {},
   "source": [
    "## Step 9 : Save Output\n",
    "**TODO : Inspect the saved data**  \n",
    "(Hint : you can open them in excel)"
   ]
  },
  {
   "cell_type": "code",
   "execution_count": 31,
   "metadata": {},
   "outputs": [
    {
     "name": "stdout",
     "output_type": "stream",
     "text": [
      "save 1 (spark)  to :  college-admissions-predictions.out1\n",
      "save 2 (pandas) to :  college-admissions-predictions.out2.csv\n"
     ]
    }
   ],
   "source": [
    "# save data to a csv file for inspection\n",
    "predictions2 = predictions_test.select(['admit', 'gre', 'gpa', 'rank', 'prediction'])\n",
    "\n",
    "## option1 : use Spark write function\n",
    "## this works for big data (writes are distributed across cluster)\n",
    "output_path1=\"college-admissions-predictions.out1\"\n",
    "predictions2.write.\\\n",
    "    option('header', 'true').\\\n",
    "    mode('overwrite').\\\n",
    "    csv(output_path1)\n",
    "print(\"save 1 (spark)  to : \", output_path1)\n",
    "\n",
    "\n",
    "## Option 2 : convert to Pandas dataframe and save\n",
    "## This is good for small amount of data\n",
    "output_path2= 'college-admissions-predictions.out2.csv'\n",
    "predictions2.toPandas().to_csv(output_path2 )\n",
    "print(\"save 2 (pandas) to : \", output_path2)"
   ]
  },
  {
   "cell_type": "code",
   "execution_count": null,
   "metadata": {},
   "outputs": [],
   "source": []
  }
 ],
 "metadata": {
  "kernelspec": {
   "display_name": "Python 3",
   "language": "python",
   "name": "python3"
  },
  "language_info": {
   "codemirror_mode": {
    "name": "ipython",
    "version": 3
   },
   "file_extension": ".py",
   "mimetype": "text/x-python",
   "name": "python",
   "nbconvert_exporter": "python",
   "pygments_lexer": "ipython3",
   "version": "3.6.8"
  }
 },
 "nbformat": 4,
 "nbformat_minor": 2
}
