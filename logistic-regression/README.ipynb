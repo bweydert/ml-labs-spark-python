{
 "cells": [
  {
   "cell_type": "markdown",
   "metadata": {},
   "source": [
    "<link rel='stylesheet' href='assets/css/main.css'/>\n",
    "\n",
    "[<< back to main index](../README.md)\n",
    "\n",
    "# Machine Learning With Spark: Linear Regression\n",
    "\n",
    "## Intro\n",
    "\n",
    "These labs explore logistic regression in spark\n",
    "\n",
    "\n",
    "Labs\n",
    "----\n",
    " * 1. Logistic Regression Intro - [Jupyter Notebook](1-credit-approval.ipynb)\n",
    " * 2. Logistic Regression: College Admission - [Jupyter Notebook](2-college-admission.ipynb)\n",
    "\n",
    "\n",
    "[<< back to main index](../README.md)"
   ]
  }
 ],
 "metadata": {},
 "nbformat": 4,
 "nbformat_minor": 0
}
