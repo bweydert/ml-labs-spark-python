{
 "cells": [
  {
   "cell_type": "markdown",
   "metadata": {},
   "source": [
    "<link rel='stylesheet' href='../assets/css/main.css'/>\n",
    "\n",
    "[<< back to main index](../README.md)\n",
    "\n",
    "# Logistic Regression in Spark  - Credit Card Approval (Demo)\n",
    "\n",
    "### Overview\n",
    "Instructor to demo this on screen.\n",
    " \n",
    "### Builds on\n",
    "None\n",
    "\n",
    "### Run time\n",
    "approx. 20-30 minutes\n",
    "\n",
    "### Notes\n",
    "\n",
    "Spark has a logistic regression function called Logistic Regression."
   ]
  },
  {
   "cell_type": "code",
   "execution_count": 11,
   "metadata": {
    "attributes": {
     "classes": [
      "R"
     ],
     "id": ""
    },
    "collapsed": true
   },
   "outputs": [],
   "source": [
    "%matplotlib inline\n",
    "import numpy as np\n",
    "import matplotlib.pyplot as plt\n",
    "import pandas as pd\n",
    "from pyspark.ml.classification import LogisticRegression\n",
    "from pyspark.ml.feature import VectorAssembler"
   ]
  },
  {
   "cell_type": "markdown",
   "metadata": {},
   "source": [
    "## Sigmoid Curve\n",
    "\n",
    "Let's generate a sigmoid curve in python!"
   ]
  },
  {
   "cell_type": "code",
   "execution_count": 3,
   "metadata": {
    "attributes": {
     "classes": [
      "R"
     ],
     "id": ""
    }
   },
   "outputs": [
    {
     "data": {
      "text/plain": [
       "<matplotlib.text.Text at 0x7f6002702940>"
      ]
     },
     "execution_count": 3,
     "metadata": {},
     "output_type": "execute_result"
    },
    {
     "data": {
      "image/png": "[encoded data removed]",
      "text/plain": [
       "<matplotlib.figure.Figure at 0x7f6002946be0>"
      ]
     },
     "metadata": {},
     "output_type": "display_data"
    }
   ],
   "source": [
    "import numpy as np\n",
    "# plot sigmoid curve\n",
    "x = np.arange(-10.,10.,1.)\n",
    "b = 0 # intercept\n",
    "m = 1 # slope\n",
    "sigmoid = lambda x,b,m: np.exp((b + m*x)) / (1 + np.exp((b + m*x)))\n",
    "y = sigmoid(x,b,m)\n",
    "plt.scatter(x,y)\n",
    "plt.title(\"Sigmoid (Logistic) Function\")"
   ]
  },
  {
   "cell_type": "markdown",
   "metadata": {},
   "source": [
    "\n",
    "## Step 1: Credit Approval Data"
   ]
  },
  {
   "cell_type": "markdown",
   "metadata": {},
   "source": [
    "Here is the sample data we are looking at:\n",
    "\n",
    "| score | approved | \n",
    "|-------|----------| \n",
    "| 550   | 0        | \n",
    "| 750   | 1        | \n",
    "| 680   | 1        | \n",
    "| 650   | 0        | \n",
    "| 450   | 0        | \n",
    "| 800   | 1        | \n",
    "| 775   | 1        | \n",
    "| 525   | 0        | \n",
    "| 620   | 0        | \n",
    "| 705   | 0        | \n",
    "| 830   | 1        | \n",
    "| 610   | 1        | \n",
    "| 690   | 0        | \n"
   ]
  },
  {
   "cell_type": "markdown",
   "metadata": {},
   "source": [
    "## Step 2: Let's visualize the data"
   ]
  },
  {
   "cell_type": "code",
   "execution_count": 4,
   "metadata": {
    "attributes": {
     "classes": [
      "R"
     ],
     "id": ""
    }
   },
   "outputs": [
    {
     "data": {
      "text/html": [
       "<div>\n",
       "<style>\n",
       "    .dataframe thead tr:only-child th {\n",
       "        text-align: right;\n",
       "    }\n",
       "\n",
       "    .dataframe thead th {\n",
       "        text-align: left;\n",
       "    }\n",
       "\n",
       "    .dataframe tbody tr th {\n",
       "        vertical-align: top;\n",
       "    }\n",
       "</style>\n",
       "<table border=\"1\" class=\"dataframe\">\n",
       "  <thead>\n",
       "    <tr style=\"text-align: right;\">\n",
       "      <th></th>\n",
       "      <th>approved</th>\n",
       "      <th>score</th>\n",
       "    </tr>\n",
       "  </thead>\n",
       "  <tbody>\n",
       "    <tr>\n",
       "      <th>0</th>\n",
       "      <td>0</td>\n",
       "      <td>550.0</td>\n",
       "    </tr>\n",
       "    <tr>\n",
       "      <th>1</th>\n",
       "      <td>1</td>\n",
       "      <td>750.0</td>\n",
       "    </tr>\n",
       "    <tr>\n",
       "      <th>2</th>\n",
       "      <td>1</td>\n",
       "      <td>680.0</td>\n",
       "    </tr>\n",
       "    <tr>\n",
       "      <th>3</th>\n",
       "      <td>0</td>\n",
       "      <td>650.0</td>\n",
       "    </tr>\n",
       "    <tr>\n",
       "      <th>4</th>\n",
       "      <td>0</td>\n",
       "      <td>450.0</td>\n",
       "    </tr>\n",
       "    <tr>\n",
       "      <th>5</th>\n",
       "      <td>1</td>\n",
       "      <td>800.0</td>\n",
       "    </tr>\n",
       "    <tr>\n",
       "      <th>6</th>\n",
       "      <td>1</td>\n",
       "      <td>775.0</td>\n",
       "    </tr>\n",
       "    <tr>\n",
       "      <th>7</th>\n",
       "      <td>0</td>\n",
       "      <td>525.0</td>\n",
       "    </tr>\n",
       "    <tr>\n",
       "      <th>8</th>\n",
       "      <td>0</td>\n",
       "      <td>620.0</td>\n",
       "    </tr>\n",
       "    <tr>\n",
       "      <th>9</th>\n",
       "      <td>0</td>\n",
       "      <td>705.0</td>\n",
       "    </tr>\n",
       "    <tr>\n",
       "      <th>10</th>\n",
       "      <td>1</td>\n",
       "      <td>830.0</td>\n",
       "    </tr>\n",
       "    <tr>\n",
       "      <th>11</th>\n",
       "      <td>1</td>\n",
       "      <td>610.0</td>\n",
       "    </tr>\n",
       "    <tr>\n",
       "      <th>12</th>\n",
       "      <td>0</td>\n",
       "      <td>690.0</td>\n",
       "    </tr>\n",
       "  </tbody>\n",
       "</table>\n",
       "</div>"
      ],
      "text/plain": [
       "    approved  score\n",
       "0          0  550.0\n",
       "1          1  750.0\n",
       "2          1  680.0\n",
       "3          0  650.0\n",
       "4          0  450.0\n",
       "5          1  800.0\n",
       "6          1  775.0\n",
       "7          0  525.0\n",
       "8          0  620.0\n",
       "9          0  705.0\n",
       "10         1  830.0\n",
       "11         1  610.0\n",
       "12         0  690.0"
      ]
     },
     "execution_count": 4,
     "metadata": {},
     "output_type": "execute_result"
    }
   ],
   "source": [
    "mydata = pd.DataFrame({'score' : [550., 750., 680., 650., 450., 800., 775., 525., 620., 705., 830., 610., 690.],\n",
    "              'approved' : [0,1,1,0,0,1,1,0,0,0,1,1,0]\n",
    "             })\n",
    "\n",
    "mydata\n",
    "\n"
   ]
  },
  {
   "cell_type": "code",
   "execution_count": 5,
   "metadata": {},
   "outputs": [
    {
     "data": {
      "text/plain": [
       "<matplotlib.text.Text at 0x7f6002632be0>"
      ]
     },
     "execution_count": 5,
     "metadata": {},
     "output_type": "execute_result"
    },
    {
     "data": {
      "image/png": "[encoded data removed]",
      "text/plain": [
       "<matplotlib.figure.Figure at 0x7f60026b5438>"
      ]
     },
     "metadata": {},
     "output_type": "display_data"
    }
   ],
   "source": [
    "plt.scatter(mydata.score,mydata.approved)\n",
    "plt.xlabel('score')\n",
    "plt.ylabel('approved')"
   ]
  },
  {
   "cell_type": "markdown",
   "metadata": {},
   "source": [
    "## Step 3: Convert dataframe to Spark and Prepare feature vector\n",
    "\n",
    "We need to firstconvert the dataframe to spark, and then prepare the feature vector.\n",
    "\n"
   ]
  },
  {
   "cell_type": "code",
   "execution_count": 31,
   "metadata": {},
   "outputs": [
    {
     "name": "stdout",
     "output_type": "stream",
     "text": [
      "+--------+-----+--------+-----+\n",
      "|approved|score|features|label|\n",
      "+--------+-----+--------+-----+\n",
      "|       0|550.0| [550.0]|    0|\n",
      "|       1|750.0| [750.0]|    1|\n",
      "|       1|680.0| [680.0]|    1|\n",
      "|       0|650.0| [650.0]|    0|\n",
      "|       0|450.0| [450.0]|    0|\n",
      "|       1|800.0| [800.0]|    1|\n",
      "|       1|775.0| [775.0]|    1|\n",
      "|       0|525.0| [525.0]|    0|\n",
      "|       0|620.0| [620.0]|    0|\n",
      "|       0|705.0| [705.0]|    0|\n",
      "|       1|830.0| [830.0]|    1|\n",
      "|       1|610.0| [610.0]|    1|\n",
      "|       0|690.0| [690.0]|    0|\n",
      "+--------+-----+--------+-----+\n",
      "\n"
     ]
    }
   ],
   "source": [
    "spark_credit = spark.createDataFrame(mydata)\n",
    "assembler = VectorAssembler(inputCols=[\"score\"], outputCol=\"features\")\n",
    "featureVector = assembler.transform(spark_credit)\n",
    "featureVector = featureVector.withColumn(\"label\",featureVector.approved)\n",
    "featureVector.show()\n"
   ]
  },
  {
   "cell_type": "markdown",
   "metadata": {},
   "source": [
    "\n",
    "## Step 3: Run logistic regression"
   ]
  },
  {
   "cell_type": "code",
   "execution_count": null,
   "metadata": {
    "attributes": {
     "classes": [
      "R"
     ],
     "id": ""
    },
    "collapsed": true
   },
   "outputs": [],
   "source": [
    "\n",
    "\n",
    "\n",
    "mylogit = glm( approved ~ score, data=mydata, family=\"binomial\")\n",
    "\n",
    "# calculate some data\n",
    "mydata$prob = predict (mylogit, newdata=mydata, type = \"response\")\n",
    "print(mydata)"
   ]
  },
  {
   "cell_type": "code",
   "execution_count": 77,
   "metadata": {},
   "outputs": [
    {
     "name": "stdout",
     "output_type": "stream",
     "text": [
      "Coefficients: [0.00231936473739]\n",
      "Intercept: -1.697546464447156\n"
     ]
    }
   ],
   "source": [
    "\n",
    "lr = LogisticRegression(maxIter=50, regParam=0.3, elasticNetParam=0.8)\n",
    "\n",
    "# Fit the model\n",
    "lrModel = lr.fit(featureVector)\n",
    "\n",
    "# Print the coefficients and intercept for logistic regression\n",
    "print(\"Coefficients: \" + str(lrModel.coefficients))\n",
    "print(\"Intercept: \" + str(lrModel.intercept))"
   ]
  },
  {
   "cell_type": "code",
   "execution_count": 40,
   "metadata": {},
   "outputs": [
    {
     "name": "stdout",
     "output_type": "stream",
     "text": [
      "+--------+-----+--------+-----+--------------------+--------------------+----------+\n",
      "|approved|score|features|label|       rawPrediction|         probability|prediction|\n",
      "+--------+-----+--------+-----+--------------------+--------------------+----------+\n",
      "|       0|550.0| [550.0]|  0.0|[0.42189585888523...|[0.60393682312240...|       0.0|\n",
      "|       1|750.0| [750.0]|  1.0|[-0.0419770885918...|[0.48950726855595...|       1.0|\n",
      "|       1|680.0| [680.0]|  1.0|[0.12037844302514...|[0.53005832166779...|       0.0|\n",
      "|       0|650.0| [650.0]|  0.0|[0.18995938514670...|[0.54734755549913...|       0.0|\n",
      "|       0|450.0| [450.0]|  0.0|[0.65383233262376...|[0.65787354968202...|       0.0|\n",
      "|       1|800.0| [800.0]|  1.0|[-0.1579453254610...|[0.46059555225819...|       1.0|\n",
      "|       1|775.0| [775.0]|  1.0|[-0.0999612070264...|[0.47503048656856...|       1.0|\n",
      "|       0|525.0| [525.0]|  0.0|[0.47987997731987...|[0.61771953276060...|       0.0|\n",
      "|       0|620.0| [620.0]|  0.0|[0.25954032726826...|[0.56452329070847...|       0.0|\n",
      "|       0|705.0| [705.0]|  0.0|[0.06239432459051...|[0.51559352260997...|       0.0|\n",
      "|       1|830.0| [830.0]|  1.0|[-0.2275262675826...|[0.44336255743359...|       1.0|\n",
      "|       1|610.0| [610.0]|  1.0|[0.28273397464212...|[0.57021636641005...|       0.0|\n",
      "|       0|690.0| [690.0]|  0.0|[0.09718479565129...|[0.52427709405754...|       0.0|\n",
      "+--------+-----+--------+-----+--------------------+--------------------+----------+\n",
      "\n"
     ]
    }
   ],
   "source": [
    "lrModel.summary.predictions.show()"
   ]
  },
  {
   "cell_type": "markdown",
   "metadata": {},
   "source": [
    "The output lists approval & estimated probabilities"
   ]
  },
  {
   "cell_type": "code",
   "execution_count": null,
   "metadata": {
    "attributes": {
     "classes": [
      "console"
     ],
     "id": ""
    },
    "collapsed": true
   },
   "outputs": [],
   "source": [
    "   score    approved        prob\n",
    "1    550        0       0.056627207\n",
    "2    750        1       0.803539879\n",
    "3    680        1       0.482763979\n",
    "4    650        0       0.331324127\n",
    "5    450        0       0.007219373\n",
    "6    800        1       0.921575779\n",
    "7    775        1       0.873940664\n",
    "8    525        0       0.034202204\n",
    "9    620        0       0.208262068\n",
    "10   705        0       0.612710719\n",
    "11   830        1       0.956776400\n",
    "12   610        1       0.175590878\n",
    "13   690        0       0.535466724"
   ]
  },
  {
   "cell_type": "code",
   "execution_count": 33,
   "metadata": {},
   "outputs": [
    {
     "name": "stdout",
     "output_type": "stream",
     "text": [
      "objectiveHistory:\n",
      "0.6901856760188042\n",
      "0.6899327462112606\n",
      "0.6898596572878024\n",
      "0.6897755898678963\n",
      "0.6890411819005514\n",
      "0.6877422034867855\n",
      "0.6868231380259231\n",
      "0.6866303048864236\n",
      "0.6860730569628928\n",
      "0.6858904394799109\n",
      "0.6853725490572904\n",
      "areaUnderROC: 0.8571428571428572\n"
     ]
    },
    {
     "data": {
      "text/plain": [
       "LogisticRegression_475797ed94d976fa9028"
      ]
     },
     "execution_count": 33,
     "metadata": {},
     "output_type": "execute_result"
    }
   ],
   "source": [
    "\n",
    "# Extract the summary from the returned LogisticRegressionModel instance trained\n",
    "# in the earlier example\n",
    "trainingSummary = lrModel.summary\n",
    "\n",
    "# Obtain the objective per iteration\n",
    "objectiveHistory = trainingSummary.objectiveHistory\n",
    "print(\"objectiveHistory:\")\n",
    "for objective in objectiveHistory:\n",
    "    print(objective)\n",
    "\n",
    "# Obtain the receiver-operating characteristic as a dataframe and areaUnderROC.\n",
    "print(\"areaUnderROC: \" + str(trainingSummary.areaUnderROC))\n",
    "\n",
    "# Set the model threshold to maximize F-Measure\n",
    "fMeasure = trainingSummary.fMeasureByThreshold\n",
    "maxFMeasure = fMeasure.groupBy().max('F-Measure').select('max(F-Measure)').head()\n",
    "bestThreshold = fMeasure.where(fMeasure['F-Measure'] == maxFMeasure['max(F-Measure)']) \\\n",
    "    .select('threshold').head()['threshold']\n",
    "lr.setThreshold(bestThreshold)"
   ]
  },
  {
   "cell_type": "code",
   "execution_count": 30,
   "metadata": {},
   "outputs": [
    {
     "data": {
      "text/plain": [
       "[<matplotlib.lines.Line2D at 0x7f6000754be0>]"
      ]
     },
     "execution_count": 30,
     "metadata": {},
     "output_type": "execute_result"
    },
    {
     "data": {
      "image/png": "[encoded data removed]",
      "text/plain": [
       "<matplotlib.figure.Figure at 0x7f6000780898>"
      ]
     },
     "metadata": {},
     "output_type": "display_data"
    }
   ],
   "source": [
    "# ROC\n",
    "\n",
    "roc_df = trainingSummary.roc.toPandas()\n",
    "\n",
    "plt.plot(roc_df['FPR'], roc_df['TPR'])\n",
    "plt.xlabel(\"FPR\")\n",
    "plt.ylabel(\"TPR\")\n",
    "plt.title(\"ROC Curve\")\n",
    "plt.plot([0.0, 1.0], [0.0, 1.0], 'r')"
   ]
  },
  {
   "cell_type": "markdown",
   "metadata": {},
   "source": [
    "## Step 4: Visualize data and logit model"
   ]
  },
  {
   "cell_type": "code",
   "execution_count": 75,
   "metadata": {},
   "outputs": [
    {
     "name": "stdout",
     "output_type": "stream",
     "text": [
      "root\n",
      " |-- approved: long (nullable = true)\n",
      " |-- score: double (nullable = true)\n",
      " |-- features: vector (nullable = true)\n",
      " |-- label: double (nullable = true)\n",
      " |-- rawPrediction: vector (nullable = true)\n",
      " |-- probability: vector (nullable = true)\n",
      " |-- prediction: double (nullable = true)\n",
      "\n"
     ]
    },
    {
     "data": {
      "text/plain": [
       "[]"
      ]
     },
     "execution_count": 75,
     "metadata": {},
     "output_type": "execute_result"
    },
    {
     "data": {
      "image/png": "[encoded data removed]",
      "text/plain": [
       "<matplotlib.figure.Figure at 0x7f600089f518>"
      ]
     },
     "metadata": {},
     "output_type": "display_data"
    }
   ],
   "source": [
    "plt.scatter(mydata.score,mydata.approved)\n",
    "plt.xlabel('score')\n",
    "plt.ylabel('approved')\n",
    "lrModel.summary.predictions.printSchema()\n",
    "probabilities = lrModel.summary.predictions.select('score', 'rawPrediction', 'probability').toPandas()\n",
    "probabilities[['raw1','raw2']] = pd.DataFrame(probabilities.rawPrediction.values.tolist())\n",
    "probabilities[['prob1','prob2']] = pd.DataFrame(probabilities.probability.values.tolist())\n",
    "plt.scatter(probabilities['score'], probabilities['prob2'])\n",
    "plt.scatter(probabilities['score'], probabilities['raw2'])\n",
    "plt.plot()"
   ]
  },
  {
   "cell_type": "code",
   "execution_count": 70,
   "metadata": {},
   "outputs": [
    {
     "name": "stdout",
     "output_type": "stream",
     "text": [
      "   score\n",
      "0  600.0\n",
      "1  700.0\n",
      "2  810.0\n",
      "+-----+--------+--------------------+--------------------+----------+\n",
      "|score|features|       rawPrediction|         probability|prediction|\n",
      "+-----+--------+--------------------+--------------------+----------+\n",
      "|600.0| [600.0]|[0.30592762201597...|[0.57589092990394...|       0.0|\n",
      "|700.0| [700.0]|[0.07399114827744...|[0.51848935254944...|       0.0|\n",
      "|810.0| [810.0]|[-0.1811389728349...|[0.45483867290735...|       1.0|\n",
      "+-----+--------+--------------------+--------------------+----------+\n",
      "\n"
     ]
    }
   ],
   "source": [
    "newdata = pd.DataFrame({'score' : [600., 700., 810.]\n",
    "             })\n",
    "print(newdata)\n",
    "\n",
    "spark_newdata = spark.createDataFrame(newdata)\n",
    "newfeatures = assembler.transform(spark_newdata)\n",
    "lrModel.transform(newfeatures).show()"
   ]
  },
  {
   "cell_type": "markdown",
   "metadata": {},
   "source": [
    "Output"
   ]
  },
  {
   "cell_type": "markdown",
   "metadata": {},
   "source": [
    "So we can see\n",
    "- credit score 600 has only 14% (probability 0.14) chance of getting approved\n",
    "- credit score of 810 has 93% chance of approval"
   ]
  }
 ],
 "metadata": {
  "kernelspec": {
   "display_name": "Python 3",
   "language": "python",
   "name": "python3"
  },
  "language_info": {
   "codemirror_mode": {
    "name": "ipython",
    "version": 3
   },
   "file_extension": ".py",
   "mimetype": "text/x-python",
   "name": "python",
   "nbconvert_exporter": "python",
   "pygments_lexer": "ipython3",
   "version": "3.4.3"
  }
 },
 "nbformat": 4,
 "nbformat_minor": 2
}
