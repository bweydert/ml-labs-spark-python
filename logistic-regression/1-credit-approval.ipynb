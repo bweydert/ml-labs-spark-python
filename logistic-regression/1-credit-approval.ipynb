{
 "cells": [
  {
   "cell_type": "markdown",
   "metadata": {},
   "source": [
    "<link rel='stylesheet' href='../assets/css/main.css'/>\n",
    "\n",
    "[<< back to main index](../README.md)\n",
    "\n",
    "# Logistic Regression in Spark  - Credit Card Approval (Demo)\n",
    "\n",
    "### Overview\n",
    "Instructor to demo this on screen.\n",
    " \n",
    "### Builds on\n",
    "None\n",
    "\n",
    "### Run time\n",
    "approx. 20-30 minutes\n",
    "\n",
    "### Notes\n",
    "\n",
    "Spark has a logistic regression function called Logistic Regression."
   ]
  },
  {
   "cell_type": "markdown",
   "metadata": {},
   "source": [
    "## Load imports"
   ]
  },
  {
   "cell_type": "code",
   "execution_count": null,
   "metadata": {
    "attributes": {
     "classes": [
      "R"
     ],
     "id": ""
    },
    "collapsed": true
   },
   "outputs": [],
   "source": [
    "%matplotlib inline\n",
    "import numpy as np\n",
    "import matplotlib.pyplot as plt\n",
    "import pandas as pd\n",
    "from pyspark.ml.classification import LogisticRegression\n",
    "from pyspark.ml.feature import VectorAssembler"
   ]
  },
  {
   "cell_type": "markdown",
   "metadata": {},
   "source": [
    "## Sigmoid Curve\n",
    "\n",
    "In logistic regression, we often use a sigmoid activation function.  Let's generate a sigmoid curve in python!  (no spark required!)"
   ]
  },
  {
   "cell_type": "code",
   "execution_count": null,
   "metadata": {
    "attributes": {
     "classes": [
      "R"
     ],
     "id": ""
    },
    "collapsed": false,
    "scrolled": true
   },
   "outputs": [],
   "source": [
    "import numpy as np\n",
    "# plot sigmoid curve\n",
    "x = np.arange(-10.,10.,1.)\n",
    "b = 0 # intercept\n",
    "m = 1 # slope\n",
    "sigmoid = lambda x,b,m: np.exp((b + m*x)) / (1 + np.exp((b + m*x)))\n",
    "y = sigmoid(x,b,m)\n",
    "plt.scatter(x,y)\n",
    "plt.title(\"Sigmoid (Logistic) Function\")"
   ]
  },
  {
   "cell_type": "markdown",
   "metadata": {},
   "source": [
    "\n",
    "## Step 1: Credit Approval Data"
   ]
  },
  {
   "cell_type": "markdown",
   "metadata": {},
   "source": [
    "Here is the sample data we are looking at:\n",
    "\n",
    "| score | approved | \n",
    "|-------|----------| \n",
    "| 550   | 0        | \n",
    "| 750   | 1        | \n",
    "| 680   | 1        | \n",
    "| 650   | 0        | \n",
    "| 450   | 0        | \n",
    "| 800   | 1        | \n",
    "| 775   | 1        | \n",
    "| 525   | 0        | \n",
    "| 620   | 0        | \n",
    "| 705   | 0        | \n",
    "| 830   | 1        | \n",
    "| 610   | 1        | \n",
    "| 690   | 0        | \n"
   ]
  },
  {
   "cell_type": "markdown",
   "metadata": {},
   "source": [
    "## Step 2: Let's visualize the data"
   ]
  },
  {
   "cell_type": "code",
   "execution_count": null,
   "metadata": {
    "attributes": {
     "classes": [
      "R"
     ],
     "id": ""
    },
    "collapsed": false
   },
   "outputs": [],
   "source": [
    "mydata = pd.DataFrame({'score' : [550., 750., 680., 650., 450., 800., 775., 525., 620., 705., 830., 610., 690.],\n",
    "              'approved' : [0,1,1,0,0,1,1,0,0,0,1,1,0]\n",
    "             })\n",
    "\n",
    "mydata\n",
    "\n"
   ]
  },
  {
   "cell_type": "markdown",
   "metadata": {},
   "source": [
    "## Let us plot and visualize the sample data."
   ]
  },
  {
   "cell_type": "code",
   "execution_count": null,
   "metadata": {
    "collapsed": false
   },
   "outputs": [],
   "source": [
    "plt.scatter(mydata.score,mydata.approved)\n",
    "plt.xlabel('score')\n",
    "plt.ylabel('approved')"
   ]
  },
  {
   "cell_type": "markdown",
   "metadata": {},
   "source": [
    "## Step 3: Convert dataframe to Spark and Prepare feature vector\n",
    "\n",
    "We need to first convert the pandas dataframe to a spark dataframe, and then prepare the feature vector. To create the feature vector, we use the VectorAssembler.\n",
    "\n",
    "We will need a numeric column called \"label\" in our dataset because our model by default will look for a column by that name.  So, we'll just add it.\n",
    "\n"
   ]
  },
  {
   "cell_type": "code",
   "execution_count": null,
   "metadata": {
    "collapsed": false
   },
   "outputs": [],
   "source": [
    "spark_credit = spark.createDataFrame(mydata)\n",
    "assembler = VectorAssembler(inputCols=[\"score\"], outputCol=\"features\")\n",
    "featureVector = assembler.transform(spark_credit)\n",
    "featureVector = featureVector.withColumn(\"label\",featureVector.approved)\n",
    "featureVector.show()\n"
   ]
  },
  {
   "cell_type": "markdown",
   "metadata": {},
   "source": [
    "\n",
    "## Step 3: Fit logistic regression\n",
    "\n",
    "Now it's time to fit our logistic regression model.  This is a linear model, so we will be getting the coefficients and intercept."
   ]
  },
  {
   "cell_type": "code",
   "execution_count": null,
   "metadata": {
    "collapsed": false
   },
   "outputs": [],
   "source": [
    "\n",
    "lr = LogisticRegression(maxIter=50, regParam=0.3, elasticNetParam=0.8)\n",
    "\n",
    "# Fit the model\n",
    "lrModel = lr.fit(featureVector)\n",
    "\n",
    "# Print the coefficients and intercept for logistic regression\n",
    "print(\"Coefficients: \" + str(lrModel.coefficients))\n",
    "print(\"Intercept: \" + str(lrModel.intercept))"
   ]
  },
  {
   "cell_type": "code",
   "execution_count": null,
   "metadata": {
    "collapsed": false
   },
   "outputs": [],
   "source": [
    "lrModel.summary.predictions.show()"
   ]
  },
  {
   "cell_type": "markdown",
   "metadata": {},
   "source": [
    "The output lists approval & estimated probabilities"
   ]
  },
  {
   "cell_type": "code",
   "execution_count": null,
   "metadata": {
    "collapsed": false
   },
   "outputs": [],
   "source": [
    "\n",
    "# Extract the summary from the returned LogisticRegressionModel instance trained\n",
    "# in the earlier example\n",
    "trainingSummary = lrModel.summary\n",
    "\n",
    "# Obtain the objective per iteration\n",
    "objectiveHistory = trainingSummary.objectiveHistory\n",
    "print(\"objectiveHistory:\")\n",
    "for objective in objectiveHistory:\n",
    "    print(objective)\n",
    "\n",
    "# Obtain the receiver-operating characteristic as a dataframe and areaUnderROC.\n",
    "print(\"areaUnderROC: \" + str(trainingSummary.areaUnderROC))\n",
    "\n",
    "# Set the model threshold to maximize F-Measure\n",
    "fMeasure = trainingSummary.fMeasureByThreshold\n",
    "maxFMeasure = fMeasure.groupBy().max('F-Measure').select('max(F-Measure)').head()\n",
    "bestThreshold = fMeasure.where(fMeasure['F-Measure'] == maxFMeasure['max(F-Measure)']) \\\n",
    "    .select('threshold').head()['threshold']\n",
    "lr.setThreshold(bestThreshold)"
   ]
  },
  {
   "cell_type": "code",
   "execution_count": null,
   "metadata": {
    "collapsed": true
   },
   "outputs": [],
   "source": [
    "## Visualize the ROC curve\n",
    "\n",
    "Here we are going "
   ]
  },
  {
   "cell_type": "code",
   "execution_count": null,
   "metadata": {
    "collapsed": false
   },
   "outputs": [],
   "source": [
    "# ROC\n",
    "\n",
    "roc_df = trainingSummary.roc.toPandas()\n",
    "\n",
    "plt.plot(roc_df['FPR'], roc_df['TPR'])\n",
    "plt.xlabel(\"FPR\")\n",
    "plt.ylabel(\"TPR\")\n",
    "plt.title(\"ROC Curve\")\n",
    "plt.plot([0.0, 1.0], [0.0, 1.0], 'r')"
   ]
  },
  {
   "cell_type": "markdown",
   "metadata": {},
   "source": [
    "## Step 4: Visualize data and logit model\n",
    "\n",
    "Let's visualize the data and our model."
   ]
  },
  {
   "cell_type": "code",
   "execution_count": null,
   "metadata": {
    "collapsed": false
   },
   "outputs": [],
   "source": [
    "plt.scatter(mydata.score,mydata.approved)\n",
    "plt.xlabel('score')\n",
    "plt.ylabel('approved')\n",
    "lrModel.summary.predictions.printSchema()\n",
    "probabilities = lrModel.summary.predictions.select('score', 'rawPrediction', 'probability').toPandas()\n",
    "probabilities[['raw1','raw2']] = pd.DataFrame(probabilities.rawPrediction.values.tolist())\n",
    "probabilities[['prob1','prob2']] = pd.DataFrame(probabilities.probability.values.tolist())\n",
    "plt.scatter(probabilities['score'], probabilities['prob2'])\n",
    "plt.scatter(probabilities['score'], probabilities['raw2'])\n",
    "plt.plot()"
   ]
  },
  {
   "cell_type": "code",
   "execution_count": null,
   "metadata": {
    "collapsed": true
   },
   "outputs": [],
   "source": [
    "## Step 6: Let's create some new test data and make predictions"
   ]
  },
  {
   "cell_type": "code",
   "execution_count": null,
   "metadata": {
    "collapsed": false
   },
   "outputs": [],
   "source": [
    "newdata = pd.DataFrame({'score' : [600., 700., 810.]\n",
    "             })\n",
    "print(newdata)\n",
    "\n",
    "spark_newdata = spark.createDataFrame(newdata)\n",
    "newfeatures = assembler.transform(spark_newdata)\n",
    "lrModel.transform(newfeatures).show()"
   ]
  }
 ],
 "metadata": {
  "kernelspec": {
   "display_name": "Python 3",
   "language": "python",
   "name": "python3"
  },
  "language_info": {
   "codemirror_mode": {
    "name": "ipython",
    "version": 3
   },
   "file_extension": ".py",
   "mimetype": "text/x-python",
   "name": "python",
   "nbconvert_exporter": "python",
   "pygments_lexer": "ipython3",
   "version": "3.5.2"
  }
 },
 "nbformat": 4,
 "nbformat_minor": 2
}
