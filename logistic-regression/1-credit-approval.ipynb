{
 "cells": [
  {
   "cell_type": "markdown",
   "metadata": {},
   "source": [
    "<link rel='stylesheet' href='../assets/css/main.css'/>\n",
    "\n",
    "[<< back to main index](../README.md)\n",
    "\n",
    "# Logistic Regression in Spark  - Credit Card Approval (Demo)\n",
    "\n",
    "### Overview\n",
    "Instructor to demo this on screen.\n",
    " \n",
    "### Builds on\n",
    "None\n",
    "\n",
    "### Run time\n",
    "approx. 20-30 minutes\n",
    "\n",
    "### Notes\n",
    "\n",
    "Spark has a logistic regression function called Logistic Regression."
   ]
  },
  {
   "cell_type": "code",
   "execution_count": 26,
   "metadata": {
    "attributes": {
     "classes": [
      "R"
     ],
     "id": ""
    },
    "collapsed": true
   },
   "outputs": [],
   "source": [
    "%matplotlib inline\n",
    "import numpy as np\n",
    "import matplotlib.pyplot as plt\n",
    "import pandas as pd"
   ]
  },
  {
   "cell_type": "markdown",
   "metadata": {},
   "source": [
    "## Sigmoid Curve\n",
    "\n",
    "Let's generate a sigmoid curve in python!"
   ]
  },
  {
   "cell_type": "code",
   "execution_count": 24,
   "metadata": {
    "attributes": {
     "classes": [
      "R"
     ],
     "id": ""
    }
   },
   "outputs": [
    {
     "data": {
      "text/plain": [
       "<matplotlib.text.Text at 0x7f8e4ffa0908>"
      ]
     },
     "execution_count": 24,
     "metadata": {},
     "output_type": "execute_result"
    },
    {
     "data": {
      "image/png": "[encoded data removed]",
      "text/plain": [
       "<matplotlib.figure.Figure at 0x7f8e4ffea9e8>"
      ]
     },
     "metadata": {},
     "output_type": "display_data"
    }
   ],
   "source": [
    "import numpy as np\n",
    "# plot sigmoid curve\n",
    "x = np.arange(-10.,10.,1.)\n",
    "b = 0 # intercept\n",
    "m = 1 # slope\n",
    "sigmoid = lambda x,b,m: np.exp((b + m*x)) / (1 + np.exp((b + m*x)))\n",
    "y = sigmoid(x,b,m)\n",
    "plt.scatter(x,y)\n",
    "plt.title(\"Sigmoid (Logistic) Function\")"
   ]
  },
  {
   "cell_type": "markdown",
   "metadata": {},
   "source": [
    "\n",
    "## Step 1: Credit Approval Data"
   ]
  },
  {
   "cell_type": "markdown",
   "metadata": {},
   "source": [
    "Here is the sample data we are looking at:\n",
    "\n",
    "| score | approved | \n",
    "|-------|----------| \n",
    "| 550   | 0        | \n",
    "| 750   | 1        | \n",
    "| 680   | 1        | \n",
    "| 650   | 0        | \n",
    "| 450   | 0        | \n",
    "| 800   | 1        | \n",
    "| 775   | 1        | \n",
    "| 525   | 0        | \n",
    "| 620   | 0        | \n",
    "| 705   | 0        | \n",
    "| 830   | 1        | \n",
    "| 610   | 1        | \n",
    "| 690   | 0        | \n"
   ]
  },
  {
   "cell_type": "markdown",
   "metadata": {},
   "source": [
    "## Step 2: Let's visualize the data"
   ]
  },
  {
   "cell_type": "code",
   "execution_count": 27,
   "metadata": {
    "attributes": {
     "classes": [
      "R"
     ],
     "id": ""
    }
   },
   "outputs": [
    {
     "data": {
      "text/html": [
       "<div>\n",
       "<style>\n",
       "    .dataframe thead tr:only-child th {\n",
       "        text-align: right;\n",
       "    }\n",
       "\n",
       "    .dataframe thead th {\n",
       "        text-align: left;\n",
       "    }\n",
       "\n",
       "    .dataframe tbody tr th {\n",
       "        vertical-align: top;\n",
       "    }\n",
       "</style>\n",
       "<table border=\"1\" class=\"dataframe\">\n",
       "  <thead>\n",
       "    <tr style=\"text-align: right;\">\n",
       "      <th></th>\n",
       "      <th>approved</th>\n",
       "      <th>score</th>\n",
       "    </tr>\n",
       "  </thead>\n",
       "  <tbody>\n",
       "    <tr>\n",
       "      <th>0</th>\n",
       "      <td>0</td>\n",
       "      <td>550.0</td>\n",
       "    </tr>\n",
       "    <tr>\n",
       "      <th>1</th>\n",
       "      <td>1</td>\n",
       "      <td>750.0</td>\n",
       "    </tr>\n",
       "    <tr>\n",
       "      <th>2</th>\n",
       "      <td>1</td>\n",
       "      <td>680.0</td>\n",
       "    </tr>\n",
       "    <tr>\n",
       "      <th>3</th>\n",
       "      <td>0</td>\n",
       "      <td>650.0</td>\n",
       "    </tr>\n",
       "    <tr>\n",
       "      <th>4</th>\n",
       "      <td>0</td>\n",
       "      <td>450.0</td>\n",
       "    </tr>\n",
       "    <tr>\n",
       "      <th>5</th>\n",
       "      <td>1</td>\n",
       "      <td>800.0</td>\n",
       "    </tr>\n",
       "    <tr>\n",
       "      <th>6</th>\n",
       "      <td>1</td>\n",
       "      <td>775.0</td>\n",
       "    </tr>\n",
       "    <tr>\n",
       "      <th>7</th>\n",
       "      <td>0</td>\n",
       "      <td>525.0</td>\n",
       "    </tr>\n",
       "    <tr>\n",
       "      <th>8</th>\n",
       "      <td>0</td>\n",
       "      <td>620.0</td>\n",
       "    </tr>\n",
       "    <tr>\n",
       "      <th>9</th>\n",
       "      <td>0</td>\n",
       "      <td>705.0</td>\n",
       "    </tr>\n",
       "    <tr>\n",
       "      <th>10</th>\n",
       "      <td>1</td>\n",
       "      <td>830.0</td>\n",
       "    </tr>\n",
       "    <tr>\n",
       "      <th>11</th>\n",
       "      <td>1</td>\n",
       "      <td>610.0</td>\n",
       "    </tr>\n",
       "    <tr>\n",
       "      <th>12</th>\n",
       "      <td>0</td>\n",
       "      <td>690.0</td>\n",
       "    </tr>\n",
       "  </tbody>\n",
       "</table>\n",
       "</div>"
      ],
      "text/plain": [
       "    approved  score\n",
       "0          0  550.0\n",
       "1          1  750.0\n",
       "2          1  680.0\n",
       "3          0  650.0\n",
       "4          0  450.0\n",
       "5          1  800.0\n",
       "6          1  775.0\n",
       "7          0  525.0\n",
       "8          0  620.0\n",
       "9          0  705.0\n",
       "10         1  830.0\n",
       "11         1  610.0\n",
       "12         0  690.0"
      ]
     },
     "execution_count": 27,
     "metadata": {},
     "output_type": "execute_result"
    }
   ],
   "source": [
    "mydata = pd.DataFrame({'score' : [550., 750., 680., 650., 450., 800., 775., 525., 620., 705., 830., 610., 690.],\n",
    "              'approved' : [0,1,1,0,0,1,1,0,0,0,1,1,0]\n",
    "             })\n",
    "\n",
    "mydata\n",
    "\n"
   ]
  },
  {
   "cell_type": "code",
   "execution_count": 29,
   "metadata": {},
   "outputs": [
    {
     "data": {
      "text/plain": [
       "<matplotlib.text.Text at 0x7f8e4c1c9b70>"
      ]
     },
     "execution_count": 29,
     "metadata": {},
     "output_type": "execute_result"
    },
    {
     "data": {
      "image/png": "[encoded data removed]",
      "text/plain": [
       "<matplotlib.figure.Figure at 0x7f8e4ff542e8>"
      ]
     },
     "metadata": {},
     "output_type": "display_data"
    }
   ],
   "source": [
    "plt.scatter(mydata.score,mydata.approved)\n",
    "plt.xlabel('score')\n",
    "plt.ylabel('approved')"
   ]
  },
  {
   "cell_type": "markdown",
   "metadata": {},
   "source": [
    "## Step 3: Convert dataframe to Spark and Prepare feature vector\n",
    "\n",
    "We need to firstconvert the dataframe to spark, and then prepare the feature vector.\n",
    "\n"
   ]
  },
  {
   "cell_type": "markdown",
   "metadata": {},
   "source": [
    "\n",
    "## Step 3: Run logistic regression"
   ]
  },
  {
   "cell_type": "code",
   "execution_count": null,
   "metadata": {
    "attributes": {
     "classes": [
      "R"
     ],
     "id": ""
    },
    "collapsed": true
   },
   "outputs": [],
   "source": [
    "\n",
    "\n",
    "\n",
    "mylogit = glm( approved ~ score, data=mydata, family=\"binomial\")\n",
    "\n",
    "# calculate some data\n",
    "mydata$prob = predict (mylogit, newdata=mydata, type = \"response\")\n",
    "print(mydata)"
   ]
  },
  {
   "cell_type": "code",
   "execution_count": null,
   "metadata": {
    "collapsed": true
   },
   "outputs": [],
   "source": [
    "lr = LogisticRegression(maxIter=10, regParam=0.3, elasticNetParam=0.8)\n"
   ]
  },
  {
   "cell_type": "markdown",
   "metadata": {},
   "source": [
    "The output lists approval & estimated probabilities"
   ]
  },
  {
   "cell_type": "code",
   "execution_count": null,
   "metadata": {
    "attributes": {
     "classes": [
      "console"
     ],
     "id": ""
    },
    "collapsed": true
   },
   "outputs": [],
   "source": [
    "   score    approved        prob\n",
    "1    550        0       0.056627207\n",
    "2    750        1       0.803539879\n",
    "3    680        1       0.482763979\n",
    "4    650        0       0.331324127\n",
    "5    450        0       0.007219373\n",
    "6    800        1       0.921575779\n",
    "7    775        1       0.873940664\n",
    "8    525        0       0.034202204\n",
    "9    620        0       0.208262068\n",
    "10   705        0       0.612710719\n",
    "11   830        1       0.956776400\n",
    "12   610        1       0.175590878\n",
    "13   690        0       0.535466724"
   ]
  },
  {
   "cell_type": "markdown",
   "metadata": {},
   "source": [
    "## Step 4: Visualize data and logit model"
   ]
  },
  {
   "cell_type": "code",
   "execution_count": null,
   "metadata": {
    "attributes": {
     "classes": [
      "R"
     ],
     "id": ""
    },
    "collapsed": true
   },
   "outputs": [],
   "source": [
    "# plot regression against data\n",
    "sorted.data = mydata [order(mydata$score), ]\n",
    "View(sorted.data)\n",
    "print(sorted.data)\n",
    "# plot data\n",
    "plot(sorted.data$score, sorted.data$approved)\n",
    "# plot logistic regression\n",
    "lines(sorted.data$score, sorted.data$prob, col=\"red\")  \n"
   ]
  },
  {
   "cell_type": "markdown",
   "metadata": {},
   "source": [
    "<img src=\"../assets/images/logistic-regression-graph1.png\" style=\"border: 5px solid grey ; max-width:100%;\" />\n",
    "\n",
    "\n",
    "Using 'popbio' package"
   ]
  },
  {
   "cell_type": "code",
   "execution_count": null,
   "metadata": {
    "attributes": {
     "classes": [
      "R"
     ],
     "id": ""
    },
    "collapsed": true
   },
   "outputs": [],
   "source": [
    "# another plot\n",
    "# install.packages(\"pobio\")\n",
    "library(popbio)\n",
    "logi.hist.plot(mydata$score, mydata$approved, boxp=FALSE)"
   ]
  },
  {
   "cell_type": "markdown",
   "metadata": {},
   "source": [
    "<img src=\"../assets/images/logistic-regression-graph2.png\" style=\"border: 5px solid grey ; max-width:100%;\" />\n",
    "\n",
    "## Step 5: Predict Credit Approvals for new data\n",
    "\n",
    "We are going to calculate the credit approval possibility for scores of 600, 700 and 810."
   ]
  },
  {
   "cell_type": "code",
   "execution_count": null,
   "metadata": {
    "attributes": {
     "classes": [
      "R"
     ],
     "id": ""
    },
    "collapsed": true
   },
   "outputs": [],
   "source": [
    "# predict approval for new scores\n",
    "newdata = data.frame(score= c(600,700,810))\n",
    "newdata$prob = predict(mylogit, newdata=newdata, type = \"response\")\n",
    "View(newdata)\n",
    "print(newdata)"
   ]
  },
  {
   "cell_type": "markdown",
   "metadata": {},
   "source": [
    "Output"
   ]
  },
  {
   "cell_type": "code",
   "execution_count": null,
   "metadata": {
    "attributes": {
     "classes": [
      "console"
     ],
     "id": ""
    },
    "collapsed": true
   },
   "outputs": [],
   "source": [
    "  score      prob\n",
    "1   600     0.1470928\n",
    "2   700     0.5873891\n",
    "3   810     0.9355370"
   ]
  },
  {
   "cell_type": "markdown",
   "metadata": {},
   "source": [
    "So we can see\n",
    "- credit score 600 has only 14% (probability 0.14) chance of getting approved\n",
    "- credit score of 810 has 93% chance of approval"
   ]
  }
 ],
 "metadata": {
  "kernelspec": {
   "display_name": "Python 3",
   "language": "python",
   "name": "python3"
  },
  "language_info": {
   "codemirror_mode": {
    "name": "ipython",
    "version": 3
   },
   "file_extension": ".py",
   "mimetype": "text/x-python",
   "name": "python",
   "nbconvert_exporter": "python",
   "pygments_lexer": "ipython3",
   "version": "3.4.3"
  }
 },
 "nbformat": 4,
 "nbformat_minor": 2
}
