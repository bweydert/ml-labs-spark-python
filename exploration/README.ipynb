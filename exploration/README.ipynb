{
 "cells": [
  {
   "cell_type": "markdown",
   "metadata": {},
   "source": [
    "[<< back to main index](../README.md)\n",
    "\n",
    "# Exploration Labs\n",
    "\n",
    "## Intro\n",
    "\n",
    "These labs are for exploring some of our datasets with visualizations, etc.\n",
    "\n",
    "\n",
    "## Labs\n",
    "\n",
    " * 1. Data Cleanup - [Jupyter Notebook](data-cleanup.ipynb)\n",
    " * 2. House Sales Exploration - [Jupyter Notebook](explore-house-sales.ipynb)\n",
    " * 3. House Sales Visualization - [Jupyter Notebook](visualize-house-sales.ipynb)\n",
    " * 4. Prosper Loan Exploration - [Jupyter Notebook](1-explore-prosper.ipynb)\n",
    " * 5. Walmart Triptype Exploration - [Jupyter Notebook](2-explore-wlamart.ipynb)\n",
    "\n",
    "[<< back to main index](../README.md)"
   ]
  }
 ],
 "metadata": {},
 "nbformat": 4,
 "nbformat_minor": 0
}
