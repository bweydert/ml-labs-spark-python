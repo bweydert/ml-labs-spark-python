{
 "cells": [
  {
   "cell_type": "markdown",
   "metadata": {},
   "source": [
    "# Explore House Sales Data\n",
    "\n",
    "Let's explore the house sales data."
   ]
  },
  {
   "cell_type": "code",
   "execution_count": null,
   "metadata": {},
   "outputs": [],
   "source": [
    "import numpy as np\n",
    "import pandas as pd\n",
    "import time\n",
    "\n",
    "print('Spark UI running on http://YOURIPADDRESS:' + sc.uiWebUrl.split(':')[2])"
   ]
  },
  {
   "cell_type": "markdown",
   "metadata": {},
   "source": [
    "## Step 1: Read and Display data\n",
    "\n",
    "We will also start profiling out code."
   ]
  },
  {
   "cell_type": "markdown",
   "metadata": {},
   "source": [
    "#### 1.1 - Using perf_counter() for timing -- this is universal,  works on python and jupyter"
   ]
  },
  {
   "cell_type": "code",
   "execution_count": null,
   "metadata": {},
   "outputs": [],
   "source": [
    "t1 = time.perf_counter()\n",
    "house_prices = spark.read.csv(\"/data/house-prices/house-sales-simplified.csv\", \\\n",
    "                              header=True, inferSchema=True)\n",
    "t2 = time.perf_counter()\n",
    "print(\"read {:,} records in {:,.2f} ms\".format(house_prices.count(), (t2-t1)*1000))"
   ]
  },
  {
   "cell_type": "markdown",
   "metadata": {},
   "source": [
    "#### 1.2 - using %%time magic function -- only works in Jupyter notebook"
   ]
  },
  {
   "cell_type": "code",
   "execution_count": null,
   "metadata": {},
   "outputs": [],
   "source": [
    "%%time\n",
    "house_prices = spark.read.csv(\"/data/house-prices/house-sales-simplified.csv\", \\\n",
    "                              header=True, inferSchema=True)"
   ]
  },
  {
   "cell_type": "code",
   "execution_count": null,
   "metadata": {},
   "outputs": [],
   "source": [
    "print (\"number of records read \", house_prices.count())"
   ]
  },
  {
   "cell_type": "markdown",
   "metadata": {},
   "source": [
    "## Step 2: See schema and data"
   ]
  },
  {
   "cell_type": "code",
   "execution_count": null,
   "metadata": {},
   "outputs": [],
   "source": [
    "house_prices.printSchema()\n",
    "house_prices.show(10)"
   ]
  },
  {
   "cell_type": "markdown",
   "metadata": {},
   "source": [
    "## Step 3: 'Summary' of data"
   ]
  },
  {
   "cell_type": "code",
   "execution_count": null,
   "metadata": {},
   "outputs": [],
   "source": [
    "house_prices.describe().show()\n",
    "\n",
    "## this output is hard to read. "
   ]
  },
  {
   "cell_type": "code",
   "execution_count": null,
   "metadata": {},
   "outputs": [],
   "source": [
    "## convert 'describe' output to Pandas for better display\n",
    "house_prices.describe().toPandas()"
   ]
  },
  {
   "cell_type": "code",
   "execution_count": null,
   "metadata": {},
   "outputs": [],
   "source": [
    "# you can also display vertically\n",
    "house_prices.describe().toPandas().T"
   ]
  },
  {
   "cell_type": "markdown",
   "metadata": {},
   "source": [
    "## Step 4: Get an idea of one or more attribute(s)"
   ]
  },
  {
   "cell_type": "code",
   "execution_count": null,
   "metadata": {},
   "outputs": [],
   "source": [
    "house_prices.describe(\"SalePrice\").show()\n"
   ]
  },
  {
   "cell_type": "code",
   "execution_count": null,
   "metadata": {},
   "outputs": [],
   "source": [
    "house_prices.describe([\"SalePrice\", 'Bedrooms']).show()"
   ]
  },
  {
   "cell_type": "markdown",
   "metadata": {},
   "source": [
    "## Step 5: Report on Bedrooms vs Sales\n",
    "Let's calculte sales per bedrooms"
   ]
  },
  {
   "cell_type": "code",
   "execution_count": null,
   "metadata": {},
   "outputs": [],
   "source": [
    "## Hint : 'Bedrooms'\n",
    "bedroom_sales = house_prices.groupBy(\"???\").count()\n",
    "bedroom_sales.show()"
   ]
  },
  {
   "cell_type": "code",
   "execution_count": null,
   "metadata": {},
   "outputs": [],
   "source": [
    "## order by bedrooms\n",
    "bedroom_sales.orderBy(\"Bedrooms\").show()"
   ]
  },
  {
   "cell_type": "code",
   "execution_count": null,
   "metadata": {},
   "outputs": [],
   "source": [
    "## order by count top to bottom\n",
    "bedroom_sales.orderBy(\"???\", ascending=False).show()"
   ]
  },
  {
   "cell_type": "markdown",
   "metadata": {},
   "source": [
    "## Step 6 : Remove Outliers\n",
    "There are some outlier data.  \n",
    "For example, houses with large number of bedrooms (9, 33!).   \n",
    "Let's remove those.\n"
   ]
  },
  {
   "cell_type": "code",
   "execution_count": null,
   "metadata": {},
   "outputs": [],
   "source": [
    "## TODO : filter data that is less than or equal to 5 bedrooms\n",
    "print(\"raw data record count \", house_prices.count())\n",
    "## Hint : 5\n",
    "x = house_prices.filter(\"Bedrooms <= ???\")\n",
    "print (\"less than 5br records count \", x.count())\n",
    "x.show()"
   ]
  },
  {
   "cell_type": "code",
   "execution_count": null,
   "metadata": {},
   "outputs": [],
   "source": [
    "# do a summary on cleaned up data\n",
    "x.groupBy('Bedrooms').count().orderBy('Bedrooms').show()"
   ]
  },
  {
   "cell_type": "markdown",
   "metadata": {},
   "source": [
    "## Step 7: Calculate some percentiles"
   ]
  },
  {
   "cell_type": "code",
   "execution_count": null,
   "metadata": {},
   "outputs": [],
   "source": [
    "percentiles = (0.25, 0.5, 0.75, 0.9, 0.95)\n",
    "prices = house_prices.stat.approxQuantile(\"SalePrice\", percentiles, 0.0)\n",
    "\n",
    "print(percentiles)\n",
    "print(prices)\n",
    "\n",
    "# get a Pandas dataframe for pretty print\n",
    "percentile_pricing_df = pd.DataFrame({\"percentile\": percentiles, \"price\": prices} )\n",
    "percentile_pricing_df"
   ]
  },
  {
   "cell_type": "markdown",
   "metadata": {},
   "source": [
    "## Step 8: Explore Stat object in dataframe\n",
    "\n",
    "[API for pyspark.sql.DataFrameStatFunctions](http://spark.apache.org/docs/latest/api/python/pyspark.sql.html?highlight=dataframe#pyspark.sql.DataFrameStatFunctions)\n"
   ]
  },
  {
   "cell_type": "code",
   "execution_count": null,
   "metadata": {},
   "outputs": [],
   "source": [
    "# hit the tab key after the dot(.)\n",
    "house_prices.stat."
   ]
  },
  {
   "cell_type": "markdown",
   "metadata": {},
   "source": [
    "## Step 9: Covariance & Correlation\n",
    "\n",
    "Q1 : Calculate Covariance between \"SalePrice\"  and \"Bedrooms\"\n",
    "\n",
    "Q1 : Which attributes influences sale price more?  \n",
    "- Number of Bedrooms (\"Bedrooms\")\n",
    "- or size of the home (\"SqFtTotLiving\")\n",
    "\n",
    "Hint : calculate Correlation\n",
    "\n",
    "**Q=> Can you explain the result**"
   ]
  },
  {
   "cell_type": "code",
   "execution_count": null,
   "metadata": {},
   "outputs": [],
   "source": [
    "print (house_prices.stat.cov(\"SalePrice\", \"Bedrooms\"))\n",
    "\n",
    "print(house_prices.stat.corr(\"SalePrice\", \"Bedrooms\"))\n",
    "print(house_prices.stat.corr(\"SalePrice\", \"SqFtTotLiving\"))"
   ]
  },
  {
   "cell_type": "markdown",
   "metadata": {},
   "source": [
    "## Bonus Lab : Find the most expensive zip codes\n",
    "We have data from many zip codes.  \n",
    "To find the most expensive zip code, let's first calculate  **price per sqft**"
   ]
  },
  {
   "cell_type": "code",
   "execution_count": null,
   "metadata": {},
   "outputs": [],
   "source": [
    "## Step 1 : calculate price per sqft\n",
    "## TODO : do the math, divide  house_prices['SalePrice'] by  house_prices['SqFtTotLiving']\n",
    "a = house_prices.withColumn(\"price_per_sqft\", house_prices[\"???\"] / house_prices['???'])\n",
    "\n",
    "price_per_sqft = a.select('SalePrice', 'SqFtTotLiving', 'price_per_sqft' , 'ZipCode')\n",
    "price_per_sqft.show()"
   ]
  },
  {
   "cell_type": "code",
   "execution_count": null,
   "metadata": {},
   "outputs": [],
   "source": [
    "## Group data by zipcode and take the avg of price_per_sqft\n",
    "b  = price_per_sqft.groupBy(\"???\").avg(\"???\")\n",
    "b.show()\n",
    "\n",
    "## How many sales by zipcode\n",
    "price_per_sqft.groupBy(\"ZipCode\").count().show()"
   ]
  },
  {
   "cell_type": "code",
   "execution_count": null,
   "metadata": {},
   "outputs": [],
   "source": [
    "## Now sort by avg price\n",
    "b.orderBy('???', ascending=False).show()"
   ]
  },
  {
   "cell_type": "markdown",
   "metadata": {},
   "source": [
    "## Bonus Lab 2 : Pre-Post Bubble data\n",
    "The sales data we have spans the housing bubble (year 2004 - 2006) and post bubble (year 2008 +). \n",
    "You may want to separate the data into 2 segments - pre/post bubble to get better results."
   ]
  },
  {
   "cell_type": "code",
   "execution_count": null,
   "metadata": {},
   "outputs": [],
   "source": []
  }
 ],
 "metadata": {
  "kernelspec": {
   "display_name": "Python 3",
   "language": "python",
   "name": "python3"
  },
  "language_info": {
   "codemirror_mode": {
    "name": "ipython",
    "version": 3
   },
   "file_extension": ".py",
   "mimetype": "text/x-python",
   "name": "python",
   "nbconvert_exporter": "python",
   "pygments_lexer": "ipython3",
   "version": "3.6.6"
  }
 },
 "nbformat": 4,
 "nbformat_minor": 1
}
