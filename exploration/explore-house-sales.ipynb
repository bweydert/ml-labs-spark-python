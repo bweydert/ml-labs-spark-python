{
 "cells": [
  {
   "cell_type": "markdown",
   "metadata": {},
   "source": [
    "# Explore House Sales Data\n",
    "\n",
    "Let's explore the house sales data."
   ]
  },
  {
   "cell_type": "code",
   "execution_count": null,
   "metadata": {},
   "outputs": [],
   "source": [
    "import numpy as np\n",
    "import pandas as pd\n",
    "\n",
    "print('Spark UI running on http://YOURIPADDRESS:' + sc.uiWebUrl.split(':')[2])"
   ]
  },
  {
   "cell_type": "markdown",
   "metadata": {},
   "source": [
    "## Read and Display data"
   ]
  },
  {
   "cell_type": "code",
   "execution_count": null,
   "metadata": {},
   "outputs": [],
   "source": [
    "house_prices = spark.read.csv(\"/data/house-prices/house-sales-simplified.csv\", header=True, inferSchema=True)\n",
    "house_prices.show(10)"
   ]
  },
  {
   "cell_type": "markdown",
   "metadata": {},
   "source": [
    "## 'Summary' of data"
   ]
  },
  {
   "cell_type": "code",
   "execution_count": null,
   "metadata": {},
   "outputs": [],
   "source": [
    "house_prices.describe().show()\n",
    "# copy this output to a text editor to see all the details\n",
    "\n"
   ]
  },
  {
   "cell_type": "markdown",
   "metadata": {},
   "source": [
    "## Get an idea of one attribute"
   ]
  },
  {
   "cell_type": "code",
   "execution_count": null,
   "metadata": {},
   "outputs": [],
   "source": [
    "house_prices.describe(\"SalePrice\").show()\n"
   ]
  },
  {
   "cell_type": "markdown",
   "metadata": {},
   "source": [
    "## Calculate some percentiles"
   ]
  },
  {
   "cell_type": "code",
   "execution_count": null,
   "metadata": {},
   "outputs": [],
   "source": [
    "percentiles = (0.25, 0.5, 0.75, 0.9, 0.95)\n",
    "prices = house_prices.stat.approxQuantile(\"SalePrice\", percentiles, 0.0)\n",
    "\n",
    "print(percentiles)\n",
    "print(prices)\n",
    "\n",
    "# get a Pandas dataframe for pretty print\n",
    "percentile_pricing_df = pd.DataFrame({\"percentile\": percentiles, \"price\": prices} )\n",
    "percentile_pricing_df"
   ]
  },
  {
   "cell_type": "markdown",
   "metadata": {},
   "source": [
    "## Explore Stat object in dataframe\n",
    "\n",
    "[API for pyspark.sql.DataFrameStatFunctions](http://spark.apache.org/docs/latest/api/python/pyspark.sql.html?highlight=dataframe#pyspark.sql.DataFrameStatFunctions)\n"
   ]
  },
  {
   "cell_type": "code",
   "execution_count": null,
   "metadata": {},
   "outputs": [],
   "source": [
    "# hit the tab key after the dot(.)\n",
    "house_prices.stat."
   ]
  },
  {
   "cell_type": "markdown",
   "metadata": {},
   "source": [
    "## Covariance & Correlation\n",
    "\n",
    "Q1 : Calculate Covariance between \"SalePrice\"  and \"Bedrooms\"\n",
    "\n",
    "Q1 : Which attributes influences sale price more?  \n",
    "- Number of Bedrooms (\"Bedrooms\")\n",
    "- or size of the home (\"SqFtTotLiving\")\n",
    "Hint : calculate Correlation"
   ]
  },
  {
   "cell_type": "code",
   "execution_count": null,
   "metadata": {},
   "outputs": [],
   "source": [
    "print (house_prices.stat.cov(\"SalePrice\", \"Bedrooms\"))\n",
    "\n",
    "print(house_prices.stat.corr(\"SalePrice\", \"Bedrooms\"))\n",
    "print(house_prices.stat.corr(\"SalePrice\", \"SqFtTotLiving\"))"
   ]
  }
 ],
 "metadata": {
  "kernelspec": {
   "display_name": "Python 3",
   "language": "python",
   "name": "python3"
  },
  "language_info": {
   "codemirror_mode": {
    "name": "ipython",
    "version": 3
   },
   "file_extension": ".py",
   "mimetype": "text/x-python",
   "name": "python",
   "nbconvert_exporter": "python",
   "pygments_lexer": "ipython3",
   "version": "3.6.2"
  }
 },
 "nbformat": 4,
 "nbformat_minor": 1
}
