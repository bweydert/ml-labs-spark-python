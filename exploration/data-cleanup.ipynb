{
 "cells": [
  {
   "cell_type": "markdown",
   "metadata": {},
   "source": [
    "# Dealing with unclean data\n",
    "\n",
    "We're going to look at data that may require some cleansing."
   ]
  },
  {
   "cell_type": "code",
   "execution_count": null,
   "metadata": {},
   "outputs": [],
   "source": [
    "import numpy as np\n",
    "import pandas as pd\n",
    "\n",
    "print('Spark UI running on http://YOURIPADDRESS:' + sc.uiWebUrl.split(':')[2])"
   ]
  },
  {
   "cell_type": "markdown",
   "metadata": {},
   "source": [
    "## Read the admissions data that is not so clean"
   ]
  },
  {
   "cell_type": "code",
   "execution_count": null,
   "metadata": {},
   "outputs": [],
   "source": [
    "admissions = spark.read.csv(\"/data/college-admissions/admission-data-dirty.csv\", header=True, inferSchema=True)\n",
    "admissions.show(20)\n",
    "admissions.count()"
   ]
  },
  {
   "cell_type": "markdown",
   "metadata": {},
   "source": [
    "## Get Summary\n",
    "See what we get.  It will skip null values"
   ]
  },
  {
   "cell_type": "code",
   "execution_count": null,
   "metadata": {},
   "outputs": [],
   "source": [
    "admissions.describe().show()"
   ]
  },
  {
   "cell_type": "markdown",
   "metadata": {},
   "source": [
    "## Drop all null values"
   ]
  },
  {
   "cell_type": "code",
   "execution_count": null,
   "metadata": {
    "collapsed": true
   },
   "outputs": [],
   "source": [
    "dropped_na = admissions.na.drop()\n",
    "dropped_na.show()\n",
    "print(dropped_na.count())\n",
    "\n",
    "# only drop nulls from admit & gre column\n",
    "dropped2 = admissions.na.drop(subset=['admit', 'gre'])\n",
    "dropped2.show()\n",
    "print(dropped2.count())"
   ]
  },
  {
   "cell_type": "markdown",
   "metadata": {},
   "source": [
    "## Fill in the values"
   ]
  },
  {
   "cell_type": "code",
   "execution_count": null,
   "metadata": {
    "collapsed": true
   },
   "outputs": [],
   "source": [
    "# fill every thing with zero\n",
    "admissions.na.fill(0).show()\n",
    "\n",
    "# or we can specify per column default value\n",
    "admissions.na.fill({'admit': 2, 'gre': -100 , 'gpa':-1, 'rank':10}).show()"
   ]
  },
  {
   "cell_type": "markdown",
   "metadata": {},
   "source": [
    "## Replace values"
   ]
  },
  {
   "cell_type": "code",
   "execution_count": null,
   "metadata": {
    "collapsed": true
   },
   "outputs": [],
   "source": [
    "# replace all 800 gre into 1000\n",
    "admissions.na.replace(800, 1000, ['gre']).show()\n",
    "\n",
    "# replace all rank 4 into rank 5\n",
    "admissions.na.replace(4,5, ['rank']).show()\n",
    "\n",
    "# why is this not working?\n",
    "# Hint : print(admissions.schema)"
   ]
  },
  {
   "cell_type": "markdown",
   "metadata": {},
   "source": [
    "## Filter out dirty data"
   ]
  },
  {
   "cell_type": "code",
   "execution_count": null,
   "metadata": {
    "collapsed": true
   },
   "outputs": [],
   "source": [
    "print(admissions.count())\n",
    "\n",
    "a = admissions.filter(admissions.rank.isNotNull())\n",
    "a.show()\n",
    "print(a.count())\n",
    "\n",
    "b = admissions.filter(admissions.rank.isin([1,2,3,4]))\n",
    "b.show()\n",
    "print(b.count())\n",
    "\n",
    "#c = admissions.where(admissions.rank.is_integer())"
   ]
  },
  {
   "cell_type": "code",
   "execution_count": null,
   "metadata": {
    "collapsed": true
   },
   "outputs": [],
   "source": []
  }
 ],
 "metadata": {
  "kernelspec": {
   "display_name": "Python 3",
   "language": "python",
   "name": "python3"
  },
  "language_info": {
   "codemirror_mode": {
    "name": "ipython",
    "version": 3
   },
   "file_extension": ".py",
   "mimetype": "text/x-python",
   "name": "python",
   "nbconvert_exporter": "python",
   "pygments_lexer": "ipython3",
   "version": "3.6.2"
  }
 },
 "nbformat": 4,
 "nbformat_minor": 1
}
