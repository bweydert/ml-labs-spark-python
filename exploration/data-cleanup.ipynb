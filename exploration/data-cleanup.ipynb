{
 "cells": [
  {
   "cell_type": "markdown",
   "metadata": {},
   "source": [
    "# Dealing with unclean data\n",
    "\n",
    "We're going to look at data that may require some cleansing."
   ]
  },
  {
   "cell_type": "code",
   "execution_count": 2,
   "metadata": {},
   "outputs": [
    {
     "name": "stdout",
     "output_type": "stream",
     "text": [
      "Spark UI running on http://YOURIPADDRESS:4040\n"
     ]
    },
    {
     "data": {
      "text/html": [
       "\n",
       "            <div>\n",
       "                <p><b>SparkSession - hive</b></p>\n",
       "                \n",
       "        <div>\n",
       "            <p><b>SparkContext</b></p>\n",
       "\n",
       "            <p><a href=\"http://192.168.1.7:4040\">Spark UI</a></p>\n",
       "\n",
       "            <dl>\n",
       "              <dt>Version</dt>\n",
       "                <dd><code>v2.2.0</code></dd>\n",
       "              <dt>Master</dt>\n",
       "                <dd><code>local[*]</code></dd>\n",
       "              <dt>AppName</dt>\n",
       "                <dd><code>PySparkShell</code></dd>\n",
       "            </dl>\n",
       "        </div>\n",
       "        \n",
       "            </div>\n",
       "        "
      ],
      "text/plain": [
       "<pyspark.sql.session.SparkSession at 0x10834a4a8>"
      ]
     },
     "execution_count": 2,
     "metadata": {},
     "output_type": "execute_result"
    }
   ],
   "source": [
    "import numpy as np\n",
    "import pandas as pd\n",
    "\n",
    "print('Spark UI running on http://YOURIPADDRESS:' + sc.uiWebUrl.split(':')[2])"
   ]
  },
  {
   "cell_type": "markdown",
   "metadata": {},
   "source": [
    "## Read the admissions data that is not so clean"
   ]
  },
  {
   "cell_type": "code",
   "execution_count": 3,
   "metadata": {},
   "outputs": [
    {
     "name": "stdout",
     "output_type": "stream",
     "text": [
      "+-----+----+----+----+\n",
      "|admit| gre| gpa|rank|\n",
      "+-----+----+----+----+\n",
      "|    1| 400|3.23|   4|\n",
      "|    1| 700|3.56|   1|\n",
      "|    1| 800| 4.0|   2|\n",
      "|    0| 500|3.53|   4|\n",
      "|    0| 560|3.78|   2|\n",
      "|    0|null|3.35|null|\n",
      "|    1| 520|null|   3|\n",
      "|    0| 440|3.17|   2|\n",
      "|    1| 760| 3.0|   2|\n",
      "| null| 600|2.82|   4|\n",
      "|    1| 500| 3.6|   3|\n",
      "|    0| 500|3.95|   4|\n",
      "| null| 680|3.27|   2|\n",
      "|    1| 560|3.59|   2|\n",
      "|    0| 700|3.65|   2|\n",
      "|    0| 520|2.98|   2|\n",
      "|    0| 700|3.92|   2|\n",
      "|    1| 620| 4.0|   x|\n",
      "|    0| 640|3.51|   2|\n",
      "|    1| 600|3.58|   1|\n",
      "+-----+----+----+----+\n",
      "\n"
     ]
    },
    {
     "data": {
      "text/plain": [
       "20"
      ]
     },
     "execution_count": 3,
     "metadata": {},
     "output_type": "execute_result"
    }
   ],
   "source": [
    "admissions = spark.read.csv(\"/data/college-admissions/admission-data-dirty.csv\", header=True, inferSchema=True)\n",
    "admissions.show(20)\n",
    "admissions.count()"
   ]
  },
  {
   "cell_type": "markdown",
   "metadata": {},
   "source": [
    "## Get Summary\n",
    "See what we get.  It will skip null values"
   ]
  },
  {
   "cell_type": "code",
   "execution_count": 4,
   "metadata": {},
   "outputs": [
    {
     "name": "stdout",
     "output_type": "stream",
     "text": [
      "+-------+------------------+-----------------+------------------+------------------+\n",
      "|summary|             admit|              gre|               gpa|              rank|\n",
      "+-------+------------------+-----------------+------------------+------------------+\n",
      "|  count|                18|               19|                19|                19|\n",
      "|   mean|               0.5|594.7368421052631| 3.499473684210527|2.4444444444444446|\n",
      "| stddev|0.5144957554275265| 109.309368361984|0.3534665422514952|0.9835244081556432|\n",
      "|    min|                 0|              400|              2.82|                 1|\n",
      "|    max|                 1|              800|               4.0|                 x|\n",
      "+-------+------------------+-----------------+------------------+------------------+\n",
      "\n"
     ]
    }
   ],
   "source": [
    "admissions.describe().show()"
   ]
  },
  {
   "cell_type": "markdown",
   "metadata": {},
   "source": [
    "## Drop all null values"
   ]
  },
  {
   "cell_type": "code",
   "execution_count": null,
   "metadata": {},
   "outputs": [],
   "source": [
    "dropped_na = admissions.na.drop()\n",
    "dropped_na.show()\n",
    "print(dropped_na.count())\n",
    "\n",
    "# only drop nulls from admit & gre column\n",
    "dropped2 = admissions.na.drop(subset=['admit', 'gre'])\n",
    "dropped2.show()\n",
    "print(dropped2.count())"
   ]
  },
  {
   "cell_type": "markdown",
   "metadata": {},
   "source": [
    "## Fill in the values"
   ]
  },
  {
   "cell_type": "code",
   "execution_count": null,
   "metadata": {},
   "outputs": [],
   "source": [
    "# fill every thing with zero\n",
    "admissions.na.fill(0).show()\n",
    "\n",
    "# or we can specify per column default value\n",
    "admissions.na.fill({'admit': 2, 'gre': -100 , 'gpa':-1, 'rank':10}).show()"
   ]
  },
  {
   "cell_type": "markdown",
   "metadata": {},
   "source": [
    "## Replace values"
   ]
  },
  {
   "cell_type": "code",
   "execution_count": null,
   "metadata": {},
   "outputs": [],
   "source": [
    "# replace all 800 gre into 1000\n",
    "admissions.na.replace(800, 1000, ['gre']).show()\n",
    "\n",
    "# replace all rank 4 into rank 5\n",
    "admissions.na.replace(4,5, ['rank']).show()\n",
    "\n",
    "# why is this not working?\n",
    "# Hint : print(admissions.schema)"
   ]
  },
  {
   "cell_type": "markdown",
   "metadata": {},
   "source": [
    "## Filter out dirty data"
   ]
  },
  {
   "cell_type": "code",
   "execution_count": null,
   "metadata": {},
   "outputs": [],
   "source": [
    "print(admissions.count())\n",
    "\n",
    "a = admissions.filter(admissions.rank.isNotNull())\n",
    "a.show()\n",
    "print(a.count())\n",
    "\n",
    "b = admissions.filter(admissions.rank.isin([1,2,3,4]))\n",
    "b.show()\n",
    "print(b.count())\n",
    "\n",
    "#c = admissions.where(admissions.rank.is_integer())"
   ]
  },
  {
   "cell_type": "code",
   "execution_count": null,
   "metadata": {
    "collapsed": true
   },
   "outputs": [],
   "source": []
  }
 ],
 "metadata": {
  "kernelspec": {
   "display_name": "Python 3",
   "language": "python",
   "name": "python3"
  },
  "language_info": {
   "codemirror_mode": {
    "name": "ipython",
    "version": 3
   },
   "file_extension": ".py",
   "mimetype": "text/x-python",
   "name": "python",
   "nbconvert_exporter": "python",
   "pygments_lexer": "ipython3",
   "version": "3.6.2"
  }
 },
 "nbformat": 4,
 "nbformat_minor": 1
}
