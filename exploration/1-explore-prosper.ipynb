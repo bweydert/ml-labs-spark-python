{
 "cells": [
  {
   "cell_type": "markdown",
   "metadata": {
    "_cell_guid": "7b938dea-c420-1404-c448-f948a0b96fec"
   },
   "source": [
    "# Prosper Loan Data - Analysis of Defaults of Loans"
   ]
  },
  {
   "cell_type": "markdown",
   "metadata": {
    "_cell_guid": "9f63077b-843f-a022-19fa-2834a33cd8df"
   },
   "source": [
    "### Table Of Contents\n",
    "\n",
    "* [Introduction](#intro)\n",
    "* [Exploring the data: categorical information](#explore1)\n",
    "* [Exploring the data: credit scores](#explore2)\n",
    "* [Exploring the data: financial information](#explore3)\n",
    "* [Exploring the data: credit history](#explore4)\n",
    "* [Exploring the data: loan characteristics](#explore5)"
   ]
  },
  {
   "cell_type": "markdown",
   "metadata": {
    "_cell_guid": "dcae8b43-a838-6f5b-9bfd-b3bedb35fb61"
   },
   "source": [
    "### Introduction <a class=\"anchor\" id=\"intro\"></a>\n",
    "\n",
    "Here we will do some summary exploaration before working on prediction.\n",
    "\n",
    "The original data can be found here: https://s3.amazonaws.com/udacity-hosted-downloads/ud651/prosperLoanData.csv. A variable dictionary concisely explaining the data can be found here: https://docs.google.com/spreadsheets/d/1gDyi_L4UvIrLTEC6Wri5nbaMmkGmLQBk-Yx3z0XDEtI/edit?usp=sharing.\n"
   ]
  },
  {
   "cell_type": "code",
   "execution_count": null,
   "metadata": {
    "_cell_guid": "8406e46e-7db1-96d5-25b5-82a01db355e6"
   },
   "outputs": [],
   "source": [
    "#Imports\n",
    "\n",
    "#Data analysis and math\n",
    "import math\n",
    "import time\n",
    "import numpy as np\n",
    "import pandas as pd\n",
    "from scipy import stats as st\n",
    "\n",
    "#Plotting\n",
    "import matplotlib.pyplot as plt\n",
    "import seaborn as sns\n",
    "%matplotlib inline\n",
    "sns.set_style(\"whitegrid\")\n",
    "sns.set_context({\"figure.figsize\": (15, 7.5)})"
   ]
  },
  {
   "cell_type": "code",
   "execution_count": null,
   "metadata": {},
   "outputs": [],
   "source": [
    "# initialize Spark Session\n",
    "import os\n",
    "import sys\n",
    "top_dir = os.path.abspath(os.path.join(os.getcwd(), \"../\"))\n",
    "if top_dir not in sys.path:\n",
    "    sys.path.append(top_dir)\n",
    "\n",
    "from init_spark import init_spark\n",
    "spark = init_spark()\n",
    "spark"
   ]
  },
  {
   "cell_type": "code",
   "execution_count": null,
   "metadata": {
    "_cell_guid": "5ff51705-3501-634e-29fb-a11fc73353ff"
   },
   "outputs": [],
   "source": [
    "%%time\n",
    "t1 = time.perf_counter()\n",
    "data = spark.read.csv(\"/data/prosper-loan/prosper-loan-data.csv.gz\",\\\n",
    "                               header=True, inferSchema=True)\n",
    "t2 = time.perf_counter()\n",
    "print(\"read {:,} records in {:,.2f} ms\".format(data.count(), (t2-t1)*1000))"
   ]
  },
  {
   "cell_type": "code",
   "execution_count": null,
   "metadata": {},
   "outputs": [],
   "source": [
    "data.printSchema()\n",
    "data.show()"
   ]
  },
  {
   "cell_type": "code",
   "execution_count": null,
   "metadata": {
    "_cell_guid": "b645d9f2-f10d-5335-8fef-576e4ea40895"
   },
   "outputs": [],
   "source": [
    "fig = plt.figure()\n",
    "\n",
    "ax1 = fig.add_subplot(221)\n",
    "\n",
    "loanStatusdf = data.select('LoanStatus', 'BorrowerState', 'ListingCategory').toPandas()\n",
    "\n",
    "sns.countplot(loanStatusdf['LoanStatus'])\n",
    "\n",
    "ax2 = fig.add_subplot(222)\n",
    "sns.barplot(y=loanStatusdf['LoanStatus']).set_ylim([0,1])"
   ]
  },
  {
   "cell_type": "markdown",
   "metadata": {},
   "source": [
    "**=> TODO: Calculate how many loans have loan status 0 (bad) vs 1 (good)"
   ]
  },
  {
   "cell_type": "code",
   "execution_count": null,
   "metadata": {
    "collapsed": true
   },
   "outputs": [],
   "source": [
    "#TODO: Calculate how many loans have loan status 0 (bad) vs 1 (good)"
   ]
  },
  {
   "cell_type": "markdown",
   "metadata": {
    "_cell_guid": "5ba93005-8537-9dbc-6d45-6ec343194475"
   },
   "source": [
    "So, in the historical data as a whole, 67.43% of loans are completed. 32.57% of loans \"defaulted\". (During analysis, one should always bear in mind that default as we've defined it includes charge-offs, cancellations, and even any current loans with late payments. It might be more constructive to think of the loans labelled with a 0 as \"bad\" loans rather than outright \"defaults\")."
   ]
  },
  {
   "cell_type": "markdown",
   "metadata": {
    "_cell_guid": "dadfbfce-04be-8921-6ddc-a6cc1121007e"
   },
   "source": [
    "Let's take a look at our new historical dataframe and then start exploring variables' relationship with default, starting with some potentially useful categorical information."
   ]
  },
  {
   "cell_type": "code",
   "execution_count": null,
   "metadata": {
    "_cell_guid": "b59d92ad-7f15-19d2-0e90-c1a59052d246",
    "collapsed": true
   },
   "outputs": [],
   "source": [
    "loanStatusdf.describe()"
   ]
  },
  {
   "cell_type": "markdown",
   "metadata": {
    "_cell_guid": "8ecc454b-13e5-a805-7b08-7259dabe0cf9"
   },
   "source": [
    "### Exploring the data: categorical information <a class=\"anchor\" id=\"explore1\"></a>"
   ]
  },
  {
   "cell_type": "code",
   "execution_count": null,
   "metadata": {
    "_cell_guid": "c6c28c80-da40-5329-dc41-6870f4e827ab",
    "collapsed": true
   },
   "outputs": [],
   "source": [
    "sns.barplot(x=\"BorrowerState\", y=\"LoanStatus\", data=loanStatusdf)"
   ]
  },
  {
   "cell_type": "markdown",
   "metadata": {},
   "source": [
    "**=> TODO: Calculate Loan defualts in Alabama versus DC?"
   ]
  },
  {
   "cell_type": "code",
   "execution_count": null,
   "metadata": {
    "_cell_guid": "40c19a63-b063-4691-19a9-206a83747dda",
    "collapsed": true
   },
   "outputs": [],
   "source": [
    "# TODO: Calcualate Loan Defaults in Alabama (AL) vs DC"
   ]
  },
  {
   "cell_type": "markdown",
   "metadata": {
    "_cell_guid": "0282b01d-3d7f-faff-bb8a-e97bcc838957"
   },
   "source": [
    "Let's take a look at another categorical variable: ListingCategory.\n"
   ]
  },
  {
   "cell_type": "code",
   "execution_count": null,
   "metadata": {
    "_cell_guid": "166ead1f-c2b5-6e1e-b0c5-a0a4a45b3e22",
    "collapsed": true
   },
   "outputs": [],
   "source": [
    "sns.barplot(x=\"ListingCategory\", y=\"LoanStatus\", data=loanStatusdf)"
   ]
  },
  {
   "cell_type": "markdown",
   "metadata": {},
   "source": [
    "**=> TODO: Calculate default rates of RV Loans (\"ListingCategory\" == \"RV\") and \"Green\" lonas\n",
    " "
   ]
  },
  {
   "cell_type": "code",
   "execution_count": null,
   "metadata": {
    "_cell_guid": "0cd5e585-a383-e611-306a-20e8b356591a",
    "collapsed": true
   },
   "outputs": [],
   "source": [
    "# TODO Calculate defaults for LisingCategory = \"RV\" and ListingCategory = \"GREEN\""
   ]
  },
  {
   "cell_type": "markdown",
   "metadata": {
    "_cell_guid": "4bb0d3b5-6d14-b1b2-3d13-156dae71a585"
   },
   "source": [
    "### Exploring the data: credit scores <a class=\"anchor\" id=\"explore2\"></a>\n",
    "\n",
    "**=> TODO: Use Seaborn to do bar plots for ProsperScore vs. LoanStatus**\n",
    "**=> TODO: Use Seaborn to do bar plots for CreditScore vs. LoanStatus**\n"
   ]
  },
  {
   "cell_type": "code",
   "execution_count": null,
   "metadata": {
    "_cell_guid": "fc783e0a-0133-e302-51c6-146558d42341",
    "collapsed": true
   },
   "outputs": [],
   "source": [
    "creditscoredf = data.select('LoanStatus', 'ProsperRating (numeric)', 'ProsperScore', 'CreditScore').toPandas()\n",
    "\n",
    "\n",
    "fig = plt.figure()\n",
    "\n",
    "ax1 = fig.add_subplot(221)\n",
    "sns.barplot(x=\"ProsperRating (numeric)\", y=\"LoanStatus\", data=creditscoredf)\n",
    "\n",
    "ax2 = fig.add_subplot(222)\n",
    "#TODO: add seaborn barplot for ProsperScore vs LoanStatus\n",
    "\n",
    "ax3 = fig.add_subplot(223)\n",
    "#TODO: add seabornbarplot for CreditScore vs LoanStatus"
   ]
  },
  {
   "cell_type": "markdown",
   "metadata": {
    "_cell_guid": "cf00de95-9302-7d0f-396a-fb7980540094"
   },
   "source": [
    "Both the Prosper scores and the credit scores seem to be doing a good job of predicting default, with higher ratings defaulting less frequently. Interestingly, the loans with the highest ProsperScores (11) default more frequently than loans rated at a 9 or a 10, and there is a high degree of variance in default rate for those highly rated loans.\n"
   ]
  },
  {
   "cell_type": "markdown",
   "metadata": {
    "_cell_guid": "f50c9241-d082-d07c-48d2-22956f8d0239"
   },
   "source": [
    "Let's visualize some financial variables."
   ]
  },
  {
   "cell_type": "markdown",
   "metadata": {
    "_cell_guid": "73e24949-fffe-3976-7dec-5549d2775ab8"
   },
   "source": [
    "### Exploring the data: financial information <a class=\"anchor\" id=\"explore3\"></a>"
   ]
  },
  {
   "cell_type": "code",
   "execution_count": null,
   "metadata": {
    "_cell_guid": "6514dc84-410d-4162-c244-d6b82487db71",
    "collapsed": true
   },
   "outputs": [],
   "source": [
    "fig = plt.figure()\n",
    "\n",
    "creditscoredf = data.select('LoanStatus', 'EmploymentStatus', 'EmploymentStatusDuration', \n",
    "                                     'StatedMonthlyIncome', 'DebtToIncomeRatio', 'AvailableBankcardCredit',\n",
    "                                     'BankcardUtilization', 'IsBorrowerHomeowner').toPandas()\n",
    "\n",
    "\n",
    "ax1 = fig.add_subplot(221)\n",
    "sns.barplot(x=\"EmploymentStatus\", y=\"LoanStatus\", data=creditscoredf)\n",
    "\n",
    "ax2 = fig.add_subplot(222)\n",
    "sns.boxplot(x=\"LoanStatus\", y=\"EmploymentStatusDuration\", data=creditscoredf).set_ylim([0,400])"
   ]
  },
  {
   "cell_type": "markdown",
   "metadata": {
    "_cell_guid": "81e64986-3706-81de-208c-9eb2b1f6aa25"
   },
   "source": [
    "There doesn't seem to be a relationship between EmploymentStatusDuration and loan default. We'll take a look at the correlation in a moment. EmploymentStatus does, however, seem to have a relationship with default. Interestingly, part-time workers defaulted less often than full-time workers. People who listed their employment status as \"Other\" defaulted even more often than those who weren't employed at all."
   ]
  },
  {
   "cell_type": "code",
   "execution_count": null,
   "metadata": {
    "_cell_guid": "ba7d1d6a-7614-29dc-0c74-506cf2cd2d95",
    "collapsed": true
   },
   "outputs": [],
   "source": [
    "x = creditscoredf[\"EmploymentStatusDuration\"]\n",
    "y = creditscoredf[\"LoanStatus\"]\n",
    "\n",
    "r, p = st.pearsonr(x, y)\n",
    "\n",
    "print(\"The correlation between employment status duration and loan default is {}, with a p-value of {}\".format(r, p))"
   ]
  },
  {
   "cell_type": "markdown",
   "metadata": {
    "_cell_guid": "5ee51171-172e-bd66-3a4b-2453c1d80cbb"
   },
   "source": [
    "The very weak correlation between employment status duration and loan default, as well as the lack of a statistically significant p-value, lead me to believe that we can safely drop this variable from our dataset."
   ]
  },
  {
   "cell_type": "markdown",
   "metadata": {
    "_cell_guid": "64e2dc75-2f50-76f1-c625-f2d2ad4319b1"
   },
   "source": [
    "Let's plot some income metrics and then some indicators of credit availability.\n",
    "\n",
    "**=> TODO: Do a boxplot of LoanStatus vs DebtToIncomeRatio"
   ]
  },
  {
   "cell_type": "code",
   "execution_count": null,
   "metadata": {
    "_cell_guid": "cc9f6daa-74e9-8259-e0a6-aef4b2dc465f",
    "collapsed": true
   },
   "outputs": [],
   "source": [
    "fig = plt.figure()\n",
    "\n",
    "ax1 = fig.add_subplot(221)\n",
    "sns.boxplot(x=\"LoanStatus\", y=\"StatedMonthlyIncome\", data=creditscoredf).set_ylim([0,20000])\n",
    "\n",
    "ax2 = fig.add_subplot(222)\n",
    "sns.boxplot(???).set_ylim([0,0.8]) #TODO complete LoanStatus vs DebtToIncomeRatio"
   ]
  },
  {
   "cell_type": "markdown",
   "metadata": {
    "_cell_guid": "73d5187f-5339-621d-3a55-1ba0f22384a5"
   },
   "source": [
    "Both monthly income and debt : income seem to have a relationship with default. People with higher stated incomes defaulted less often than those with lower incomes, regardless of the size of the loan. And as is intuitive, loans are more likely to default if the ratio of debt to income is higher. "
   ]
  },
  {
   "cell_type": "code",
   "execution_count": null,
   "metadata": {
    "_cell_guid": "b19c2ced-dc24-b39f-c6ad-0fc2b5343f16",
    "collapsed": true
   },
   "outputs": [],
   "source": [
    "fig = plt.figure()\n",
    "\n",
    "ax1 = fig.add_subplot(221)\n",
    "sns.boxplot(x=\"LoanStatus\", y=\"AvailableBankcardCredit\", data=creditscoredf).set_ylim([-1000, 50000])\n",
    "\n",
    "ax2 = fig.add_subplot(222)\n",
    "sns.boxplot(x=\"LoanStatus\", y=\"BankcardUtilization\", data=creditscoredf).set_ylim([0,2.5])"
   ]
  },
  {
   "cell_type": "markdown",
   "metadata": {
    "_cell_guid": "fd9c6cf6-1182-26dc-8688-ebe8ba981c9d"
   },
   "source": [
    "We find a similar picture to income, wherein the availability of bankcard credit coincides with completed loans, and the lower the proportion of bankcard utilization, the lower the likelihood of default."
   ]
  },
  {
   "cell_type": "code",
   "execution_count": null,
   "metadata": {
    "_cell_guid": "26236a3d-fc75-3571-7933-64524d7ba54e",
    "collapsed": true
   },
   "outputs": [],
   "source": [
    "sns.barplot(x=\"IsBorrowerHomeowner\", y=\"LoanStatus\", data=creditscoredf).set_ylim([0,1])"
   ]
  },
  {
   "cell_type": "markdown",
   "metadata": {
    "_cell_guid": "99c092e4-e32d-570e-0238-7f47be68d010"
   },
   "source": [
    "It seems homeowners default very slightly less often than renters."
   ]
  },
  {
   "cell_type": "markdown",
   "metadata": {
    "_cell_guid": "3e5f09ad-977a-70a4-2797-fb467f7e8acf"
   },
   "source": [
    "Next let's look at some credit history variables."
   ]
  },
  {
   "cell_type": "markdown",
   "metadata": {
    "_cell_guid": "48b7f649-af58-b6a3-5707-2990523a0478"
   },
   "source": [
    "### Exploring the data: credit history <a class=\"anchor\" id=\"explore4\"></a>\n",
    "\n",
    "**=> TODO: Do a boxplot plot in seaborn for LoanStatus vs TotalCreditLinesPast7years**\n",
    "**=> TODO: Do a boxplot plot in seaborn for LoanStatus vs CurrentDelinquencies**\n",
    "**=> TODO: Do a boxplot plot in seaborn for LoanStatus vs DelinquenciesLast7Years**"
   ]
  },
  {
   "cell_type": "code",
   "execution_count": null,
   "metadata": {
    "_cell_guid": "2cfcdba4-9ffd-4e6f-7532-edddd1484add",
    "collapsed": true
   },
   "outputs": [],
   "source": [
    "\n",
    "credithistorydf = data.select('LoanStatus', 'CurrentCreditLines', 'TotalCreditLinespast7years', \n",
    "                                     'CurrentDelinquencies', 'DelinquenciesLast7Years', 'LoanOriginalAmount',\n",
    "                                     'Term', 'BorrowerRate', 'CreditScore').toPandas()\n",
    "\n",
    "\n",
    "\n",
    "fig = plt.figure()\n",
    "\n",
    "ax1 = fig.add_subplot(221)\n",
    "sns.boxplot(x=\"LoanStatus\", y=\"CurrentCreditLines\", data=credithistorydf).set_ylim([0,40])\n",
    "\n",
    "ax2 = fig.add_subplot(222)\n",
    "sns.boxplot(???).set_ylim([0,100])\n",
    "\n",
    "ax3 = fig.add_subplot(223)\n",
    "sns.boxplot(???).set_ylim([0,5])\n",
    "\n",
    "ax4 = fig.add_subplot(224)\n",
    "sns.boxplot(???).set_ylim([0,20])"
   ]
  },
  {
   "cell_type": "markdown",
   "metadata": {
    "_cell_guid": "6e063751-61df-cd98-ce53-d484713f5d44"
   },
   "source": [
    "Number of credit lines doesn't seem to have a particularly significant relationship with default, but delinquencies do. Among loans that were completed, it is very rare for the debtor to have any current delinquencies. Likewise, a history of delinquency seems to indicate a propensity for default. Let's take a look at those correlations."
   ]
  },
  {
   "cell_type": "code",
   "execution_count": null,
   "metadata": {
    "_cell_guid": "29cb0847-b47b-4213-b342-07384add734e",
    "collapsed": true
   },
   "outputs": [],
   "source": [
    "delinquency = [\"CurrentDelinquencies\", \"DelinquenciesLast7Years\"]\n",
    "y = credithistorydf[\"LoanStatus\"]\n",
    "\n",
    "for var in delinquency:\n",
    "    x = credithistorydf[var]\n",
    "    r, p = st.pearsonr(x, y)\n",
    "\n",
    "    print(\"The correlation between {} and loan default is {}, with a p-value of {}\".format(var, r, p))"
   ]
  },
  {
   "cell_type": "markdown",
   "metadata": {
    "_cell_guid": "cb27c5b7-d4d0-36d3-1d1a-275996f16374"
   },
   "source": [
    "Both current and historical delinquency correlate significantly (p < 0.05) with loan status. Current delinquencies in particular should be a very strong feature for us."
   ]
  },
  {
   "cell_type": "markdown",
   "metadata": {
    "_cell_guid": "71c66d05-e86a-3a6f-417f-3f9a68798297"
   },
   "source": [
    "### Exploring the data: loan characteristics <a class=\"anchor\" id=\"explore5\"></a>"
   ]
  },
  {
   "cell_type": "markdown",
   "metadata": {
    "_cell_guid": "f7342969-cb35-f8bd-8009-c43d5b21deac"
   },
   "source": [
    "**=> TODO: Do a violin plot in seaborn for LoanStatus vs Term"
   ]
  },
  {
   "cell_type": "code",
   "execution_count": null,
   "metadata": {
    "_cell_guid": "a20d6972-dad6-366d-ba77-cfc078899b6b",
    "collapsed": true
   },
   "outputs": [],
   "source": [
    "fig = plt.figure()\n",
    "\n",
    "ax1 = fig.add_subplot(221)\n",
    "sns.violinplot(x=\"LoanStatus\", y=\"LoanOriginalAmount\", data=credithistorydf).set_ylim([0,35000])\n",
    "\n",
    "ax2 = fig.add_subplot(222)\n",
    "#TODO: violin plot loan status vs term."
   ]
  },
  {
   "cell_type": "markdown",
   "metadata": {
    "_cell_guid": "05e9a09e-ca87-7c22-801e-89a2c4473caa"
   },
   "source": [
    "The distribution of the loan amount seems to be consistent between both classes. "
   ]
  },
  {
   "cell_type": "code",
   "execution_count": null,
   "metadata": {
    "_cell_guid": "520357e5-3abf-089b-2033-66c67a7bafb8",
    "collapsed": true
   },
   "outputs": [],
   "source": [
    "credithistorydf[\"Term\"].value_counts()"
   ]
  },
  {
   "cell_type": "markdown",
   "metadata": {
    "_cell_guid": "11a89d1a-eb1d-bdc7-13a0-af3609e8528a"
   },
   "source": [
    "Prosper loans can only have a term of 12, 36, or 60 months. By far the most common is the term of 3 years. Term probably won't be of much use to us to classify our loans either then. Let's wrap up by examining interest rates."
   ]
  },
  {
   "cell_type": "code",
   "execution_count": null,
   "metadata": {
    "_cell_guid": "eeabcc4c-4c9e-b209-f006-1dcf7d90d4bd",
    "collapsed": true
   },
   "outputs": [],
   "source": [
    "sns.distplot(credithistorydf[\"BorrowerRate\"])"
   ]
  },
  {
   "cell_type": "code",
   "execution_count": null,
   "metadata": {
    "_cell_guid": "d25ccf07-8958-46c7-90b7-135deb43f45a",
    "collapsed": true
   },
   "outputs": [],
   "source": [
    "credithistorydf[\"BorrowerRate\"].describe()"
   ]
  },
  {
   "cell_type": "markdown",
   "metadata": {
    "_cell_guid": "09f0b9ff-cafd-6733-95f2-71e46808edcf"
   },
   "source": [
    "The mean interest rate (without any fees) for all Prosper loans is a fairly substantial 20.35%. From my experience and a quick google, that is roughly equivalent to that of a credit card. The standard deviation is 8.25% however, meaning that the lowest 25% of borrowers are paying a much more reasonable 13.64%, but that the top 25% of borrowers are paying 27.00% and more, before fees!\n",
    "\n",
    "**=> TODO: Do a boxplot of CreditScore vs BorrowerRate"
   ]
  },
  {
   "cell_type": "code",
   "execution_count": null,
   "metadata": {
    "_cell_guid": "cfa088ad-7c07-bd09-fe8c-8e23607a5625",
    "collapsed": true
   },
   "outputs": [],
   "source": [
    "sns.boxplot(???) # TODO: Complete"
   ]
  },
  {
   "cell_type": "markdown",
   "metadata": {
    "_cell_guid": "eec4e30b-c1d7-ae00-57a2-fa41555eff66"
   },
   "source": [
    "Generally, loans that default have a higher interest rate than loans that are paid completely, even when controlling for credit score. "
   ]
  },
  {
   "cell_type": "markdown",
   "metadata": {
    "_cell_guid": "63e2ca00-8fd5-b8d7-5c28-24a1164dd5f5"
   },
   "source": [
    "Right, so we've had the chance to take a look at some variables and their relationship to default. It seems there are a lot of good potential features available to us, although some of them are categorical and will need some work before we can use them in all of our classifiers."
   ]
  },
  {
   "cell_type": "code",
   "execution_count": null,
   "metadata": {
    "collapsed": true
   },
   "outputs": [],
   "source": []
  }
 ],
 "metadata": {
  "_change_revision": 420,
  "_is_fork": false,
  "kernelspec": {
   "display_name": "Python 3",
   "language": "python",
   "name": "python3"
  },
  "language_info": {
   "codemirror_mode": {
    "name": "ipython",
    "version": 3
   },
   "file_extension": ".py",
   "mimetype": "text/x-python",
   "name": "python",
   "nbconvert_exporter": "python",
   "pygments_lexer": "ipython3",
   "version": "3.6.6"
  }
 },
 "nbformat": 4,
 "nbformat_minor": 2
}
