{
 "cells": [
  {
   "cell_type": "markdown",
   "metadata": {},
   "source": [
    "# Visualize House Sales Data\n",
    "\n",
    "Let's use pandas and matplotlib to help us to visualize sales data."
   ]
  },
  {
   "cell_type": "code",
   "execution_count": null,
   "metadata": {},
   "outputs": [],
   "source": [
    "import numpy as np\n",
    "import pandas as pd\n",
    "import matplotlib.pyplot as plt\n",
    "import seaborn as sns \n",
    "%matplotlib inline\n",
    "\n",
    "print('Spark UI running on http://YOURIPADDRESS:' + sc.uiWebUrl.split(':')[2])"
   ]
  },
  {
   "cell_type": "markdown",
   "metadata": {},
   "source": [
    "## Read and Display data"
   ]
  },
  {
   "cell_type": "code",
   "execution_count": null,
   "metadata": {
    "scrolled": true
   },
   "outputs": [],
   "source": [
    "house_prices = spark.read.csv(\"/data/house-prices/house-sales-simplified.csv\", header=True, inferSchema=True)\n",
    "house_prices.show(10)"
   ]
  },
  {
   "cell_type": "markdown",
   "metadata": {},
   "source": [
    "## 'Summary' of data"
   ]
  },
  {
   "cell_type": "code",
   "execution_count": null,
   "metadata": {},
   "outputs": [],
   "source": [
    "## TODO : use describe to get an idea of the data\n",
    "## Hint : 'describe' and 'show'\n",
    "house_prices.select('PropertyType', 'Bedrooms','Bathrooms','SqFtTotLiving','SqFtLot').???().???()\n",
    "\n"
   ]
  },
  {
   "cell_type": "markdown",
   "metadata": {},
   "source": [
    "## Histogram / Frequency Plot\n",
    "Create a frequency table & histogram plot based on number of bedrooms"
   ]
  },
  {
   "cell_type": "code",
   "execution_count": null,
   "metadata": {},
   "outputs": [],
   "source": [
    "# TODO\n",
    "freq_count = house_prices.groupBy('Bedrooms').count().toPandas()\n",
    "print(freq_count)\n",
    "\n",
    "## Complete Seaborn.barplot ()\n",
    "## Hint : x label : 'Bedrooms'\n",
    "##        y label : 'count\n",
    "##        data=freq_count\n",
    "sns.barplot(x=\"???\", y=\"???\",  data=???);"
   ]
  },
  {
   "cell_type": "markdown",
   "metadata": {},
   "source": [
    "## Create a BoxPlot on sale prices \n",
    "Sale prices per property type  (Single Family, Townhouse)"
   ]
  },
  {
   "cell_type": "code",
   "execution_count": null,
   "metadata": {},
   "outputs": [],
   "source": [
    "price_by_property_type = house_prices.select('PropertyType', 'SalePrice').toPandas()\n",
    "print(price_by_property_type)\n",
    "\n",
    "## TODO : data=price_by_property_type\n",
    "sns.boxplot(x=\"PropertyType\", y=\"SalePrice\",  data=???);\n"
   ]
  },
  {
   "cell_type": "markdown",
   "metadata": {},
   "source": [
    "## Create a 3D plot !\n",
    "Create a 3d plot of   SalePrice ~ SqFtTotLiving + SqFtLot"
   ]
  },
  {
   "cell_type": "code",
   "execution_count": null,
   "metadata": {},
   "outputs": [],
   "source": [
    "house_prices_pd = house_prices.select('SalePrice', 'SqFtTotLiving', 'SqFtLot').toPandas()\n",
    "print(house_prices_pd)\n",
    "\n",
    "from mpl_toolkits.mplot3d import Axes3D\n",
    "fig = plt.figure()\n",
    "ax = fig.add_subplot(111, projection='3d')\n",
    "\n",
    "\n",
    "ax.scatter(house_prices_pd['SalePrice'], house_prices_pd['SqFtTotLiving'], \n",
    "           house_prices_pd['SqFtLot'], cmap=plt.hot())\n",
    "plt.show()"
   ]
  },
  {
   "cell_type": "markdown",
   "metadata": {},
   "source": [
    "## Any other plots?\n",
    "Look at [MatplotLib Examples](https://matplotlib.org/gallery.html).\n",
    "If any of them inspire you try to create a graph like that!\n",
    "And do show it off to the class  :-)"
   ]
  }
 ],
 "metadata": {
  "kernelspec": {
   "display_name": "Python 3",
   "language": "python",
   "name": "python3"
  },
  "language_info": {
   "codemirror_mode": {
    "name": "ipython",
    "version": 3
   },
   "file_extension": ".py",
   "mimetype": "text/x-python",
   "name": "python",
   "nbconvert_exporter": "python",
   "pygments_lexer": "ipython3",
   "version": "3.6.2"
  }
 },
 "nbformat": 4,
 "nbformat_minor": 1
}
