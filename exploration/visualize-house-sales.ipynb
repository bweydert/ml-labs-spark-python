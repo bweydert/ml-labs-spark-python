{
 "cells": [
  {
   "cell_type": "markdown",
   "metadata": {},
   "source": [
    "# Visualize House Sales Data\n",
    "\n",
    "Let's use pandas and matplotlib to help us to visualize sales data."
   ]
  },
  {
   "cell_type": "code",
   "execution_count": null,
   "metadata": {
    "collapsed": true
   },
   "outputs": [],
   "source": [
    "import numpy as np\n",
    "import pandas as pd\n",
    "import matplotlib.pyplot as plt\n",
    "import seaborn as sns \n",
    "%matplotlib inline\n",
    "\n",
    "print('Spark UI running on http://YOURIPADDRESS:' + sc.uiWebUrl.split(':')[2])"
   ]
  },
  {
   "cell_type": "markdown",
   "metadata": {},
   "source": [
    "## Read and Display data"
   ]
  },
  {
   "cell_type": "code",
   "execution_count": null,
   "metadata": {
    "scrolled": true
   },
   "outputs": [],
   "source": [
    "house_prices = spark.read.csv(\"/data/house-prices/house-sales-simplified.csv\",\\\n",
    "                              header=True, inferSchema=True)\n",
    "print(\"read {:,} records in {:,.2f} ms\".format(house_prices.count(), (t2-t1)*1000))\n",
    "house_prices.show(10)"
   ]
  },
  {
   "cell_type": "markdown",
   "metadata": {},
   "source": [
    "## 'Summary' of data"
   ]
  },
  {
   "cell_type": "code",
   "execution_count": null,
   "metadata": {
    "collapsed": true
   },
   "outputs": [],
   "source": [
    "## TODO : use describe to get an idea of the data\n",
    "## Hint : 'describe' and 'show'\n",
    "house_prices.select('PropertyType', 'SalePrice', 'Bedrooms','Bathrooms','SqFtTotLiving','SqFtLot').???().???()\n"
   ]
  },
  {
   "cell_type": "markdown",
   "metadata": {},
   "source": [
    "## Histogram / Frequency Plot\n",
    "Create a frequency table & histogram plot based on number of bedrooms"
   ]
  },
  {
   "cell_type": "code",
   "execution_count": null,
   "metadata": {
    "collapsed": true
   },
   "outputs": [],
   "source": [
    "## calculate a frequency count\n",
    "## This happens in Spark\n",
    "## Hint : group by 'Bedrooms'\n",
    "freq_count = house_prices.groupBy(\"???\").count()\n",
    "freq_count.show()"
   ]
  },
  {
   "cell_type": "code",
   "execution_count": null,
   "metadata": {
    "collapsed": true
   },
   "outputs": [],
   "source": [
    "## To plot the data, we need to convert Spark dataframe into Pandas dataframe\n",
    "## Can you explain why?\n",
    "## Are there any pitfalls of converting Spark dataframe into pandas dataframe?\n",
    "##        Hint : size of data\n",
    "\n",
    "freq_count_pd = freq_count.toPandas()\n",
    "freq_count_pd"
   ]
  },
  {
   "cell_type": "code",
   "execution_count": null,
   "metadata": {
    "collapsed": true
   },
   "outputs": [],
   "source": [
    "## Complete Seaborn.barplot ()\n",
    "## Hint : x label : 'Bedrooms'\n",
    "##        y label : 'count\n",
    "##        data=freq_count_pd\n",
    "sns.barplot(x=\"???\", y=\"???\",  data=???);\n",
    "plt.show()"
   ]
  },
  {
   "cell_type": "markdown",
   "metadata": {},
   "source": [
    "## Create a BoxPlot on sale prices \n",
    "Sale prices per property type  (Single Family, Townhouse)"
   ]
  },
  {
   "cell_type": "code",
   "execution_count": null,
   "metadata": {
    "collapsed": true
   },
   "outputs": [],
   "source": [
    "price_by_property_type = house_prices.select('PropertyType', 'SalePrice').toPandas()\n",
    "price_by_property_type"
   ]
  },
  {
   "cell_type": "code",
   "execution_count": null,
   "metadata": {
    "collapsed": true
   },
   "outputs": [],
   "source": [
    "## TODO : data=price_by_property_type\n",
    "sns.boxplot(x=\"PropertyType\", y=\"SalePrice\",  data=???);\n",
    "plt.show()"
   ]
  },
  {
   "cell_type": "markdown",
   "metadata": {},
   "source": [
    "## Bonus Lab : Improving our plot\n",
    "Our plot data is pretty 'squished'  Let's see if we can improve it.  \n",
    "Some of the outliers (like the 33 bedroom house is messing up the display).  \n",
    "Let's remove the outliers."
   ]
  },
  {
   "cell_type": "code",
   "execution_count": null,
   "metadata": {
    "collapsed": true
   },
   "outputs": [],
   "source": [
    "## We are going to remove 10% off the data from the bottom and top\n",
    "\n",
    "## first calculate 10%  and 90% prices\n",
    "## Hint : supply the right parameters for approxQuantile (10% --> 0.1,  90% --> 0.9)\n",
    "ten_ninety = house_prices.stat.approxQuantile(\"SalePrice\", [???, ???], 0.0)\n",
    "\n",
    "## extract 10% and 90% into variables\n",
    "ten_percent_price = int(ten_ninety[0])\n",
    "ninety_percent_price = int(ten_ninety[1])\n",
    "print(\"10% price=\", ten_percent_price,  \", 90% price=\", ninety_percent_price)"
   ]
  },
  {
   "cell_type": "code",
   "execution_count": null,
   "metadata": {
    "collapsed": true
   },
   "outputs": [],
   "source": [
    "## filter out below 10% and above 90%\n",
    "print(\"total sales \", house_prices.count())\n",
    "\n",
    "## filter prices above 10%  (hint : ten_percent_price)\n",
    "above_ten = house_prices.filter(house_prices[\"SalePrice\"] >= ten_percent_price)\n",
    "print(\"above 10% \" , above_ten.count())\n",
    "\n",
    "## filter prices below 90%  (hint : <= ninety_percent_price)\n",
    "below_ninety  = house_prices.filter(house_prices[\"SalePrice\"] <= ???)\n",
    "print(\"below 90% \", below_ninety.count())\n",
    "\n",
    "## filter above 10% and below 90% in one query\n",
    "above_ten_below_ninety = house_prices.filter(\\\n",
    "                                            (house_prices[\"SalePrice\"] >= ???)\\  # hint : ten_percent_price\n",
    "                                             &\\\n",
    "                                             (house_prices[\"SalePrice\"] <= ???))  # hint : ninety_percent_price\n",
    "print(\"between 10% and 90% \", above_ten_below_ninety.count())"
   ]
  },
  {
   "cell_type": "code",
   "execution_count": null,
   "metadata": {
    "collapsed": true
   },
   "outputs": [],
   "source": [
    "## Plot again!\n",
    "\n",
    "mid_tier_sales = above_ten_below_ninety.select('PropertyType', 'SalePrice').toPandas()\n",
    "mid_tier_sales"
   ]
  },
  {
   "cell_type": "code",
   "execution_count": null,
   "metadata": {
    "collapsed": true
   },
   "outputs": [],
   "source": [
    "sns.boxplot(x=\"PropertyType\", y=\"SalePrice\",  data=mid_tier_sales);"
   ]
  },
  {
   "cell_type": "markdown",
   "metadata": {},
   "source": [
    "## Any other plots?\n",
    "Look at [MatplotLib Examples](https://matplotlib.org/gallery.html).\n",
    "If any of them inspire you try to create a graph like that!\n",
    "And do show it off to the class  :-)"
   ]
  }
 ],
 "metadata": {
  "kernelspec": {
   "display_name": "Python 3",
   "language": "python",
   "name": "python3"
  },
  "language_info": {
   "codemirror_mode": {
    "name": "ipython",
    "version": 3
   },
   "file_extension": ".py",
   "mimetype": "text/x-python",
   "name": "python",
   "nbconvert_exporter": "python",
   "pygments_lexer": "ipython3",
   "version": "3.6.3"
  }
 },
 "nbformat": 4,
 "nbformat_minor": 1
}
