{
 "cells": [
  {
   "cell_type": "markdown",
   "metadata": {},
   "source": [
    "# Visualize House Sales Data\n",
    "\n",
    "Let's use pandas and matplotlib to help us to visualize sales data."
   ]
  },
  {
   "cell_type": "code",
   "execution_count": 12,
   "metadata": {
    "collapsed": false
   },
   "outputs": [],
   "source": [
    "import numpy as np\n",
    "import pandas as pd\n",
    "import matplotlib.pyplot as plt\n",
    "%matplotlib inline\n",
    "\n",
    "print('Spark UI running on http://YOURIPADDRESS:' + sc.uiWebUrl.split(':')[2])"
   ]
  },
  {
   "cell_type": "markdown",
   "metadata": {},
   "source": [
    "## Read and Display data"
   ]
  },
  {
   "cell_type": "code",
   "execution_count": 1,
   "metadata": {
    "collapsed": false,
    "scrolled": true
   },
   "outputs": [
    {
     "name": "stdout",
     "output_type": "stream",
     "text": [
      "+---+-------+---------+----------+-------------+--------+---------+-------------+-------+-------+\n",
      "| ID|   Date|SalePrice|PropertyID| PropertyType|Bedrooms|Bathrooms|SqFtTotLiving|SqFtLot|YrBuilt|\n",
      "+---+-------+---------+----------+-------------+--------+---------+-------------+-------+-------+\n",
      "|  1|9/16/14|   280000|   1000102|    Multiplex|       6|      3.0|         2400|   9373|   1991|\n",
      "|  2|6/16/06|  1000000|   1200013|Single Family|       4|     3.75|         3764|  20156|   2005|\n",
      "|  3|1/29/07|   745000|   1200019|Single Family|       4|     1.75|         2060|  26036|   1947|\n",
      "|  4|2/25/08|   425000|   2800016|Single Family|       5|     3.75|         3200|   8618|   1966|\n",
      "|  5|3/29/13|   240000|   2800024|Single Family|       4|     1.75|         1720|   8620|   1948|\n",
      "|  6|3/30/09|   349900|   3600090|    Townhouse|       2|      1.5|          930|   1012|   2008|\n",
      "|  7|8/28/13|   327500|   3800004|Single Family|       3|      1.5|         1750|  34465|   1961|\n",
      "|  8|5/24/07|   347000|   3800009|Single Family|       4|     1.75|         1860|  14659|   1963|\n",
      "|  9|9/22/06|   220400|   6600055|Single Family|       2|      1.0|          990|   5324|   1930|\n",
      "| 10|8/22/06|   437500|   7200080|    Multiplex|       4|      2.0|         1980|  10585|   1924|\n",
      "+---+-------+---------+----------+-------------+--------+---------+-------------+-------+-------+\n",
      "only showing top 10 rows\n",
      "\n"
     ]
    }
   ],
   "source": [
    "house_prices = spark.read.csv(\"/data/house-prices/house-sales-simplified.csv\", header=True, inferSchema=True)\n",
    "house_prices.show(10)"
   ]
  },
  {
   "cell_type": "markdown",
   "metadata": {},
   "source": [
    "## 'Summary' of data"
   ]
  },
  {
   "cell_type": "code",
   "execution_count": 2,
   "metadata": {
    "collapsed": false
   },
   "outputs": [
    {
     "name": "stdout",
     "output_type": "stream",
     "text": [
      "+-------+-----------------+------+-----------------+--------------------+------------+------------------+------------------+-----------------+------------------+------------------+\n",
      "|summary|               ID|  Date|        SalePrice|          PropertyID|PropertyType|          Bedrooms|         Bathrooms|    SqFtTotLiving|           SqFtLot|           YrBuilt|\n",
      "+-------+-----------------+------+-----------------+--------------------+------------+------------------+------------------+-----------------+------------------+------------------+\n",
      "|  count|            27063| 27063|            27063|               27063|       27063|             27063|             27063|            27063|             27063|             27063|\n",
      "|   mean|          13532.0|  null|511626.2031186491| 4.680324882081883E9|        null|  3.38015002032295|2.2555518604737097|2122.963160033995|10997.679747256401|1977.0868713742009|\n",
      "| stddev|7812.559503773396|  null|342821.1687621066|2.8963509791501536E9|        null|0.8954474026731043|0.7711908718098446|939.8394756826191|28110.662009221247| 30.92149089181688|\n",
      "|    min|                1|1/1/07|             3000|             1000102|   Multiplex|                 0|               0.0|              370|               494|              1900|\n",
      "|    max|            27063|9/9/14|         11000000|          9906000035|   Townhouse|                33|               8.0|            10740|           1024068|              2016|\n",
      "+-------+-----------------+------+-----------------+--------------------+------------+------------------+------------------+-----------------+------------------+------------------+\n",
      "\n"
     ]
    }
   ],
   "source": [
    "house_prices.describe().show()\n",
    "# copy this output to a text editor to see\n",
    "\n"
   ]
  },
  {
   "cell_type": "markdown",
   "metadata": {},
   "source": [
    "## Histogram / Frequency Plot\n",
    "Create a frequency table & histogram plot based on number of bedrooms"
   ]
  },
  {
   "cell_type": "code",
   "execution_count": 24,
   "metadata": {
    "collapsed": false
   },
   "outputs": [
    {
     "data": {
      "text/plain": [
       "<matplotlib.axes._subplots.AxesSubplot at 0x117a13d30>"
      ]
     },
     "execution_count": 24,
     "metadata": {},
     "output_type": "execute_result"
    },
    {
     "data": {
      "image/png": "[encoded data removed]",
      "text/plain": [
       "<matplotlib.figure.Figure at 0x1179211d0>"
      ]
     },
     "metadata": {},
     "output_type": "display_data"
    }
   ],
   "source": [
    "# TODO\n",
    "\n",
    "freq_count = house_prices.groupBy('Bedrooms').count().toPandas()\n",
    "\n",
    "freq_count.plot.bar()"
   ]
  },
  {
   "cell_type": "markdown",
   "metadata": {},
   "source": [
    "## Create a BoxPlot on sale prices \n",
    "Sale prices per property type  (Single Family, Townhouse)"
   ]
  },
  {
   "cell_type": "code",
   "execution_count": null,
   "metadata": {
    "collapsed": true
   },
   "outputs": [],
   "source": [
    "# TODO\n",
    "\n"
   ]
  },
  {
   "cell_type": "markdown",
   "metadata": {},
   "source": [
    "## Binplot\n",
    "plot houses sold within these price ranges\n",
    "< 250k,    250k-500k ,  500k-750k,  750k - 1M, 1M + \n",
    "\n",
    "Also create a boxplot for these price ranges"
   ]
  },
  {
   "cell_type": "code",
   "execution_count": null,
   "metadata": {
    "collapsed": true
   },
   "outputs": [],
   "source": [
    "# TODO"
   ]
  },
  {
   "cell_type": "markdown",
   "metadata": {},
   "source": [
    "## Pie\n",
    "Create a pie chart of houses solde in 2006, 2005, 2004"
   ]
  },
  {
   "cell_type": "code",
   "execution_count": null,
   "metadata": {
    "collapsed": true
   },
   "outputs": [],
   "source": [
    "## TODO"
   ]
  },
  {
   "cell_type": "markdown",
   "metadata": {},
   "source": [
    "## Create a 3D plot !\n",
    "Create a 3d plot of   SalePrice ~ SqFtTotLiving + SqFtLot"
   ]
  },
  {
   "cell_type": "code",
   "execution_count": null,
   "metadata": {
    "collapsed": true
   },
   "outputs": [],
   "source": [
    "# TODO"
   ]
  },
  {
   "cell_type": "markdown",
   "metadata": {},
   "source": [
    "## Heat Map\n",
    "We are going to see which months see lots of activity in housing market.\n",
    "Produce a heat map of Month ~ number of transactions for that month"
   ]
  },
  {
   "cell_type": "code",
   "execution_count": null,
   "metadata": {
    "collapsed": true
   },
   "outputs": [],
   "source": [
    "# TODO"
   ]
  },
  {
   "cell_type": "markdown",
   "metadata": {},
   "source": [
    "## Any other plots?\n",
    "Look at [MatplotLib Examples](https://matplotlib.org/gallery.html).\n",
    "If any of them inspire you try to create a graph like that!\n",
    "And do show it off to the class  :-)"
   ]
  }
 ],
 "metadata": {
  "kernelspec": {
   "display_name": "Python 3",
   "language": "python",
   "name": "python3"
  },
  "language_info": {
   "codemirror_mode": {
    "name": "ipython",
    "version": 3
   },
   "file_extension": ".py",
   "mimetype": "text/x-python",
   "name": "python",
   "nbconvert_exporter": "python",
   "pygments_lexer": "ipython3",
   "version": "3.5.2"
  }
 },
 "nbformat": 4,
 "nbformat_minor": 1
}
