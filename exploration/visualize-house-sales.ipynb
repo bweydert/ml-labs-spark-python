{
 "cells": [
  {
   "cell_type": "markdown",
   "metadata": {},
   "source": [
    "# Visualize House Sales Data\n",
    "\n",
    "Let's use pandas and matplotlib to help us to visualize sales data."
   ]
  },
  {
   "cell_type": "code",
   "execution_count": null,
   "metadata": {
    "collapsed": false
   },
   "outputs": [],
   "source": [
    "import numpy as np\n",
    "import pandas as pd\n",
    "import matplotlib.pyplot as plt\n",
    "%matplotlib inline\n",
    "\n",
    "print('Spark UI running on http://YOURIPADDRESS:' + sc.uiWebUrl.split(':')[2])"
   ]
  },
  {
   "cell_type": "markdown",
   "metadata": {},
   "source": [
    "## Read and Display data"
   ]
  },
  {
   "cell_type": "code",
   "execution_count": null,
   "metadata": {
    "collapsed": false,
    "scrolled": true
   },
   "outputs": [],
   "source": [
    "house_prices = spark.read.csv(\"/data/house-prices/house-sales-simplified.csv\", header=True, inferSchema=True)\n",
    "house_prices.show(10)"
   ]
  },
  {
   "cell_type": "markdown",
   "metadata": {},
   "source": [
    "## 'Summary' of data"
   ]
  },
  {
   "cell_type": "code",
   "execution_count": null,
   "metadata": {
    "collapsed": false
   },
   "outputs": [],
   "source": [
    "house_prices.select('PropertyType', 'Bedrooms','Bathrooms','SqFtTotLiving','SqFtLot').describe().show()\n",
    "# copy this output to a text editor to see\n",
    "\n"
   ]
  },
  {
   "cell_type": "markdown",
   "metadata": {},
   "source": [
    "## Histogram / Frequency Plot\n",
    "Create a frequency table & histogram plot based on number of bedrooms"
   ]
  },
  {
   "cell_type": "code",
   "execution_count": null,
   "metadata": {
    "collapsed": false
   },
   "outputs": [],
   "source": [
    "# TODO\n",
    "freq_count = house_prices.groupBy('Bedrooms').count().toPandas()\n",
    "\n",
    "sns.barplot(x=\"Bedrooms\", y=\"count\",  data=freq_count);"
   ]
  },
  {
   "cell_type": "markdown",
   "metadata": {},
   "source": [
    "## Create a BoxPlot on sale prices \n",
    "Sale prices per property type  (Single Family, Townhouse)"
   ]
  },
  {
   "cell_type": "code",
   "execution_count": null,
   "metadata": {
    "collapsed": true
   },
   "outputs": [],
   "source": [
    "# TODO\n",
    "\n",
    "sales_type_pd = house_prices.select('PropertyType', 'SalePrice').toPandas()\n",
    "\n",
    "sns.boxplot(x=\"PropertyType\", y=\"SalePrice\",  data=sales_type_pd);\n"
   ]
  },
  {
   "cell_type": "markdown",
   "metadata": {},
   "source": [
    "## Create a 3D plot !\n",
    "Create a 3d plot of   SalePrice ~ SqFtTotLiving + SqFtLot"
   ]
  },
  {
   "cell_type": "code",
   "execution_count": null,
   "metadata": {
    "collapsed": true
   },
   "outputs": [],
   "source": [
    "# TODO\n",
    "\n",
    "\n",
    "house_prices_pd = house_prices.select('SalePrice', 'SqFtTotLiving', 'SqFtLot').toPandas()\n",
    "\n",
    "from mpl_toolkits.mplot3d import Axes3D\n",
    "fig = plt.figure()\n",
    "ax = fig.add_subplot(111, projection='3d')\n",
    "\n",
    "\n",
    "ax.scatter(house_prices_pd['SalePrice'], house_prices_pd['SqFtTotLiving'], \n",
    "           house_prices_pd['SqFtLot'], cmap=plt.hot())\n",
    "plt.show()"
   ]
  },
  {
   "cell_type": "markdown",
   "metadata": {},
   "source": [
    "## Any other plots?\n",
    "Look at [MatplotLib Examples](https://matplotlib.org/gallery.html).\n",
    "If any of them inspire you try to create a graph like that!\n",
    "And do show it off to the class  :-)"
   ]
  }
 ],
 "metadata": {
  "kernelspec": {
   "display_name": "Python 3",
   "language": "python",
   "name": "python3"
  },
  "language_info": {
   "codemirror_mode": {
    "name": "ipython",
    "version": 3
   },
   "file_extension": ".py",
   "mimetype": "text/x-python",
   "name": "python",
   "nbconvert_exporter": "python",
   "pygments_lexer": "ipython3",
   "version": "3.5.2"
  }
 },
 "nbformat": 4,
 "nbformat_minor": 1
}
