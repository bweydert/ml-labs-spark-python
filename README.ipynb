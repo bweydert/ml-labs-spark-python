{
 "cells": [
  {
   "cell_type": "markdown",
   "metadata": {},
   "source": [
    "<link rel='stylesheet' href='assets/css/main.css'/>\n",
    "\n",
    "\n",
    "Machine Learning With Spark\n",
    "=====================\n",
    "\n",
    "Viewing the files:\n",
    "-----------------\n",
    "Markdown files are plain text files and can be viewed in any text editor.\n",
    "\n",
    "For best viewing experience we recommend the following setup:\n",
    "* Get Chrome browser from : https://www.google.com/chrome/browser/desktop/\n",
    "* Install Markdown preview plus plug-in : https://chrome.google.com/webstore/detail/markdown-preview-plus/febilkbfcbhebfnokafefeacimjdckgl?hl=en-US\n",
    "* Once installed, go to 'Window --> Extensions' menu of Chrome ;   Find 'Markdown Preview Plus' plug-in ;  set 'Allow access to file URLs'\n",
    "* Open this file (README.md) file using Chrome (File --> Open)\n",
    "\n",
    "\n",
    "Jupyter notebook files (.ipynb) must be run with Jupyter notebook.  As these are spark labs, they should be run with a spark kernel.  There are\n",
    "several ways to do this. One way is to run the script included here"
   ]
  },
  {
   "cell_type": "code",
   "execution_count": null,
   "metadata": {
    "collapsed": true
   },
   "outputs": [],
   "source": [
    "%%bash\n",
    "./run_jupyter.sh"
   ]
  },
  {
   "cell_type": "markdown",
   "metadata": {},
   "source": [
    "Labs\n",
    "----\n",
    "\n",
    " * 1.1. Linear Regression Intro - [Jupyter Notebook](linear-regression/1-lr.ipynb)\n",
    " * 1.2. Multiple Linear Regresssion: House Prices - [Jupyter Notebook](linear-regression/2-mlr-house-prices.ipynb)\n",
    " * 1.3. Multiple Linear Regresssion: AIC House Prices - [Jupyter Notebook](linear-regression/3-mlr-AIC-house-prices.ipynb)\n",
    " * 2.1. Logistic Regression Intro - [Jupyter Notebook](logistic-regression/1-credit-approval.ipynb)\n",
    " * 3.1. Clustering Intro - [Jupyter Notebook](clustering/1-kmeans-mtcars.ipynb)\n",
    " * 3.2. Clustering: Walmart  - [Jupyter Notebook](clustering/1-kmeans-walmart.ipynb)\n",
    " * 4.1. Dimensionality Reduction (PCA): Walmart  - [Jupyter Notebook](dim-reduction/1-pca-walmart.ipynb)\n",
    " * 5.1. Text Mining (Naive Bayes): Spam SMS  - [Jupyter Notebook](text-mining/1-naive-bayes.ipynb)\n",
    "\n",
    "\n",
    "\n",
    "## How to Run these labs:\n",
    "\n",
    "You can run the [script](./run_jupyter.sh).  Or, you can type the following on the command line. It's best if it's all on one line."
   ]
  },
  {
   "cell_type": "code",
   "execution_count": null,
   "metadata": {
    "collapsed": true
   },
   "outputs": [],
   "source": [
    "%%bash\n",
    "  PYSPARK_PYTHON=python3 PYSPARK_DRIVER_PYTHON=\"jupyter\" PYSPARK_DRIVER_PYTHON_OPTS=\"notebook\" ~/spark/bin/pyspark"
   ]
  },
  {
   "cell_type": "markdown",
   "metadata": {},
   "source": [
    "```"
   ]
  }
 ],
 "metadata": {
  "kernelspec": {
   "display_name": "Python 3",
   "language": "python",
   "name": "python3"
  },
  "language_info": {
   "codemirror_mode": {
    "name": "ipython",
    "version": 3
   },
   "file_extension": ".py",
   "mimetype": "text/x-python",
   "name": "python",
   "nbconvert_exporter": "python",
   "pygments_lexer": "ipython3",
   "version": "3.5.2"
  }
 },
 "nbformat": 4,
 "nbformat_minor": 0
}
