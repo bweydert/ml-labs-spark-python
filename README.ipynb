{
 "cells": [
  {
   "cell_type": "markdown",
   "metadata": {},
   "source": [
    "# Machine Learning With Spark + Python"
   ]
  },
  {
   "cell_type": "markdown",
   "metadata": {},
   "source": [
    "## Getting the Data\n",
    "The dataset is located [here](https://s3.amazonaws.com/elephantscale-public/data/datasets.zip)\n",
    "\n",
    "Option 1: Click on the above link to download\n",
    "\n",
    "Option 2: Using command line client like wget\n",
    "\n",
    "```bash\n",
    "    $    wget 'https://s3.amazonaws.com/elephantscale-public/data/datasets.zip'\n",
    "```"
   ]
  },
  {
   "cell_type": "markdown",
   "metadata": {},
   "source": [
    "## How to run the labs\n",
    "The labs are in Jupyter notebook format (.ipynb).  \n",
    "We have provided a handy script to run the labs\n",
    "\n",
    "```bash\n",
    "   $    cd <to the labs dir>\n",
    "   \n",
    "   $   nohup ./run_jupyter.sh &\n",
    "```"
   ]
  },
  {
   "cell_type": "markdown",
   "metadata": {},
   "source": [
    "## Labs\n",
    "\n",
    "###  1 - Hello world & Testing\n",
    "- 1.1 : [Hello Jupyter](0-testing/hello-jupyter.ipynb)\n",
    "- 1.2 : [Test the setup](0-testing/testing-123.ipynb)\n",
    "\n",
    "### 2 - [Optional] Exploring Numpy and Pandas\n",
    "Bonus labs for students (Home work)\n",
    "- 2.1 [Numpy](python-analysis/numpy.ipynb)\n",
    "- 2.2 [Pandas](python-analysis/pandas.ipynb)\n",
    "- 2.3 [Pandas 2](python-analysis/exploring-pandas.ipynb)\n",
    "\n",
    "### 3- Basics & Exploration & Visualization\n",
    "- 3.1 [Basic Stats](basic/stats-basics.ipynb)\n",
    "- 3.2 [Data Cleanup](exploration/data-cleanup.ipynb)\n",
    "- 3.3 [House Sales Exploration](exploration/explore-house-sales.ipynb)\n",
    "- 3.4 [House Sales Visualization](exploration/visualize-house-sales.ipynb)\n",
    "\n",
    "#### Bonus/Advacned Labs:\n",
    "- 3.5 [Prosper Loan Exploration](exploration/1-explore-prosper.ipynb)\n",
    "- 3.6 [Walmart Triptype Exploration](exploration/2-explore-wlamart.ipynb)\n",
    "\n",
    "\n",
    "### 4 - Feature Engineering\n",
    "- 4.1 [FE Election Data](feature-engineering/election.ipynb)\n",
    "\n",
    "### 5 - Spark ML Basics\n",
    "- 5.1 [ML Basics](basics/ml-basics.ipynb)\n",
    "- 5.2 [ML pipelines](pipeline/1-pipeline-prosper.ipynb)\n",
    "\n",
    "### 6 - Linear Regression\n",
    "- 6.1. [Linear Regression Intro](linear-regression/1-lr.ipynb)\n",
    "- 6.2. [Multiple Linear Regresssion: House Prices](linear-regression/2-mlr-house-prices.ipynb)\n",
    "- 6.3. [Multiple Linear Regresssion: AIC House Prices](linear-regression/3-mlr-AIC-house-prices.ipynb)\n",
    "\n",
    "\n",
    "### 7 - Logistic Regression\n",
    "- 7.1. [Logistic Regression: Credit card intro](logistic-regression/1-credit-approval.ipynb)\n",
    "- 7.2. [Logistic Regression: College Admission](logistic-regression/2-college-admission.ipynb)\n",
    "\n",
    "###  8 -  Classification : SVM\n",
    "- 8.1. [SVM -  College admissions](svm/1-svm-college.ipynb)\n",
    "- 8.2: [SVM - Customer chrun analysis](svm/2-svm-churn.ipynb)\n",
    "\n",
    "###  9. Classification: Decision Trees / Random Forests\n",
    "- 9.1: [Decision Trees: Prosper Loan Dataset](decision-trees/1-tree-prosper.ipynb)\n",
    "- 9.2: [Random Forests: Election Data Classification](decision-trees/2-randomf-election-classification.ipynb)\n",
    "- 9.3: [Random Forests: Eleciton Data  Regresssion](decision-trees/3-randomf-election-regression.ipynb)\n",
    "\n",
    "### 10 - Naive Bayes\n",
    "- 10.1. [Naive Bayes Spam classification](naive-bayes/1-naive-bayes.ipynb)\n",
    "\n",
    "### 11 - Clustering with K-Means\n",
    "- 11.1: [K-means intro](clustering/1-kmeans-mtcars.ipynb)\n",
    "- 11.2: [Clustering Walmart trip types](clustering/1-kmeans-walmart.ipynb)\n",
    "\n",
    "### 12 - Dimensionality Reduction\n",
    "- 12.1. [Dimensionality Reduction (PCA): Walmart](dim-reduction/1-pca-walmart.ipynb)\n",
    "\n",
    "### 13 - Recommendations\n",
    "- 13.2: [Movie recommendations using Movie Lens data](recommendations/movielense.ipynb)\n",
    "- 13.1: [Music recommendation with Audio scrobbler data](recommendations/1-recommender.ipynb)\n",
    "\n",
    "\n",
    "### 14 - Workshops\n",
    "These are designed to be team projects.  \n",
    "Choose one of the following dataset to analyze.  \n",
    "Run your analysys, discuss your finding with the class.\n",
    "\n",
    "**Datasets** \n",
    "- San Francisco Crime Data (911 call data)\n",
    "- Netflix prize data\n",
    "\n",
    "[Read more here](final-project/README.ipynb)"
   ]
  }
 ],
 "metadata": {
  "kernelspec": {
   "display_name": "Python 3",
   "language": "python",
   "name": "python3"
  },
  "language_info": {
   "codemirror_mode": {
    "name": "ipython",
    "version": 3
   },
   "file_extension": ".py",
   "mimetype": "text/x-python",
   "name": "python",
   "nbconvert_exporter": "python",
   "pygments_lexer": "ipython3",
   "version": "3.6.1"
  }
 },
 "nbformat": 4,
 "nbformat_minor": 1
}
