{
 "cells": [
  {
   "cell_type": "markdown",
   "metadata": {},
   "source": [
    "<link rel='stylesheet' href='assets/css/main.css'/>\n",
    "\n",
    "\n",
    "# Machine Learning With Spark\n",
    "\n",
    "\n",
    "## Viewing the files:\n",
    "\n",
    "Markdown files are plain text files and can be viewed in any text editor.\n",
    "\n",
    "For best viewing experience we recommend the following setup:\n",
    "* Get Chrome browser from : https://www.google.com/chrome/browser/desktop/\n",
    "* Install Markdown preview plus plug-in : https://chrome.google.com/webstore/detail/markdown-preview-plus/febilkbfcbhebfnokafefeacimjdckgl?hl=en-US\n",
    "* Once installed, go to 'Window --> Extensions' menu of Chrome ;   Find 'Markdown Preview Plus' plug-in ;  set 'Allow access to file URLs'.  Also set 'MPP Options --> 'Enable HTML content'\n",
    "* Open this file (README.ipynb) file using Chrome (File --> Open)\n"
   ]
  },
  {
   "cell_type": "markdown",
   "metadata": {},
   "source": [
    "## Getting the Data\n",
    "The dataset is located [here](https://s3.amazonaws.com/elephantscale-public/data/dataets.zip)\n",
    "\n",
    "Option 1: Click on the above link to download\n",
    "\n",
    "Option 2: Using command line client like wget\n",
    "\n",
    "```bash\n",
    "    $    wget 'https://s3.amazonaws.com/elephantscale-public/data/dataets.zip'\n",
    "```"
   ]
  },
  {
   "cell_type": "markdown",
   "metadata": {},
   "source": [
    "## How to run the labs\n",
    "The labs are in Jupyter notebook format (.ipynb).  \n",
    "We have provided a handy script to run the labs\n",
    "\n",
    "```bash\n",
    "   $    cd <to the labs dir>\n",
    "   \n",
    "   $   ./run_jupyter.sh\n",
    "```"
   ]
  },
  {
   "cell_type": "markdown",
   "metadata": {},
   "source": [
    "## Labs\n",
    "\n",
    "This is the **VERY FIRST** step.\n",
    "Testing our environment setup\n",
    "[Test the setup](0-testing/testing-123.ipynb)\n",
    "\n",
    " 1. **Python Analysis**\n",
    "    * 1.1 Numpy - [Jupyter Notebook](python-analysis/numpy.ipynb)\n",
    "    * 1.2 Pandas - [Jupyter Notebook](python-analysis/pandas.ipynb)\n",
    "    * 1.3 Exporing Pandas - [Jupyter Notebook](python-analysis/exploring-pandas.ipynb)\n",
    "\n",
    " 2. **Exploration**\n",
    "    * 2.1 Data Cleanup - [Jupyter Notebook](exploration/data-cleanup.ipynb)\n",
    "    * 2.2 House Sales Exploration - [Jupyter Notebook](exploration/explore-house-sales.ipynb)\n",
    "    * 2.3 House Sales Visualization - [Jupyter Notebook](exploration/visualize-house-sales.ipynb)\n",
    "    * 2.4 Prosper Loan Exploration - [Jupyter Notebook](exploration/1-explore-prosper.ipynb)\n",
    "    * 2.5 Walmart Triptype Exploration - [Jupyter Notebook](exploration/2-explore-wlamart.ipynb)\n",
    "\n",
    " 3. **Feature Engineering**\n",
    "    * 3.1 Feature Engineering - [Jupyter Notebook](feature-engineering/election.ipynb)\n",
    "\n",
    " 4. **Spark ML Basics**\n",
    "    * 4.1 ML Basics - [Jupyter Notebook](basics/ml-basics.ipynb)\n",
    "\n",
    " 5. **Linear Regression**\n",
    "    * 5.1. Linear Regression Intro - [Jupyter Notebook](linear-regression/1-lr.ipynb)\n",
    "    * 5.2. Multiple Linear Regresssion: House Prices - [Jupyter Notebook](linear-regression/2-mlr-house-prices.ipynb)\n",
    "    * 5.3. Multiple Linear Regresssion: AIC House Prices - [Jupyter Notebook](linear-regression/3-mlr-AIC-house-prices.ipynb)\n",
    "\n",
    " 6. **Logistic Regression**\n",
    "    * 6.1. Logistic Regression Intro - [Jupyter Notebook](logistic-regression/1-credit-approval.ipynb)\n",
    "    * 6.2. Logistic Regression: College Admission - [Jupyter Notebook](logistic-regression/2-college-admission.ipynb)\n",
    "\n",
    " 7. **Pipeline**\n",
    "    * 7.1. Pipeline- Prosper Dataset - [Jupyter Notebook](pipeline/1-pipeline-prosper.ipynb)\n",
    "\n",
    " 8. **Classification**\n",
    "    * 8.1. SVM: College Dataset - [Jupyter Notebook](classification/1-svm-college.ipynb)\n",
    "\n",
    " 9. **Decision Trees**\n",
    "    * 9.1. Decision Trees: Prosper Loan Dataset - [Jupyter Notebook](decision-trees/1-tree-prosper.ipynb)\n",
    "    * 9.2. Random Forests: Election Data Classification - [Jupyter Notebook](decision-trees/2-randomf-election-classification.ipynb)\n",
    "    * 9.3. Random Forests: Eleciton Data  Regresssion - [Jupyter Notebook](decision-trees/3-randomf-election-regression.ipynb)\n",
    "\n",
    " 10. **Text Mining**\n",
    "    * 10.1. Text Mining (Naive Bayes): Spam SMS  - [Jupyter Notebook](text-mining/1-naive-bayes.ipynb)\n",
    "\n",
    " 11. **Clustering**\n",
    "    * 11.1. Clustering Intro - [Jupyter Notebook](clustering/1-kmeans-mtcars.ipynb)\n",
    "    * 11.2. Clustering: Walmart  - [Jupyter Notebook](clustering/1-kmeans-walmart.ipynb)\n",
    "\n",
    " 12. **Dimensionality Reduction**\n",
    "    * 12.1. Dimensionality Reduction (PCA): Walmart  - [Jupyter Notebook](dim-reduction/1-pca-walmart.ipynb)\n",
    "\n",
    " 13. **Recommendations**\n",
    "    * 13.1. Recommendations - [Jupyter Notebook](recommendations/1-recommender.ipynb)\n",
    "\n"
   ]
  }
 ],
 "metadata": {
  "kernelspec": {
   "display_name": "Python 3",
   "language": "python",
   "name": "python3"
  },
  "language_info": {
   "codemirror_mode": {
    "name": "ipython",
    "version": 3
   },
   "file_extension": ".py",
   "mimetype": "text/x-python",
   "name": "python",
   "nbconvert_exporter": "python",
   "pygments_lexer": "ipython3",
   "version": "3.6.1"
  }
 },
 "nbformat": 4,
 "nbformat_minor": 1
}
