{
 "cells": [
  {
   "cell_type": "markdown",
   "metadata": {},
   "source": [
    "<link rel='stylesheet' href='../assets/css/main.css'/>\n",
    "\n",
    "[<< back to main index](../README.md) \n",
    "\n",
    "# Lab : Spark Dataframes\n",
    "\n",
    "\n",
    "### Overview\n",
    "First look at Spark Dataframes\n",
    "\n",
    "### Depends On \n",
    "None\n",
    "\n",
    "### Run time\n",
    "20-30 mins\n"
   ]
  },
  {
   "cell_type": "code",
   "execution_count": null,
   "metadata": {
    "collapsed": true
   },
   "outputs": [],
   "source": [
    "print('Spark UI running on http://YOURIPADDRESS:' + sc.uiWebUrl.split(':')[2])"
   ]
  },
  {
   "cell_type": "markdown",
   "metadata": {},
   "source": [
    "\n",
    "## STEP 1: Load Clickstream data"
   ]
  },
  {
   "cell_type": "code",
   "execution_count": null,
   "metadata": {
    "attributes": {
     "classes": [
      "scala"
     ],
     "id": ""
    },
    "collapsed": true
   },
   "outputs": [],
   "source": [
    "clickstreamDF = spark.read.json(\"/data/click-stream/clickstream.json\")\n",
    "print(clickstreamDF)"
   ]
  },
  {
   "cell_type": "markdown",
   "metadata": {},
   "source": [
    "**==> Monitor Spark shell UI on port 4040**  \n",
    "You may see something like this:\n",
    "\n",
    "**==> Q : Why is Spark not lazy loading the JASON files? **\n",
    "\n",
    "<img src=\"../assets/images/5.1a.png\" style=\"border: 5px solid grey; max-width:100%;\" />\n",
    "\n",
    "\n",
    "\n",
    "\n",
    "## STEP 2 : Inspecting The Dataframe\n",
    "\n",
    "**==> Print the schema of data frame**     \n"
   ]
  },
  {
   "cell_type": "code",
   "execution_count": null,
   "metadata": {
    "collapsed": true
   },
   "outputs": [],
   "source": [
    "# TODO: Print the schema\n",
    "# Hint : `printSchema()`\n",
    "\n",
    "clickstreamDF.????()"
   ]
  },
  {
   "cell_type": "markdown",
   "metadata": {},
   "source": [
    "Your output may look like this:\n",
    "\n",
    "```\n",
    "    root\n",
    "     |-- action: string (nullable = true)\n",
    "     |-- campaign: string (nullable = true)\n",
    "     |-- cost: long (nullable = true)\n",
    "     |-- domain: string (nullable = true)\n",
    "     |-- ip: string (nullable = true)\n",
    "     |-- session: string (nullable = true)\n",
    "     |-- timestamp: long (nullable = true)\n",
    "     |-- user: string (nullable = true)\n",
    "```\n",
    "\n",
    "**==> Print / Dump the data contained within dataframe**  "
   ]
  },
  {
   "cell_type": "code",
   "execution_count": null,
   "metadata": {
    "collapsed": true
   },
   "outputs": [],
   "source": [
    "# TODO: Print/Dump the data\n",
    "# Hint : show()\n",
    "clickstreamDF.???()"
   ]
  },
  {
   "cell_type": "markdown",
   "metadata": {
    "attributes": {
     "classes": [
      "console"
     ],
     "id": ""
    },
    "collapsed": true
   },
   "source": [
    "Your output may look like this:\n",
    "\n",
    "```\n",
    "+-------+-----------+----+-----------------+----+----------+-------------+------+\n",
    "| action|   campaign|cost|           domain|  ip|   session|    timestamp|  user|\n",
    "+-------+-----------+----+-----------------+----+----------+-------------+------+\n",
    "|clicked|campaign_19| 118|      youtube.com|ip_4|session_36|1420070400000|user_9|\n",
    "|blocked|campaign_12|   5|     facebook.com|ip_3|session_96|1420070400864|user_5|\n",
    "|clicked| campaign_3|  54|sf.craigslist.org|ip_9|session_61|1420070401728|user_8|\n",
    "...\n",
    "\n",
    "```"
   ]
  },
  {
   "cell_type": "markdown",
   "metadata": {},
   "source": [
    "**==> Explore methods available in Dataframe**  \n",
    "1) Here is the Dataframe API : \n",
    "[Scala](http://spark.apache.org/docs/latest/api/scala/index.html#org.apache.spark.sql.DataFrame)  /\n",
    "[Java](http://spark.apache.org/docs/latest/api/java/org/apache/spark/sql/DataFrame.html) / \n",
    "[Python](http://spark.apache.org/docs/latest/api/python/pyspark.sql.html?highlight=dataframe#pyspark.sql.DataFrame)\n"
   ]
  },
  {
   "cell_type": "markdown",
   "metadata": {},
   "source": [
    "\n",
    "## STEP 3 : Querying Dataframe\n",
    "\n",
    "**==> Show only click logs where the cost > 100**"
   ]
  },
  {
   "cell_type": "code",
   "execution_count": null,
   "metadata": {
    "attributes": {
     "classes": [
      "scala"
     ],
     "id": ""
    },
    "collapsed": true,
    "scrolled": true
   },
   "outputs": [],
   "source": [
    "clickstreamDF.filter(\"cost > ???\").show()"
   ]
  },
  {
   "cell_type": "code",
   "execution_count": null,
   "metadata": {
    "collapsed": true
   },
   "outputs": [],
   "source": [
    "#Same thing\n",
    "clickstreamDF.filter(clickstreamDF['cost'] > ???).show()\n"
   ]
  },
  {
   "cell_type": "markdown",
   "metadata": {
    "attributes": {
     "classes": [
      "console"
     ],
     "id": ""
    },
    "collapsed": true
   },
   "source": [
    "Sample output\n",
    "\n",
    "```\n",
    "    +-------+-----------+----+-----------------+----+----------+-------------+------+\n",
    "    | action|   campaign|cost|           domain|  ip|   session|    timestamp|  user|\n",
    "    +-------+-----------+----+-----------------+----+----------+-------------+------+\n",
    "    |clicked|campaign_19| 118|      youtube.com|ip_4|session_36|1420070400000|user_9|\n",
    "    |blocked|campaign_18| 110|    wikipedia.org|ip_5|session_55|1420070402592|user_6|\n",
    "    |blocked| campaign_9| 139|          cnn.com|ip_8|session_13|1420070404320|user_7|\n",
    "```"
   ]
  },
  {
   "cell_type": "markdown",
   "metadata": {},
   "source": [
    "**==> Show the logs where action = clicked**  "
   ]
  },
  {
   "cell_type": "code",
   "execution_count": null,
   "metadata": {
    "collapsed": true
   },
   "outputs": [],
   "source": [
    "# TODO: show the logs where action = clicked\n",
    "# Hint : clickstreamDF.filter(\"action == '???'\")\n",
    "clickstreamDF.filter (\"??? == '???'\")"
   ]
  },
  {
   "cell_type": "code",
   "execution_count": null,
   "metadata": {
    "attributes": {
     "classes": [
      "scala"
     ],
     "id": ""
    },
    "collapsed": true,
    "scrolled": true
   },
   "outputs": [],
   "source": [
    "## TODO Another approach\n",
    "clickstreamDF.filter(clickstreamDF['column_name'] == '???').show()"
   ]
  },
  {
   "cell_type": "markdown",
   "metadata": {},
   "source": [
    "## Step 5 : Count the number of visits from each domain\n",
    "\n",
    "Hint : `g = clickstreamDF.groupBy(\"column_name\")`  \n",
    "* Inspect methods on `g`  (use tab completion)  \n",
    "* Then do `count` on `g`  \n",
    "* Then do a show  \n",
    "* So `clickstreamDF.groupby().count.show`  "
   ]
  },
  {
   "cell_type": "code",
   "execution_count": null,
   "metadata": {
    "collapsed": true
   },
   "outputs": [],
   "source": [
    "## TODO: \n",
    "g = clickstreamDF.groupBy(\"???\")\n",
    "\n",
    "## TODO: do the count\n",
    "# g.???()\n",
    "\n",
    "## And finally show\n",
    "# g.???().show()"
   ]
  },
  {
   "cell_type": "markdown",
   "metadata": {},
   "source": [
    "## STEP 6 : Joining Dataframes\n",
    "\n",
    "Let's load another data set `domain info`  \n",
    "The data is in   `/data/click-stream/domain-info.json`  \n",
    "The data looks like this:\n",
    "\n",
    "```json\n",
    "    {\"domain\":\"amazon.com\",\"category\":\"SHOPPING\"}\n",
    "    {\"domain\":\"bbc.co.uk\",\"category\":\"NEWS\"}\n",
    "    {\"domain\":\"facebook.com\",\"category\":\"SOCIAL\"}\n",
    "    ...\n",
    "```\n",
    "\n",
    "**==> Load the dataframe**"
   ]
  },
  {
   "cell_type": "code",
   "execution_count": null,
   "metadata": {
    "attributes": {
     "classes": [
      "scala"
     ],
     "id": ""
    },
    "collapsed": true
   },
   "outputs": [],
   "source": [
    "domainsDF = spark.read.json(\"/data/click-stream/domain-info.json\")\n",
    "print(domainsDF)\n"
   ]
  },
  {
   "cell_type": "code",
   "execution_count": null,
   "metadata": {
    "collapsed": true
   },
   "outputs": [],
   "source": [
    "## TODO display domains data\n",
    "## Hint : show()\n",
    "domainsDF.???()"
   ]
  },
  {
   "cell_type": "markdown",
   "metadata": {},
   "source": [
    "**==> Join both dataframes**"
   ]
  },
  {
   "cell_type": "code",
   "execution_count": null,
   "metadata": {
    "attributes": {
     "classes": [
      "scala"
     ],
     "id": ""
    },
    "collapsed": true
   },
   "outputs": [],
   "source": [
    "\n",
    "joined = clickstreamDF.join(domainsDF,  clickstreamDF[\"domain\"] == domainsDF[\"domain\"])\n",
    "    \n",
    "#see the results\n",
    "joined.show()"
   ]
  },
  {
   "cell_type": "markdown",
   "metadata": {
    "attributes": {
     "classes": [
      "console"
     ],
     "id": ""
    },
    "collapsed": true
   },
   "source": [
    "**==> Inspect the results, here is a sample**\n",
    "\n",
    "```\n",
    "    +-------+-----------+----+-----------------+----+----------+-------------+------+-----------+-----------------+\n",
    "    | action|   campaign|cost|           domain|  ip|   session|    timestamp|  user|   category|           domain|\n",
    "    +-------+-----------+----+-----------------+----+----------+-------------+------+-----------+-----------------+\n",
    "    |clicked|campaign_19| 118|      youtube.com|ip_4|session_36|1420070400000|user_9|      VIDEO|      youtube.com|\n",
    "    |blocked| campaign_2|   7|      youtube.com|ip_2|session_93|1420070412960|user_1|      VIDEO|      youtube.com|\n",
    "    |blocked|campaign_17|  20|       amazon.com|ip_4|session_13|1420070406048|user_1|   SHOPPING|       amazon.com|\n",
    "```"
   ]
  },
  {
   "cell_type": "markdown",
   "metadata": {},
   "source": [
    "**==> Note some rows are missing.  Which ones?  Why?**\n",
    "\n",
    "**==> Do an outer join**    "
   ]
  },
  {
   "cell_type": "code",
   "execution_count": null,
   "metadata": {
    "collapsed": true
   },
   "outputs": [],
   "source": [
    "\n",
    "joinedOuter = clickstreamDF.join(domainsDF,  clickstreamDF[\"domain\"] == domainsDF[\"domain\"], \"outer\")\n",
    "joinedOuter.show()"
   ]
  },
  {
   "cell_type": "markdown",
   "metadata": {
    "attributes": {
     "classes": [
      "console"
     ],
     "id": ""
    },
    "collapsed": true
   },
   "source": [
    "**==> Inspect the output, might look like this**  \n",
    "**==> Can you explain the null values?**\n",
    "\n",
    "Output:\n",
    "\n",
    "```\n",
    "    +-------+-----------+----+-----------------+----+----------+-------------+------+-----------+-----------------+\n",
    "    | action|   campaign|cost|           domain|  ip|   session|    timestamp|  user|   category|           domain|\n",
    "    +-------+-----------+----+-----------------+----+----------+-------------+------+-----------+-----------------+\n",
    "    |blocked| campaign_9| 139|          cnn.com|ip_8|session_13|1420070404320|user_7|       null|             null|\n",
    "    |   null|       null|null|             null|null|      null|         null|  null|     SOCIAL|      twitter.com|\n",
    "    |clicked| campaign_6|  15|comedycentral.com|ip_9|session_49|1420070403456|user_4|       null|             null|\n",
    "```"
   ]
  },
  {
   "cell_type": "markdown",
   "metadata": {},
   "source": [
    "## Step 7: Understanding Query Execution\n",
    "We will use **explain** keyword"
   ]
  },
  {
   "cell_type": "code",
   "execution_count": null,
   "metadata": {
    "collapsed": true
   },
   "outputs": [],
   "source": [
    "clickstreamDF.filter(\"cost > 100\").explain(extended=True)"
   ]
  },
  {
   "cell_type": "code",
   "execution_count": null,
   "metadata": {
    "collapsed": true
   },
   "outputs": [],
   "source": [
    "joined.explain(extended=True)"
   ]
  },
  {
   "cell_type": "code",
   "execution_count": null,
   "metadata": {
    "collapsed": true
   },
   "outputs": [],
   "source": [
    "joinedOuter.explain(extended=True)"
   ]
  }
 ],
 "metadata": {
  "kernelspec": {
   "display_name": "Python 3",
   "language": "python",
   "name": "python3"
  },
  "language_info": {
   "codemirror_mode": {
    "name": "ipython",
    "version": 3
   },
   "file_extension": ".py",
   "mimetype": "text/x-python",
   "name": "python",
   "nbconvert_exporter": "python",
   "pygments_lexer": "ipython3",
   "version": "3.6.6"
  }
 },
 "nbformat": 4,
 "nbformat_minor": 1
}
