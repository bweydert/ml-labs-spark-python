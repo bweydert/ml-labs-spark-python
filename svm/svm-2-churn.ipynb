{
 "cells": [
  {
   "cell_type": "markdown",
   "metadata": {},
   "source": [
    "# Support Vector Machines: Churn Analysis\n",
    "\n",
    "Let's look at a classification example in Spark MLLib.  We are going to look at some telecom data to see whether or not a customer \"churned\" or not.\n"
   ]
  },
  {
   "cell_type": "code",
   "execution_count": 1,
   "metadata": {},
   "outputs": [
    {
     "name": "stdout",
     "output_type": "stream",
     "text": [
      "Initializing Spark...\n",
      "Spark found in :  /home/ubuntu/spark\n",
      "Spark config:\n",
      "\t spark.app.name=TestApp\n",
      "\tspark.master=local[*]\n",
      "\texecutor.memory=2g\n",
      "\tspark.sql.warehouse.dir=/tmp/tmp_mao9uz9\n",
      "\tsome_property=some_value\n",
      "Spark UI running on port 4041\n"
     ]
    },
    {
     "data": {
      "text/html": [
       "\n",
       "            <div>\n",
       "                <p><b>SparkSession - in-memory</b></p>\n",
       "                \n",
       "        <div>\n",
       "            <p><b>SparkContext</b></p>\n",
       "\n",
       "            <p><a href=\"http://ip-172-16-0-85.ec2.internal:4041\">Spark UI</a></p>\n",
       "\n",
       "            <dl>\n",
       "              <dt>Version</dt>\n",
       "                <dd><code>v2.4.0</code></dd>\n",
       "              <dt>Master</dt>\n",
       "                <dd><code>local[*]</code></dd>\n",
       "              <dt>AppName</dt>\n",
       "                <dd><code>TestApp</code></dd>\n",
       "            </dl>\n",
       "        </div>\n",
       "        \n",
       "            </div>\n",
       "        "
      ],
      "text/plain": [
       "<pyspark.sql.session.SparkSession at 0x7f3ecc0a6320>"
      ]
     },
     "execution_count": 1,
     "metadata": {},
     "output_type": "execute_result"
    }
   ],
   "source": [
    "# initialize Spark Session\n",
    "import os\n",
    "import sys\n",
    "top_dir = os.path.abspath(os.path.join(os.getcwd(), \"../\"))\n",
    "if top_dir not in sys.path:\n",
    "    sys.path.append(top_dir)\n",
    "\n",
    "from init_spark import init_spark\n",
    "spark = init_spark()\n",
    "spark"
   ]
  },
  {
   "cell_type": "markdown",
   "metadata": {},
   "source": [
    "## Step 1: Load the data"
   ]
  },
  {
   "cell_type": "code",
   "execution_count": 2,
   "metadata": {},
   "outputs": [
    {
     "name": "stdout",
     "output_type": "stream",
     "text": [
      "CPU times: user 4 ms, sys: 0 ns, total: 4 ms\n",
      "Wall time: 3.9 s\n"
     ]
    }
   ],
   "source": [
    "%%time\n",
    "dataset = spark.read.csv(\"/data/churn/telco.csv.gz\", header=True, inferSchema=True)"
   ]
  },
  {
   "cell_type": "code",
   "execution_count": 3,
   "metadata": {},
   "outputs": [
    {
     "name": "stdout",
     "output_type": "stream",
     "text": [
      "read 7,043 records\n",
      "root\n",
      " |-- customerID: string (nullable = true)\n",
      " |-- gender: string (nullable = true)\n",
      " |-- SeniorCitizen: integer (nullable = true)\n",
      " |-- Partner: integer (nullable = true)\n",
      " |-- Dependents: integer (nullable = true)\n",
      " |-- tenure: integer (nullable = true)\n",
      " |-- PhoneService: integer (nullable = true)\n",
      " |-- MultipleLines: integer (nullable = true)\n",
      " |-- InternetService: string (nullable = true)\n",
      " |-- OnlineSecurity: integer (nullable = true)\n",
      " |-- OnlineBackup: integer (nullable = true)\n",
      " |-- DeviceProtection: integer (nullable = true)\n",
      " |-- TechSupport: integer (nullable = true)\n",
      " |-- StreamingTV: integer (nullable = true)\n",
      " |-- StreamingMovies: integer (nullable = true)\n",
      " |-- Contract: string (nullable = true)\n",
      " |-- PaperlessBilling: integer (nullable = true)\n",
      " |-- PaymentMethod: string (nullable = true)\n",
      " |-- MonthlyCharges: double (nullable = true)\n",
      " |-- TotalCharges: double (nullable = true)\n",
      " |-- Churn: string (nullable = true)\n",
      "\n"
     ]
    }
   ],
   "source": [
    "print(\"read {:,} records\".format(dataset.count()))\n",
    "\n",
    "dataset.printSchema()"
   ]
  },
  {
   "cell_type": "code",
   "execution_count": 4,
   "metadata": {},
   "outputs": [
    {
     "data": {
      "text/html": [
       "<div>\n",
       "<style scoped>\n",
       "    .dataframe tbody tr th:only-of-type {\n",
       "        vertical-align: middle;\n",
       "    }\n",
       "\n",
       "    .dataframe tbody tr th {\n",
       "        vertical-align: top;\n",
       "    }\n",
       "\n",
       "    .dataframe thead th {\n",
       "        text-align: right;\n",
       "    }\n",
       "</style>\n",
       "<table border=\"1\" class=\"dataframe\">\n",
       "  <thead>\n",
       "    <tr style=\"text-align: right;\">\n",
       "      <th></th>\n",
       "      <th>customerID</th>\n",
       "      <th>gender</th>\n",
       "      <th>SeniorCitizen</th>\n",
       "      <th>Partner</th>\n",
       "      <th>Dependents</th>\n",
       "      <th>tenure</th>\n",
       "      <th>PhoneService</th>\n",
       "      <th>MultipleLines</th>\n",
       "      <th>InternetService</th>\n",
       "      <th>OnlineSecurity</th>\n",
       "      <th>...</th>\n",
       "      <th>DeviceProtection</th>\n",
       "      <th>TechSupport</th>\n",
       "      <th>StreamingTV</th>\n",
       "      <th>StreamingMovies</th>\n",
       "      <th>Contract</th>\n",
       "      <th>PaperlessBilling</th>\n",
       "      <th>PaymentMethod</th>\n",
       "      <th>MonthlyCharges</th>\n",
       "      <th>TotalCharges</th>\n",
       "      <th>Churn</th>\n",
       "    </tr>\n",
       "  </thead>\n",
       "  <tbody>\n",
       "    <tr>\n",
       "      <th>0</th>\n",
       "      <td>7590-VHVEG</td>\n",
       "      <td>Female</td>\n",
       "      <td>0</td>\n",
       "      <td>1</td>\n",
       "      <td>0</td>\n",
       "      <td>1</td>\n",
       "      <td>0</td>\n",
       "      <td>0</td>\n",
       "      <td>DSL</td>\n",
       "      <td>0</td>\n",
       "      <td>...</td>\n",
       "      <td>0</td>\n",
       "      <td>0</td>\n",
       "      <td>0</td>\n",
       "      <td>0</td>\n",
       "      <td>Month-to-month</td>\n",
       "      <td>1</td>\n",
       "      <td>Electronic check</td>\n",
       "      <td>29.85</td>\n",
       "      <td>29.85</td>\n",
       "      <td>No</td>\n",
       "    </tr>\n",
       "    <tr>\n",
       "      <th>1</th>\n",
       "      <td>5575-GNVDE</td>\n",
       "      <td>Male</td>\n",
       "      <td>0</td>\n",
       "      <td>0</td>\n",
       "      <td>0</td>\n",
       "      <td>34</td>\n",
       "      <td>1</td>\n",
       "      <td>0</td>\n",
       "      <td>DSL</td>\n",
       "      <td>1</td>\n",
       "      <td>...</td>\n",
       "      <td>1</td>\n",
       "      <td>0</td>\n",
       "      <td>0</td>\n",
       "      <td>0</td>\n",
       "      <td>One year</td>\n",
       "      <td>0</td>\n",
       "      <td>Mailed check</td>\n",
       "      <td>56.95</td>\n",
       "      <td>1889.50</td>\n",
       "      <td>No</td>\n",
       "    </tr>\n",
       "    <tr>\n",
       "      <th>2</th>\n",
       "      <td>3668-QPYBK</td>\n",
       "      <td>Male</td>\n",
       "      <td>0</td>\n",
       "      <td>0</td>\n",
       "      <td>0</td>\n",
       "      <td>2</td>\n",
       "      <td>1</td>\n",
       "      <td>0</td>\n",
       "      <td>DSL</td>\n",
       "      <td>1</td>\n",
       "      <td>...</td>\n",
       "      <td>0</td>\n",
       "      <td>0</td>\n",
       "      <td>0</td>\n",
       "      <td>0</td>\n",
       "      <td>Month-to-month</td>\n",
       "      <td>1</td>\n",
       "      <td>Mailed check</td>\n",
       "      <td>53.85</td>\n",
       "      <td>108.15</td>\n",
       "      <td>Yes</td>\n",
       "    </tr>\n",
       "    <tr>\n",
       "      <th>3</th>\n",
       "      <td>7795-CFOCW</td>\n",
       "      <td>Male</td>\n",
       "      <td>0</td>\n",
       "      <td>0</td>\n",
       "      <td>0</td>\n",
       "      <td>45</td>\n",
       "      <td>0</td>\n",
       "      <td>0</td>\n",
       "      <td>DSL</td>\n",
       "      <td>1</td>\n",
       "      <td>...</td>\n",
       "      <td>1</td>\n",
       "      <td>1</td>\n",
       "      <td>0</td>\n",
       "      <td>0</td>\n",
       "      <td>One year</td>\n",
       "      <td>0</td>\n",
       "      <td>Bank transfer (automatic)</td>\n",
       "      <td>42.30</td>\n",
       "      <td>1840.75</td>\n",
       "      <td>No</td>\n",
       "    </tr>\n",
       "    <tr>\n",
       "      <th>4</th>\n",
       "      <td>9237-HQITU</td>\n",
       "      <td>Female</td>\n",
       "      <td>0</td>\n",
       "      <td>0</td>\n",
       "      <td>0</td>\n",
       "      <td>2</td>\n",
       "      <td>1</td>\n",
       "      <td>0</td>\n",
       "      <td>Fiber optic</td>\n",
       "      <td>0</td>\n",
       "      <td>...</td>\n",
       "      <td>0</td>\n",
       "      <td>0</td>\n",
       "      <td>0</td>\n",
       "      <td>0</td>\n",
       "      <td>Month-to-month</td>\n",
       "      <td>1</td>\n",
       "      <td>Electronic check</td>\n",
       "      <td>70.70</td>\n",
       "      <td>151.65</td>\n",
       "      <td>Yes</td>\n",
       "    </tr>\n",
       "  </tbody>\n",
       "</table>\n",
       "<p>5 rows × 21 columns</p>\n",
       "</div>"
      ],
      "text/plain": [
       "   customerID  gender  SeniorCitizen  Partner  Dependents  tenure  \\\n",
       "0  7590-VHVEG  Female              0        1           0       1   \n",
       "1  5575-GNVDE    Male              0        0           0      34   \n",
       "2  3668-QPYBK    Male              0        0           0       2   \n",
       "3  7795-CFOCW    Male              0        0           0      45   \n",
       "4  9237-HQITU  Female              0        0           0       2   \n",
       "\n",
       "   PhoneService  MultipleLines InternetService  OnlineSecurity  ...  \\\n",
       "0             0              0             DSL               0  ...   \n",
       "1             1              0             DSL               1  ...   \n",
       "2             1              0             DSL               1  ...   \n",
       "3             0              0             DSL               1  ...   \n",
       "4             1              0     Fiber optic               0  ...   \n",
       "\n",
       "   DeviceProtection  TechSupport  StreamingTV  StreamingMovies  \\\n",
       "0                 0            0            0                0   \n",
       "1                 1            0            0                0   \n",
       "2                 0            0            0                0   \n",
       "3                 1            1            0                0   \n",
       "4                 0            0            0                0   \n",
       "\n",
       "         Contract PaperlessBilling              PaymentMethod MonthlyCharges  \\\n",
       "0  Month-to-month                1           Electronic check          29.85   \n",
       "1        One year                0               Mailed check          56.95   \n",
       "2  Month-to-month                1               Mailed check          53.85   \n",
       "3        One year                0  Bank transfer (automatic)          42.30   \n",
       "4  Month-to-month                1           Electronic check          70.70   \n",
       "\n",
       "   TotalCharges  Churn  \n",
       "0         29.85     No  \n",
       "1       1889.50     No  \n",
       "2        108.15    Yes  \n",
       "3       1840.75     No  \n",
       "4        151.65    Yes  \n",
       "\n",
       "[5 rows x 21 columns]"
      ]
     },
     "execution_count": 4,
     "metadata": {},
     "output_type": "execute_result"
    }
   ],
   "source": [
    "## Dataframe show output is not easy to read\n",
    "# dataset.show()\n",
    "\n",
    "## pretty print with pandas\n",
    "## horizontally\n",
    "dataset.limit(5).toPandas()\n",
    "\n",
    "## vertically\n",
    "# dataset.limit(5).toPandas().T"
   ]
  },
  {
   "cell_type": "markdown",
   "metadata": {},
   "source": [
    "## Step 2 : Basic Analytics of Data"
   ]
  },
  {
   "cell_type": "code",
   "execution_count": 5,
   "metadata": {},
   "outputs": [
    {
     "data": {
      "text/html": [
       "<div>\n",
       "<style scoped>\n",
       "    .dataframe tbody tr th:only-of-type {\n",
       "        vertical-align: middle;\n",
       "    }\n",
       "\n",
       "    .dataframe tbody tr th {\n",
       "        vertical-align: top;\n",
       "    }\n",
       "\n",
       "    .dataframe thead th {\n",
       "        text-align: right;\n",
       "    }\n",
       "</style>\n",
       "<table border=\"1\" class=\"dataframe\">\n",
       "  <thead>\n",
       "    <tr style=\"text-align: right;\">\n",
       "      <th></th>\n",
       "      <th>0</th>\n",
       "      <th>1</th>\n",
       "      <th>2</th>\n",
       "      <th>3</th>\n",
       "      <th>4</th>\n",
       "    </tr>\n",
       "  </thead>\n",
       "  <tbody>\n",
       "    <tr>\n",
       "      <th>summary</th>\n",
       "      <td>count</td>\n",
       "      <td>mean</td>\n",
       "      <td>stddev</td>\n",
       "      <td>min</td>\n",
       "      <td>max</td>\n",
       "    </tr>\n",
       "    <tr>\n",
       "      <th>customerID</th>\n",
       "      <td>7043</td>\n",
       "      <td>None</td>\n",
       "      <td>None</td>\n",
       "      <td>0002-ORFBO</td>\n",
       "      <td>9995-HOTOH</td>\n",
       "    </tr>\n",
       "    <tr>\n",
       "      <th>gender</th>\n",
       "      <td>7043</td>\n",
       "      <td>None</td>\n",
       "      <td>None</td>\n",
       "      <td>Female</td>\n",
       "      <td>Male</td>\n",
       "    </tr>\n",
       "    <tr>\n",
       "      <th>SeniorCitizen</th>\n",
       "      <td>7043</td>\n",
       "      <td>0.1621468124378816</td>\n",
       "      <td>0.3686116056100135</td>\n",
       "      <td>0</td>\n",
       "      <td>1</td>\n",
       "    </tr>\n",
       "    <tr>\n",
       "      <th>Partner</th>\n",
       "      <td>7043</td>\n",
       "      <td>0.4830327985233565</td>\n",
       "      <td>0.49974751071998735</td>\n",
       "      <td>0</td>\n",
       "      <td>1</td>\n",
       "    </tr>\n",
       "    <tr>\n",
       "      <th>Dependents</th>\n",
       "      <td>7043</td>\n",
       "      <td>0.2995882436461735</td>\n",
       "      <td>0.4581101675100144</td>\n",
       "      <td>0</td>\n",
       "      <td>1</td>\n",
       "    </tr>\n",
       "    <tr>\n",
       "      <th>tenure</th>\n",
       "      <td>7043</td>\n",
       "      <td>32.37114865824223</td>\n",
       "      <td>24.559481023094442</td>\n",
       "      <td>0</td>\n",
       "      <td>72</td>\n",
       "    </tr>\n",
       "    <tr>\n",
       "      <th>PhoneService</th>\n",
       "      <td>7043</td>\n",
       "      <td>0.9031662643759761</td>\n",
       "      <td>0.29575223178363513</td>\n",
       "      <td>0</td>\n",
       "      <td>1</td>\n",
       "    </tr>\n",
       "    <tr>\n",
       "      <th>MultipleLines</th>\n",
       "      <td>7043</td>\n",
       "      <td>0.42183728524776376</td>\n",
       "      <td>0.49388786554556857</td>\n",
       "      <td>0</td>\n",
       "      <td>1</td>\n",
       "    </tr>\n",
       "    <tr>\n",
       "      <th>InternetService</th>\n",
       "      <td>7043</td>\n",
       "      <td>0.0</td>\n",
       "      <td>0.0</td>\n",
       "      <td>0</td>\n",
       "      <td>Fiber optic</td>\n",
       "    </tr>\n",
       "    <tr>\n",
       "      <th>OnlineSecurity</th>\n",
       "      <td>7043</td>\n",
       "      <td>0.2866676132329973</td>\n",
       "      <td>0.4522370299757109</td>\n",
       "      <td>0</td>\n",
       "      <td>1</td>\n",
       "    </tr>\n",
       "    <tr>\n",
       "      <th>OnlineBackup</th>\n",
       "      <td>7043</td>\n",
       "      <td>0.3448814425670879</td>\n",
       "      <td>0.4753633531563784</td>\n",
       "      <td>0</td>\n",
       "      <td>1</td>\n",
       "    </tr>\n",
       "    <tr>\n",
       "      <th>DeviceProtection</th>\n",
       "      <td>7043</td>\n",
       "      <td>0.3438875479199205</td>\n",
       "      <td>0.47503783298083624</td>\n",
       "      <td>0</td>\n",
       "      <td>1</td>\n",
       "    </tr>\n",
       "    <tr>\n",
       "      <th>TechSupport</th>\n",
       "      <td>7043</td>\n",
       "      <td>0.2902172369728809</td>\n",
       "      <td>0.4538947500677702</td>\n",
       "      <td>0</td>\n",
       "      <td>1</td>\n",
       "    </tr>\n",
       "    <tr>\n",
       "      <th>StreamingTV</th>\n",
       "      <td>7043</td>\n",
       "      <td>0.38435325855459324</td>\n",
       "      <td>0.4864765495589309</td>\n",
       "      <td>0</td>\n",
       "      <td>1</td>\n",
       "    </tr>\n",
       "    <tr>\n",
       "      <th>StreamingMovies</th>\n",
       "      <td>7043</td>\n",
       "      <td>0.3879028822944768</td>\n",
       "      <td>0.4873068366824568</td>\n",
       "      <td>0</td>\n",
       "      <td>1</td>\n",
       "    </tr>\n",
       "    <tr>\n",
       "      <th>Contract</th>\n",
       "      <td>7043</td>\n",
       "      <td>None</td>\n",
       "      <td>None</td>\n",
       "      <td>Month-to-month</td>\n",
       "      <td>Two year</td>\n",
       "    </tr>\n",
       "    <tr>\n",
       "      <th>PaperlessBilling</th>\n",
       "      <td>7043</td>\n",
       "      <td>0.5922192247621753</td>\n",
       "      <td>0.4914569240494065</td>\n",
       "      <td>0</td>\n",
       "      <td>1</td>\n",
       "    </tr>\n",
       "    <tr>\n",
       "      <th>PaymentMethod</th>\n",
       "      <td>7043</td>\n",
       "      <td>None</td>\n",
       "      <td>None</td>\n",
       "      <td>Bank transfer (automatic)</td>\n",
       "      <td>Mailed check</td>\n",
       "    </tr>\n",
       "    <tr>\n",
       "      <th>MonthlyCharges</th>\n",
       "      <td>7043</td>\n",
       "      <td>64.76169246059922</td>\n",
       "      <td>30.090047097678482</td>\n",
       "      <td>18.25</td>\n",
       "      <td>118.75</td>\n",
       "    </tr>\n",
       "    <tr>\n",
       "      <th>TotalCharges</th>\n",
       "      <td>7043</td>\n",
       "      <td>2279.734303563826</td>\n",
       "      <td>2266.7944696890245</td>\n",
       "      <td>0.0</td>\n",
       "      <td>8684.8</td>\n",
       "    </tr>\n",
       "    <tr>\n",
       "      <th>Churn</th>\n",
       "      <td>7043</td>\n",
       "      <td>None</td>\n",
       "      <td>None</td>\n",
       "      <td>No</td>\n",
       "      <td>Yes</td>\n",
       "    </tr>\n",
       "  </tbody>\n",
       "</table>\n",
       "</div>"
      ],
      "text/plain": [
       "                      0                    1                    2  \\\n",
       "summary           count                 mean               stddev   \n",
       "customerID         7043                 None                 None   \n",
       "gender             7043                 None                 None   \n",
       "SeniorCitizen      7043   0.1621468124378816   0.3686116056100135   \n",
       "Partner            7043   0.4830327985233565  0.49974751071998735   \n",
       "Dependents         7043   0.2995882436461735   0.4581101675100144   \n",
       "tenure             7043    32.37114865824223   24.559481023094442   \n",
       "PhoneService       7043   0.9031662643759761  0.29575223178363513   \n",
       "MultipleLines      7043  0.42183728524776376  0.49388786554556857   \n",
       "InternetService    7043                  0.0                  0.0   \n",
       "OnlineSecurity     7043   0.2866676132329973   0.4522370299757109   \n",
       "OnlineBackup       7043   0.3448814425670879   0.4753633531563784   \n",
       "DeviceProtection   7043   0.3438875479199205  0.47503783298083624   \n",
       "TechSupport        7043   0.2902172369728809   0.4538947500677702   \n",
       "StreamingTV        7043  0.38435325855459324   0.4864765495589309   \n",
       "StreamingMovies    7043   0.3879028822944768   0.4873068366824568   \n",
       "Contract           7043                 None                 None   \n",
       "PaperlessBilling   7043   0.5922192247621753   0.4914569240494065   \n",
       "PaymentMethod      7043                 None                 None   \n",
       "MonthlyCharges     7043    64.76169246059922   30.090047097678482   \n",
       "TotalCharges       7043    2279.734303563826   2266.7944696890245   \n",
       "Churn              7043                 None                 None   \n",
       "\n",
       "                                          3             4  \n",
       "summary                                 min           max  \n",
       "customerID                       0002-ORFBO    9995-HOTOH  \n",
       "gender                               Female          Male  \n",
       "SeniorCitizen                             0             1  \n",
       "Partner                                   0             1  \n",
       "Dependents                                0             1  \n",
       "tenure                                    0            72  \n",
       "PhoneService                              0             1  \n",
       "MultipleLines                             0             1  \n",
       "InternetService                           0   Fiber optic  \n",
       "OnlineSecurity                            0             1  \n",
       "OnlineBackup                              0             1  \n",
       "DeviceProtection                          0             1  \n",
       "TechSupport                               0             1  \n",
       "StreamingTV                               0             1  \n",
       "StreamingMovies                           0             1  \n",
       "Contract                     Month-to-month      Two year  \n",
       "PaperlessBilling                          0             1  \n",
       "PaymentMethod     Bank transfer (automatic)  Mailed check  \n",
       "MonthlyCharges                        18.25        118.75  \n",
       "TotalCharges                            0.0        8684.8  \n",
       "Churn                                    No           Yes  "
      ]
     },
     "execution_count": 5,
     "metadata": {},
     "output_type": "execute_result"
    }
   ],
   "source": [
    "## describe\n",
    "\n",
    "## following output is hard to read\n",
    "# dataset.describe().show() \n",
    "\n",
    "## use pandas for pretty print\n",
    "## TODO : convert to pandas ('toPandas')\n",
    "dataset.describe().toPandas().T"
   ]
  },
  {
   "cell_type": "code",
   "execution_count": 6,
   "metadata": {},
   "outputs": [
    {
     "name": "stdout",
     "output_type": "stream",
     "text": [
      "+-----+-----+\n",
      "|Churn|count|\n",
      "+-----+-----+\n",
      "|   No| 5174|\n",
      "|  Yes| 1869|\n",
      "+-----+-----+\n",
      "\n"
     ]
    }
   ],
   "source": [
    "## TODO : Distribution by 'Churn'\n",
    "dataset.groupBy('Churn').count().show()"
   ]
  },
  {
   "cell_type": "code",
   "execution_count": 8,
   "metadata": {},
   "outputs": [
    {
     "name": "stdout",
     "output_type": "stream",
     "text": [
      "+--------------+-----+\n",
      "|      Contract|count|\n",
      "+--------------+-----+\n",
      "|Month-to-month| 3875|\n",
      "|      One year| 1473|\n",
      "|      Two year| 1695|\n",
      "+--------------+-----+\n",
      "\n"
     ]
    }
   ],
   "source": [
    "## TODO : Distribution by 'ContraCT'\n",
    "dataset.groupBy('Contract').count().show()"
   ]
  },
  {
   "cell_type": "code",
   "execution_count": 9,
   "metadata": {},
   "outputs": [
    {
     "name": "stdout",
     "output_type": "stream",
     "text": [
      "+------+-----+\n",
      "|gender|count|\n",
      "+------+-----+\n",
      "|Female| 3488|\n",
      "|  Male| 3555|\n",
      "+------+-----+\n",
      "\n"
     ]
    }
   ],
   "source": [
    "## TODO : Distribution by 'Gender'\n",
    "dataset.groupBy('gender').count().show()"
   ]
  },
  {
   "cell_type": "markdown",
   "metadata": {},
   "source": [
    "## Step 3 : Categorical Data"
   ]
  },
  {
   "cell_type": "code",
   "execution_count": 10,
   "metadata": {},
   "outputs": [],
   "source": [
    "## Define columns\n",
    "prediction_column = ['Churn']\n",
    "categorical_columns = ['gender',  'InternetService','Contract','PaymentMethod']\n",
    "categorical_index = ['gender_index',  'InternetService_index','Contract_index','PaymentMethod_index']\n",
    "\n",
    "\n",
    "columns = ['SeniorCitizen','PhoneService','Partner','Dependents','tenure','MultipleLines',\n",
    "           'OnlineSecurity','OnlineBackup','DeviceProtection','TechSupport',\n",
    "           'StreamingTV','StreamingMovies','PaperlessBilling',\n",
    "           'MonthlyCharges','TotalCharges']"
   ]
  },
  {
   "cell_type": "code",
   "execution_count": 12,
   "metadata": {},
   "outputs": [
    {
     "name": "stdout",
     "output_type": "stream",
     "text": [
      "+------+---------------+--------------+--------------------+\n",
      "|gender|InternetService|      Contract|       PaymentMethod|\n",
      "+------+---------------+--------------+--------------------+\n",
      "|Female|            DSL|Month-to-month|    Electronic check|\n",
      "|  Male|            DSL|      One year|        Mailed check|\n",
      "|  Male|            DSL|Month-to-month|        Mailed check|\n",
      "|  Male|            DSL|      One year|Bank transfer (au...|\n",
      "|Female|    Fiber optic|Month-to-month|    Electronic check|\n",
      "+------+---------------+--------------+--------------------+\n",
      "only showing top 5 rows\n",
      "\n",
      "+-----+\n",
      "|Churn|\n",
      "+-----+\n",
      "|   No|\n",
      "|   No|\n",
      "|  Yes|\n",
      "|   No|\n",
      "|  Yes|\n",
      "+-----+\n",
      "only showing top 5 rows\n",
      "\n"
     ]
    }
   ],
   "source": [
    "dataset.select(categorical_columns).show(5)\n",
    "# dataset.select(categorical_index).show(5)\n",
    "dataset.select(prediction_column).show(5)\n"
   ]
  },
  {
   "cell_type": "markdown",
   "metadata": {},
   "source": [
    "## Step 4: Deal with Categorical Columns\n",
    "\n",
    "Let's deal with the categorical columns, including the output\n",
    "\n",
    "Workflow:\n",
    "- **Feature Indexers** :  ( category columns --> '*_index' columns)\n",
    "- **Label indexer** : 'Churn' --> 'indexedLabel'\n",
    "- **Vector Assembler** : '*_index' columns --> 'features' \n",
    "- **Scaler** :  'features' --> 'scaledFeatures'"
   ]
  },
  {
   "cell_type": "code",
   "execution_count": 13,
   "metadata": {},
   "outputs": [],
   "source": [
    "## handy function to pretty print indexers, scalers, assemblers\n",
    "\n",
    "from pyspark.ml.feature import StringIndexer, StandardScaler, VectorAssembler, MinMaxScaler\n",
    "\n",
    "def pretty_print_transformer(transformer):\n",
    "    if (type(transformer) is StringIndexer) \\\n",
    "        or (type(transformer) is StandardScaler) \\\n",
    "        or (type(transformer) is MinMaxScaler) : \\\n",
    "        return (transformer.__class__.__name__ + \" : \" + transformer.getInputCol() + ' -> ' +  transformer.getOutputCol())\n",
    "    \n",
    "    if type(transformer) is VectorAssembler:\n",
    "        return (transformer.__class__.__name__ + \" : \" + str(transformer.getInputCols()) + ' -> ' +  transformer.getOutputCol())\n",
    "    \n"
   ]
  },
  {
   "cell_type": "code",
   "execution_count": 14,
   "metadata": {},
   "outputs": [
    {
     "name": "stdout",
     "output_type": "stream",
     "text": [
      "indexing categorical columns :  ['gender', 'InternetService', 'Contract', 'PaymentMethod']\n",
      "StringIndexer : gender -> gender_index\n",
      "StringIndexer : InternetService -> InternetService_index\n",
      "StringIndexer : Contract -> Contract_index\n",
      "StringIndexer : PaymentMethod -> PaymentMethod_index\n"
     ]
    }
   ],
   "source": [
    "## 4.1 - Feature Indexers\n",
    "\n",
    "# from pyspark.ml.feature import StringIndexer\n",
    "\n",
    "print(\"indexing categorical columns : \", categorical_columns)\n",
    "\n",
    "## TODO : create indexers in a loop\n",
    "## loop through 'categorical_columns'\n",
    "indexers = [StringIndexer(inputCol=column, outputCol=column + \"_index\", handleInvalid=\"keep\")\\\n",
    "            for column in categorical_columns ]\n",
    "\n",
    "for indexer in indexers:\n",
    "    print(pretty_print_transformer(indexer))\n"
   ]
  },
  {
   "cell_type": "code",
   "execution_count": 15,
   "metadata": {},
   "outputs": [
    {
     "name": "stdout",
     "output_type": "stream",
     "text": [
      "StringIndexer : Churn -> indexedLabel\n"
     ]
    }
   ],
   "source": [
    "## 4.2 - label indexer\n",
    "\n",
    "from pyspark.ml.feature import StringIndexer\n",
    "\n",
    "## TODO : we need to index 'Churn' column too\n",
    "## Create a String Indexer with inputColumn='Churn' and outputCol='indexedLabel'\n",
    "labelIndexer = StringIndexer(inputCol=\"Churn\", outputCol=\"indexedLabel\")\n",
    "\n",
    "print(pretty_print_transformer(labelIndexer))\n"
   ]
  },
  {
   "cell_type": "code",
   "execution_count": 16,
   "metadata": {},
   "outputs": [
    {
     "name": "stdout",
     "output_type": "stream",
     "text": [
      "VectorAssembler : ['SeniorCitizen', 'PhoneService', 'Partner', 'Dependents', 'tenure', 'MultipleLines', 'OnlineSecurity', 'OnlineBackup', 'DeviceProtection', 'TechSupport', 'StreamingTV', 'StreamingMovies', 'PaperlessBilling', 'MonthlyCharges', 'TotalCharges', 'gender_index', 'InternetService_index', 'Contract_index', 'PaymentMethod_index'] -> features\n"
     ]
    }
   ],
   "source": [
    "## 4.3 - Vector assembler \n",
    "from pyspark.ml.feature import VectorAssembler\n",
    "\n",
    "assembler = VectorAssembler(inputCols=columns + categorical_index, outputCol=\"features\")\n",
    "\n",
    "print (pretty_print_transformer(assembler))\n"
   ]
  },
  {
   "cell_type": "code",
   "execution_count": 17,
   "metadata": {},
   "outputs": [
    {
     "name": "stdout",
     "output_type": "stream",
     "text": [
      "StandardScaler : features -> scaledFeatures\n"
     ]
    }
   ],
   "source": [
    "## 4.5 - Scaler\n",
    "from pyspark.ml.feature import StandardScaler\n",
    "\n",
    "## TODO : scale 'features' column into 'scaledFeatures'\n",
    "scaler = StandardScaler(inputCol=\"features\", outputCol=\"scaledFeatures\")\n",
    "\n",
    "print (pretty_print_transformer(scaler))"
   ]
  },
  {
   "cell_type": "markdown",
   "metadata": {},
   "source": [
    "## Step 5: Build the Pipeline\n",
    "We are going to transform the data using Spark pipeline."
   ]
  },
  {
   "cell_type": "code",
   "execution_count": 23,
   "metadata": {},
   "outputs": [
    {
     "name": "stdout",
     "output_type": "stream",
     "text": [
      "stage  1  :  StringIndexer : gender -> gender_index\n",
      "stage  2  :  StringIndexer : InternetService -> InternetService_index\n",
      "stage  3  :  StringIndexer : Contract -> Contract_index\n",
      "stage  4  :  StringIndexer : PaymentMethod -> PaymentMethod_index\n",
      "stage  5  :  StringIndexer : Churn -> indexedLabel\n",
      "stage  6  :  VectorAssembler : ['SeniorCitizen', 'PhoneService', 'Partner', 'Dependents', 'tenure', 'MultipleLines', 'OnlineSecurity', 'OnlineBackup', 'DeviceProtection', 'TechSupport', 'StreamingTV', 'StreamingMovies', 'PaperlessBilling', 'MonthlyCharges', 'TotalCharges', 'gender_index', 'InternetService_index', 'Contract_index', 'PaymentMethod_index'] -> features\n",
      "stage  7  :  StandardScaler : features -> scaledFeatures\n",
      "\n",
      "pipeline :  stages: a list of pipeline stages (current: [StringIndexer_1cd671da3360, StringIndexer_9c939b99246d, StringIndexer_25e807aad05c, StringIndexer_4220cb781d0a, StringIndexer_f9b5c6071792, VectorAssembler_29aaa43db4b9, StandardScaler_52d6b23b837d])\n"
     ]
    }
   ],
   "source": [
    "from pyspark.ml import Pipeline\n",
    "\n",
    "##  with scaler\n",
    "stages = indexers + [labelIndexer, assembler,  scaler] \n",
    "\n",
    "## without scaler\n",
    "#stages = indexers + [assembler, labelIndexer] \n",
    "\n",
    "i = 0\n",
    "for stage in stages:\n",
    "    i = i+1\n",
    "    print (\"stage \", i , \" : \", pretty_print_transformer(stage))\n",
    "print()\n",
    "\n",
    "## TODO : Create a 'Pipeline' passing 'stages' as input\n",
    "pipeline = Pipeline(stages=stages)\n",
    "\n",
    "print (\"pipeline : \", pipeline.explainParams())"
   ]
  },
  {
   "cell_type": "code",
   "execution_count": 24,
   "metadata": {},
   "outputs": [
    {
     "name": "stdout",
     "output_type": "stream",
     "text": [
      "processed data count  7043\n",
      "CPU times: user 68 ms, sys: 16 ms, total: 84 ms\n",
      "Wall time: 2.04 s\n"
     ]
    }
   ],
   "source": [
    "%%time\n",
    "## TODO : Run data through the pipeline\n",
    "## Hint : first call 'fit' and then 'transform'\n",
    "processed_data = pipeline.fit(dataset).transform(dataset)\n",
    "\n",
    "print (\"processed data count \", processed_data.count())"
   ]
  },
  {
   "cell_type": "code",
   "execution_count": 25,
   "metadata": {},
   "outputs": [
    {
     "data": {
      "text/html": [
       "<div>\n",
       "<style scoped>\n",
       "    .dataframe tbody tr th:only-of-type {\n",
       "        vertical-align: middle;\n",
       "    }\n",
       "\n",
       "    .dataframe tbody tr th {\n",
       "        vertical-align: top;\n",
       "    }\n",
       "\n",
       "    .dataframe thead th {\n",
       "        text-align: right;\n",
       "    }\n",
       "</style>\n",
       "<table border=\"1\" class=\"dataframe\">\n",
       "  <thead>\n",
       "    <tr style=\"text-align: right;\">\n",
       "      <th></th>\n",
       "      <th>0</th>\n",
       "      <th>1</th>\n",
       "    </tr>\n",
       "  </thead>\n",
       "  <tbody>\n",
       "    <tr>\n",
       "      <th>customerID</th>\n",
       "      <td>7590-VHVEG</td>\n",
       "      <td>5575-GNVDE</td>\n",
       "    </tr>\n",
       "    <tr>\n",
       "      <th>gender</th>\n",
       "      <td>Female</td>\n",
       "      <td>Male</td>\n",
       "    </tr>\n",
       "    <tr>\n",
       "      <th>SeniorCitizen</th>\n",
       "      <td>0</td>\n",
       "      <td>0</td>\n",
       "    </tr>\n",
       "    <tr>\n",
       "      <th>Partner</th>\n",
       "      <td>1</td>\n",
       "      <td>0</td>\n",
       "    </tr>\n",
       "    <tr>\n",
       "      <th>Dependents</th>\n",
       "      <td>0</td>\n",
       "      <td>0</td>\n",
       "    </tr>\n",
       "    <tr>\n",
       "      <th>tenure</th>\n",
       "      <td>1</td>\n",
       "      <td>34</td>\n",
       "    </tr>\n",
       "    <tr>\n",
       "      <th>PhoneService</th>\n",
       "      <td>0</td>\n",
       "      <td>1</td>\n",
       "    </tr>\n",
       "    <tr>\n",
       "      <th>MultipleLines</th>\n",
       "      <td>0</td>\n",
       "      <td>0</td>\n",
       "    </tr>\n",
       "    <tr>\n",
       "      <th>InternetService</th>\n",
       "      <td>DSL</td>\n",
       "      <td>DSL</td>\n",
       "    </tr>\n",
       "    <tr>\n",
       "      <th>OnlineSecurity</th>\n",
       "      <td>0</td>\n",
       "      <td>1</td>\n",
       "    </tr>\n",
       "    <tr>\n",
       "      <th>OnlineBackup</th>\n",
       "      <td>1</td>\n",
       "      <td>0</td>\n",
       "    </tr>\n",
       "    <tr>\n",
       "      <th>DeviceProtection</th>\n",
       "      <td>0</td>\n",
       "      <td>1</td>\n",
       "    </tr>\n",
       "    <tr>\n",
       "      <th>TechSupport</th>\n",
       "      <td>0</td>\n",
       "      <td>0</td>\n",
       "    </tr>\n",
       "    <tr>\n",
       "      <th>StreamingTV</th>\n",
       "      <td>0</td>\n",
       "      <td>0</td>\n",
       "    </tr>\n",
       "    <tr>\n",
       "      <th>StreamingMovies</th>\n",
       "      <td>0</td>\n",
       "      <td>0</td>\n",
       "    </tr>\n",
       "    <tr>\n",
       "      <th>Contract</th>\n",
       "      <td>Month-to-month</td>\n",
       "      <td>One year</td>\n",
       "    </tr>\n",
       "    <tr>\n",
       "      <th>PaperlessBilling</th>\n",
       "      <td>1</td>\n",
       "      <td>0</td>\n",
       "    </tr>\n",
       "    <tr>\n",
       "      <th>PaymentMethod</th>\n",
       "      <td>Electronic check</td>\n",
       "      <td>Mailed check</td>\n",
       "    </tr>\n",
       "    <tr>\n",
       "      <th>MonthlyCharges</th>\n",
       "      <td>29.85</td>\n",
       "      <td>56.95</td>\n",
       "    </tr>\n",
       "    <tr>\n",
       "      <th>TotalCharges</th>\n",
       "      <td>29.85</td>\n",
       "      <td>1889.5</td>\n",
       "    </tr>\n",
       "    <tr>\n",
       "      <th>Churn</th>\n",
       "      <td>No</td>\n",
       "      <td>No</td>\n",
       "    </tr>\n",
       "    <tr>\n",
       "      <th>gender_index</th>\n",
       "      <td>1</td>\n",
       "      <td>0</td>\n",
       "    </tr>\n",
       "    <tr>\n",
       "      <th>InternetService_index</th>\n",
       "      <td>1</td>\n",
       "      <td>1</td>\n",
       "    </tr>\n",
       "    <tr>\n",
       "      <th>Contract_index</th>\n",
       "      <td>0</td>\n",
       "      <td>2</td>\n",
       "    </tr>\n",
       "    <tr>\n",
       "      <th>PaymentMethod_index</th>\n",
       "      <td>0</td>\n",
       "      <td>1</td>\n",
       "    </tr>\n",
       "    <tr>\n",
       "      <th>indexedLabel</th>\n",
       "      <td>0</td>\n",
       "      <td>0</td>\n",
       "    </tr>\n",
       "    <tr>\n",
       "      <th>features</th>\n",
       "      <td>(0.0, 0.0, 1.0, 0.0, 1.0, 0.0, 0.0, 1.0, 0.0, ...</td>\n",
       "      <td>(0.0, 1.0, 0.0, 0.0, 34.0, 0.0, 1.0, 0.0, 1.0,...</td>\n",
       "    </tr>\n",
       "    <tr>\n",
       "      <th>scaledFeatures</th>\n",
       "      <td>(0.0, 0.0, 2.0010104673844156, 0.0, 0.04071747...</td>\n",
       "      <td>(0.0, 3.3812086352456543, 0.0, 0.0, 1.38439407...</td>\n",
       "    </tr>\n",
       "  </tbody>\n",
       "</table>\n",
       "</div>"
      ],
      "text/plain": [
       "                                                                       0  \\\n",
       "customerID                                                    7590-VHVEG   \n",
       "gender                                                            Female   \n",
       "SeniorCitizen                                                          0   \n",
       "Partner                                                                1   \n",
       "Dependents                                                             0   \n",
       "tenure                                                                 1   \n",
       "PhoneService                                                           0   \n",
       "MultipleLines                                                          0   \n",
       "InternetService                                                      DSL   \n",
       "OnlineSecurity                                                         0   \n",
       "OnlineBackup                                                           1   \n",
       "DeviceProtection                                                       0   \n",
       "TechSupport                                                            0   \n",
       "StreamingTV                                                            0   \n",
       "StreamingMovies                                                        0   \n",
       "Contract                                                  Month-to-month   \n",
       "PaperlessBilling                                                       1   \n",
       "PaymentMethod                                           Electronic check   \n",
       "MonthlyCharges                                                     29.85   \n",
       "TotalCharges                                                       29.85   \n",
       "Churn                                                                 No   \n",
       "gender_index                                                           1   \n",
       "InternetService_index                                                  1   \n",
       "Contract_index                                                         0   \n",
       "PaymentMethod_index                                                    0   \n",
       "indexedLabel                                                           0   \n",
       "features               (0.0, 0.0, 1.0, 0.0, 1.0, 0.0, 0.0, 1.0, 0.0, ...   \n",
       "scaledFeatures         (0.0, 0.0, 2.0010104673844156, 0.0, 0.04071747...   \n",
       "\n",
       "                                                                       1  \n",
       "customerID                                                    5575-GNVDE  \n",
       "gender                                                              Male  \n",
       "SeniorCitizen                                                          0  \n",
       "Partner                                                                0  \n",
       "Dependents                                                             0  \n",
       "tenure                                                                34  \n",
       "PhoneService                                                           1  \n",
       "MultipleLines                                                          0  \n",
       "InternetService                                                      DSL  \n",
       "OnlineSecurity                                                         1  \n",
       "OnlineBackup                                                           0  \n",
       "DeviceProtection                                                       1  \n",
       "TechSupport                                                            0  \n",
       "StreamingTV                                                            0  \n",
       "StreamingMovies                                                        0  \n",
       "Contract                                                        One year  \n",
       "PaperlessBilling                                                       0  \n",
       "PaymentMethod                                               Mailed check  \n",
       "MonthlyCharges                                                     56.95  \n",
       "TotalCharges                                                      1889.5  \n",
       "Churn                                                                 No  \n",
       "gender_index                                                           0  \n",
       "InternetService_index                                                  1  \n",
       "Contract_index                                                         2  \n",
       "PaymentMethod_index                                                    1  \n",
       "indexedLabel                                                           0  \n",
       "features               (0.0, 1.0, 0.0, 0.0, 34.0, 0.0, 1.0, 0.0, 1.0,...  \n",
       "scaledFeatures         (0.0, 3.3812086352456543, 0.0, 0.0, 1.38439407...  "
      ]
     },
     "execution_count": 25,
     "metadata": {},
     "output_type": "execute_result"
    }
   ],
   "source": [
    "## pretty print transformed data using pandas\n",
    "x = processed_data.limit(2).toPandas()\n",
    "# print horizontally\n",
    "# x\n",
    "# print veriticall\n",
    "x.T"
   ]
  },
  {
   "cell_type": "markdown",
   "metadata": {},
   "source": [
    "## Step 6: Split into training and test."
   ]
  },
  {
   "cell_type": "code",
   "execution_count": 26,
   "metadata": {},
   "outputs": [
    {
     "name": "stdout",
     "output_type": "stream",
     "text": [
      "training set count :  5655\n",
      "testing set count :  1388\n"
     ]
    }
   ],
   "source": [
    "## TODO : training=80%,  test=20%\n",
    "(training, test) = processed_data.randomSplit([80., 20.])\n",
    "\n",
    "print(\"training set count : \", training.count())\n",
    "print(\"testing set count : \", test.count())"
   ]
  },
  {
   "cell_type": "markdown",
   "metadata": {},
   "source": [
    "## Step 7 - Create SVM Model"
   ]
  },
  {
   "cell_type": "code",
   "execution_count": 27,
   "metadata": {},
   "outputs": [],
   "source": [
    "from pyspark.ml.classification import LinearSVC\n",
    "\n",
    "## TODO : create 'LinearSVC' model\n",
    "##    with labelCol='indexedLabel'\n",
    "##    with featuresCol='scaledFeatures'\n",
    "##    with maxIter=100\n",
    "lsvc = LinearSVC(labelCol=\"indexedLabel\", featuresCol=\"scaledFeatures\", maxIter=100, regParam=0.1)"
   ]
  },
  {
   "cell_type": "markdown",
   "metadata": {},
   "source": [
    "## Step 8: Train  Linear SVM model"
   ]
  },
  {
   "cell_type": "code",
   "execution_count": 28,
   "metadata": {},
   "outputs": [
    {
     "name": "stdout",
     "output_type": "stream",
     "text": [
      "training starting on  5655  records\n"
     ]
    }
   ],
   "source": [
    "print (\"training starting on \", training.count() , \" records\")"
   ]
  },
  {
   "cell_type": "code",
   "execution_count": 29,
   "metadata": {},
   "outputs": [
    {
     "name": "stdout",
     "output_type": "stream",
     "text": [
      "training done\n",
      "CPU times: user 16 ms, sys: 0 ns, total: 16 ms\n",
      "Wall time: 24.2 s\n"
     ]
    }
   ],
   "source": [
    "%%time \n",
    "\n",
    "## TODO : train the model\n",
    "## Hint :    call 'fit' on 'training' data\n",
    "lsvcModel = lsvc.fit(training)\n",
    "print (\"training done\")"
   ]
  },
  {
   "cell_type": "code",
   "execution_count": 30,
   "metadata": {},
   "outputs": [
    {
     "name": "stdout",
     "output_type": "stream",
     "text": [
      "Intercept: -0.07548510505921968\n"
     ]
    },
    {
     "data": {
      "text/html": [
       "<div>\n",
       "<style scoped>\n",
       "    .dataframe tbody tr th:only-of-type {\n",
       "        vertical-align: middle;\n",
       "    }\n",
       "\n",
       "    .dataframe tbody tr th {\n",
       "        vertical-align: top;\n",
       "    }\n",
       "\n",
       "    .dataframe thead th {\n",
       "        text-align: right;\n",
       "    }\n",
       "</style>\n",
       "<table border=\"1\" class=\"dataframe\">\n",
       "  <thead>\n",
       "    <tr style=\"text-align: right;\">\n",
       "      <th></th>\n",
       "      <th>input</th>\n",
       "      <th>coefficient</th>\n",
       "    </tr>\n",
       "  </thead>\n",
       "  <tbody>\n",
       "    <tr>\n",
       "      <th>0</th>\n",
       "      <td>SeniorCitizen</td>\n",
       "      <td>0.093890</td>\n",
       "    </tr>\n",
       "    <tr>\n",
       "      <th>1</th>\n",
       "      <td>PhoneService</td>\n",
       "      <td>-0.030488</td>\n",
       "    </tr>\n",
       "    <tr>\n",
       "      <th>2</th>\n",
       "      <td>Partner</td>\n",
       "      <td>-0.015586</td>\n",
       "    </tr>\n",
       "    <tr>\n",
       "      <th>3</th>\n",
       "      <td>Dependents</td>\n",
       "      <td>-0.050076</td>\n",
       "    </tr>\n",
       "    <tr>\n",
       "      <th>4</th>\n",
       "      <td>tenure</td>\n",
       "      <td>-0.315892</td>\n",
       "    </tr>\n",
       "    <tr>\n",
       "      <th>5</th>\n",
       "      <td>MultipleLines</td>\n",
       "      <td>0.108757</td>\n",
       "    </tr>\n",
       "    <tr>\n",
       "      <th>6</th>\n",
       "      <td>OnlineSecurity</td>\n",
       "      <td>-0.151361</td>\n",
       "    </tr>\n",
       "    <tr>\n",
       "      <th>7</th>\n",
       "      <td>OnlineBackup</td>\n",
       "      <td>-0.085512</td>\n",
       "    </tr>\n",
       "    <tr>\n",
       "      <th>8</th>\n",
       "      <td>DeviceProtection</td>\n",
       "      <td>-0.043025</td>\n",
       "    </tr>\n",
       "    <tr>\n",
       "      <th>9</th>\n",
       "      <td>TechSupport</td>\n",
       "      <td>-0.153441</td>\n",
       "    </tr>\n",
       "    <tr>\n",
       "      <th>10</th>\n",
       "      <td>StreamingTV</td>\n",
       "      <td>0.058119</td>\n",
       "    </tr>\n",
       "    <tr>\n",
       "      <th>11</th>\n",
       "      <td>StreamingMovies</td>\n",
       "      <td>0.060670</td>\n",
       "    </tr>\n",
       "    <tr>\n",
       "      <th>12</th>\n",
       "      <td>PaperlessBilling</td>\n",
       "      <td>0.112843</td>\n",
       "    </tr>\n",
       "    <tr>\n",
       "      <th>13</th>\n",
       "      <td>MonthlyCharges</td>\n",
       "      <td>0.194797</td>\n",
       "    </tr>\n",
       "    <tr>\n",
       "      <th>14</th>\n",
       "      <td>TotalCharges</td>\n",
       "      <td>-0.253783</td>\n",
       "    </tr>\n",
       "    <tr>\n",
       "      <th>15</th>\n",
       "      <td>gender_index</td>\n",
       "      <td>0.003706</td>\n",
       "    </tr>\n",
       "    <tr>\n",
       "      <th>16</th>\n",
       "      <td>InternetService_index</td>\n",
       "      <td>-0.319616</td>\n",
       "    </tr>\n",
       "    <tr>\n",
       "      <th>17</th>\n",
       "      <td>Contract_index</td>\n",
       "      <td>-0.119540</td>\n",
       "    </tr>\n",
       "    <tr>\n",
       "      <th>18</th>\n",
       "      <td>PaymentMethod_index</td>\n",
       "      <td>-0.137099</td>\n",
       "    </tr>\n",
       "  </tbody>\n",
       "</table>\n",
       "</div>"
      ],
      "text/plain": [
       "                    input  coefficient\n",
       "0           SeniorCitizen     0.093890\n",
       "1            PhoneService    -0.030488\n",
       "2                 Partner    -0.015586\n",
       "3              Dependents    -0.050076\n",
       "4                  tenure    -0.315892\n",
       "5           MultipleLines     0.108757\n",
       "6          OnlineSecurity    -0.151361\n",
       "7            OnlineBackup    -0.085512\n",
       "8        DeviceProtection    -0.043025\n",
       "9             TechSupport    -0.153441\n",
       "10            StreamingTV     0.058119\n",
       "11        StreamingMovies     0.060670\n",
       "12       PaperlessBilling     0.112843\n",
       "13         MonthlyCharges     0.194797\n",
       "14           TotalCharges    -0.253783\n",
       "15           gender_index     0.003706\n",
       "16  InternetService_index    -0.319616\n",
       "17         Contract_index    -0.119540\n",
       "18    PaymentMethod_index    -0.137099"
      ]
     },
     "execution_count": 30,
     "metadata": {},
     "output_type": "execute_result"
    }
   ],
   "source": [
    "import pandas as pd\n",
    "\n",
    "# Print the coefficients and intercept for linearsSVC\n",
    "coef = lsvcModel.coefficients\n",
    "\n",
    "df = pd.DataFrame({'input' : columns + categorical_index, 'coefficient': lsvcModel.coefficients})\n",
    "print(\"Intercept: \" + str(lsvcModel.intercept))\n",
    "\n",
    "df\n",
    "#df.sort_values(by=['input'])"
   ]
  },
  {
   "cell_type": "markdown",
   "metadata": {},
   "source": [
    "## Step 9 : Predict on Test Data"
   ]
  },
  {
   "cell_type": "code",
   "execution_count": 31,
   "metadata": {},
   "outputs": [
    {
     "name": "stdout",
     "output_type": "stream",
     "text": [
      "predicting on  1388  records\n"
     ]
    }
   ],
   "source": [
    "print (\"predicting on \" , test.count() , \" records\")"
   ]
  },
  {
   "cell_type": "code",
   "execution_count": 32,
   "metadata": {
    "scrolled": true
   },
   "outputs": [
    {
     "name": "stdout",
     "output_type": "stream",
     "text": [
      "CPU times: user 8 ms, sys: 0 ns, total: 8 ms\n",
      "Wall time: 56.9 ms\n"
     ]
    }
   ],
   "source": [
    "%%time\n",
    "\n",
    "## TODO : predict on test data\n",
    "## Hint : 'transform' on 'test'\n",
    "predictions_test = lsvcModel.transform(test)"
   ]
  },
  {
   "cell_type": "code",
   "execution_count": 33,
   "metadata": {},
   "outputs": [
    {
     "name": "stdout",
     "output_type": "stream",
     "text": [
      "+----------+------+-------------+-------+----------+------+------------+-------------+---------------+--------------+------------+----------------+-----------+-----------+---------------+--------------+----------------+--------------------+--------------+------------+-----+------------+---------------------+--------------+-------------------+------------+--------------------+--------------------+--------------------+----------+\n",
      "|customerID|gender|SeniorCitizen|Partner|Dependents|tenure|PhoneService|MultipleLines|InternetService|OnlineSecurity|OnlineBackup|DeviceProtection|TechSupport|StreamingTV|StreamingMovies|      Contract|PaperlessBilling|       PaymentMethod|MonthlyCharges|TotalCharges|Churn|gender_index|InternetService_index|Contract_index|PaymentMethod_index|indexedLabel|            features|      scaledFeatures|       rawPrediction|prediction|\n",
      "+----------+------+-------------+-------+----------+------+------------+-------------+---------------+--------------+------------+----------------+-----------+-----------+---------------+--------------+----------------+--------------------+--------------+------------+-----+------------+---------------------+--------------+-------------------+------------+--------------------+--------------------+--------------------+----------+\n",
      "|0002-ORFBO|Female|            0|      1|         1|     9|           1|            0|            DSL|             0|           1|               0|          1|          1|              0|      One year|               1|        Mailed check|          65.6|       593.3|   No|         1.0|                  1.0|           2.0|                1.0|         0.0|[0.0,1.0,1.0,1.0,...|[0.0,3.3812086352...|[1.06583303864207...|       0.0|\n",
      "|0011-IGKFF|  Male|            1|      1|         0|    13|           1|            0|    Fiber optic|             0|           1|               1|          0|          1|              1|Month-to-month|               1|    Electronic check|          98.0|     1237.85|  Yes|         0.0|                  0.0|           0.0|                0.0|         1.0|(19,[0,1,2,4,7,8,...|(19,[0,1,2,4,7,8,...|[-0.5767102343487...|       1.0|\n",
      "|0015-UOCOJ|Female|            1|      0|         0|     7|           1|            0|            DSL|             1|           0|               0|          0|          0|              0|Month-to-month|               1|    Electronic check|          48.2|      340.35|   No|         1.0|                  1.0|           0.0|                0.0|         0.0|(19,[0,1,4,6,12,1...|(19,[0,1,4,6,12,1...|[0.24799004210970...|       0.0|\n",
      "|0019-EFAEP|Female|            0|      0|         0|    72|           1|            1|    Fiber optic|             1|           1|               1|          0|          1|              0|      Two year|               1|Bank transfer (au...|         101.3|     7261.25|   No|         1.0|                  0.0|           1.0|                2.0|         0.0|[0.0,1.0,0.0,0.0,...|[0.0,3.3812086352...|[1.67798525297847...|       0.0|\n",
      "|0027-KWYKW|Female|            0|      1|         1|    23|           1|            1|    Fiber optic|             0|           0|               0|          0|          1|              0|Month-to-month|               1|    Electronic check|         83.75|     1849.95|   No|         1.0|                  0.0|           0.0|                0.0|         0.0|(19,[1,2,3,4,5,10...|(19,[1,2,3,4,5,10...|[-0.2968614309448...|       1.0|\n",
      "|0048-LUMLS|  Male|            0|      1|         1|    37|           1|            0|    Fiber optic|             0|           0|               0|          0|          1|              1|      One year|               0|Credit card (auto...|          91.2|     3247.55|   No|         0.0|                  0.0|           2.0|                3.0|         0.0|(19,[1,2,3,4,10,1...|(19,[1,2,3,4,10,1...|[0.98029401621717...|       0.0|\n",
      "|0052-DCKON|  Male|            0|      1|         0|    66|           1|            1|    Fiber optic|             1|           1|               1|          1|          1|              1|      One year|               0|Bank transfer (au...|         115.8|     7942.15|   No|         0.0|                  0.0|           2.0|                2.0|         0.0|[0.0,1.0,1.0,0.0,...|[0.0,3.3812086352...|[2.21399845088315...|       0.0|\n",
      "|0064-YIJGF|  Male|            0|      1|         1|    27|           1|            1|    Fiber optic|             0|           0|               0|          0|          0|              0|Month-to-month|               1|Bank transfer (au...|         75.75|      1929.0|   No|         0.0|                  0.0|           0.0|                2.0|         0.0|(19,[1,2,3,4,5,12...|(19,[1,2,3,4,5,12...|[0.18077083112732...|       0.0|\n",
      "|0067-DKWBL|  Male|            1|      0|         0|     2|           1|            0|            DSL|             1|           0|               0|          0|          0|              0|Month-to-month|               1|    Electronic check|         49.25|        91.1|  Yes|         0.0|                  1.0|           0.0|                0.0|         1.0|(19,[0,1,4,6,12,1...|(19,[0,1,4,6,12,1...|[0.15638842237069...|       0.0|\n",
      "|0068-FIGTF|Female|            0|      0|         0|    27|           1|            0|            DSL|             0|           1|               1|          1|          1|              1|      One year|               0|        Mailed check|          78.2|     2078.95|   No|         1.0|                  1.0|           2.0|                1.0|         0.0|[0.0,1.0,0.0,0.0,...|[0.0,3.3812086352...|[1.43729506459739...|       0.0|\n",
      "|0071-NDAFP|  Male|            0|      1|         1|    25|           1|            1|              0|             0|           0|               0|          0|          0|              0|      Two year|               0|Credit card (auto...|          25.5|       630.6|   No|         0.0|                  2.0|           1.0|                3.0|         0.0|(19,[1,2,3,4,5,13...|(19,[1,2,3,4,5,13...|[1.65370318182028...|       0.0|\n",
      "|0076-LVEPS|  Male|            0|      0|         1|    29|           0|            0|            DSL|             1|           1|               1|          1|          0|              0|Month-to-month|               1|        Mailed check|          45.0|     1242.45|   No|         0.0|                  1.0|           0.0|                1.0|         0.0|(19,[3,4,6,7,8,9,...|(19,[3,4,6,7,8,9,...|[1.64886320599211...|       0.0|\n",
      "|0089-IIQKO|Female|            0|      1|         1|    39|           1|            1|    Fiber optic|             0|           0|               0|          1|          1|              1|Month-to-month|               1|Credit card (auto...|         99.95|      3767.4|   No|         1.0|                  0.0|           0.0|                3.0|         0.0|[0.0,1.0,1.0,1.0,...|[0.0,3.3812086352...|[0.59027521294722...|       0.0|\n",
      "|0098-BOWSO|  Male|            0|      0|         0|    27|           1|            0|              0|             0|           0|               0|          0|          0|              0|Month-to-month|               1|    Electronic check|          19.4|       529.8|   No|         0.0|                  2.0|           0.0|                0.0|         0.0|(19,[1,4,12,13,14...|(19,[1,4,12,13,14...|[1.05067862343899...|       0.0|\n",
      "|0112-QWPNC|  Male|            0|      1|         0|    49|           1|            1|            DSL|             1|           0|               1|          1|          1|              1|      One year|               0|    Electronic check|         84.35|     4059.35|  Yes|         0.0|                  1.0|           2.0|                0.0|         1.0|[0.0,1.0,1.0,0.0,...|[0.0,3.3812086352...|[1.75604236810668...|       0.0|\n",
      "|0114-RSRRW|Female|            0|      1|         0|    10|           1|            0|              0|             0|           0|               0|          0|          0|              0|Month-to-month|               1|Bank transfer (au...|         19.95|      187.75|   No|         1.0|                  2.0|           0.0|                2.0|         0.0|(19,[1,2,4,12,13,...|(19,[1,2,4,12,13,...|[1.05260035106684...|       0.0|\n",
      "|0139-IVFJG|Female|            0|      1|         0|     2|           1|            0|    Fiber optic|             1|           1|               0|          0|          1|              0|Month-to-month|               0|    Electronic check|         90.35|       190.5|   No|         1.0|                  0.0|           0.0|                0.0|         0.0|(19,[1,2,4,6,7,10...|(19,[1,2,4,6,7,10...|[0.05960297858461...|       0.0|\n",
      "|0142-GVYSN|  Male|            0|      0|         0|    26|           1|            0|              0|             0|           0|               0|          0|          0|              0|Month-to-month|               1|    Electronic check|          20.3|      511.25|   No|         0.0|                  2.0|           0.0|                0.0|         0.0|(19,[1,4,12,13,14...|(19,[1,4,12,13,14...|[1.02991310140482...|       0.0|\n",
      "|0151-ONTOV|Female|            0|      0|         0|     1|           1|            0|    Fiber optic|             0|           0|               0|          0|          0|              0|Month-to-month|               0|        Mailed check|          70.9|        70.9|  Yes|         1.0|                  0.0|           0.0|                1.0|         1.0|(19,[1,4,13,14,15...|(19,[1,4,13,14,15...|[-0.1477034184461...|       1.0|\n",
      "|0178-SZBHO|  Male|            0|      1|         1|    47|           1|            1|    Fiber optic|             0|           1|               0|          0|          1|              0|Month-to-month|               0|    Electronic check|          87.2|     4017.45|   No|         0.0|                  0.0|           0.0|                0.0|         0.0|(19,[1,2,3,4,5,7,...|(19,[1,2,3,4,5,7,...|[0.64907470659656...|       0.0|\n",
      "+----------+------+-------------+-------+----------+------+------------+-------------+---------------+--------------+------------+----------------+-----------+-----------+---------------+--------------+----------------+--------------------+--------------+------------+-----+------------+---------------------+--------------+-------------------+------------+--------------------+--------------------+--------------------+----------+\n",
      "only showing top 20 rows\n",
      "\n"
     ]
    }
   ],
   "source": [
    "predictions_test.show()"
   ]
  },
  {
   "cell_type": "markdown",
   "metadata": {},
   "source": [
    "## Step 10: See the evaluation metrics"
   ]
  },
  {
   "cell_type": "code",
   "execution_count": 34,
   "metadata": {},
   "outputs": [],
   "source": [
    "predictions_test = lsvcModel.transform(test)\n",
    "predictions_train = lsvcModel.transform(training)"
   ]
  },
  {
   "cell_type": "markdown",
   "metadata": {},
   "source": [
    "### 10.1 Model Accuracy"
   ]
  },
  {
   "cell_type": "code",
   "execution_count": 35,
   "metadata": {},
   "outputs": [
    {
     "name": "stdout",
     "output_type": "stream",
     "text": [
      "Training set accuracy =  0.8035366931918656\n",
      "Test set accuracy =  0.7982708933717579\n"
     ]
    }
   ],
   "source": [
    "from pyspark.ml.evaluation import MulticlassClassificationEvaluator\n",
    "\n",
    "evaluator = MulticlassClassificationEvaluator(labelCol=\"indexedLabel\", predictionCol=\"prediction\",\n",
    "                                              metricName=\"accuracy\")\n",
    "\n",
    "print(\"Training set accuracy = \" , evaluator.evaluate(predictions_train))\n",
    "print(\"Test set accuracy = \" , evaluator.evaluate(predictions_test))\n"
   ]
  },
  {
   "cell_type": "markdown",
   "metadata": {},
   "source": [
    "### 10.2 : Confusion matrix\n",
    "\n",
    "**Interpret the confusion matrix output**"
   ]
  },
  {
   "cell_type": "code",
   "execution_count": 36,
   "metadata": {
    "scrolled": true
   },
   "outputs": [
    {
     "name": "stdout",
     "output_type": "stream",
     "text": [
      "+-----+---+---+\n",
      "|Churn|  0|  1|\n",
      "+-----+---+---+\n",
      "|   No|923| 92|\n",
      "|  Yes|188|185|\n",
      "+-----+---+---+\n",
      "\n"
     ]
    }
   ],
   "source": [
    "# Confusion matrix\n",
    "cm = predictions_test.groupBy('Churn').pivot('prediction', [0,1]).count().na.fill(0).orderBy('Churn')\n",
    "cm.show()"
   ]
  },
  {
   "cell_type": "code",
   "execution_count": 37,
   "metadata": {},
   "outputs": [
    {
     "data": {
      "text/plain": [
       "[]"
      ]
     },
     "execution_count": 37,
     "metadata": {},
     "output_type": "execute_result"
    }
   ],
   "source": [
    "import seaborn as sns\n",
    "\n",
    "cm_pd = cm.toPandas()\n",
    "cm_pd.set_index(\"Churn\", inplace=True)\n",
    "# print(cm_pd)\n",
    "\n",
    "# colormaps : cmap=\"YlGnBu\" , cmap=\"Greens\", cmap=\"Blues\",  cmap=\"Reds\"\n",
    "sns.heatmap(cm_pd, annot=True,  fmt=',', cmap=\"Blues\").plot()"
   ]
  },
  {
   "cell_type": "markdown",
   "metadata": {},
   "source": [
    "### 10.3 - AUC"
   ]
  },
  {
   "cell_type": "code",
   "execution_count": 38,
   "metadata": {},
   "outputs": [
    {
     "name": "stdout",
     "output_type": "stream",
     "text": [
      "AUC for training:  0.8364188770439221\n",
      "AUC for test :  0.8437565208204134\n"
     ]
    }
   ],
   "source": [
    "from pyspark.ml.evaluation import BinaryClassificationEvaluator\n",
    "\n",
    "# default metrics for BinaryClassificationEvaluator is 'areaUnderCurve'\n",
    "evaluator = BinaryClassificationEvaluator(rawPredictionCol=\"rawPrediction\", labelCol='indexedLabel' )\n",
    "# print (\"default metrics : \" ,evaluator.getMetricName())\n",
    "\n",
    "print(\"AUC for training: \" , evaluator.evaluate(predictions_train))\n",
    "print(\"AUC for test : \" , evaluator.evaluate(predictions_test))"
   ]
  },
  {
   "cell_type": "markdown",
   "metadata": {},
   "source": [
    "**=> What does AUC mean?** "
   ]
  },
  {
   "cell_type": "markdown",
   "metadata": {},
   "source": [
    "## Step 11: Try running without scaling features\n",
    "\n",
    "In Step-5  we are adding a scaler at the end to normalize the vector.  \n",
    "Try without scaler.  \n",
    "\n",
    "Uncomment the following line   \n",
    "```\n",
    "#stages = indexers + [assembler, featureIndexer, labelIndexer] \n",
    "```\n",
    "\n",
    "And run the whole notebook (Cell --> Run All)  \n",
    "Do you see any improvement/degradation in accuracy / AUC ?"
   ]
  }
 ],
 "metadata": {
  "anaconda-cloud": {},
  "kernelspec": {
   "display_name": "Python 3",
   "language": "python",
   "name": "python3"
  },
  "language_info": {
   "codemirror_mode": {
    "name": "ipython",
    "version": 3
   },
   "file_extension": ".py",
   "mimetype": "text/x-python",
   "name": "python",
   "nbconvert_exporter": "python",
   "pygments_lexer": "ipython3",
   "version": "3.6.8"
  }
 },
 "nbformat": 4,
 "nbformat_minor": 2
}
