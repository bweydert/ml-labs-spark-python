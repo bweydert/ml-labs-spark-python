{
 "cells": [
  {
   "cell_type": "markdown",
   "metadata": {},
   "source": [
    "# Decision Tree Learning: Prosper Loan Dataset\n",
    "\n",
    "A decision tree a learned set of rules that allows us to make decisions on data.\n",
    "\n",
    "We are going to look at the prosper loan dataset.  This dataset shows a history of loans made by Prosper."
   ]
  },
  {
   "cell_type": "code",
   "execution_count": 7,
   "metadata": {
    "collapsed": false
   },
   "outputs": [
    {
     "name": "stdout",
     "output_type": "stream",
     "text": [
      "Spark UI running on http://YOURIPADDRESS:4041\n"
     ]
    }
   ],
   "source": [
    "%matplotlib inline\n",
    "from pyspark.ml.feature import VectorAssembler\n",
    "from pyspark.ml.feature import StandardScaler\n",
    "from pyspark.ml import Pipeline\n",
    "from pyspark.ml.classification import DecisionTreeClassifier\n",
    "from pyspark.ml.feature import StringIndexer, VectorIndexer\n",
    "from pyspark.ml.evaluation import MulticlassClassificationEvaluator\n",
    "\n",
    "print('Spark UI running on http://YOURIPADDRESS:' + sc.uiWebUrl.split(':')[2])"
   ]
  },
  {
   "cell_type": "markdown",
   "metadata": {},
   "source": [
    "## Step 1: Load the Data"
   ]
  },
  {
   "cell_type": "code",
   "execution_count": 4,
   "metadata": {
    "collapsed": false
   },
   "outputs": [],
   "source": [
    "dataset = spark.read.csv(\"/data/prosper-loan/prosper-loan-data.csv.gz\", \n",
    "                         header=True, inferSchema=True)\n"
   ]
  },
  {
   "cell_type": "code",
   "execution_count": null,
   "metadata": {
    "collapsed": false
   },
   "outputs": [],
   "source": [
    "dataset.show(20)"
   ]
  },
  {
   "cell_type": "code",
   "execution_count": 2,
   "metadata": {
    "collapsed": true
   },
   "outputs": [],
   "source": [
    "# Define our columns for convenience.\n",
    "\n",
    "columns = ['Term', 'BorrowerRate', 'ProsperRating (numeric)', 'ProsperScore', 'EmploymentStatusDuration', 'IsBorrowerHomeowner',\n",
    "           'CreditScore', 'CurrentCreditLines', 'OpenCreditLines',\n",
    "           'TotalCreditLinespast7years', 'OpenRevolvingAccounts', 'OpenRevolvingMonthlyPayment',\n",
    "           'InquiriesLast6Months', 'TotalInquiries', 'CurrentDelinquencies', 'AmountDelinquent',\n",
    "           'DelinquenciesLast7Years', 'PublicRecordsLast10Years', 'PublicRecordsLast12Months',\n",
    "           'RevolvingCreditBalance', 'BankcardUtilization', 'AvailableBankcardCredit', 'TotalTrades',\n",
    "           'TradesNeverDelinquent (percentage)', 'TradesOpenedLast6Months', 'DebtToIncomeRatio',\n",
    "           'IncomeVerifiable', 'StatedMonthlyIncome', 'TotalProsperLoans', 'TotalProsperPaymentsBilled',\n",
    "           'OnTimeProsperPayments', 'ProsperPaymentsLessThanOneMonthLate', 'ProsperPaymentsOneMonthPlusLate',\n",
    "           'ProsperPrincipalBorrowed', 'ProsperPrincipalOutstanding', 'LoanOriginalAmount',\n",
    "           'MonthlyLoanPayment', 'Recommendations', 'InvestmentFromFriendsCount', 'InvestmentFromFriendsAmount',\n",
    "           'Investors', 'YearsWithCredit']\n",
    "\n",
    "categorical_columns = [\"BorrowerState\", \"EmploymentStatus\", \"ListingCategory\"]\n",
    "categorical_indexers = [\"BorrowerState_index\", \"EmploymentStatus_index\", \"ListingCategory_index\"]\n",
    "\n",
    "\n"
   ]
  },
  {
   "cell_type": "code",
   "execution_count": 5,
   "metadata": {
    "collapsed": false,
    "scrolled": false
   },
   "outputs": [
    {
     "name": "stdout",
     "output_type": "stream",
     "text": [
      "+----+------------+-----------------------+------------+------------------------+-------------------+-----------+------------------+---------------+--------------------------+---------------------+---------------------------+--------------------+--------------+--------------------+----------------+-----------------------+------------------------+-------------------------+----------------------+-------------------+-----------------------+-----------+----------------------------------+-----------------------+-----------------+----------------+-------------------+-----------------+--------------------------+---------------------+-----------------------------------+-------------------------------+------------------------+---------------------------+------------------+------------------+---------------+--------------------------+---------------------------+---------+---------------+\n",
      "|Term|BorrowerRate|ProsperRating (numeric)|ProsperScore|EmploymentStatusDuration|IsBorrowerHomeowner|CreditScore|CurrentCreditLines|OpenCreditLines|TotalCreditLinespast7years|OpenRevolvingAccounts|OpenRevolvingMonthlyPayment|InquiriesLast6Months|TotalInquiries|CurrentDelinquencies|AmountDelinquent|DelinquenciesLast7Years|PublicRecordsLast10Years|PublicRecordsLast12Months|RevolvingCreditBalance|BankcardUtilization|AvailableBankcardCredit|TotalTrades|TradesNeverDelinquent (percentage)|TradesOpenedLast6Months|DebtToIncomeRatio|IncomeVerifiable|StatedMonthlyIncome|TotalProsperLoans|TotalProsperPaymentsBilled|OnTimeProsperPayments|ProsperPaymentsLessThanOneMonthLate|ProsperPaymentsOneMonthPlusLate|ProsperPrincipalBorrowed|ProsperPrincipalOutstanding|LoanOriginalAmount|MonthlyLoanPayment|Recommendations|InvestmentFromFriendsCount|InvestmentFromFriendsAmount|Investors|YearsWithCredit|\n",
      "+----+------------+-----------------------+------------+------------------------+-------------------+-----------+------------------+---------------+--------------------------+---------------------+---------------------------+--------------------+--------------+--------------------+----------------+-----------------------+------------------------+-------------------------+----------------------+-------------------+-----------------------+-----------+----------------------------------+-----------------------+-----------------+----------------+-------------------+-----------------+--------------------------+---------------------+-----------------------------------+-------------------------------+------------------------+---------------------------+------------------+------------------+---------------+--------------------------+---------------------------+---------+---------------+\n",
      "|  36|       0.158|                    4.0|         6.0|                     2.0|               true|      640.0|               5.0|            4.0|                      12.0|                    1|                       24.0|                 3.0|           3.0|                 2.0|           472.0|                    4.0|                     0.0|                      0.0|                   0.0|                0.0|                 1500.0|       11.0|                              0.81|                    0.0|             0.17|            true|        3083.333333|              0.0|                       0.0|                  0.0|                                0.0|                            0.0|                     0.0|                        0.0|              9425|            330.43|              0|                         0|                        0.0|      258|             13|\n",
      "|  36|      0.1325|                    4.0|         6.0|                    19.0|              false|      640.0|               2.0|            2.0|                      10.0|                    1|                       40.0|                 3.0|           5.0|                 3.0|          2224.0|                    1.0|                     0.0|                      0.0|                1220.0|               0.32|                 2580.0|        7.0|                               0.4|                    0.0|             0.27|            true|        1666.666667|              0.0|                       0.0|                  0.0|                                0.0|                            0.0|                     0.0|                        0.0|              1000|             33.81|              0|                         0|                        0.0|       53|             14|\n",
      "|  36|      0.1435|                    5.0|         4.0|                     1.0|              false|      680.0|               9.0|            7.0|                      29.0|                    8|                      290.0|                 1.0|           4.0|                 0.0|             0.0|                    0.0|                     0.0|                      0.0|                8624.0|                0.7|                 3626.0|       20.0|                               1.0|                    0.0|             0.18|            true|        2416.666667|              0.0|                       0.0|                  0.0|                                0.0|                            0.0|                     0.0|                        0.0|              4000|            137.39|              0|                         0|                        0.0|        1|             18|\n",
      "|  36|      0.3177|                    1.0|         5.0|                   121.0|               true|      700.0|              10.0|            9.0|                      18.0|                    5|                      300.0|                 0.0|           1.0|                 0.0|             0.0|                    0.0|                     1.0|                      0.0|                9103.0|               0.97|                  178.0|       17.0|                              0.94|                    0.0|             0.49|            true|             5500.0|              0.0|                       0.0|                  0.0|                                0.0|                            0.0|                     0.0|                        0.0|              4000|            173.71|              0|                         0|                        0.0|       10|             15|\n",
      "|  36|      0.2075|                    4.0|         6.0|                    36.0|              false|      620.0|               4.0|            4.0|                      13.0|                    3|                       15.0|                 0.0|           8.0|                 1.0|          5200.0|                    5.0|                     1.0|                      0.0|                 134.0|               0.08|                 1366.0|        6.0|                              0.37|                    0.0|             0.09|            true|             3750.0|              0.0|                       0.0|                  0.0|                                0.0|                            0.0|                     0.0|                        0.0|              3000|            112.64|              0|                         0|                        0.0|       53|             11|\n",
      "|  36|      0.2419|                    3.0|         5.0|                     3.0|              false|      680.0|               7.0|            7.0|                      34.0|                    5|                      245.0|                 0.0|           0.0|                 0.0|             0.0|                    0.0|                     0.0|                      0.0|                7975.0|               0.84|                  607.0|       22.0|                               1.0|                    0.0|             0.39|            true|             2500.0|              0.0|                       0.0|                  0.0|                                0.0|                            0.0|                     0.0|                        0.0|              2000|             78.67|              0|                         0|                        0.0|       30|             16|\n",
      "|  60|      0.2809|                    2.0|         3.0|                    25.0|              false|      660.0|               7.0|            6.0|                      12.0|                    6|                       95.0|                 2.0|           3.0|                 0.0|             0.0|                    0.0|                     0.0|                      0.0|                2033.0|                0.3|                 3619.0|       10.0|                               1.0|                    1.0|             0.11|            true|        3885.916667|              0.0|                       0.0|                  0.0|                                0.0|                            0.0|                     0.0|                        0.0|              4000|            124.76|              0|                         0|                        0.0|       37|             39|\n",
      "|  36|       0.092|                    6.0|         9.0|                    10.0|               true|      700.0|              16.0|           16.0|                      49.0|                   11|                      294.0|                 2.0|           8.0|                 0.0|             0.0|                    0.0|                     0.0|                      0.0|                7246.0|               0.09|                30794.0|       40.0|                               1.0|                    2.0|             0.26|            true|        6666.666667|              0.0|                       0.0|                  0.0|                                0.0|                            0.0|                     0.0|                        0.0|              4000|               0.0|              0|                         0|                        0.0|      121|             14|\n",
      "|  36|      0.0999|                    6.0|         9.0|                    44.0|              false|      740.0|               4.0|            4.0|                      19.0|                    4|                      105.0|                 0.0|           0.0|                 1.0|         42488.0|                   10.0|                     1.0|                      0.0|                4307.0|               0.13|                25779.0|       18.0|                              0.72|                    1.0|             0.11|            true|             3750.0|              0.0|                       0.0|                  0.0|                                0.0|                            0.0|                     0.0|                        0.0|             10000|            322.62|              0|                         0|                        0.0|       30|             26|\n",
      "|  36|      0.0785|                    7.0|        10.0|                     7.0|              false|      760.0|               6.0|            3.0|                      17.0|                    3|                       58.0|                 0.0|           3.0|                 0.0|             0.0|                    0.0|                     1.0|                      0.0|                  41.0|               0.01|                 3859.0|       14.0|                              0.92|                    0.0|             0.05|            true|       13083.333333|              1.0|                       8.0|                  8.0|                                0.0|                            0.0|                  4000.0|                       0.01|             16000|            500.28|              0|                         0|                        0.0|      326|             11|\n",
      "+----+------------+-----------------------+------------+------------------------+-------------------+-----------+------------------+---------------+--------------------------+---------------------+---------------------------+--------------------+--------------+--------------------+----------------+-----------------------+------------------------+-------------------------+----------------------+-------------------+-----------------------+-----------+----------------------------------+-----------------------+-----------------+----------------+-------------------+-----------------+--------------------------+---------------------+-----------------------------------+-------------------------------+------------------------+---------------------------+------------------+------------------+---------------+--------------------------+---------------------------+---------+---------------+\n",
      "only showing top 10 rows\n",
      "\n"
     ]
    }
   ],
   "source": [
    "dataset.select(columns).show(10)"
   ]
  },
  {
   "cell_type": "markdown",
   "metadata": {},
   "source": [
    "## Step 2: Examine the contents of the categorical columns.\n",
    "\n",
    "Let's look at the contents of our categorical columns.\n",
    "\n",
    "**=> TODO: Group by categorical columns LoanStatus BorrowerState, EmploymentStatus, ListingCategory\n",
    "**and see the breakdowns by count** "
   ]
  },
  {
   "cell_type": "code",
   "execution_count": null,
   "metadata": {
    "collapsed": false
   },
   "outputs": [],
   "source": [
    "dataset.groupBy(???).count().show()\n",
    "dataset.groupBy(???).count().show()\n",
    "dataset.groupBy(???).count().show()\n",
    "dataset.groupBy(???).count().show(60)"
   ]
  },
  {
   "cell_type": "markdown",
   "metadata": {},
   "source": [
    "**=> What does that say about the cardinality of these categorical columns? ***\n",
    "\n"
   ]
  },
  {
   "cell_type": "markdown",
   "metadata": {},
   "source": [
    "## Step 3: Converting Categorical columns \n",
    "\n",
    "We need to convert categorical columns to numerics.  Remember, remember, Spark ML can *only* handle numeric columns.  There's a tool called StringIndexer that will help us here.\n",
    "\n",
    "Because there are a lot of indexers, we build a pipeline to help us out here. \n",
    "\n",
    "**=> TODO: enter in the list with all of our indexers into the pipeline"
   ]
  },
  {
   "cell_type": "code",
   "execution_count": 8,
   "metadata": {
    "collapsed": false
   },
   "outputs": [
    {
     "name": "stdout",
     "output_type": "stream",
     "text": [
      "3\n"
     ]
    }
   ],
   "source": [
    "indexers = [StringIndexer(inputCol=column, outputCol=column+\"_index\", handleInvalid=\"keep\").fit(dataset) for column in categorical_columns ]\n",
    "\n",
    "print(len(indexers))\n",
    "\n",
    "pipeline = Pipeline(stages=???)\n",
    "df_r = pipeline.fit(dataset).transform(dataset)\n"
   ]
  },
  {
   "cell_type": "markdown",
   "metadata": {
    "collapsed": true
   },
   "source": [
    "## Step 4: Drop all NAs.\n",
    "\n",
    "We're just going to drop NAs.\n",
    "\n",
    "**=> TODO: Drop all NAs"
   ]
  },
  {
   "cell_type": "code",
   "execution_count": null,
   "metadata": {
    "collapsed": false
   },
   "outputs": [],
   "source": [
    "na_dropped = df_r.select(columns + categorical_indexers + ['LoanStatus']).???() #TODO: Drop NAs\n"
   ]
  },
  {
   "cell_type": "markdown",
   "metadata": {},
   "source": [
    "## Step 5: Build feature vectors using VectorAssembler."
   ]
  },
  {
   "cell_type": "code",
   "execution_count": null,
   "metadata": {
    "collapsed": true
   },
   "outputs": [],
   "source": [
    "assembler = VectorAssembler(inputCols=columns + categorical_indexers, outputCol=\"features\")\n",
    "fv = assembler.transform(na_dropped)"
   ]
  },
  {
   "cell_type": "markdown",
   "metadata": {},
   "source": [
    "## Step 6: Build Indexers\n",
    "\n",
    "We are going to load the label indexer, which will make us a label column for loan status.\n",
    "We will also add feature indexer which will identify which features are categorical. (we should have 3.)"
   ]
  },
  {
   "cell_type": "code",
   "execution_count": null,
   "metadata": {
    "collapsed": true
   },
   "outputs": [],
   "source": [
    "# Index labels, adding metadata to the label column.\n",
    "# Fit on whole dataset to include all labels in index.\n",
    "labelIndexer = StringIndexer(inputCol=\"LoanStatus\", outputCol=\"indexedLabel\").fit(fv)\n"
   ]
  },
  {
   "cell_type": "code",
   "execution_count": null,
   "metadata": {
    "collapsed": true
   },
   "outputs": [],
   "source": [
    "# Automatically identify categorical features, and index them.\n",
    "# We specify maxCategories so features with > 4 distinct values are treated as continuous.\n",
    "featureIndexer =\\\n",
    "    VectorIndexer(inputCol=\"features\", outputCol=\"indexedFeatures\", maxCategories=4).fit(fv)\n"
   ]
  },
  {
   "cell_type": "markdown",
   "metadata": {},
   "source": [
    "## Step 7: Split Data into training and test.\n",
    "\n",
    "We will split our the data up into training and test.  (You know the drill by now).\n",
    "\n",
    "**=> TODO: Split dataset into 70% training, 30% validation\n"
   ]
  },
  {
   "cell_type": "code",
   "execution_count": null,
   "metadata": {
    "collapsed": true
   },
   "outputs": [],
   "source": [
    "\n",
    "# Split the data into training and test sets (30% held out for testing)\n",
    "(trainingData, testData) =  ???\n"
   ]
  },
  {
   "cell_type": "markdown",
   "metadata": {},
   "source": [
    "## Step 8: Run the pipeline that will fit our decision tree\n",
    "\n",
    "We have a 3 stage pipeline here: \n",
    "\n",
    " 1. LabelIndexer\n",
    " 2. FeatureIndexer\n",
    " 3. DecisionTreeClassifier\n",
    " \n",
    "Running the pipeline will do all three.  Note that our other indexer pipeline already ran above.\n",
    "\n",
    "**=> TODO: Add labelIndexer, featureIndexer, and dt to our pipeline\n",
    "\n"
   ]
  },
  {
   "cell_type": "code",
   "execution_count": null,
   "metadata": {
    "collapsed": true
   },
   "outputs": [],
   "source": [
    "\n",
    "# Train a DecisionTree model.\n",
    "dt = DecisionTreeClassifier(labelCol=\"indexedLabel\", featuresCol=\"indexedFeatures\", maxBins=100)\n",
    "\n",
    "# Chain indexers and tree in a Pipeline\n",
    "pipeline = Pipeline(stages=[???, ???, ???])\n",
    "\n"
   ]
  },
  {
   "cell_type": "code",
   "execution_count": null,
   "metadata": {
    "collapsed": false
   },
   "outputs": [],
   "source": [
    "# Train model.  This also runs the indexers.\n",
    "\n",
    "model = pipeline.fit(trainingData)\n",
    "\n",
    "# Make predictions.\n",
    "predictions = model.transform(testData)\n",
    "\n",
    "# Select example rows to display.\n",
    "predictions.select(\"prediction\", \"indexedLabel\", \"features\").show(5)\n",
    "\n"
   ]
  },
  {
   "cell_type": "markdown",
   "metadata": {},
   "source": [
    "## Step 9: Evaluate the model.\n",
    "\n",
    "Let us check to see how the model did, using accuracy as a measure."
   ]
  },
  {
   "cell_type": "code",
   "execution_count": null,
   "metadata": {
    "collapsed": false
   },
   "outputs": [],
   "source": [
    "# Select (prediction, true label) and compute test error\n",
    "evaluator = MulticlassClassificationEvaluator(\n",
    "    labelCol=\"indexedLabel\", predictionCol=\"prediction\", metricName=\"accuracy\")\n",
    "accuracy = evaluator.evaluate(predictions)\n",
    "print(\"Test Error = %g \" % (1.0 - accuracy))\n"
   ]
  },
  {
   "cell_type": "code",
   "execution_count": null,
   "metadata": {
    "collapsed": false
   },
   "outputs": [],
   "source": [
    "\n",
    "treeModel = model.stages[2]\n",
    "# summary only\n",
    "print(treeModel)"
   ]
  },
  {
   "cell_type": "code",
   "execution_count": null,
   "metadata": {
    "collapsed": true
   },
   "outputs": [],
   "source": []
  }
 ],
 "metadata": {
  "anaconda-cloud": {},
  "kernelspec": {
   "display_name": "Python 3",
   "language": "python",
   "name": "python3"
  },
  "language_info": {
   "codemirror_mode": {
    "name": "ipython",
    "version": 3
   },
   "file_extension": ".py",
   "mimetype": "text/x-python",
   "name": "python",
   "nbconvert_exporter": "python",
   "pygments_lexer": "ipython3",
   "version": "3.5.2"
  }
 },
 "nbformat": 4,
 "nbformat_minor": 1
}
