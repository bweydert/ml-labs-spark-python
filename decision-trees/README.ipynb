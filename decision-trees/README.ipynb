{
 "cells": [
  {
   "cell_type": "markdown",
   "metadata": {},
   "source": [
    "<link rel='stylesheet' href='assets/css/main.css'/>\n",
    "\n",
    "[<< back to main index](../README.md)\n",
    "\n",
    "# Machine Learning With Spark: Decision Trees \n",
    "\n",
    "## Intro\n",
    "\n",
    "These labs explore decision tree learning and ensemble methods\n",
    "\n",
    "\n",
    "## Labs\n",
    " * 1. Decision Trees: Prosper Loan Dataset - [Jupyter Notebook](1-tree-prosper.ipynb)\n",
    " * 2. Random Forests: Election Data Classification - [Jupyter Notebook](2-randomf-election-classification.ipynb)\n",
    " * 3. Random Forests: Eleciton Data  Regresssion - [Jupyter Notebook](3-randomf-election-regression.ipynb)\n",
    "\n",
    "\n",
    "[<< back to main index](../README.md)"
   ]
  }
 ],
 "metadata": {},
 "nbformat": 4,
 "nbformat_minor": 0
}
