{
 "cells": [
  {
   "cell_type": "markdown",
   "metadata": {},
   "source": [
    "# Random Forests: Presidential Contributions\n",
    "\n",
    "Let's look at a random forests models for the presidential dataset.\n",
    "\n",
    "We are going to try to predict two variables:\n",
    "\n",
    "1. Amount of contribution (regression)\n",
    "2. Candidate of Contribution (classification)."
   ]
  },
  {
   "cell_type": "code",
   "execution_count": 28,
   "metadata": {},
   "outputs": [],
   "source": [
    "%matplotlib inline\n",
    "from pyspark.ml.feature import VectorAssembler\n",
    "from pyspark.ml.feature import StandardScaler\n",
    "from pyspark.ml import Pipeline\n",
    "from pyspark.ml.feature import StringIndexer, VectorIndexer\n",
    "from pyspark.ml.evaluation import MulticlassClassificationEvaluator\n",
    "from pyspark.sql.functions import isnan, when, count, col, split, trim, countDistinct, abs \n",
    "from pyspark.ml.regression import RandomForestRegressor\n",
    "from pyspark.ml.classification import RandomForestClassifier\n",
    "from pyspark.ml.feature import VectorIndexer\n",
    "from pyspark.ml.evaluation import RegressionEvaluator\n",
    "from pyspark.sql.types import IntegerType\n",
    "\n",
    "import pyspark.sql.functions\n",
    "\n"
   ]
  },
  {
   "cell_type": "code",
   "execution_count": 11,
   "metadata": {
    "collapsed": true
   },
   "outputs": [],
   "source": [
    "dataset = spark.read.csv(\"/data/presidential_election_contribs/2016/2016-medium-10k.csv\", header=True, inferSchema=True)\n"
   ]
  },
  {
   "cell_type": "code",
   "execution_count": 12,
   "metadata": {
    "collapsed": true
   },
   "outputs": [],
   "source": [
    "zipcodes = spark.read.csv('/data/zipcodes/zipcodes.csv.gz', header=True, inferSchema=True)"
   ]
  },
  {
   "cell_type": "code",
   "execution_count": 7,
   "metadata": {},
   "outputs": [
    {
     "name": "stdout",
     "output_type": "stream",
     "text": [
      "+---+---------+----------+\n",
      "|ZIP|      LAT|       LNG|\n",
      "+---+---------+----------+\n",
      "|601|18.180555|-66.749961|\n",
      "|602|18.361945|-67.175597|\n",
      "|603|18.455183|-67.119887|\n",
      "|606|18.158345|-66.932911|\n",
      "|610|18.295366|-67.125135|\n",
      "|612|18.402253|-66.711397|\n",
      "|616|18.420412|-66.671979|\n",
      "|617|18.445147|-66.559696|\n",
      "|622|17.991245|-67.153993|\n",
      "|623|18.083361|-67.153897|\n",
      "|624|18.064919|-66.716683|\n",
      "|627|  18.4126|-66.863926|\n",
      "|631|18.190607|-66.832041|\n",
      "|637|18.076713|-66.947389|\n",
      "|638|18.295913|-66.515588|\n",
      "|641|18.263085|-66.712985|\n",
      "|646| 18.43315|-66.285875|\n",
      "|647|17.963613|-66.947127|\n",
      "|650|18.349416|-66.578079|\n",
      "|652|18.448452|-66.594127|\n",
      "+---+---------+----------+\n",
      "only showing top 20 rows\n",
      "\n"
     ]
    }
   ],
   "source": [
    "zipcodes.show()"
   ]
  },
  {
   "cell_type": "code",
   "execution_count": 18,
   "metadata": {
    "collapsed": true
   },
   "outputs": [],
   "source": [
    "\n",
    "feature_columns = ['CAND_NM', 'LASTNAME', 'FIRSTNAME', 'CONTBR_ST', 'LAT', 'LNG', 'CONTBR_EMPLOYER', \"CONTBR_OCCUPATION\"]\n",
    "numeric_columns = ['LAT', 'LNG']\n",
    "categorical_columns = ['CAND_NM', 'LASTNAME', 'FIRSTNAME', 'CONTBR_ST', 'CONTBR_EMPLOYER', \"CONTBR_OCCUPATION\"]\n",
    "categorical_index = ['CAND_NM_index', 'FIRSTNAME_index', 'LASTNAME_index', 'CONTBR_ST_index', 'CONTBR_EMPLOYER_index', \n",
    "                     \"CONTBR_OCCUPATION_index\"]\n",
    "prediction_column = ['CONTB_RECEIPT_AMT']\n",
    "prediction_column_donation = ['CAND_NM']\n",
    "feature_columns_donation = ['LASTNAME', 'FIRSTNAME', 'CONTBR_ST', 'LAT', 'LNG', 'CONTBR_EMPLOYER', \"CONTBR_OCCUPATION\"]\n",
    "categorical_columns_donation = ['LASTNAME', 'FIRSTNAME', 'CONTBR_ST', 'CONTBR_EMPLOYER', \"CONTBR_OCCUPATION\"]\n",
    "categorical_index_donation = ['FIRSTNAME_index', 'LASTNAME_index', 'CONTBR_ST_index', 'CONTBR_EMPLOYER_index', \n",
    "                     \"CONTBR_OCCUPATION_index\"]"
   ]
  },
  {
   "cell_type": "code",
   "execution_count": 13,
   "metadata": {},
   "outputs": [],
   "source": [
    "split_col = split(dataset['CONTBR_NM'], ',')\n",
    "dataset = dataset.withColumn('LASTNAME', trim(split_col.getItem(0)))\n",
    "dataset = dataset.withColumn('FIRSTNAME', trim(split_col.getItem(1)))\n",
    "dataset = dataset.withColumn('ZIP5DIG', dataset['CONTBR_ZIP'].substr(0,5).cast(IntegerType()))\n",
    "dataset = dataset.withColumn('CONTB_RECEIPT_AMT', pyspark.sql.functions.abs(dataset['CONTB_RECEIPT_AMT']))"
   ]
  },
  {
   "cell_type": "code",
   "execution_count": 14,
   "metadata": {
    "collapsed": true
   },
   "outputs": [],
   "source": [
    "joined = dataset.join(zipcodes, dataset.ZIP5DIG == zipcodes.ZIP)"
   ]
  },
  {
   "cell_type": "code",
   "execution_count": 15,
   "metadata": {},
   "outputs": [
    {
     "name": "stdout",
     "output_type": "stream",
     "text": [
      "+---------+---------+--------------------+--------------------+----------------+---------+----------+--------------------+--------------------+-----------------+----------------+------------+-------+--------------------+-------+--------+-------------+-----------+------------+------------+-------+-----+---------+-----------+\n",
      "|  CMTE_ID|  CAND_ID|             CAND_NM|           CONTBR_NM|     CONTBR_CITY|CONTBR_ST|CONTBR_ZIP|     CONTBR_EMPLOYER|   CONTBR_OCCUPATION|CONTB_RECEIPT_AMT|CONTB_RECEIPT_DT|RECEIPT_DESC|MEMO_CD|           MEMO_TEXT|FORM_TP|FILE_NUM|      TRAN_ID|ELECTION_TP|    LASTNAME|   FIRSTNAME|ZIP5DIG|  ZIP|      LAT|        LNG|\n",
      "+---------+---------+--------------------+--------------------+----------------+---------+----------+--------------------+--------------------+-----------------+----------------+------------+-------+--------------------+-------+--------+-------------+-----------+------------+------------+-------+-----+---------+-----------+\n",
      "|C00575795|P00003392|Clinton, Hillary ...|     RIGNEY, FARRELL|        CARLSBAD|       CA| 920083418|       SELF-EMPLOYED|          CONTRACTOR|              5.0|       22-JUL-16|        null|   null|                null|  SA17A| 1109498|     C7349308|      P2016|      RIGNEY|     FARRELL|  92008|92008|33.147294|-117.322181|\n",
      "|C00577130|P60007168|    Sanders, Bernard|         ARNOLD, IRA|    ROHNERT PARK|       CA| 949283810|                NONE|        NOT EMPLOYED|            100.0|       20-APR-16|        null|   null|* EARMARKED CONTR...|  SA17A| 1079445|  VPF7BP3QWF6|      P2016|      ARNOLD|         IRA|  94928|94928| 38.34642|-122.694127|\n",
      "|C00574624|P60006111|Cruz, Rafael Edwa...|VANDOREN, HELEN E...|    COLLEGE PARK|       MD| 207402852|             RETIRED|             RETIRED|             24.0|       04-MAR-16|        null|   null|                null|  SA17A| 1077665| SA17.1303234|      P2016|    VANDOREN|HELEN E. MS.|  20740|20740|39.002745| -76.931721|\n",
      "|C00575795|P00003392|Clinton, Hillary ...|      RICHARDS, MARC|     LOS ANGELES|       CA| 900362910|       SELF-EMPLOYED|                 ART|            100.0|       22-SEP-16|        null|      X|* HILLARY VICTORY...|   SA18| 1137625|    C11980923|      G2016|    RICHARDS|        MARC|  90036|90036| 34.07041|-118.350411|\n",
      "|C00575795|P00003392|Clinton, Hillary ...|       MOYER, DENNIS|        RICHMOND|       CA| 948047413|         MARIN HONDA|WARRANTY ADMINIST...|             10.0|       06-JUN-16|        null|   null|                null|  SA17A| 1099613|     C5635213|      P2016|       MOYER|      DENNIS|  94804|94804|37.916555|-122.341233|\n",
      "|C00575795|P00003392|Clinton, Hillary ...|       SNYDER, DAVID|          MEDINA|       OH| 442568128|INFORMATION REQUE...|INFORMATION REQUE...|            300.0|       03-OCT-16|        null|      X|* HILLARY VICTORY...|   SA18| 1137788|    C13644445|      G2016|      SNYDER|       DAVID|  44256|44256|41.139872| -81.860559|\n",
      "|C00577981|P80003478|      Huckabee, Mike|         WARD, JAMES|        PORTALES|       NM|     88130|REQUESTED PER BES...|REQUESTED PER BES...|            100.0|       13-DEC-15|        null|   null|                null|  SA17A| 1056926|  SA17A.90169|      P2016|        WARD|       JAMES|  88130|88130|34.129177|-103.299416|\n",
      "|C00577130|P60007168|    Sanders, Bernard|       KELLY, ELAINE|        COLUMBIA|       MO| 652023205|                NONE|        NOT EMPLOYED|              1.5|       11-MAY-16|        null|   null|* EARMARKED CONTR...|  SA17A| 1094141|  VPF7BPMG3B3|      P2016|       KELLY|      ELAINE|  65202|65202| 39.02037| -92.296535|\n",
      "|C00577130|P60007168|    Sanders, Bernard|    UNDERWOOD, KELSY|           LUSBY|       MD| 206574603|SOUTHERN MARYLAND...|          DISPATCHER|              5.0|       31-MAY-16|        null|   null|* EARMARKED CONTR...|  SA17A| 1094141|  VPF7BPXCJP8|      P2016|   UNDERWOOD|       KELSY|  20657|20657|38.379757| -76.442883|\n",
      "|C00580100|P80001571|    Trump, Donald J.|      MCCAULOU, LILA|       SAHUARITA|       AZ|     85629|INFORMATION REQUE...|INFORMATION REQUE...|             12.0|       08-AUG-16|        null|      X|                null|   SA18| 1135871| SA18.2380276|      G2016|    MCCAULOU|        LILA|  85629|85629|31.917849|-111.019049|\n",
      "|C00577130|P60007168|    Sanders, Bernard|     LOUDIN, CYNTHIA|         CHICAGO|       IL| 606465802|            CNA/NNOC|     UNION ORGANIZER|            100.0|       10-FEB-16|        null|   null|* EARMARKED CONTR...|  SA17A| 1077916|  VPF7BJWHKE5|      P2016|      LOUDIN|     CYNTHIA|  60646|60646|41.993019| -87.759627|\n",
      "|C00580100|P80001571|    Trump, Donald J.|        JANES, DAVID|   NEWPORT BEACH|       CA|     92660|       SELF-EMPLOYED|        MANUFACTURER|            250.0|       14-SEP-16|        null|   null|                null|  SA17A| 1135946|SA17A.2421968|      G2016|       JANES|       DAVID|  92660|92660|33.634626|-117.874882|\n",
      "|C00575795|P00003392|Clinton, Hillary ...| ST. GERMAINE, JULIE|        RICHMOND|       CA| 948032317|PACIFIC GAS & ELE...| SAFETY PROFESSIONAL|             3.75|       07-NOV-16|        null|      X|* HILLARY VICTORY...|   SA18| 1133832|    C16032975|      G2016|ST. GERMAINE|       JULIE|  94803|94803|37.959549|-122.283578|\n",
      "|C00577130|P60007168|    Sanders, Bernard|   HILFENHAUS, JAMES|         BURBANK|       CA| 915041145|                NONE|        NOT EMPLOYED|             50.0|       22-MAY-16|        null|   null|* EARMARKED CONTR...|  SA17A| 1094141|  VPF7BPSSE44|      P2016|  HILFENHAUS|       JAMES|  91504|91504|34.204568|-118.326365|\n",
      "|C00577130|P60007168|    Sanders, Bernard|      MURRAY, PAMELA|     SPRINGFIELD|       MO| 658072812|CURVES FITNESS FO...|           PART-TIME|             27.0|       23-FEB-16|        null|   null|* EARMARKED CONTR...|  SA17A| 1077916|  VPF7BK3QJZ7|      P2016|      MURRAY|      PAMELA|  65807|65807|37.167533| -93.324773|\n",
      "|C00577130|P60007168|    Sanders, Bernard|         KNOTT, RYAN|        COLUMBIA|       SC| 292235802|                SELF|            MUSICIAN|              5.0|       30-APR-16|        null|   null|* EARMARKED CONTR...|  SA17A| 1079445|  VPF7BPBT8T1|      P2016|       KNOTT|        RYAN|  29223|29223|34.092634| -80.919271|\n",
      "|C00575795|P00003392|Clinton, Hillary ...|      LAUBER, NICOLE|SAINT PETERSBURG|       FL| 337043621| NICOLE LAUBER, INC.|       CEO/PRESIDENT|             25.0|       01-NOV-16|        null|   null|                null|  SA17A| 1133832|    C14741575|      G2016|      LAUBER|      NICOLE|  33704|33704|27.796346| -82.628737|\n",
      "|C00575795|P00003392|Clinton, Hillary ...|    WHATLEY, MICHAEL|      WASHINGTON|       DC| 200085106|                 N/A|             RETIRED|             37.0|       28-OCT-16|        null|   null|                null|  SA17A| 1133832|    C14180575|      G2016|     WHATLEY|     MICHAEL|  20008|20008|38.936238| -77.059981|\n",
      "|C00575795|P00003392|Clinton, Hillary ...|      NOLAN, KENNETH|        NEW YORK|       NY| 100254501|               G-III|            DESIGNER|           2700.0|       19-AUG-16|        null|      X|* HILLARY VICTORY...|   SA18| 1126762|    C10319255|      G2016|       NOLAN|     KENNETH|  10025|10025|40.798601| -73.966622|\n",
      "|C00575795|P00003392|Clinton, Hillary ...|        FISHER, JOEL|     WAKE FOREST|       NC| 275879313|       SELF-EMPLOYED|        VETERINARIAN|            100.0|       20-JUL-16|        null|   null|                null|  SA17A| 1109498|     C7154431|      P2016|      FISHER|        JOEL|  27587|27587|35.986719| -78.554351|\n",
      "+---------+---------+--------------------+--------------------+----------------+---------+----------+--------------------+--------------------+-----------------+----------------+------------+-------+--------------------+-------+--------+-------------+-----------+------------+------------+-------+-----+---------+-----------+\n",
      "only showing top 20 rows\n",
      "\n"
     ]
    }
   ],
   "source": [
    "joined.show()"
   ]
  },
  {
   "cell_type": "code",
   "execution_count": null,
   "metadata": {},
   "outputs": [],
   "source": [
    "joined.groupBy('CAND_NM').count().show(40)"
   ]
  },
  {
   "cell_type": "code",
   "execution_count": null,
   "metadata": {
    "scrolled": true
   },
   "outputs": [],
   "source": [
    "joined.groupBy('CONTBR_OCCUPATION').count().filter(\"`count` >= 10\").sort('count', ascending=False).show()"
   ]
  },
  {
   "cell_type": "code",
   "execution_count": null,
   "metadata": {},
   "outputs": [],
   "source": [
    "joined.agg(*(countDistinct(col(c)).alias(c) for c in categorical_columns)).show()\n"
   ]
  },
  {
   "cell_type": "code",
   "execution_count": null,
   "metadata": {},
   "outputs": [],
   "source": [
    "donations = joined.select(prediction_column + feature_columns).na.fill('Unknown')\n",
    "donations.show()"
   ]
  },
  {
   "cell_type": "code",
   "execution_count": null,
   "metadata": {},
   "outputs": [],
   "source": [
    "indexers = [StringIndexer(inputCol=column, outputCol=column+\"_index\", handleInvalid=\"keep\").fit(donations) for column in categorical_columns ]\n",
    "\n",
    "\n",
    "pipeline = Pipeline(stages=indexers)\n",
    "df_r = pipeline.fit(donations).transform(donations)\n",
    "\n",
    "df_r.show()"
   ]
  },
  {
   "cell_type": "code",
   "execution_count": null,
   "metadata": {},
   "outputs": [],
   "source": [
    "df_r.select([count(when(isnan(c), c)).alias(c) for c in df_r.columns]).show()"
   ]
  },
  {
   "cell_type": "code",
   "execution_count": null,
   "metadata": {},
   "outputs": [],
   "source": [
    "df_r.filter('CONTB_RECEIPT_AMT < 0').show()"
   ]
  },
  {
   "cell_type": "code",
   "execution_count": null,
   "metadata": {},
   "outputs": [],
   "source": [
    "assembler = VectorAssembler(inputCols=numeric_columns + categorical_index, outputCol=\"features\")\n",
    "fv = assembler.transform(df_r.na.drop())"
   ]
  },
  {
   "cell_type": "code",
   "execution_count": null,
   "metadata": {},
   "outputs": [],
   "source": [
    "fv.show()"
   ]
  },
  {
   "cell_type": "code",
   "execution_count": null,
   "metadata": {
    "collapsed": true
   },
   "outputs": [],
   "source": [
    "# Automatically identify categorical features, and index them.\n",
    "# We specify maxCategories so features with > 4 distinct values are treated as continuous.\n",
    "featureIndexer =\\\n",
    "    VectorIndexer(inputCol=\"features\", outputCol=\"indexedFeatures\").fit(fv)\n"
   ]
  },
  {
   "cell_type": "code",
   "execution_count": null,
   "metadata": {
    "collapsed": true
   },
   "outputs": [],
   "source": [
    "\n",
    "# Split the data into training and test sets (30% held out for testing)\n",
    "(trainingData, testData) = fv.randomSplit([0.7, 0.3])\n"
   ]
  },
  {
   "cell_type": "code",
   "execution_count": null,
   "metadata": {},
   "outputs": [],
   "source": [
    "\n",
    "# Train a RandomForest model.\n",
    "rf = RandomForestRegressor(featuresCol=\"indexedFeatures\", maxBins=12000)\n",
    "\n",
    "# Chain indexer and forest in a Pipeline\n",
    "pipeline = Pipeline(stages=[featureIndexer, rf])\n"
   ]
  },
  {
   "cell_type": "code",
   "execution_count": null,
   "metadata": {},
   "outputs": [],
   "source": [
    "# Train model.  This also runs the indexers.\n",
    "\n",
    "\n",
    "trainingData = trainingData.withColumn(\"label\",trainingData.CONTB_RECEIPT_AMT)\n",
    "\n",
    "\n",
    "model = pipeline.fit(trainingData)\n",
    "\n",
    "# Make predictions.\n",
    "predictions = model.transform(testData)\n"
   ]
  },
  {
   "cell_type": "code",
   "execution_count": null,
   "metadata": {},
   "outputs": [],
   "source": [
    "\n",
    "# Select example rows to display.\n",
    "#predictions.select(\"prediction\", \"indexedLabel\", \"features\").show(5)\n",
    "\n",
    "predictions.select('CONTB_RECEIPT_AMT', 'prediction').show(100)\n"
   ]
  },
  {
   "cell_type": "code",
   "execution_count": null,
   "metadata": {},
   "outputs": [],
   "source": [
    "\n",
    "# Select (prediction, true label) and compute test error\n",
    "evaluator = RegressionEvaluator(\n",
    "    labelCol=\"CONTB_RECEIPT_AMT\", predictionCol=\"prediction\", metricName=\"rmse\")\n",
    "rmse = evaluator.evaluate(predictions)\n",
    "print(\"Root Mean Squared Error (RMSE) on test data = %g\" % rmse)\n",
    "\n",
    "rfModel = model.stages[1]\n",
    "print(rfModel)  # summary only\n"
   ]
  },
  {
   "cell_type": "code",
   "execution_count": null,
   "metadata": {},
   "outputs": [],
   "source": [
    "rfModel.featureImportances"
   ]
  },
  {
   "cell_type": "code",
   "execution_count": null,
   "metadata": {},
   "outputs": [],
   "source": [
    "print(numeric_columns + categorical_columns)"
   ]
  },
  {
   "cell_type": "markdown",
   "metadata": {},
   "source": [
    "We see the following Variables in Order of Importnace\n",
    "1. CONTBR_ST\n",
    "2. LASTNAME\n",
    "3. FIRSTNAME\n",
    "4. CONTBR_EMPLOYER\n",
    "5. CONTBR_OCCUPATION\n",
    "\n",
    "LAT, LONG, and CAND_NM had virtually no impact."
   ]
  },
  {
   "cell_type": "code",
   "execution_count": null,
   "metadata": {},
   "outputs": [],
   "source": [
    "\n",
    "# Select (prediction, true label) and compute test error\n",
    "evaluator = RegressionEvaluator(\n",
    "    labelCol=\"CONTB_RECEIPT_AMT\", predictionCol=\"prediction\", metricName=\"r2\")\n",
    "r2 = evaluator.evaluate(predictions)\n",
    "print(\"Root Mean Squared Error (RMSE) on test data = %g\" % r2)\n",
    "\n"
   ]
  },
  {
   "cell_type": "markdown",
   "metadata": {},
   "source": [
    "Negative R squared means our data fit worse than the null hypothesis."
   ]
  },
  {
   "cell_type": "markdown",
   "metadata": {},
   "source": [
    "## Classification\n",
    "\n",
    "Let's try classifying the candidate donated to\n"
   ]
  },
  {
   "cell_type": "code",
   "execution_count": 43,
   "metadata": {},
   "outputs": [
    {
     "name": "stdout",
     "output_type": "stream",
     "text": [
      "+--------------------+-----+\n",
      "|             CAND_NM|count|\n",
      "+--------------------+-----+\n",
      "|        Rubio, Marco|  128|\n",
      "|      Fiorina, Carly|   35|\n",
      "|Christie, Christo...|    7|\n",
      "|         Stein, Jill|   11|\n",
      "|    Sanders, Bernard| 2506|\n",
      "|      McMullin, Evan|    6|\n",
      "|      Huckabee, Mike|    8|\n",
      "|       Walker, Scott|    5|\n",
      "|  Graham, Lindsey O.|    5|\n",
      "|     Kasich, John R.|   42|\n",
      "|O'Malley, Martin ...|    9|\n",
      "|Santorum, Richard J.|    3|\n",
      "| Carson, Benjamin S.|  343|\n",
      "|Webb, James Henry...|    1|\n",
      "|    Lessig, Lawrence|    3|\n",
      "|          Paul, Rand|   42|\n",
      "|   Pataki, George E.|    1|\n",
      "|       Johnson, Gary|   11|\n",
      "|Clinton, Hillary ...| 4355|\n",
      "|Perry, James R. (...|    2|\n",
      "|    Trump, Donald J.|  935|\n",
      "|Cruz, Rafael Edwa...|  722|\n",
      "|           Bush, Jeb|   41|\n",
      "+--------------------+-----+\n",
      "\n"
     ]
    }
   ],
   "source": [
    "joined.groupBy('CAND_NM').count().show(40)"
   ]
  },
  {
   "cell_type": "code",
   "execution_count": 38,
   "metadata": {},
   "outputs": [],
   "source": [
    "donations2 = joined.select(prediction_column + feature_columns).na.fill('Unknown')\n",
    "indexers = [StringIndexer(inputCol=column, outputCol=column+\"_index\", handleInvalid=\"keep\").fit(donations2) for column in categorical_columns ]\n",
    "\n",
    "\n",
    "pipeline = Pipeline(stages=indexers)\n",
    "df_r2 = pipeline.fit(donations2).transform(donations2)\n",
    "assembler2 = VectorAssembler(inputCols=numeric_columns + categorical_index_donation, outputCol=\"features\")\n",
    "fv2 = assembler2.transform(df_r2.na.drop())\n",
    "\n",
    "fv2 = fv2.withColumn(\"label\",fv2.CAND_NM)\n",
    "\n",
    "\n",
    "# Split the data into training and test sets (30% held out for testing)\n",
    "(trainingData2, testData2) = fv2.randomSplit([0.7, 0.3])\n",
    "\n",
    "\n",
    "# Index labels, adding metadata to the label column.\n",
    "# Fit on whole dataset to include all labels in index.\n",
    "labelIndexer = StringIndexer(inputCol=\"label\", outputCol=\"indexedLabel\").fit(fv2)\n",
    "\n",
    "\n",
    "# We specify maxCategories so features with > 4 distinct values are treated as continuous.\n",
    "featureIndexer2 =\\\n",
    "    VectorIndexer(inputCol=\"features\", outputCol=\"indexedFeatures\").fit(fv2)\n",
    "\n",
    "\n",
    "# Train a RandomForest model.\n",
    "rf2 = RandomForestClassifier(labelCol=\"indexedLabel\", featuresCol=\"indexedFeatures\", numTrees=100, maxBins=10000)\n",
    "\n",
    "# Chain indexer and forest in a Pipeline\n",
    "pipeline2 = Pipeline(stages=[labelIndexer, featureIndexer2, rf2])\n"
   ]
  },
  {
   "cell_type": "code",
   "execution_count": 39,
   "metadata": {},
   "outputs": [],
   "source": [
    "# Train model.  This also runs the indexers.\n",
    "\n",
    "\n",
    "model2 = pipeline2.fit(trainingData2)\n",
    "\n",
    "# Make predictions.\n",
    "predictions2 = model2.transform(testData2)\n"
   ]
  },
  {
   "cell_type": "code",
   "execution_count": 41,
   "metadata": {},
   "outputs": [
    {
     "name": "stdout",
     "output_type": "stream",
     "text": [
      "+-----------------+--------------------+------------+----------+---------+---------+-----------+--------------------+--------------------+-------------+--------------+---------------+---------------+---------------------+-----------------------+--------------------+--------------------+------------+--------------------+--------------------+--------------------+----------+\n",
      "|CONTB_RECEIPT_AMT|             CAND_NM|    LASTNAME| FIRSTNAME|CONTBR_ST|      LAT|        LNG|     CONTBR_EMPLOYER|   CONTBR_OCCUPATION|CAND_NM_index|LASTNAME_index|FIRSTNAME_index|CONTBR_ST_index|CONTBR_EMPLOYER_index|CONTBR_OCCUPATION_index|            features|               label|indexedLabel|     indexedFeatures|       rawPrediction|         probability|prediction|\n",
      "+-----------------+--------------------+------------+----------+---------+---------+-----------+--------------------+--------------------+-------------+--------------+---------------+---------------+---------------------+-----------------------+--------------------+--------------------+------------+--------------------+--------------------+--------------------+----------+\n",
      "|              0.0|Clinton, Hillary ...|      DUNDEE|     DIANE|       TX| 29.75415| -95.409498|            KINETICA|           EXECUTIVE|          0.0|        2249.0|           51.0|            2.0|               1196.0|                   37.0|[29.75415,-95.409...|Clinton, Hillary ...|         0.0|[29.75415,-95.409...|[20.5490332977495...|[0.20549033297749...|       1.0|\n",
      "|              1.0|Clinton, Hillary ...|      BENACK|  MARY ANN|       WA| 47.63714|-122.321891|           MICROSOFT|    CUSTOMER SERVICE|          0.0|         842.0|          411.0|            4.0|                 29.0|                   90.0|[47.63714,-122.32...|Clinton, Hillary ...|         0.0|[47.63714,-122.32...|[53.9756530643181...|[0.53975653064318...|       0.0|\n",
      "|              1.0|Clinton, Hillary ...|       CANTU|    LEONOR|       TX|31.051688| -97.499909|                 N/A|             RETIRED|          0.0|         993.0|         2651.0|            2.0|                  0.0|                    0.0|[31.051688,-97.49...|Clinton, Hillary ...|         0.0|[31.051688,-97.49...|[76.6814212573496...|[0.76681421257349...|       0.0|\n",
      "|              1.0|Clinton, Hillary ...|    DELAROSA|     PEDRO|       FL|25.753332| -80.270379|       SELF-EMPLOYED|      MEDICAL DOCTOR|          0.0|         707.0|          703.0|            3.0|                  2.0|                  195.0|[25.753332,-80.27...|Clinton, Hillary ...|         0.0|[25.753332,-80.27...|[39.2945261872005...|[0.39294526187200...|       0.0|\n",
      "|              1.0|Clinton, Hillary ...|  IMEOKPARIA|       OSI|       CA|37.415727|-122.130762| HILLARY FOR AMERICA|     PRODUCT MANAGER|          0.0|        2914.0|         2730.0|            0.0|                 43.0|                   82.0|[37.415727,-122.1...|Clinton, Hillary ...|         0.0|[37.415727,-122.1...|[43.0909526724297...|[0.43090952672429...|       0.0|\n",
      "|              1.0|Clinton, Hillary ...|     MUELLER|      ZACH|       TX|32.873485| -96.747539|                 HCA|     NURSE EXECUTIVE|          0.0|        1042.0|         1070.0|            2.0|                195.0|                  761.0|[32.873485,-96.74...|Clinton, Hillary ...|         0.0|[32.873485,-96.74...|[19.5780263648771...|[0.19578026364877...|       3.0|\n",
      "|              1.0|Clinton, Hillary ...|      NANKIN|      TROY|       CA|34.052913| -118.26434|        WISHLAB INC.|   TALENT MANAGEMENT|          0.0|        2480.0|          287.0|            0.0|                611.0|                  607.0|[34.052913,-118.2...|Clinton, Hillary ...|         0.0|[34.052913,-118.2...|[7.94217792619155...|[0.07942177926191...|       2.0|\n",
      "|              1.0|Clinton, Hillary ...|     POLLACK|    EILEEN|       NY|40.798601| -73.966622|UNIVERSITY OF MIC...|           PROFESSOR|          0.0|         434.0|          155.0|            1.0|                 11.0|                    7.0|[40.798601,-73.96...|Clinton, Hillary ...|         0.0|[40.798601,-73.96...|[60.9788248772790...|[0.60978824877279...|       0.0|\n",
      "|              1.0|Clinton, Hillary ...|       REMAR|      MARY|       TX|29.750233| -95.615383|                 NYB|NYB CONSOLIDATED,...|          0.0|        3672.0|            7.0|            2.0|               1626.0|                 2098.0|[29.750233,-95.61...|Clinton, Hillary ...|         0.0|[29.750233,-95.61...|[4.73740331304245...|[0.04737403313042...|       3.0|\n",
      "|              1.0|Clinton, Hillary ...|STEINKELLNER|     CHERI|       CA|34.065723|-118.434969|       SELF-EMPLOYED|              WRITER|          0.0|        4787.0|         2752.0|            0.0|                  2.0|                   19.0|[34.065723,-118.4...|Clinton, Hillary ...|         0.0|[34.065723,-118.4...|[62.2407626673277...|[0.62240762667327...|       0.0|\n",
      "|              1.0|Clinton, Hillary ...|      TRUITT|   ROBERTA|       OR|44.105457|-123.133235|                 N/A|             RETIRED|          0.0|         483.0|          197.0|           15.0|                  0.0|                    0.0|[44.105457,-123.1...|Clinton, Hillary ...|         0.0|[44.105457,-123.1...|[88.7836515686069...|[0.88783651568606...|       0.0|\n",
      "|              1.0|Clinton, Hillary ...|     VASQUEZ|LISA MARIA|       CA|37.186141|-121.843555|     DE ANZA COLLEGE|          INSTRUCTOR|          0.0|         331.0|         2965.0|            0.0|                286.0|                  397.0|[37.186141,-121.8...|Clinton, Hillary ...|         0.0|[37.186141,-121.8...|[29.0911534134701...|[0.29091153413470...|       0.0|\n",
      "|              1.0|    Sanders, Bernard|      BOLLAG|    JORDAN|       CA|34.406428|-119.726888|                NONE|        NOT EMPLOYED|          1.0|         571.0|          206.0|            0.0|                  3.0|                    1.0|[34.406428,-119.7...|    Sanders, Bernard|         1.0|[34.406428,-119.7...|[10.0656435169527...|[0.10065643516952...|       1.0|\n",
      "|              1.0|    Sanders, Bernard|     BYWATER|     MARIA|       NY|41.416157| -74.043064|      SEW JEWISH LLC|      SEW JEWISH LLC|          1.0|        2796.0|           76.0|            1.0|                437.0|                  581.0|[41.416157,-74.04...|    Sanders, Bernard|         1.0|[41.416157,-74.04...|[7.69025876877212...|[0.07690258768772...|       2.0|\n",
      "|              1.0|    Sanders, Bernard|        CHEN|    VALERY|       NY|40.643468| -73.976046|THE FRICK COLLECTION|FRONT-END WEB DEV...|          1.0|         264.0|         1254.0|            1.0|               1952.0|                 1983.0|[40.643468,-73.97...|    Sanders, Bernard|         1.0|[40.643468,-73.97...|[5.91526591789529...|[0.05915265917895...|       2.0|\n",
      "|             1.35|    Sanders, Bernard|       LEINO|     ELINA|       CA| 37.73622|-122.459338|   SF SUPERIOR COURT|           SECRETARY|          1.0|        1273.0|         3153.0|            0.0|               1876.0|                   87.0|[37.73622,-122.45...|    Sanders, Bernard|         1.0|[37.73622,-122.45...|[10.7836487576144...|[0.10783648757614...|       2.0|\n",
      "|              1.5|    Sanders, Bernard|       KELLY|    ELAINE|       MO| 39.02037| -92.296535|                NONE|        NOT EMPLOYED|          1.0|          70.0|          115.0|           20.0|                  3.0|                    1.0|[39.02037,-92.296...|    Sanders, Bernard|         1.0|[39.02037,-92.296...|[11.5424369883590...|[0.11542436988359...|       1.0|\n",
      "|              2.0| Carson, Benjamin S.|      ESCOTO|    ADOLFO|       CA|34.402343|-119.094824|             RETIRED|             RETIRED|          4.0|        1295.0|         1742.0|            0.0|                  1.0|                    0.0|[34.402343,-119.0...| Carson, Benjamin S.|         4.0|[34.402343,-119.0...|[6.60006191721803...|[0.06600061917218...|       2.0|\n",
      "|              2.0| Carson, Benjamin S.|      MURRAY|   BARBARA|       NC|35.052875| -80.817552|             RETIRED|             RETIRED|          4.0|          48.0|           10.0|           13.0|                  1.0|                    0.0|[35.052875,-80.81...| Carson, Benjamin S.|         4.0|[35.052875,-80.81...|[7.04032099893378...|[0.07040320998933...|       2.0|\n",
      "|              2.0|Clinton, Hillary ...|   KARNOWSKI|     SANDI|       MN|45.009275| -93.341105|                 N/A|             RETIRED|          0.0|        3752.0|          512.0|           16.0|                  0.0|                    0.0|[45.009275,-93.34...|Clinton, Hillary ...|         0.0|[45.009275,-93.34...|[81.3230273358589...|[0.81323027335858...|       0.0|\n",
      "+-----------------+--------------------+------------+----------+---------+---------+-----------+--------------------+--------------------+-------------+--------------+---------------+---------------+---------------------+-----------------------+--------------------+--------------------+------------+--------------------+--------------------+--------------------+----------+\n",
      "only showing top 20 rows\n",
      "\n"
     ]
    }
   ],
   "source": [
    "predictions2.show()"
   ]
  },
  {
   "cell_type": "code",
   "execution_count": 42,
   "metadata": {},
   "outputs": [
    {
     "name": "stdout",
     "output_type": "stream",
     "text": [
      "+----------+--------------------+--------------------+\n",
      "|prediction|               label|            features|\n",
      "+----------+--------------------+--------------------+\n",
      "|       1.0|Clinton, Hillary ...|[29.75415,-95.409...|\n",
      "|       0.0|Clinton, Hillary ...|[47.63714,-122.32...|\n",
      "|       0.0|Clinton, Hillary ...|[31.051688,-97.49...|\n",
      "|       0.0|Clinton, Hillary ...|[25.753332,-80.27...|\n",
      "|       0.0|Clinton, Hillary ...|[37.415727,-122.1...|\n",
      "+----------+--------------------+--------------------+\n",
      "only showing top 5 rows\n",
      "\n",
      "Test Error = 0.490339\n",
      "RandomForestClassificationModel (uid=RandomForestClassifier_4b768ea09ecb9f0481be) with 100 trees\n"
     ]
    }
   ],
   "source": [
    "\n",
    "# Select example rows to display.\n",
    "predictions2.select(\"prediction\", \"label\", \"features\").show(5)\n",
    "\n",
    "# Select (prediction, true label) and compute test error\n",
    "evaluator2 = MulticlassClassificationEvaluator(\n",
    "    labelCol=\"indexedLabel\", predictionCol=\"prediction\", metricName=\"accuracy\")\n",
    "accuracy = evaluator2.evaluate(predictions2)\n",
    "print(\"Test Error = %g\" % (1.0 - accuracy))\n",
    "\n",
    "rfModel2 = model2.stages[2]\n",
    "print(rfModel2)  # summary only"
   ]
  },
  {
   "cell_type": "code",
   "execution_count": 46,
   "metadata": {},
   "outputs": [
    {
     "name": "stdout",
     "output_type": "stream",
     "text": [
      "+--------------------+---+---+---+---+---+---+---+---+---+---+---+---+---+---+---+---+---+---+---+---+---+---+\n",
      "|               label|  0|  1|  2|  3|  4|  5|  6|  7|  8|  9| 10| 11| 12| 13| 14| 15| 16| 17| 18| 19| 20| 21|\n",
      "+--------------------+---+---+---+---+---+---+---+---+---+---+---+---+---+---+---+---+---+---+---+---+---+---+\n",
      "|           Bush, Jeb|  4|  0|  8|  0|  0|  0|  0|  0|  0|  0|  0|  0|  0|  0|  0|  0|  0|  0|  0|  0|  0|  0|\n",
      "| Carson, Benjamin S.| 11|  7| 66| 14|  2|  0|  0|  0|  0|  0|  0|  0|  0|  0|  0|  0|  0|  0|  0|  0|  0|  0|\n",
      "|Christie, Christo...|  1|  0|  3|  0|  0|  0|  0|  0|  0|  0|  0|  0|  0|  0|  0|  0|  0|  0|  0|  0|  0|  0|\n",
      "|Clinton, Hillary ...|791| 95|367| 43|  0|  0|  0|  0|  0|  0|  0|  0|  0|  0|  0|  0|  0|  0|  0|  0|  0|  0|\n",
      "|Cruz, Rafael Edwa...| 26| 27|115| 56|  4|  0|  0|  0|  0|  0|  0|  0|  0|  0|  0|  0|  0|  0|  0|  0|  0|  0|\n",
      "|      Fiorina, Carly|  1|  1|  9|  0|  0|  0|  0|  0|  0|  0|  0|  0|  0|  0|  0|  0|  0|  0|  0|  0|  0|  0|\n",
      "|  Graham, Lindsey O.|  0|  0|  1|  0|  0|  0|  0|  0|  0|  0|  0|  0|  0|  0|  0|  0|  0|  0|  0|  0|  0|  0|\n",
      "|       Johnson, Gary|  0|  0|  2|  0|  0|  0|  0|  0|  0|  0|  0|  0|  0|  0|  0|  0|  0|  0|  0|  0|  0|  0|\n",
      "|     Kasich, John R.|  3|  1|  8|  2|  0|  0|  0|  0|  0|  0|  0|  0|  0|  0|  0|  0|  0|  0|  0|  0|  0|  0|\n",
      "|    Lessig, Lawrence|  1|  0|  0|  0|  0|  0|  0|  0|  0|  0|  0|  0|  0|  0|  0|  0|  0|  0|  0|  0|  0|  0|\n",
      "|      McMullin, Evan|  0|  0|  1|  0|  0|  0|  0|  0|  0|  0|  0|  0|  0|  0|  0|  0|  0|  0|  0|  0|  0|  0|\n",
      "|O'Malley, Martin ...|  2|  0|  1|  0|  0|  0|  0|  0|  0|  0|  0|  0|  0|  0|  0|  0|  0|  0|  0|  0|  0|  0|\n",
      "|   Pataki, George E.|  1|  0|  0|  0|  0|  0|  0|  0|  0|  0|  0|  0|  0|  0|  0|  0|  0|  0|  0|  0|  0|  0|\n",
      "|          Paul, Rand|  2|  6|  4|  0|  0|  0|  0|  0|  0|  0|  0|  0|  0|  0|  0|  0|  0|  0|  0|  0|  0|  0|\n",
      "|Perry, James R. (...|  0|  0|  0|  2|  0|  0|  0|  0|  0|  0|  0|  0|  0|  0|  0|  0|  0|  0|  0|  0|  0|  0|\n",
      "|        Rubio, Marco|  5|  3| 26|  2|  2|  0|  0|  0|  0|  0|  0|  0|  0|  0|  0|  0|  0|  0|  0|  0|  0|  0|\n",
      "|    Sanders, Bernard|116|352|232| 25|  0|  0|  0|  0|  0|  0|  0|  0|  0|  0|  0|  0|  0|  0|  0|  0|  0|  0|\n",
      "|Santorum, Richard J.|  0|  0|  1|  0|  0|  0|  0|  0|  0|  0|  0|  0|  0|  0|  0|  0|  0|  0|  0|  0|  0|  0|\n",
      "|         Stein, Jill|  0|  0|  2|  1|  0|  0|  0|  0|  0|  0|  0|  0|  0|  0|  0|  0|  0|  0|  0|  0|  0|  0|\n",
      "|    Trump, Donald J.| 59|  9|197| 22|  0|  0|  0|  0|  0|  0|  0|  0|  0|  0|  0|  0|  0|  0|  0|  0|  0|  0|\n",
      "+--------------------+---+---+---+---+---+---+---+---+---+---+---+---+---+---+---+---+---+---+---+---+---+---+\n",
      "only showing top 20 rows\n",
      "\n"
     ]
    }
   ],
   "source": [
    "predictions2.groupBy('label').pivot('prediction', range(0,22)).count().na.fill(0).orderBy('label').show()"
   ]
  },
  {
   "cell_type": "code",
   "execution_count": 52,
   "metadata": {},
   "outputs": [
    {
     "data": {
      "text/plain": [
       "SparseVector(7, {0: 0.0155, 1: 0.016, 2: 0.06, 3: 0.0084, 4: 0.0341, 5: 0.5551, 6: 0.3109})"
      ]
     },
     "execution_count": 52,
     "metadata": {},
     "output_type": "execute_result"
    }
   ],
   "source": [
    "rfModel2.featureImportances"
   ]
  },
  {
   "cell_type": "code",
   "execution_count": 54,
   "metadata": {},
   "outputs": [
    {
     "name": "stdout",
     "output_type": "stream",
     "text": [
      "['LAT', 'LNG', 'LASTNAME', 'FIRSTNAME', 'CONTBR_ST', 'CONTBR_EMPLOYER', 'CONTBR_OCCUPATION']\n"
     ]
    }
   ],
   "source": [
    "print(numeric_columns + categorical_columns_donation)"
   ]
  },
  {
   "cell_type": "markdown",
   "metadata": {},
   "source": [
    "## Most important Fields\n",
    "1. Employer\n",
    "2. Occupation\n",
    "3. LastName\n",
    "4. State\n",
    "\n",
    "Other fields not significant"
   ]
  }
 ],
 "metadata": {
  "anaconda-cloud": {},
  "kernelspec": {
   "display_name": "Python 3",
   "language": "python",
   "name": "python3"
  },
  "language_info": {
   "codemirror_mode": {
    "name": "ipython",
    "version": 3
   },
   "file_extension": ".py",
   "mimetype": "text/x-python",
   "name": "python",
   "nbconvert_exporter": "python",
   "pygments_lexer": "ipython3",
   "version": "3.4.3"
  }
 },
 "nbformat": 4,
 "nbformat_minor": 1
}
