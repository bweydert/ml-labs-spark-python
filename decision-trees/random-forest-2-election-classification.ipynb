{
 "cells": [
  {
   "cell_type": "markdown",
   "metadata": {},
   "source": [
    "# Random Forests: Presidential Contributions\n",
    "\n",
    "Let's look at a random forests models for the presidential dataset.\n",
    "\n",
    "This dataset defines all presidential contribution amounts from publicly available information.\n",
    "\n",
    "**The purpose here is to try to classify the candidate to whom the contributor likely to contribute.**  \n",
    "\n",
    "Here are the feature columns we will use:\n",
    "1. State \n",
    "2. Employer\n",
    "3. Occupation\n",
    "\n",
    "### Notes\n",
    "\n",
    "This is going to be a very difficult dataset to get high accuracy, because we don't have any features that are highly correlated with the outcome. Part of our analysis is to see which features prove to be the most useful. \n",
    "\n",
    "One might suspect that information like State, might be very predictive -- because presumably New Yorkers might contribute to Hillary Clinton and Texans might contribute to Donald Trump. However, it turns out that State is pretty weakly correlated to the outcome.  \n",
    "\n",
    "One nice thing about random forests is that since we \"bag\" featues in differnet trees, we can empirically see which variables have hte most predictive power.  This is helpful for analytical reasons.\n",
    "\n"
   ]
  },
  {
   "cell_type": "code",
   "execution_count": 2,
   "metadata": {},
   "outputs": [
    {
     "name": "stdout",
     "output_type": "stream",
     "text": [
      "Initializing Spark...\n",
      "Spark found in :  /home/ubuntu/spark\n",
      "Spark config:\n",
      "\t spark.app.name=TestApp\n",
      "\tspark.master=local[*]\n",
      "\texecutor.memory=2g\n",
      "\tspark.sql.warehouse.dir=/tmp/tmpg7_jozi0\n",
      "\tsome_property=some_value\n",
      "Spark UI running on port 4040\n"
     ]
    },
    {
     "data": {
      "text/html": [
       "\n",
       "            <div>\n",
       "                <p><b>SparkSession - in-memory</b></p>\n",
       "                \n",
       "        <div>\n",
       "            <p><b>SparkContext</b></p>\n",
       "\n",
       "            <p><a href=\"http://ip-172-16-0-85.ec2.internal:4040\">Spark UI</a></p>\n",
       "\n",
       "            <dl>\n",
       "              <dt>Version</dt>\n",
       "                <dd><code>v2.4.0</code></dd>\n",
       "              <dt>Master</dt>\n",
       "                <dd><code>local[*]</code></dd>\n",
       "              <dt>AppName</dt>\n",
       "                <dd><code>TestApp</code></dd>\n",
       "            </dl>\n",
       "        </div>\n",
       "        \n",
       "            </div>\n",
       "        "
      ],
      "text/plain": [
       "<pyspark.sql.session.SparkSession at 0x7fd3cecf59b0>"
      ]
     },
     "execution_count": 2,
     "metadata": {},
     "output_type": "execute_result"
    }
   ],
   "source": [
    "# initialize Spark Session\n",
    "import os\n",
    "import sys\n",
    "top_dir = os.path.abspath(os.path.join(os.getcwd(), \"../\"))\n",
    "if top_dir not in sys.path:\n",
    "    sys.path.append(top_dir)\n",
    "\n",
    "from init_spark import init_spark\n",
    "spark = init_spark()\n",
    "spark"
   ]
  },
  {
   "cell_type": "markdown",
   "metadata": {},
   "source": [
    "## Step 1: Load the data"
   ]
  },
  {
   "cell_type": "code",
   "execution_count": 3,
   "metadata": {},
   "outputs": [
    {
     "name": "stdout",
     "output_type": "stream",
     "text": [
      "CPU times: user 4 ms, sys: 0 ns, total: 4 ms\n",
      "Wall time: 4.53 s\n"
     ]
    }
   ],
   "source": [
    "%%time\n",
    "\n",
    "# 100k samples\n",
    "data_file = '/data/presidential_election_contribs/2016/2016-100k.csv.gz'\n",
    "\n",
    "\n",
    "data = spark.read.csv(data_file, \\\n",
    "                         header=True, inferSchema=True)"
   ]
  },
  {
   "cell_type": "code",
   "execution_count": 4,
   "metadata": {},
   "outputs": [
    {
     "name": "stdout",
     "output_type": "stream",
     "text": [
      "read 100,000 records\n"
     ]
    }
   ],
   "source": [
    "print(\"read {:,} records\".format(data.count()))"
   ]
  },
  {
   "cell_type": "code",
   "execution_count": 5,
   "metadata": {},
   "outputs": [
    {
     "name": "stdout",
     "output_type": "stream",
     "text": [
      "root\n",
      " |-- CMTE_ID: string (nullable = true)\n",
      " |-- CAND_ID: string (nullable = true)\n",
      " |-- CAND_NM: string (nullable = true)\n",
      " |-- CONTBR_NM: string (nullable = true)\n",
      " |-- CONTBR_CITY: string (nullable = true)\n",
      " |-- CONTBR_ST: string (nullable = true)\n",
      " |-- CONTBR_ZIP: string (nullable = true)\n",
      " |-- CONTBR_EMPLOYER: string (nullable = true)\n",
      " |-- CONTBR_OCCUPATION: string (nullable = true)\n",
      " |-- CONTB_RECEIPT_AMT: double (nullable = true)\n",
      " |-- CONTB_RECEIPT_DT: string (nullable = true)\n",
      " |-- RECEIPT_DESC: string (nullable = true)\n",
      " |-- MEMO_CD: string (nullable = true)\n",
      " |-- MEMO_TEXT: string (nullable = true)\n",
      " |-- FORM_TP: string (nullable = true)\n",
      " |-- FILE_NUM: integer (nullable = true)\n",
      " |-- TRAN_ID: string (nullable = true)\n",
      " |-- ELECTION_TP: string (nullable = true)\n",
      "\n"
     ]
    }
   ],
   "source": [
    "data.printSchema()"
   ]
  },
  {
   "cell_type": "code",
   "execution_count": 6,
   "metadata": {},
   "outputs": [
    {
     "data": {
      "text/html": [
       "<div>\n",
       "<style scoped>\n",
       "    .dataframe tbody tr th:only-of-type {\n",
       "        vertical-align: middle;\n",
       "    }\n",
       "\n",
       "    .dataframe tbody tr th {\n",
       "        vertical-align: top;\n",
       "    }\n",
       "\n",
       "    .dataframe thead th {\n",
       "        text-align: right;\n",
       "    }\n",
       "</style>\n",
       "<table border=\"1\" class=\"dataframe\">\n",
       "  <thead>\n",
       "    <tr style=\"text-align: right;\">\n",
       "      <th></th>\n",
       "      <th>0</th>\n",
       "      <th>1</th>\n",
       "      <th>2</th>\n",
       "    </tr>\n",
       "  </thead>\n",
       "  <tbody>\n",
       "    <tr>\n",
       "      <th>CMTE_ID</th>\n",
       "      <td>C00605568</td>\n",
       "      <td>C00574624</td>\n",
       "      <td>C00580100</td>\n",
       "    </tr>\n",
       "    <tr>\n",
       "      <th>CAND_ID</th>\n",
       "      <td>P20002671</td>\n",
       "      <td>P60006111</td>\n",
       "      <td>P80001571</td>\n",
       "    </tr>\n",
       "    <tr>\n",
       "      <th>CAND_NM</th>\n",
       "      <td>Johnson, Gary</td>\n",
       "      <td>Cruz, Rafael Edward 'Ted'</td>\n",
       "      <td>Trump, Donald J.</td>\n",
       "    </tr>\n",
       "    <tr>\n",
       "      <th>CONTBR_NM</th>\n",
       "      <td>SMITH, PAUL</td>\n",
       "      <td>BROWNE, THOMAS JOHN</td>\n",
       "      <td>RISENHOOVER, LINDSEY</td>\n",
       "    </tr>\n",
       "    <tr>\n",
       "      <th>CONTBR_CITY</th>\n",
       "      <td>SAN DIEGO</td>\n",
       "      <td>WHITESBORO</td>\n",
       "      <td>TULSA</td>\n",
       "    </tr>\n",
       "    <tr>\n",
       "      <th>CONTBR_ST</th>\n",
       "      <td>CA</td>\n",
       "      <td>NY</td>\n",
       "      <td>OK</td>\n",
       "    </tr>\n",
       "    <tr>\n",
       "      <th>CONTBR_ZIP</th>\n",
       "      <td>92117</td>\n",
       "      <td>134921106</td>\n",
       "      <td>74133</td>\n",
       "    </tr>\n",
       "    <tr>\n",
       "      <th>CONTBR_EMPLOYER</th>\n",
       "      <td>SELF</td>\n",
       "      <td>RETIRED</td>\n",
       "      <td>INFORMATION REQUESTED</td>\n",
       "    </tr>\n",
       "    <tr>\n",
       "      <th>CONTBR_OCCUPATION</th>\n",
       "      <td>RETIRED</td>\n",
       "      <td>RETIRED</td>\n",
       "      <td>INFORMATION REQUESTED</td>\n",
       "    </tr>\n",
       "    <tr>\n",
       "      <th>CONTB_RECEIPT_AMT</th>\n",
       "      <td>150</td>\n",
       "      <td>35</td>\n",
       "      <td>73.59</td>\n",
       "    </tr>\n",
       "    <tr>\n",
       "      <th>CONTB_RECEIPT_DT</th>\n",
       "      <td>16-SEP-16</td>\n",
       "      <td>30-APR-15</td>\n",
       "      <td>09-NOV-16</td>\n",
       "    </tr>\n",
       "    <tr>\n",
       "      <th>RECEIPT_DESC</th>\n",
       "      <td>None</td>\n",
       "      <td>None</td>\n",
       "      <td>None</td>\n",
       "    </tr>\n",
       "    <tr>\n",
       "      <th>MEMO_CD</th>\n",
       "      <td>None</td>\n",
       "      <td>None</td>\n",
       "      <td>X</td>\n",
       "    </tr>\n",
       "    <tr>\n",
       "      <th>MEMO_TEXT</th>\n",
       "      <td>None</td>\n",
       "      <td>None</td>\n",
       "      <td>None</td>\n",
       "    </tr>\n",
       "    <tr>\n",
       "      <th>FORM_TP</th>\n",
       "      <td>SA17A</td>\n",
       "      <td>SA17A</td>\n",
       "      <td>SA18</td>\n",
       "    </tr>\n",
       "    <tr>\n",
       "      <th>FILE_NUM</th>\n",
       "      <td>1112281</td>\n",
       "      <td>1024046</td>\n",
       "      <td>1146165</td>\n",
       "    </tr>\n",
       "    <tr>\n",
       "      <th>TRAN_ID</th>\n",
       "      <td>SA17A.66792</td>\n",
       "      <td>SA17.279055</td>\n",
       "      <td>SA18.136964</td>\n",
       "    </tr>\n",
       "    <tr>\n",
       "      <th>ELECTION_TP</th>\n",
       "      <td>G2016</td>\n",
       "      <td>P2016</td>\n",
       "      <td>G2016</td>\n",
       "    </tr>\n",
       "  </tbody>\n",
       "</table>\n",
       "</div>"
      ],
      "text/plain": [
       "                               0                          1  \\\n",
       "CMTE_ID                C00605568                  C00574624   \n",
       "CAND_ID                P20002671                  P60006111   \n",
       "CAND_NM            Johnson, Gary  Cruz, Rafael Edward 'Ted'   \n",
       "CONTBR_NM            SMITH, PAUL        BROWNE, THOMAS JOHN   \n",
       "CONTBR_CITY            SAN DIEGO                 WHITESBORO   \n",
       "CONTBR_ST                     CA                         NY   \n",
       "CONTBR_ZIP                 92117                  134921106   \n",
       "CONTBR_EMPLOYER             SELF                    RETIRED   \n",
       "CONTBR_OCCUPATION        RETIRED                    RETIRED   \n",
       "CONTB_RECEIPT_AMT            150                         35   \n",
       "CONTB_RECEIPT_DT       16-SEP-16                  30-APR-15   \n",
       "RECEIPT_DESC                None                       None   \n",
       "MEMO_CD                     None                       None   \n",
       "MEMO_TEXT                   None                       None   \n",
       "FORM_TP                    SA17A                      SA17A   \n",
       "FILE_NUM                 1112281                    1024046   \n",
       "TRAN_ID              SA17A.66792                SA17.279055   \n",
       "ELECTION_TP                G2016                      P2016   \n",
       "\n",
       "                                       2  \n",
       "CMTE_ID                        C00580100  \n",
       "CAND_ID                        P80001571  \n",
       "CAND_NM                 Trump, Donald J.  \n",
       "CONTBR_NM           RISENHOOVER, LINDSEY  \n",
       "CONTBR_CITY                        TULSA  \n",
       "CONTBR_ST                             OK  \n",
       "CONTBR_ZIP                         74133  \n",
       "CONTBR_EMPLOYER    INFORMATION REQUESTED  \n",
       "CONTBR_OCCUPATION  INFORMATION REQUESTED  \n",
       "CONTB_RECEIPT_AMT                  73.59  \n",
       "CONTB_RECEIPT_DT               09-NOV-16  \n",
       "RECEIPT_DESC                        None  \n",
       "MEMO_CD                                X  \n",
       "MEMO_TEXT                           None  \n",
       "FORM_TP                             SA18  \n",
       "FILE_NUM                         1146165  \n",
       "TRAN_ID                      SA18.136964  \n",
       "ELECTION_TP                        G2016  "
      ]
     },
     "execution_count": 6,
     "metadata": {},
     "output_type": "execute_result"
    }
   ],
   "source": [
    "## data.show() is hard to read\n",
    "## use Pandas to pretty print\n",
    "\n",
    "## vertical\n",
    "## TODO : 'toPandas'\n",
    "data.limit(3).toPandas().T\n",
    "\n",
    "# horizontal\n",
    "# data.limit(5).toPandas()"
   ]
  },
  {
   "cell_type": "markdown",
   "metadata": {},
   "source": [
    "### 1.5 - Sample Data\n",
    "Start with a small sample of data. Once the algorithm is working procss the full dataset.\n"
   ]
  },
  {
   "cell_type": "code",
   "execution_count": 40,
   "metadata": {},
   "outputs": [
    {
     "name": "stdout",
     "output_type": "stream",
     "text": [
      "sample size 10,056 records\n"
     ]
    }
   ],
   "source": [
    "## TODO : set sample rate, start with 0.1\n",
    "# sample size :  10% --> 0.1,   100%  -> 1.0\n",
    "sample_size = 1.0\n",
    "\n",
    "data = data.sample(withReplacement=False, fraction=sample_size)\n",
    "print(\"sample size {:,} records\".format(data.count()))"
   ]
  },
  {
   "cell_type": "markdown",
   "metadata": {},
   "source": [
    "## Step 2 : Clean Data"
   ]
  },
  {
   "cell_type": "markdown",
   "metadata": {},
   "source": [
    "### 2.1 - extract only a few columns"
   ]
  },
  {
   "cell_type": "code",
   "execution_count": 41,
   "metadata": {},
   "outputs": [],
   "source": [
    "## TODO : Select these columns \n",
    "## Hint ; 'CAND_NM', 'CONTBR_ST', 'CONTBR_EMPLOYER', 'CONTBR_OCCUPATION', 'CONTB_RECEIPT_AMT'\n",
    "\n",
    "columns = ['CAND_NM', 'CONTBR_ST', 'CONTBR_EMPLOYER', 'CONTBR_OCCUPATION', 'CONTB_RECEIPT_AMT']"
   ]
  },
  {
   "cell_type": "code",
   "execution_count": 43,
   "metadata": {},
   "outputs": [
    {
     "name": "stdout",
     "output_type": "stream",
     "text": [
      "root\n",
      " |-- CAND_NM: string (nullable = true)\n",
      " |-- CONTBR_ST: string (nullable = true)\n",
      " |-- CONTBR_EMPLOYER: string (nullable = true)\n",
      " |-- CONTBR_OCCUPATION: string (nullable = true)\n",
      " |-- CONTB_RECEIPT_AMT: double (nullable = true)\n",
      "\n"
     ]
    },
    {
     "data": {
      "text/html": [
       "<div>\n",
       "<style scoped>\n",
       "    .dataframe tbody tr th:only-of-type {\n",
       "        vertical-align: middle;\n",
       "    }\n",
       "\n",
       "    .dataframe tbody tr th {\n",
       "        vertical-align: top;\n",
       "    }\n",
       "\n",
       "    .dataframe thead th {\n",
       "        text-align: right;\n",
       "    }\n",
       "</style>\n",
       "<table border=\"1\" class=\"dataframe\">\n",
       "  <thead>\n",
       "    <tr style=\"text-align: right;\">\n",
       "      <th></th>\n",
       "      <th>CAND_NM</th>\n",
       "      <th>CONTBR_ST</th>\n",
       "      <th>CONTBR_EMPLOYER</th>\n",
       "      <th>CONTBR_OCCUPATION</th>\n",
       "      <th>CONTB_RECEIPT_AMT</th>\n",
       "    </tr>\n",
       "  </thead>\n",
       "  <tbody>\n",
       "    <tr>\n",
       "      <th>0</th>\n",
       "      <td>Johnson, Gary</td>\n",
       "      <td>CA</td>\n",
       "      <td>SELF</td>\n",
       "      <td>RETIRED</td>\n",
       "      <td>150.0</td>\n",
       "    </tr>\n",
       "    <tr>\n",
       "      <th>1</th>\n",
       "      <td>Clinton, Hillary Rodham</td>\n",
       "      <td>NY</td>\n",
       "      <td>SAP, INC</td>\n",
       "      <td>PARTNER</td>\n",
       "      <td>38.0</td>\n",
       "    </tr>\n",
       "    <tr>\n",
       "      <th>2</th>\n",
       "      <td>Clinton, Hillary Rodham</td>\n",
       "      <td>PA</td>\n",
       "      <td>REGIONAL LEARNING ALLIANCE</td>\n",
       "      <td>CEO</td>\n",
       "      <td>25.0</td>\n",
       "    </tr>\n",
       "    <tr>\n",
       "      <th>3</th>\n",
       "      <td>Clinton, Hillary Rodham</td>\n",
       "      <td>MD</td>\n",
       "      <td>SPACE TELESCOPE SCIENCE INSTITUTE</td>\n",
       "      <td>ASTROPHYSICIST</td>\n",
       "      <td>50.0</td>\n",
       "    </tr>\n",
       "    <tr>\n",
       "      <th>4</th>\n",
       "      <td>Sanders, Bernard</td>\n",
       "      <td>FL</td>\n",
       "      <td>DOYOUREMEMBER, INC.</td>\n",
       "      <td>DIRECTOR OF OPERATIONS</td>\n",
       "      <td>15.0</td>\n",
       "    </tr>\n",
       "  </tbody>\n",
       "</table>\n",
       "</div>"
      ],
      "text/plain": [
       "                   CAND_NM CONTBR_ST                    CONTBR_EMPLOYER  \\\n",
       "0            Johnson, Gary        CA                               SELF   \n",
       "1  Clinton, Hillary Rodham        NY                           SAP, INC   \n",
       "2  Clinton, Hillary Rodham        PA         REGIONAL LEARNING ALLIANCE   \n",
       "3  Clinton, Hillary Rodham        MD  SPACE TELESCOPE SCIENCE INSTITUTE   \n",
       "4         Sanders, Bernard        FL                DOYOUREMEMBER, INC.   \n",
       "\n",
       "        CONTBR_OCCUPATION  CONTB_RECEIPT_AMT  \n",
       "0                 RETIRED              150.0  \n",
       "1                 PARTNER               38.0  \n",
       "2                     CEO               25.0  \n",
       "3          ASTROPHYSICIST               50.0  \n",
       "4  DIRECTOR OF OPERATIONS               15.0  "
      ]
     },
     "execution_count": 43,
     "metadata": {},
     "output_type": "execute_result"
    }
   ],
   "source": [
    "data2 = data.select(columns)\n",
    "data2.printSchema()\n",
    "\n",
    "data2.limit(5).toPandas()"
   ]
  },
  {
   "cell_type": "markdown",
   "metadata": {},
   "source": [
    "### 2.2 - Clean data (drop null values)"
   ]
  },
  {
   "cell_type": "code",
   "execution_count": 44,
   "metadata": {},
   "outputs": [
    {
     "name": "stdout",
     "output_type": "stream",
     "text": [
      "original data size = 10,056\n",
      "clean data size = 9,964\n",
      "droped records = 92\n"
     ]
    }
   ],
   "source": [
    "## TODO : drop any null values\n",
    "## Hint : na\n",
    "data_clean = data2.na.drop()\n",
    "\n",
    "print(\"original data size = {:,}\".format(data2.count()) )\n",
    "print(\"clean data size = {:,}\".format(data_clean.count()) )\n",
    "print(\"droped records = {:,}\".format(data2.count() - data_clean.count()) )"
   ]
  },
  {
   "cell_type": "markdown",
   "metadata": {},
   "source": [
    "## Step 2 : Basic Exploration"
   ]
  },
  {
   "cell_type": "markdown",
   "metadata": {},
   "source": [
    "### 2.1 - Print out a contribution count broken down by candidate?\n",
    "\n",
    "**=> Which candidates got the most donations? (in terms of number of donors)**"
   ]
  },
  {
   "cell_type": "code",
   "execution_count": 11,
   "metadata": {},
   "outputs": [
    {
     "name": "stdout",
     "output_type": "stream",
     "text": [
      "+-------------------------+-----+\n",
      "|CAND_NM                  |count|\n",
      "+-------------------------+-----+\n",
      "|Clinton, Hillary Rodham  |4686 |\n",
      "|Sanders, Bernard         |2766 |\n",
      "|Trump, Donald J.         |1072 |\n",
      "|Cruz, Rafael Edward 'Ted'|735  |\n",
      "|Carson, Benjamin S.      |348  |\n",
      "|Rubio, Marco             |138  |\n",
      "|Bush, Jeb                |40   |\n",
      "|Paul, Rand               |38   |\n",
      "|Kasich, John R.          |33   |\n",
      "|Fiorina, Carly           |31   |\n",
      "|Johnson, Gary            |24   |\n",
      "|Walker, Scott            |16   |\n",
      "|O'Malley, Martin Joseph  |11   |\n",
      "|Stein, Jill              |10   |\n",
      "|Huckabee, Mike           |6    |\n",
      "|McMullin, Evan           |4    |\n",
      "|Christie, Christopher J. |3    |\n",
      "|Graham, Lindsey O.       |2    |\n",
      "|Jindal, Bobby            |1    |\n",
      "+-------------------------+-----+\n",
      "\n"
     ]
    }
   ],
   "source": [
    "## TODO : print out per candidate breakdown\n",
    "## Hint : group by 'CAND_NM'  and order by 'count'\n",
    "data_clean.groupBy('CAND_NM').count().orderBy('count', ascending=False).show(20, False)"
   ]
  },
  {
   "cell_type": "markdown",
   "metadata": {},
   "source": [
    "### 2.2 - find min/max/average contribution per candidate"
   ]
  },
  {
   "cell_type": "code",
   "execution_count": 45,
   "metadata": {},
   "outputs": [
    {
     "name": "stdout",
     "output_type": "stream",
     "text": [
      "+-------------------------+----------------------+----------------------+----------------------+\n",
      "|CAND_NM                  |min(CONTB_RECEIPT_AMT)|avg(CONTB_RECEIPT_AMT)|max(CONTB_RECEIPT_AMT)|\n",
      "+-------------------------+----------------------+----------------------+----------------------+\n",
      "|Bush, Jeb                |-350.0                |1514.5                |5400.0                |\n",
      "|Carson, Benjamin S.      |-488.0                |143.26902298850575    |5400.0                |\n",
      "|Christie, Christopher J. |400.0                 |1933.3333333333333    |2700.0                |\n",
      "|Clinton, Hillary Rodham  |-2700.0               |112.35318822023045    |2700.0                |\n",
      "|Cruz, Rafael Edward 'Ted'|-5400.0               |88.00919727891157     |10800.0               |\n",
      "|Fiorina, Carly           |5.0                   |207.06451612903226    |2700.0                |\n",
      "|Graham, Lindsey O.       |-2700.0               |-1100.0               |500.0                 |\n",
      "|Huckabee, Mike           |1.0                   |71.0                  |150.0                 |\n",
      "|Jindal, Bobby            |250.0                 |250.0                 |250.0                 |\n",
      "|Johnson, Gary            |3.0                   |214.48958333333334    |1000.0                |\n",
      "|Kasich, John R.          |25.0                  |576.1212121212121     |2700.0                |\n",
      "|McMullin, Evan           |5.0                   |163.75                |500.0                 |\n",
      "|O'Malley, Martin Joseph  |5.0                   |1192.7272727272727    |5400.0                |\n",
      "|Paul, Rand               |10.0                  |159.92842105263153    |1000.0                |\n",
      "|Rubio, Marco             |-2700.0               |314.5869565217391     |2700.0                |\n",
      "|Sanders, Bernard         |1.0                   |48.61877440347068     |2800.0                |\n",
      "|Stein, Jill              |22.0                  |119.2                 |500.0                 |\n",
      "|Trump, Donald J.         |-2300.0               |156.62078358208944    |2700.0                |\n",
      "|Walker, Scott            |25.0                  |607.8125              |5400.0                |\n",
      "+-------------------------+----------------------+----------------------+----------------------+\n",
      "\n"
     ]
    }
   ],
   "source": [
    "from pyspark.sql.functions import min,max,mean\n",
    "\n",
    "## TODO : what colum represents contribution amount?\n",
    "data_clean.groupBy('CAND_NM').\\\n",
    "        agg(min('CONTB_RECEIPT_AMT'), mean('CONTB_RECEIPT_AMT'), max('CONTB_RECEIPT_AMT')).\\\n",
    "        orderBy('CAND_NM').\\\n",
    "        show(40, False)"
   ]
  },
  {
   "cell_type": "markdown",
   "metadata": {},
   "source": [
    "### 2.3 - Whoah!  Negative Contributions!\n",
    "We see some negative contributions!   \n",
    "\n",
    "**Q==> Can you guys figure out why?**\n"
   ]
  },
  {
   "cell_type": "code",
   "execution_count": 46,
   "metadata": {},
   "outputs": [
    {
     "name": "stdout",
     "output_type": "stream",
     "text": [
      "original data size = 9,964\n",
      "positive contributions data size = 9,891\n"
     ]
    }
   ],
   "source": [
    "## TODO Filter out only positive contribs\n",
    "## Hint : use fileter(condition)\n",
    "## Hint : condition :   \n",
    "pos_contribs = data_clean.filter(\"CONTB_RECEIPT_AMT > 0\")\n",
    "\n",
    "print(\"original data size = {:,}\".format(data_clean.count()) )\n",
    "print(\"positive contributions data size = {:,}\".format(pos_contribs.count()) )"
   ]
  },
  {
   "cell_type": "markdown",
   "metadata": {},
   "source": [
    "### 2.4 - now find min/max/median in positive contributions"
   ]
  },
  {
   "cell_type": "code",
   "execution_count": 47,
   "metadata": {},
   "outputs": [
    {
     "name": "stdout",
     "output_type": "stream",
     "text": [
      "sorted by CAND_NM\n",
      "+-------------------------+----------------------+----------------------+----------------------+\n",
      "|CAND_NM                  |min(CONTB_RECEIPT_AMT)|avg(CONTB_RECEIPT_AMT)|max(CONTB_RECEIPT_AMT)|\n",
      "+-------------------------+----------------------+----------------------+----------------------+\n",
      "|Bush, Jeb                |5.0                   |1562.3076923076924    |5400.0                |\n",
      "|Carson, Benjamin S.      |2.0                   |151.35182352941177    |5400.0                |\n",
      "|Christie, Christopher J. |400.0                 |1933.3333333333333    |2700.0                |\n",
      "|Clinton, Hillary Rodham  |0.64                  |113.43495512820517    |2700.0                |\n",
      "|Cruz, Rafael Edward 'Ted'|1.0                   |120.09557122708041    |10800.0               |\n",
      "|Fiorina, Carly           |5.0                   |207.06451612903226    |2700.0                |\n",
      "|Graham, Lindsey O.       |500.0                 |500.0                 |500.0                 |\n",
      "|Huckabee, Mike           |1.0                   |71.0                  |150.0                 |\n",
      "|Jindal, Bobby            |250.0                 |250.0                 |250.0                 |\n",
      "|Johnson, Gary            |3.0                   |214.48958333333334    |1000.0                |\n",
      "|Kasich, John R.          |25.0                  |576.1212121212121     |2700.0                |\n",
      "|McMullin, Evan           |5.0                   |163.75                |500.0                 |\n",
      "|O'Malley, Martin Joseph  |5.0                   |1192.7272727272727    |5400.0                |\n",
      "|Paul, Rand               |10.0                  |159.92842105263153    |1000.0                |\n",
      "|Rubio, Marco             |5.0                   |410.6287878787879     |2700.0                |\n",
      "|Sanders, Bernard         |1.0                   |48.61877440347068     |2800.0                |\n",
      "|Stein, Jill              |22.0                  |119.2                 |500.0                 |\n",
      "|Trump, Donald J.         |0.8                   |166.02285577841445    |2700.0                |\n",
      "|Walker, Scott            |25.0                  |607.8125              |5400.0                |\n",
      "+-------------------------+----------------------+----------------------+----------------------+\n",
      "\n"
     ]
    }
   ],
   "source": [
    "from pyspark.sql.functions import min,max,mean\n",
    "\n",
    "print (\"sorted by CAND_NM\")\n",
    "\n",
    "pos_contribs.groupBy('CAND_NM').\\\n",
    "        agg(min('CONTB_RECEIPT_AMT'), mean('CONTB_RECEIPT_AMT'), max('CONTB_RECEIPT_AMT')).\\\n",
    "        orderBy('CAND_NM').\\\n",
    "        show(40, False)"
   ]
  },
  {
   "cell_type": "code",
   "execution_count": 48,
   "metadata": {},
   "outputs": [
    {
     "name": "stdout",
     "output_type": "stream",
     "text": [
      "sorted by AVG contribution\n",
      "+-------------------------+----------------------+----------------------+----------------------+\n",
      "|CAND_NM                  |min(CONTB_RECEIPT_AMT)|avg(CONTB_RECEIPT_AMT)|max(CONTB_RECEIPT_AMT)|\n",
      "+-------------------------+----------------------+----------------------+----------------------+\n",
      "|Christie, Christopher J. |400.0                 |1933.3333333333333    |2700.0                |\n",
      "|Bush, Jeb                |5.0                   |1562.3076923076924    |5400.0                |\n",
      "|O'Malley, Martin Joseph  |5.0                   |1192.7272727272727    |5400.0                |\n",
      "|Walker, Scott            |25.0                  |607.8125              |5400.0                |\n",
      "|Kasich, John R.          |25.0                  |576.1212121212121     |2700.0                |\n",
      "|Graham, Lindsey O.       |500.0                 |500.0                 |500.0                 |\n",
      "|Rubio, Marco             |5.0                   |410.6287878787879     |2700.0                |\n",
      "|Jindal, Bobby            |250.0                 |250.0                 |250.0                 |\n",
      "|Johnson, Gary            |3.0                   |214.48958333333334    |1000.0                |\n",
      "|Fiorina, Carly           |5.0                   |207.06451612903226    |2700.0                |\n",
      "|Trump, Donald J.         |0.8                   |166.02285577841445    |2700.0                |\n",
      "|McMullin, Evan           |5.0                   |163.75                |500.0                 |\n",
      "|Paul, Rand               |10.0                  |159.92842105263153    |1000.0                |\n",
      "|Carson, Benjamin S.      |2.0                   |151.35182352941177    |5400.0                |\n",
      "|Cruz, Rafael Edward 'Ted'|1.0                   |120.09557122708041    |10800.0               |\n",
      "|Stein, Jill              |22.0                  |119.2                 |500.0                 |\n",
      "|Clinton, Hillary Rodham  |0.64                  |113.43495512820517    |2700.0                |\n",
      "|Huckabee, Mike           |1.0                   |71.0                  |150.0                 |\n",
      "|Sanders, Bernard         |1.0                   |48.61877440347068     |2800.0                |\n",
      "+-------------------------+----------------------+----------------------+----------------------+\n",
      "\n"
     ]
    }
   ],
   "source": [
    "from pyspark.sql.functions import min,max,mean\n",
    "\n",
    "print(\"sorted by AVG contribution\")\n",
    "\n",
    "pos_contribs.groupBy('CAND_NM').\\\n",
    "        agg(min('CONTB_RECEIPT_AMT'), mean('CONTB_RECEIPT_AMT'), max('CONTB_RECEIPT_AMT')).\\\n",
    "        orderBy('avg(CONTB_RECEIPT_AMT)', ascending=False).\\\n",
    "        show(40, False)"
   ]
  },
  {
   "cell_type": "markdown",
   "metadata": {},
   "source": [
    "### 2.5 -- Find total contribution amount per candidate"
   ]
  },
  {
   "cell_type": "code",
   "execution_count": 16,
   "metadata": {},
   "outputs": [
    {
     "name": "stdout",
     "output_type": "stream",
     "text": [
      "sorted by total contribution\n",
      "+-------------------------+----------------------+\n",
      "|CAND_NM                  |sum(CONTB_RECEIPT_AMT)|\n",
      "+-------------------------+----------------------+\n",
      "|Clinton, Hillary Rodham  |530875.5900000002     |\n",
      "|Trump, Donald J.         |173825.92999999993    |\n",
      "|Sanders, Bernard         |134479.5299999999     |\n",
      "|Cruz, Rafael Edward 'Ted'|85147.76000000001     |\n",
      "|Bush, Jeb                |60930.0               |\n",
      "|Rubio, Marco             |54203.0               |\n",
      "|Carson, Benjamin S.      |51459.62              |\n",
      "|Kasich, John R.          |19012.0               |\n",
      "|O'Malley, Martin Joseph  |13120.0               |\n",
      "|Walker, Scott            |9725.0                |\n",
      "|Fiorina, Carly           |6419.0                |\n",
      "|Paul, Rand               |6077.279999999999     |\n",
      "|Christie, Christopher J. |5800.0                |\n",
      "|Johnson, Gary            |5147.75               |\n",
      "|Stein, Jill              |1192.0                |\n",
      "|McMullin, Evan           |655.0                 |\n",
      "|Graham, Lindsey O.       |500.0                 |\n",
      "|Huckabee, Mike           |426.0                 |\n",
      "|Jindal, Bobby            |250.0                 |\n",
      "+-------------------------+----------------------+\n",
      "\n"
     ]
    }
   ],
   "source": [
    "from pyspark.sql.functions import min,max,mean\n",
    "\n",
    "print(\"sorted by total contribution\")\n",
    "\n",
    "pos_contribs.groupBy('CAND_NM').\\\n",
    "        sum('CONTB_RECEIPT_AMT').\\\n",
    "        orderBy('sum(CONTB_RECEIPT_AMT)', ascending=False).\\\n",
    "        show(40, False)"
   ]
  },
  {
   "cell_type": "markdown",
   "metadata": {},
   "source": [
    "## Step 3: Build Indexers"
   ]
  },
  {
   "cell_type": "code",
   "execution_count": 49,
   "metadata": {},
   "outputs": [],
   "source": [
    "from pyspark.ml.feature import StringIndexer\n",
    "\n",
    "## TODO build indexers for following categorical columns\n",
    "## CAND_NM,   CONTBR_ST,  CONTBR_EMPLOYER,  CONTBR_OCCUPATION\n",
    "\n",
    "indexer1 = StringIndexer(inputCol='CAND_NM', outputCol = \"CAND_NM_index\", handleInvalid=\"keep\")\n",
    "indexer2 = StringIndexer(inputCol='CONTBR_ST', outputCol = \"CONTBR_ST_index\", handleInvalid=\"keep\")\n",
    "indexer3 = StringIndexer(inputCol='CONTBR_EMPLOYER', outputCol = \"CONTBR_EMPLOYER_index\", handleInvalid=\"keep\")\n",
    "indexer4 = StringIndexer(inputCol='CONTBR_OCCUPATION', outputCol = \"CONTBR_OCCUPATION_index\", handleInvalid=\"keep\")\n"
   ]
  },
  {
   "cell_type": "code",
   "execution_count": 50,
   "metadata": {},
   "outputs": [
    {
     "name": "stdout",
     "output_type": "stream",
     "text": [
      "Pipeline_97f56de8a381\n"
     ]
    }
   ],
   "source": [
    "## Stash indexers into \n",
    "from pyspark.ml import Pipeline\n",
    "\n",
    "## TODO : add all indexers into stages\n",
    "pipeline = Pipeline(stages=[indexer1, indexer2, indexer3, indexer4])\n",
    "print(pipeline)"
   ]
  },
  {
   "cell_type": "code",
   "execution_count": 51,
   "metadata": {},
   "outputs": [
    {
     "name": "stdout",
     "output_type": "stream",
     "text": [
      "CPU times: user 36 ms, sys: 12 ms, total: 48 ms\n",
      "Wall time: 2.22 s\n"
     ]
    }
   ],
   "source": [
    "%%time\n",
    "## TODO : fit and transform 'pos_contribs'  through pipeline\n",
    "indexed_data = pipeline.fit(pos_contribs).transform(pos_contribs)"
   ]
  },
  {
   "cell_type": "code",
   "execution_count": 52,
   "metadata": {},
   "outputs": [
    {
     "name": "stdout",
     "output_type": "stream",
     "text": [
      "root\n",
      " |-- CAND_NM: string (nullable = true)\n",
      " |-- CONTBR_ST: string (nullable = true)\n",
      " |-- CONTBR_EMPLOYER: string (nullable = true)\n",
      " |-- CONTBR_OCCUPATION: string (nullable = true)\n",
      " |-- CONTB_RECEIPT_AMT: double (nullable = true)\n",
      " |-- CAND_NM_index: double (nullable = false)\n",
      " |-- CONTBR_ST_index: double (nullable = false)\n",
      " |-- CONTBR_EMPLOYER_index: double (nullable = false)\n",
      " |-- CONTBR_OCCUPATION_index: double (nullable = false)\n",
      "\n"
     ]
    }
   ],
   "source": [
    "indexed_data.printSchema()\n",
    "# indexed_data.show()"
   ]
  },
  {
   "cell_type": "markdown",
   "metadata": {},
   "source": [
    "### 3.1  Understand indexed values"
   ]
  },
  {
   "cell_type": "code",
   "execution_count": 22,
   "metadata": {},
   "outputs": [
    {
     "name": "stdout",
     "output_type": "stream",
     "text": [
      "+---------+---------------+-----+\n",
      "|CONTBR_ST|CONTBR_ST_index|count|\n",
      "+---------+---------------+-----+\n",
      "|       VI|           59.0|    1|\n",
      "|       AS|           58.0|    1|\n",
      "|       AA|           57.0|    1|\n",
      "|       EN|           56.0|    1|\n",
      "|       GU|           55.0|    2|\n",
      "|       AP|           54.0|    3|\n",
      "|       AE|           53.0|    3|\n",
      "|       PR|           52.0|   10|\n",
      "|       ND|           51.0|   12|\n",
      "|       ZZ|           50.0|   12|\n",
      "|       SD|           49.0|   13|\n",
      "|       WY|           48.0|   16|\n",
      "|       DE|           47.0|   25|\n",
      "|       AK|           46.0|   27|\n",
      "|       MS|           45.0|   28|\n",
      "|       RI|           44.0|   31|\n",
      "|       NE|           43.0|   31|\n",
      "|       WV|           42.0|   33|\n",
      "|       MT|           41.0|   36|\n",
      "|       UT|           40.0|   44|\n",
      "+---------+---------------+-----+\n",
      "only showing top 20 rows\n",
      "\n"
     ]
    }
   ],
   "source": [
    "# state\n",
    "indexed_data.groupBy(['CONTBR_ST', 'CONTBR_ST_index']).count()\\\n",
    "            .orderBy('CONTBR_ST_index', ascending=False).show()"
   ]
  },
  {
   "cell_type": "code",
   "execution_count": 23,
   "metadata": {},
   "outputs": [
    {
     "name": "stdout",
     "output_type": "stream",
     "text": [
      "+--------------------+---------------------+-----+\n",
      "|     CONTBR_EMPLOYER|CONTBR_EMPLOYER_index|count|\n",
      "+--------------------+---------------------+-----+\n",
      "|       NW FORWARDING|               4159.0|    1|\n",
      "|       KATTEN MUCHIN|               4158.0|    1|\n",
      "|                ALTL|               4157.0|    1|\n",
      "|LIGHT N LIVELY PO...|               4156.0|    1|\n",
      "|   PENTA CORPORATION|               4155.0|    1|\n",
      "|              RE/MAX|               4154.0|    1|\n",
      "|        MOORE CENTER|               4153.0|    1|\n",
      "|          RITZ-CRAFT|               4152.0|    1|\n",
      "|HANDS ON CHILDREN...|               4151.0|    1|\n",
      "| OAKMONT CORPORATION|               4150.0|    1|\n",
      "|INDIANA UNIVERSIT...|               4149.0|    1|\n",
      "|     PETTIS BUILDERS|               4148.0|    1|\n",
      "|ENTERTAINMENT PAR...|               4147.0|    1|\n",
      "|                  MS|               4146.0|    1|\n",
      "|     CATHOLIC SCHOOL|               4145.0|    1|\n",
      "|CITY OF POMPANO B...|               4144.0|    1|\n",
      "|                  AH|               4143.0|    1|\n",
      "|           NEWS CORP|               4142.0|    1|\n",
      "|       COMPUTERSHARE|               4141.0|    1|\n",
      "|GAMBA, LOMBANA & ...|               4140.0|    1|\n",
      "+--------------------+---------------------+-----+\n",
      "only showing top 20 rows\n",
      "\n"
     ]
    }
   ],
   "source": [
    "# employer\n",
    "indexed_data.groupBy(['CONTBR_EMPLOYER', 'CONTBR_EMPLOYER_index']).count()\\\n",
    "            .orderBy('CONTBR_EMPLOYER_index', ascending=False).show()"
   ]
  },
  {
   "cell_type": "code",
   "execution_count": 24,
   "metadata": {},
   "outputs": [
    {
     "name": "stdout",
     "output_type": "stream",
     "text": [
      "+-------------------------+-----------------------+-----+\n",
      "|CONTBR_OCCUPATION        |CONTBR_OCCUPATION_index|count|\n",
      "+-------------------------+-----------------------+-----+\n",
      "|INVENTORY                |2459.0                 |1    |\n",
      "|FARM LAND OWNER          |2458.0                 |1    |\n",
      "|SENIOR AIDE              |2457.0                 |1    |\n",
      "|ESTATE MANAGER           |2456.0                 |1    |\n",
      "|PROFESSOR, LEGAL STUDIES |2455.0                 |1    |\n",
      "|SENIOR DIRECTOR          |2454.0                 |1    |\n",
      "|SCULPTURE TECHNICIAN     |2453.0                 |1    |\n",
      "|DIETITIAN/HEALTH EDUCATOR|2452.0                 |1    |\n",
      "|FULL TIM GRANDPA         |2451.0                 |1    |\n",
      "|IT ADMINISTRATOR         |2450.0                 |1    |\n",
      "+-------------------------+-----------------------+-----+\n",
      "only showing top 10 rows\n",
      "\n"
     ]
    }
   ],
   "source": [
    "# occupation\n",
    "indexed_data.groupBy(['CONTBR_OCCUPATION', 'CONTBR_OCCUPATION_index']).count()\\\n",
    "            .orderBy('CONTBR_OCCUPATION_index', ascending=False).show(10, False)"
   ]
  },
  {
   "cell_type": "markdown",
   "metadata": {},
   "source": [
    "## Step 4 -  Feature Vectors"
   ]
  },
  {
   "cell_type": "code",
   "execution_count": 53,
   "metadata": {},
   "outputs": [
    {
     "name": "stdout",
     "output_type": "stream",
     "text": [
      "root\n",
      " |-- CAND_NM: string (nullable = true)\n",
      " |-- CONTBR_ST: string (nullable = true)\n",
      " |-- CONTBR_EMPLOYER: string (nullable = true)\n",
      " |-- CONTBR_OCCUPATION: string (nullable = true)\n",
      " |-- CONTB_RECEIPT_AMT: double (nullable = true)\n",
      " |-- CAND_NM_index: double (nullable = false)\n",
      " |-- CONTBR_ST_index: double (nullable = false)\n",
      " |-- CONTBR_EMPLOYER_index: double (nullable = false)\n",
      " |-- CONTBR_OCCUPATION_index: double (nullable = false)\n",
      " |-- features: vector (nullable = true)\n",
      "\n"
     ]
    },
    {
     "data": {
      "text/html": [
       "<div>\n",
       "<style scoped>\n",
       "    .dataframe tbody tr th:only-of-type {\n",
       "        vertical-align: middle;\n",
       "    }\n",
       "\n",
       "    .dataframe tbody tr th {\n",
       "        vertical-align: top;\n",
       "    }\n",
       "\n",
       "    .dataframe thead th {\n",
       "        text-align: right;\n",
       "    }\n",
       "</style>\n",
       "<table border=\"1\" class=\"dataframe\">\n",
       "  <thead>\n",
       "    <tr style=\"text-align: right;\">\n",
       "      <th></th>\n",
       "      <th>CAND_NM</th>\n",
       "      <th>CONTBR_ST</th>\n",
       "      <th>CONTBR_EMPLOYER</th>\n",
       "      <th>CONTBR_OCCUPATION</th>\n",
       "      <th>CONTB_RECEIPT_AMT</th>\n",
       "      <th>CAND_NM_index</th>\n",
       "      <th>CONTBR_ST_index</th>\n",
       "      <th>CONTBR_EMPLOYER_index</th>\n",
       "      <th>CONTBR_OCCUPATION_index</th>\n",
       "      <th>features</th>\n",
       "    </tr>\n",
       "  </thead>\n",
       "  <tbody>\n",
       "    <tr>\n",
       "      <th>0</th>\n",
       "      <td>Johnson, Gary</td>\n",
       "      <td>CA</td>\n",
       "      <td>SELF</td>\n",
       "      <td>RETIRED</td>\n",
       "      <td>150.0</td>\n",
       "      <td>10.0</td>\n",
       "      <td>0.0</td>\n",
       "      <td>7.0</td>\n",
       "      <td>0.0</td>\n",
       "      <td>[0.0, 0.0, 7.0]</td>\n",
       "    </tr>\n",
       "    <tr>\n",
       "      <th>1</th>\n",
       "      <td>Clinton, Hillary Rodham</td>\n",
       "      <td>NY</td>\n",
       "      <td>SAP, INC</td>\n",
       "      <td>PARTNER</td>\n",
       "      <td>38.0</td>\n",
       "      <td>0.0</td>\n",
       "      <td>1.0</td>\n",
       "      <td>1142.0</td>\n",
       "      <td>325.0</td>\n",
       "      <td>[1.0, 325.0, 1142.0]</td>\n",
       "    </tr>\n",
       "    <tr>\n",
       "      <th>2</th>\n",
       "      <td>Clinton, Hillary Rodham</td>\n",
       "      <td>PA</td>\n",
       "      <td>REGIONAL LEARNING ALLIANCE</td>\n",
       "      <td>CEO</td>\n",
       "      <td>25.0</td>\n",
       "      <td>0.0</td>\n",
       "      <td>7.0</td>\n",
       "      <td>3124.0</td>\n",
       "      <td>22.0</td>\n",
       "      <td>[7.0, 22.0, 3124.0]</td>\n",
       "    </tr>\n",
       "    <tr>\n",
       "      <th>3</th>\n",
       "      <td>Clinton, Hillary Rodham</td>\n",
       "      <td>MD</td>\n",
       "      <td>SPACE TELESCOPE SCIENCE INSTITUTE</td>\n",
       "      <td>ASTROPHYSICIST</td>\n",
       "      <td>50.0</td>\n",
       "      <td>0.0</td>\n",
       "      <td>8.0</td>\n",
       "      <td>3799.0</td>\n",
       "      <td>2402.0</td>\n",
       "      <td>[8.0, 2402.0, 3799.0]</td>\n",
       "    </tr>\n",
       "    <tr>\n",
       "      <th>4</th>\n",
       "      <td>Sanders, Bernard</td>\n",
       "      <td>FL</td>\n",
       "      <td>DOYOUREMEMBER, INC.</td>\n",
       "      <td>DIRECTOR OF OPERATIONS</td>\n",
       "      <td>15.0</td>\n",
       "      <td>1.0</td>\n",
       "      <td>3.0</td>\n",
       "      <td>685.0</td>\n",
       "      <td>146.0</td>\n",
       "      <td>[3.0, 146.0, 685.0]</td>\n",
       "    </tr>\n",
       "  </tbody>\n",
       "</table>\n",
       "</div>"
      ],
      "text/plain": [
       "                   CAND_NM CONTBR_ST                    CONTBR_EMPLOYER  \\\n",
       "0            Johnson, Gary        CA                               SELF   \n",
       "1  Clinton, Hillary Rodham        NY                           SAP, INC   \n",
       "2  Clinton, Hillary Rodham        PA         REGIONAL LEARNING ALLIANCE   \n",
       "3  Clinton, Hillary Rodham        MD  SPACE TELESCOPE SCIENCE INSTITUTE   \n",
       "4         Sanders, Bernard        FL                DOYOUREMEMBER, INC.   \n",
       "\n",
       "        CONTBR_OCCUPATION  CONTB_RECEIPT_AMT  CAND_NM_index  CONTBR_ST_index  \\\n",
       "0                 RETIRED              150.0           10.0              0.0   \n",
       "1                 PARTNER               38.0            0.0              1.0   \n",
       "2                     CEO               25.0            0.0              7.0   \n",
       "3          ASTROPHYSICIST               50.0            0.0              8.0   \n",
       "4  DIRECTOR OF OPERATIONS               15.0            1.0              3.0   \n",
       "\n",
       "   CONTBR_EMPLOYER_index  CONTBR_OCCUPATION_index               features  \n",
       "0                    7.0                      0.0        [0.0, 0.0, 7.0]  \n",
       "1                 1142.0                    325.0   [1.0, 325.0, 1142.0]  \n",
       "2                 3124.0                     22.0    [7.0, 22.0, 3124.0]  \n",
       "3                 3799.0                   2402.0  [8.0, 2402.0, 3799.0]  \n",
       "4                  685.0                    146.0    [3.0, 146.0, 685.0]  "
      ]
     },
     "execution_count": 53,
     "metadata": {},
     "output_type": "execute_result"
    }
   ],
   "source": [
    "from pyspark.ml.feature import VectorAssembler\n",
    "\n",
    "## Create a feature vector using 'index' columns\n",
    "feature_columns = ['CONTBR_ST_index', 'CONTBR_OCCUPATION_index', 'CONTBR_EMPLOYER_index' ]\n",
    "\n",
    "assembler = VectorAssembler(inputCols= feature_columns,  outputCol=\"features\")\n",
    "feature_vector = assembler.transform(indexed_data)\n",
    "feature_vector.printSchema()\n",
    "\n",
    "feature_vector.limit(5).toPandas()"
   ]
  },
  {
   "cell_type": "markdown",
   "metadata": {},
   "source": [
    "## Step 5: Split data into training and test\n"
   ]
  },
  {
   "cell_type": "code",
   "execution_count": 54,
   "metadata": {},
   "outputs": [
    {
     "name": "stdout",
     "output_type": "stream",
     "text": [
      "training set =  6940\n",
      "testing set =  2951\n"
     ]
    }
   ],
   "source": [
    "# TODO : Split the data into training and test sets (30% held out for testing)\n",
    "(training, test) = feature_vector.randomSplit([70. , 30.])\n",
    "\n",
    "print(\"training set = \" , training.count())\n",
    "print(\"testing set = \" , test.count())"
   ]
  },
  {
   "cell_type": "markdown",
   "metadata": {},
   "source": [
    "## Step 6: Create Random Forest Model"
   ]
  },
  {
   "cell_type": "code",
   "execution_count": 55,
   "metadata": {},
   "outputs": [],
   "source": [
    "from pyspark.ml.classification import RandomForestClassifier\n",
    "\n",
    "## TODO : Create a random forest model\n",
    "##        what is the 'labelCol' ?  (Hint : CAND_NM_index)\n",
    "rf = RandomForestClassifier(labelCol=\"CAND_NM_index\", featuresCol=\"features\", numTrees=20, maxBins=50000)\n"
   ]
  },
  {
   "cell_type": "markdown",
   "metadata": {},
   "source": [
    "## 7 -  Train"
   ]
  },
  {
   "cell_type": "code",
   "execution_count": 56,
   "metadata": {},
   "outputs": [
    {
     "name": "stdout",
     "output_type": "stream",
     "text": [
      "training starting...\n",
      "training done\n",
      "RandomForestClassificationModel (uid=RandomForestClassifier_878df6ba303e) with 20 trees\n",
      "CPU times: user 20 ms, sys: 0 ns, total: 20 ms\n",
      "Wall time: 39.9 s\n"
     ]
    }
   ],
   "source": [
    "%%time\n",
    "print(\"training starting...\")\n",
    "\n",
    "## TODO : start training, using 'fit' method  on training data\n",
    "model = rf.fit(training)\n",
    "print(\"training done\")\n",
    "print (model)"
   ]
  },
  {
   "cell_type": "code",
   "execution_count": 31,
   "metadata": {},
   "outputs": [
    {
     "name": "stdout",
     "output_type": "stream",
     "text": [
      "trained on 6,932 records\n"
     ]
    }
   ],
   "source": [
    "print(\"trained on {:,} records\".format(training.count()))"
   ]
  },
  {
   "cell_type": "markdown",
   "metadata": {},
   "source": [
    "## 8 - Prediction"
   ]
  },
  {
   "cell_type": "code",
   "execution_count": 57,
   "metadata": {},
   "outputs": [
    {
     "name": "stdout",
     "output_type": "stream",
     "text": [
      "CPU times: user 8 ms, sys: 4 ms, total: 12 ms\n",
      "Wall time: 62.4 ms\n"
     ]
    }
   ],
   "source": [
    "%%time\n",
    "\n",
    "## TODO : predict on 'test' columns\n",
    "##        use 'transform' method\n",
    "predictions = model.transform(test)"
   ]
  },
  {
   "cell_type": "code",
   "execution_count": 33,
   "metadata": {},
   "outputs": [
    {
     "name": "stdout",
     "output_type": "stream",
     "text": [
      "predicted on 2,959 records\n"
     ]
    }
   ],
   "source": [
    "print(\"predicted on {:,} records\".format(test.count()))"
   ]
  },
  {
   "cell_type": "code",
   "execution_count": 58,
   "metadata": {},
   "outputs": [
    {
     "name": "stdout",
     "output_type": "stream",
     "text": [
      "+----------+-------------+--------------------+\n",
      "|prediction|CAND_NM_index|             CAND_NM|\n",
      "+----------+-------------+--------------------+\n",
      "|       2.0|          4.0| Carson, Benjamin S.|\n",
      "|       2.0|          4.0| Carson, Benjamin S.|\n",
      "|       2.0|          4.0| Carson, Benjamin S.|\n",
      "|       2.0|          4.0| Carson, Benjamin S.|\n",
      "|       2.0|          4.0| Carson, Benjamin S.|\n",
      "|       2.0|          4.0| Carson, Benjamin S.|\n",
      "|       2.0|          4.0| Carson, Benjamin S.|\n",
      "|       2.0|          4.0| Carson, Benjamin S.|\n",
      "|       2.0|          4.0| Carson, Benjamin S.|\n",
      "|       3.0|          4.0| Carson, Benjamin S.|\n",
      "|       0.0|          0.0|Clinton, Hillary ...|\n",
      "|       0.0|          0.0|Clinton, Hillary ...|\n",
      "|       1.0|          0.0|Clinton, Hillary ...|\n",
      "|       2.0|          0.0|Clinton, Hillary ...|\n",
      "|       0.0|          0.0|Clinton, Hillary ...|\n",
      "|       1.0|          0.0|Clinton, Hillary ...|\n",
      "|       2.0|          0.0|Clinton, Hillary ...|\n",
      "|       2.0|          0.0|Clinton, Hillary ...|\n",
      "|       2.0|          0.0|Clinton, Hillary ...|\n",
      "|       0.0|          0.0|Clinton, Hillary ...|\n",
      "+----------+-------------+--------------------+\n",
      "only showing top 20 rows\n",
      "\n"
     ]
    }
   ],
   "source": [
    "# Select example rows to display.\n",
    "predictions.sample(False, 0.1).select(\"prediction\", 'CAND_NM_index', \"CAND_NM\").show()"
   ]
  },
  {
   "cell_type": "markdown",
   "metadata": {},
   "source": [
    "## 9 - Evaluate"
   ]
  },
  {
   "cell_type": "code",
   "execution_count": 59,
   "metadata": {},
   "outputs": [],
   "source": [
    "predictions_test = model.transform(test)\n",
    "predictions_train = model.transform(training)"
   ]
  },
  {
   "cell_type": "markdown",
   "metadata": {},
   "source": [
    "### 9.1 - Acuracy\n",
    "**=> TODO: Think about the test error here?  Does it seem high?  What does that say about our model?**\n",
    "\n",
    "**=> How do we define model success?**"
   ]
  },
  {
   "cell_type": "code",
   "execution_count": 60,
   "metadata": {},
   "outputs": [
    {
     "name": "stdout",
     "output_type": "stream",
     "text": [
      "Training set accuracy =  0.6469740634005764\n",
      "Test set accuracy =  0.5296509657743138\n"
     ]
    }
   ],
   "source": [
    "from pyspark.ml.evaluation import MulticlassClassificationEvaluator\n",
    "\n",
    "evaluator = MulticlassClassificationEvaluator(labelCol=\"CAND_NM_index\", predictionCol=\"prediction\",\n",
    "                                              metricName=\"accuracy\")\n",
    "\n",
    "print(\"Training set accuracy = \" , evaluator.evaluate(predictions_train))\n",
    "print(\"Test set accuracy = \" , evaluator.evaluate(predictions_test))"
   ]
  },
  {
   "cell_type": "markdown",
   "metadata": {},
   "source": [
    "### 9.2 - Confusion Matrix"
   ]
  },
  {
   "cell_type": "markdown",
   "metadata": {},
   "source": [
    "####  Figure Out Candidate Mapping"
   ]
  },
  {
   "cell_type": "code",
   "execution_count": 61,
   "metadata": {},
   "outputs": [
    {
     "name": "stdout",
     "output_type": "stream",
     "text": [
      "+--------------------+-------------+-----+\n",
      "|             CAND_NM|CAND_NM_index|count|\n",
      "+--------------------+-------------+-----+\n",
      "|Clinton, Hillary ...|          0.0| 4680|\n",
      "|    Sanders, Bernard|          1.0| 2766|\n",
      "|    Trump, Donald J.|          2.0| 1047|\n",
      "|Cruz, Rafael Edwa...|          3.0|  709|\n",
      "| Carson, Benjamin S.|          4.0|  340|\n",
      "|        Rubio, Marco|          5.0|  132|\n",
      "|           Bush, Jeb|          6.0|   39|\n",
      "|          Paul, Rand|          7.0|   38|\n",
      "|     Kasich, John R.|          8.0|   33|\n",
      "|      Fiorina, Carly|          9.0|   31|\n",
      "|       Johnson, Gary|         10.0|   24|\n",
      "|       Walker, Scott|         11.0|   16|\n",
      "|O'Malley, Martin ...|         12.0|   11|\n",
      "|         Stein, Jill|         13.0|   10|\n",
      "|      Huckabee, Mike|         14.0|    6|\n",
      "|      McMullin, Evan|         15.0|    4|\n",
      "|Christie, Christo...|         16.0|    3|\n",
      "|       Jindal, Bobby|         17.0|    1|\n",
      "|  Graham, Lindsey O.|         18.0|    1|\n",
      "+--------------------+-------------+-----+\n",
      "\n"
     ]
    }
   ],
   "source": [
    "## Candidate Mapping\n",
    "candidate_mapping = indexed_data.groupBy(['CAND_NM', 'CAND_NM_index']).count()\n",
    "# candidate_mapping.orderBy('CAND_NM').show()\n",
    "candidate_mapping.orderBy('CAND_NM_index').show()"
   ]
  },
  {
   "cell_type": "markdown",
   "metadata": {},
   "source": [
    "#### Confusion Matrix\n",
    "\n",
    "**=>What can you conclude from the confusion matrix?**\n",
    "\n",
    "Use the list above to interpret the label.  \n",
    "\n",
    "Is our model better at predicting candidates with many donations (Clinton, Sanders), or few donations?\n",
    "\n",
    "What can you say about our model perfromance."
   ]
  },
  {
   "cell_type": "code",
   "execution_count": 62,
   "metadata": {
    "scrolled": true
   },
   "outputs": [
    {
     "data": {
      "text/html": [
       "<div>\n",
       "<style scoped>\n",
       "    .dataframe tbody tr th:only-of-type {\n",
       "        vertical-align: middle;\n",
       "    }\n",
       "\n",
       "    .dataframe tbody tr th {\n",
       "        vertical-align: top;\n",
       "    }\n",
       "\n",
       "    .dataframe thead th {\n",
       "        text-align: right;\n",
       "    }\n",
       "</style>\n",
       "<table border=\"1\" class=\"dataframe\">\n",
       "  <thead>\n",
       "    <tr style=\"text-align: right;\">\n",
       "      <th></th>\n",
       "      <th>CAND_NM</th>\n",
       "      <th>0</th>\n",
       "      <th>1</th>\n",
       "      <th>2</th>\n",
       "      <th>3</th>\n",
       "      <th>4</th>\n",
       "      <th>5</th>\n",
       "      <th>6</th>\n",
       "      <th>7</th>\n",
       "      <th>8</th>\n",
       "      <th>...</th>\n",
       "      <th>12</th>\n",
       "      <th>13</th>\n",
       "      <th>14</th>\n",
       "      <th>15</th>\n",
       "      <th>16</th>\n",
       "      <th>17</th>\n",
       "      <th>18</th>\n",
       "      <th>19</th>\n",
       "      <th>20</th>\n",
       "      <th>21</th>\n",
       "    </tr>\n",
       "  </thead>\n",
       "  <tbody>\n",
       "    <tr>\n",
       "      <th>0</th>\n",
       "      <td>Bush, Jeb</td>\n",
       "      <td>2</td>\n",
       "      <td>0</td>\n",
       "      <td>6</td>\n",
       "      <td>1</td>\n",
       "      <td>0</td>\n",
       "      <td>0</td>\n",
       "      <td>0</td>\n",
       "      <td>0</td>\n",
       "      <td>0</td>\n",
       "      <td>...</td>\n",
       "      <td>0</td>\n",
       "      <td>0</td>\n",
       "      <td>0</td>\n",
       "      <td>0</td>\n",
       "      <td>0</td>\n",
       "      <td>0</td>\n",
       "      <td>0</td>\n",
       "      <td>0</td>\n",
       "      <td>0</td>\n",
       "      <td>0</td>\n",
       "    </tr>\n",
       "    <tr>\n",
       "      <th>1</th>\n",
       "      <td>Carson, Benjamin S.</td>\n",
       "      <td>10</td>\n",
       "      <td>9</td>\n",
       "      <td>67</td>\n",
       "      <td>10</td>\n",
       "      <td>0</td>\n",
       "      <td>0</td>\n",
       "      <td>0</td>\n",
       "      <td>0</td>\n",
       "      <td>0</td>\n",
       "      <td>...</td>\n",
       "      <td>0</td>\n",
       "      <td>0</td>\n",
       "      <td>0</td>\n",
       "      <td>0</td>\n",
       "      <td>0</td>\n",
       "      <td>0</td>\n",
       "      <td>0</td>\n",
       "      <td>0</td>\n",
       "      <td>0</td>\n",
       "      <td>0</td>\n",
       "    </tr>\n",
       "    <tr>\n",
       "      <th>2</th>\n",
       "      <td>Christie, Christopher J.</td>\n",
       "      <td>0</td>\n",
       "      <td>0</td>\n",
       "      <td>1</td>\n",
       "      <td>0</td>\n",
       "      <td>0</td>\n",
       "      <td>0</td>\n",
       "      <td>0</td>\n",
       "      <td>0</td>\n",
       "      <td>0</td>\n",
       "      <td>...</td>\n",
       "      <td>0</td>\n",
       "      <td>0</td>\n",
       "      <td>0</td>\n",
       "      <td>0</td>\n",
       "      <td>0</td>\n",
       "      <td>0</td>\n",
       "      <td>0</td>\n",
       "      <td>0</td>\n",
       "      <td>0</td>\n",
       "      <td>0</td>\n",
       "    </tr>\n",
       "    <tr>\n",
       "      <th>3</th>\n",
       "      <td>Clinton, Hillary Rodham</td>\n",
       "      <td>857</td>\n",
       "      <td>118</td>\n",
       "      <td>389</td>\n",
       "      <td>17</td>\n",
       "      <td>0</td>\n",
       "      <td>0</td>\n",
       "      <td>0</td>\n",
       "      <td>0</td>\n",
       "      <td>0</td>\n",
       "      <td>...</td>\n",
       "      <td>0</td>\n",
       "      <td>0</td>\n",
       "      <td>0</td>\n",
       "      <td>0</td>\n",
       "      <td>0</td>\n",
       "      <td>0</td>\n",
       "      <td>0</td>\n",
       "      <td>0</td>\n",
       "      <td>0</td>\n",
       "      <td>0</td>\n",
       "    </tr>\n",
       "    <tr>\n",
       "      <th>4</th>\n",
       "      <td>Cruz, Rafael Edward 'Ted'</td>\n",
       "      <td>37</td>\n",
       "      <td>33</td>\n",
       "      <td>148</td>\n",
       "      <td>16</td>\n",
       "      <td>1</td>\n",
       "      <td>0</td>\n",
       "      <td>0</td>\n",
       "      <td>0</td>\n",
       "      <td>0</td>\n",
       "      <td>...</td>\n",
       "      <td>0</td>\n",
       "      <td>0</td>\n",
       "      <td>0</td>\n",
       "      <td>0</td>\n",
       "      <td>0</td>\n",
       "      <td>0</td>\n",
       "      <td>0</td>\n",
       "      <td>0</td>\n",
       "      <td>0</td>\n",
       "      <td>0</td>\n",
       "    </tr>\n",
       "    <tr>\n",
       "      <th>5</th>\n",
       "      <td>Fiorina, Carly</td>\n",
       "      <td>3</td>\n",
       "      <td>3</td>\n",
       "      <td>1</td>\n",
       "      <td>1</td>\n",
       "      <td>0</td>\n",
       "      <td>0</td>\n",
       "      <td>0</td>\n",
       "      <td>0</td>\n",
       "      <td>0</td>\n",
       "      <td>...</td>\n",
       "      <td>0</td>\n",
       "      <td>0</td>\n",
       "      <td>0</td>\n",
       "      <td>0</td>\n",
       "      <td>0</td>\n",
       "      <td>0</td>\n",
       "      <td>0</td>\n",
       "      <td>0</td>\n",
       "      <td>0</td>\n",
       "      <td>0</td>\n",
       "    </tr>\n",
       "    <tr>\n",
       "      <th>6</th>\n",
       "      <td>Huckabee, Mike</td>\n",
       "      <td>0</td>\n",
       "      <td>0</td>\n",
       "      <td>2</td>\n",
       "      <td>0</td>\n",
       "      <td>0</td>\n",
       "      <td>0</td>\n",
       "      <td>0</td>\n",
       "      <td>0</td>\n",
       "      <td>0</td>\n",
       "      <td>...</td>\n",
       "      <td>0</td>\n",
       "      <td>0</td>\n",
       "      <td>0</td>\n",
       "      <td>0</td>\n",
       "      <td>0</td>\n",
       "      <td>0</td>\n",
       "      <td>0</td>\n",
       "      <td>0</td>\n",
       "      <td>0</td>\n",
       "      <td>0</td>\n",
       "    </tr>\n",
       "    <tr>\n",
       "      <th>7</th>\n",
       "      <td>Johnson, Gary</td>\n",
       "      <td>3</td>\n",
       "      <td>1</td>\n",
       "      <td>3</td>\n",
       "      <td>0</td>\n",
       "      <td>0</td>\n",
       "      <td>0</td>\n",
       "      <td>0</td>\n",
       "      <td>0</td>\n",
       "      <td>0</td>\n",
       "      <td>...</td>\n",
       "      <td>0</td>\n",
       "      <td>0</td>\n",
       "      <td>0</td>\n",
       "      <td>0</td>\n",
       "      <td>0</td>\n",
       "      <td>0</td>\n",
       "      <td>0</td>\n",
       "      <td>0</td>\n",
       "      <td>0</td>\n",
       "      <td>0</td>\n",
       "    </tr>\n",
       "    <tr>\n",
       "      <th>8</th>\n",
       "      <td>Kasich, John R.</td>\n",
       "      <td>2</td>\n",
       "      <td>1</td>\n",
       "      <td>2</td>\n",
       "      <td>0</td>\n",
       "      <td>0</td>\n",
       "      <td>0</td>\n",
       "      <td>0</td>\n",
       "      <td>0</td>\n",
       "      <td>0</td>\n",
       "      <td>...</td>\n",
       "      <td>0</td>\n",
       "      <td>0</td>\n",
       "      <td>0</td>\n",
       "      <td>0</td>\n",
       "      <td>0</td>\n",
       "      <td>0</td>\n",
       "      <td>0</td>\n",
       "      <td>0</td>\n",
       "      <td>0</td>\n",
       "      <td>0</td>\n",
       "    </tr>\n",
       "    <tr>\n",
       "      <th>9</th>\n",
       "      <td>O'Malley, Martin Joseph</td>\n",
       "      <td>1</td>\n",
       "      <td>0</td>\n",
       "      <td>1</td>\n",
       "      <td>0</td>\n",
       "      <td>0</td>\n",
       "      <td>0</td>\n",
       "      <td>0</td>\n",
       "      <td>0</td>\n",
       "      <td>0</td>\n",
       "      <td>...</td>\n",
       "      <td>0</td>\n",
       "      <td>0</td>\n",
       "      <td>0</td>\n",
       "      <td>0</td>\n",
       "      <td>0</td>\n",
       "      <td>0</td>\n",
       "      <td>0</td>\n",
       "      <td>0</td>\n",
       "      <td>0</td>\n",
       "      <td>0</td>\n",
       "    </tr>\n",
       "    <tr>\n",
       "      <th>10</th>\n",
       "      <td>Paul, Rand</td>\n",
       "      <td>0</td>\n",
       "      <td>4</td>\n",
       "      <td>2</td>\n",
       "      <td>1</td>\n",
       "      <td>0</td>\n",
       "      <td>0</td>\n",
       "      <td>0</td>\n",
       "      <td>0</td>\n",
       "      <td>0</td>\n",
       "      <td>...</td>\n",
       "      <td>0</td>\n",
       "      <td>0</td>\n",
       "      <td>0</td>\n",
       "      <td>0</td>\n",
       "      <td>0</td>\n",
       "      <td>0</td>\n",
       "      <td>0</td>\n",
       "      <td>0</td>\n",
       "      <td>0</td>\n",
       "      <td>0</td>\n",
       "    </tr>\n",
       "    <tr>\n",
       "      <th>11</th>\n",
       "      <td>Rubio, Marco</td>\n",
       "      <td>9</td>\n",
       "      <td>2</td>\n",
       "      <td>32</td>\n",
       "      <td>5</td>\n",
       "      <td>1</td>\n",
       "      <td>0</td>\n",
       "      <td>0</td>\n",
       "      <td>0</td>\n",
       "      <td>0</td>\n",
       "      <td>...</td>\n",
       "      <td>0</td>\n",
       "      <td>0</td>\n",
       "      <td>0</td>\n",
       "      <td>0</td>\n",
       "      <td>0</td>\n",
       "      <td>0</td>\n",
       "      <td>0</td>\n",
       "      <td>0</td>\n",
       "      <td>0</td>\n",
       "      <td>0</td>\n",
       "    </tr>\n",
       "    <tr>\n",
       "      <th>12</th>\n",
       "      <td>Sanders, Bernard</td>\n",
       "      <td>147</td>\n",
       "      <td>428</td>\n",
       "      <td>225</td>\n",
       "      <td>15</td>\n",
       "      <td>0</td>\n",
       "      <td>0</td>\n",
       "      <td>0</td>\n",
       "      <td>0</td>\n",
       "      <td>0</td>\n",
       "      <td>...</td>\n",
       "      <td>0</td>\n",
       "      <td>0</td>\n",
       "      <td>0</td>\n",
       "      <td>0</td>\n",
       "      <td>0</td>\n",
       "      <td>0</td>\n",
       "      <td>0</td>\n",
       "      <td>0</td>\n",
       "      <td>0</td>\n",
       "      <td>0</td>\n",
       "    </tr>\n",
       "    <tr>\n",
       "      <th>13</th>\n",
       "      <td>Stein, Jill</td>\n",
       "      <td>0</td>\n",
       "      <td>0</td>\n",
       "      <td>4</td>\n",
       "      <td>0</td>\n",
       "      <td>0</td>\n",
       "      <td>0</td>\n",
       "      <td>0</td>\n",
       "      <td>0</td>\n",
       "      <td>0</td>\n",
       "      <td>...</td>\n",
       "      <td>0</td>\n",
       "      <td>0</td>\n",
       "      <td>0</td>\n",
       "      <td>0</td>\n",
       "      <td>0</td>\n",
       "      <td>0</td>\n",
       "      <td>0</td>\n",
       "      <td>0</td>\n",
       "      <td>0</td>\n",
       "      <td>0</td>\n",
       "    </tr>\n",
       "    <tr>\n",
       "      <th>14</th>\n",
       "      <td>Trump, Donald J.</td>\n",
       "      <td>52</td>\n",
       "      <td>9</td>\n",
       "      <td>262</td>\n",
       "      <td>6</td>\n",
       "      <td>0</td>\n",
       "      <td>0</td>\n",
       "      <td>0</td>\n",
       "      <td>0</td>\n",
       "      <td>0</td>\n",
       "      <td>...</td>\n",
       "      <td>0</td>\n",
       "      <td>0</td>\n",
       "      <td>0</td>\n",
       "      <td>0</td>\n",
       "      <td>0</td>\n",
       "      <td>0</td>\n",
       "      <td>0</td>\n",
       "      <td>0</td>\n",
       "      <td>0</td>\n",
       "      <td>0</td>\n",
       "    </tr>\n",
       "    <tr>\n",
       "      <th>15</th>\n",
       "      <td>Walker, Scott</td>\n",
       "      <td>0</td>\n",
       "      <td>0</td>\n",
       "      <td>1</td>\n",
       "      <td>0</td>\n",
       "      <td>0</td>\n",
       "      <td>0</td>\n",
       "      <td>0</td>\n",
       "      <td>0</td>\n",
       "      <td>0</td>\n",
       "      <td>...</td>\n",
       "      <td>0</td>\n",
       "      <td>0</td>\n",
       "      <td>0</td>\n",
       "      <td>0</td>\n",
       "      <td>0</td>\n",
       "      <td>0</td>\n",
       "      <td>0</td>\n",
       "      <td>0</td>\n",
       "      <td>0</td>\n",
       "      <td>0</td>\n",
       "    </tr>\n",
       "  </tbody>\n",
       "</table>\n",
       "<p>16 rows × 23 columns</p>\n",
       "</div>"
      ],
      "text/plain": [
       "                      CAND_NM    0    1    2   3  4  5  6  7  8  ...  12  13  \\\n",
       "0                   Bush, Jeb    2    0    6   1  0  0  0  0  0  ...   0   0   \n",
       "1         Carson, Benjamin S.   10    9   67  10  0  0  0  0  0  ...   0   0   \n",
       "2    Christie, Christopher J.    0    0    1   0  0  0  0  0  0  ...   0   0   \n",
       "3     Clinton, Hillary Rodham  857  118  389  17  0  0  0  0  0  ...   0   0   \n",
       "4   Cruz, Rafael Edward 'Ted'   37   33  148  16  1  0  0  0  0  ...   0   0   \n",
       "5              Fiorina, Carly    3    3    1   1  0  0  0  0  0  ...   0   0   \n",
       "6              Huckabee, Mike    0    0    2   0  0  0  0  0  0  ...   0   0   \n",
       "7               Johnson, Gary    3    1    3   0  0  0  0  0  0  ...   0   0   \n",
       "8             Kasich, John R.    2    1    2   0  0  0  0  0  0  ...   0   0   \n",
       "9     O'Malley, Martin Joseph    1    0    1   0  0  0  0  0  0  ...   0   0   \n",
       "10                 Paul, Rand    0    4    2   1  0  0  0  0  0  ...   0   0   \n",
       "11               Rubio, Marco    9    2   32   5  1  0  0  0  0  ...   0   0   \n",
       "12           Sanders, Bernard  147  428  225  15  0  0  0  0  0  ...   0   0   \n",
       "13                Stein, Jill    0    0    4   0  0  0  0  0  0  ...   0   0   \n",
       "14           Trump, Donald J.   52    9  262   6  0  0  0  0  0  ...   0   0   \n",
       "15              Walker, Scott    0    0    1   0  0  0  0  0  0  ...   0   0   \n",
       "\n",
       "    14  15  16  17  18  19  20  21  \n",
       "0    0   0   0   0   0   0   0   0  \n",
       "1    0   0   0   0   0   0   0   0  \n",
       "2    0   0   0   0   0   0   0   0  \n",
       "3    0   0   0   0   0   0   0   0  \n",
       "4    0   0   0   0   0   0   0   0  \n",
       "5    0   0   0   0   0   0   0   0  \n",
       "6    0   0   0   0   0   0   0   0  \n",
       "7    0   0   0   0   0   0   0   0  \n",
       "8    0   0   0   0   0   0   0   0  \n",
       "9    0   0   0   0   0   0   0   0  \n",
       "10   0   0   0   0   0   0   0   0  \n",
       "11   0   0   0   0   0   0   0   0  \n",
       "12   0   0   0   0   0   0   0   0  \n",
       "13   0   0   0   0   0   0   0   0  \n",
       "14   0   0   0   0   0   0   0   0  \n",
       "15   0   0   0   0   0   0   0   0  \n",
       "\n",
       "[16 rows x 23 columns]"
      ]
     },
     "execution_count": 62,
     "metadata": {},
     "output_type": "execute_result"
    }
   ],
   "source": [
    "cm = predictions.groupBy('CAND_NM').pivot('prediction', range(0,22)).count().na.fill(0).orderBy('CAND_NM')\n",
    "cm.toPandas()"
   ]
  },
  {
   "cell_type": "markdown",
   "metadata": {},
   "source": [
    "## Step 10 -  Print the feature importanes\n",
    "\n",
    "**=> TODO Compare the relative weight of the feature importances?**"
   ]
  },
  {
   "cell_type": "code",
   "execution_count": 63,
   "metadata": {},
   "outputs": [
    {
     "name": "stdout",
     "output_type": "stream",
     "text": [
      "[0.02851933 0.32975983 0.64172084]\n",
      "                      cols  importance\n",
      "0          CONTBR_ST_index    0.028519\n",
      "1  CONTBR_OCCUPATION_index    0.329760\n",
      "2    CONTBR_EMPLOYER_index    0.641721\n"
     ]
    },
    {
     "data": {
      "text/html": [
       "<div>\n",
       "<style scoped>\n",
       "    .dataframe tbody tr th:only-of-type {\n",
       "        vertical-align: middle;\n",
       "    }\n",
       "\n",
       "    .dataframe tbody tr th {\n",
       "        vertical-align: top;\n",
       "    }\n",
       "\n",
       "    .dataframe thead th {\n",
       "        text-align: right;\n",
       "    }\n",
       "</style>\n",
       "<table border=\"1\" class=\"dataframe\">\n",
       "  <thead>\n",
       "    <tr style=\"text-align: right;\">\n",
       "      <th></th>\n",
       "      <th>cols</th>\n",
       "      <th>importance</th>\n",
       "    </tr>\n",
       "  </thead>\n",
       "  <tbody>\n",
       "    <tr>\n",
       "      <th>2</th>\n",
       "      <td>CONTBR_EMPLOYER_index</td>\n",
       "      <td>0.641721</td>\n",
       "    </tr>\n",
       "    <tr>\n",
       "      <th>1</th>\n",
       "      <td>CONTBR_OCCUPATION_index</td>\n",
       "      <td>0.329760</td>\n",
       "    </tr>\n",
       "    <tr>\n",
       "      <th>0</th>\n",
       "      <td>CONTBR_ST_index</td>\n",
       "      <td>0.028519</td>\n",
       "    </tr>\n",
       "  </tbody>\n",
       "</table>\n",
       "</div>"
      ],
      "text/plain": [
       "                      cols  importance\n",
       "2    CONTBR_EMPLOYER_index    0.641721\n",
       "1  CONTBR_OCCUPATION_index    0.329760\n",
       "0          CONTBR_ST_index    0.028519"
      ]
     },
     "execution_count": 63,
     "metadata": {},
     "output_type": "execute_result"
    }
   ],
   "source": [
    "import pandas as pd\n",
    "\n",
    "imp = model.featureImportances.toArray()\n",
    "print(imp)\n",
    "df = pd.DataFrame({'cols': feature_columns, 'importance':imp})\n",
    "print(df)\n",
    "df.sort_values(by=['importance'], ascending=False)"
   ]
  },
  {
   "cell_type": "markdown",
   "metadata": {},
   "source": [
    "## Conclusion: Most important Fields\n",
    "\n",
    "1. Employer\n",
    "2. Occupation\n",
    "3. State\n",
    "\n",
    "Other fields not significant\n",
    "\n",
    "**=> TODO Compare the relative weight of the feature importances?**\n",
    "\n",
    "**=> BONUS: Do a Pearson Correlation Matrix of the variables to the outcome, to see correlation**\n",
    "\n"
   ]
  },
  {
   "cell_type": "markdown",
   "metadata": {},
   "source": [
    "## BONUS : Running on full dataset\n",
    "\n",
    "**Use the dowload script**\n",
    "\n",
    "```bash\n",
    "$ cd   ~/data/presidential_election_contribs\n",
    "$ ./download-data.sh\n",
    "```\n",
    "\n",
    "This will download full dataset.\n",
    "\n",
    "As we run on larger dataset, the execution will take longer and Jupyter notebook might time out.  So let's run this in command line / script mode\n",
    "\n",
    "Download the Jupyter notebook as Python file (File --> Download as --> Python)\n",
    "\n",
    "```bash\n",
    "# run the downloaded python script as follows\n",
    "$    time  ~/spark/bin/spark-submit    --master local[*]  random-forest-2-election-classification.py 2> logs\n",
    "\n",
    "```\n",
    "\n",
    "Watch the output\n"
   ]
  },
  {
   "cell_type": "code",
   "execution_count": null,
   "metadata": {},
   "outputs": [],
   "source": []
  }
 ],
 "metadata": {
  "anaconda-cloud": {},
  "kernelspec": {
   "display_name": "Python 3",
   "language": "python",
   "name": "python3"
  },
  "language_info": {
   "codemirror_mode": {
    "name": "ipython",
    "version": 3
   },
   "file_extension": ".py",
   "mimetype": "text/x-python",
   "name": "python",
   "nbconvert_exporter": "python",
   "pygments_lexer": "ipython3",
   "version": "3.6.8"
  }
 },
 "nbformat": 4,
 "nbformat_minor": 2
}
