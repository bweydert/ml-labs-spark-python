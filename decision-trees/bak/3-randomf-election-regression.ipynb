{
 "cells": [
  {
   "cell_type": "markdown",
   "metadata": {},
   "source": [
    "# Random Forests: Presidential Contributions\n",
    "\n",
    "Let's look at a random forests models for the presidential dataset.\n",
    "\n",
    "We are going to try to predict two variables:\n",
    "\n",
    "1. Amount of contribution (regression)\n",
    "2. Candidate of Contribution (classification)."
   ]
  },
  {
   "cell_type": "code",
   "execution_count": 7,
   "metadata": {
    "collapsed": true
   },
   "outputs": [],
   "source": [
    "%matplotlib inline\n",
    "from pyspark.ml.feature import VectorAssembler\n",
    "from pyspark.ml.feature import StandardScaler\n",
    "from pyspark.ml import Pipeline\n",
    "from pyspark.ml.feature import StringIndexer, VectorIndexer\n",
    "from pyspark.ml.evaluation import MulticlassClassificationEvaluator\n",
    "from pyspark.sql.functions import isnan, when, count, col, split, trim, countDistinct, abs \n",
    "from pyspark.ml.regression import RandomForestRegressor\n",
    "from pyspark.ml.classification import RandomForestClassifier\n",
    "from pyspark.ml.feature import VectorIndexer\n",
    "from pyspark.ml.evaluation import RegressionEvaluator\n",
    "from pyspark.sql.types import IntegerType\n",
    "\n",
    "import pyspark.sql.functions\n",
    "\n"
   ]
  },
  {
   "cell_type": "code",
   "execution_count": 2,
   "metadata": {
    "collapsed": true
   },
   "outputs": [],
   "source": [
    "dataset = spark.read.csv(\"/data/presidential_election_contribs/2016/2016-medium-clean.csv\", header=True, inferSchema=True)\n"
   ]
  },
  {
   "cell_type": "code",
   "execution_count": 3,
   "metadata": {},
   "outputs": [
    {
     "name": "stdout",
     "output_type": "stream",
     "text": [
      "+-----------------+--------------------+------------+------------+---------+---------+-----------+--------------------+--------------------+\n",
      "|CONTB_RECEIPT_AMT|             CAND_NM|    LASTNAME|   FIRSTNAME|CONTBR_ST|      LAT|        LNG|     CONTBR_EMPLOYER|   CONTBR_OCCUPATION|\n",
      "+-----------------+--------------------+------------+------------+---------+---------+-----------+--------------------+--------------------+\n",
      "|              5.0|Clinton, Hillary ...|      RIGNEY|     FARRELL|       CA|33.147294|-117.322181|       SELF-EMPLOYED|          CONTRACTOR|\n",
      "|            100.0|    Sanders, Bernard|      ARNOLD|         IRA|       CA| 38.34642|-122.694127|                NONE|        NOT EMPLOYED|\n",
      "|             24.0|Cruz, Rafael Edwa...|    VANDOREN|HELEN E. MS.|       MD|39.002745| -76.931721|             RETIRED|             RETIRED|\n",
      "|            100.0|Clinton, Hillary ...|    RICHARDS|        MARC|       CA| 34.07041|-118.350411|       SELF-EMPLOYED|                 ART|\n",
      "|             10.0|Clinton, Hillary ...|       MOYER|      DENNIS|       CA|37.916555|-122.341233|         MARIN HONDA|WARRANTY ADMINIST...|\n",
      "|            300.0|Clinton, Hillary ...|      SNYDER|       DAVID|       OH|41.139872| -81.860559|INFORMATION REQUE...|INFORMATION REQUE...|\n",
      "|            100.0|      Huckabee, Mike|        WARD|       JAMES|       NM|34.129177|-103.299416|REQUESTED PER BES...|REQUESTED PER BES...|\n",
      "|              1.5|    Sanders, Bernard|       KELLY|      ELAINE|       MO| 39.02037| -92.296535|                NONE|        NOT EMPLOYED|\n",
      "|              5.0|    Sanders, Bernard|   UNDERWOOD|       KELSY|       MD|38.379757| -76.442883|SOUTHERN MARYLAND...|          DISPATCHER|\n",
      "|             12.0|    Trump, Donald J.|    MCCAULOU|        LILA|       AZ|31.917849|-111.019049|INFORMATION REQUE...|INFORMATION REQUE...|\n",
      "|            100.0|    Sanders, Bernard|      LOUDIN|     CYNTHIA|       IL|41.993019| -87.759627|            CNA/NNOC|     UNION ORGANIZER|\n",
      "|            250.0|    Trump, Donald J.|       JANES|       DAVID|       CA|33.634626|-117.874882|       SELF-EMPLOYED|        MANUFACTURER|\n",
      "|             3.75|Clinton, Hillary ...|ST. GERMAINE|       JULIE|       CA|37.959549|-122.283578|PACIFIC GAS & ELE...| SAFETY PROFESSIONAL|\n",
      "|             50.0|    Sanders, Bernard|  HILFENHAUS|       JAMES|       CA|34.204568|-118.326365|                NONE|        NOT EMPLOYED|\n",
      "|             27.0|    Sanders, Bernard|      MURRAY|      PAMELA|       MO|37.167533| -93.324773|CURVES FITNESS FO...|           PART-TIME|\n",
      "|              5.0|    Sanders, Bernard|       KNOTT|        RYAN|       SC|34.092634| -80.919271|                SELF|            MUSICIAN|\n",
      "|             25.0|Clinton, Hillary ...|      LAUBER|      NICOLE|       FL|27.796346| -82.628737| NICOLE LAUBER, INC.|       CEO/PRESIDENT|\n",
      "|             37.0|Clinton, Hillary ...|     WHATLEY|     MICHAEL|       DC|38.936238| -77.059981|                 N/A|             RETIRED|\n",
      "|           2700.0|Clinton, Hillary ...|       NOLAN|     KENNETH|       NY|40.798601| -73.966622|               G-III|            DESIGNER|\n",
      "|            100.0|Clinton, Hillary ...|      FISHER|        JOEL|       NC|35.986719| -78.554351|       SELF-EMPLOYED|        VETERINARIAN|\n",
      "+-----------------+--------------------+------------+------------+---------+---------+-----------+--------------------+--------------------+\n",
      "only showing top 20 rows\n",
      "\n"
     ]
    }
   ],
   "source": [
    "dataset.show()"
   ]
  },
  {
   "cell_type": "code",
   "execution_count": 5,
   "metadata": {
    "collapsed": true
   },
   "outputs": [],
   "source": [
    "\n",
    "feature_columns = ['CAND_NM', 'LASTNAME', 'FIRSTNAME', 'CONTBR_ST', 'LAT', 'LNG', 'CONTBR_EMPLOYER', \"CONTBR_OCCUPATION\"]\n",
    "numeric_columns = ['LAT', 'LNG']\n",
    "categorical_columns = ['CAND_NM', 'LASTNAME', 'FIRSTNAME', 'CONTBR_ST', 'CONTBR_EMPLOYER', \"CONTBR_OCCUPATION\"]\n",
    "categorical_index = ['CAND_NM_index', 'FIRSTNAME_index', 'LASTNAME_index', 'CONTBR_ST_index', 'CONTBR_EMPLOYER_index', \n",
    "                     \"CONTBR_OCCUPATION_index\"]\n",
    "prediction_column = ['CONTB_RECEIPT_AMT']\n"
   ]
  },
  {
   "cell_type": "code",
   "execution_count": 11,
   "metadata": {},
   "outputs": [],
   "source": [
    "indexers = [StringIndexer(inputCol=column, outputCol=column+\"_index\", handleInvalid=\"keep\").fit(dataset) for column in categorical_columns ]\n",
    "pipeline = Pipeline(stages=indexers)\n",
    "df_r = pipeline.fit(dataset).transform(dataset)"
   ]
  },
  {
   "cell_type": "code",
   "execution_count": 12,
   "metadata": {
    "collapsed": true
   },
   "outputs": [],
   "source": [
    "assembler = VectorAssembler(inputCols=numeric_columns + categorical_index, outputCol=\"features\")\n",
    "fv = assembler.transform(df_r.na.drop())"
   ]
  },
  {
   "cell_type": "code",
   "execution_count": 14,
   "metadata": {
    "collapsed": true
   },
   "outputs": [],
   "source": [
    "# Automatically identify categorical features, and index them.\n",
    "# We specify maxCategories so features with > 4 distinct values are treated as continuous.\n",
    "featureIndexer =\\\n",
    "    VectorIndexer(inputCol=\"features\", outputCol=\"indexedFeatures\").fit(fv)\n"
   ]
  },
  {
   "cell_type": "code",
   "execution_count": 15,
   "metadata": {
    "collapsed": true
   },
   "outputs": [],
   "source": [
    "\n",
    "# Split the data into training and test sets (30% held out for testing)\n",
    "(trainingData, testData) = fv.randomSplit([0.7, 0.3])\n"
   ]
  },
  {
   "cell_type": "code",
   "execution_count": 16,
   "metadata": {
    "collapsed": true
   },
   "outputs": [],
   "source": [
    "\n",
    "# Train a RandomForest model.\n",
    "rf = RandomForestRegressor(featuresCol=\"indexedFeatures\", maxBins=12000)\n",
    "\n",
    "# Chain indexer and forest in a Pipeline\n",
    "pipeline = Pipeline(stages=[featureIndexer, rf])\n"
   ]
  },
  {
   "cell_type": "code",
   "execution_count": 17,
   "metadata": {
    "collapsed": true
   },
   "outputs": [],
   "source": [
    "# Train model.  This also runs the indexers.\n",
    "\n",
    "\n",
    "trainingData = trainingData.withColumn(\"label\",trainingData.CONTB_RECEIPT_AMT)\n",
    "\n",
    "\n",
    "model = pipeline.fit(trainingData)\n",
    "\n",
    "# Make predictions.\n",
    "predictions = model.transform(testData)\n"
   ]
  },
  {
   "cell_type": "code",
   "execution_count": null,
   "metadata": {
    "collapsed": true
   },
   "outputs": [],
   "source": [
    "\n",
    "# Select example rows to display.\n",
    "#predictions.select(\"prediction\", \"indexedLabel\", \"features\").show(5)\n",
    "\n",
    "predictions.select('CONTB_RECEIPT_AMT', 'prediction').show(100)\n"
   ]
  },
  {
   "cell_type": "code",
   "execution_count": 18,
   "metadata": {},
   "outputs": [
    {
     "name": "stdout",
     "output_type": "stream",
     "text": [
      "Root Mean Squared Error (RMSE) on test data = 3625.69\n",
      "RandomForestRegressionModel (uid=RandomForestRegressor_4c94ae6bc47a138b2a88) with 20 trees\n"
     ]
    }
   ],
   "source": [
    "\n",
    "# Select (prediction, true label) and compute test error\n",
    "evaluator = RegressionEvaluator(\n",
    "    labelCol=\"CONTB_RECEIPT_AMT\", predictionCol=\"prediction\", metricName=\"rmse\")\n",
    "rmse = evaluator.evaluate(predictions)\n",
    "print(\"Root Mean Squared Error (RMSE) on test data = %g\" % rmse)\n",
    "\n",
    "rfModel = model.stages[1]\n",
    "print(rfModel)  # summary only\n"
   ]
  },
  {
   "cell_type": "code",
   "execution_count": 19,
   "metadata": {},
   "outputs": [
    {
     "data": {
      "text/plain": [
       "SparseVector(8, {0: 0.0031, 1: 0.0011, 2: 0.0094, 3: 0.193, 4: 0.5185, 5: 0.0155, 6: 0.2121, 7: 0.0472})"
      ]
     },
     "execution_count": 19,
     "metadata": {},
     "output_type": "execute_result"
    }
   ],
   "source": [
    "rfModel.featureImportances"
   ]
  },
  {
   "cell_type": "code",
   "execution_count": 20,
   "metadata": {},
   "outputs": [
    {
     "name": "stdout",
     "output_type": "stream",
     "text": [
      "['LAT', 'LNG', 'CAND_NM', 'LASTNAME', 'FIRSTNAME', 'CONTBR_ST', 'CONTBR_EMPLOYER', 'CONTBR_OCCUPATION']\n"
     ]
    }
   ],
   "source": [
    "print(numeric_columns + categorical_columns)"
   ]
  },
  {
   "cell_type": "markdown",
   "metadata": {},
   "source": [
    "We see the following Variables in Order of Importnace\n",
    "1. CONTBR_ST\n",
    "2. LASTNAME\n",
    "3. FIRSTNAME\n",
    "4. CONTBR_EMPLOYER\n",
    "5. CONTBR_OCCUPATION\n",
    "\n",
    "LAT, LONG, and CAND_NM had virtually no impact."
   ]
  },
  {
   "cell_type": "code",
   "execution_count": null,
   "metadata": {
    "collapsed": true
   },
   "outputs": [],
   "source": [
    "\n",
    "# Select (prediction, true label) and compute test error\n",
    "evaluator = RegressionEvaluator(\n",
    "    labelCol=\"CONTB_RECEIPT_AMT\", predictionCol=\"prediction\", metricName=\"r2\")\n",
    "r2 = evaluator.evaluate(predictions)\n",
    "print(\"Root Mean Squared Error (RMSE) on test data = %g\" % r2)\n",
    "\n"
   ]
  },
  {
   "cell_type": "markdown",
   "metadata": {},
   "source": [
    "Negative R squared means our data fit worse than the null hypothesis."
   ]
  }
 ],
 "metadata": {
  "anaconda-cloud": {},
  "kernelspec": {
   "display_name": "Python 3",
   "language": "python",
   "name": "python3"
  },
  "language_info": {
   "codemirror_mode": {
    "name": "ipython",
    "version": 3
   },
   "file_extension": ".py",
   "mimetype": "text/x-python",
   "name": "python",
   "nbconvert_exporter": "python",
   "pygments_lexer": "ipython3",
   "version": "3.4.3"
  }
 },
 "nbformat": 4,
 "nbformat_minor": 1
}
