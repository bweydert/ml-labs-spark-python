{
 "cells": [
  {
   "cell_type": "markdown",
   "metadata": {},
   "source": [
    "[<< back to main index](../README.ipynb)\n",
    "\n",
    "# Pipeline Labs\n",
    "\n",
    "## Intro\n",
    "\n",
    "These labs are for doing pipelines\n",
    "\n",
    "## Labs\n",
    "\n",
    " * 1. Pipeline - Prosper [Jupyter Notebook](1-pipeline-prosper.ipynb)\n",
    "\n",
    "[<< back to main index](../README.ipynb)"
   ]
  }
 ],
 "metadata": {},
 "nbformat": 4,
 "nbformat_minor": 0
}
