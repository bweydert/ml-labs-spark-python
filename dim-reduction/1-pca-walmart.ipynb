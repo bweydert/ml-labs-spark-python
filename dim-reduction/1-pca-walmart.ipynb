{
 "cells": [
  {
   "cell_type": "markdown",
   "metadata": {},
   "source": [
    "# Spark MLLilb Example: Clustering\n",
    "\n",
    "Let's look at a clustering example in Spark MLLib.\n",
    "\n",
    "Here, we are going to load the mtcars dataset. This has some stats on different models of cars.  Here, we will load the CSV file as a spark dataframe, and view it."
   ]
  },
  {
   "cell_type": "code",
   "execution_count": 24,
   "metadata": {
    "collapsed": true
   },
   "outputs": [],
   "source": [
    "%matplotlib inline\n",
    "from pyspark.ml.feature import VectorAssembler\n",
    "from pyspark.ml.feature import StandardScaler\n",
    "from pyspark.ml.stat import Correlation\n",
    "from pyspark.ml.feature import PCA\n",
    "\n"
   ]
  },
  {
   "cell_type": "code",
   "execution_count": 1,
   "metadata": {
    "collapsed": true
   },
   "outputs": [],
   "source": [
    "dataset = spark.read.csv(\"../../datasets/walmart-triptype/train-transformed.csv.gz\", header=True, inferSchema=True)\n"
   ]
  },
  {
   "cell_type": "code",
   "execution_count": 7,
   "metadata": {
    "scrolled": true
   },
   "outputs": [
    {
     "name": "stdout",
     "output_type": "stream",
     "text": [
      "+-----------+--------+-------+--------+------+----------+-----------+----------+------+---------------+------+-------+-------------------+---------+----------------+--------------------+-----------------------+-----------+----------+--------------+-------------+-----+-----------+-----------+------------------+------------------+------------+---------+--------------------------+-----------------+--------+----------------------+----------+---------------+-----------------------+------------------------+---------------------+-------------------+--------------+---------------------------+----------------------+------------+----------+---------------------+---------------+----------------+---------------------+----------------+--------+---------------+----------------+----------------+-----------------+---------------------+-------------+-----------------+------------+-----------+-----------------------+------------------+---------------+-------+-------+--------+------------+-------------+-----+---------------------+--------------+------------------+----+--------+\n",
      "|VisitNumber|TripType|Weekday|NumItems|Return|1-HR PHOTO|ACCESSORIES|AUTOMOTIVE|BAKERY|BATH AND SHOWER|BEAUTY|BEDDING|BOOKS AND MAGAZINES|BOYS WEAR|BRAS & SHAPEWEAR|CAMERAS AND SUPPLIES|CANDY, TOBACCO, COOKIES|CELEBRATION|COMM BREAD|CONCEPT STORES|COOK AND DINE|DAIRY|DSD GROCERY|ELECTRONICS|FABRICS AND CRAFTS|FINANCIAL SERVICES|FROZEN FOODS|FURNITURE|GIRLS WEAR, 4-6X  AND 7-14|GROCERY DRY GOODS|HARDWARE|HEALTH AND BEAUTY AIDS|HOME DECOR|HOME MANAGEMENT|HORTICULTURE AND ACCESS|HOUSEHOLD CHEMICALS/SUPP|HOUSEHOLD PAPER GOODS|IMPULSE MERCHANDISE|INFANT APPAREL|INFANT CONSUMABLE HARDLINES|JEWELRY AND SUNGLASSES|LADIES SOCKS|LADIESWEAR|LARGE HOUSEHOLD GOODS|LAWN AND GARDEN|LIQUOR,WINE,BEER|MEAT - FRESH & FROZEN|MEDIA AND GAMING|MENSWEAR|OFFICE SUPPLIES|OPTICAL - FRAMES|OPTICAL - LENSES|OTHER DEPARTMENTS|PAINT AND ACCESSORIES|PERSONAL CARE|PETS AND SUPPLIES|PHARMACY OTC|PHARMACY RX|PLAYERS AND ELECTRONICS|PLUS AND MATERNITY|PRE PACKED DELI|PRODUCE|SEAFOOD|SEASONAL|SERVICE DELI|SHEER HOSIERY|SHOES|SLEEPWEAR/FOUNDATIONS|SPORTING GOODS|SWIMWEAR/OUTERWEAR|TOYS|WIRELESS|\n",
      "+-----------+--------+-------+--------+------+----------+-----------+----------+------+---------------+------+-------+-------------------+---------+----------------+--------------------+-----------------------+-----------+----------+--------------+-------------+-----+-----------+-----------+------------------+------------------+------------+---------+--------------------------+-----------------+--------+----------------------+----------+---------------+-----------------------+------------------------+---------------------+-------------------+--------------+---------------------------+----------------------+------------+----------+---------------------+---------------+----------------+---------------------+----------------+--------+---------------+----------------+----------------+-----------------+---------------------+-------------+-----------------+------------+-----------+-----------------------+------------------+---------------+-------+-------+--------+------------+-------------+-----+---------------------+--------------+------------------+----+--------+\n",
      "|          5|     999|      5|      -1|   1.0|       0.0|        0.0|       0.0|   0.0|            0.0|   0.0|    0.0|                0.0|      0.0|             0.0|                 0.0|                    0.0|        0.0|       0.0|           0.0|          0.0|  0.0|        0.0|        0.0|               0.0|              -1.0|         0.0|      0.0|                       0.0|              0.0|     0.0|                   0.0|       0.0|            0.0|                    0.0|                     0.0|                  0.0|                0.0|           0.0|                        0.0|                   0.0|         0.0|       0.0|                  0.0|            0.0|             0.0|                  0.0|             0.0|     0.0|            0.0|             0.0|             0.0|              0.0|                  0.0|          0.0|              0.0|         0.0|        0.0|                    0.0|               0.0|            0.0|    0.0|    0.0|     0.0|         0.0|          0.0|  0.0|                  0.0|           0.0|               0.0| 0.0|     0.0|\n",
      "|          7|      30|      5|       2|   0.0|       0.0|        0.0|       0.0|   0.0|            0.0|   0.0|    0.0|                0.0|      0.0|             0.0|                 0.0|                    0.0|        0.0|       0.0|           0.0|          0.0|  0.0|        0.0|        0.0|               0.0|               0.0|         0.0|      0.0|                       0.0|              0.0|     0.0|                   0.0|       0.0|            0.0|                    0.0|                     0.0|                  0.0|                0.0|           0.0|                        0.0|                   0.0|         0.0|       0.0|                  0.0|            0.0|             0.0|                  0.0|             0.0|     0.0|            0.0|             0.0|             0.0|              0.0|                  0.0|          1.0|              0.0|         0.0|        0.0|                    0.0|               0.0|            0.0|    0.0|    0.0|     0.0|         0.0|          0.0|  1.0|                  0.0|           0.0|               0.0| 0.0|     0.0|\n",
      "|          8|      26|      5|      28|   1.0|       0.0|        0.0|       0.0|   0.0|            0.0|   0.0|    0.0|                0.0|      0.0|             0.0|                 0.0|                    0.0|        0.0|       0.0|           0.0|          0.0|  2.0|        1.0|        0.0|               0.0|               0.0|         0.0|      0.0|                       0.0|              0.0|     0.0|                   0.0|       0.0|            0.0|                    0.0|                     1.0|                  0.0|                0.0|           0.0|                        0.0|                   0.0|         0.0|       0.0|                  0.0|            0.0|             0.0|                  1.0|             0.0|     0.0|            0.0|             0.0|             0.0|              0.0|                 18.0|          0.0|              4.0|         0.0|        0.0|                    0.0|               0.0|            0.0|    0.0|    0.0|     0.0|         0.0|          0.0|  0.0|                  0.0|           0.0|               0.0| 0.0|     0.0|\n",
      "|          9|       8|      5|       3|   0.0|       0.0|        0.0|       0.0|   0.0|            0.0|   0.0|    0.0|                0.0|      0.0|             0.0|                 0.0|                    0.0|        0.0|       0.0|           0.0|          0.0|  0.0|        0.0|        0.0|               0.0|               0.0|         0.0|      0.0|                       0.0|              0.0|     0.0|                   0.0|       0.0|            0.0|                    0.0|                     0.0|                  0.0|                1.0|           0.0|                        0.0|                   0.0|         0.0|       0.0|                  0.0|            0.0|             0.0|                  0.0|             0.0|     0.0|            0.0|             0.0|             0.0|              0.0|                  0.0|          0.0|              0.0|         0.0|        0.0|                    0.0|               0.0|            0.0|    2.0|    0.0|     0.0|         0.0|          0.0|  0.0|                  0.0|           0.0|               0.0| 0.0|     0.0|\n",
      "|         10|       8|      5|       3|   0.0|       0.0|        0.0|       0.0|   0.0|            0.0|   0.0|    0.0|                0.0|      0.0|             0.0|                 0.0|                    1.0|        0.0|       0.0|           0.0|          0.0|  0.0|        2.0|        0.0|               0.0|               0.0|         0.0|      0.0|                       0.0|              0.0|     0.0|                   0.0|       0.0|            0.0|                    0.0|                     0.0|                  0.0|                0.0|           0.0|                        0.0|                   0.0|         0.0|       0.0|                  0.0|            0.0|             0.0|                  0.0|             0.0|     0.0|            0.0|             0.0|             0.0|              0.0|                  0.0|          0.0|              0.0|         0.0|        0.0|                    0.0|               0.0|            0.0|    0.0|    0.0|     0.0|         0.0|          0.0|  0.0|                  0.0|           0.0|               0.0| 0.0|     0.0|\n",
      "|         11|      35|      5|       4|   0.0|       0.0|        0.0|       0.0|   0.0|            0.0|   0.0|    0.0|                0.0|      0.0|             0.0|                 0.0|                    0.0|        0.0|       0.0|           0.0|          0.0|  0.0|        1.0|        0.0|               0.0|               0.0|         0.0|      0.0|                       0.0|              1.0|     0.0|                   0.0|       0.0|            0.0|                    0.0|                     0.0|                  0.0|                2.0|           0.0|                        0.0|                   0.0|         0.0|       0.0|                  0.0|            0.0|             0.0|                  0.0|             0.0|     0.0|            0.0|             0.0|             0.0|              0.0|                  0.0|          0.0|              0.0|         0.0|        0.0|                    0.0|               0.0|            0.0|    0.0|    0.0|     0.0|         0.0|          0.0|  0.0|                  0.0|           0.0|               0.0| 0.0|     0.0|\n",
      "|         12|      41|      5|       7|   0.0|       0.0|        0.0|       0.0|   0.0|            0.0|   0.0|    0.0|                0.0|      2.0|             0.0|                 0.0|                    0.0|        0.0|       0.0|           0.0|          0.0|  0.0|        0.0|        0.0|               0.0|               0.0|         0.0|      0.0|                       0.0|              0.0|     0.0|                   0.0|       0.0|            0.0|                    0.0|                     2.0|                  0.0|                0.0|           0.0|                        0.0|                   0.0|         0.0|       0.0|                  0.0|            0.0|             0.0|                  0.0|             0.0|     0.0|            0.0|             0.0|             0.0|              0.0|                  0.0|          2.0|              0.0|         0.0|        0.0|                    0.0|               0.0|            0.0|    0.0|    0.0|     0.0|         0.0|          0.0|  1.0|                  0.0|           0.0|               0.0| 0.0|     0.0|\n",
      "|         15|      21|      5|       9|   0.0|       0.0|        0.0|       0.0|   0.0|            0.0|   0.0|    0.0|                0.0|      0.0|             0.0|                 0.0|                    0.0|        0.0|       0.0|           0.0|          0.0|  0.0|        0.0|        0.0|               9.0|               0.0|         0.0|      0.0|                       0.0|              0.0|     0.0|                   0.0|       0.0|            0.0|                    0.0|                     0.0|                  0.0|                0.0|           0.0|                        0.0|                   0.0|         0.0|       0.0|                  0.0|            0.0|             0.0|                  0.0|             0.0|     0.0|            0.0|             0.0|             0.0|              0.0|                  0.0|          0.0|              0.0|         0.0|        0.0|                    0.0|               0.0|            0.0|    0.0|    0.0|     0.0|         0.0|          0.0|  0.0|                  0.0|           0.0|               0.0| 0.0|     0.0|\n",
      "|         17|       6|      5|       4|   0.0|       0.0|        0.0|       0.0|   0.0|            0.0|   0.0|    0.0|                0.0|      0.0|             0.0|                 0.0|                    2.0|        0.0|       0.0|           0.0|          0.0|  0.0|        2.0|        0.0|               0.0|               0.0|         0.0|      0.0|                       0.0|              0.0|     0.0|                   0.0|       0.0|            0.0|                    0.0|                     0.0|                  0.0|                0.0|           0.0|                        0.0|                   0.0|         0.0|       0.0|                  0.0|            0.0|             0.0|                  0.0|             0.0|     0.0|            0.0|             0.0|             0.0|              0.0|                  0.0|          0.0|              0.0|         0.0|        0.0|                    0.0|               0.0|            0.0|    0.0|    0.0|     0.0|         0.0|          0.0|  0.0|                  0.0|           0.0|               0.0| 0.0|     0.0|\n",
      "|         19|      42|      5|       9|   0.0|       0.0|        1.0|       0.0|   0.0|            0.0|   0.0|    0.0|                0.0|      0.0|             0.0|                 0.0|                    0.0|        0.0|       0.0|           0.0|          0.0|  0.0|        0.0|        0.0|               1.0|               0.0|         0.0|      0.0|                       0.0|              0.0|     0.0|                   0.0|       0.0|            1.0|                    0.0|                     0.0|                  0.0|                2.0|           0.0|                        0.0|                   1.0|         0.0|       0.0|                  0.0|            0.0|             0.0|                  0.0|             0.0|     3.0|            0.0|             0.0|             0.0|              0.0|                  0.0|          0.0|              0.0|         0.0|        0.0|                    0.0|               0.0|            0.0|    0.0|    0.0|     0.0|         0.0|          0.0|  0.0|                  0.0|           0.0|               0.0| 0.0|     0.0|\n",
      "|         20|       7|      5|       3|   0.0|       0.0|        0.0|       0.0|   0.0|            0.0|   0.0|    0.0|                0.0|      0.0|             0.0|                 0.0|                    0.0|        0.0|       0.0|           0.0|          0.0|  0.0|        0.0|        0.0|               0.0|               0.0|         1.0|      0.0|                       0.0|              0.0|     0.0|                   0.0|       0.0|            0.0|                    0.0|                     0.0|                  0.0|                0.0|           0.0|                        0.0|                   0.0|         0.0|       0.0|                  0.0|            0.0|             0.0|                  0.0|             0.0|     0.0|            0.0|             0.0|             0.0|              0.0|                  0.0|          0.0|              0.0|         0.0|        0.0|                    0.0|               0.0|            0.0|    0.0|    0.0|     0.0|         2.0|          0.0|  0.0|                  0.0|           0.0|               0.0| 0.0|     0.0|\n",
      "|         23|       9|      5|       2|   0.0|       0.0|        0.0|       0.0|   0.0|            0.0|   0.0|    0.0|                0.0|      0.0|             0.0|                 0.0|                    0.0|        0.0|       0.0|           0.0|          0.0|  0.0|        0.0|        0.0|               0.0|               0.0|         0.0|      0.0|                       0.0|              0.0|     0.0|                   0.0|       0.0|            1.0|                    0.0|                     0.0|                  0.0|                0.0|           0.0|                        0.0|                   0.0|         0.0|       0.0|                  0.0|            0.0|             0.0|                  0.0|             0.0|     0.0|            0.0|             0.0|             0.0|              0.0|                  0.0|          0.0|              0.0|         0.0|        0.0|                    0.0|               0.0|            0.0|    1.0|    0.0|     0.0|         0.0|          0.0|  0.0|                  0.0|           0.0|               0.0| 0.0|     0.0|\n",
      "|         25|       8|      5|       3|   0.0|       0.0|        0.0|       0.0|   0.0|            0.0|   0.0|    0.0|                0.0|      0.0|             0.0|                 0.0|                    0.0|        0.0|       0.0|           0.0|          0.0|  0.0|        0.0|        0.0|               0.0|               0.0|         0.0|      0.0|                       0.0|              0.0|     0.0|                   0.0|       0.0|            0.0|                    0.0|                     0.0|                  0.0|                0.0|           0.0|                        2.0|                   0.0|         0.0|       0.0|                  0.0|            0.0|             0.0|                  0.0|             0.0|     0.0|            0.0|             0.0|             0.0|              0.0|                  0.0|          0.0|              0.0|         0.0|        0.0|                    0.0|               0.0|            1.0|    0.0|    0.0|     0.0|         0.0|          0.0|  0.0|                  0.0|           0.0|               0.0| 0.0|     0.0|\n",
      "|         26|      39|      5|      12|   0.0|       0.0|        0.0|       0.0|   0.0|            0.0|   0.0|    0.0|                0.0|      0.0|             0.0|                 0.0|                    0.0|        0.0|       0.0|           0.0|          2.0|  6.0|        0.0|        0.0|               0.0|               0.0|         2.0|      0.0|                       0.0|              0.0|     0.0|                   0.0|       0.0|            0.0|                    0.0|                     0.0|                  0.0|                0.0|           0.0|                        0.0|                   0.0|         0.0|       0.0|                  0.0|            0.0|             0.0|                  0.0|             0.0|     0.0|            0.0|             0.0|             0.0|              0.0|                  0.0|          0.0|              0.0|         1.0|        0.0|                    0.0|               0.0|            0.0|    1.0|    0.0|     0.0|         0.0|          0.0|  0.0|                  0.0|           0.0|               0.0| 0.0|     0.0|\n",
      "|         28|      25|      5|       8|   0.0|       0.0|        0.0|       0.0|   2.0|            0.0|   0.0|    0.0|                0.0|      0.0|             0.0|                 0.0|                    0.0|        0.0|       1.0|           0.0|          0.0|  0.0|        2.0|        0.0|               0.0|               0.0|         0.0|      0.0|                       0.0|              0.0|     0.0|                   0.0|       0.0|            0.0|                    0.0|                     0.0|                  0.0|                0.0|           0.0|                        0.0|                   0.0|         0.0|       3.0|                  0.0|            0.0|             0.0|                  0.0|             0.0|     0.0|            0.0|             0.0|             0.0|              0.0|                  0.0|          0.0|              0.0|         0.0|        0.0|                    0.0|               0.0|            0.0|    0.0|    0.0|     0.0|         0.0|          0.0|  0.0|                  0.0|           0.0|               0.0| 0.0|     0.0|\n",
      "|         29|       8|      5|       1|   0.0|       0.0|        0.0|       0.0|   0.0|            0.0|   0.0|    0.0|                0.0|      0.0|             0.0|                 0.0|                    0.0|        0.0|       0.0|           0.0|          0.0|  0.0|        1.0|        0.0|               0.0|               0.0|         0.0|      0.0|                       0.0|              0.0|     0.0|                   0.0|       0.0|            0.0|                    0.0|                     0.0|                  0.0|                0.0|           0.0|                        0.0|                   0.0|         0.0|       0.0|                  0.0|            0.0|             0.0|                  0.0|             0.0|     0.0|            0.0|             0.0|             0.0|              0.0|                  0.0|          0.0|              0.0|         0.0|        0.0|                    0.0|               0.0|            0.0|    0.0|    0.0|     0.0|         0.0|          0.0|  0.0|                  0.0|           0.0|               0.0| 0.0|     0.0|\n",
      "|         30|       9|      5|       1|   0.0|       0.0|        0.0|       0.0|   0.0|            0.0|   0.0|    0.0|                0.0|      0.0|             0.0|                 0.0|                    0.0|        0.0|       0.0|           0.0|          0.0|  0.0|        0.0|        0.0|               0.0|               0.0|         0.0|      0.0|                       0.0|              0.0|     0.0|                   0.0|       0.0|            0.0|                    0.0|                     0.0|                  0.0|                0.0|           0.0|                        0.0|                   0.0|         0.0|       1.0|                  0.0|            0.0|             0.0|                  0.0|             0.0|     0.0|            0.0|             0.0|             0.0|              0.0|                  0.0|          0.0|              0.0|         0.0|        0.0|                    0.0|               0.0|            0.0|    0.0|    0.0|     0.0|         0.0|          0.0|  0.0|                  0.0|           0.0|               0.0| 0.0|     0.0|\n",
      "|         31|       8|      5|       2|   0.0|       0.0|        0.0|       0.0|   1.0|            0.0|   0.0|    0.0|                0.0|      0.0|             0.0|                 0.0|                    0.0|        0.0|       0.0|           0.0|          0.0|  1.0|        0.0|        0.0|               0.0|               0.0|         0.0|      0.0|                       0.0|              0.0|     0.0|                   0.0|       0.0|            0.0|                    0.0|                     0.0|                  0.0|                0.0|           0.0|                        0.0|                   0.0|         0.0|       0.0|                  0.0|            0.0|             0.0|                  0.0|             0.0|     0.0|            0.0|             0.0|             0.0|              0.0|                  0.0|          0.0|              0.0|         0.0|        0.0|                    0.0|               0.0|            0.0|    0.0|    0.0|     0.0|         0.0|          0.0|  0.0|                  0.0|           0.0|               0.0| 0.0|     0.0|\n",
      "|         32|       8|      5|       1|   0.0|       0.0|        0.0|       0.0|   0.0|            0.0|   0.0|    0.0|                0.0|      0.0|             0.0|                 0.0|                    0.0|        0.0|       0.0|           0.0|          0.0|  0.0|        0.0|        0.0|               0.0|               0.0|         0.0|      0.0|                       0.0|              0.0|     0.0|                   0.0|       0.0|            0.0|                    0.0|                     0.0|                  0.0|                1.0|           0.0|                        0.0|                   0.0|         0.0|       0.0|                  0.0|            0.0|             0.0|                  0.0|             0.0|     0.0|            0.0|             0.0|             0.0|              0.0|                  0.0|          0.0|              0.0|         0.0|        0.0|                    0.0|               0.0|            0.0|    0.0|    0.0|     0.0|         0.0|          0.0|  0.0|                  0.0|           0.0|               0.0| 0.0|     0.0|\n",
      "|         33|       8|      5|       3|   0.0|       0.0|        0.0|       0.0|   0.0|            0.0|   0.0|    0.0|                0.0|      0.0|             0.0|                 0.0|                    0.0|        0.0|       0.0|           0.0|          0.0|  0.0|        1.0|        0.0|               0.0|               0.0|         0.0|      0.0|                       0.0|              2.0|     0.0|                   0.0|       0.0|            0.0|                    0.0|                     0.0|                  0.0|                0.0|           0.0|                        0.0|                   0.0|         0.0|       0.0|                  0.0|            0.0|             0.0|                  0.0|             0.0|     0.0|            0.0|             0.0|             0.0|              0.0|                  0.0|          0.0|              0.0|         0.0|        0.0|                    0.0|               0.0|            0.0|    0.0|    0.0|     0.0|         0.0|          0.0|  0.0|                  0.0|           0.0|               0.0| 0.0|     0.0|\n",
      "+-----------+--------+-------+--------+------+----------+-----------+----------+------+---------------+------+-------+-------------------+---------+----------------+--------------------+-----------------------+-----------+----------+--------------+-------------+-----+-----------+-----------+------------------+------------------+------------+---------+--------------------------+-----------------+--------+----------------------+----------+---------------+-----------------------+------------------------+---------------------+-------------------+--------------+---------------------------+----------------------+------------+----------+---------------------+---------------+----------------+---------------------+----------------+--------+---------------+----------------+----------------+-----------------+---------------------+-------------+-----------------+------------+-----------+-----------------------+------------------+---------------+-------+-------+--------+------------+-------------+-----+---------------------+--------------+------------------+----+--------+\n",
      "only showing top 20 rows\n",
      "\n"
     ]
    }
   ],
   "source": [
    "dataset.show()"
   ]
  },
  {
   "cell_type": "markdown",
   "metadata": {},
   "source": [
    "## Creating Vectors\n",
    "\n",
    "Now that we have ourselves a dataframe, let's work on turning it into vectors.  We're going to vectorize 2 columns:\n",
    "\n",
    "1. MPG\n",
    "2. Number of cylineders.\n",
    "\n",
    "What we'll do, is we'll use the VectorAssembler class to create a new column by the name of features. This will be a Vector."
   ]
  },
  {
   "cell_type": "code",
   "execution_count": 5,
   "metadata": {
    "collapsed": true
   },
   "outputs": [],
   "source": []
  },
  {
   "cell_type": "code",
   "execution_count": 19,
   "metadata": {},
   "outputs": [
    {
     "name": "stdout",
     "output_type": "stream",
     "text": [
      "['Weekday', 'NumItems', 'Return', '1-HR PHOTO', 'ACCESSORIES', 'AUTOMOTIVE', 'BAKERY', 'BATH AND SHOWER', 'BEAUTY', 'BEDDING', 'BOOKS AND MAGAZINES', 'BOYS WEAR', 'BRAS & SHAPEWEAR', 'CAMERAS AND SUPPLIES', 'CANDY, TOBACCO, COOKIES', 'CELEBRATION', 'COMM BREAD', 'CONCEPT STORES', 'COOK AND DINE', 'DAIRY', 'DSD GROCERY', 'ELECTRONICS', 'FABRICS AND CRAFTS', 'FINANCIAL SERVICES', 'FROZEN FOODS', 'FURNITURE', 'GIRLS WEAR, 4-6X  AND 7-14', 'GROCERY DRY GOODS', 'HARDWARE', 'HEALTH AND BEAUTY AIDS', 'HOME DECOR', 'HOME MANAGEMENT', 'HORTICULTURE AND ACCESS', 'HOUSEHOLD CHEMICALS/SUPP', 'HOUSEHOLD PAPER GOODS', 'IMPULSE MERCHANDISE', 'INFANT APPAREL', 'INFANT CONSUMABLE HARDLINES', 'JEWELRY AND SUNGLASSES', 'LADIES SOCKS', 'LADIESWEAR', 'LARGE HOUSEHOLD GOODS', 'LAWN AND GARDEN', 'LIQUOR,WINE,BEER', 'MEAT - FRESH & FROZEN', 'MEDIA AND GAMING', 'MENSWEAR', 'OFFICE SUPPLIES', 'OPTICAL - FRAMES', 'OPTICAL - LENSES', 'OTHER DEPARTMENTS', 'PAINT AND ACCESSORIES', 'PERSONAL CARE', 'PETS AND SUPPLIES', 'PHARMACY OTC', 'PHARMACY RX', 'PLAYERS AND ELECTRONICS', 'PLUS AND MATERNITY', 'PRE PACKED DELI', 'PRODUCE', 'SEAFOOD', 'SEASONAL', 'SERVICE DELI', 'SHEER HOSIERY', 'SHOES', 'SLEEPWEAR/FOUNDATIONS', 'SPORTING GOODS', 'SWIMWEAR/OUTERWEAR', 'TOYS', 'WIRELESS']\n"
     ]
    }
   ],
   "source": [
    "columns = dataset.columns\n",
    "columns.remove('VisitNumber')\n",
    "columns.remove('TripType')\n",
    "\n",
    "print(columns)"
   ]
  },
  {
   "cell_type": "code",
   "execution_count": 20,
   "metadata": {
    "collapsed": true
   },
   "outputs": [],
   "source": [
    "\n",
    "assembler = VectorAssembler(inputCols=columns, outputCol=\"features\")\n",
    "featureVector = assembler.transform(dataset)\n"
   ]
  },
  {
   "cell_type": "code",
   "execution_count": 21,
   "metadata": {},
   "outputs": [
    {
     "name": "stdout",
     "output_type": "stream",
     "text": [
      "Vector: Row(features=SparseVector(70, {0: 5.0, 1: -1.0, 2: 1.0, 23: -1.0}))\n",
      "\n",
      "Vector: Row(features=SparseVector(70, {0: 5.0, 1: 2.0, 52: 1.0, 64: 1.0}))\n",
      "\n",
      "Vector: Row(features=SparseVector(70, {0: 5.0, 1: 28.0, 2: 1.0, 19: 2.0, 20: 1.0, 33: 1.0, 44: 1.0, 51: 18.0, 53: 4.0}))\n",
      "\n",
      "Vector: Row(features=SparseVector(70, {0: 5.0, 1: 3.0, 35: 1.0, 59: 2.0}))\n",
      "\n",
      "Vector: Row(features=SparseVector(70, {0: 5.0, 1: 3.0, 14: 1.0, 20: 2.0}))\n",
      "\n",
      "Vector: Row(features=SparseVector(70, {0: 5.0, 1: 4.0, 20: 1.0, 27: 1.0, 35: 2.0}))\n",
      "\n",
      "Vector: Row(features=SparseVector(70, {0: 5.0, 1: 7.0, 11: 2.0, 33: 2.0, 52: 2.0, 64: 1.0}))\n",
      "\n",
      "Vector: Row(features=SparseVector(70, {0: 5.0, 1: 9.0, 22: 9.0}))\n",
      "\n",
      "Vector: Row(features=SparseVector(70, {0: 5.0, 1: 4.0, 14: 2.0, 20: 2.0}))\n",
      "\n",
      "Vector: Row(features=SparseVector(70, {0: 5.0, 1: 9.0, 4: 1.0, 22: 1.0, 31: 1.0, 35: 2.0, 38: 1.0, 46: 3.0}))\n",
      "\n"
     ]
    }
   ],
   "source": [
    "for row in featureVector.select('features').take(10):\n",
    "    print(\"Vector: %s\\n\" % (str(row)))"
   ]
  },
  {
   "cell_type": "markdown",
   "metadata": {},
   "source": [
    "Note the output. These are Sparse (not dense) Vectors.  That's because we our data IS sparse, we have relatively few of the variables at any given time."
   ]
  },
  {
   "cell_type": "code",
   "execution_count": 22,
   "metadata": {},
   "outputs": [
    {
     "name": "stdout",
     "output_type": "stream",
     "text": [
      "Pearson correlation matrix:\n",
      "DenseMatrix([[ 1.        ,  0.04112535,  0.00239757, ...,  0.00603346,\n",
      "               0.02650173,  0.00378734],\n",
      "             [ 0.04112535,  1.        , -0.04703964, ...,  0.03728566,\n",
      "               0.10396361, -0.0131882 ],\n",
      "             [ 0.00239757, -0.04703964,  1.        , ..., -0.02663534,\n",
      "              -0.02400574, -0.03420455],\n",
      "             ..., \n",
      "             [ 0.00603346,  0.03728566, -0.02663534, ...,  1.        ,\n",
      "               0.01531549, -0.00357236],\n",
      "             [ 0.02650173,  0.10396361, -0.02400574, ...,  0.01531549,\n",
      "               1.        ,  0.00143963],\n",
      "             [ 0.00378734, -0.0131882 , -0.03420455, ..., -0.00357236,\n",
      "               0.00143963,  1.        ]])\n"
     ]
    }
   ],
   "source": [
    "## Checking the correlation matrix of the data.\n",
    "\n",
    "r1 = Correlation.corr(featureVector, \"features\").head()\n",
    "print(\"Pearson correlation matrix:\\n\" + str(r1[0]))\n"
   ]
  },
  {
   "cell_type": "markdown",
   "metadata": {},
   "source": [
    "Note that there are many correlated dimensions in the original dataset.  We can identify this by the nonzero values in the correlation matrix.  Naturally, dimensions are always related to themselves with a 1."
   ]
  },
  {
   "cell_type": "markdown",
   "metadata": {},
   "source": [
    "## Scaling\n",
    "\n",
    "We need to scale our features so we do not have one dimension dominate.\n",
    "\n"
   ]
  },
  {
   "cell_type": "code",
   "execution_count": 18,
   "metadata": {},
   "outputs": [
    {
     "name": "stdout",
     "output_type": "stream",
     "text": [
      "+--------------------+--------------------+\n",
      "|            features|      scaledFeatures|\n",
      "+--------------------+--------------------+\n",
      "|(70,[0,1,2,23],[5...|(70,[0,1,2,23],[2...|\n",
      "|(70,[0,1,52,64],[...|(70,[0,1,52,64],[...|\n",
      "|(70,[0,1,2,19,20,...|(70,[0,1,2,19,20,...|\n",
      "|(70,[0,1,35,59],[...|(70,[0,1,35,59],[...|\n",
      "|(70,[0,1,14,20],[...|(70,[0,1,14,20],[...|\n",
      "|(70,[0,1,20,27,35...|(70,[0,1,20,27,35...|\n",
      "|(70,[0,1,11,33,52...|(70,[0,1,11,33,52...|\n",
      "|(70,[0,1,22],[5.0...|(70,[0,1,22],[2.4...|\n",
      "|(70,[0,1,14,20],[...|(70,[0,1,14,20],[...|\n",
      "|(70,[0,1,4,22,31,...|(70,[0,1,4,22,31,...|\n",
      "|(70,[0,1,24,62],[...|(70,[0,1,24,62],[...|\n",
      "|(70,[0,1,31,59],[...|(70,[0,1,31,59],[...|\n",
      "|(70,[0,1,37,58],[...|(70,[0,1,37,58],[...|\n",
      "|(70,[0,1,18,19,24...|(70,[0,1,18,19,24...|\n",
      "|(70,[0,1,6,16,20,...|(70,[0,1,6,16,20,...|\n",
      "|(70,[0,1,20],[5.0...|(70,[0,1,20],[2.4...|\n",
      "|(70,[0,1,40],[5.0...|(70,[0,1,40],[2.4...|\n",
      "|(70,[0,1,6,19],[5...|(70,[0,1,6,19],[2...|\n",
      "|(70,[0,1,35],[5.0...|(70,[0,1,35],[2.4...|\n",
      "|(70,[0,1,20,27],[...|(70,[0,1,20,27],[...|\n",
      "+--------------------+--------------------+\n",
      "only showing top 20 rows\n",
      "\n"
     ]
    }
   ],
   "source": [
    "scaler = StandardScaler(inputCol=\"features\", outputCol=\"scaledFeatures\",\n",
    "                        withStd=True, withMean=False)\n",
    "\n",
    "# Compute summary statistics by fitting the StandardScaler\n",
    "scalerModel = scaler.fit(featureVector)\n",
    "\n",
    "# Normalize each feature to have unit standard deviation.\n",
    "ScaledFeatures = scalerModel.transform(featureVector)\n",
    "ScaledFeatures.select('features', 'scaledFeatures').show()"
   ]
  },
  {
   "cell_type": "markdown",
   "metadata": {},
   "source": [
    "## Running PCA\n",
    "\n",
    "Now we will run PCA to reduce and uncorrelate dimensions.  "
   ]
  },
  {
   "cell_type": "code",
   "execution_count": 26,
   "metadata": {},
   "outputs": [],
   "source": [
    "pca = PCA(k=5, inputCol=\"scaledFeatures\", outputCol=\"pcaFeatures\")\n",
    "model = pca.fit(ScaledFeatures)\n",
    "pcaFeatures = model.transform(ScaledFeatures).select(\"pcaFeatures\")"
   ]
  },
  {
   "cell_type": "markdown",
   "metadata": {},
   "source": [
    "Let's take a look at the transformed dataset.  let's look at a distribution of our transformed dataset"
   ]
  },
  {
   "cell_type": "markdown",
   "metadata": {},
   "source": [
    "## Re-Running the Correlation Matrix"
   ]
  },
  {
   "cell_type": "code",
   "execution_count": 29,
   "metadata": {},
   "outputs": [
    {
     "name": "stdout",
     "output_type": "stream",
     "text": [
      "Pearson correlation matrix:\n",
      "DenseMatrix([[  1.00000000e+00,   2.19178051e-15,  -1.96118809e-15,\n",
      "                1.19928863e-14,  -7.16527547e-16],\n",
      "             [  2.19178051e-15,   1.00000000e+00,   4.94598957e-15,\n",
      "               -1.55774434e-14,  -6.85746261e-15],\n",
      "             [ -1.96118809e-15,   4.94598957e-15,   1.00000000e+00,\n",
      "               -8.64329987e-15,  -2.69051328e-15],\n",
      "             [  1.19928863e-14,  -1.55774434e-14,  -8.64329987e-15,\n",
      "                1.00000000e+00,   7.28128485e-15],\n",
      "             [ -7.16527547e-16,  -6.85746261e-15,  -2.69051328e-15,\n",
      "                7.28128485e-15,   1.00000000e+00]])\n"
     ]
    }
   ],
   "source": [
    "## Checking the correlation matrix of the data.\n",
    "\n",
    "r1 = Correlation.corr(pcaFeatures, \"pcaFeatures\").head()\n",
    "print(\"Pearson correlation matrix:\\n\" + str(r1[0]))\n"
   ]
  },
  {
   "cell_type": "markdown",
   "metadata": {},
   "source": [
    "Note the very small, close to zero correlations in the matrix.  The 5 dimensions are for all practical purposes independent and orthogonal."
   ]
  }
 ],
 "metadata": {
  "anaconda-cloud": {},
  "kernelspec": {
   "display_name": "Python 3",
   "language": "python",
   "name": "python3"
  },
  "language_info": {
   "codemirror_mode": {
    "name": "ipython",
    "version": 3
   },
   "file_extension": ".py",
   "mimetype": "text/x-python",
   "name": "python",
   "nbconvert_exporter": "python",
   "pygments_lexer": "ipython3",
   "version": "3.4.3"
  }
 },
 "nbformat": 4,
 "nbformat_minor": 1
}
