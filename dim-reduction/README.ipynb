{
 "cells": [
  {
   "cell_type": "markdown",
   "metadata": {},
   "source": [
    "[<< back to main index](../README.md)\n",
    "\n",
    "# Dimensionality Reduction Labs\n",
    "\n",
    "## Intro\n",
    "\n",
    "These labs are for reducing dimensionality\n",
    "\n",
    "\n",
    "## Labs\n",
    "\n",
    " * 1. PCA - Walmart [Jupyter Notebook](1-pca-walmart.ipynb)\n",
    "\n",
    "[<< back to main index](../README.md)"
   ]
  }
 ],
 "metadata": {},
 "nbformat": 4,
 "nbformat_minor": 0
}
